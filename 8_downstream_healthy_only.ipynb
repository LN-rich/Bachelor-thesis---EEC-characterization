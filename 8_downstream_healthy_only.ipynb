{
 "cells": [
  {
   "cell_type": "markdown",
   "metadata": {},
   "source": [
    "# Downstream analyses healthy\n",
    "\n",
    "Hélène Reich 05/08/2024\n",
    "\n",
    "- EEC subclusters and DGE\n",
    "- ISC,TA and Progenitors subclusters and DGE\n",
    "- Paneth, Paneth-Goblet and Progenitors subclusters and DGE"
   ]
  },
  {
   "cell_type": "code",
   "execution_count": null,
   "metadata": {},
   "outputs": [],
   "source": [
    "# General\n",
    "import scipy as sci\n",
    "import numpy as np\n",
    "import pandas as pd\n",
    "import logging\n",
    "import time\n",
    "import pickle\n",
    "from itertools import chain\n",
    "import h5py\n",
    "import scipy.sparse as sparse\n",
    "import anndata as ad\n",
    "import gc\n",
    "import scipy.stats as stats\n",
    "import torch\n",
    "\n",
    "# Plotting\n",
    "import matplotlib.pyplot as plt\n",
    "import matplotlib as mpl\n",
    "import matplotlib.colors as mcolors\n",
    "from matplotlib import rcParams\n",
    "from matplotlib.pyplot import rc_context\n",
    "from matplotlib import cm\n",
    "import seaborn as sb\n",
    "\n",
    "# Analysis\n",
    "import scanpy as sc\n",
    "import scanpy.external as sce\n",
    "import scvi\n"
   ]
  },
  {
   "cell_type": "code",
   "execution_count": null,
   "metadata": {},
   "outputs": [],
   "source": [
    "# Warnings\n",
    "import warnings\n",
    "warnings.filterwarnings('ignore') #(action='once')"
   ]
  },
  {
   "cell_type": "markdown",
   "metadata": {},
   "source": [
    "## setup matplotlib"
   ]
  },
  {
   "cell_type": "code",
   "execution_count": null,
   "metadata": {},
   "outputs": [],
   "source": [
    "# Settings\n",
    "\n",
    "## Directory\n",
    "base_dir = '/mnt/hdd/Notebooks/Gut_project/'\n",
    "sc.settings.figdir = base_dir + 'Figures'\n",
    "sc.settings.cachedir = base_dir + 'Cache'\n",
    "\n",
    "## Scanpy settings\n",
    "sc.settings.verbosity = 3\n",
    "sc.logging.print_header()\n",
    "sc.logging.print_versions()\n",
    "\n",
    "import warnings\n",
    "warnings.filterwarnings('ignore')"
   ]
  },
  {
   "cell_type": "code",
   "execution_count": null,
   "metadata": {},
   "outputs": [],
   "source": [
    "%run utils.ipynb"
   ]
  },
  {
   "cell_type": "code",
   "execution_count": null,
   "metadata": {},
   "outputs": [],
   "source": [
    "mymap = load_RdOrYl_cmap_settings(transparent=False)"
   ]
  },
  {
   "cell_type": "markdown",
   "metadata": {},
   "source": [
    "## Functions"
   ]
  },
  {
   "cell_type": "code",
   "execution_count": null,
   "metadata": {},
   "outputs": [],
   "source": [
    "def get_diff_exprs_DElegate(\n",
    "    adata=None, \n",
    "    groupby=None, # groups/condtions to test (e.g stage, genotype, ...)\n",
    "    groups_restrict=None, #restrict test to gives cell type or cluster\n",
    "    restrict_to=None, #identity of cell type the should be restricted to. e.g Beta\n",
    "    layer='raw_counts',\n",
    "#     group_column = None, \n",
    "#     replicate_column = None, \n",
    "    method = \"edger\", \n",
    "    filter_ambient_genes=False, \n",
    "    rank_genes_groups_key=None, # rank genes group key with markers for groups_restrict\n",
    "    get_marker=False, # run to rank_genes_groups to identify markers\n",
    "    min_gene_score=0, # min score a cluster marker should have to be cluster-specific\n",
    "    min_cluster_size = 100, \n",
    "    min_frac_cells = 0.05,\n",
    "    sample_key=None, # key for samples/replicates\n",
    "    #additional_variables=[],  # which metadata to keep, e.g. gender, age, etc.\n",
    "    #replicates_per_sample=3, # number of pseudoreplicates/sample\n",
    "    #min_cell_per_sample=30,\n",
    "    #aggr_method='sum',\n",
    "    plot=True,\n",
    "    return_results='dict' # or 'top_table'\n",
    "):\n",
    "    # copy adata\n",
    "    adata_temp = adata.copy()\n",
    "    \n",
    "#     # set selected layer to .X\n",
    "#     if layer is not None:\n",
    "#         adata_temp.X = adata_temp.layers[layer].copy()\n",
    "\n",
    "    # create results dict and add parametes\n",
    "    results = dict()\n",
    "    results['method'] = 'DElegate_pseudobulk_' + method\n",
    "    results['groupby'] = groupby\n",
    "    results['groupby_categories'] = []\n",
    "    results['groups_restrict'] = groups_restrict\n",
    "    if groups_restrict is not None:\n",
    "        results['groups_restrict_categories'] = list(adata_temp.obs[groups_restrict].cat.categories)\n",
    "    if (groups_restrict is not None) & (restrict_to is not None):\n",
    "        results['restrict_to'] = restrict_to\n",
    "    else:\n",
    "        results['restrict_to'] = ''\n",
    "    results['layer'] = layer\n",
    "    results['min_cluster_size'] = min_cluster_size\n",
    "    results['min_frac_cells'] = min_frac_cells\n",
    "    \n",
    "    # check if cluster of interest (restrict_to) has enough cells\n",
    "    if groups_restrict is not None:\n",
    "        if adata_temp.obs[groups_restrict].value_counts()[restrict_to] < min_cluster_size:\n",
    "            #print('Group has less than ' + str(min_cluster_size) + ' cells.')\n",
    "            raise ValueError('Group has less than ' + str(min_cluster_size) + ' cells.') \n",
    "    \n",
    "    # check if key for rank genes groups for the group containing the cluster of interest (groups_restrict) is provided -> rank_genes_group if not\n",
    "    if (rank_genes_groups_key == None) & (get_marker):\n",
    "        sc.tl.rank_genes_groups(adata_temp, groupby=groups_restrict)\n",
    "        rank_genes_groups_key = 'rank_genes_groups'\n",
    "    \n",
    "    # subset adata to group provided in restrict_to\n",
    "    if restrict_to is None:\n",
    "        adata_temp_test = adata_temp.copy()\n",
    "    else:\n",
    "        adata_temp_test = adata_temp[adata_temp.obs[groups_restrict].isin([restrict_to])].copy()\n",
    "    \n",
    "    groupby_categories = list(adata_temp_test.obs[groupby].cat.categories)\n",
    "    results['groupby_categories'] = groupby_categories\n",
    "    \n",
    "    groupby_colors = list(adata_temp_test.uns[groupby + '_colors'])\n",
    "    results['groupby_colors'] = groupby_colors\n",
    "    \n",
    "    # filter genes expressed in few cells\n",
    "    sc.pp.filter_genes(adata_temp_test, min_cells=adata_temp_test.shape[0]*min_frac_cells)\n",
    "    \n",
    "    # filter ambient genes\n",
    "    if filter_ambient_genes:\n",
    "        if rank_genes_groups_key == None:\n",
    "            ambi_genes_remove = list(adata_temp.var_names[adata_temp.var_names.isin(list(adata_temp[:,adata_temp.var['is_ambient'] == True].var_names))])\n",
    "            adata_temp_test = adata_temp_test[:,~adata_temp_test.var_names.isin(ambi_genes_remove)]\n",
    "            print('\\nRemoving ambient genes from analysis: ', ambi_genes_remove)\n",
    "            results['ambient_genes_removed'] = ambi_genes_remove\n",
    "        else:\n",
    "            ambi_genes = list(adata_temp.var_names[adata_temp.var_names.isin(list(adata_temp[:,adata_temp.var['is_ambient'] == True].var_names))])\n",
    "            marker_genes = list(adata_temp.uns[rank_genes_groups_key]['names'][restrict_to][adata_temp.uns[rank_genes_groups_key]['scores'][restrict_to] > min_gene_score])\n",
    "            ambi_genes_remove = list(set(ambi_genes).difference(set(marker_genes)))\n",
    "            adata_temp_test = adata_temp_test[:,~adata_temp_test.var_names.isin(ambi_genes_remove)]\n",
    "            print('\\nRemoving ambient genes from analysis: ', ambi_genes_remove)\n",
    "            print('\\nKeeping group-specific ambient genes: ', set(ambi_genes).difference(set(ambi_genes_remove)),'\\n')\n",
    "            results['ambient_genes_removed'] = ambi_genes_remove\n",
    "            results['ambient_genes_kept'] = list(set(ambi_genes).difference(set(ambi_genes_remove)))\n",
    "    \n",
    "    results['background_genes'] = list(adata_temp_test.var_names)\n",
    "    \n",
    "    results['n_genes'] = adata_temp_test.shape[1]\n",
    "    results['n_cells'] = adata_temp_test.shape[0]\n",
    "    \n",
    "    # run edgeR\n",
    "    print('\\nRunning DElegate...')\n",
    "    top_table = run_DElegate_findDE(adata_temp_test, \n",
    "                                    layer = layer, \n",
    "                                    group_column=groupby, \n",
    "                                    replicate_column=sample_key, \n",
    "                                    compare=[groupby_categories[0], groupby_categories[1]], \n",
    "                                    method = \"edger\", \n",
    "                                    order_results = True, \n",
    "                                    verbosity = 1, \n",
    "                                    n_core = 64, \n",
    "                                    max_memory = 4)\n",
    "    \n",
    "    if return_results == 'dict':\n",
    "        # convert results\n",
    "        print('\\nConverting results...')\n",
    "        results = DElegate_to_results(top_table, \n",
    "                                   results_dict=results,\n",
    "                                   ident_1=groupby_categories[0],\n",
    "                                   ident_2=groupby_categories[1],\n",
    "                                   ident_1_color=groupby_colors[0],\n",
    "                                   ident_2_color=groupby_colors[1],\n",
    "                                   plot=plot,\n",
    "                                   plot_logfc_limit = 10,\n",
    "                                   log_pvals_adj_limit = 300,\n",
    "                                   z_logfc_cut_off=0.5,\n",
    "                                   z_pval_cut_off=0.25)\n",
    "    \n",
    "    del adata_temp\n",
    "    del adata_temp_test\n",
    "    \n",
    "    gc.collect()\n",
    "    \n",
    "    if return_results == 'dict':\n",
    "        return results\n",
    "    elif return_results == 'top_table':\n",
    "        return top_table\n",
    "    \n",
    "    \n",
    "\n",
    "\n",
    "\n",
    "\n",
    "##################################################################################################################################################################################\n",
    "##################################################################################################################################################################################\n",
    "##################################################################################################################################################################################\n",
    "##################################################################################################################################################################################\n",
    "\n",
    "\n",
    "    \n",
    "    \n",
    "    \n",
    "def DElegate_to_results(results_table, \n",
    "                     results_dict=dict(),\n",
    "                     ident_1=None,\n",
    "                     ident_2=None,\n",
    "                     ident_1_color='#1f77b4',\n",
    "                     ident_2_color='#ff7f0e',\n",
    "                     plot=True,\n",
    "                     plot_logfc_limit = 10,\n",
    "                     log_pvals_adj_limit = 300,\n",
    "                     z_logfc_cut_off=0.5,\n",
    "                     z_pval_cut_off=0.25\n",
    "):\n",
    "    results=results_dict\n",
    "    names=list(results_table['feature'])\n",
    "    logfc=np.array(results_table['log_fc'], dtype='float64')\n",
    "    logexprs=np.array(results_table['ave_expr'], dtype='float64')\n",
    "    pvals_adj=np.array(results_table['padj'], dtype='float64')\n",
    "    log_pvals_adj = -np.log10(pvals_adj)\n",
    "    log_pvals_adj[log_pvals_adj > log_pvals_adj_limit] = log_pvals_adj_limit\n",
    "    logfc_limit = logfc.copy()\n",
    "    logfc_limit[logfc_limit > plot_logfc_limit] = plot_logfc_limit\n",
    "    logfc_limit[logfc_limit < -plot_logfc_limit] = -plot_logfc_limit\n",
    "\n",
    "    table={'names': names, 'logfc': logfc, 'logexprs': logexprs, 'pvals_adj': pvals_adj, 'log_pvals_adj': log_pvals_adj, 'logfc_limit': logfc_limit}\n",
    "    table = pd.DataFrame(data=table)\n",
    "    table = table.sort_values(by=['pvals_adj'], ascending=True)\n",
    "    table = table.sort_values(by=['logfc'], ascending=True)\n",
    "    results[ident_1] = table #.loc[(abs(table['logfc']) >= min_logfc) & (table['pvals_adj'] <= max_pval),:]\n",
    "\n",
    "    table={'names': names, 'logfc': -logfc, 'logexprs': logexprs, 'pvals_adj': pvals_adj, 'log_pvals_adj': log_pvals_adj, 'logfc_limit': -logfc_limit}\n",
    "    table = pd.DataFrame(data=table)\n",
    "    table = table.sort_values(by=['pvals_adj'], ascending=True)\n",
    "    table = table.sort_values(by=['logfc'], ascending=True)\n",
    "    results[ident_2] = table\n",
    "\n",
    "    # find cut offs\n",
    "    # To DO:\n",
    "    # * avoid error when cut-off cannot be found. e.g. all p-val == 1. \n",
    "    # * set pval_cut_off to 0.05 if larger cut off is found  \n",
    "    try:\n",
    "        logfc_cut_off = round(min(abs(results[ident_1]['logfc'])[stats.zscore(abs(results[ident_1]['logfc'])) > z_logfc_cut_off]),1) \n",
    "    except:\n",
    "        logfc_cut_off = 0.5\n",
    "        \n",
    "    try:\n",
    "        pval_cut_off = round(min(results[ident_1]['log_pvals_adj'][stats.zscore(results[ident_1]['log_pvals_adj']) > z_pval_cut_off]),0)\n",
    "    except:\n",
    "        pval_cut_off = -np.log10(0.05)\n",
    "        \n",
    "    if pval_cut_off < -np.log10(0.05):\n",
    "        pval_cut_off = -np.log10(0.05)\n",
    "        \n",
    "    #logfc_cut_off = round(min(abs(results[ident_1]['logfc'])[stats.zscore(abs(results[ident_1]['logfc'])) > z_logfc_cut_off]),1) \n",
    "    #pval_cut_off = round(min(results[ident_1]['log_pvals_adj'][stats.zscore(results[ident_1]['log_pvals_adj']) > z_pval_cut_off]),0)\n",
    "\n",
    "    results['logfc_cut_off'] = logfc_cut_off\n",
    "    results['pval_cut_off'] = pval_cut_off\n",
    "\n",
    "    if plot:\n",
    "\n",
    "        n_diff_logfc = sum(abs(results[ident_1]['logfc']) > logfc_cut_off)\n",
    "        n_up_logfc = sum(results[ident_1]['logfc'] > logfc_cut_off)\n",
    "        n_down_logfc = sum(results[ident_1]['logfc'] < -logfc_cut_off)\n",
    "\n",
    "        with rc_context({'figure.figsize': (8, 2)}):\n",
    "            sb.distplot(results[ident_1]['logfc'], kde=True, bins=100).set_xlabel('$log_2$ Fold Change')\n",
    "            plt.axvline(logfc_cut_off, 0, 1)\n",
    "            plt.axvline(-logfc_cut_off, 0, 1)\n",
    "            plt.annotate('Down-regulated\\n' + str(n_down_logfc), xy=(0.02, 0.92), xycoords='axes fraction', va=\"top\", ha=\"left\")\n",
    "            plt.annotate('Up-regulated\\n' + str(n_up_logfc), xy=(0.98, 0.92), xycoords='axes fraction', va=\"top\", ha=\"right\")\n",
    "            plt.title(label='$log_2$ Fold Change (' + str(n_diff_logfc) + ' genes passing threshold of ' + str(logfc_cut_off) + ')', fontweight='bold')\n",
    "            plt.show()\n",
    "\n",
    "        #############################################################################################################\n",
    "        #############################################################################################################\n",
    "\n",
    "        n_diff_pval = sum(abs(results[ident_1]['log_pvals_adj']) > pval_cut_off)\n",
    "        n_up_pval = sum(results[ident_1]['log_pvals_adj'] > pval_cut_off)\n",
    "        n_down_pval = sum(results[ident_1]['log_pvals_adj'] < -pval_cut_off)\n",
    "\n",
    "        with rc_context({'figure.figsize': (8, 2)}):\n",
    "            sb.distplot(results[ident_1]['log_pvals_adj'], kde=True, bins=100).set_xlabel('$-log_{10}$ Adjusted p-Value')\n",
    "            plt.axvline(pval_cut_off, 0, 1)\n",
    "            plt.title(label='$-log_{10}$ Adjusted p-Value (' + str(n_diff_pval) + ' genes passing threshold of ' + str(pval_cut_off) + ')', fontweight='bold')\n",
    "            plt.show()\n",
    "\n",
    "        #############################################################################################################\n",
    "        #############################################################################################################\n",
    "\n",
    "        min_logfc = logfc_cut_off\n",
    "        max_pval = 10**-pval_cut_off\n",
    "        group_order = (0,1)\n",
    "        y_max_ext_factor=1.13\n",
    "        x_ext_factor=0.3\n",
    "        x_max_ext_factor=1.1\n",
    "        x_min_ext_factor=1.1\n",
    "        fig_size=(7,6)\n",
    "                \n",
    "        results[ident_1].loc[:,'color'] = '#000000'\n",
    "        results[ident_1].loc[(results[ident_1]['logfc'] > 0) & (abs(results[ident_1]['logfc']) >= min_logfc) & (results[ident_1]['pvals_adj'] <= max_pval),'color'] = ident_1_color\n",
    "        results[ident_1].loc[(results[ident_1]['logfc'] < 0) & (abs(results[ident_1]['logfc']) >= min_logfc) & (results[ident_1]['pvals_adj'] <= max_pval),'color'] = ident_2_color\n",
    "\n",
    "        n_diff = sum((abs(results[ident_1]['log_pvals_adj']) > pval_cut_off) & (abs(results[ident_1]['logfc']) > logfc_cut_off))\n",
    "        n_up = sum((abs(results[ident_1]['log_pvals_adj']) > pval_cut_off) & (results[ident_1]['logfc'] > logfc_cut_off))\n",
    "        n_down = sum((abs(results[ident_1]['log_pvals_adj']) > pval_cut_off) & (results[ident_1]['logfc'] < -logfc_cut_off))\n",
    "\n",
    "        fig, ax = plt.subplots(1, figsize=fig_size)\n",
    "\n",
    "\n",
    "        # Make x & y axis longer to make gene name plotting easier\n",
    "        y_max = max(results[ident_1]['log_pvals_adj'])*y_max_ext_factor\n",
    "        x_ext = (max(results[ident_1]['logfc_limit']) - min(results[ident_1]['logfc_limit'])) * x_ext_factor\n",
    "        x_max = max(results[ident_1]['logfc_limit']) + x_ext\n",
    "        x_min = min(results[ident_1]['logfc_limit']) - x_ext\n",
    "\n",
    "        x_max = max(results[ident_1]['logfc_limit']) * x_max_ext_factor\n",
    "        x_min = min(results[ident_1]['logfc_limit']) * x_min_ext_factor\n",
    "\n",
    "        ax.set_ylim((-1,y_max))\n",
    "        ax.set_xlim((x_min,x_max))\n",
    "\n",
    "        # normalize colormap\n",
    "        vcenter = 0\n",
    "        vmin, vmax = results[ident_1]['log_pvals_adj'].min(), results[ident_1]['log_pvals_adj'].max()\n",
    "        #normalize = mcolors.TwoSlopeNorm(vcenter=vcenter, vmin=vmin, vmax=vmax)\n",
    "        normalize = plt.Normalize(vmin, vmax)\n",
    "        colormap = cm.RdBu_r\n",
    "\n",
    "        # Scatter plot\n",
    "        sb.scatterplot(y='log_pvals_adj', x='logfc_limit',\n",
    "                        color='#000000',s=20,\n",
    "                        linewidth=0,\n",
    "                        data=results[ident_1])\n",
    "        sb.scatterplot(y='log_pvals_adj', x='logfc_limit',\n",
    "                        color='#cccccc',s=10,\n",
    "                        linewidth=0,\n",
    "                        data=results[ident_1], ax=ax)\n",
    "        y = results[ident_1].loc[(abs(results[ident_1]['logfc']) >= min_logfc) & (results[ident_1]['pvals_adj'] <= max_pval),'log_pvals_adj']\n",
    "        x = results[ident_1].loc[(abs(results[ident_1]['logfc']) >= min_logfc) & (results[ident_1]['pvals_adj'] <= max_pval),'logfc_limit']\n",
    "        c = results[ident_1].loc[(abs(results[ident_1]['logfc']) >= min_logfc) & (results[ident_1]['pvals_adj'] <= max_pval),'color']\n",
    "        \n",
    "        sb.scatterplot(y=y, x=x, color='#ffffff', s=10, alpha=1,\n",
    "                        norm=normalize,\n",
    "                        cmap=colormap,\n",
    "                        linewidth=0,\n",
    "                        ax=ax)\n",
    "        sb.scatterplot(y=y, x=x, c=c, s=10, alpha=0.5,\n",
    "                        norm=normalize,\n",
    "                        cmap=colormap,\n",
    "                        linewidth=0,\n",
    "                        ax=ax)\n",
    "\n",
    "        # annotation\n",
    "        ax.annotate('Down-regulated\\n' + str(n_down), xy=(0.02, 0.98), xycoords='axes fraction', va=\"top\", ha=\"left\")\n",
    "        ax.annotate('Up-regulated\\n' + str(n_up), xy=(0.98, 0.98), xycoords='axes fraction', va=\"top\", ha=\"right\")\n",
    "        ax.annotate(str(ident_2), xy=(0.02, 0.02), xycoords='axes fraction', va=\"bottom\", ha=\"left\")\n",
    "        ax.annotate(str(ident_1), xy=(0.98, 0.02), xycoords='axes fraction', va=\"bottom\", ha=\"right\")\n",
    "\n",
    "        # Lines\n",
    "        plt.axvline(min_logfc, 0, 1, color='#666666', lw=1).set_linestyle(\"--\")\n",
    "        plt.axvline(-min_logfc, 0, 1, color='#666666', lw=1).set_linestyle(\"--\")\n",
    "        plt.axhline(-np.log10(max_pval), 0, 1, color='#666666', lw=1).set_linestyle(\"--\")\n",
    "\n",
    "\n",
    "        # title & axis labels\n",
    "        title = 'Combined p-value & fold change threshold\\n('  + str(n_diff) + ' genes passing thresholds of ' + str(logfc_cut_off) + ' and ' + str(pval_cut_off) + ')'\n",
    "        ax.set_title(title, fontweight='bold')\n",
    "        ax.set_ylabel('$-log_{10}$ Adjusted p-Value')\n",
    "        ax.set_xlabel('$log_2$ Fold Change')\n",
    "\n",
    "        plt.show()\n",
    "\n",
    "        \n",
    "\n",
    "        #############################################################################################################\n",
    "        #############################################################################################################\n",
    "\n",
    "        min_logfc = logfc_cut_off\n",
    "        max_pval = 10**-pval_cut_off\n",
    "        group_order = (0,1)\n",
    "        y_max_ext_factor=1.13\n",
    "        x_ext_factor=0.3\n",
    "        x_max_ext_factor=1.1\n",
    "        x_min_ext_factor=1.1\n",
    "        fig_size=(7,6)\n",
    "                \n",
    "        results[ident_1].loc[:,'color'] = '#000000'\n",
    "        results[ident_1].loc[(results[ident_1]['logfc'] > 0) & (abs(results[ident_1]['logfc']) >= min_logfc) & (results[ident_1]['pvals_adj'] <= max_pval),'color'] = ident_1_color\n",
    "        results[ident_1].loc[(results[ident_1]['logfc'] < 0) & (abs(results[ident_1]['logfc']) >= min_logfc) & (results[ident_1]['pvals_adj'] <= max_pval),'color'] = ident_2_color\n",
    "\n",
    "        n_diff = sum((abs(results[ident_1]['log_pvals_adj']) > pval_cut_off) & (abs(results[ident_1]['logfc']) > logfc_cut_off))\n",
    "        n_up = sum((abs(results[ident_1]['log_pvals_adj']) > pval_cut_off) & (results[ident_1]['logfc'] > logfc_cut_off))\n",
    "        n_down = sum((abs(results[ident_1]['log_pvals_adj']) > pval_cut_off) & (results[ident_1]['logfc'] < -logfc_cut_off))\n",
    "\n",
    "        fig, ax = plt.subplots(1, figsize=fig_size)\n",
    "\n",
    "\n",
    "        # Make x & y axis longer to make gene name plotting easier\n",
    "        y_max = max(results[ident_1]['log_pvals_adj'])*y_max_ext_factor\n",
    "#         x_ext = (max(results[ident_1]['logexprs']) - min(results[ident_1]['logexprs'])) * x_ext_factor\n",
    "#         x_max = max(results[ident_1]['logexprs']) + x_ext\n",
    "#         x_min = min(results[ident_1]['logexprs']) - x_ext\n",
    "\n",
    "#         x_max = max(results[ident_1]['logexprs']) * x_max_ext_factor\n",
    "#         x_min = min(results[ident_1]['logexprs']) * x_min_ext_factor\n",
    "\n",
    "        ax.set_ylim((-1,y_max))\n",
    "#         ax.set_xlim((x_min,x_max))\n",
    "\n",
    "        # normalize colormap\n",
    "        vcenter = 0\n",
    "        vmin, vmax = results[ident_1]['log_pvals_adj'].min(), results[ident_1]['log_pvals_adj'].max()\n",
    "        #normalize = mcolors.TwoSlopeNorm(vcenter=vcenter, vmin=vmin, vmax=vmax)\n",
    "        normalize = plt.Normalize(vmin, vmax)\n",
    "        colormap = cm.RdBu_r\n",
    "\n",
    "        # Scatter plot\n",
    "        sb.scatterplot(y='log_pvals_adj', x='logexprs',\n",
    "                        color='#000000',s=20,\n",
    "                        linewidth=0,\n",
    "                        data=results[ident_1])\n",
    "        sb.scatterplot(y='log_pvals_adj', x='logexprs',\n",
    "                        color='#cccccc',s=10,\n",
    "                        linewidth=0,\n",
    "                        data=results[ident_1], ax=ax)\n",
    "        y = results[ident_1].loc[(abs(results[ident_1]['logfc']) >= min_logfc) & (results[ident_1]['pvals_adj'] <= max_pval),'log_pvals_adj']\n",
    "        x = results[ident_1].loc[(abs(results[ident_1]['logfc']) >= min_logfc) & (results[ident_1]['pvals_adj'] <= max_pval),'logexprs']\n",
    "        c = results[ident_1].loc[(abs(results[ident_1]['logfc']) >= min_logfc) & (results[ident_1]['pvals_adj'] <= max_pval),'color']\n",
    "        \n",
    "        sb.scatterplot(y=y, x=x, color='#ffffff', s=10, alpha=1,\n",
    "                        norm=normalize,\n",
    "                        cmap=colormap,\n",
    "                        linewidth=0,\n",
    "                        ax=ax)\n",
    "        sb.scatterplot(y=y, x=x, c=c, s=10, alpha=0.5,\n",
    "                        norm=normalize,\n",
    "                        cmap=colormap,\n",
    "                        linewidth=0,\n",
    "                        ax=ax)\n",
    "\n",
    "        # annotation\n",
    "        #ax.annotate('Down-regulated\\n' + str(n_down), xy=(0.02, 0.98), xycoords='axes fraction', va=\"top\", ha=\"left\")\n",
    "        ax.annotate('Up-regulated\\n' + str(n_up) + '\\nDown-regulated\\n' + str(n_down), xy=(0.98, 0.98), xycoords='axes fraction', va=\"top\", ha=\"right\")\n",
    "        #ax.annotate(str(ident_2), xy=(0.02, 0.02), xycoords='axes fraction', va=\"bottom\", ha=\"left\")\n",
    "        #ax.annotate(str(ident_1), xy=(0.98, 0.02), xycoords='axes fraction', va=\"bottom\", ha=\"right\")\n",
    "\n",
    "        # Lines\n",
    "        #plt.axvline(min_logfc, 0, 1, color='#666666', lw=1).set_linestyle(\"--\")\n",
    "        #plt.axvline(-min_logfc, 0, 1, color='#666666', lw=1).set_linestyle(\"--\")\n",
    "        plt.axhline(-np.log10(max_pval), 0, 1, color='#666666', lw=1).set_linestyle(\"--\")\n",
    "\n",
    "\n",
    "        # title & axis labels\n",
    "        title = 'Combined p-value & fold change threshold\\n('  + str(n_diff) + ' genes passing thresholds of ' + str(logfc_cut_off) + ' and ' + str(pval_cut_off) + ')'\n",
    "        ax.set_title(title, fontweight='bold')\n",
    "        ax.set_ylabel('$-log_{10}$ Adjusted p-Value')\n",
    "        ax.set_xlabel('$log_2$ Expression')\n",
    "\n",
    "        plt.show()\n",
    "        \n",
    "\n",
    "        #############################################################################################################\n",
    "        #############################################################################################################\n",
    "\n",
    "        min_logfc = logfc_cut_off\n",
    "        max_pval = 10**-pval_cut_off\n",
    "        group_order = (0,1)\n",
    "        x_max_ext_factor=1.13\n",
    "        y_ext_factor=0.3\n",
    "        y_max_ext_factor=1.1\n",
    "        y_min_ext_factor=1.1\n",
    "        fig_size=(7,6)\n",
    "                \n",
    "        results[ident_1].loc[:,'color'] = '#000000'\n",
    "        results[ident_1].loc[(results[ident_1]['logfc'] > 0) & (abs(results[ident_1]['logfc']) >= min_logfc) & (results[ident_1]['pvals_adj'] <= max_pval),'color'] = ident_1_color\n",
    "        results[ident_1].loc[(results[ident_1]['logfc'] < 0) & (abs(results[ident_1]['logfc']) >= min_logfc) & (results[ident_1]['pvals_adj'] <= max_pval),'color'] = ident_2_color\n",
    "\n",
    "        n_diff = sum((abs(results[ident_1]['log_pvals_adj']) > pval_cut_off) & (abs(results[ident_1]['logfc']) > logfc_cut_off))\n",
    "        n_up = sum((abs(results[ident_1]['log_pvals_adj']) > pval_cut_off) & (results[ident_1]['logfc'] > logfc_cut_off))\n",
    "        n_down = sum((abs(results[ident_1]['log_pvals_adj']) > pval_cut_off) & (results[ident_1]['logfc'] < -logfc_cut_off))\n",
    "\n",
    "        fig, ax = plt.subplots(1, figsize=fig_size)\n",
    "\n",
    "\n",
    "        # Make x & y axis longer to make gene name plotting easier\n",
    "        x_max = max(results[ident_1]['logexprs'])*x_max_ext_factor\n",
    "        y_ext = (max(results[ident_1]['logfc_limit']) - min(results[ident_1]['logfc_limit'])) * y_ext_factor\n",
    "        y_max = max(results[ident_1]['logfc_limit']) + y_ext\n",
    "        y_min = min(results[ident_1]['logfc_limit']) - y_ext\n",
    "\n",
    "        y_max = max(results[ident_1]['logfc_limit']) * y_max_ext_factor\n",
    "        y_min = min(results[ident_1]['logfc_limit']) * y_min_ext_factor\n",
    "\n",
    "#         ax.set_xlim((-1,x_max))\n",
    "        ax.set_ylim((y_min,y_max))\n",
    "\n",
    "        # normalize colormap\n",
    "        vcenter = 0\n",
    "        vmin, vmax = results[ident_1]['logfc_limit'].min(), results[ident_1]['logfc_limit'].max()\n",
    "        #normalize = mcolors.TwoSlopeNorm(vcenter=vcenter, vmin=vmin, vmax=vmax)\n",
    "        normalize = plt.Normalize(vmin, vmax)\n",
    "        colormap = cm.RdBu_r\n",
    "\n",
    "        # Scatter plot\n",
    "        sb.scatterplot(y='logfc_limit', x='logexprs',\n",
    "                        color='#000000',s=20,\n",
    "                        linewidth=0,\n",
    "                        data=results[ident_1])\n",
    "        sb.scatterplot(y='logfc_limit', x='logexprs',\n",
    "                        color='#cccccc',s=10,\n",
    "                        linewidth=0,\n",
    "                        data=results[ident_1], ax=ax)\n",
    "        y = results[ident_1].loc[(abs(results[ident_1]['logfc']) >= min_logfc) & (results[ident_1]['pvals_adj'] <= max_pval),'logfc_limit']\n",
    "        x = results[ident_1].loc[(abs(results[ident_1]['logfc']) >= min_logfc) & (results[ident_1]['pvals_adj'] <= max_pval),'logexprs']\n",
    "        c = results[ident_1].loc[(abs(results[ident_1]['logfc']) >= min_logfc) & (results[ident_1]['pvals_adj'] <= max_pval),'color']\n",
    "        \n",
    "        sb.scatterplot(y=y, x=x, color='#ffffff', s=10, alpha=1,\n",
    "                        norm=normalize,\n",
    "                        cmap=colormap,\n",
    "                        linewidth=0,\n",
    "                        ax=ax)\n",
    "        sb.scatterplot(y=y, x=x, c=c, s=10, alpha=0.5,\n",
    "                        norm=normalize,\n",
    "                        cmap=colormap,\n",
    "                        linewidth=0,\n",
    "                        ax=ax)\n",
    "\n",
    "        # annotation\n",
    "        ax.annotate(str(ident_1), xy=(0.02, 0.98), xycoords='axes fraction', va=\"top\", ha=\"left\")\n",
    "        ax.annotate('Up-regulated\\n' + str(n_up), xy=(0.98, 0.98), xycoords='axes fraction', va=\"top\", ha=\"right\")\n",
    "        ax.annotate(str(ident_2), xy=(0.02, 0.02), xycoords='axes fraction', va=\"bottom\", ha=\"left\")\n",
    "        ax.annotate('Down-regulated\\n' + str(n_down), xy=(0.98, 0.02), xycoords='axes fraction', va=\"bottom\", ha=\"right\")\n",
    "\n",
    "        # Lines\n",
    "        plt.axhline(min_logfc, 0, 1, color='#666666', lw=1).set_linestyle(\"--\")\n",
    "        plt.axhline(-min_logfc, 0, 1, color='#666666', lw=1).set_linestyle(\"--\")\n",
    "        #plt.axhline(-np.log10(max_pval), 0, 1, color='#666666', lw=1).set_linestyle(\"--\")\n",
    "\n",
    "\n",
    "        # title & axis labels\n",
    "        title = 'Combined p-value & fold change threshold\\n('  + str(n_diff) + ' genes passing thresholds of ' + str(logfc_cut_off) + ' and ' + str(pval_cut_off) + ')'\n",
    "        ax.set_title(title, fontweight='bold')\n",
    "        ax.set_ylabel('$log_2$ Fold Change')\n",
    "        ax.set_xlabel('$log_2$ Expression')\n",
    "\n",
    "        plt.show()\n",
    "        \n",
    "    return results\n",
    "    \n",
    "\n",
    "\n",
    "\n",
    "\n",
    "##################################################################################################################################################################################\n",
    "##################################################################################################################################################################################\n",
    "##################################################################################################################################################################################\n",
    "##################################################################################################################################################################################\n",
    "\n",
    "\n",
    "def dot_plot_DElegate(\n",
    "    adata,\n",
    "    results_dict = None,\n",
    "    keys = None,\n",
    "    layer = 'sct_logcounts',\n",
    "    cmap='RdBu_r'\n",
    "):\n",
    "    results = results_dict[results_dict['groupby_categories'][0]]\n",
    "\n",
    "    # copy adata\n",
    "    adata_temp = adata.copy()\n",
    "\n",
    "    # set selected layer to .X\n",
    "    if layer is not None:\n",
    "        adata_temp.X = adata_temp.layers[layer].copy()\n",
    "\n",
    "    # subset adata to group provided in restrict_to\n",
    "    restrict_to = results_dict['restrict_to']\n",
    "    groups_restrict = results_dict['groups_restrict']\n",
    "\n",
    "    if restrict_to == None:\n",
    "        adata_temp_test = adata_temp.copy()\n",
    "    else:\n",
    "        adata_temp_test = adata_temp[adata_temp.obs[groups_restrict].isin([restrict_to])].copy()\n",
    "\n",
    "    # filter genes expressed in few cells\n",
    "    adata_temp_test = adata_temp_test[:,results['names']]\n",
    "\n",
    "    # filter keys\n",
    "    de_genes = results['names'][(abs(results['logfc']) >= results_dict['logfc_cut_off']) & (results['log_pvals_adj'] >= results_dict['pval_cut_off'])]\n",
    "    keys = [key for key in keys if key in list(de_genes)]\n",
    "\n",
    "    # plot data\n",
    "    ## var group pos\n",
    "    if len(keys) > 0:\n",
    "            var_group_positions=[(0,results[(results.names.isin(keys)) & (results['logfc'] < 0)].shape[0]-1),(results[(results.names.isin(keys)) & (results['logfc'] < 0)].shape[0],results[(results.names.isin(keys))].shape[0]-1)]\n",
    "    \n",
    "    ## colors\n",
    "    index = pd.Index(results_dict['groupby_categories'], name='groupby')\n",
    "    color_df = pd.DataFrame([results['logfc'],\n",
    "                             -results['logfc']],\n",
    "                           index=index).T\n",
    "    color_df.index = results['names']\n",
    "    color_df = color_df.T\n",
    "    color_df = color_df.loc[:,keys]\n",
    "    limit = abs(color_df).max().max()\n",
    "    \n",
    "    ## plot\n",
    "    sc.pl.DotPlot(adata_temp_test, \n",
    "                  var_names=keys, \n",
    "                  groupby=results_dict['groupby'], \n",
    "                  dot_color_df=color_df, \n",
    "                  var_group_positions=var_group_positions, \n",
    "                  var_group_labels=results_dict['groupby_categories'][::-1],\n",
    "                  vmin=-limit, \n",
    "                  vmax=limit, \n",
    "                  cmap=cmap).style(color_on='square', \n",
    "                                   dot_edge_lw=1, \n",
    "                                   grid=True, \n",
    "                                   dot_edge_color=None).legend(colorbar_title='log$_2$ Fold Change').show()\n",
    "\n",
    "    del adata_temp_test\n",
    "    del results\n",
    "    gc.collect()\n",
    "\n",
    "\n",
    "##################################################################################################################################################################################\n",
    "##################################################################################################################################################################################\n",
    "##################################################################################################################################################################################\n",
    "##################################################################################################################################################################################\n",
    "\n",
    "\n",
    "def run_DElegate_findDE(adata, \n",
    "                        layer = None, \n",
    "                        group_column = None, \n",
    "                        replicate_column = None, \n",
    "                        compare = \"each_vs_rest\", \n",
    "                        method = \"edger\", \n",
    "                        order_results = True, \n",
    "                        verbosity = 1, \n",
    "                        n_core = 64, \n",
    "                        max_memory = 4):\n",
    "    '''\n",
    "    adata: adata object to normalize\n",
    "    layer: layer to use for normalization. Default = None -> use .X\n",
    "    \n",
    "    There are multiple ways the group comparisons can be specified based on the compare parameter. \n",
    "    The default, 'each_vs_rest', does multiple comparisons, one per group vs all remaining cells. \n",
    "    'all_vs_all', also does multiple comparisons, covering all group pairs. \n",
    "    If compare is set to a length two character vector, e.g. c('T-cells', 'B-cells'), one comparison between those two groups is done. \n",
    "    To put multiple groups on either side of a single comparison, use a list of length two. E.g. compare = list(c('cluster1', 'cluster5'), c('cluster3')).\n",
    "    '''\n",
    "    \n",
    "    import rpy2\n",
    "    import rpy2.robjects as ro\n",
    "    import gc\n",
    "\n",
    "       \n",
    "    print('DE analysis with DElegate:')\n",
    "    # load packages\n",
    "    ro.globalenv['n_core'] = n_core\n",
    "    ro.globalenv['max_memory'] = max_memory\n",
    "    ro.r('''\n",
    "    # Packages\n",
    "    library(DElegate)\n",
    "    library(Seurat)\n",
    "\n",
    "    # Parallelization\n",
    "    library(BiocParallel)\n",
    "    register(MulticoreParam(n_core, progressbar = TRUE))\n",
    "\n",
    "    library(future)\n",
    "    plan(\"multicore\", workers = n_core)\n",
    "    options(future.globals.maxSize = max_memory * 1024^3)\n",
    "    plan()\n",
    "    ''')\n",
    "    \n",
    "    # transfer data & parameters\n",
    "    if group_column is not None:\n",
    "        ro.globalenv['group_column'] = group_column\n",
    "    if replicate_column is not None:\n",
    "        ro.globalenv['replicate_column'] = replicate_column\n",
    "    ro.globalenv['compare'] = compare\n",
    "    if type(compare) is list:\n",
    "        ro.r('''\n",
    "        compare <- unlist(compare)\n",
    "        ''')\n",
    "    \n",
    "    ro.globalenv['method'] = method\n",
    "    ro.globalenv['order_results'] = order_results\n",
    "    ro.globalenv['verbosity'] = verbosity\n",
    "    \n",
    "    print('\\tTransfer data...')\n",
    "    if layer is None:\n",
    "        print('\\tUsing adata.X for differntial expression analysis...')\n",
    "        ro.globalenv['counts'] = adata.X.T#.toarray()\n",
    "        ro.globalenv['meta_data'] = adata.obs\n",
    "        ro.globalenv['obs_names'] = adata.obs_names\n",
    "        ro.globalenv['var_names'] = adata.var_names\n",
    "    else:\n",
    "        print('\\tUsing layer \\'', layer,'\\' for differntial expression analysis...')\n",
    "        ro.globalenv['counts'] = adata.layers[layer].T#.toarray()\n",
    "        ro.globalenv['meta_data'] = adata.obs\n",
    "        ro.globalenv['obs_names'] = adata.obs_names\n",
    "        ro.globalenv['var_names'] = adata.var_names\n",
    "        \n",
    "    # generate seurat object\n",
    "    ro.r('''\n",
    "    rownames(counts) <- var_names\n",
    "    colnames(counts) <- obs_names\n",
    "    seurat <- CreateSeuratObject(counts = counts, meta.data = meta_data)\n",
    "    ''')\n",
    "    \n",
    "    # run DElegate\n",
    "    print('\\tPerform differential gene expression analysis with method:', method,'...')\n",
    "    \n",
    "    # replace characters\n",
    "    if group_column is not None:\n",
    "        print('\\tFixing characters in group_column:', group_column,'...')\n",
    "        ro.r('''\n",
    "        seurat@meta.data[group_column] <- gsub(\"[ -]\", \"_\", get(group_column, seurat@meta.data))\n",
    "        ''')\n",
    "        \n",
    "    if replicate_column is not None:\n",
    "        print('\\tFixing characters in replicate_column:', replicate_column,'...')\n",
    "        ro.r('''\n",
    "        seurat@meta.data[replicate_column] <- gsub(\"[ -]\", \"_\", get(replicate_column, seurat@meta.data))\n",
    "        ''')\n",
    "    # run\n",
    "    print('\\tRunning', method,'...')\n",
    "    ro.r('''\n",
    "    de_res <- findDE(seurat,\n",
    "                     meta_data = NULL,\n",
    "                     group_column = group_column,\n",
    "                     replicate_column = NULL,\n",
    "                     compare = compare,\n",
    "                     method = method,\n",
    "                     order_results = order_results,\n",
    "                     verbosity = verbosity)\n",
    "    ''')\n",
    "    \n",
    "    # convert results\n",
    "#     print('\\tConverting results...')\n",
    "#     ro.r('''\n",
    "#     de_res <- as.data.frame(de_res)\n",
    "#     ''')\n",
    "    \n",
    "    # transfer data\n",
    "    print('\\tTransfer data...')\n",
    "    \n",
    "    # convert results\n",
    "    print('\\tConvert results...')\n",
    "    results = ro.globalenv['de_res']\n",
    "    \n",
    "    with (ro.default_converter + pandas2ri.converter).context():\n",
    "        results = ro.conversion.get_conversion().rpy2py(results)\n",
    "    \n",
    "    #results.loc[:,'log10_padj'] = -np.log10(results.loc[:,'padj'])\n",
    "    \n",
    "    # delete\n",
    "    print('\\tClean up...')\n",
    "    ro.r('''\n",
    "    rm(list = ls())\n",
    "    gc()\n",
    "    ''')\n",
    "\n",
    "    gc.collect()\n",
    "    \n",
    "    print('Done.')\n",
    "    return results\n",
    "\n",
    "def vulcano_plot_edger(results_dict=None, genes=[], annotate_top=True, n_top=10, title=None, min_logfc = 0.5, max_pval = 10**-2, group_order = (0,1), y_max_ext_factor=1.2, x_ext_factor=0.3, x_max_ext_factor=1.2, x_min_ext_factor=1.2, fig_size=(7,6), save=None):\n",
    "    results = results_dict[results_dict['groupby_categories'][group_order[0]]]\n",
    "    #ident_1 = results_dict['groupby_categories'][group_order[0]]\n",
    "    #ident_2 = results_dict['groupby_categories'][group_order[1]]\n",
    "    \n",
    "    #n_up = sum((abs(results['pvals_adj']) > max_pval) & (results['logfc'] > min_logfc))\n",
    "    #n_down = sum((abs(results['pvals_adj']) > max_pval) & (results['logfc'] < -min_logfc))\n",
    "    n_up = sum((abs(results['pvals_adj']) < max_pval) & (results['logfc'] > min_logfc))\n",
    "    n_down = sum((abs(results['pvals_adj']) < max_pval) & (results['logfc'] < -min_logfc))\n",
    "\n",
    "    genes = genes + [gene for gene in results['names'] if not gene.startswith('ENSSSC')][0:n_top] + [gene for gene in results.sort_values(by=['log_pvals_adj'], ascending=False)['names'] if not gene.startswith('ENSSSC')][0:n_top]\n",
    "    genes = genes + [gene for gene in results['names'][::-1] if not gene.startswith('ENSSSC')][0:n_top] + [gene for gene in results.loc[results['logfc']>0,:].sort_values(by=['log_pvals_adj'], ascending=False)['names'] if not gene.startswith('ENSSSC')][0:n_top]\n",
    "    genes = list(set(genes))\n",
    "\n",
    "    genes_up = [gene for gene in genes if gene in list(results.loc[(results['logfc'] > 0) & (abs(results['logfc']) >= min_logfc) & (results['pvals_adj'] <= max_pval),'names'])]\n",
    "\n",
    "    genes_down = [gene for gene in genes if gene in list(results.loc[(results['logfc'] < 0) & (abs(results['logfc']) >= min_logfc) & (results['pvals_adj'] <= max_pval),'names'])]\n",
    "\n",
    "    gene_2_plot = genes_up + genes_down\n",
    "\n",
    "    results['log_pvals_adj'][results['log_pvals_adj'] > 300] = 300\n",
    "\n",
    "    fig, ax = plt.subplots(1, figsize=fig_size)\n",
    "\n",
    "\n",
    "    # Make x & y axis longer to make gene name plotting easier\n",
    "    y_max = max(results['log_pvals_adj'])*y_max_ext_factor\n",
    "    x_ext = (max(results['logfc_limit']) - min(results['logfc_limit'])) * x_ext_factor\n",
    "    x_max = max(results['logfc_limit']) + x_ext\n",
    "    x_min = min(results['logfc_limit']) - x_ext\n",
    "\n",
    "    x_max = max(results['logfc_limit']) * x_max_ext_factor\n",
    "    x_min = min(results['logfc_limit']) * x_min_ext_factor\n",
    "\n",
    "    ax.set_ylim((-1,y_max))\n",
    "    ax.set_xlim((x_min,x_max))\n",
    "\n",
    "#     # normalize colormap\n",
    "#     vcenter = 0\n",
    "#     vmin, vmax = results['scores'].min(), results['scores'].max()\n",
    "#     normalize = mcolors.TwoSlopeNorm(vcenter=vcenter, vmin=vmin, vmax=vmax)\n",
    "#     colormap = cm.RdBu_r\n",
    "\n",
    "    # Scatter plot\n",
    "    sb.scatterplot(y='log_pvals_adj', x='logfc_limit',\n",
    "                    color='#000000',s=20,\n",
    "                    linewidth=0,\n",
    "                    data=results)\n",
    "    sb.scatterplot(y='log_pvals_adj', x='logfc_limit',\n",
    "                    color='#cccccc',s=10,\n",
    "                    linewidth=0,\n",
    "                    data=results, ax=ax)\n",
    "    y = results.loc[(abs(results['logfc']) >= min_logfc) & (results['pvals_adj'] <= max_pval),'log_pvals_adj']\n",
    "    x = results.loc[(abs(results['logfc']) >= min_logfc) & (results['pvals_adj'] <= max_pval),'logfc_limit']\n",
    "    c = results.loc[(abs(results['logfc']) >= min_logfc) & (results['pvals_adj'] <= max_pval),'color']\n",
    "\n",
    "    sb.scatterplot(y=y, x=x, color='#ffffff', s=10, alpha=1,\n",
    "                    #norm=normalize,\n",
    "                    #cmap=colormap,\n",
    "                    linewidth=0,\n",
    "                    ax=ax)\n",
    "    sb.scatterplot(y=y, x=x, c=c, s=10, alpha=0.5,\n",
    "                    #norm=normalize,\n",
    "                    #cmap=colormap,\n",
    "                    linewidth=0,\n",
    "                    ax=ax)\n",
    "\n",
    "    # annotation\n",
    "    an1 = ax.annotate(results_dict['groupby_categories'][group_order[1]] + '\\n' + str(n_down) + ' genes', xy=(0.02, 0.98), xycoords='axes fraction',\n",
    "                      va=\"top\", ha=\"left\")\n",
    "    an2 = ax.annotate(results_dict['groupby_categories'][group_order[0]] + '\\n' + str(n_up) + ' genes', xy=(0.98, 0.98), xycoords='axes fraction',  # (1, 0.5) of the an1's bbox\n",
    "                      va=\"top\", ha=\"right\")\n",
    "\n",
    "    # Lines\n",
    "    plt.axvline(min_logfc, 0, 1, color='#666666', lw=1).set_linestyle(\"--\")\n",
    "    plt.axvline(-min_logfc, 0, 1, color='#666666', lw=1).set_linestyle(\"--\")\n",
    "    plt.axhline(-np.log10(max_pval), 0, 1, color='#666666', lw=1).set_linestyle(\"--\")\n",
    "\n",
    "    # Labels\n",
    "    x_lim=ax.get_xlim()\n",
    "    for gene_set,direction,ha in [(genes_down,-1,'right'),(genes_up,1,'left')]:\n",
    "        labels = []\n",
    "        for gene in gene_set:\n",
    "            if gene.startswith('ENSSSC'):\n",
    "                continue\n",
    "            x=float(results.loc[results['names']==gene,'logfc_limit'])\n",
    "            y=float(results.loc[results['names']==gene,'log_pvals_adj'])\n",
    "            labels.append(plt.text(x, y, gene, color='#000000', fontsize=8))\n",
    "        ax.set_xlim(sorted([x_lim[::direction][1],0.5*direction]))\n",
    "        adjust_text(labels, expand_points=(1.5,1.5), expand_text=(2,2), expand_objects=(2,2), force_text=(0.75, 0.5), force_points=(0.75, 1), force_objects=(1, 0.5), ha=ha, precision=0.00001, lim=5000, autoalign='y', arrowprops=dict(arrowstyle=\"-\",  color='k',  lw=0.5), ax=ax)\n",
    "    ax.set_xlim(x_lim)\n",
    "\n",
    "    # title & axis labels\n",
    "    if title == None:\n",
    "        title = 'Differential Gene Expression in ' + results_dict['restrict_to'] + ' Cells\\n' + results_dict['groupby_categories'][group_order[0]] + ' vs ' + results_dict['groupby_categories'][group_order[1]]\n",
    "    ax.set_title(title)\n",
    "    ax.set_ylabel('$-log_{10}$ Adjusted p-Value')\n",
    "    ax.set_xlabel('$log_2$ Fold Change')\n",
    "\n",
    "    if save is not None:\n",
    "        plt.savefig(save)\n",
    "\n",
    "\n",
    "\n",
    "\n",
    "##################################################################################################################################################################################\n",
    "##################################################################################################################################################################################\n",
    "##################################################################################################################################################################################\n",
    "##################################################################################################################################################################################\n",
    "\n",
    "\n",
    "\n",
    "def run_DElegate_findMarkers(adata, \n",
    "                        layer = None, \n",
    "                        group_column = None, \n",
    "                        replicate_column = None, \n",
    "                        method = \"edger\", \n",
    "                        min_rate = 0.05,\n",
    "                        min_fc = 1,\n",
    "                        verbosity = 1, \n",
    "                        n_core = 64, \n",
    "                        max_memory = 4):\n",
    "    '''\n",
    "    adata: adata object to normalize\n",
    "    layer: layer to use for normalization. Default = None -> use .X\n",
    "    \n",
    "    There are multiple ways the group comparisons can be specified based on the compare parameter. \n",
    "    The default, 'each_vs_rest', does multiple comparisons, one per group vs all remaining cells. \n",
    "    'all_vs_all', also does multiple comparisons, covering all group pairs. \n",
    "    If compare is set to a length two character vector, e.g. c('T-cells', 'B-cells'), one comparison between those two groups is done. \n",
    "    To put multiple groups on either side of a single comparison, use a list of length two. E.g. compare = list(c('cluster1', 'cluster5'), c('cluster3')).\n",
    "    '''\n",
    "    \n",
    "    import rpy2\n",
    "    import rpy2.robjects as ro\n",
    "    import gc\n",
    "\n",
    "       \n",
    "    print('DE analysis with DElegate:')\n",
    "    # load packages\n",
    "    ro.globalenv['n_core'] = n_core\n",
    "    ro.globalenv['max_memory'] = max_memory\n",
    "    ro.r('''\n",
    "    # Packages\n",
    "    library(DElegate)\n",
    "    library(Seurat)\n",
    "\n",
    "    # Parallelization\n",
    "    library(BiocParallel)\n",
    "    register(MulticoreParam(n_core, progressbar = TRUE))\n",
    "\n",
    "    library(future)\n",
    "    plan(\"multicore\", workers = n_core)\n",
    "    options(future.globals.maxSize = max_memory * 1024^3)\n",
    "    plan()\n",
    "    ''')\n",
    "    \n",
    "    # transfer data & parameters\n",
    "    if group_column is not None:\n",
    "        ro.globalenv['group_column'] = group_column\n",
    "    if replicate_column is not None:\n",
    "        ro.globalenv['replicate_column'] = replicate_column\n",
    "    \n",
    "    ro.globalenv['method'] = method\n",
    "    ro.globalenv['min_rate'] = min_rate\n",
    "    ro.globalenv['min_fc'] = min_fc\n",
    "    ro.globalenv['verbosity'] = verbosity\n",
    "    \n",
    "    print('\\tTransfer data...')\n",
    "    if layer is None:\n",
    "        print('\\tUsing adata.X for differntial expression analysis...')\n",
    "        ro.globalenv['counts'] = adata.X.T#.toarray()\n",
    "        ro.globalenv['meta_data'] = adata.obs\n",
    "        ro.globalenv['obs_names'] = adata.obs_names\n",
    "        ro.globalenv['var_names'] = adata.var_names\n",
    "    else:\n",
    "        print('\\tUsing layer \\'', layer,'\\' for differntial expression analysis...')\n",
    "        ro.globalenv['counts'] = adata.layers[layer].T#.toarray()\n",
    "        ro.globalenv['meta_data'] = adata.obs\n",
    "        ro.globalenv['obs_names'] = adata.obs_names\n",
    "        ro.globalenv['var_names'] = adata.var_names\n",
    "        \n",
    "    # generate seurat object\n",
    "    ro.r('''\n",
    "    rownames(counts) <- var_names\n",
    "    colnames(counts) <- obs_names\n",
    "    seurat <- CreateSeuratObject(counts = counts, meta.data = meta_data)\n",
    "    ''')\n",
    "    \n",
    "    # run DElegate\n",
    "    print('\\tPerform differential gene expression analysis with method:', method,'...')\n",
    "    \n",
    "    # replace characters\n",
    "    if group_column is not None:\n",
    "        print('\\tFixing characters in group_column:', group_column,'...')\n",
    "        ro.r('''\n",
    "        seurat@meta.data[group_column] <- gsub(\"[ -]\", \"_\", get(group_column, seurat@meta.data))\n",
    "        ''')\n",
    "        \n",
    "    if replicate_column is not None:\n",
    "        print('\\tFixing characters in replicate_column:', replicate_column,'...')\n",
    "        ro.r('''\n",
    "        seurat@meta.data[replicate_column] <- gsub(\"[ -]\", \"_\", get(replicate_column, seurat@meta.data))\n",
    "        ''')\n",
    "    # run\n",
    "    print('\\tRunning', method,'...')\n",
    "    ro.r('''\n",
    "    de_res <- FindAllMarkers2(seurat,\n",
    "                     meta_data = NULL,\n",
    "                     group_column = group_column,\n",
    "                     replicate_column = NULL,\n",
    "                     method = method,\n",
    "                     min_rate = min_rate,\n",
    "                     min_fc = min_fc,\n",
    "                     verbosity = verbosity)\n",
    "    ''')\n",
    "    \n",
    "    # convert results\n",
    "#     print('\\tConverting results...')\n",
    "#     ro.r('''\n",
    "#     de_res <- as.data.frame(de_res)\n",
    "#     ''')\n",
    "    \n",
    "    # transfer data\n",
    "    print('\\tTransfer data...')\n",
    "    \n",
    "    # convert results\n",
    "    print('\\tConvert results...')\n",
    "    results = ro.globalenv['de_res']\n",
    "    \n",
    "    with (ro.default_converter + pandas2ri.converter).context():\n",
    "        results = ro.conversion.get_conversion().rpy2py(results)\n",
    "    \n",
    "    #results.loc[:,'log10_padj'] = -np.log10(results.loc[:,'padj'])\n",
    "    \n",
    "    # delete\n",
    "    print('\\tClean up...')\n",
    "    ro.r('''\n",
    "    rm(list = ls())\n",
    "    gc()\n",
    "    ''')\n",
    "\n",
    "    gc.collect()\n",
    "    \n",
    "    print('Done.')\n",
    "    return results\n"
   ]
  },
  {
   "cell_type": "code",
   "execution_count": null,
   "metadata": {},
   "outputs": [],
   "source": [
    "def load_cell_cycle_genes(adata, genome='auto'):\n",
    "    # Load cell cycle genes\n",
    "\n",
    "    ## KEGG cell cycle genes\n",
    "    cc_kegg = pd.read_table('/mnt/ssd/Resources/KEGG_mmu_Cell_Cycle.txt').iloc[:,0].tolist()\n",
    "\n",
    "    ## Cell cycle genes Regev lab (Tirosh et al. 2016, DOI: 10.1126/science.aad0501)\n",
    "    cc_genes_regev = [x.strip() for x in open('/mnt/ssd/Resources/regev_cell_cycle_genes.txt')]\n",
    "        \n",
    "    if genome=='auto':\n",
    "        genome = '_'.join(adata.var.loc[:,'genome'][0].split('_')[0:2])\n",
    "    \n",
    "    print('Genome is', genome)\n",
    "        \n",
    "    if (genome == 'Homo_sapiens') | (genome == 'homo_sapiens'):\n",
    "\n",
    "        s_genes_regev = adata.var_names[np.isin(adata.var_names, cc_genes_regev[:43])]\n",
    "        g2m_genes_regev = adata.var_names[np.isin(adata.var_names, cc_genes_regev[43:])]\n",
    "\n",
    "        cc_genes_regev = list(adata.var_names[np.isin(adata.var_names, cc_genes_regev)])\n",
    "\n",
    "        ## Cell cycle genes Macosko et al. 2015, https://doi.org/10.1016/j.cell.2015.05.002\n",
    "        cc_genes_macosko = pd.read_table('/mnt/ssd/Resources/Macosko_cell_cycle_genes.txt', delimiter='\\t')\n",
    "\n",
    "        s_genes_macosko = list(adata.var_names[np.isin(adata.var_names, cc_genes_macosko['S'].dropna())])\n",
    "        g2m_genes_macosko = list(adata.var_names[np.isin(adata.var_names, cc_genes_macosko['G2.M'].dropna())])\n",
    "        m_genes_macosko = list(adata.var_names[np.isin(adata.var_names, cc_genes_macosko['M'].dropna())])\n",
    "        mg1_genes_macosko = list(adata.var_names[np.isin(adata.var_names, cc_genes_macosko['M.G1'].dropna())])\n",
    "        g1s_genes_macosko = list(adata.var_names[np.isin(adata.var_names, cc_genes_macosko['IG1.S'].dropna())])\n",
    "\n",
    "        cc_genes_macosko = s_genes_macosko + g2m_genes_macosko + m_genes_macosko + mg1_genes_macosko + g1s_genes_macosko\n",
    "\n",
    "        ## Combine all\n",
    "        all_cc_genes = list(set(cc_kegg + cc_genes_regev + cc_genes_macosko))\n",
    "        \n",
    "        return all_cc_genes, s_genes_regev, g2m_genes_regev, cc_genes_regev, cc_genes_macosko, s_genes_macosko, g2m_genes_macosko, m_genes_macosko, mg1_genes_macosko, g1s_genes_macosko\n",
    "\n",
    "    elif (genome == 'Mus_musculus') | (genome == 'mus_musculus'):\n",
    "        \n",
    "        s_genes_regev = [gene.lower().capitalize() for gene in cc_genes_regev[:43]]\n",
    "        g2m_genes_regev = [gene.lower().capitalize() for gene in cc_genes_regev[43:]]\n",
    "\n",
    "        cc_genes_regev = [gene.lower().capitalize() for gene in cc_genes_regev]\n",
    "\n",
    "        ## Cell cycle genes Macosko et al. 2015, https://doi.org/10.1016/j.cell.2015.05.002\n",
    "        cc_genes_macosko = pd.read_table('/mnt/ssd/Resources/Macosko_cell_cycle_genes.txt', delimiter='\\t')\n",
    "\n",
    "        s_genes_macosko = [gene.lower().capitalize() for gene in list(cc_genes_macosko['S'].dropna())]\n",
    "        g2m_genes_macosko = [gene.lower().capitalize() for gene in list(cc_genes_macosko['G2.M'].dropna())]\n",
    "        m_genes_macosko = [gene.lower().capitalize() for gene in list(cc_genes_macosko['M'].dropna())]\n",
    "        mg1_genes_macosko = [gene.lower().capitalize() for gene in list(cc_genes_macosko['M.G1'].dropna())]\n",
    "        g1s_genes_macosko = [gene.lower().capitalize() for gene in list(cc_genes_macosko['IG1.S'].dropna())]\n",
    "\n",
    "        cc_genes_macosko = s_genes_macosko + g2m_genes_macosko + m_genes_macosko + mg1_genes_macosko + g1s_genes_macosko\n",
    "\n",
    "        ## Combine all\n",
    "        all_cc_genes = list(set(cc_kegg + cc_genes_regev + cc_genes_macosko))\n",
    "        \n",
    "        return all_cc_genes, s_genes_regev, g2m_genes_regev, cc_genes_regev, cc_genes_macosko, s_genes_macosko, g2m_genes_macosko, m_genes_macosko, mg1_genes_macosko, g1s_genes_macosko\n",
    "\n",
    "    elif (genome == 'Sus_scrofa') | (genome == 'sus_scrofa'):\n",
    "        \n",
    "        s_genes_regev = mdata.var_names[np.isin(mdata.var_names, cc_genes_regev[:43])]\n",
    "        g2m_genes_regev = mdata.var_names[np.isin(mdata.var_names, cc_genes_regev[43:])]\n",
    "\n",
    "        cc_genes_regev = list(mdata.var_names[np.isin(mdata.var_names, cc_genes_regev)])\n",
    "\n",
    "        ## Cell cycle genes Macosko et al. 2015, https://doi.org/10.1016/j.cell.2015.05.002\n",
    "        cc_genes_macosko = pd.read_table('/mnt/ssd/Resources/Macosko_cell_cycle_genes.txt', delimiter='\\t')\n",
    "\n",
    "        s_genes_macosko = list(mdata.var_names[np.isin(mdata.var_names, cc_genes_macosko['S'].dropna())])\n",
    "        g2m_genes_macosko = list(mdata.var_names[np.isin(mdata.var_names, cc_genes_macosko['G2.M'].dropna())])\n",
    "        m_genes_macosko = list(mdata.var_names[np.isin(mdata.var_names, cc_genes_macosko['M'].dropna())])\n",
    "        mg1_genes_macosko = list(mdata.var_names[np.isin(mdata.var_names, cc_genes_macosko['M.G1'].dropna())])\n",
    "        g1s_genes_macosko = list(mdata.var_names[np.isin(mdata.var_names, cc_genes_macosko['IG1.S'].dropna())])\n",
    "\n",
    "        cc_genes_macosko = s_genes_macosko + g2m_genes_macosko + m_genes_macosko + mg1_genes_macosko + g1s_genes_macosko\n",
    "\n",
    "        ## Combine all\n",
    "        all_cc_genes = list(set(cc_kegg + cc_genes_regev + cc_genes_macosko))\n",
    "        \n",
    "        return all_cc_genes, s_genes_regev, g2m_genes_regev, cc_genes_regev, cc_genes_macosko, s_genes_macosko, g2m_genes_macosko, m_genes_macosko, mg1_genes_macosko, g1s_genes_macosko\n",
    "\n",
    "\n",
    "###################################################################################################################\n",
    "###################################################################################################################\n",
    "###################################################################################################################\n",
    "    \n",
    "\n",
    "\n",
    "def plot_composition(adata, \n",
    "x_key=None, \n",
    "y_key=None, \n",
    "x_labels = None,\n",
    "y_labels = None,\n",
    "y_colors = None,\n",
    "width = 0.85,       # the width of the bars: can also be len(x) sequence\n",
    "x_rotation = 0,\n",
    "y_lim_offset = 2.5,\n",
    "x_lim_offset = 0.45,\n",
    "figsize= (6, 4),\n",
    "save=None):\n",
    "    with rc_context({'figure.figsize': figsize}): #rcParams['figure.figsize']=(6,4)\n",
    "        if (x_labels == None):\n",
    "            x_labels = list(adata.obs[x_key].cat.categories)\n",
    "        \n",
    "        if (y_labels == None):\n",
    "            y_labels = list(adata.obs[y_key].cat.categories)\n",
    "        \n",
    "        if (y_colors == None):\n",
    "            y_colors = list(adata.uns[y_key + '_colors'])\n",
    "            \n",
    "        dic = {'x_labels':x_labels}\n",
    "        \n",
    "        for y_label in y_labels:\n",
    "            x_values = []\n",
    "            for x_label in x_labels:\n",
    "                x_value = adata.obs[y_key][adata.obs[x_key]==x_label].value_counts()[y_label]/adata.obs[y_key][adata.obs[x_key]==x_label].value_counts().sum()*100\n",
    "                x_values.append(x_value)\n",
    "            dic[y_label] = x_values\n",
    "        \n",
    "        df = pd.DataFrame(data = dic)\n",
    "\n",
    "        ax = df.plot(x='x_labels', kind='bar', stacked=True, width=width, edgecolor='0', linewidth=0.5, color=y_colors)\n",
    "\n",
    "        ax.set_ylabel('%')\n",
    "        ax.set_xlabel('')\n",
    "        ax.set_title(y_key + ' by ' + x_key)\n",
    "        ax.axes.set_xticklabels(labels=x_labels, rotation=x_rotation)\n",
    "        ax.legend(bbox_to_anchor=(1, .5),loc='center left', edgecolor='1')\n",
    "\n",
    "        plt.ylim([-y_lim_offset,100+y_lim_offset])\n",
    "        plt.xlim([-1+x_lim_offset,len(x_labels)-x_lim_offset])\n",
    "\n",
    "        plt.show()\n",
    "\n",
    "        if save is not None:\n",
    "            plt.savefig(save)\n",
    "        \n",
    "    return(df)\n",
    "\n",
    "\n",
    "\n",
    "\n",
    "\n",
    "##################################################################################################################################################################################\n",
    "##################################################################################################################################################################################\n",
    "##################################################################################################################################################################################\n",
    "##################################################################################################################################################################################\n",
    "def round_to_5(x, base=5):\n",
    "                return base * round(x/base)\n",
    "\n",
    "def get_go_terms(results_dict=None, min_score=None, max_pval=0.01, min_logfc = 0.5, organism='hsapiens', selection_string=None, plot_all=True, plot_top=True, n_top=20, plot_select=True, n_select=20, cmap_up=mymap, cmap_down=mymap, cmap_dot='flare', width_factor=30, hight_factor=15, aspect_nominator=3, size_denominator=1.5):\n",
    "    # GO terms upregulated\n",
    "    cat = results_dict['groupby_categories'][0]\n",
    "    results = results_dict[cat]\n",
    "    results = results.sort_values(by=['log_pvals_adj'], ascending=False)\n",
    "    \n",
    "    if min_score == None:\n",
    "        up_genes = list(results.loc[(results['logfc'] > 0) & (results['pvals_adj'] <= max_pval) & (abs(results['logfc']) >= min_logfc),'names'])\n",
    "    else:\n",
    "        up_genes = list(results.loc[(results['logfc'] > 0) & (abs(results['scores']) >= min_score) & (results['pvals_adj'] <= max_pval) & (abs(results['logfc']) >= min_logfc),'names'])\n",
    "    print(\"Top 10 Upregulated in \", cat, \": \", up_genes[:10])\n",
    "    print(\"Number of Upregulated Genes in \", cat, \": \", len(up_genes))\n",
    "    up_enrich=sc.queries.enrich(up_genes, org=organism, gprofiler_kwargs={'no_evidences':False})\n",
    "    up_enrich['-log_adj_p'] = -np.log10(up_enrich.loc[:,'p_value'])\n",
    "    up_enrich['term'] = '(' + up_enrich['native'] + ') ' + up_enrich['name']\n",
    "    up_enrich = up_enrich.assign(term_cat=pd.Categorical(up_enrich['term'], categories=up_enrich['term'][::-1]))\n",
    "    up_enrich = up_enrich.loc[up_enrich['source']!='TF',:]\n",
    "    up_enrich = up_enrich.loc[up_enrich['source']!='HPA',:]\n",
    "    up_enrich = up_enrich.loc[up_enrich['source']!='GO:CC',:]\n",
    "    up_enrich = up_enrich.loc[up_enrich['source']!='GO:MF',:]\n",
    "    \n",
    "    if plot_all:\n",
    "        if up_enrich.size > 0:\n",
    "           (ggplot(up_enrich.iloc[0:50,:])\n",
    "            + aes(y='-log_adj_p', x='term_cat', fill='-log_adj_p')\n",
    "            + geom_col(color='black')\n",
    "            + scale_fill_continuous(cmap_name=cmap_up)\n",
    "            + coord_flip()\n",
    "            + labs(y='-log10 Adjusted p-Value', x='', title=cat + ' - ' + results_dict['restrict_to'])\n",
    "            + theme_linedraw()\n",
    "            + theme(aspect_ratio=2/1)\n",
    "           ).draw(return_ggplot=False)\n",
    "\n",
    "        up_enrich_kegg = up_enrich.loc[up_enrich['source']=='KEGG',:]\n",
    "        if up_enrich_kegg.size > 0:\n",
    "           (ggplot(up_enrich_kegg.iloc[0:50,:])\n",
    "            + aes(y='-log_adj_p', x='term_cat', fill='-log_adj_p')\n",
    "            + geom_col(color='black')\n",
    "            + scale_fill_continuous(cmap_name=cmap_up)\n",
    "            + coord_flip()\n",
    "            + labs(y='-log10 Adjusted p-Value', x='', title=cat + ' - ' + results_dict['restrict_to'] + ' - KEGG')\n",
    "            + theme_linedraw()\n",
    "            + theme(aspect_ratio=2/1)\n",
    "           ).draw(return_ggplot=False)\n",
    "\n",
    "        up_enrich_reac = up_enrich.loc[up_enrich['source']=='REAC',:]\n",
    "        if up_enrich_reac.size > 0:\n",
    "           (ggplot(up_enrich_reac.iloc[0:50,:])\n",
    "            + aes(y='-log_adj_p', x='term_cat', fill='-log_adj_p')\n",
    "            + geom_col(color='black')\n",
    "            + scale_fill_continuous(cmap_name=cmap_up)\n",
    "            + coord_flip()\n",
    "            + labs(y='-log10 Adjusted p-Value', x='', title=cat + ' - ' + results_dict['restrict_to'] + ' - Reactome')\n",
    "            + theme_linedraw()\n",
    "            + theme(aspect_ratio=2/1)\n",
    "           ).draw(return_ggplot=False)\n",
    "\n",
    "    # GO-Terms downregulated\n",
    "    cat = results_dict['groupby_categories'][1]\n",
    "    results = results_dict[cat]\n",
    "    results = results.sort_values(by=['log_pvals_adj'], ascending=False)\n",
    "    if min_score == None:\n",
    "        down_genes = list(results.loc[(results['logfc'] > 0) & (results['pvals_adj'] <= max_pval) & (abs(results['logfc']) >= min_logfc),'names'])\n",
    "    else:\n",
    "        down_genes = list(results.loc[(results['logfc'] > 0) & (abs(results['scores']) >= min_score) & (results['pvals_adj'] <= max_pval) & (abs(results['logfc']) >= min_logfc),'names'])\n",
    "    print(\"Top 10 Upregulated in \", cat, \": \", down_genes[:10])\n",
    "    print(\"Number of Upregulated Genes in \", cat, \": \", len(down_genes))\n",
    "    down_enrich=sc.queries.enrich(down_genes, org=organism, gprofiler_kwargs={'no_evidences':False})\n",
    "    down_enrich['-log_adj_p'] = -np.log10(down_enrich.loc[:,'p_value'])\n",
    "    down_enrich['term'] = '(' + down_enrich['native'] + ') ' + down_enrich['name']\n",
    "    down_enrich = down_enrich.assign(term_cat=pd.Categorical(down_enrich['term'], categories=down_enrich['term'][::-1]))\n",
    "    down_enrich = down_enrich.loc[down_enrich['source']!='TF',:]\n",
    "    down_enrich = down_enrich.loc[down_enrich['source']!='HPA',:]\n",
    "    down_enrich = down_enrich.loc[down_enrich['source']!='GO:CC',:]\n",
    "    down_enrich = down_enrich.loc[down_enrich['source']!='GO:MF',:]\n",
    "    \n",
    "    if plot_all:\n",
    "        if down_enrich.size > 0:\n",
    "           (ggplot(down_enrich.iloc[0:50,:])\n",
    "            + aes(y='-log_adj_p', x='term_cat', fill='-log_adj_p')\n",
    "            + geom_col(color='black')\n",
    "            + scale_fill_continuous(cmap_name=cmap_down)\n",
    "            + coord_flip()\n",
    "            + labs(y='-log10 Adjusted p-Value', x='', title=cat + ' - ' + results_dict['restrict_to'])\n",
    "            + theme_linedraw()\n",
    "            + theme(aspect_ratio=2/1)\n",
    "           ).draw(return_ggplot=False)\n",
    "\n",
    "        down_enrich_kegg = down_enrich.loc[down_enrich['source']=='KEGG',:]\n",
    "        if down_enrich_kegg.size > 0:\n",
    "           (ggplot(down_enrich_kegg.iloc[0:50,:])\n",
    "            + aes(y='-log_adj_p', x='term_cat', fill='-log_adj_p')\n",
    "            + geom_col(color='black')\n",
    "            + scale_fill_continuous(cmap_name=cmap_down)\n",
    "            + coord_flip()\n",
    "            + labs(y='-log10 Adjusted p-Value', x='', title=cat + ' - ' + results_dict['restrict_to'] + ' - KEGG')\n",
    "            + theme_linedraw()\n",
    "            + theme(aspect_ratio=2/1)\n",
    "           ).draw(return_ggplot=False)\n",
    "\n",
    "        down_enrich_reac = down_enrich.loc[down_enrich['source']=='REAC',:]\n",
    "        if down_enrich_reac.size > 0:\n",
    "           (ggplot(down_enrich_reac.iloc[0:50,:])\n",
    "            + aes(y='-log_adj_p', x='term_cat', fill='-log_adj_p')\n",
    "            + geom_col(color='black')\n",
    "            + scale_fill_continuous(cmap_name=cmap_down)\n",
    "            + coord_flip()\n",
    "            + labs(y='-log10 Adjusted p-Value', x='', title=cat + ' - ' + results_dict['restrict_to'] + ' - Reactome')\n",
    "            + theme_linedraw()\n",
    "            + theme(aspect_ratio=2/1)\n",
    "           ).draw(return_ggplot=False)\n",
    "        \n",
    "    \n",
    "    if plot_top:\n",
    "        # Filter terms by key words\n",
    "        down_enrich_select = down_enrich.iloc[0:n_top,:]\n",
    "        up_enrich_select = up_enrich.iloc[0:n_top,:]\n",
    "\n",
    "        # Mark cluster\n",
    "        up_enrich_select['cluster'] = results_dict['groupby_categories'][0]\n",
    "        down_enrich_select['cluster'] = results_dict['groupby_categories'][1]\n",
    "\n",
    "        # Sort data frames by p-value\n",
    "        up_enrich_select['sort'] = -np.log10(up_enrich_select.loc[:,'p_value'])\n",
    "        up_enrich_select = up_enrich_select.sort_values(by=['sort'], ascending=False)\n",
    "\n",
    "        down_enrich_select['sort'] = np.log10(down_enrich_select.loc[:,'p_value']) #reverse order\n",
    "        down_enrich_select = down_enrich_select.sort_values(by=['sort'], ascending=True)\n",
    "\n",
    "        # Join data frames\n",
    "        joined_enrich_select = pd.concat([up_enrich_select.iloc[0:20,:],down_enrich_select.iloc[0:20,:]])\n",
    "\n",
    "        # Calc gene ratio\n",
    "        joined_enrich_select['ratio'] = joined_enrich_select.loc[:,'intersection_size']/joined_enrich_select.loc[:,'query_size']\n",
    "\n",
    "        # Change order of terms in plot\n",
    "        joined_enrich_select.index = [n for n in range(0,len(joined_enrich_select.index),1)]\n",
    "\n",
    "        for term in joined_enrich_select['term'][joined_enrich_select['term'].duplicated()]:\n",
    "            joined_enrich_select.loc[joined_enrich_select['term']==term,'sort'] = joined_enrich_select.iloc[abs(joined_enrich_select.loc[joined_enrich_select['term']==term,'sort']).idxmax(),:]['sort']\n",
    "\n",
    "        joined_enrich_select = joined_enrich_select.sort_values(by=['sort'], ascending=True)\n",
    "        joined_enrich_select['term'] = pd.Categorical(joined_enrich_select['term'], categories=joined_enrich_select['term'].drop_duplicates())\n",
    "\n",
    "        # Plot\n",
    "        if joined_enrich_select.size > 0:\n",
    "            n_terms = len(joined_enrich_select.drop_duplicates(subset=['term']))\n",
    "            \n",
    "\n",
    "            # Define parameters\n",
    "            cmap_dot = 'flare'\n",
    "            width = 9\n",
    "            height = len(joined_enrich_select) / 5\n",
    "            fig_size = (width, height)\n",
    "            x_ext = 0.65\n",
    "            y_ext = 1\n",
    "            y_ext_factor = 100\n",
    "            size_factor = 18\n",
    "            colorbar = True\n",
    "\n",
    "            # Create the figure and axes\n",
    "            fig, ax = plt.subplots(1, figsize=fig_size)\n",
    "\n",
    "            # Set values for scatterplot\n",
    "            x = joined_enrich_select['cluster']\n",
    "            y = [name[0].upper() + name[1:] for name in joined_enrich_select['name']]\n",
    "            size = joined_enrich_select['ratio'] * len(joined_enrich_select) * size_factor\n",
    "            color = joined_enrich_select['-log_adj_p']\n",
    "\n",
    "            # Adjust plot limits and normalize colormap\n",
    "            x_max = 1 + x_ext\n",
    "            x_min = 0 - x_ext\n",
    "            ax.set_xlim((x_min, x_max))\n",
    "            y_max = len(x)\n",
    "            y_min = 0 - y_ext\n",
    "            ax.set_ylim((y_min, y_max))\n",
    "            vmin, vmax = color.min(), color.max()\n",
    "            vcenter = (vmin + vmax) / 2\n",
    "            normalize = mcolors.TwoSlopeNorm(vcenter=vcenter, vmin=vmin, vmax=vmax)\n",
    "\n",
    "            # Set scatterplot properties\n",
    "            kwargs = {'edgecolor': \"black\", 'linewidth': 0.75, 'linestyle': '-'}\n",
    "\n",
    "            # Create scatterplot\n",
    "            sb.scatterplot(x=x, y=y, c=color, s=size, cmap=cmap_dot, **kwargs)\n",
    "\n",
    "            # Set title and axis labels\n",
    "            title = 'Top Terms'\n",
    "            ax.set_title(title, fontweight='bold')\n",
    "            ax.set_ylabel('')\n",
    "            ax.set_xlabel('')\n",
    "            plt.yticks(fontsize=12)\n",
    "            plt.xticks(fontsize=12)\n",
    "\n",
    "            # Create size legend\n",
    "            min_size = size.min()\n",
    "            max_size = size.max()\n",
    "            size_ticks = np.linspace(round(size.max(), 0), round(size.min(), 0), 5)[::1].astype(int)\n",
    "            l1 = plt.scatter([], [], s=round_to_5(size_ticks[0]), color='gray', edgecolor='black', linewidth=0.75)\n",
    "            l2 = plt.scatter([], [], s=round_to_5(size_ticks[1]), color='gray', edgecolor='black', linewidth=0.75)\n",
    "            l3 = plt.scatter([], [], s=round_to_5(size_ticks[2]), color='gray', edgecolor='black', linewidth=0.75)\n",
    "            l4 = plt.scatter([], [], s=round_to_5(size_ticks[3]), color='gray', edgecolor='black', linewidth=0.75)\n",
    "            l5 = plt.scatter([], [], s=round_to_5(size_ticks[4]), color='gray', edgecolor='black', linewidth=0.75)\n",
    "            labels = [str(int(i)) for i in size_ticks]\n",
    "\n",
    "            # Create size legend\n",
    "            leg = ax.legend([l1, l2, l3, l4, l5],\n",
    "                            labels,\n",
    "                            ncol=1,\n",
    "                            frameon=False,\n",
    "                            fontsize=12,\n",
    "                            loc='lower left',\n",
    "                            bbox_to_anchor=(1.1, -0.50),\n",
    "                            handlelength=0.75,\n",
    "                            handleheight=1.2,\n",
    "                            title='Gene Ratio',\n",
    "                            scatterpoints=1,\n",
    "                            facecolor='black')\n",
    "\n",
    "            # Customize legend title position\n",
    "            ax.get_legend().get_title().set_rotation(90)\n",
    "            ax.get_legend().get_title().set_position((110, -350))\n",
    "\n",
    "            # Add colorbar\n",
    "            if colorbar:\n",
    "                min_tick = round(min(color) + 0.5, 0)\n",
    "                max_tick = round(max(color) - 0.5, 0)\n",
    "                ticks = range(int(min_tick), int(max_tick) + 1, int(round((max_tick - min_tick) / 4, 0)))\n",
    "                scalarmappaple = cm.ScalarMappable(norm=normalize, cmap=cmap_dot)\n",
    "                scalarmappaple.set_array(color)\n",
    "                bar = fig.colorbar(scalarmappaple, ax=ax, shrink=0.25, pad=0.1, aspect=10, ticks=ticks, location='right', fraction=0.15)\n",
    "                bar.set_ticklabels([str(tick) + '  ' for tick in list(ticks)], fontsize=12)\n",
    "                bar.set_label(label='-log$_{10}$(Adjusted p-Value)')\n",
    "\n",
    "            # Adjust the left margin to increase white space\n",
    "            plt.subplots_adjust(left=0.65)  # Increase or decrease the value as needed\n",
    "\n",
    "            plt.show() \n",
    "\n",
    "\n",
    "        pd.set_option('display.max_colwidth', None)\n",
    "        display(pd.concat([up_enrich_select.iloc[:,[0,2,16,19,8,14,5]],down_enrich_select.iloc[:,[0,2,16,19,8,14,5]]]))\n",
    "    \n",
    "    \n",
    "    \n",
    "    # Filter terms by key words\n",
    "    down_enrich_select = down_enrich[down_enrich['name'].str.contains(selection_string, na=False, case=False)]\n",
    "    up_enrich_select = up_enrich[up_enrich['name'].str.contains(selection_string, na=False, case=False)]\n",
    "\n",
    "    # Mark cluster\n",
    "    up_enrich_select['cluster'] = results_dict['groupby_categories'][0]\n",
    "    down_enrich_select['cluster'] = results_dict['groupby_categories'][1]\n",
    "\n",
    "    # Sort data frames by p-value\n",
    "    up_enrich_select['sort'] = -np.log10(up_enrich_select.loc[:,'p_value'])\n",
    "    up_enrich_select = up_enrich_select.sort_values(by=['sort'], ascending=False)\n",
    "\n",
    "    down_enrich_select['sort'] = np.log10(down_enrich_select.loc[:,'p_value']) #reverse order\n",
    "    down_enrich_select = down_enrich_select.sort_values(by=['sort'], ascending=True)\n",
    "\n",
    "    # Join data frames\n",
    "    joined_enrich_select = pd.concat([up_enrich_select.iloc[0:n_select,:],down_enrich_select.iloc[0:n_select,:]])\n",
    "\n",
    "    # Calc gene ratio\n",
    "    joined_enrich_select['ratio'] = joined_enrich_select.loc[:,'intersection_size']/joined_enrich_select.loc[:,'query_size']\n",
    "\n",
    "    # Change order of terms in plot\n",
    "    joined_enrich_select.index = [n for n in range(0,len(joined_enrich_select.index),1)]\n",
    "\n",
    "    for term in joined_enrich_select['term'][joined_enrich_select['term'].duplicated()]:\n",
    "        joined_enrich_select.loc[joined_enrich_select['term']==term,'sort'] = joined_enrich_select.iloc[abs(joined_enrich_select.loc[joined_enrich_select['term']==term,'sort']).idxmax(),:]['sort']\n",
    "\n",
    "    joined_enrich_select = joined_enrich_select.sort_values(by=['sort'], ascending=True)\n",
    "    joined_enrich_select['term'] = pd.Categorical(joined_enrich_select['term'], categories=joined_enrich_select['term'].drop_duplicates())\n",
    "    \n",
    "    if plot_select:\n",
    "        # Plot\n",
    "        if joined_enrich_select.size > 0:\n",
    "            n_terms = len(joined_enrich_select.drop_duplicates(subset=['term']))\n",
    "                        # Define parameters\n",
    "            cmap_dot = 'flare'\n",
    "            width = 9\n",
    "            height = len(joined_enrich_select) / 5\n",
    "            fig_size = (width, height)\n",
    "            x_ext = 0.65\n",
    "            y_ext = 1\n",
    "            y_ext_factor = 100\n",
    "            size_factor = 18\n",
    "            colorbar = True\n",
    "\n",
    "            # Create the figure and axes\n",
    "            fig, ax = plt.subplots(1, figsize=fig_size)\n",
    "\n",
    "            # Set values for scatterplot\n",
    "            x = joined_enrich_select['cluster']\n",
    "            y = [name[0].upper() + name[1:] for name in joined_enrich_select['name']]\n",
    "            size = joined_enrich_select['ratio'] * len(joined_enrich_select) * size_factor\n",
    "            color = joined_enrich_select['-log_adj_p']\n",
    "\n",
    "            # Adjust plot limits and normalize colormap\n",
    "            x_max = 1 + x_ext\n",
    "            x_min = 0 - x_ext\n",
    "            ax.set_xlim((x_min, x_max))\n",
    "            y_max = len(x)\n",
    "            y_min = 0 - y_ext\n",
    "            ax.set_ylim((y_min, y_max))\n",
    "            vmin, vmax = color.min(), color.max()\n",
    "            vcenter = (vmin + vmax) / 2\n",
    "            normalize = mcolors.TwoSlopeNorm(vcenter=vcenter, vmin=vmin, vmax=vmax)\n",
    "\n",
    "            # Set scatterplot properties\n",
    "            kwargs = {'edgecolor': \"black\", 'linewidth': 0.75, 'linestyle': '-'}\n",
    "\n",
    "            # Create scatterplot\n",
    "            sb.scatterplot(x=x, y=y, c=color, s=size, cmap=cmap_dot, **kwargs)\n",
    "\n",
    "            # Set title and axis labels\n",
    "            title = 'Selected Terms'\n",
    "            ax.set_title(title, fontweight='bold')\n",
    "            ax.set_ylabel('')\n",
    "            ax.set_xlabel('')\n",
    "            plt.yticks(fontsize=12)\n",
    "            plt.xticks(fontsize=12)\n",
    "\n",
    "            # Create size legend\n",
    "            min_size = size.min()\n",
    "            max_size = size.max()\n",
    "            size_ticks = np.linspace(round(size.max(), 0), round(size.min(), 0), 5)[::1].astype(int)\n",
    "            l1 = plt.scatter([], [], s=round_to_5(size_ticks[0]), color='gray', edgecolor='black', linewidth=0.75)\n",
    "            l2 = plt.scatter([], [], s=round_to_5(size_ticks[1]), color='gray', edgecolor='black', linewidth=0.75)\n",
    "            l3 = plt.scatter([], [], s=round_to_5(size_ticks[2]), color='gray', edgecolor='black', linewidth=0.75)\n",
    "            l4 = plt.scatter([], [], s=round_to_5(size_ticks[3]), color='gray', edgecolor='black', linewidth=0.75)\n",
    "            l5 = plt.scatter([], [], s=round_to_5(size_ticks[4]), color='gray', edgecolor='black', linewidth=0.75)\n",
    "            labels = [str(int(i)) for i in size_ticks]\n",
    "\n",
    "            # Create size legend\n",
    "            leg = ax.legend([l1, l2, l3, l4, l5],\n",
    "                            labels,\n",
    "                            ncol=1,\n",
    "                            frameon=False,\n",
    "                            fontsize=12,\n",
    "                            loc='lower left',\n",
    "                            bbox_to_anchor=(1.1, -0.50),\n",
    "                            handlelength=0.75,\n",
    "                            handleheight=1.2,\n",
    "                            title='Gene Ratio',\n",
    "                            scatterpoints=1,\n",
    "                            facecolor='black')\n",
    "\n",
    "            # Customize legend title position\n",
    "            ax.get_legend().get_title().set_rotation(90)\n",
    "            ax.get_legend().get_title().set_position((110, -350))\n",
    "\n",
    "            # Add colorbar\n",
    "            if colorbar:\n",
    "                min_tick = round(min(color) + 0.5, 0)\n",
    "                max_tick = round(max(color) - 0.5, 0)\n",
    "                ticks = range(int(min_tick), int(max_tick) + 1, int(round((max_tick - min_tick) / 4, 0)))\n",
    "                scalarmappaple = cm.ScalarMappable(norm=normalize, cmap=cmap_dot)\n",
    "                scalarmappaple.set_array(color)\n",
    "                bar = fig.colorbar(scalarmappaple, ax=ax, shrink=0.25, pad=0.1, aspect=10, ticks=ticks, location='right', fraction=0.15)\n",
    "                bar.set_ticklabels([str(tick) + '  ' for tick in list(ticks)], fontsize=12)\n",
    "                bar.set_label(label='-log$_{10}$(Adjusted p-Value)')\n",
    "\n",
    "            # Adjust the left margin to increase white space\n",
    "            plt.subplots_adjust(left=0.65)  # Increase or decrease the value as needed\n",
    "\n",
    "            plt.show() \n",
    "\n",
    "        display(pd.concat([up_enrich_select.iloc[:,[0,2,16,19,8,14,5]],down_enrich_select.iloc[:,[0,2,16,19,8,14,5]]]))\n",
    "    \n",
    "    # add enrichment to results\n",
    "    enrichment_results = dict()\n",
    "    enrichment_results['term_selection_string'] = selection_string\n",
    "    enrichment_results['organism_enrichment_analysis'] = organism\n",
    "    enrichment_results['enriched_terms_' + results_dict['groupby_categories'][0]] = up_enrich\n",
    "    enrichment_results['enriched_terms_' + results_dict['groupby_categories'][1]] = down_enrich\n",
    "    enrichment_results['selected_terms_' + results_dict['groupby_categories'][0]] = up_enrich_select\n",
    "    enrichment_results['selected_terms_' + results_dict['groupby_categories'][1]] = down_enrich_select\n",
    "    results_dict['enrichment_analysis'] = enrichment_results\n",
    "    \n",
    "    return results_dict\n",
    "\n",
    "\n",
    "\n",
    "##################################################################################################################################################################################\n",
    "##################################################################################################################################################################################\n",
    "##################################################################################################################################################################################\n",
    "##################################################################################################################################################################################\n",
    "\n",
    "def export_results_edger(results_dict=None, path=None, file_base=None):\n",
    "    import datetime\n",
    "    date = datetime.datetime.now()\n",
    "\n",
    "    method = results_dict['method'] + '_results_'\n",
    "    suffix = results_dict['restrict_to'] + '_' + results_dict['groupby_categories'][0] + '-vs-' + results_dict['groupby_categories'][1]\n",
    "\n",
    "    path = path + date.strftime('%Y-%m-%d') + '_' + file_base + method + suffix + '.xlsx'\n",
    "    path = path.replace(' ','-')\n",
    "\n",
    "    parameter_keys = ('method', 'cmd', 'groupby', 'groupby_categories', 'groups_restrict', 'groups_restrict_categories', 'restrict_to', 'layer', 'min_cluster_size', 'min_frac_cells', 'ambient_genes_removed', 'ambient_genes_kept', 'background_genes', 'n_genes', 'n_cells')\n",
    "\n",
    "    parameter_df = pd.DataFrame.from_dict(dict((k,str(results_dict[k])) for k in parameter_keys if k in results_dict), orient ='index')\n",
    "\n",
    "    if 'enrichment_analysis' in results_dict.keys():\n",
    "        parameter_keys = ('term_selection_string', 'organism_enrichment_analysis')\n",
    "        parameter_df = pd.concat([parameter_df, pd.DataFrame.from_dict(dict((k,str(results_dict['enrichment_analysis'][k])) for k in parameter_keys if k in results_dict['enrichment_analysis']), orient ='index')])\n",
    "\n",
    "    # writing to Excel\n",
    "    print('Exporting results to', path)\n",
    "    excel = pd.ExcelWriter(path)\n",
    "\n",
    "    # print parameters\n",
    "    print('\\tWriting parameters...')\n",
    "    parameter_df.to_excel(excel, sheet_name='Parameters', index=True, header=False)\n",
    "\n",
    "    for key in results_dict['groupby_categories']:\n",
    "\n",
    "        print('\\tWriting', key, '...')\n",
    "\n",
    "        # replace invalid characters\n",
    "        sheet_name=key.replace(' ','-') #.replace('$^{high}$/','h_').replace('$^{low}$/','l_').replace('$^{high}$','h').replace('$^{low}$','l')\n",
    "\n",
    "        # write DataFrame to excel\n",
    "        results_dict[key].sort_values(by=['logfc'], ascending=False).to_excel(excel, sheet_name=sheet_name, index=False, freeze_panes=(1,1))\n",
    "\n",
    "    if 'enrichment_analysis' in results_dict.keys():\n",
    "        for key in list(results_dict['enrichment_analysis'].keys())[2:]:\n",
    "\n",
    "            print('\\tWriting', key, '...')\n",
    "\n",
    "            # replace invalid characters\n",
    "            sheet_name=key.replace(' ','-') #.replace('$^{high}$/','h_').replace('$^{low}$/','l_').replace('$^{high}$','h').replace('$^{low}$','l')\n",
    "\n",
    "            # write DataFrame to excel\n",
    "            results_dict['enrichment_analysis'][key].to_excel(excel, sheet_name=sheet_name, index=False, freeze_panes=(1,1))\n",
    "\n",
    "    excel.close()\n",
    "\n",
    "\n",
    "\n",
    "##################################################################################################################################################################################\n",
    "##################################################################################################################################################################################\n",
    "##################################################################################################################################################################################\n",
    "##################################################################################################################################################################################\n",
    "\n",
    "def color_variant(hex_color, brightness_offset=90):\n",
    "    # Taken from \n",
    "    # https://chase-seibert.github.io/blog/2011/07/29/python-calculate-lighterdarker-rgb-colors.html\n",
    "    \"\"\" \n",
    "    Takes a color like #87c95f and produces a lighter or darker variant\n",
    "    For lighter take positive, for darker take negative\n",
    "    \"\"\"\n",
    "    if len(hex_color) != 7:\n",
    "        raise Exception(\"Passed %s into color_variant(), needs to be in #87c95f format.\" % hex_color)\n",
    "    rgb_hex = [hex_color[x:x+2] for x in [1, 3, 5]]\n",
    "    new_rgb_int = [int(hex_value, 16) + brightness_offset for hex_value in rgb_hex]\n",
    "    new_rgb_int = [min([255, max([0, i])]) for i in new_rgb_int] # make sure new values are between 0 and 255\n",
    "    # hex() produces \"0x88\", we want just \"88\"\n",
    "    return \"#\" + \"\".join([hex(i)[2:] for i in new_rgb_int])\n",
    "\n",
    "\n",
    "\n",
    "\n",
    "\n",
    "##################################################################################################################################################################################\n",
    "##################################################################################################################################################################################\n",
    "##################################################################################################################################################################################\n",
    "##################################################################################################################################################################################\n",
    "\n",
    "def vulcano_plot_edger(results_dict=None, genes=[], annotate_top=True, n_top=10, title=None, min_logfc = 0.5, max_pval = 10**-2, group_order = (0,1), y_max_ext_factor=1.2, x_ext_factor=0.3, x_max_ext_factor=1.2, x_min_ext_factor=1.2, fig_size=(7,6), save=None):\n",
    "    results = results_dict[results_dict['groupby_categories'][group_order[0]]]\n",
    "    #ident_1 = results_dict['groupby_categories'][group_order[0]]\n",
    "    #ident_2 = results_dict['groupby_categories'][group_order[1]]\n",
    "    \n",
    "    n_up = sum((abs(results['pvals_adj']) < max_pval) & (results['logfc'] > min_logfc))\n",
    "    n_down = sum((abs(results['pvals_adj']) < max_pval) & (results['logfc'] < -min_logfc))\n",
    "\n",
    "    genes = genes + [gene for gene in results['names'] if not gene.startswith('ENSSSC')][0:n_top]\n",
    "    genes = genes + [gene for gene in results['names'][::-1] if not gene.startswith('ENSSSC')][0:n_top]\n",
    "    genes = list(set(genes))\n",
    "\n",
    "    genes_up = [gene for gene in genes if gene in list(results.loc[(results['logfc'] > 0) & (abs(results['logfc']) >= min_logfc) & (results['pvals_adj'] <= max_pval),'names'])]\n",
    "\n",
    "    genes_down = [gene for gene in genes if gene in list(results.loc[(results['logfc'] < 0) & (abs(results['logfc']) >= min_logfc) & (results['pvals_adj'] <= max_pval),'names'])]\n",
    "\n",
    "    gene_2_plot = genes_up + genes_down\n",
    "\n",
    "    results['log_pvals_adj'][results['log_pvals_adj'] > 300] = 300\n",
    "\n",
    "    fig, ax = plt.subplots(1, figsize=fig_size)\n",
    "\n",
    "\n",
    "    # Make x & y axis longer to make gene name plotting easier\n",
    "    y_max = max(results['log_pvals_adj'])*y_max_ext_factor\n",
    "    x_ext = (max(results['logfc_limit']) - min(results['logfc_limit'])) * x_ext_factor\n",
    "    x_max = max(results['logfc_limit']) + x_ext\n",
    "    x_min = min(results['logfc_limit']) - x_ext\n",
    "\n",
    "    x_max = max(results['logfc_limit']) * x_max_ext_factor\n",
    "    x_min = min(results['logfc_limit']) * x_min_ext_factor\n",
    "\n",
    "    ax.set_ylim((-1,y_max))\n",
    "    ax.set_xlim((x_min,x_max))\n",
    "\n",
    "#     # normalize colormap\n",
    "#     vcenter = 0\n",
    "#     vmin, vmax = results['scores'].min(), results['scores'].max()\n",
    "#     normalize = mcolors.TwoSlopeNorm(vcenter=vcenter, vmin=vmin, vmax=vmax)\n",
    "#     colormap = cm.RdBu_r\n",
    "\n",
    "    # Scatter plot\n",
    "    sb.scatterplot(y='log_pvals_adj', x='logfc_limit',\n",
    "                    color='#000000',s=20,\n",
    "                    linewidth=0,\n",
    "                    data=results)\n",
    "    sb.scatterplot(y='log_pvals_adj', x='logfc_limit',\n",
    "                    color='#cccccc',s=10,\n",
    "                    linewidth=0,\n",
    "                    data=results, ax=ax)\n",
    "    y = results.loc[(abs(results['logfc']) >= min_logfc) & (results['pvals_adj'] <= max_pval),'log_pvals_adj']\n",
    "    x = results.loc[(abs(results['logfc']) >= min_logfc) & (results['pvals_adj'] <= max_pval),'logfc_limit']\n",
    "    c = results.loc[(abs(results['logfc']) >= min_logfc) & (results['pvals_adj'] <= max_pval),'color']\n",
    "\n",
    "    sb.scatterplot(y=y, x=x, color='#ffffff', s=10, alpha=1,\n",
    "                    #norm=normalize,\n",
    "                    #cmap=colormap,\n",
    "                    linewidth=0,\n",
    "                    ax=ax)\n",
    "    sb.scatterplot(y=y, x=x, c=c, s=10, alpha=0.5,\n",
    "                    #norm=normalize,\n",
    "                    #cmap=colormap,\n",
    "                    linewidth=0,\n",
    "                    ax=ax)\n",
    "\n",
    "    # annotation\n",
    "    an1 = ax.annotate(results_dict['groupby_categories'][group_order[1]] + '\\n' + str(n_down) + ' genes', xy=(0.02, 0.98), xycoords='axes fraction',\n",
    "                      va=\"top\", ha=\"left\")\n",
    "    an2 = ax.annotate(results_dict['groupby_categories'][group_order[0]] + '\\n' + str(n_up) + ' genes', xy=(0.98, 0.98), xycoords='axes fraction',  # (1, 0.5) of the an1's bbox\n",
    "                      va=\"top\", ha=\"right\")\n",
    "\n",
    "    # Lines\n",
    "    plt.axvline(min_logfc, 0, 1, color='#666666', lw=1).set_linestyle(\"--\")\n",
    "    plt.axvline(-min_logfc, 0, 1, color='#666666', lw=1).set_linestyle(\"--\")\n",
    "    plt.axhline(-np.log10(max_pval), 0, 1, color='#666666', lw=1).set_linestyle(\"--\")\n",
    "\n",
    "    # Labels\n",
    "    x_lim=ax.get_xlim()\n",
    "    for gene_set,direction,ha in [(genes_down,-1,'right'),(genes_up,1,'left')]:\n",
    "        labels = []\n",
    "        for gene in gene_set:\n",
    "            if gene.startswith('ENSSSC'):\n",
    "                continue\n",
    "            x=float(results.loc[results['names']==gene,'logfc_limit'])\n",
    "            y=float(results.loc[results['names']==gene,'log_pvals_adj'])\n",
    "            labels.append(plt.text(x, y, gene, color='#000000', fontsize=8))\n",
    "        ax.set_xlim(sorted([x_lim[::direction][1],0.5*direction]))\n",
    "        adjust_text(labels, expand_points=(1.5,1.5), expand_text=(2,2), expand_objects=(2,2), force_text=(0.75, 0.5), force_points=(0.75, 1), force_objects=(1, 0.5), ha=ha, precision=0.00001, lim=5000, autoalign='y', arrowprops=dict(arrowstyle=\"-\",  color='k',  lw=0.5), ax=ax)\n",
    "    ax.set_xlim(x_lim)\n",
    "\n",
    "    # title & axis labels\n",
    "    if title == None:\n",
    "        title = 'Differential Gene Expression in ' + results_dict['restrict_to'] + ' Cells\\n' + results_dict['groupby_categories'][group_order[0]] + ' vs ' + results_dict['groupby_categories'][group_order[1]]\n",
    "    ax.set_title(title)\n",
    "    ax.set_ylabel('$-log_{10}$ Adjusted p-Value')\n",
    "    ax.set_xlabel('$log_2$ Fold Change')\n",
    "\n",
    "    if save is not None:\n",
    "        plt.savefig(save)\n",
    "\n",
    "\n",
    "\n",
    "##################################################################################################################################################################################\n",
    "##################################################################################################################################################################################\n",
    "##################################################################################################################################################################################\n",
    "##################################################################################################################################################################################\n",
    "\n",
    "def ma_plot_edger(results_dict=None, genes=[], annotate_top=True, n_top=10, title=None, min_logfc = 0.5, max_pval = 10**-2, group_order = (0,1), x_max_ext_factor=1.2, y_ext_factor=0.3, y_max_ext_factor=1.25, y_min_ext_factor=1.25, fig_size=(7,6), colorbar=True):\n",
    "    results = results_dict[results_dict['groupby_categories'][group_order[0]]]\n",
    "    #ident_1 = results_dict['groupby_categories'][group_order[0]]\n",
    "    #ident_2 = results_dict['groupby_categories'][group_order[1]]\n",
    "    \n",
    "    n_up = sum((abs(results['pvals_adj']) > max_pval) & (results['logfc'] > min_logfc))\n",
    "    n_down = sum((abs(results['pvals_adj']) > max_pval) & (results['logfc'] < -min_logfc))\n",
    "\n",
    "    genes = genes + [gene for gene in results['names'] if not gene.startswith('ENSSSC')][0:n_top]\n",
    "    genes = genes + [gene for gene in results['names'][::-1] if not gene.startswith('ENSSSC')][0:n_top]\n",
    "    genes = list(set(genes))\n",
    "\n",
    "    genes_up = [gene for gene in genes if gene in list(results.loc[(results['logfc'] > 0) & (abs(results['logfc']) >= min_logfc) & (results['pvals_adj'] <= max_pval),'names'])]\n",
    "\n",
    "    genes_down = [gene for gene in genes if gene in list(results.loc[(results['logfc'] < 0) & (abs(results['logfc']) >= min_logfc) & (results['pvals_adj'] <= max_pval),'names'])]\n",
    "\n",
    "    gene_2_plot = genes_up + genes_down\n",
    "\n",
    "    results['log_pvals_adj'][results['log_pvals_adj'] > 300] = 300\n",
    "\n",
    "    fig, ax = plt.subplots(1, figsize=fig_size)\n",
    "\n",
    "\n",
    "    # Make x & y axis longer to make gene name plotting easier\n",
    "    x_max = max(results['logexprs'])*x_max_ext_factor\n",
    "    y_ext = (max(results['logfc_limit']) - min(results['logfc_limit'])) * y_ext_factor\n",
    "    y_max = max(results['logfc_limit']) + y_ext\n",
    "    y_min = min(results['logfc_limit']) - y_ext\n",
    "\n",
    "    y_max = max(results['logfc_limit']) * y_max_ext_factor\n",
    "    y_min = min(results['logfc_limit']) * y_min_ext_factor\n",
    "\n",
    "    ax.set_ylim((y_min,y_max))\n",
    "    \n",
    "    # Scatter plot\n",
    "    sb.scatterplot(y='logfc_limit', x='logexprs',\n",
    "                    color='#000000',s=20,\n",
    "                    linewidth=0,\n",
    "                    data=results)\n",
    "    sb.scatterplot(y='logfc_limit', x='logexprs',\n",
    "                    color='#cccccc',s=10,\n",
    "                    linewidth=0,\n",
    "                    data=results, ax=ax)\n",
    "    y = results.loc[(abs(results['logfc']) >= min_logfc) & (results['pvals_adj'] <= max_pval),'logfc_limit']\n",
    "    x = results.loc[(abs(results['logfc']) >= min_logfc) & (results['pvals_adj'] <= max_pval),'logexprs']\n",
    "    c = results.loc[(abs(results['logfc']) >= min_logfc) & (results['pvals_adj'] <= max_pval),'color']\n",
    "\n",
    "    sb.scatterplot(y=y, x=x, color='#ffffff', s=10, alpha=1,\n",
    "                    #norm=normalize,\n",
    "                    #cmap=colormap,\n",
    "                    linewidth=0,\n",
    "                    ax=ax)\n",
    "    sb.scatterplot(y=y, x=x, c=c, s=10, alpha=0.5,\n",
    "                    #norm=normalize,\n",
    "                    #cmap=colormap,\n",
    "                    linewidth=0,\n",
    "                    ax=ax)\n",
    "\n",
    "    # annotation\n",
    "    an1 = ax.annotate(results_dict['groupby_categories'][group_order[1]] + '\\n' + str(n_down) + ' genes', xy=(0.98, 0.02), xycoords='axes fraction',\n",
    "                      va=\"bottom\", ha=\"right\")\n",
    "    an2 = ax.annotate(results_dict['groupby_categories'][group_order[0]] + '\\n' + str(n_up) + ' genes', xy=(0.98, 0.98), xycoords='axes fraction',  # (1, 0.5) of the an1's bbox\n",
    "                      va=\"top\", ha=\"right\")\n",
    "\n",
    "    # Lines\n",
    "    plt.axhline(min_logfc, 0, 1, color='#666666', lw=1).set_linestyle(\"--\")\n",
    "    plt.axhline(-min_logfc, 0, 1, color='#666666', lw=1).set_linestyle(\"--\")\n",
    "#     plt.axhline(-np.log10(max_pval), 0, 1, color='#666666', lw=1).set_linestyle(\"--\")\n",
    "\n",
    "    # Labels\n",
    "    y_lim=ax.get_ylim()\n",
    "    for gene_set,direction,va in [(genes_down,-1,'top'),(genes_up,1,'bottom')]:\n",
    "        labels = []\n",
    "        for gene in gene_set:\n",
    "            if gene.startswith('ENSSSC'):\n",
    "                continue\n",
    "            x=float(results.loc[results['names']==gene,'logexprs'])\n",
    "            y=float(results.loc[results['names']==gene,'logfc_limit'])\n",
    "            labels.append(plt.text(x, y, gene, color='#000000', fontsize=8))\n",
    "        ax.set_ylim(sorted([y_lim[::direction][1],0.5*direction]))\n",
    "        adjust_text(labels, expand_points=(1.5,1.5), expand_text=(2,2), expand_objects=(2,2), force_text=(0.75, 0.5), force_points=(0.75, 1), force_objects=(1, 0.5), va=va, precision=0.00001, lim=5000, autoalign='x', arrowprops=dict(arrowstyle=\"-\",  color='k',  lw=0.5), ax=ax)\n",
    "    ax.set_ylim(y_lim)\n",
    "\n",
    "    # title & axis labels\n",
    "    if title == None:\n",
    "        title = 'Differential Gene Expression in ' + results_dict['restrict_to'] + ' Cells\\n' + results_dict['groupby_categories'][group_order[0]] + ' vs ' + results_dict['groupby_categories'][group_order[1]]\n",
    "    ax.set_title(title)\n",
    "    ax.set_xlabel('$-log_{2}$ Expression')\n",
    "    ax.set_ylabel('$log_2$ Fold Change')\n",
    "\n",
    "\n",
    "\n",
    "##################################################################################################################################################################################\n",
    "##################################################################################################################################################################################\n",
    "##################################################################################################################################################################################\n",
    "##################################################################################################################################################################################\n",
    "\n",
    "def generate_pseudobulk(\n",
    "    adata,\n",
    "    groupby, # groups/condtions to test (e.g stage, genotype, ...)\n",
    "    sample_key, # key for samples/replicates\n",
    "    identity, # cluster/cell type to test in\n",
    "    identity_key, # key for clusters/cell types\n",
    "    obs_to_keep=[],  # which metadata to keep, e.g. gender, age, etc.\n",
    "    replicates_per_sample=3, # number of pseudoreplicates/sample\n",
    "    min_cell_per_sample=30,\n",
    "    aggr_method='sum'\n",
    "):\n",
    "    # TO DO:\n",
    "    # * Plot/show different samples/group and number of cells in each pseudo-replicate\n",
    "    import random\n",
    "    # subset adata to the given cell identity\n",
    "    adata_identity = adata[adata.obs[identity_key] == identity].copy()\n",
    "    # check which samples to keep according to the number of cells specified with min_cell_per_sample\n",
    "    size_by_sample = adata_identity.obs.groupby([sample_key]).size()\n",
    "    samples_to_drop = [ sample for sample in size_by_sample.index if size_by_sample[sample] <= min_cell_per_sample]\n",
    "    if len(samples_to_drop) > 0:\n",
    "        print(\"Dropping the following samples:\")\n",
    "        print(samples_to_drop)\n",
    "    df = pd.DataFrame(columns=[*adata_identity.var_names, *obs_to_keep])\n",
    "\n",
    "    adata_identity.obs[sample_key] = adata_identity.obs[sample_key].astype(\"category\")\n",
    "    for i, sample in enumerate(adata_identity.obs[sample_key].cat.categories):\n",
    "        print(f\"\\tProcessing sample {i+1} out of {len(adata_identity.obs[sample_key].cat.categories)}...\", end=\"\\r\")\n",
    "        if sample not in samples_to_drop:\n",
    "            adata_sample = adata_identity[adata_identity.obs[sample_key] == sample]\n",
    "            # create replicates for each sample\n",
    "            indices = list(adata_sample.obs_names)\n",
    "            random.seed(12345)\n",
    "            random.shuffle(indices)\n",
    "            indices = np.array_split(np.array(indices), replicates_per_sample)\n",
    "            for i, rep_idx in enumerate(indices):\n",
    "                adata_replicate = adata_sample[rep_idx]\n",
    "                # specify how to aggregate: sum gene expression for each gene for each sample and also keep the condition information\n",
    "                agg_dict = {gene: aggr_method for gene in adata_replicate.var_names}\n",
    "                for obs in obs_to_keep:\n",
    "                    agg_dict[obs] = \"first\"\n",
    "                # create a df with all genes, sample and group info\n",
    "                df_sample = pd.DataFrame(adata_replicate.X.A)\n",
    "                df_sample.index = adata_replicate.obs_names\n",
    "                df_sample.columns = adata_replicate.var_names\n",
    "                df_sample = df_sample.join(adata_replicate.obs[obs_to_keep])\n",
    "                # aggregate\n",
    "                df_sample = df_sample.groupby(sample_key).agg(agg_dict)\n",
    "                df_sample[sample_key] = sample\n",
    "                df.loc[f\"sample_{sample}_{i}\"] = df_sample.loc[sample]\n",
    "    print(\"\\n\")\n",
    "    # create AnnData object from the df\n",
    "    adata_identity = sc.AnnData(\n",
    "        df[adata_identity.var_names], obs=df.drop(columns=adata_identity.var_names)\n",
    "    )\n",
    "    return adata_identity\n",
    "\n",
    "\n",
    "\n",
    "\n",
    "##################################################################################################################################################################################\n",
    "##################################################################################################################################################################################\n",
    "##################################################################################################################################################################################\n",
    "##################################################################################################################################################################################\n",
    "\n",
    "def get_diff_exprs_edgeR(\n",
    "    adata=None, \n",
    "    groupby=None, # groups/condtions to test (e.g stage, genotype, ...)\n",
    "    groups_restrict=None, #restricht test to gives cell type or cluster\n",
    "    restrict_to=None, #identity of cell type the should be restricted to. e.g Beta\n",
    "    layer='raw_counts', \n",
    "    filter_ambient_genes=True, \n",
    "    rank_genes_groups_key=None, # rank genes group key with markers for groups_restrict\n",
    "    get_marker=False, # run to rank_genes_groups to identify markers\n",
    "    min_gene_score=0, # min score a cluster marker should have to be cluster-specific\n",
    "    min_cluster_size = 100, \n",
    "    min_frac_cells = 0.05,\n",
    "    sample_key=None, # key for samples/replicates\n",
    "    additional_variables=[],  # which metadata to keep, e.g. gender, age, etc.\n",
    "    replicates_per_sample=3, # number of pseudoreplicates/sample\n",
    "    min_cell_per_sample=30,\n",
    "    aggr_method='sum',\n",
    "    plot=True,\n",
    "    return_results='dict' # or 'top_table'\n",
    "):\n",
    "    # copy adata\n",
    "    adata_temp = adata.copy()\n",
    "    \n",
    "    # set selected layer to .X\n",
    "    if layer is not None:\n",
    "        adata_temp.X = adata_temp.layers[layer].copy()\n",
    "\n",
    "    # create results dict and add parametes\n",
    "    results = dict()\n",
    "    results['method'] = 'edgeR_pseudobulks'\n",
    "    results['groupby'] = groupby\n",
    "    results['groupby_categories'] = []\n",
    "    results['groups_restrict'] = groups_restrict\n",
    "    results['groups_restrict_categories'] = list(adata_temp.obs[groups_restrict].cat.categories)\n",
    "    results['restrict_to'] = restrict_to\n",
    "    results['layer'] = layer\n",
    "    results['min_cluster_size'] = min_cluster_size\n",
    "    results['min_frac_cells'] = min_frac_cells\n",
    "    \n",
    "    # check if cluster of interest (restrict_to) has enough cells\n",
    "    if adata_temp.obs[groups_restrict].value_counts()[restrict_to] < min_cluster_size:\n",
    "        #print('Group has less than ' + str(min_cluster_size) + ' cells.')\n",
    "        raise ValueError('Group has less than ' + str(min_cluster_size) + ' cells.') \n",
    "    \n",
    "    # check if key for rank genes groups for the group containing the cluster of interest (groups_restrict) is provided -> rank_genes_group if not\n",
    "    if (rank_genes_groups_key == None) & (get_marker):\n",
    "        sc.tl.rank_genes_groups(adata_temp, groupby=groups_restrict)\n",
    "        rank_genes_groups_key = 'rank_genes_groups'\n",
    "    \n",
    "    # subset adata to group provided in restrict_to\n",
    "    if restrict_to == None:\n",
    "        adata_temp_test = adata_temp.copy()\n",
    "    else:\n",
    "        adata_temp_test = adata_temp[adata_temp.obs[groups_restrict].isin([restrict_to])].copy()\n",
    "    \n",
    "    groupby_categories = list(adata_temp_test.obs[groupby].cat.categories)\n",
    "    results['groupby_categories'] = groupby_categories\n",
    "    \n",
    "    groupby_colors = list(adata_temp_test.uns[groupby + '_colors'])\n",
    "    results['groupby_colors'] = groupby_colors\n",
    "    \n",
    "    # filter genes expressed in few cells\n",
    "    sc.pp.filter_genes(adata_temp_test, min_cells=adata_temp_test.shape[0]*min_frac_cells)\n",
    "    \n",
    "    # filter ambient genes\n",
    "    if filter_ambient_genes:\n",
    "        if rank_genes_groups_key == None:\n",
    "            ambi_genes_remove = list(adata_temp.var_names[adata_temp.var_names.isin(list(adata_temp[:,adata_temp.var['is_ambient'] == True].var_names))])\n",
    "            adata_temp_test = adata_temp_test[:,~adata_temp_test.var_names.isin(ambi_genes_remove)]\n",
    "            print('\\nRemoving ambient genes from analysis: ', ambi_genes_remove)\n",
    "            results['ambient_genes_removed'] = ambi_genes_remove\n",
    "        else:\n",
    "            ambi_genes = list(adata_temp.var_names[adata_temp.var_names.isin(list(adata_temp[:,adata_temp.var['is_ambient'] == True].var_names))])\n",
    "            marker_genes = list(adata_temp.uns[rank_genes_groups_key]['names'][restrict_to][adata_temp.uns[rank_genes_groups_key]['scores'][restrict_to] > min_gene_score])\n",
    "            ambi_genes_remove = list(set(ambi_genes).difference(set(marker_genes)))\n",
    "            adata_temp_test = adata_temp_test[:,~adata_temp_test.var_names.isin(ambi_genes_remove)]\n",
    "            print('\\nRemoving ambient genes from analysis: ', ambi_genes_remove)\n",
    "            print('\\nKeeping group-specific ambient genes: ', set(ambi_genes).difference(set(ambi_genes_remove)),'\\n')\n",
    "            results['ambient_genes_removed'] = ambi_genes_remove\n",
    "            results['ambient_genes_kept'] = list(set(ambi_genes).difference(set(ambi_genes_remove)))\n",
    "    \n",
    "    results['background_genes'] = list(adata_temp_test.var_names)\n",
    "    \n",
    "    # generate pseudobulk\n",
    "    print('\\nGenerating pseudobulks...')\n",
    "    obs_to_keep = [groupby,groups_restrict] + [sample_key] + additional_variables\n",
    "    adata_temp_test_bulk = generate_pseudobulk(\n",
    "        adata=adata_temp_test,\n",
    "        groupby=groupby, # groups/condtions to test (e.g stage, genotype, ...)\n",
    "        sample_key=sample_key, # key for samples/replicates\n",
    "        identity=restrict_to, # cluster/cell type to test in\n",
    "        identity_key=groups_restrict, # key for clusters/cell types\n",
    "        obs_to_keep=obs_to_keep,  # which metadata to keep, e.g. gender, age, etc.\n",
    "        replicates_per_sample=replicates_per_sample, # number of pseudoreplicates/sample\n",
    "        min_cell_per_sample=min_cell_per_sample,\n",
    "        aggr_method=aggr_method\n",
    "    )\n",
    "    \n",
    "    #adata_temp_test_bulk.obs[\"lib_size\"] = np.sum(adata_temp_test_bulk.X, axis=1)\n",
    "    #adata_temp_test_bulk.obs[\"log_lib_size\"] = np.log(adata_temp_test_bulk.obs[\"lib_size\"])\n",
    "    \n",
    "    results['n_genes'] = adata_temp_test_bulk.shape[1]\n",
    "    results['n_cells'] = adata_temp_test.shape[0]\n",
    "    results['n_pseudobulks'] = adata_temp_test_bulk.shape[0]\n",
    "    \n",
    "    # run edgeR\n",
    "    print('\\nRunning edgeR...')\n",
    "    top_table = run_edgeR(adata_temp_test_bulk, groupby=groupby, ident_1=groupby_categories[0], ident_2=groupby_categories[1], restrict_to=restrict_to, groups_restrict=groups_restrict, additional_variables=additional_variables)\n",
    "    \n",
    "    if return_results == 'dict':\n",
    "        # convert results\n",
    "        print('\\nConverting results...')\n",
    "        results = edgeR_to_results(top_table, \n",
    "                                   results_dict=results,\n",
    "                                   ident_1=groupby_categories[0],\n",
    "                                   ident_2=groupby_categories[1],\n",
    "                                   ident_1_color=groupby_colors[0],\n",
    "                                   ident_2_color=groupby_colors[1],\n",
    "                                   plot=plot,\n",
    "                                   plot_logfc_limit = 10,\n",
    "                                   log_pvals_adj_limit = 300,\n",
    "                                   z_logfc_cut_off=0.5,\n",
    "                                   z_pval_cut_off=0.25)\n",
    "    \n",
    "    del adata_temp\n",
    "    del adata_temp_test\n",
    "    del adata_temp_test_bulk\n",
    "    \n",
    "    gc.collect()\n",
    "    \n",
    "    if return_results == 'dict':\n",
    "        return results\n",
    "    elif return_results == 'top_table':\n",
    "        return top_table\n",
    "\n",
    "##################################################################################################################################################################################\n",
    "##################################################################################################################################################################################\n",
    "##################################################################################################################################################################################\n",
    "##################################################################################################################################################################################\n",
    "\n",
    "def run_edgeR(adata, layer=None, groupby=None, ident_1=None, ident_2=None, restrict_to=None, groups_restrict=None, additional_variables=None, min_cells=None, n_core=64, max_memory=128):\n",
    "    '''\n",
    "    adata: adata object to normalize\n",
    "    layer: layer to use for normalization. Default = None -> use .X\n",
    "    '''\n",
    "    \n",
    "    import rpy2\n",
    "    import rpy2.robjects as ro\n",
    "    import gc\n",
    "\n",
    "       \n",
    "    print('DE analysis with edgeR:')\n",
    "    # load packages\n",
    "    ro.globalenv['n_core'] = n_core\n",
    "    ro.globalenv['max_memory'] = max_memory\n",
    "    ro.r('''\n",
    "    # Packages\n",
    "    library(edgeR)\n",
    "    library(SingleCellExperiment)\n",
    "\n",
    "    # Parallelization\n",
    "    library(BiocParallel)\n",
    "    register(MulticoreParam(n_core, progressbar = TRUE))\n",
    "\n",
    "    library(future)\n",
    "    plan(\"multicore\", workers = n_core)\n",
    "    options(future.globals.maxSize = max_memory * 1024^2)\n",
    "    plan()\n",
    "    ''')\n",
    "    # transfer data\n",
    "    print('\\tTransfer data...')\n",
    "    ro.globalenv['adata'] = adata\n",
    "    ro.globalenv['groupby'] = groupby\n",
    "    ro.globalenv['ident_1'] = ident_1\n",
    "    ro.globalenv['ident_2'] = ident_2\n",
    "    ro.globalenv['additional_variables'] = additional_variables\n",
    "    ro.globalenv['groups_restrict'] = groups_restrict\n",
    "    if restrict_to is not None:\n",
    "        ro.globalenv['restrict_to'] = restrict_to\n",
    "        \n",
    "     \n",
    "    # perform analysis\n",
    "    print('\\tPerform differential gene expression analysis with edgeR...')\n",
    "    ro.r('''\n",
    "    # edgeR\n",
    "    # replace characters\n",
    "    colData(adata)[groupby] <- gsub(\"[ -]\", \"_\", get(groupby,as.data.frame(colData(adata))))\n",
    "    ident_1 <- gsub(\"[ -]\", \"_\", ident_1)\n",
    "    ident_2 <- gsub(\"[ -]\", \"_\", ident_2)\n",
    "    \n",
    "    # create an edgeR object with counts and grouping factor\n",
    "    y <- DGEList(assay(adata, \"X\"), group = get(groupby, as.data.frame(colData(adata))))\n",
    "    \n",
    "    # filter out genes with low counts\n",
    "    #print(\"\\t\\tDimensions before subsetting:\")\n",
    "    #print(paste0(\"\\t\\t\",dim(y)))\n",
    "    #print(\"\")\n",
    "    keep <- filterByExpr(y)\n",
    "    y <- y[keep, , keep.lib.sizes=FALSE]\n",
    "    #print(\"\\t\\tDimensions after subsetting:\")\n",
    "    #print(paste0(\"\\t\\t\",dim(y)))\n",
    "    #print(\"\")\n",
    "    \n",
    "    # normalize\n",
    "    y <- calcNormFactors(y)\n",
    "    \n",
    "    # create a vector that is concatentation of condition and cell type that we will later use with contrasts\n",
    "    if (exists('restrict_to')){\n",
    "        group <- paste0(get(groupby, as.data.frame(colData(adata))), \".\", get(groups_restrict, as.data.frame(colData(adata))))\n",
    "    } else {\n",
    "        group <- get(groupby, as.data.frame(colData(adata)))\n",
    "    }\n",
    "    \n",
    "    \n",
    "    # create a design matrix\n",
    "    if (length(additional_variables) > 0){\n",
    "        additional_terms <- paste(unlist(additional_variables), collapse=\" + \")\n",
    "        design <- model.matrix(formula(paste(\"~ 0\",additional_terms,\"group\", sep=\" + \")))\n",
    "    } else {\n",
    "        design <- model.matrix(~ 0 + group)\n",
    "    }\n",
    "\n",
    "    # estimate dispersion\n",
    "    y <- estimateDisp(y, design = design)\n",
    "    # fit the model\n",
    "    fit <- glmQLFit(y, design)\n",
    "    \n",
    "    # make contrasts\n",
    "    if (exists('restrict_to')){\n",
    "        myContrast <- makeContrasts(paste0(\"group\",ident_1,\".\",restrict_to,\"-group\",ident_2,\".\",restrict_to), levels = y$design)\n",
    "    } else {\n",
    "        myContrast <- makeContrasts(paste0(\"group\",ident_1,\"-group\",ident_2), levels = y$design)\n",
    "    }\n",
    "    qlf <- glmQLFTest(fit, contrast=myContrast)\n",
    "    \n",
    "    # get all of the DE genes and calculate Benjamini-Hochberg adjusted FDR\n",
    "    results <- topTags(qlf, n = Inf)\n",
    "    results <- results$table\n",
    "    ''')   \n",
    "    \n",
    "    # transfer data\n",
    "    print('\\tTransfer data...')\n",
    "    \n",
    "    # add to andata.obs\n",
    "    results = ro.globalenv['results']\n",
    "    with (ro.default_converter + pandas2ri.converter).context():\n",
    "        results = ro.conversion.get_conversion().rpy2py(results)\n",
    "    \n",
    "    # delete\n",
    "    ro.r('''\n",
    "    rm(list = ls())\n",
    "    gc()\n",
    "    ''')\n",
    "\n",
    "    gc.collect()\n",
    "    \n",
    "    return results\n",
    "\n",
    "\n",
    "\n",
    "##################################################################################################################################################################################\n",
    "##################################################################################################################################################################################\n",
    "##################################################################################################################################################################################\n",
    "##################################################################################################################################################################################\n",
    "\n",
    "def edgeR_to_results(top_table, \n",
    "                     results_dict=dict(),\n",
    "                     ident_1=None,\n",
    "                     ident_2=None,\n",
    "                     ident_1_color='#1f77b4',\n",
    "                     ident_2_color='#ff7f0e',\n",
    "                     plot=True,\n",
    "                     plot_logfc_limit = 10,\n",
    "                     log_pvals_adj_limit = 300,\n",
    "                     z_logfc_cut_off=0.5,\n",
    "                     z_pval_cut_off=0.25\n",
    "):\n",
    "    results=results_dict\n",
    "    names=list(top_table.index)\n",
    "    logfc=np.array(top_table['logFC'], dtype='float64')\n",
    "    logexprs=np.array(top_table['logCPM'], dtype='float64')\n",
    "    pvals_adj=np.array(top_table['FDR'], dtype='float64')\n",
    "    log_pvals_adj = -np.log10(pvals_adj)\n",
    "    log_pvals_adj[log_pvals_adj > log_pvals_adj_limit] = log_pvals_adj_limit\n",
    "    logfc_limit = logfc.copy()\n",
    "    logfc_limit[logfc_limit > plot_logfc_limit] = plot_logfc_limit\n",
    "    logfc_limit[logfc_limit < -plot_logfc_limit] = -plot_logfc_limit\n",
    "\n",
    "    table={'names': names, 'logfc': logfc, 'logexprs': logexprs, 'pvals_adj': pvals_adj, 'log_pvals_adj': log_pvals_adj, 'logfc_limit': logfc_limit}\n",
    "    table = pd.DataFrame(data=table)\n",
    "    table = table.sort_values(by=['pvals_adj'], ascending=True)\n",
    "    table = table.sort_values(by=['logfc'], ascending=True)\n",
    "    results[ident_1] = table #.loc[(abs(table['logfc']) >= min_logfc) & (table['pvals_adj'] <= max_pval),:]\n",
    "\n",
    "    table={'names': names, 'logfc': -logfc, 'logexprs': logexprs, 'pvals_adj': pvals_adj, 'log_pvals_adj': log_pvals_adj, 'logfc_limit': -logfc_limit}\n",
    "    table = pd.DataFrame(data=table)\n",
    "    table = table.sort_values(by=['pvals_adj'], ascending=True)\n",
    "    table = table.sort_values(by=['logfc'], ascending=True)\n",
    "    results[ident_2] = table\n",
    "\n",
    "    # find cut offs\n",
    "    # To DO:\n",
    "    # * avoid error when cut-off cannot be found. e.g. all p-val == 1. \n",
    "    # * set pval_cut_off to 0.05 if larger cut off is found  \n",
    "    logfc_cut_off = round(min(abs(results[ident_1]['logfc'])[stats.zscore(abs(results[ident_1]['logfc'])) > z_logfc_cut_off]),1) \n",
    "    pval_cut_off = round(min(results[ident_1]['log_pvals_adj'][stats.zscore(results[ident_1]['log_pvals_adj']) > z_pval_cut_off]),0)\n",
    "\n",
    "    results['logfc_cut_off'] = logfc_cut_off\n",
    "    results['pval_cut_off'] = pval_cut_off\n",
    "\n",
    "    if plot:\n",
    "\n",
    "        n_diff_logfc = sum(abs(results[ident_1]['logfc']) > logfc_cut_off)\n",
    "        n_up_logfc = sum(results[ident_1]['logfc'] > logfc_cut_off)\n",
    "        n_down_logfc = sum(results[ident_1]['logfc'] < -logfc_cut_off)\n",
    "\n",
    "        with rc_context({'figure.figsize': (8, 2)}):\n",
    "            sb.distplot(results[ident_1]['logfc'], kde=True, bins=100).set_xlabel('$log_2$ Fold Change')\n",
    "            plt.axvline(logfc_cut_off, 0, 1)\n",
    "            plt.axvline(-logfc_cut_off, 0, 1)\n",
    "            plt.annotate('Down-regulated\\n' + str(n_down_logfc), xy=(0.02, 0.92), xycoords='axes fraction', va=\"top\", ha=\"left\")\n",
    "            plt.annotate('Up-regulated\\n' + str(n_up_logfc), xy=(0.98, 0.92), xycoords='axes fraction', va=\"top\", ha=\"right\")\n",
    "            plt.title(label='$log_2$ Fold Change (' + str(n_diff_logfc) + ' genes passing threshold of ' + str(logfc_cut_off) + ')', fontweight='bold')\n",
    "            plt.show()\n",
    "\n",
    "        #############################################################################################################\n",
    "        #############################################################################################################\n",
    "\n",
    "        n_diff_pval = sum(abs(results[ident_1]['log_pvals_adj']) > pval_cut_off)\n",
    "        n_up_pval = sum(results[ident_1]['log_pvals_adj'] > pval_cut_off)\n",
    "        n_down_pval = sum(results[ident_1]['log_pvals_adj'] < -pval_cut_off)\n",
    "\n",
    "        with rc_context({'figure.figsize': (8, 2)}):\n",
    "            sb.distplot(results[ident_1]['log_pvals_adj'], kde=True, bins=100).set_xlabel('$-log_{10}$ Adjusted p-Value')\n",
    "            plt.axvline(pval_cut_off, 0, 1)\n",
    "            plt.title(label='$-log_{10}$ Adjusted p-Value (' + str(n_diff_pval) + ' genes passing threshold of ' + str(pval_cut_off) + ')', fontweight='bold')\n",
    "            plt.show()\n",
    "\n",
    "        #############################################################################################################\n",
    "        #############################################################################################################\n",
    "\n",
    "        min_logfc = logfc_cut_off\n",
    "        max_pval = 10**-pval_cut_off\n",
    "        group_order = (0,1)\n",
    "        y_max_ext_factor=1.13\n",
    "        x_ext_factor=0.3\n",
    "        x_max_ext_factor=1.1\n",
    "        x_min_ext_factor=1.1\n",
    "        fig_size=(7,6)\n",
    "                \n",
    "        results[ident_1].loc[:,'color'] = '#000000'\n",
    "        results[ident_1].loc[(results[ident_1]['logfc'] > 0) & (abs(results[ident_1]['logfc']) >= min_logfc) & (results[ident_1]['pvals_adj'] <= max_pval),'color'] = ident_1_color\n",
    "        results[ident_1].loc[(results[ident_1]['logfc'] < 0) & (abs(results[ident_1]['logfc']) >= min_logfc) & (results[ident_1]['pvals_adj'] <= max_pval),'color'] = ident_2_color\n",
    "\n",
    "        n_diff = sum((abs(results[ident_1]['log_pvals_adj']) > pval_cut_off) & (abs(results[ident_1]['logfc']) > logfc_cut_off))\n",
    "        n_up = sum((abs(results[ident_1]['log_pvals_adj']) > pval_cut_off) & (results[ident_1]['logfc'] > logfc_cut_off))\n",
    "        n_down = sum((abs(results[ident_1]['log_pvals_adj']) > pval_cut_off) & (results[ident_1]['logfc'] < -logfc_cut_off))\n",
    "\n",
    "        fig, ax = plt.subplots(1, figsize=fig_size)\n",
    "\n",
    "\n",
    "        # Make x & y axis longer to make gene name plotting easier\n",
    "        y_max = max(results[ident_1]['log_pvals_adj'])*y_max_ext_factor\n",
    "        x_ext = (max(results[ident_1]['logfc_limit']) - min(results[ident_1]['logfc_limit'])) * x_ext_factor\n",
    "        x_max = max(results[ident_1]['logfc_limit']) + x_ext\n",
    "        x_min = min(results[ident_1]['logfc_limit']) - x_ext\n",
    "\n",
    "        x_max = max(results[ident_1]['logfc_limit']) * x_max_ext_factor\n",
    "        x_min = min(results[ident_1]['logfc_limit']) * x_min_ext_factor\n",
    "\n",
    "        ax.set_ylim((-1,y_max))\n",
    "        ax.set_xlim((x_min,x_max))\n",
    "\n",
    "        # normalize colormap\n",
    "        vcenter = 0\n",
    "        vmin, vmax = results[ident_1]['log_pvals_adj'].min(), results[ident_1]['log_pvals_adj'].max()\n",
    "        #normalize = mcolors.TwoSlopeNorm(vcenter=vcenter, vmin=vmin, vmax=vmax)\n",
    "        normalize = plt.Normalize(vmin, vmax)\n",
    "        colormap = cm.RdBu_r\n",
    "\n",
    "        # Scatter plot\n",
    "        sb.scatterplot(y='log_pvals_adj', x='logfc_limit',\n",
    "                        color='#000000',s=20,\n",
    "                        linewidth=0,\n",
    "                        data=results[ident_1])\n",
    "        sb.scatterplot(y='log_pvals_adj', x='logfc_limit',\n",
    "                        color='#cccccc',s=10,\n",
    "                        linewidth=0,\n",
    "                        data=results[ident_1], ax=ax)\n",
    "        y = results[ident_1].loc[(abs(results[ident_1]['logfc']) >= min_logfc) & (results[ident_1]['pvals_adj'] <= max_pval),'log_pvals_adj']\n",
    "        x = results[ident_1].loc[(abs(results[ident_1]['logfc']) >= min_logfc) & (results[ident_1]['pvals_adj'] <= max_pval),'logfc_limit']\n",
    "        c = results[ident_1].loc[(abs(results[ident_1]['logfc']) >= min_logfc) & (results[ident_1]['pvals_adj'] <= max_pval),'color']\n",
    "        \n",
    "        sb.scatterplot(y=y, x=x, color='#ffffff', s=10, alpha=1,\n",
    "                        norm=normalize,\n",
    "                        cmap=colormap,\n",
    "                        linewidth=0,\n",
    "                        ax=ax)\n",
    "        sb.scatterplot(y=y, x=x, c=c, s=10, alpha=0.5,\n",
    "                        norm=normalize,\n",
    "                        cmap=colormap,\n",
    "                        linewidth=0,\n",
    "                        ax=ax)\n",
    "\n",
    "        # annotation\n",
    "        ax.annotate('Down-regulated\\n' + str(n_down), xy=(0.02, 0.98), xycoords='axes fraction', va=\"top\", ha=\"left\")\n",
    "        ax.annotate('Up-regulated\\n' + str(n_up), xy=(0.98, 0.98), xycoords='axes fraction', va=\"top\", ha=\"right\")\n",
    "        ax.annotate(str(ident_2), xy=(0.02, 0.02), xycoords='axes fraction', va=\"bottom\", ha=\"left\")\n",
    "        ax.annotate(str(ident_1), xy=(0.98, 0.02), xycoords='axes fraction', va=\"bottom\", ha=\"right\")\n",
    "\n",
    "        # Lines\n",
    "        plt.axvline(min_logfc, 0, 1, color='#666666', lw=1).set_linestyle(\"--\")\n",
    "        plt.axvline(-min_logfc, 0, 1, color='#666666', lw=1).set_linestyle(\"--\")\n",
    "        plt.axhline(-np.log10(max_pval), 0, 1, color='#666666', lw=1).set_linestyle(\"--\")\n",
    "\n",
    "\n",
    "        # title & axis labels\n",
    "        title = 'Combined p-value & fold change threshold\\n('  + str(n_diff) + ' genes passing thresholds of ' + str(logfc_cut_off) + ' and ' + str(pval_cut_off) + ')'\n",
    "        ax.set_title(title, fontweight='bold')\n",
    "        ax.set_ylabel('$-log_{10}$ Adjusted p-Value')\n",
    "        ax.set_xlabel('$log_2$ Fold Change')\n",
    "\n",
    "        plt.show()\n",
    "\n",
    "        \n",
    "\n",
    "        #############################################################################################################\n",
    "        #############################################################################################################\n",
    "\n",
    "        min_logfc = logfc_cut_off\n",
    "        max_pval = 10**-pval_cut_off\n",
    "        group_order = (0,1)\n",
    "        y_max_ext_factor=1.13\n",
    "        x_ext_factor=0.3\n",
    "        x_max_ext_factor=1.1\n",
    "        x_min_ext_factor=1.1\n",
    "        fig_size=(7,6)\n",
    "                \n",
    "        results[ident_1].loc[:,'color'] = '#000000'\n",
    "        results[ident_1].loc[(results[ident_1]['logfc'] > 0) & (abs(results[ident_1]['logfc']) >= min_logfc) & (results[ident_1]['pvals_adj'] <= max_pval),'color'] = ident_1_color\n",
    "        results[ident_1].loc[(results[ident_1]['logfc'] < 0) & (abs(results[ident_1]['logfc']) >= min_logfc) & (results[ident_1]['pvals_adj'] <= max_pval),'color'] = ident_2_color\n",
    "\n",
    "        n_diff = sum((abs(results[ident_1]['log_pvals_adj']) > pval_cut_off) & (abs(results[ident_1]['logfc']) > logfc_cut_off))\n",
    "        n_up = sum((abs(results[ident_1]['log_pvals_adj']) > pval_cut_off) & (results[ident_1]['logfc'] > logfc_cut_off))\n",
    "        n_down = sum((abs(results[ident_1]['log_pvals_adj']) > pval_cut_off) & (results[ident_1]['logfc'] < -logfc_cut_off))\n",
    "\n",
    "        fig, ax = plt.subplots(1, figsize=fig_size)\n",
    "\n",
    "\n",
    "        # Make x & y axis longer to make gene name plotting easier\n",
    "        y_max = max(results[ident_1]['log_pvals_adj'])*y_max_ext_factor\n",
    "#         x_ext = (max(results[ident_1]['logexprs']) - min(results[ident_1]['logexprs'])) * x_ext_factor\n",
    "#         x_max = max(results[ident_1]['logexprs']) + x_ext\n",
    "#         x_min = min(results[ident_1]['logexprs']) - x_ext\n",
    "\n",
    "#         x_max = max(results[ident_1]['logexprs']) * x_max_ext_factor\n",
    "#         x_min = min(results[ident_1]['logexprs']) * x_min_ext_factor\n",
    "\n",
    "        ax.set_ylim((-1,y_max))\n",
    "#         ax.set_xlim((x_min,x_max))\n",
    "\n",
    "        # normalize colormap\n",
    "        vcenter = 0\n",
    "        vmin, vmax = results[ident_1]['log_pvals_adj'].min(), results[ident_1]['log_pvals_adj'].max()\n",
    "        #normalize = mcolors.TwoSlopeNorm(vcenter=vcenter, vmin=vmin, vmax=vmax)\n",
    "        normalize = plt.Normalize(vmin, vmax)\n",
    "        colormap = cm.RdBu_r\n",
    "\n",
    "        # Scatter plot\n",
    "        sb.scatterplot(y='log_pvals_adj', x='logexprs',\n",
    "                        color='#000000',s=20,\n",
    "                        linewidth=0,\n",
    "                        data=results[ident_1])\n",
    "        sb.scatterplot(y='log_pvals_adj', x='logexprs',\n",
    "                        color='#cccccc',s=10,\n",
    "                        linewidth=0,\n",
    "                        data=results[ident_1], ax=ax)\n",
    "        y = results[ident_1].loc[(abs(results[ident_1]['logfc']) >= min_logfc) & (results[ident_1]['pvals_adj'] <= max_pval),'log_pvals_adj']\n",
    "        x = results[ident_1].loc[(abs(results[ident_1]['logfc']) >= min_logfc) & (results[ident_1]['pvals_adj'] <= max_pval),'logexprs']\n",
    "        c = results[ident_1].loc[(abs(results[ident_1]['logfc']) >= min_logfc) & (results[ident_1]['pvals_adj'] <= max_pval),'color']\n",
    "        \n",
    "        sb.scatterplot(y=y, x=x, color='#ffffff', s=10, alpha=1,\n",
    "                        norm=normalize,\n",
    "                        cmap=colormap,\n",
    "                        linewidth=0,\n",
    "                        ax=ax)\n",
    "        sb.scatterplot(y=y, x=x, c=c, s=10, alpha=0.5,\n",
    "                        norm=normalize,\n",
    "                        cmap=colormap,\n",
    "                        linewidth=0,\n",
    "                        ax=ax)\n",
    "\n",
    "        # annotation\n",
    "        #ax.annotate('Down-regulated\\n' + str(n_down), xy=(0.02, 0.98), xycoords='axes fraction', va=\"top\", ha=\"left\")\n",
    "        ax.annotate('Up-regulated\\n' + str(n_up) + '\\nDown-regulated\\n' + str(n_down), xy=(0.98, 0.98), xycoords='axes fraction', va=\"top\", ha=\"right\")\n",
    "        #ax.annotate(str(ident_2), xy=(0.02, 0.02), xycoords='axes fraction', va=\"bottom\", ha=\"left\")\n",
    "        #ax.annotate(str(ident_1), xy=(0.98, 0.02), xycoords='axes fraction', va=\"bottom\", ha=\"right\")\n",
    "\n",
    "        # Lines\n",
    "        #plt.axvline(min_logfc, 0, 1, color='#666666', lw=1).set_linestyle(\"--\")\n",
    "        #plt.axvline(-min_logfc, 0, 1, color='#666666', lw=1).set_linestyle(\"--\")\n",
    "        plt.axhline(-np.log10(max_pval), 0, 1, color='#666666', lw=1).set_linestyle(\"--\")\n",
    "\n",
    "\n",
    "        # title & axis labels\n",
    "        title = 'Combined p-value & fold change threshold\\n('  + str(n_diff) + ' genes passing thresholds of ' + str(logfc_cut_off) + ' and ' + str(pval_cut_off) + ')'\n",
    "        ax.set_title(title, fontweight='bold')\n",
    "        ax.set_ylabel('$-log_{10}$ Adjusted p-Value')\n",
    "        ax.set_xlabel('$log_2$ Expression')\n",
    "\n",
    "        plt.show()\n",
    "        \n",
    "\n",
    "        #############################################################################################################\n",
    "        #############################################################################################################\n",
    "\n",
    "        min_logfc = logfc_cut_off\n",
    "        max_pval = 10**-pval_cut_off\n",
    "        group_order = (0,1)\n",
    "        x_max_ext_factor=1.13\n",
    "        y_ext_factor=0.3\n",
    "        y_max_ext_factor=1.1\n",
    "        y_min_ext_factor=1.1\n",
    "        fig_size=(7,6)\n",
    "                \n",
    "        results[ident_1].loc[:,'color'] = '#000000'\n",
    "        results[ident_1].loc[(results[ident_1]['logfc'] > 0) & (abs(results[ident_1]['logfc']) >= min_logfc) & (results[ident_1]['pvals_adj'] <= max_pval),'color'] = ident_1_color\n",
    "        results[ident_1].loc[(results[ident_1]['logfc'] < 0) & (abs(results[ident_1]['logfc']) >= min_logfc) & (results[ident_1]['pvals_adj'] <= max_pval),'color'] = ident_2_color\n",
    "\n",
    "        n_diff = sum((abs(results[ident_1]['log_pvals_adj']) > pval_cut_off) & (abs(results[ident_1]['logfc']) > logfc_cut_off))\n",
    "        n_up = sum((abs(results[ident_1]['log_pvals_adj']) > pval_cut_off) & (results[ident_1]['logfc'] > logfc_cut_off))\n",
    "        n_down = sum((abs(results[ident_1]['log_pvals_adj']) > pval_cut_off) & (results[ident_1]['logfc'] < -logfc_cut_off))\n",
    "\n",
    "        fig, ax = plt.subplots(1, figsize=fig_size)\n",
    "\n",
    "\n",
    "        # Make x & y axis longer to make gene name plotting easier\n",
    "        x_max = max(results[ident_1]['logexprs'])*x_max_ext_factor\n",
    "        y_ext = (max(results[ident_1]['logfc_limit']) - min(results[ident_1]['logfc_limit'])) * y_ext_factor\n",
    "        y_max = max(results[ident_1]['logfc_limit']) + y_ext\n",
    "        y_min = min(results[ident_1]['logfc_limit']) - y_ext\n",
    "\n",
    "        y_max = max(results[ident_1]['logfc_limit']) * y_max_ext_factor\n",
    "        y_min = min(results[ident_1]['logfc_limit']) * y_min_ext_factor\n",
    "\n",
    "#         ax.set_xlim((-1,x_max))\n",
    "        ax.set_ylim((y_min,y_max))\n",
    "\n",
    "        # normalize colormap\n",
    "        vcenter = 0\n",
    "        vmin, vmax = results[ident_1]['logfc_limit'].min(), results[ident_1]['logfc_limit'].max()\n",
    "        #normalize = mcolors.TwoSlopeNorm(vcenter=vcenter, vmin=vmin, vmax=vmax)\n",
    "        normalize = plt.Normalize(vmin, vmax)\n",
    "        colormap = cm.RdBu_r\n",
    "\n",
    "        # Scatter plot\n",
    "        sb.scatterplot(y='logfc_limit', x='logexprs',\n",
    "                        color='#000000',s=20,\n",
    "                        linewidth=0,\n",
    "                        data=results[ident_1])\n",
    "        sb.scatterplot(y='logfc_limit', x='logexprs',\n",
    "                        color='#cccccc',s=10,\n",
    "                        linewidth=0,\n",
    "                        data=results[ident_1], ax=ax)\n",
    "        y = results[ident_1].loc[(abs(results[ident_1]['logfc']) >= min_logfc) & (results[ident_1]['pvals_adj'] <= max_pval),'logfc_limit']\n",
    "        x = results[ident_1].loc[(abs(results[ident_1]['logfc']) >= min_logfc) & (results[ident_1]['pvals_adj'] <= max_pval),'logexprs']\n",
    "        c = results[ident_1].loc[(abs(results[ident_1]['logfc']) >= min_logfc) & (results[ident_1]['pvals_adj'] <= max_pval),'color']\n",
    "        \n",
    "        sb.scatterplot(y=y, x=x, color='#ffffff', s=10, alpha=1,\n",
    "                        norm=normalize,\n",
    "                        cmap=colormap,\n",
    "                        linewidth=0,\n",
    "                        ax=ax)\n",
    "        sb.scatterplot(y=y, x=x, c=c, s=10, alpha=0.5,\n",
    "                        norm=normalize,\n",
    "                        cmap=colormap,\n",
    "                        linewidth=0,\n",
    "                        ax=ax)\n",
    "\n",
    "        # annotation\n",
    "        ax.annotate(str(ident_1), xy=(0.02, 0.98), xycoords='axes fraction', va=\"top\", ha=\"left\")\n",
    "        ax.annotate('Up-regulated\\n' + str(n_up), xy=(0.98, 0.98), xycoords='axes fraction', va=\"top\", ha=\"right\")\n",
    "        ax.annotate(str(ident_2), xy=(0.02, 0.02), xycoords='axes fraction', va=\"bottom\", ha=\"left\")\n",
    "        ax.annotate('Down-regulated\\n' + str(n_down), xy=(0.98, 0.02), xycoords='axes fraction', va=\"bottom\", ha=\"right\")\n",
    "\n",
    "        # Lines\n",
    "        plt.axhline(min_logfc, 0, 1, color='#666666', lw=1).set_linestyle(\"--\")\n",
    "        plt.axhline(-min_logfc, 0, 1, color='#666666', lw=1).set_linestyle(\"--\")\n",
    "        #plt.axhline(-np.log10(max_pval), 0, 1, color='#666666', lw=1).set_linestyle(\"--\")\n",
    "\n",
    "\n",
    "        # title & axis labels\n",
    "        title = 'Combined p-value & fold change threshold\\n('  + str(n_diff) + ' genes passing thresholds of ' + str(logfc_cut_off) + ' and ' + str(pval_cut_off) + ')'\n",
    "        ax.set_title(title, fontweight='bold')\n",
    "        ax.set_ylabel('$log_2$ Fold Change')\n",
    "        ax.set_xlabel('$log_2$ Expression')\n",
    "\n",
    "        plt.show()\n",
    "        \n",
    "    return results\n",
    "    \n",
    "\n",
    "\n",
    "\n",
    "\n",
    "##################################################################################################################################################################################\n",
    "##################################################################################################################################################################################\n",
    "##################################################################################################################################################################################\n",
    "##################################################################################################################################################################################\n",
    "\n",
    "\n",
    "def dot_plot_edger(\n",
    "    adata,\n",
    "    results_dict = None,\n",
    "    keys = None,\n",
    "    layer = 'sct_logcounts',\n",
    "    cmap='RdBu_r'\n",
    "):\n",
    "    results = results_dict[results_dict['groupby_categories'][0]]\n",
    "\n",
    "    # copy adata\n",
    "    adata_temp = adata.copy()\n",
    "\n",
    "    # set selected layer to .X\n",
    "    if layer is not None:\n",
    "        adata_temp.X = adata_temp.layers[layer].copy()\n",
    "\n",
    "    # subset adata to group provided in restrict_to\n",
    "    restrict_to = results_dict['restrict_to']\n",
    "    groups_restrict = results_dict['groups_restrict']\n",
    "\n",
    "    if restrict_to == None:\n",
    "        adata_temp_test = adata_temp.copy()\n",
    "    else:\n",
    "        adata_temp_test = adata_temp[adata_temp.obs[groups_restrict].isin([restrict_to])].copy()\n",
    "\n",
    "    # filter genes expressed in few cells\n",
    "    adata_temp_test = adata_temp_test[:,results['names']]\n",
    "\n",
    "    # filter keys\n",
    "    de_genes = results['names'][(abs(results['logfc']) >= results_dict['logfc_cut_off']) & (results['log_pvals_adj'] >= results_dict['pval_cut_off'])]\n",
    "    keys = [key for key in keys if key in list(de_genes)]\n",
    "\n",
    "    # plot data\n",
    "    ## var group pos\n",
    "    if len(keys) > 0:\n",
    "            var_group_positions=[(0,results[(results.names.isin(keys)) & (results['logfc'] < 0)].shape[0]-1),(results[(results.names.isin(keys)) & (results['logfc'] < 0)].shape[0],results[(results.names.isin(keys))].shape[0]-1)]\n",
    "    \n",
    "    ## colors\n",
    "    index = pd.Index(results_dict['groupby_categories'], name='groupby')\n",
    "    color_df = pd.DataFrame([results['logfc'],\n",
    "                             -results['logfc']],\n",
    "                           index=index).T\n",
    "    color_df.index = results['names']\n",
    "    color_df = color_df.T\n",
    "    color_df = color_df.loc[:,keys]\n",
    "    limit = abs(color_df).max().max()\n",
    "    \n",
    "    ## plot\n",
    "    sc.pl.DotPlot(adata_temp_test, \n",
    "                  var_names=keys, \n",
    "                  groupby=results_dict['groupby'], \n",
    "                  dot_color_df=color_df, \n",
    "                  var_group_positions=var_group_positions, \n",
    "                  var_group_labels=results_dict['groupby_categories'][::-1],\n",
    "                  vmin=-limit, \n",
    "                  vmax=limit, \n",
    "                  cmap=cmap).style(color_on='square', \n",
    "                                   dot_edge_lw=1, \n",
    "                                   grid=True, \n",
    "                                   dot_edge_color=None).legend(colorbar_title='log$_2$ Fold Change').show()\n",
    "\n",
    "    del adata_temp_test\n",
    "    del results\n",
    "    gc.collect()\n",
    "\n",
    "\n",
    "##################################################################################################################################################################################\n",
    "##################################################################################################################################################################################\n",
    "##################################################################################################################################################################################\n",
    "##################################################################################################################################################################################\n",
    "\n"
   ]
  },
  {
   "cell_type": "markdown",
   "metadata": {},
   "source": [
    "## load Adata"
   ]
  },
  {
   "cell_type": "code",
   "execution_count": null,
   "metadata": {},
   "outputs": [],
   "source": [
    "EECs = ['Goblet/EEC prog. (early)',\n",
    "'K-cell (Gip+)',\n",
    "'EC (mature)',\n",
    "'EC (immature)',\n",
    "'EEC (Peptide/immature)' ,\n",
    "'L/I-cell (Glp1+/Cck+)' ,\n",
    "'EEC prog. (mid)',\n",
    "'EC prog. (late)',\n",
    "'D-cell (Sst+)',\n",
    "'EEC prog. (late/Peptide)',\n",
    "'EC 2' ,\n",
    "'X-cell (Ghrl+)']\n",
    "Paneth = ['Paneth','Paneth prog.', 'Goblet-Paneth-like', 'Goblet-Paneth-like(cycling)']\n",
    "Progenitors = ['Goblet/EEC prog. (early)','Paneth prog.', 'Tuft prog.','Tuft prog. 2']"
   ]
  },
  {
   "cell_type": "code",
   "execution_count": null,
   "metadata": {},
   "outputs": [],
   "source": [
    "adata = sc.read_h5ad('joint_diseased_healthy_with_layers_metadata_corrected_anno_updated.h5ad')"
   ]
  },
  {
   "cell_type": "raw",
   "metadata": {
    "vscode": {
     "languageId": "raw"
    }
   },
   "source": [
    "def read_excel_metadata(path, ix_col=None):\n",
    "    metadata = pd.read_excel(path, index_col=ix_col)\n",
    "    #print(metadata)\n",
    "    return metadata     \n",
    "## add metadata\n",
    "metadata_df =read_excel_metadata(f'/mnt/hdd/data/metadata_mouse_gut.xlsx')\n",
    "# Ensure folder name is the index in metadata for easier access\n",
    "metadata_df.drop(metadata_df[metadata_df['kit'] == 'Multiome_ATAC_v1'].index, inplace=True)\n",
    "#metadata_df.drop(metadata_df[metadata_df['condition'].isin(['Ctr','Ctr/WT'])].index, inplace=True)\n",
    "metadata_df.set_index('folder name', inplace=True)\n",
    "metadata_df.drop(['Sample Pooling - confounded with Project?','date','Project Name','Link_id','sample name','Cell Count [cells/µl]','Viable Cells [%]','Lib. Concentration [ng/µl]','Lib. Molarity [nM]','Average Lib. Size [bp]','cDNA Cycles','Lib. Cycles','10x Sample Index','Sequencing Depth [reads/cell]','exclusion, reason'], axis=1, inplace=True)\n",
    "# Function to update adata.obs with metadata using a lambda function\n",
    "for col in metadata_df.columns:\n",
    "    try:\n",
    "        adata.obs[col] = adata.obs['sample'].apply(lambda x: metadata_df.at[x, col])\n",
    "    except KeyError as err:\n",
    "        print(f'no such key: {err} in col {col}')"
   ]
  },
  {
   "cell_type": "raw",
   "metadata": {
    "vscode": {
     "languageId": "raw"
    }
   },
   "source": [
    "adata.obs.drop(['sample number Minas'],axis=1,inplace=True)"
   ]
  },
  {
   "cell_type": "code",
   "execution_count": null,
   "metadata": {},
   "outputs": [],
   "source": [
    "adata.obs['enrichment proportion'] =adata.obs['enrichment proportion'].astype('category')"
   ]
  },
  {
   "cell_type": "code",
   "execution_count": null,
   "metadata": {},
   "outputs": [],
   "source": [
    "adata.obs['enrichment proportion'].cat.categories"
   ]
  },
  {
   "cell_type": "raw",
   "metadata": {
    "vscode": {
     "languageId": "raw"
    }
   },
   "source": [
    "adata.obs['enrichment proportion'] = adata.obs['enrichment proportion'].cat.add_categories('None')"
   ]
  },
  {
   "cell_type": "raw",
   "metadata": {
    "vscode": {
     "languageId": "raw"
    }
   },
   "source": [
    "adata.obs['enrichment proportion'][adata.obs['enrichment proportion'].isna()]='None'"
   ]
  },
  {
   "cell_type": "raw",
   "metadata": {
    "vscode": {
     "languageId": "raw"
    }
   },
   "source": [
    "adata.write('joint_diseased_healthy_with_layers_metadata_corrected_anno_updated.h5ad')"
   ]
  },
  {
   "cell_type": "markdown",
   "metadata": {},
   "source": [
    "## healthy only"
   ]
  },
  {
   "cell_type": "code",
   "execution_count": null,
   "metadata": {},
   "outputs": [],
   "source": [
    "adata = adata[adata.obs['atlas'].isin(['reference'])].copy()"
   ]
  },
  {
   "cell_type": "code",
   "execution_count": null,
   "metadata": {},
   "outputs": [],
   "source": [
    "gc.collect()"
   ]
  },
  {
   "cell_type": "code",
   "execution_count": null,
   "metadata": {},
   "outputs": [],
   "source": [
    "adata.obs['cell_type_annotation_lv1'].value_counts()"
   ]
  },
  {
   "cell_type": "raw",
   "metadata": {
    "vscode": {
     "languageId": "raw"
    }
   },
   "source": [
    "def read_excel_metadata(path, ix_col=None):\n",
    "    metadata = pd.read_excel(path, index_col=ix_col)\n",
    "    #print(metadata)\n",
    "    return metadata     \n",
    "import pandas as pd\n",
    "## add metadata\n",
    "metadata_df =read_excel_metadata(f'/mnt/hdd/data/metadata_mouse_gut.xlsx')\n",
    "# Ensure folder name is the index in metadata for easier access\n",
    "metadata_df.drop(metadata_df[metadata_df['kit'] == 'Multiome_ATAC_v1'].index, inplace=True)\n",
    "#metadata_df.drop(metadata_df[metadata_df['condition'].isin(['Ctr','Ctr/WT'])].index, inplace=True)\n",
    "metadata_df.set_index('folder name', inplace=True)\n",
    "metadata_df.drop(['Sample Pooling - confounded with Project?','date','Project Name','Link_id','sample name','Cell Count [cells/µl]','Viable Cells [%]','Lib. Concentration [ng/µl]','Lib. Molarity [nM]','Average Lib. Size [bp]','cDNA Cycles','Lib. Cycles','10x Sample Index','Sequencing Depth [reads/cell]','exclusion, reason'], axis=1, inplace=True)\n",
    "# Function to update adata.obs with metadata using a lambda function\n",
    "for col in metadata_df.columns:\n",
    "    try:\n",
    "        adata.obs[col] = adata.obs['sample'].apply(lambda x: metadata_df.at[x, col])\n",
    "    except KeyError as err:\n",
    "        print(f'no such key: {err} in col {col}')"
   ]
  },
  {
   "cell_type": "markdown",
   "metadata": {},
   "source": [
    "## EECs"
   ]
  },
  {
   "cell_type": "code",
   "execution_count": null,
   "metadata": {},
   "outputs": [],
   "source": [
    "adata_EEC = adata[adata.obs['cell_type_annotation_lv1'].isin(EECs)].copy()"
   ]
  },
  {
   "cell_type": "code",
   "execution_count": null,
   "metadata": {},
   "outputs": [],
   "source": [
    "adata_EEC.X = adata_EEC.layers['sct_logcounts']"
   ]
  },
  {
   "cell_type": "code",
   "execution_count": null,
   "metadata": {},
   "outputs": [],
   "source": [
    "adata_EEC"
   ]
  },
  {
   "cell_type": "code",
   "execution_count": null,
   "metadata": {},
   "outputs": [],
   "source": [
    "del adata\n",
    "gc.collect()"
   ]
  },
  {
   "cell_type": "code",
   "execution_count": null,
   "metadata": {},
   "outputs": [],
   "source": [
    "sc.pp.neighbors(adata_EEC, use_rep='X_scarches_emb')\n",
    "sc.tl.leiden(adata_EEC, resolution=1.5)"
   ]
  },
  {
   "cell_type": "code",
   "execution_count": null,
   "metadata": {},
   "outputs": [],
   "source": [
    "sc.tl.paga(adata_EEC, groups='cell_type_annotation_lv1')"
   ]
  },
  {
   "cell_type": "code",
   "execution_count": null,
   "metadata": {},
   "outputs": [],
   "source": [
    "sc.pl.paga(adata_EEC,  fontsize=5, save = 'paga_healthy_EEC_subs.png')#, fontoutline=True, threshold=0.05, max_edge_width=3, min_edge_width=0.01, node_size_scale=3,"
   ]
  },
  {
   "cell_type": "code",
   "execution_count": null,
   "metadata": {},
   "outputs": [],
   "source": [
    "sc.tl.umap(adata_EEC, init_pos='paga')"
   ]
  },
  {
   "cell_type": "code",
   "execution_count": null,
   "metadata": {},
   "outputs": [],
   "source": [
    "sc.pl.umap(adata_EEC, color=['pretty name','cell_type_annotation_lv1','leiden'], size=10, add_outline=True, alpha=1, outline_width=(0.3, 0.0), ncols=3, cmap=mymap,wspace=1, frameon= True)"
   ]
  },
  {
   "cell_type": "markdown",
   "metadata": {},
   "source": [
    "### run DElegate"
   ]
  },
  {
   "cell_type": "code",
   "execution_count": null,
   "metadata": {},
   "outputs": [],
   "source": [
    "results = run_DElegate_findMarkers(adata_EEC, \n",
    "                        layer = 'raw_counts', \n",
    "                        group_column = 'leiden', \n",
    "                        replicate_column = None, \n",
    "                        method = \"edger\", \n",
    "                        min_rate = 0.05,\n",
    "                        min_fc = 1,\n",
    "                        verbosity = 1, \n",
    "                        n_core = 20, \n",
    "                        max_memory = 4)"
   ]
  },
  {
   "cell_type": "code",
   "execution_count": null,
   "metadata": {},
   "outputs": [],
   "source": [
    "for cluster in set(adata_EEC.obs['leiden']):\n",
    "    print(cluster)    \n",
    "    sc.pl.umap(adata_EEC, color=list(results.loc[results['group1']==cluster.replace(\" \",\"_\"),\"feature\"][0:10]), layer='log_dca_counts', size=10, add_outline=True, alpha=0.7, outline_width=(0.3, 0.0), ncols=5)"
   ]
  },
  {
   "cell_type": "code",
   "execution_count": null,
   "metadata": {},
   "outputs": [],
   "source": [
    "gc.collect()\n",
    "de_results = get_diff_exprs_DElegate(\n",
    "    adata = adata_EEC, \n",
    "    groupby ='leiden', # groups/condtions to test (e.g stage, sample, ...)\n",
    "    #groups_restrict = 'all_cells', #restrict test to gives cell type or cluster\n",
    "    #restrict_to = 'all', #identity of cell type the should be restricted to. e.g Beta\n",
    "    layer = 'log_dca_counts',\n",
    "#     group_column = None, \n",
    "#     replicate_column = None, \n",
    "    method = \"edger\", \n",
    "    filter_ambient_genes = False, \n",
    "    rank_genes_groups_key = None, # rank genes group key with markers for groups_restrict\n",
    "    get_marker = False, # run to rank_genes_groups to identify markers\n",
    "    min_gene_score = 0, # min score a cluster marker should have to be cluster-specific\n",
    "    min_cluster_size = 100, \n",
    "    min_frac_cells = 0.05,\n",
    "    sample_key = 'sample', # key for samples/replicates\n",
    "    #additional_variables=[],  # which metadata to keep, e.g. gender, age, etc.\n",
    "    #replicates_per_sample=3, # number of pseudoreplicates/sample\n",
    "    #min_cell_per_sample=30,\n",
    "    #aggr_method='sum',\n",
    "    plot = True,\n",
    "    return_results = 'dict' # or 'top_table'\n",
    ")"
   ]
  },
  {
   "cell_type": "code",
   "execution_count": null,
   "metadata": {},
   "outputs": [],
   "source": [
    "pd.set_option('display.max_colwidth', 20)\n",
    "term_key_words = 'golgi|stress|ER|localization|autopha|cilium|cytoskeleton|Wnt|PCP|planar|polarity|mTOR|cell-cell|adhesion|junction|integrin|oxidative phos|mitochondria|electron|translation|ribosome|microtubule|signal|insulin|Insulin|IGF|cycle|mito|hormone|peptide|secretion|transcription'\n",
    "results_enrichment = get_go_terms(results_dict=de_results, min_score=None, max_pval=10**-de_results['pval_cut_off'], min_logfc=de_results['logfc_cut_off'], selection_string=term_key_words, plot_select=True, plot_top=True, plot_all=False, n_select=20, width_factor=30)"
   ]
  },
  {
   "cell_type": "markdown",
   "metadata": {},
   "source": [
    "### rank genes"
   ]
  },
  {
   "cell_type": "code",
   "execution_count": null,
   "metadata": {},
   "outputs": [],
   "source": [
    "adata_EEC"
   ]
  },
  {
   "cell_type": "markdown",
   "metadata": {},
   "source": [
    "### scran counts (already log)"
   ]
  },
  {
   "cell_type": "code",
   "execution_count": null,
   "metadata": {},
   "outputs": [],
   "source": [
    "sc.tl.rank_genes_groups(adata_EEC, 'leiden', method='wilcoxon', layer = 'scran_counts', use_raw=False)\n",
    "\n",
    "# to visualize the results\n",
    "\n",
    "sc.pl.rank_genes_groups(adata_EEC)"
   ]
  },
  {
   "cell_type": "code",
   "execution_count": null,
   "metadata": {},
   "outputs": [],
   "source": [
    "sc.tl.dendrogram(adata_EEC, groupby='leiden')"
   ]
  },
  {
   "cell_type": "code",
   "execution_count": null,
   "metadata": {},
   "outputs": [],
   "source": [
    "del adata_EEC.raw"
   ]
  },
  {
   "cell_type": "code",
   "execution_count": null,
   "metadata": {},
   "outputs": [],
   "source": [
    "adata_EEC.X= adata_EEC.layers['scran_counts']"
   ]
  },
  {
   "cell_type": "code",
   "execution_count": null,
   "metadata": {},
   "outputs": [],
   "source": [
    "sc.pl.rank_genes_groups_dotplot(adata_EEC, n_genes=5, key=\"rank_genes_groups\", groupby=\"leiden\")\n"
   ]
  },
  {
   "cell_type": "markdown",
   "metadata": {},
   "source": [
    "### sct counts"
   ]
  },
  {
   "cell_type": "code",
   "execution_count": null,
   "metadata": {},
   "outputs": [],
   "source": [
    "sc.tl.rank_genes_groups(adata_EEC, 'leiden', method='wilcoxon', layer = 'sct_logcounts', use_raw=False)\n",
    "\n",
    "# to visualize the results\n",
    "\n",
    "sc.pl.rank_genes_groups(adata_EEC)"
   ]
  },
  {
   "cell_type": "code",
   "execution_count": null,
   "metadata": {},
   "outputs": [],
   "source": [
    "adata_EEC.X= adata_EEC.layers['sct_logcounts']"
   ]
  },
  {
   "cell_type": "code",
   "execution_count": null,
   "metadata": {},
   "outputs": [],
   "source": [
    "sc.pl.rank_genes_groups_dotplot(adata_EEC, n_genes=5, key=\"rank_genes_groups\", groupby=\"leiden\")\n"
   ]
  },
  {
   "cell_type": "markdown",
   "metadata": {},
   "source": [
    "### metadata"
   ]
  },
  {
   "cell_type": "code",
   "execution_count": null,
   "metadata": {},
   "outputs": [],
   "source": [
    "adata_EEC.obs['doublet_calls'] = adata_EEC.obs['doublet_calls'].astype('category')"
   ]
  },
  {
   "cell_type": "code",
   "execution_count": null,
   "metadata": {},
   "outputs": [],
   "source": [
    "adata_EEC.uns['doublet_calls_colors'] = np.array([mpl.colors.to_hex(color, keep_alpha=True) for color in mymap(np.linspace(0,2,8))])"
   ]
  },
  {
   "cell_type": "code",
   "execution_count": null,
   "metadata": {},
   "outputs": [],
   "source": [
    "sc.pl.umap(adata_EEC, color=['Project','enriched','phase','kit','line','strain', 'doublet_calls', 'enrichment proportion'], size=10, add_outline=True, alpha=1, outline_width=(0.3, 0.0), ncols=4, legend_fontsize=8, color_map=mymap,wspace = 0.4, save = 'EEC_subs_healthy_metadata.png', frameon= True)"
   ]
  },
  {
   "cell_type": "code",
   "execution_count": null,
   "metadata": {},
   "outputs": [],
   "source": [
    "plot_composition(adata_EEC, y_key='doublet_calls', x_key='leiden', x_rotation=90)"
   ]
  },
  {
   "cell_type": "code",
   "execution_count": null,
   "metadata": {},
   "outputs": [],
   "source": [
    "adata_EEC = adata_EEC[~adata_EEC.obs['leiden'].isin(['15','16'])].copy()"
   ]
  },
  {
   "cell_type": "code",
   "execution_count": null,
   "metadata": {},
   "outputs": [],
   "source": [
    "sc.pl.umap(adata_EEC, color=['leiden'], size=10, add_outline=True, alpha=1, outline_width=(0.3, 0.0), ncols=4, legend_fontsize=8, color_map=mymap,wspace = 0.4)"
   ]
  },
  {
   "cell_type": "code",
   "execution_count": null,
   "metadata": {},
   "outputs": [],
   "source": [
    "sc.tl.rank_genes_groups(adata_EEC, 'leiden', method='wilcoxon', layer = 'sct_logcounts', use_raw=False)"
   ]
  },
  {
   "cell_type": "code",
   "execution_count": null,
   "metadata": {},
   "outputs": [],
   "source": [
    "adata_EEC.X= adata_EEC.layers['sct_logcounts']"
   ]
  },
  {
   "cell_type": "code",
   "execution_count": null,
   "metadata": {},
   "outputs": [],
   "source": [
    "sc.tl.dendrogram(adata_EEC, groupby='leiden')"
   ]
  },
  {
   "cell_type": "code",
   "execution_count": null,
   "metadata": {},
   "outputs": [],
   "source": [
    "sc.pl.rank_genes_groups_dotplot(adata_EEC, n_genes=5, key=\"rank_genes_groups\", groupby=\"leiden\")\n"
   ]
  },
  {
   "cell_type": "markdown",
   "metadata": {},
   "source": [
    "### TFs"
   ]
  },
  {
   "cell_type": "code",
   "execution_count": null,
   "metadata": {},
   "outputs": [],
   "source": [
    "with open('TF_mouse_all.txt', 'r') as file:\n",
    "    TFs = file.read().splitlines()"
   ]
  },
  {
   "cell_type": "code",
   "execution_count": null,
   "metadata": {},
   "outputs": [],
   "source": [
    "ranked_genes = adata_EEC.uns['rank_genes_groups']['names']"
   ]
  },
  {
   "cell_type": "code",
   "execution_count": null,
   "metadata": {},
   "outputs": [],
   "source": [
    "ranked_genes.dtype.names"
   ]
  },
  {
   "cell_type": "code",
   "execution_count": null,
   "metadata": {},
   "outputs": [],
   "source": [
    "ranked_genes"
   ]
  },
  {
   "cell_type": "code",
   "execution_count": null,
   "metadata": {},
   "outputs": [],
   "source": [
    "n = -1\n",
    "differentially_expressed_tfs = {}\n",
    "N =10\n",
    "for group in ranked_genes.dtype.names:\n",
    "    n+=1\n",
    "    differentially_expressed_tfs[n] = []\n",
    "    for i, gene in enumerate(ranked_genes[group]):\n",
    "        if gene in TFs and i < N:\n",
    "            if gene not in differentially_expressed_tfs[n]:\n",
    "                differentially_expressed_tfs[n].append(gene)\n",
    "\n",
    "print(differentially_expressed_tfs)"
   ]
  },
  {
   "cell_type": "code",
   "execution_count": null,
   "metadata": {},
   "outputs": [],
   "source": [
    "# Flatten the list of genes\n",
    "all_tfs = [gene for genes in differentially_expressed_tfs.values() for gene in genes]\n",
    "all_tfs = list(set(all_tfs))  # Remove duplicates"
   ]
  },
  {
   "cell_type": "code",
   "execution_count": null,
   "metadata": {},
   "outputs": [],
   "source": [
    "np.max(adata_EEC.X)"
   ]
  },
  {
   "cell_type": "code",
   "execution_count": null,
   "metadata": {},
   "outputs": [],
   "source": [
    "#sc.pl.rank_genes_groups_dotplot(adata_EEC, var_names = all_tfs)\n",
    "sc.pl.dotplot(adata_EEC, all_tfs, groupby='leiden',dendrogram=True, layer='sct_logcounts',use_raw=False)"
   ]
  },
  {
   "cell_type": "code",
   "execution_count": null,
   "metadata": {},
   "outputs": [],
   "source": [
    "sc.pl.umap(adata_EEC, color=['leiden'], size=10, add_outline=True, alpha=1, outline_width=(0.3, 0.0), ncols=3, cmap=mymap,legend_loc='on data', frameon= True)"
   ]
  },
  {
   "cell_type": "code",
   "execution_count": null,
   "metadata": {},
   "outputs": [],
   "source": [
    "sc.pl.umap(adata_EEC, color=['cell_type_annotation_lv1','leiden', 'doublet_calls'], size=10, add_outline=True, alpha=1, outline_width=(0.3, 0.0), ncols=3, cmap=mymap,wspace=0.6, frameon= True)"
   ]
  },
  {
   "cell_type": "code",
   "execution_count": null,
   "metadata": {},
   "outputs": [],
   "source": [
    "adata_EEC"
   ]
  },
  {
   "cell_type": "code",
   "execution_count": null,
   "metadata": {},
   "outputs": [],
   "source": [
    "sc.pl.umap(adata_EEC, color=all_tfs, size=10, add_outline=True, alpha=1, outline_width=(0.3, 0.0), ncols=5, cmap=mymap, layer='log_dca_counts', save= 'umap_healthy_TFs_EEC.png', frameon= True)"
   ]
  },
  {
   "cell_type": "code",
   "execution_count": null,
   "metadata": {},
   "outputs": [],
   "source": [
    "sc.pl.umap(adata_EEC, color=['Ghrl','Sst','Gcg','Gip','Cck','Sct','Tac1','Tph1', 'Spdef','Reg4'],layer= 'log_dca_counts',size=10, add_outline=True, alpha=1, outline_width=(0.3, 0.0), ncols=5, cmap=mymap, save = 'EEC_subs_healthy_EECs_hormones_expr.png', frameon= True)"
   ]
  },
  {
   "cell_type": "markdown",
   "metadata": {},
   "source": [
    "# fine anntoation level 2 EEC"
   ]
  },
  {
   "cell_type": "markdown",
   "metadata": {},
   "source": [
    "first exclude Goblet signed cells in progenitors\n",
    "then, recluster and annotate clusters in appropriate resolution"
   ]
  },
  {
   "cell_type": "code",
   "execution_count": null,
   "metadata": {},
   "outputs": [],
   "source": [
    "sc.tl.leiden(adata_EEC, resolution=1.5)"
   ]
  },
  {
   "cell_type": "code",
   "execution_count": null,
   "metadata": {},
   "outputs": [],
   "source": [
    "sc.tl.umap(adata_EEC, init_pos='paga')"
   ]
  },
  {
   "cell_type": "code",
   "execution_count": null,
   "metadata": {},
   "outputs": [],
   "source": [
    "adata_EEC.X =adata_EEC.layers['log_dca_counts']"
   ]
  },
  {
   "cell_type": "code",
   "execution_count": null,
   "metadata": {},
   "outputs": [],
   "source": [
    "sc.pl.umap(adata_EEC, color=['Spdef','Neurog3','leiden'], use_raw=False,size=10, add_outline=True, alpha=1, outline_width=(0.3, 0.0), ncols=3, cmap=mymap)"
   ]
  },
  {
   "cell_type": "code",
   "execution_count": null,
   "metadata": {},
   "outputs": [],
   "source": [
    "sc.tl.leiden(adata_EEC, restrict_to=('leiden', ['7','5','12','13']), resolution=1.5, key_added='leiden_sub_goblet')"
   ]
  },
  {
   "cell_type": "code",
   "execution_count": null,
   "metadata": {},
   "outputs": [],
   "source": [
    "sc.pl.umap(adata_EEC, color=['Spdef','Neurog3','leiden_sub_goblet'], use_raw=False,size=10, add_outline=True, alpha=1, outline_width=(0.3, 0.0), ncols=3, cmap=mymap)"
   ]
  },
  {
   "cell_type": "code",
   "execution_count": null,
   "metadata": {},
   "outputs": [],
   "source": [
    "\n",
    "gene_of_interest = 'Spdef' \n",
    "\n",
    "with rc_context({'figure.figsize': (6, 4)}):\n",
    "    sc.pl.violin(adata_EEC, use_raw=False, keys=['Spdef'], groupby='leiden_sub_goblet', rotation=90, show=False)\n",
    "    plt.title(f'Expression of {gene_of_interest} per Leiden cluster')\n",
    "    plt.xlabel('Leiden Cluster')\n",
    "    plt.ylabel('Expression Level')\n",
    "    plt.show()"
   ]
  },
  {
   "cell_type": "code",
   "execution_count": null,
   "metadata": {},
   "outputs": [],
   "source": [
    "Goblet_clusters = ['7-5-12-13,0','7-5-12-13,3','7-5-12-13,4','7-5-12-13,5','7-5-12-13,7','7-5-12-13,10','7-5-12-13,11']\n",
    "adata_EEC = adata_EEC[~adata_EEC.obs['leiden_sub_goblet'].isin(Goblet_clusters)]\n",
    "adata_EEC"
   ]
  },
  {
   "cell_type": "code",
   "execution_count": null,
   "metadata": {},
   "outputs": [],
   "source": [
    "sc.pp.neighbors(adata_EEC, use_rep='X_scarches_emb')\n",
    "sc.tl.leiden(adata_EEC, resolution=1.5)"
   ]
  },
  {
   "cell_type": "code",
   "execution_count": null,
   "metadata": {},
   "outputs": [],
   "source": [
    "sc.tl.paga(adata_EEC, groups='cell_type_annotation_lv1')"
   ]
  },
  {
   "cell_type": "code",
   "execution_count": null,
   "metadata": {},
   "outputs": [],
   "source": [
    "sc.pl.paga(adata_EEC,  fontsize=4)#, fontoutline=True, threshold=0.05, max_edge_width=3, min_edge_width=0.01, node_size_scale=3,"
   ]
  },
  {
   "cell_type": "code",
   "execution_count": null,
   "metadata": {},
   "outputs": [],
   "source": [
    "sc.tl.umap(adata_EEC, init_pos='paga')"
   ]
  },
  {
   "cell_type": "code",
   "execution_count": null,
   "metadata": {},
   "outputs": [],
   "source": [
    "sc.pl.umap(adata_EEC, color=['pretty name','cell_type_annotation_lv1','leiden'], size=10, add_outline=True,legend_fontsize=9, alpha=1, outline_width=(0.3, 0.0), ncols=3, cmap=mymap,wspace=1, frameon=True)"
   ]
  },
  {
   "cell_type": "code",
   "execution_count": null,
   "metadata": {},
   "outputs": [],
   "source": [
    "sc.pl.umap(adata_EEC, color=['cell_type_annotation_lv1'], size=10, add_outline=True, alpha=1, outline_width=(0.3, 0.0), ncols=3, cmap=mymap,wspace=0.6, save = 'EEC_subs_healthy_without_GC_anno.png', legend_fontsize = 9, frameon=True)\n"
   ]
  },
  {
   "cell_type": "code",
   "execution_count": null,
   "metadata": {},
   "outputs": [],
   "source": [
    "sc.pl.umap(adata_EEC, color=['leiden'], size=8, add_outline=True, alpha=1, outline_width=(0.3, 0.0), legend_loc='on data', save = 'EEC_subs_healthy_without_GC_leiden.png', legend_fontsize = 16, frameon=True)\n"
   ]
  },
  {
   "cell_type": "raw",
   "metadata": {
    "vscode": {
     "languageId": "raw"
    }
   },
   "source": [
    "sc.pl.umap(adata_EEC, color=['sample','Dock7'],layer='raw_counts', size=10, add_outline=True, alpha=1, outline_width=(0.3, 0.0), ncols=3, cmap=mymap,wspace=1)"
   ]
  },
  {
   "cell_type": "raw",
   "metadata": {
    "vscode": {
     "languageId": "raw"
    }
   },
   "source": [
    "sc.pl.violin(adata_EEC, groupby='sample',keys=['Dock7'],rotation=90)"
   ]
  },
  {
   "cell_type": "code",
   "execution_count": null,
   "metadata": {},
   "outputs": [],
   "source": [
    "del adata_EEC.raw\n",
    "gc.collect()"
   ]
  },
  {
   "cell_type": "code",
   "execution_count": null,
   "metadata": {},
   "outputs": [],
   "source": [
    "sc.tl.rank_genes_groups(adata_EEC, 'leiden', method='wilcoxon', layer = 'sct_logcounts', use_raw=False)\n",
    "\n",
    "# to visualize the results\n",
    "\n",
    "sc.pl.rank_genes_groups(adata_EEC)"
   ]
  },
  {
   "cell_type": "code",
   "execution_count": null,
   "metadata": {},
   "outputs": [],
   "source": [
    "sc.tl.dendrogram(adata_EEC, groupby='leiden')"
   ]
  },
  {
   "cell_type": "code",
   "execution_count": null,
   "metadata": {},
   "outputs": [],
   "source": [
    "adata_EEC.X = adata_EEC.layers['sct_logcounts']"
   ]
  },
  {
   "cell_type": "code",
   "execution_count": null,
   "metadata": {},
   "outputs": [],
   "source": [
    "sc.pl.rank_genes_groups_dotplot(adata_EEC, n_genes=5, key=\"rank_genes_groups\", groupby=\"leiden\")\n"
   ]
  },
  {
   "cell_type": "code",
   "execution_count": null,
   "metadata": {},
   "outputs": [],
   "source": [
    "plot_composition(adata_EEC, y_key='pretty name', x_key='leiden', x_rotation=90)"
   ]
  },
  {
   "cell_type": "code",
   "execution_count": null,
   "metadata": {},
   "outputs": [],
   "source": [
    "sc.pl.umap(adata_EEC, color=['Project','enriched','phase','kit','line','strain', 'doublet_calls', 'enrichment proportion'], size=10, add_outline=True, alpha=1, outline_width=(0.3, 0.0), ncols=4, legend_fontsize=8,cmap=mymap, wspace = 0.4, save = 'EEC_subs_without_GCX_metadata.png', frameon=True)"
   ]
  },
  {
   "cell_type": "code",
   "execution_count": null,
   "metadata": {},
   "outputs": [],
   "source": [
    "plot_composition(adata_EEC, y_key='enriched', x_key='leiden', x_rotation=90)"
   ]
  },
  {
   "cell_type": "code",
   "execution_count": null,
   "metadata": {},
   "outputs": [],
   "source": [
    "plot_composition(adata_EEC, y_key='line', x_key='leiden', x_rotation=90)"
   ]
  },
  {
   "cell_type": "code",
   "execution_count": null,
   "metadata": {},
   "outputs": [],
   "source": [
    "plot_composition(adata_EEC, y_key='strain', x_key='leiden', x_rotation=90)"
   ]
  },
  {
   "cell_type": "code",
   "execution_count": null,
   "metadata": {},
   "outputs": [],
   "source": [
    "plot_composition(adata_EEC, y_key='enrichment proportion', x_key='leiden', x_rotation=90)"
   ]
  },
  {
   "cell_type": "code",
   "execution_count": null,
   "metadata": {},
   "outputs": [],
   "source": [
    "plot_composition(adata_EEC, y_key='Project', x_key='leiden', x_rotation=90)"
   ]
  },
  {
   "cell_type": "code",
   "execution_count": null,
   "metadata": {},
   "outputs": [],
   "source": [
    "plot_composition(adata_EEC, y_key='kit', x_key='leiden', x_rotation=90)"
   ]
  },
  {
   "cell_type": "markdown",
   "metadata": {},
   "source": [
    "## TFs"
   ]
  },
  {
   "cell_type": "code",
   "execution_count": null,
   "metadata": {},
   "outputs": [],
   "source": [
    "with open('TF_mouse_all.txt', 'r') as file:\n",
    "    TFs = file.read().splitlines()"
   ]
  },
  {
   "cell_type": "code",
   "execution_count": null,
   "metadata": {},
   "outputs": [],
   "source": [
    "ranked_genes = adata_EEC.uns['rank_genes_groups']['names']"
   ]
  },
  {
   "cell_type": "code",
   "execution_count": null,
   "metadata": {},
   "outputs": [],
   "source": [
    "ranked_genes"
   ]
  },
  {
   "cell_type": "code",
   "execution_count": null,
   "metadata": {},
   "outputs": [],
   "source": [
    "n = -1\n",
    "differentially_expressed_tfs = {}\n",
    "N =10\n",
    "for group in ranked_genes.dtype.names:\n",
    "    n+=1\n",
    "    differentially_expressed_tfs[n] = []\n",
    "    for i, gene in enumerate(ranked_genes[group]):\n",
    "        if gene in TFs and i < N:\n",
    "            if gene not in differentially_expressed_tfs[n]:\n",
    "                differentially_expressed_tfs[n].append(gene)\n",
    "\n",
    "print(differentially_expressed_tfs)"
   ]
  },
  {
   "cell_type": "code",
   "execution_count": null,
   "metadata": {},
   "outputs": [],
   "source": [
    "# Flatten the list of genes\n",
    "all_tfs = [gene for genes in differentially_expressed_tfs.values() for gene in genes]\n",
    "all_tfs = list(set(all_tfs))  # Remove duplicates"
   ]
  },
  {
   "cell_type": "code",
   "execution_count": null,
   "metadata": {},
   "outputs": [],
   "source": [
    "#sc.pl.rank_genes_groups_dotplot(adata_EEC, var_names = all_tfs)\n",
    "sc.pl.dotplot(adata_EEC, all_tfs, groupby='leiden',dendrogram=True, layer='sct_logcounts',use_raw=False)"
   ]
  },
  {
   "cell_type": "code",
   "execution_count": null,
   "metadata": {},
   "outputs": [],
   "source": [
    "sc.pl.umap(adata_EEC, color=all_tfs, size=10, add_outline=True, alpha=1, outline_width=(0.3, 0.0), ncols=6, cmap=mymap, layer='log_dca_counts', save= 'umap_healthy_TFs_withoutGC.png', frameon=True)"
   ]
  },
  {
   "cell_type": "code",
   "execution_count": null,
   "metadata": {},
   "outputs": [],
   "source": [
    "sc.pl.violin(adata_EEC,groupby='kit',keys=['Hmgn3', 'Glis3', 'Peg3'], rotation=90)"
   ]
  },
  {
   "cell_type": "code",
   "execution_count": null,
   "metadata": {},
   "outputs": [],
   "source": [
    "sc.pl.umap(adata_EEC, color=['Ghrl','Sst','Gcg','Gip','Pyy','Cck','Nts','Sct','Tac1','Tph1','Reg4'],layer= 'log_dca_counts',size=10, add_outline=True, alpha=1, outline_width=(0.3, 0.0), ncols=6, cmap=mymap, save = 'EEC_subs_healthy_EECs_hormones_expr_wo_GC.png', frameon= True)"
   ]
  },
  {
   "cell_type": "code",
   "execution_count": null,
   "metadata": {},
   "outputs": [],
   "source": [
    "sc.pl.umap(adata, color=['Gata4', 'Prrx1', 'Sp5', 'Nr1i3', 'Creb3l3','Creb3l2','Ada','Klf6', 'Bex1','Slc2a2','Reg1'],layer= 'log_dca_counts',size=10, add_outline=True, alpha=1, outline_width=(0.3, 0.0), ncols=6, cmap=mymap)#, save = 'EEC_subs_healthy_EECs_hormones_expr_wo_GC.png', frameon= True)"
   ]
  },
  {
   "cell_type": "code",
   "execution_count": null,
   "metadata": {},
   "outputs": [],
   "source": [
    "markergenes = {}\n",
    "markergenes['Stem'] = ['Lgr5', 'Ascl2', 'Slc12a2', 'Axin2', 'Olfm4', 'Gkn3']\n",
    "markergenes['Enterocyte (Proximal)'] = ['Gsta1','Rbp2','Adh6a','Apoa4','Reg3a','Creb3l3','Cyp3a13','Cyp2d26','Ms4a10','Ace','Aldh1a1','Rdh7','H2-Q2', 'Hsd17b6','Gstm3','Gda','Apoc3','Gpd1','Fabp1','Slc5a1','Mme','Cox7a1','Gsta4','Lct','Khk','Mttp','Xdh','Sult1b1', 'Treh','Lpgat1','Dhrs1','Cyp2c66','Ephx2','Cyp2c65','Cyp3a25','Slc2a2','Ugdh','Gstm6','Retsat','Acsl5', 'Cyb5r3','Cyb5b','Ckmt1','Aldob','Ckb','Scp2','Prap1']\n",
    "markergenes['Enterocyte (Distal)'] = ['Tmigd1','Fabp6','Slc51b','Slc51a','Mep1a','Fam151a','Naaladl1','Slc34a2','Plb1','Nudt4','Dpep1','Pmp22','Xpnpep2','Muc3','Neu1','Clec2h','Phgr1','2200002D01Rik','Prss30','Cubn','Plec','Fgf15','Crip1','Krt20','Dhcr24','Myo15b','Amn','Enpep','Anpep','Slc7a9','Ocm','Anxa2','Aoc1','Ceacam20','Arf6','Abcb1a','Xpnpep1','Vnn1','Cndp2','Nostrin','Slc13a1','Aspa','Maf','Myh14']\n",
    "markergenes['Goblet'] = ['Agr2', 'Fcgbp', 'Tff3', 'Clca1', 'Zg16', 'Tpsg1', 'Muc2', 'Galnt12', 'Atoh1', 'Rep15', 'S100a6', 'Pdia5', 'Klk1', 'Pla2g10', 'Spdef', 'Lrrc26', 'Ccl9', 'Bace2', 'Bcas1', 'Slc12a8', 'Smim14', 'Tspan13', 'Txndc5', 'Creb3l4', 'C1galt1c1', 'Creb3l1', 'Qsox1', 'Guca2a', 'Scin', 'Ern2', 'AW112010', 'Fkbp11', 'Capn9', 'Stard3nl', 'Slc50a1', 'Sdf2l1', 'Galnt7', 'Hpd', 'Ttc39a', 'Tmed3', 'Pdia6', 'Uap1', 'Gcnt3', 'Tnfaip8', 'Dnajc10', 'Ergic1', 'Tsta3', 'Kdelr3', 'Foxa3', 'Tpd52', 'Tmed9', 'Spink4', 'Nans', 'Cmtm7', 'Creld2', 'Tm9sf3', 'Wars', 'Smim6', 'Manf', 'Oit1', 'Tram1', 'Kdelr2', 'Xbp1', 'Serp1', 'Guk1', 'Sh3bgrl3', 'Cmpk1', 'Tmsb10', 'Dap', 'Ostc', 'Ssr4', 'Sec61b', 'Pdia3', 'Gale', 'Klf4', 'Krtcap2', 'Arf4', 'Sep15', 'Ssr2', 'Ramp1', 'Calr', 'Ddost']\n",
    "markergenes['Paneth'] = ['Defa17', 'Defa22', 'Mptx2', 'Ang4']\n",
    "markergenes['Enteroendocrine'] = ['Chgb', 'Gfra3', 'Cck', 'Vwa5b2', 'Neurod1', 'Fev', 'Aplp1', 'Scgn', 'Neurog3', 'Resp18', 'Trp53i11', 'Bex2', 'Rph3al', 'Scg5', 'Pcsk1', 'Isl1', 'Maged1', 'Fabp5', 'Celf3', 'Pcsk1n', 'Fam183b', 'Prnp', 'Tac1', 'Gpx3', 'Cplx2', 'Nkx2-2', 'Olfm1', 'Vim', 'Rimbp2', 'Anxa6', 'Scg3', 'Ngfrap1', 'Insm1', 'Gng4', 'Pax6', 'Cnot6l', 'Cacna2d1', 'Tox3', 'Slc39a2', 'Riiad1']\n",
    "markergenes['Tuft'] = ['Alox5ap', 'Lrmp', 'Hck', 'Avil', 'Rgs13', 'Ltc4s', 'Trpm5', 'Dclk1', 'Spib', 'Fyb', 'Ptpn6', 'Matk', 'Snrnp25', 'Sh2d7', 'Ly6g6f', 'Kctd12', '1810046K07Rik', 'Hpgds', 'Tuba1a', 'Pik3r5', 'Vav1', 'Tspan6', 'Skap2', 'Pygl', 'Ccdc109b', 'Ccdc28b', 'Plcg2', 'Ly6g6d', 'Alox5', 'Pou2f3', 'Gng13', 'Bmx', 'Ptpn18', 'Nebl', 'Limd2', 'Pea15a', 'Tmem176a', 'Smpx', 'Itpr2', 'Il13ra1', 'Siglecf', 'Ffar3', 'Rac2', 'Hmx2', 'Bpgm', 'Inpp5j', 'Ptgs1', 'Aldh2', 'Pik3cg', 'Cd24a', 'Ethe1', 'Inpp5d', 'Krt23', 'Gprc5c', 'Reep5', 'Csk', 'Bcl2l14', 'Tmem141', 'Coprs', 'Tmem176b', '1110007C09Rik', 'Ildr1', 'Galk1', 'Zfp428', 'Rgs2', 'Inpp5b', 'Gnai2', 'Pla2g4a', 'Acot7', 'Rbm38', 'Gga2', 'Myo1b', 'Adh1', 'Bub3', 'Sec14l1', 'Asah1', 'Ppp3ca', 'Agt', 'Gimap1', 'Krt18', 'Pim3', '2210016L21Rik', 'Tmem9', 'Lima1', 'Fam221a', 'Nt5c3', 'Atp2a3', 'Mlip', 'Vdac3', 'Ccdc23', 'Tmem45b', 'Cd47', 'Lect2', 'Pla2g16', 'Mocs2', 'Arpc5', 'Ndufaf3']"
   ]
  },
  {
   "cell_type": "code",
   "execution_count": null,
   "metadata": {},
   "outputs": [],
   "source": [
    "sc.pl.umap(adata, color=markergenes['Goblet'],layer= 'log_dca_counts',size=10, add_outline=True, alpha=1, outline_width=(0.3, 0.0), ncols=6, cmap=mymap)#, save = 'EEC_subs_healthy_EECs_hormones_expr_wo_GC.png', frameon= True)"
   ]
  },
  {
   "cell_type": "code",
   "execution_count": null,
   "metadata": {},
   "outputs": [],
   "source": [
    "sc.pl.umap(adata, color=markergenes['Stem'],layer= 'log_dca_counts',size=10, add_outline=True, alpha=1, outline_width=(0.3, 0.0), ncols=6, cmap=mymap)#, save = 'EEC_subs_healthy_EECs_hormones_expr_wo_GC.png', frameon= True)"
   ]
  },
  {
   "cell_type": "code",
   "execution_count": null,
   "metadata": {},
   "outputs": [],
   "source": [
    "sc.pl.umap(adata, color=markergenes['Enterocyte (Proximal)'],layer= 'log_dca_counts',size=10, add_outline=True, alpha=1, outline_width=(0.3, 0.0), ncols=6, cmap=mymap)#, save = 'EEC_subs_healthy_EECs_hormones_expr_wo_GC.png', frameon= True)"
   ]
  },
  {
   "cell_type": "code",
   "execution_count": null,
   "metadata": {},
   "outputs": [],
   "source": [
    "sc.pl.umap(adata, color=markergenes['Enterocyte (Distal)'],layer= 'log_dca_counts',size=10, add_outline=True, alpha=1, outline_width=(0.3, 0.0), ncols=6, cmap=mymap)#, save = 'EEC_subs_healthy_EECs_hormones_expr_wo_GC.png', frameon= True)"
   ]
  },
  {
   "cell_type": "code",
   "execution_count": null,
   "metadata": {},
   "outputs": [],
   "source": [
    "sc.pl.umap(adata, color=markergenes['Paneth'],layer= 'log_dca_counts',size=10, add_outline=True, alpha=1, outline_width=(0.3, 0.0), ncols=6, cmap=mymap)#, save = 'EEC_subs_healthy_EECs_hormones_expr_wo_GC.png', frameon= True)"
   ]
  },
  {
   "cell_type": "markdown",
   "metadata": {},
   "source": [
    "## Goblet and EECs"
   ]
  },
  {
   "cell_type": "code",
   "execution_count": null,
   "metadata": {},
   "outputs": [],
   "source": [
    "EECs = ['Goblet/EEC prog. (early)', 'Goblet', 'Goblet prog. (late)',\n",
    "'K-cell (Gip+)',\n",
    "'EC (mature)',\n",
    "'EC (immature)',\n",
    "'EEC (Peptide/immature)' ,\n",
    "'L/I-cell (Glp1+/Cck+)' ,\n",
    "'EEC prog. (mid)',\n",
    "'EC prog. (late)',\n",
    "'D-cell (Sst+)',\n",
    "'EEC prog. (late/Peptide)',\n",
    "'EC 2' ,\n",
    "'X-cell (Ghrl+)']\n",
    "Paneth = ['Paneth','Paneth prog.', 'Goblet-Paneth-like', 'Goblet-Paneth-like(cycling)']\n",
    "Progenitors = ['Goblet/EEC prog. (early)','Paneth prog.', 'Tuft prog.','Tuft prog. 2']"
   ]
  },
  {
   "cell_type": "code",
   "execution_count": null,
   "metadata": {},
   "outputs": [],
   "source": [
    "adata = sc.read_h5ad('joint_diseased_healthy_with_layers_metadata_corrected_anno_updated.h5ad')"
   ]
  },
  {
   "cell_type": "code",
   "execution_count": null,
   "metadata": {},
   "outputs": [],
   "source": [
    "adata.obs['enrichment proportion'].cat.categories"
   ]
  },
  {
   "cell_type": "markdown",
   "metadata": {},
   "source": [
    "### healthy only"
   ]
  },
  {
   "cell_type": "code",
   "execution_count": null,
   "metadata": {},
   "outputs": [],
   "source": [
    "adata = adata[adata.obs['atlas'].isin(['reference'])].copy()"
   ]
  },
  {
   "cell_type": "code",
   "execution_count": null,
   "metadata": {},
   "outputs": [],
   "source": [
    "gc.collect()"
   ]
  },
  {
   "cell_type": "code",
   "execution_count": null,
   "metadata": {},
   "outputs": [],
   "source": [
    "adata.obs['cell_type_annotation_lv1'].value_counts()"
   ]
  },
  {
   "cell_type": "code",
   "execution_count": null,
   "metadata": {},
   "outputs": [],
   "source": [
    "adata_EEC = adata[adata.obs['cell_type_annotation_lv1'].isin(EECs)].copy()"
   ]
  },
  {
   "cell_type": "code",
   "execution_count": null,
   "metadata": {},
   "outputs": [],
   "source": [
    "adata_EEC.X = adata_EEC.layers['sct_logcounts']"
   ]
  },
  {
   "cell_type": "code",
   "execution_count": null,
   "metadata": {},
   "outputs": [],
   "source": [
    "adata_EEC"
   ]
  },
  {
   "cell_type": "code",
   "execution_count": null,
   "metadata": {},
   "outputs": [],
   "source": [
    "del adata\n",
    "gc.collect()"
   ]
  },
  {
   "cell_type": "code",
   "execution_count": null,
   "metadata": {},
   "outputs": [],
   "source": [
    "sc.pp.neighbors(adata_EEC, use_rep='X_scarches_emb')\n",
    "sc.tl.leiden(adata_EEC, resolution=1.5)"
   ]
  },
  {
   "cell_type": "code",
   "execution_count": null,
   "metadata": {},
   "outputs": [],
   "source": [
    "sc.tl.paga(adata_EEC, groups='cell_type_annotation_lv1')"
   ]
  },
  {
   "cell_type": "code",
   "execution_count": null,
   "metadata": {},
   "outputs": [],
   "source": [
    "sc.pl.paga(adata_EEC,  fontsize=5, save = 'paga_healthy_EEC_GC_subs.png')#, fontoutline=True, threshold=0.05, max_edge_width=3, min_edge_width=0.01, node_size_scale=3,"
   ]
  },
  {
   "cell_type": "code",
   "execution_count": null,
   "metadata": {},
   "outputs": [],
   "source": [
    "sc.tl.umap(adata_EEC)#, init_pos='paga', min_dist =0.3)"
   ]
  },
  {
   "cell_type": "code",
   "execution_count": null,
   "metadata": {},
   "outputs": [],
   "source": [
    "sc.pl.umap(adata_EEC, color=['pretty name','cell_type_annotation_lv1','leiden','doublet_calls'], size=10, add_outline=True, alpha=1, outline_width=(0.3, 0.0), ncols=2, cmap=mymap,wspace=1, legend_fontsize=9)"
   ]
  },
  {
   "cell_type": "markdown",
   "metadata": {},
   "source": [
    "### rank genes"
   ]
  },
  {
   "cell_type": "code",
   "execution_count": null,
   "metadata": {},
   "outputs": [],
   "source": [
    "adata_EEC"
   ]
  },
  {
   "cell_type": "markdown",
   "metadata": {},
   "source": [
    "### scran counts (already log)"
   ]
  },
  {
   "cell_type": "code",
   "execution_count": null,
   "metadata": {},
   "outputs": [],
   "source": [
    "sc.tl.rank_genes_groups(adata_EEC, 'leiden', method='wilcoxon', layer = 'scran_counts', use_raw=False)\n",
    "\n",
    "# to visualize the results\n",
    "\n",
    "sc.pl.rank_genes_groups(adata_EEC)"
   ]
  },
  {
   "cell_type": "code",
   "execution_count": null,
   "metadata": {},
   "outputs": [],
   "source": [
    "del adata_EEC.raw"
   ]
  },
  {
   "cell_type": "code",
   "execution_count": null,
   "metadata": {},
   "outputs": [],
   "source": [
    "adata_EEC.X= adata_EEC.layers['scran_counts']"
   ]
  },
  {
   "cell_type": "code",
   "execution_count": null,
   "metadata": {},
   "outputs": [],
   "source": [
    "sc.tl.dendrogram(adata_EEC, groupby='leiden')"
   ]
  },
  {
   "cell_type": "code",
   "execution_count": null,
   "metadata": {},
   "outputs": [],
   "source": [
    "sc.pl.rank_genes_groups_dotplot(adata_EEC, n_genes=5, key=\"rank_genes_groups\", groupby=\"leiden\")\n"
   ]
  },
  {
   "cell_type": "markdown",
   "metadata": {},
   "source": [
    "### sct counts"
   ]
  },
  {
   "cell_type": "code",
   "execution_count": null,
   "metadata": {},
   "outputs": [],
   "source": [
    "sc.tl.rank_genes_groups(adata_EEC, 'leiden', method='wilcoxon', layer = 'sct_logcounts', use_raw=False)\n",
    "\n",
    "# to visualize the results\n",
    "\n",
    "sc.pl.rank_genes_groups(adata_EEC)"
   ]
  },
  {
   "cell_type": "code",
   "execution_count": null,
   "metadata": {},
   "outputs": [],
   "source": [
    "adata_EEC.X= adata_EEC.layers['sct_logcounts']"
   ]
  },
  {
   "cell_type": "code",
   "execution_count": null,
   "metadata": {},
   "outputs": [],
   "source": [
    "sc.tl.dendrogram(adata_EEC, groupby='leiden')"
   ]
  },
  {
   "cell_type": "code",
   "execution_count": null,
   "metadata": {},
   "outputs": [],
   "source": [
    "sc.pl.rank_genes_groups_dotplot(adata_EEC, n_genes=5, key=\"rank_genes_groups\", groupby=\"leiden\")\n"
   ]
  },
  {
   "cell_type": "markdown",
   "metadata": {},
   "source": [
    "### metadata"
   ]
  },
  {
   "cell_type": "code",
   "execution_count": null,
   "metadata": {},
   "outputs": [],
   "source": [
    "adata_EEC.obs['doublet_calls'] = adata_EEC.obs['doublet_calls'].astype('category')"
   ]
  },
  {
   "cell_type": "code",
   "execution_count": null,
   "metadata": {},
   "outputs": [],
   "source": [
    "adata_EEC.uns['doublet_calls_colors'] = np.array([mpl.colors.to_hex(color, keep_alpha=True) for color in mymap(np.linspace(0,2,8))])"
   ]
  },
  {
   "cell_type": "code",
   "execution_count": null,
   "metadata": {},
   "outputs": [],
   "source": [
    "sc.pl.umap(adata_EEC, color=['Project','enriched','phase','kit','line','strain', 'doublet_calls', 'enrichment proportion'], size=10, add_outline=True, alpha=1, outline_width=(0.3, 0.0), ncols=4, legend_fontsize=8, color_map=mymap,wspace = 0.4, save = 'EEC_GC_subs_healthy_metadata.png')"
   ]
  },
  {
   "cell_type": "code",
   "execution_count": null,
   "metadata": {},
   "outputs": [],
   "source": [
    "plot_composition(adata_EEC, y_key='doublet_calls', x_key='leiden', x_rotation=90)"
   ]
  },
  {
   "cell_type": "code",
   "execution_count": null,
   "metadata": {},
   "outputs": [],
   "source": [
    "adata_EEC = adata_EEC[~adata_EEC.obs['leiden'].isin(['20'])].copy()"
   ]
  },
  {
   "cell_type": "code",
   "execution_count": null,
   "metadata": {},
   "outputs": [],
   "source": [
    "sc.pl.umap(adata_EEC, color=['leiden'], size=10, add_outline=True, alpha=1, outline_width=(0.3, 0.0), ncols=4, legend_fontsize=8, color_map=mymap,wspace = 0.4)"
   ]
  },
  {
   "cell_type": "code",
   "execution_count": null,
   "metadata": {},
   "outputs": [],
   "source": [
    "sc.tl.rank_genes_groups(adata_EEC, 'leiden', method='wilcoxon', layer = 'sct_logcounts', use_raw=False)"
   ]
  },
  {
   "cell_type": "code",
   "execution_count": null,
   "metadata": {},
   "outputs": [],
   "source": [
    "adata_EEC.X= adata_EEC.layers['sct_logcounts']"
   ]
  },
  {
   "cell_type": "code",
   "execution_count": null,
   "metadata": {},
   "outputs": [],
   "source": [
    "sc.tl.dendrogram(adata_EEC, groupby='leiden')"
   ]
  },
  {
   "cell_type": "code",
   "execution_count": null,
   "metadata": {},
   "outputs": [],
   "source": [
    "sc.pl.rank_genes_groups_dotplot(adata_EEC, n_genes=5, key=\"rank_genes_groups\", groupby=\"leiden\")\n"
   ]
  },
  {
   "cell_type": "markdown",
   "metadata": {},
   "source": [
    "### TFs"
   ]
  },
  {
   "cell_type": "code",
   "execution_count": null,
   "metadata": {},
   "outputs": [],
   "source": [
    "with open('TF_mouse_all.txt', 'r') as file:\n",
    "    TFs = file.read().splitlines()"
   ]
  },
  {
   "cell_type": "code",
   "execution_count": null,
   "metadata": {},
   "outputs": [],
   "source": [
    "ranked_genes = adata_EEC.uns['rank_genes_groups']['names']"
   ]
  },
  {
   "cell_type": "code",
   "execution_count": null,
   "metadata": {},
   "outputs": [],
   "source": [
    "ranked_genes.dtype.names"
   ]
  },
  {
   "cell_type": "code",
   "execution_count": null,
   "metadata": {},
   "outputs": [],
   "source": [
    "ranked_genes"
   ]
  },
  {
   "cell_type": "code",
   "execution_count": null,
   "metadata": {},
   "outputs": [],
   "source": [
    "n = -1\n",
    "differentially_expressed_tfs = {}\n",
    "N =15\n",
    "for group in ranked_genes.dtype.names:\n",
    "    n+=1\n",
    "    differentially_expressed_tfs[n] = []\n",
    "    for i, gene in enumerate(ranked_genes[group]):\n",
    "        if gene in TFs and i < N:\n",
    "            if gene not in differentially_expressed_tfs[n]:\n",
    "                differentially_expressed_tfs[n].append(gene)\n",
    "\n",
    "print(differentially_expressed_tfs)"
   ]
  },
  {
   "cell_type": "code",
   "execution_count": null,
   "metadata": {},
   "outputs": [],
   "source": [
    "# Flatten the list of genes\n",
    "all_tfs = [gene for genes in differentially_expressed_tfs.values() for gene in genes]\n",
    "all_tfs = list(set(all_tfs))  # Remove duplicates"
   ]
  },
  {
   "cell_type": "code",
   "execution_count": null,
   "metadata": {},
   "outputs": [],
   "source": [
    "np.max(adata_EEC.X)"
   ]
  },
  {
   "cell_type": "code",
   "execution_count": null,
   "metadata": {},
   "outputs": [],
   "source": [
    "#sc.pl.rank_genes_groups_dotplot(adata_EEC, var_names = all_tfs)\n",
    "sc.pl.dotplot(adata_EEC, all_tfs, groupby='leiden',dendrogram=True, layer='sct_logcounts',use_raw=False)"
   ]
  },
  {
   "cell_type": "code",
   "execution_count": null,
   "metadata": {},
   "outputs": [],
   "source": [
    "sc.pl.umap(adata_EEC, color=['leiden'], size=10, add_outline=True, alpha=1, outline_width=(0.3, 0.0), ncols=3, cmap=mymap,legend_loc='on data')"
   ]
  },
  {
   "cell_type": "code",
   "execution_count": null,
   "metadata": {},
   "outputs": [],
   "source": [
    "sc.pl.umap(adata_EEC, color=['cell_type_annotation_lv1','leiden', 'doublet_calls'], size=10, add_outline=True, alpha=1, outline_width=(0.3, 0.0), ncols=3, cmap=mymap,wspace=0.6)"
   ]
  },
  {
   "cell_type": "code",
   "execution_count": null,
   "metadata": {},
   "outputs": [],
   "source": [
    "adata_EEC"
   ]
  },
  {
   "cell_type": "code",
   "execution_count": null,
   "metadata": {},
   "outputs": [],
   "source": [
    "sc.pl.umap(adata_EEC, color=all_tfs, size=5, add_outline=True, alpha=1, outline_width=(0.3, 0.0), ncols=5, cmap=mymap, layer='log_dca_counts', save= 'umap_healthy_TFs_EEC_GC.png')"
   ]
  },
  {
   "cell_type": "code",
   "execution_count": null,
   "metadata": {},
   "outputs": [],
   "source": [
    "genes_m = [gene for gene in adata_EEC.var_names if str(gene).startswith('Mt')]"
   ]
  },
  {
   "cell_type": "code",
   "execution_count": null,
   "metadata": {},
   "outputs": [],
   "source": [
    "genes_m"
   ]
  },
  {
   "cell_type": "code",
   "execution_count": null,
   "metadata": {},
   "outputs": [],
   "source": [
    "sc.pl.umap(adata_EEC, color=['Ghrl','Sst','Gcg','Gip','Pyy','Cck','Nts','Sct','Tac1','Tph1','Reg4', 'Spdef','Muc2','Tff3','Lyz1'],layer= 'log_dca_counts',size=5, add_outline=True, alpha=1, outline_width=(0.3, 0.0), ncols=5, cmap=mymap, save = 'EEC_subs_healthy_EECs_GCs_hormones_expr.png')"
   ]
  },
  {
   "cell_type": "code",
   "execution_count": null,
   "metadata": {},
   "outputs": [],
   "source": [
    "plot_composition(adata_EEC, y_key='cell_type_annotation_lv1', x_key='sequencing machine', x_rotation=90,figsize= (6, 4))"
   ]
  },
  {
   "cell_type": "markdown",
   "metadata": {},
   "source": [
    "## paneth subclusters"
   ]
  },
  {
   "cell_type": "code",
   "execution_count": null,
   "metadata": {},
   "outputs": [],
   "source": [
    "EECs = ['Goblet/EEC prog. (early)',\n",
    "'K-cell (Gip+)',\n",
    "'EC (mature)',\n",
    "'EEC (Peptide/immature)' ,\n",
    "'L/I-cell (Glp1+/Cck+)' ,\n",
    "'EEC prog. (mid)',\n",
    "'EC prog. (late)',\n",
    "'D-cell (Sst+)',\n",
    "'EEC prog. (late/Peptide)',\n",
    "'EC 2' ,\n",
    "'X-cell (Ghrl+)']\n",
    "Paneth = ['Paneth','Paneth prog.', 'Goblet-Paneth-like', 'Goblet-Paneth-like(cycling)']\n",
    "Progenitors = ['Goblet/EEC prog. (early)','Paneth prog.', 'Tuft prog.','Tuft prog. 2']"
   ]
  },
  {
   "cell_type": "code",
   "execution_count": null,
   "metadata": {},
   "outputs": [],
   "source": [
    "adata = sc.read_h5ad('joint_diseased_healthy_with_layers_metadata_corrected_anno_updated.h5ad')"
   ]
  },
  {
   "cell_type": "code",
   "execution_count": null,
   "metadata": {},
   "outputs": [],
   "source": [
    "adata = adata[adata.obs['atlas'].isin(['reference'])].copy()"
   ]
  },
  {
   "cell_type": "code",
   "execution_count": null,
   "metadata": {},
   "outputs": [],
   "source": [
    "gc.collect()"
   ]
  },
  {
   "cell_type": "raw",
   "metadata": {
    "vscode": {
     "languageId": "raw"
    }
   },
   "source": [
    "adata = sc.read_h5ad('adata_markedDoublets_mergedPeaks_normalized_initialAnno_rmDoublets_integrated_imputed_annotated.h5ad')"
   ]
  },
  {
   "cell_type": "markdown",
   "metadata": {},
   "source": [
    "### metadata actualisation"
   ]
  },
  {
   "cell_type": "code",
   "execution_count": null,
   "metadata": {},
   "outputs": [],
   "source": [
    "## add metadata\n",
    "metadata_df =read_excel_metadata(f'/mnt/hdd/data/metadata_mouse_gut.xlsx')\n",
    "# Ensure folder name is the index in metadata for easier access\n",
    "metadata_df.drop(metadata_df[metadata_df['kit'] == 'Multiome_ATAC_v1'].index, inplace=True)\n",
    "#metadata_df.drop(metadata_df[metadata_df['condition'].isin(['Ctr','Ctr/WT'])].index, inplace=True)\n",
    "metadata_df.set_index('folder name', inplace=True)\n",
    "metadata_df.drop(['Sample Pooling - confounded with Project?','date','Project Name','Link_id','sample name','Cell Count [cells/µl]','Viable Cells [%]','Lib. Concentration [ng/µl]','Lib. Molarity [nM]','Average Lib. Size [bp]','cDNA Cycles','Lib. Cycles','10x Sample Index','Sequencing Depth [reads/cell]','exclusion, reason'], axis=1, inplace=True)"
   ]
  },
  {
   "cell_type": "code",
   "execution_count": null,
   "metadata": {},
   "outputs": [],
   "source": [
    "# Function to update adata.obs with metadata using a lambda function\n",
    "for col in metadata_df.columns:\n",
    "    try:\n",
    "        adata.obs[col] = adata.obs['sample'].apply(lambda x: metadata_df.at[x, col])\n",
    "    except KeyError as err:\n",
    "        print(f'no such key: {err} in col {col}')"
   ]
  },
  {
   "cell_type": "code",
   "execution_count": null,
   "metadata": {},
   "outputs": [],
   "source": [
    "adata.obs.drop(['sample number Minas'],axis=1,inplace=True)"
   ]
  },
  {
   "cell_type": "raw",
   "metadata": {
    "vscode": {
     "languageId": "raw"
    }
   },
   "source": [
    "adata.write('adata_markedDoublets_mergedPeaks_normalized_initialAnno_rmDoublets_integrated_imputed_annotated_metadata_corrected.h5ad')"
   ]
  },
  {
   "cell_type": "code",
   "execution_count": null,
   "metadata": {},
   "outputs": [],
   "source": [
    "adata.uns['cell_type_annotation_lv1' + '_colors'] =['#d0d0d0',  # ISC\n",
    " '#eebcbc',  # TA\n",
    " '#fee0d2',  # TA prox\n",
    " '#c67a84',  # early Enterocyte\n",
    " '#bb4353',  # Enterocyte\n",
    " '#eca4d0',  # Tuft prog.\n",
    " '#df65b0',  # Tuft prog. 2\n",
    " '#e7298a',  # Tuft\n",
    " '#e1f3bf',  # Goblet/EEC prog.\n",
    " '#d9edf7',  # EEC prog\n",
    " '#85c6e6',  # EEC prog. (late/Peptide)\n",
    " '#46a8d9',  # EEC (peptide/immature)\n",
    " '#339a98',  # X-cell (Ghrl+)\n",
    " '#368cbf',  # K-cell (Gip+)\n",
    " '#5a72dd',  # L/I-cell (Glp1+/Cck+)\n",
    " '#243dae',  # D-cell (Sst+)\n",
    " '#d0d1e6',  # EC prog.\n",
    " '#aa9dce',  # EC (imm.)\n",
    " '#594495',  # EC (mature)\n",
    " '#725dae',  # EC 2\n",
    " '#fec44f',  # Goblet prog.\n",
    " '#dd894e',  # Goblet\n",
    " '#7BB98F',  # Paneth prog.\n",
    " '#238b45',  # Paneth\n",
    " '#ac9470'   # unknown0\n",
    "]"
   ]
  },
  {
   "cell_type": "code",
   "execution_count": null,
   "metadata": {},
   "outputs": [],
   "source": [
    "annotation_key = 'cell_type_annotation_lv1'"
   ]
  },
  {
   "cell_type": "code",
   "execution_count": null,
   "metadata": {},
   "outputs": [],
   "source": [
    "adata.obs[annotation_key] = adata.obs[annotation_key].cat.reorder_categories(['ISC', 'TA', 'TA (prox.))', 'early Enterocyte', 'Enterocyte', \n",
    "'Tuft prog.', 'Tuft prog. 2', 'Tuft', \n",
    "'Goblet/EEC prog. (early)', 'EEC prog. (mid)', 'EEC prog. (late/Peptide)', 'EEC (Peptide/immature)', 'X-cell (Ghrl+)',  'K-cell (Gip+)', 'L/I-cell (Glp1+/Cck+)', 'D-cell (Sst+)',\n",
    "'EC prog. (late)', 'EC (immature)', 'EC (mature)','EC 2', \n",
    " 'Goblet prog. (late)', 'Goblet',  'Paneth prog.', 'Paneth', 'unknown0' ])"
   ]
  },
  {
   "cell_type": "code",
   "execution_count": null,
   "metadata": {},
   "outputs": [],
   "source": [
    "adata.obs['cell_type_annotation_lv1'].value_counts()"
   ]
  },
  {
   "cell_type": "markdown",
   "metadata": {},
   "source": [
    "### get normalized counts"
   ]
  },
  {
   "cell_type": "code",
   "execution_count": null,
   "metadata": {},
   "outputs": [],
   "source": [
    "# add dca imputed counts\n",
    "from anndata._io.specs import read_elem\n",
    "with h5py.File('/mnt/hdd/data/Healthy/adata_markedDoublets_normalized_initialAnno_rmDoublets_integrated_all_imputed.h5ad', 'r') as f:\n",
    "    # Read specific columns from `obs`\n",
    "    #sample_column = f['obs/sample'][:]\n",
    "    #n_counts_column = f['obs/n_counts'][:]\n",
    "    #https://github.com/scverse/anndata/issues/436:\n",
    "    #cell_types = read_elem(f[\"obs/celltype\"])\n",
    "    #umap = read_elem(f[\"obsm/X_umap\"])\n",
    "    logsct = read_elem(f[\"layers/sct_logcounts\"])\n",
    "    scran = read_elem(f[\"layers/scran_counts\"])"
   ]
  },
  {
   "cell_type": "code",
   "execution_count": null,
   "metadata": {},
   "outputs": [],
   "source": [
    "adata.layers['sct_logcounts'] = logsct\n",
    "adata.layers['scran_counts'] = scran"
   ]
  },
  {
   "cell_type": "markdown",
   "metadata": {},
   "source": [
    "### subset to paneth"
   ]
  },
  {
   "cell_type": "code",
   "execution_count": null,
   "metadata": {},
   "outputs": [],
   "source": [
    "adata_Paneth = adata[adata.obs['cell_type_annotation_lv1'].isin(Paneth)].copy()"
   ]
  },
  {
   "cell_type": "code",
   "execution_count": null,
   "metadata": {},
   "outputs": [],
   "source": [
    "adata_Paneth.X = adata_Paneth.layers['sct_logcounts']"
   ]
  },
  {
   "cell_type": "code",
   "execution_count": null,
   "metadata": {},
   "outputs": [],
   "source": [
    "adata_Paneth"
   ]
  },
  {
   "cell_type": "code",
   "execution_count": null,
   "metadata": {},
   "outputs": [],
   "source": [
    "del adata\n",
    "gc.collect()"
   ]
  },
  {
   "cell_type": "code",
   "execution_count": null,
   "metadata": {},
   "outputs": [],
   "source": [
    "sc.pp.neighbors(adata_Paneth, use_rep='X_scarches_emb')\n",
    "sc.tl.leiden(adata_Paneth, resolution=0.4)"
   ]
  },
  {
   "cell_type": "code",
   "execution_count": null,
   "metadata": {},
   "outputs": [],
   "source": [
    "sc.tl.paga(adata_Paneth, groups='cell_type_annotation_lv1') #changed from leiden to anno key"
   ]
  },
  {
   "cell_type": "code",
   "execution_count": null,
   "metadata": {},
   "outputs": [],
   "source": [
    "sc.pl.paga(adata_Paneth,  fontsize=4,save='paga_paneth_subs.png')#, fontoutline=True, threshold=0.05, max_edge_width=3, min_edge_width=0.01, node_size_scale=3,"
   ]
  },
  {
   "cell_type": "code",
   "execution_count": null,
   "metadata": {},
   "outputs": [],
   "source": [
    "sc.tl.umap(adata_Paneth, init_pos='paga')"
   ]
  },
  {
   "cell_type": "code",
   "execution_count": null,
   "metadata": {},
   "outputs": [],
   "source": [
    "sc.pl.umap(adata_Paneth, color=['cell_type_annotation_lv1','Project','enriched','phase', 'enrichment proportion','kit','line','strain','leiden','pretty name'], size=10, add_outline=True, alpha=1, outline_width=(0.3, 0.0), ncols=5, cmap=mymap, wspace = 0.6,save='paneth_subs_metadata_healthy.png')"
   ]
  },
  {
   "cell_type": "code",
   "execution_count": null,
   "metadata": {},
   "outputs": [],
   "source": [
    "sc.tl.rank_genes_groups(adata_Paneth, 'leiden', method='wilcoxon', layer = 'sct_logcounts', use_raw=False)\n",
    "\n",
    "# to visualize the results\n",
    "\n",
    "sc.pl.rank_genes_groups(adata_Paneth)"
   ]
  },
  {
   "cell_type": "code",
   "execution_count": null,
   "metadata": {},
   "outputs": [],
   "source": [
    "sc.tl.dendrogram(adata_Paneth, groupby='leiden')"
   ]
  },
  {
   "cell_type": "code",
   "execution_count": null,
   "metadata": {},
   "outputs": [],
   "source": [
    "adata_Paneth.X = adata_Paneth.layers['sct_logcounts']"
   ]
  },
  {
   "cell_type": "code",
   "execution_count": null,
   "metadata": {},
   "outputs": [],
   "source": [
    "del adata_Paneth.raw"
   ]
  },
  {
   "cell_type": "code",
   "execution_count": null,
   "metadata": {},
   "outputs": [],
   "source": [
    "sc.pl.rank_genes_groups_dotplot(adata_Paneth, n_genes=5, key=\"rank_genes_groups\", groupby=\"leiden\",save='dotplot_leiden_paneth_subs_healthy.png')\n"
   ]
  },
  {
   "cell_type": "code",
   "execution_count": null,
   "metadata": {},
   "outputs": [],
   "source": [
    "plot_composition(adata_Paneth, y_key='strain', x_key='leiden', x_rotation=90, save='comboplot_paneth_healthy_by_leiden.png')"
   ]
  },
  {
   "cell_type": "code",
   "execution_count": null,
   "metadata": {},
   "outputs": [],
   "source": [
    "plot_composition(adata_Paneth, y_key='enriched', x_key='leiden', x_rotation=90)"
   ]
  },
  {
   "cell_type": "code",
   "execution_count": null,
   "metadata": {},
   "outputs": [],
   "source": [
    "plot_composition(adata_Paneth, y_key='line', x_key='leiden', x_rotation=90)"
   ]
  },
  {
   "cell_type": "code",
   "execution_count": null,
   "metadata": {},
   "outputs": [],
   "source": [
    "plot_composition(adata_Paneth, y_key='strain', x_key='leiden', x_rotation=90)"
   ]
  },
  {
   "cell_type": "code",
   "execution_count": null,
   "metadata": {},
   "outputs": [],
   "source": [
    "plot_composition(adata_Paneth, y_key='enrichment proportion', x_key='leiden', x_rotation=90)"
   ]
  },
  {
   "cell_type": "code",
   "execution_count": null,
   "metadata": {},
   "outputs": [],
   "source": [
    "plot_composition(adata_Paneth, y_key='Project', x_key='leiden', x_rotation=90)"
   ]
  },
  {
   "cell_type": "code",
   "execution_count": null,
   "metadata": {},
   "outputs": [],
   "source": [
    "plot_composition(adata_Paneth, y_key='kit', x_key='leiden', x_rotation=90)"
   ]
  },
  {
   "cell_type": "code",
   "execution_count": null,
   "metadata": {},
   "outputs": [],
   "source": [
    "Paneth_markers = [\n",
    "    \"Lyz1\",    # Lysozyme\n",
    "    \"Lyz2\",\n",
    "    \"Defa27\",  # Denfensin a\n",
    "    \"Defa34\",   # Defensin alpha 34\n",
    "    \"Defa38\",   # Defensin alpha 38\n",
    "    \"Defa43\",   # Defensin alpha 43\n",
    "    \"Tff3\",    # \n",
    "    \"Muc2\", #Mucin\n",
    "    \"Rps5\",    # \n",
    "    \"Tcf4\",    # Transcription Factor 4\n",
    "    \"Sox9\",    # SRY-box transcription factor 9\n",
    "    \"Malat1\",    #\n",
    "    \"Gfi1\"     # Growth Factor Independent 1 Transcription Repressor\n",
    "]\n"
   ]
  },
  {
   "cell_type": "code",
   "execution_count": null,
   "metadata": {},
   "outputs": [],
   "source": [
    "sc.pl.umap(adata_Paneth, color=['cell_type_annotation_lv1', 'doublet_calls'] + Paneth_markers, layer='log_dca_counts',size=10, add_outline=True, alpha=1, outline_width=(0.3, 0.0), ncols=5, cmap=mymap,wspace=0.7,save = 'umap_paneth_markers_anno.png')"
   ]
  },
  {
   "cell_type": "markdown",
   "metadata": {},
   "source": [
    "## Prog. vs mature"
   ]
  },
  {
   "cell_type": "code",
   "execution_count": null,
   "metadata": {},
   "outputs": [],
   "source": [
    "sc.tl.rank_genes_groups(adata_Paneth, 'cell_type_annotation_lv1', method='wilcoxon', layer = 'sct_logcounts', use_raw=False)\n",
    "\n",
    "# to visualize the results\n",
    "\n",
    "sc.pl.rank_genes_groups(adata_Paneth)"
   ]
  },
  {
   "cell_type": "code",
   "execution_count": null,
   "metadata": {},
   "outputs": [],
   "source": [
    "sc.pl.rank_genes_groups_dotplot(adata_Paneth, n_genes=15, key=\"rank_genes_groups\", groupby=\"leiden\",save = 'dotplot_paneth_meta_markers_prog_vs_mature.png')"
   ]
  },
  {
   "cell_type": "code",
   "execution_count": null,
   "metadata": {},
   "outputs": [],
   "source": [
    "Paneth_markers = [\n",
    "    \"Lyz1\",    # Lysozyme\n",
    "    \"Defa27\",  # Denfensin a\n",
    "    \"Defa34\",   # Defensin alpha 34\n",
    "    \"Defa38\",   # Defensin alpha 38\n",
    "    \"Defa43\",   # Defensin alpha 43\n",
    "    \"Tff3\",    # Goblet marker\n",
    "    \"Muc2\", #Mucin goblet marker\n",
    "    \"Rps5\",    # Ribosomal Protein S5\n",
    "    \"Prap1\",        #Lipid-binding protein which promotes lipid absorption by facilitating MTTP-mediated lipid transfer (mainly triglycerides and phospholipids) and MTTP-mediated apoB lipoprotein assembly and secretion (By similarity). Protects the gastrointestinal epithelium from irradiation-induced apoptosis (By similarity). May play an important role in maintaining normal growth homeostasis in epithelial cells (PubMed:14583459). Involved in p53/TP53-dependent cell survival after DNA damage \n",
    "    \"Olfm4\",        # TA marker\n",
    "    \"Plac8\",        #PLAC8 (Placenta Associated 8) is a Protein Coding gene. Diseases associated with PLAC8 include Epilepsy, Familial Adult Myoclonic, 2. Among its related pathways are Innate Immune System and Kidney development. Gene Ontology (GO) annotations related to this gene include chromatin binding.\n",
    "    \"Actg1\",        #Actin Gamma 1, Actins are highly conserved proteins that are involved in various types of cell motility and are ubiquitously expressed in all eukaryotic cells.\n",
    "    \"Cyc1\", # This gene encodes a subunit of the cytochrome bc1 complex, which plays an important role in the mitochondrial respiratory chain by transferring electrons from the Rieske iron-sulfur protein to cytochrome c.\n",
    "    \"Npm1\", # Nucleophosmin 1, Involved in diverse cellular processes such as ribosome biogenesis, centrosome duplication, protein chaperoning, histone assembly, cell proliferation, and regulation of tumor suppressors p53/TP53 and ARF. Binds ribosome presumably to drive ribosome nuclear export.\n",
    "    \"Tcf4\",    # Transcription Factor 4\n",
    "    \"Sox9\",    # SRY-box transcription factor 9\n",
    "    \"Malat1\",    #MALAT1 (Metastasis Associated Lung Adenocarcinoma Transcript 1) is an RNA Gene, This transcript is retained in the nucleus where it is thought to form molecular scaffolds for ribonucleoprotein complexes. It may act as a transcriptional regulator for numerous genes, including some genes involved in cancer metastasis and cell migration, and it is involved in cell cycle regulation.\n",
    "    \"Gfi1\"     # Growth Factor Independent 1 Transcription Repressor\n",
    "]\n"
   ]
  },
  {
   "cell_type": "code",
   "execution_count": null,
   "metadata": {},
   "outputs": [],
   "source": [
    "sc.pl.umap(adata_Paneth, color=['cell_type_annotation_lv1', 'doublet_calls'] + Paneth_markers, layer='log_dca_counts',size=10, add_outline=True, alpha=1, outline_width=(0.3, 0.0), ncols=5, cmap=mymap,wspace=0.7,save = 'umap_paneth_markers_anno.png')"
   ]
  },
  {
   "cell_type": "markdown",
   "metadata": {},
   "source": [
    "## TFs"
   ]
  },
  {
   "cell_type": "code",
   "execution_count": null,
   "metadata": {},
   "outputs": [],
   "source": [
    "with open('TF_mouse_all.txt', 'r') as file:\n",
    "    TFs = file.read().splitlines()"
   ]
  },
  {
   "cell_type": "code",
   "execution_count": null,
   "metadata": {},
   "outputs": [],
   "source": [
    "ranked_genes = adata_Paneth.uns['rank_genes_groups']['names']"
   ]
  },
  {
   "cell_type": "code",
   "execution_count": null,
   "metadata": {},
   "outputs": [],
   "source": [
    "ranked_genes"
   ]
  },
  {
   "cell_type": "code",
   "execution_count": null,
   "metadata": {},
   "outputs": [],
   "source": [
    "n = -1\n",
    "differentially_expressed_tfs = {}\n",
    "N =150\n",
    "for group in ranked_genes.dtype.names:\n",
    "    n+=1\n",
    "    differentially_expressed_tfs[n] = []\n",
    "    for i, gene in enumerate(ranked_genes[group]):\n",
    "        if gene in TFs and i < N:\n",
    "            if gene not in differentially_expressed_tfs[n]:\n",
    "                differentially_expressed_tfs[n].append(gene)\n",
    "\n",
    "print(differentially_expressed_tfs)"
   ]
  },
  {
   "cell_type": "code",
   "execution_count": null,
   "metadata": {},
   "outputs": [],
   "source": [
    "# Flatten the list of genes\n",
    "all_tfs = [gene for genes in differentially_expressed_tfs.values() for gene in genes]\n",
    "all_tfs = list(set(all_tfs))  # Remove duplicates"
   ]
  },
  {
   "cell_type": "code",
   "execution_count": null,
   "metadata": {},
   "outputs": [],
   "source": [
    "#sc.pl.rank_genes_groups_dotplot(adata_EEC, var_names = all_tfs)\n",
    "sc.pl.dotplot(adata_Paneth, all_tfs, groupby='leiden',dendrogram=True, layer='sct_logcounts',use_raw=False)"
   ]
  },
  {
   "cell_type": "code",
   "execution_count": null,
   "metadata": {},
   "outputs": [],
   "source": [
    "sc.pl.umap(adata_Paneth, color=all_tfs, size=10, add_outline=True, alpha=1, outline_width=(0.3, 0.0), ncols=5, cmap=mymap, layer='log_dca_counts', save= 'umap_healthy_TFs_Paneth.png')"
   ]
  },
  {
   "cell_type": "markdown",
   "metadata": {},
   "source": [
    "### get ambient genes info"
   ]
  },
  {
   "cell_type": "markdown",
   "metadata": {},
   "source": []
  }
 ],
 "metadata": {
  "kernelspec": {
   "display_name": "Python 3 (ipykernel)",
   "language": "python",
   "name": "python3"
  },
  "language_info": {
   "codemirror_mode": {
    "name": "ipython",
    "version": 3
   },
   "file_extension": ".py",
   "mimetype": "text/x-python",
   "name": "python",
   "nbconvert_exporter": "python",
   "pygments_lexer": "ipython3",
   "version": "3.10.14"
  }
 },
 "nbformat": 4,
 "nbformat_minor": 4
}
