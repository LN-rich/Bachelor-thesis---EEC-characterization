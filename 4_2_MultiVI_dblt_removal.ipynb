{
 "cells": [
  {
   "cell_type": "markdown",
   "metadata": {},
   "source": [
    "<!--  -->\n",
    "# Preprocessing - Joint Embedding & Doublet Removal with MultiVI\n",
    "Adapted from Michael Sterr\n",
    "\n",
    "2024-02-09 09:28:15 \n",
    "\n",
    "\n",
    "# Setup"
   ]
  },
  {
   "cell_type": "code",
   "execution_count": null,
   "metadata": {},
   "outputs": [],
   "source": [
    "# General\n",
    "import scipy as sci\n",
    "import numpy as np\n",
    "import pandas as pd\n",
    "import logging\n",
    "import time\n",
    "import pickle\n",
    "from itertools import chain\n",
    "import session_info\n",
    "import gc # Free memory #gc.collect()\n",
    "import scipy.stats as stats\n",
    "\n",
    "# Plotting\n",
    "import matplotlib.pyplot as plt\n",
    "import matplotlib as mpl\n",
    "from matplotlib import rcParams\n",
    "from matplotlib.pyplot import rc_context\n",
    "from matplotlib import cm\n",
    "import seaborn as sb\n",
    "\n",
    "# Analysis\n",
    "import muon as mu\n",
    "from muon import atac as ac # Import a module with ATAC-seq-related functions\n",
    "import scanpy as sc\n",
    "import anndata as ad"
   ]
  },
  {
   "cell_type": "code",
   "execution_count": null,
   "metadata": {},
   "outputs": [],
   "source": [
    "# Settings\n",
    "\n",
    "import warnings\n",
    "warnings.filterwarnings(\"ignore\")\n",
    "\n",
    "## Directory\n",
    "base_dir = '/mnt/hdd/'\n",
    "data_dir = 'data/Healthy/'\n",
    "nb_dir = 'Notebooks/Gut_project/'\n",
    "sc.settings.figdir = base_dir + nb_dir + 'Figures'\n",
    "sc.settings.cachedir = base_dir + 'Cache'\n",
    "\n",
    "## Scanpy settings\n",
    "sc.settings.verbosity = 3\n",
    "sc.logging.print_versions()\n",
    "session_info.show()"
   ]
  },
  {
   "cell_type": "code",
   "execution_count": null,
   "metadata": {},
   "outputs": [],
   "source": [
    "# Color maps\n",
    "ch_YlRd=sb.cubehelix_palette(100, start=.7, rot=.25, gamma=0.6, hue=2, light=1, dark=0.05, as_cmap=True)"
   ]
  },
  {
   "cell_type": "code",
   "execution_count": null,
   "metadata": {},
   "outputs": [],
   "source": [
    "# Plot settings\n",
    "%matplotlib inline\n",
    "\n",
    "## Plotting parameters\n",
    "rcParams['figure.figsize']=(6,6) #rescale figures\n",
    "#sc.set_figure_params(scanpy=True, frameon=False, vector_friendly=False, color_map='tab10' ,transparent=True, dpi=150, dpi_save=300)\n",
    "sc.set_figure_params(scanpy=True, frameon=False, vector_friendly=False ,transparent=True, dpi=150, dpi_save=300)\n",
    "\n",
    "## Grid & Ticks\n",
    "rcParams['grid.alpha'] = 0\n",
    "rcParams['xtick.bottom'] = True\n",
    "rcParams['ytick.left'] = True\n",
    "\n",
    "## Embed font\n",
    "plt.rc('pdf', fonttype=42)\n",
    "\n",
    "## Define new default settings\n",
    "plt.rcParamsDefault = plt.rcParams"
   ]
  },
  {
   "cell_type": "markdown",
   "metadata": {},
   "source": [
    "# Setup R"
   ]
  },
  {
   "cell_type": "code",
   "execution_count": null,
   "metadata": {},
   "outputs": [],
   "source": [
    "%run utils.ipynb"
   ]
  },
  {
   "cell_type": "code",
   "execution_count": null,
   "metadata": {},
   "outputs": [],
   "source": [
    "#R\n",
    "import rpy2\n",
    "import rpy2.robjects as ro\n",
    "import rpy2.rinterface_lib.callbacks\n",
    "from rpy2.robjects import pandas2ri\n",
    "import anndata2ri\n",
    "setup_R('/home/scanalysis/mnt/envs/scUV/lib/R')"
   ]
  },
  {
   "cell_type": "code",
   "execution_count": null,
   "metadata": {},
   "outputs": [],
   "source": [
    "%%R\n",
    "\n",
    ".libPaths()"
   ]
  },
  {
   "cell_type": "code",
   "execution_count": null,
   "metadata": {},
   "outputs": [],
   "source": [
    "%%R\n",
    "# Parallelization\n",
    "library(BiocParallel)\n",
    "register(MulticoreParam(20, progressbar = TRUE))\n",
    "\n",
    "library(future)\n",
    "plan(\"multicore\", workers = 20)\n",
    "options(future.globals.maxSize = 64 * 1024^2)\n",
    "plan()\n",
    "\n",
    "library(doParallel)\n",
    "registerDoParallel(20)\n",
    "\n",
    "sessionInfo()"
   ]
  },
  {
   "cell_type": "markdown",
   "metadata": {},
   "source": [
    "# Load Data"
   ]
  },
  {
   "cell_type": "code",
   "execution_count": null,
   "metadata": {},
   "outputs": [],
   "source": [
    "file_base_name = 'scMultiome_Mouse_Crypts_FVF'\n",
    "file_path = '/mnt/md0/Projects/scMultiome_Mouse_Crypts_FVF_P23033_Final_Notebooks/Files'"
   ]
  },
  {
   "cell_type": "markdown",
   "metadata": {},
   "source": [
    "## MuData"
   ]
  },
  {
   "cell_type": "code",
   "execution_count": null,
   "metadata": {},
   "outputs": [],
   "source": [
    "multiome_samples = ['597_NVF_Crypts_Rep1', '598_FVF_Crypts_Rep1','599_FVF_Crypts_Rep2','604_NVF_Crypts_Rep2', 'FVF-high','FVF-low']"
   ]
  },
  {
   "cell_type": "code",
   "execution_count": null,
   "metadata": {},
   "outputs": [],
   "source": [
    "mdata_list = []\n",
    "for s in multiome_samples:\n",
    "    mdata_list.append(mu.read(f'{base_dir}data/Multiome/{s}/outs/raw_feature_bc_matrix_filtered_markedDoublets.h5mu'))"
   ]
  },
  {
   "cell_type": "code",
   "execution_count": null,
   "metadata": {},
   "outputs": [],
   "source": [
    "mdata_list"
   ]
  },
  {
   "cell_type": "markdown",
   "metadata": {},
   "source": [
    "### concat mdata"
   ]
  },
  {
   "cell_type": "code",
   "execution_count": null,
   "metadata": {},
   "outputs": [],
   "source": [
    "# Concatenate ATAC for meta data\n",
    "atac = ad.concat([i.mod['atac'] for i in mdata_list], merge='unique', join = 'outer')"
   ]
  },
  {
   "cell_type": "code",
   "execution_count": null,
   "metadata": {},
   "outputs": [],
   "source": [
    "del mdata_list\n",
    "atac"
   ]
  },
  {
   "cell_type": "markdown",
   "metadata": {},
   "source": [
    "#### ATAC TF-IDF Normalization"
   ]
  },
  {
   "cell_type": "code",
   "execution_count": null,
   "metadata": {},
   "outputs": [],
   "source": [
    "def normalize_tfidf(atac, hvg=False, hvg_min_mean=0.05, hvg_max_mean=1.5, hvg_min_disp=0.5, remove_1st_lsi=True):\n",
    "    \n",
    "    from muon import atac as ac\n",
    "    print('Normalization with SCT:')\n",
    "    \n",
    "    print('\\tSave raw counts to .layers[\\'atac_raw_counts\\']...')\n",
    "    # Save original counts\n",
    "    if 'atac_raw_counts' not in list(atac.layers):\n",
    "        print('\\tSave AnnData.X to AnnData.layers[\\'atac_raw_counts\\']...')\n",
    "        atac.layers['atac_raw_counts'] = atac.X\n",
    "    \n",
    "    # TF-IDF normalization\n",
    "    print('\\tTF-IDF normalization...')\n",
    "    ac.pp.tfidf(atac, scale_factor=1e4, log_tf=False, log_idf=False, log_tfidf=True)\n",
    "    \n",
    "    if hvg:\n",
    "        # Feature selection\n",
    "        sc.pp.highly_variable_genes(atac, min_mean=hvg_min_mean, max_mean=hvg_max_mean, min_disp=hvg_min_disp)\n",
    "        sc.pl.highly_variable_genes(atac)\n",
    "        print('\\t\\tNumber of variable features: ', np.sum(atac.var.highly_variable))\n",
    "    \n",
    "    # Save to .raw\n",
    "    print('\\tSave to .raw...')\n",
    "    atac.raw = atac\n",
    "    \n",
    "    # LSI\n",
    "    print('\\tLSI...')\n",
    "    ac.tl.lsi(atac)\n",
    "    \n",
    "    if remove_1st_lsi:\n",
    "        # 1st dimension is often associated with number peaks/counts and should be removed\n",
    "        \n",
    "        # plot 1st lsi against counts/peaks\n",
    "        lims_x = []\n",
    "        lims_y = []\n",
    "        lims_line = []\n",
    "\n",
    "        fig, axs = plt.subplots(1, 2, constrained_layout=True, figsize=(8, 4))\n",
    "        # Plots\n",
    "        axs[0].scatter(atac.obsm['X_lsi'][:,0], y=atac.obs['log_counts_ATAC'], s=2, alpha=0.2, c=atac.obs['n_peaks_ATAC'], cmap='rocket')\n",
    "        axs[1].scatter(atac.obsm['X_lsi'][:,0], y=atac.obs['log_peaks_ATAC'], s=2, alpha=0.2, c=atac.obs['n_counts_ATAC'], cmap='rocket')\n",
    "\n",
    "        # Aesthetics\n",
    "        for i,ax in enumerate(axs):\n",
    "            lims_x.append(ax.get_xlim())\n",
    "            lims_y.append(ax.get_ylim())\n",
    "\n",
    "        axs[0].set_xlabel('LSI Dim. 1')\n",
    "        axs[0].set_ylabel('Counts')\n",
    "        axs[0].set_xlim(lims_x[0])\n",
    "        axs[0].set_ylim(lims_y[0])\n",
    "\n",
    "        axs[1].set_xlabel('LSI Dim. 1')\n",
    "        axs[1].set_ylabel('Peaks')\n",
    "        axs[1].set_xlim(lims_x[1])\n",
    "        axs[1].set_ylim(lims_y[1])\n",
    "        \n",
    "        # remove 1st component\n",
    "        atac.obsm['X_lsi'] = atac.obsm['X_lsi'][:,1:]\n",
    "        atac.varm[\"LSI\"] = atac.varm[\"LSI\"][:,1:]\n",
    "        atac.uns[\"lsi\"][\"stdev\"] = atac.uns[\"lsi\"][\"stdev\"][1:]"
   ]
  },
  {
   "cell_type": "code",
   "execution_count": null,
   "metadata": {},
   "outputs": [],
   "source": [
    "atac.layers['atac_raw_counts'] = atac.X.copy()"
   ]
  },
  {
   "cell_type": "code",
   "execution_count": null,
   "metadata": {},
   "outputs": [],
   "source": [
    "normalize_tfidf(atac, hvg=True,remove_1st_lsi=False)"
   ]
  },
  {
   "cell_type": "code",
   "execution_count": null,
   "metadata": {},
   "outputs": [],
   "source": [
    "#atac.X = sci.sparse.csr_matrix(atac.X)  \n",
    "import torch\n",
    "torch.cuda.empty_cache()\n",
    "gc.collect()\n",
    "atac.layers['tf_idf'] = atac.X.copy()"
   ]
  },
  {
   "cell_type": "code",
   "execution_count": null,
   "metadata": {},
   "outputs": [],
   "source": [
    "atac.X = atac.layers['atac_raw_counts'].copy()"
   ]
  },
  {
   "cell_type": "code",
   "execution_count": null,
   "metadata": {},
   "outputs": [],
   "source": [
    "atac.write('/mnt/hdd/data/Healthy/atac_normalized_concatednated.h5ad')"
   ]
  },
  {
   "cell_type": "code",
   "execution_count": null,
   "metadata": {},
   "outputs": [],
   "source": [
    "atac = sc.read_h5ad('/mnt/hdd/data/Healthy/atac_normalized_concatednated.h5ad')"
   ]
  },
  {
   "cell_type": "markdown",
   "metadata": {},
   "source": [
    "#### load adata"
   ]
  },
  {
   "cell_type": "code",
   "execution_count": null,
   "metadata": {},
   "outputs": [],
   "source": [
    "adata = sc.read_h5ad('/mnt/hdd/data/Healthy/adata_markedDoublets_normalized_initialAnno.h5ad')"
   ]
  },
  {
   "cell_type": "markdown",
   "metadata": {},
   "source": [
    "#### extract multiome normailzed gex data"
   ]
  },
  {
   "cell_type": "code",
   "execution_count": null,
   "metadata": {
    "ExecuteTime": {
     "end_time": "2024-02-09T12:41:54.143937Z",
     "start_time": "2024-02-09T12:41:52.901420Z"
    }
   },
   "outputs": [],
   "source": [
    "adata_gex = adata[adata.obs['sample'].isin(multiome_samples)]"
   ]
  },
  {
   "cell_type": "code",
   "execution_count": null,
   "metadata": {},
   "outputs": [],
   "source": [
    "# Get obs data from gex\n",
    "atac.obs = adata_gex.obs.copy() # for concatenation"
   ]
  },
  {
   "cell_type": "code",
   "execution_count": null,
   "metadata": {},
   "outputs": [],
   "source": [
    "adata_gex.obs['sample'].value_counts()"
   ]
  },
  {
   "cell_type": "code",
   "execution_count": null,
   "metadata": {},
   "outputs": [],
   "source": [
    "adata_gex"
   ]
  },
  {
   "cell_type": "markdown",
   "metadata": {},
   "source": [
    "#### clean up gex data from muliome samples"
   ]
  },
  {
   "cell_type": "code",
   "execution_count": null,
   "metadata": {
    "ExecuteTime": {
     "end_time": "2024-02-09T12:41:54.219932Z",
     "start_time": "2024-02-09T12:41:54.145196Z"
    }
   },
   "outputs": [],
   "source": [
    "# Set raw count as X\n",
    "adata_gex.X = adata_gex.layers['raw_counts'].copy()\n",
    "\n",
    "# Set feature type\n",
    "adata_gex.var['feature_types'] = 'Gene Expression'\n",
    "adata_gex.var['modality'] = 'Gene Expression'\n",
    "\n",
    "adata_gex.var['genome'] = adata_gex.var['genome-0'].copy()\n",
    "\n",
    "# Remove all unneccessary var data\n",
    "adata_gex.var = adata_gex.var.loc[:,['feature_types','genome']].copy()"
   ]
  },
  {
   "cell_type": "code",
   "execution_count": null,
   "metadata": {
    "ExecuteTime": {
     "end_time": "2024-02-09T12:41:54.245635Z",
     "start_time": "2024-02-09T12:41:54.221208Z"
    }
   },
   "outputs": [],
   "source": [
    "# delete all uns/obsm/varm/layers/obsp/raw\n",
    "del adata_gex.uns\n",
    "del adata_gex.obsm\n",
    "del adata_gex.varm\n",
    "del adata_gex.layers\n",
    "del adata_gex.obsp\n",
    "del adata_gex.raw\n",
    "gc.collect()"
   ]
  },
  {
   "cell_type": "code",
   "execution_count": null,
   "metadata": {},
   "outputs": [],
   "source": [
    "adata_gex"
   ]
  },
  {
   "cell_type": "code",
   "execution_count": null,
   "metadata": {},
   "outputs": [],
   "source": [
    "gc.collect()"
   ]
  },
  {
   "cell_type": "markdown",
   "metadata": {},
   "source": [
    "#### concat normalized gex and atac"
   ]
  },
  {
   "cell_type": "code",
   "execution_count": null,
   "metadata": {},
   "outputs": [],
   "source": [
    "atac"
   ]
  },
  {
   "cell_type": "code",
   "execution_count": null,
   "metadata": {},
   "outputs": [],
   "source": [
    "atac.var"
   ]
  },
  {
   "cell_type": "code",
   "execution_count": null,
   "metadata": {
    "ExecuteTime": {
     "end_time": "2024-02-09T12:41:55.523872Z",
     "start_time": "2024-02-09T12:41:54.246858Z"
    }
   },
   "outputs": [],
   "source": [
    "atac.var['feature_types'] = 'Peaks'"
   ]
  },
  {
   "cell_type": "code",
   "execution_count": null,
   "metadata": {},
   "outputs": [],
   "source": [
    "# Filter variable peaks\n",
    "atac = atac[:,atac.var['highly_variable'] == True]"
   ]
  },
  {
   "cell_type": "code",
   "execution_count": null,
   "metadata": {
    "ExecuteTime": {
     "end_time": "2024-02-09T12:42:06.778206Z",
     "start_time": "2024-02-09T12:41:55.835188Z"
    }
   },
   "outputs": [],
   "source": [
    "# Joint data\n",
    "adata_multi = adata_gex.copy().transpose().concatenate(atac.copy().transpose()).transpose()\n",
    "\n",
    "# Add modality to .obs\n",
    "adata_multi.obs['modality'] = 'Multiome'\n",
    "\n",
    "# Fix var_names\n",
    "adata_multi.var_names = list(adata_gex.var_names) + list(atac.var_names)\n",
    "\n",
    "# Clean up .obs\n",
    "adata_multi.obs = adata_multi.obs.loc[:,['sample', 'doublet_calls', 'final_doublets', 'final_doublets_cat', 'phase', 'proliferation', 'initial_cell_type']].copy()"
   ]
  },
  {
   "cell_type": "code",
   "execution_count": null,
   "metadata": {
    "ExecuteTime": {
     "end_time": "2024-02-09T12:42:06.785911Z",
     "start_time": "2024-02-09T12:42:06.779373Z"
    }
   },
   "outputs": [],
   "source": [
    "adata_multi.var = adata_multi.var.iloc[:,0:2].copy()"
   ]
  },
  {
   "cell_type": "code",
   "execution_count": null,
   "metadata": {},
   "outputs": [],
   "source": [
    "adata_multi.var.feature_types.value_counts()"
   ]
  },
  {
   "cell_type": "code",
   "execution_count": null,
   "metadata": {},
   "outputs": [],
   "source": [
    "adata_multi.var"
   ]
  },
  {
   "cell_type": "raw",
   "metadata": {},
   "source": [
    "## Remove doublets from Multiome Data"
   ]
  },
  {
   "cell_type": "raw",
   "metadata": {
    "vscode": {
     "languageId": "raw"
    }
   },
   "source": [
    "adata_multi = adata_multi[adata_multi.obs['doublet_calls'] < 4].copy()"
   ]
  },
  {
   "cell_type": "markdown",
   "metadata": {},
   "source": [
    "# Prepare for MultiVI"
   ]
  },
  {
   "cell_type": "code",
   "execution_count": null,
   "metadata": {
    "ExecuteTime": {
     "end_time": "2024-02-09T12:42:06.814019Z",
     "start_time": "2024-02-09T12:42:06.787052Z"
    }
   },
   "outputs": [],
   "source": [
    "# extract non-multiome gex data\n",
    "adata_rna = adata[~adata.obs['sample'].isin(multiome_samples)]\n",
    "adata_rna.obs['modality'] = 'expression'"
   ]
  },
  {
   "cell_type": "code",
   "execution_count": null,
   "metadata": {},
   "outputs": [],
   "source": [
    "adata_rna"
   ]
  },
  {
   "cell_type": "code",
   "execution_count": null,
   "metadata": {},
   "outputs": [],
   "source": [
    "adata_rna.obs['sample'].value_counts()"
   ]
  },
  {
   "cell_type": "code",
   "execution_count": null,
   "metadata": {},
   "outputs": [],
   "source": [
    "# Set raw count as X\n",
    "adata_rna.X = adata_rna.layers['raw_counts'].copy()\n",
    "\n",
    "# Set feature type\n",
    "adata_rna.var['feature_types'] = 'Gene Expression'\n",
    "adata_rna.var['modality'] = 'Gene Expression'\n",
    "\n",
    "adata_rna.var['genome'] = adata_rna.var['genome-6'].copy()\n",
    "\n",
    "# Remove all unneccessary var data\n",
    "adata_rna.var = adata_rna.var.loc[:,['feature_types','genome']].copy()"
   ]
  },
  {
   "cell_type": "code",
   "execution_count": null,
   "metadata": {},
   "outputs": [],
   "source": [
    "# delete all uns/obsm/varm/layers/obsp/raw\n",
    "del adata_rna.uns\n",
    "del adata_rna.obsm\n",
    "del adata_rna.varm\n",
    "del adata_rna.layers\n",
    "del adata_rna.obsp\n",
    "del adata_rna.raw\n",
    "gc.collect()"
   ]
  },
  {
   "cell_type": "code",
   "execution_count": null,
   "metadata": {},
   "outputs": [],
   "source": [
    "# Clean up .obs\n",
    "adata_rna.obs = adata_rna.obs.loc[:,['sample', 'doublet_calls', 'final_doublets', 'final_doublets_cat', 'phase', 'proliferation', 'initial_cell_type']].copy()"
   ]
  },
  {
   "cell_type": "code",
   "execution_count": null,
   "metadata": {},
   "outputs": [],
   "source": [
    "del adata\n",
    "gc.collect()"
   ]
  },
  {
   "cell_type": "code",
   "execution_count": null,
   "metadata": {},
   "outputs": [],
   "source": [
    "import torch\n",
    "torch.cuda.empty_cache()"
   ]
  },
  {
   "cell_type": "code",
   "execution_count": null,
   "metadata": {},
   "outputs": [],
   "source": [
    "import scvi\n",
    "gc.collect()"
   ]
  },
  {
   "cell_type": "code",
   "execution_count": null,
   "metadata": {},
   "outputs": [],
   "source": [
    "del adata_gex\n",
    "del atac\n",
    "gc.collect()"
   ]
  },
  {
   "cell_type": "code",
   "execution_count": null,
   "metadata": {},
   "outputs": [],
   "source": [
    "gc.collect()"
   ]
  },
  {
   "cell_type": "code",
   "execution_count": null,
   "metadata": {},
   "outputs": [],
   "source": [
    "adata_multi"
   ]
  },
  {
   "cell_type": "code",
   "execution_count": null,
   "metadata": {},
   "outputs": [],
   "source": [
    "adata_multi.X.shape"
   ]
  },
  {
   "cell_type": "code",
   "execution_count": null,
   "metadata": {},
   "outputs": [],
   "source": [
    "adata_rna"
   ]
  },
  {
   "cell_type": "code",
   "execution_count": null,
   "metadata": {
    "ExecuteTime": {
     "end_time": "2024-02-09T12:42:11.737304Z",
     "start_time": "2024-02-09T12:42:06.815029Z"
    }
   },
   "outputs": [],
   "source": [
    "adata_mvi = scvi.data.organize_multiome_anndatas(adata_multi, adata_rna)"
   ]
  },
  {
   "cell_type": "code",
   "execution_count": null,
   "metadata": {},
   "outputs": [],
   "source": [
    "adata_mvi.write('/mnt/hdd/data/Healthy/multiVIorganized_object.h5ad')"
   ]
  },
  {
   "cell_type": "code",
   "execution_count": null,
   "metadata": {
    "ExecuteTime": {
     "end_time": "2024-02-09T12:42:12.856245Z",
     "start_time": "2024-02-09T12:42:11.738706Z"
    }
   },
   "outputs": [],
   "source": [
    "# Order features, such that genes appear before genomic regions\n",
    "adata_mvi = adata_mvi[:, adata_mvi.var[\"feature_types\"].argsort()].copy()\n",
    "adata_mvi.var"
   ]
  },
  {
   "cell_type": "code",
   "execution_count": null,
   "metadata": {
    "scrolled": true
   },
   "outputs": [],
   "source": [
    "# filter features present in less than 1% of cells\n",
    "print(adata_mvi.shape)\n",
    "sc.pp.filter_genes(adata_mvi, min_cells=int(adata_mvi.shape[0] * 0.01))\n",
    "print(adata_mvi.shape)"
   ]
  },
  {
   "cell_type": "markdown",
   "metadata": {},
   "source": [
    "# Run MultiVI\n",
    "\n",
    "n_hidden: 1024, layers: 4, inject: True\n",
    "\n",
    "This model does a very good job in clustering doublets together."
   ]
  },
  {
   "cell_type": "markdown",
   "metadata": {},
   "source": [
    "## Setup Model"
   ]
  },
  {
   "cell_type": "code",
   "execution_count": null,
   "metadata": {
    "ExecuteTime": {
     "end_time": "2024-02-09T12:42:12.859828Z",
     "start_time": "2024-02-09T12:42:12.857394Z"
    }
   },
   "outputs": [],
   "source": [
    "n_hidden=1024\n",
    "n_latent=50\n",
    "n_layers=4\n",
    "\n",
    "batch_key = 'modality'\n",
    "# labels_key = None\n",
    "\n",
    "categorical_covariate_keys = ['sample']\n",
    "continuous_covariate_keys = None\n",
    "\n",
    "deeply_inject_covariates = True\n",
    "\n",
    "modality_weights = 'cell'\n",
    "model_depth = True"
   ]
  },
  {
   "cell_type": "code",
   "execution_count": null,
   "metadata": {
    "ExecuteTime": {
     "end_time": "2024-02-09T12:42:13.843446Z",
     "start_time": "2024-02-09T12:42:12.861729Z"
    }
   },
   "outputs": [],
   "source": [
    "scvi.model.MULTIVI.setup_anndata(adata_mvi, batch_key=batch_key, categorical_covariate_keys=categorical_covariate_keys, continuous_covariate_keys=continuous_covariate_keys)"
   ]
  },
  {
   "cell_type": "code",
   "execution_count": null,
   "metadata": {
    "ExecuteTime": {
     "end_time": "2024-02-09T12:42:16.186336Z",
     "start_time": "2024-02-09T12:42:13.844798Z"
    }
   },
   "outputs": [],
   "source": [
    "model_mvi = scvi.model.MULTIVI(\n",
    "    adata_mvi,\n",
    "    n_genes=(adata_mvi.var['feature_types']=='Gene Expression').sum(),\n",
    "    n_regions=(adata_mvi.var['feature_types']=='Peaks').sum(),\n",
    "    n_hidden=n_hidden,\n",
    "    n_latent=n_latent, \n",
    "    n_layers_encoder=n_layers,\n",
    "    n_layers_decoder=n_layers,\n",
    "    deeply_inject_covariates=deeply_inject_covariates,\n",
    "    #modality_weights=modality_weights,\n",
    "    #model_depth=model_depth,\n",
    "    #gene_dispersion='gene-batch'\n",
    ")\n",
    "model_mvi.view_anndata_setup()"
   ]
  },
  {
   "cell_type": "markdown",
   "metadata": {},
   "source": [
    "## Train"
   ]
  },
  {
   "cell_type": "code",
   "execution_count": null,
   "metadata": {},
   "outputs": [],
   "source": [
    "import torch"
   ]
  },
  {
   "cell_type": "code",
   "execution_count": null,
   "metadata": {
    "ExecuteTime": {
     "end_time": "2024-02-09T12:42:16.189662Z",
     "start_time": "2024-02-09T12:42:16.187526Z"
    }
   },
   "outputs": [],
   "source": [
    "torch.cuda.empty_cache()"
   ]
  },
  {
   "cell_type": "code",
   "execution_count": null,
   "metadata": {
    "ExecuteTime": {
     "end_time": "2024-02-09T13:09:38.550721Z",
     "start_time": "2024-02-09T12:42:16.190625Z"
    }
   },
   "outputs": [],
   "source": [
    "model_mvi.train()"
   ]
  },
  {
   "cell_type": "code",
   "execution_count": null,
   "metadata": {
    "ExecuteTime": {
     "end_time": "2024-02-09T13:09:38.725630Z",
     "start_time": "2024-02-09T13:09:38.552199Z"
    }
   },
   "outputs": [],
   "source": [
    "# plot reconstruction loss\n",
    "plt.plot(model_mvi.history['reconstruction_loss_train']['reconstruction_loss_train'], label='train')\n",
    "plt.plot(model_mvi.history['reconstruction_loss_validation']['reconstruction_loss_validation'], label='validation')\n",
    "plt.legend()"
   ]
  },
  {
   "cell_type": "markdown",
   "metadata": {},
   "source": [
    "## Save"
   ]
  },
  {
   "cell_type": "raw",
   "metadata": {
    "ExecuteTime": {
     "end_time": "2024-02-09T13:09:38.735213Z",
     "start_time": "2024-02-09T13:09:38.730257Z"
    },
    "vscode": {
     "languageId": "raw"
    }
   },
   "source": [
    "directory_path = file_path + '/Models/'\n",
    "base_name = file_base_name + '_MultiVI-Doublet-Removal'\n",
    "date = str(datetime.date.today()) + '_'\n",
    "\n",
    "try:\n",
    "    covarCat = '_covarCat' + ''.join(' '.join('_'.join(categorical_covariate_keys).split('_')).title().split(' '))\n",
    "except:\n",
    "    covarCat = '_covarCatNone'\n",
    "    \n",
    "try:\n",
    "    covarCont = '_covarCont' + ''.join(' '.join('_'.join(continuous_covariate_keys).split('_')).title().split(' '))\n",
    "except:\n",
    "    covarCont = '_covarContNone' \n",
    "\n",
    "# try:\n",
    "#     labels = '_labels' + ''.join(' '.join(''.join(labels_key).split('_')).title().split(' '))\n",
    "# except:\n",
    "#     labels = '_labelsNone'\n",
    "\n",
    "deep = '_inject' + str(deeply_inject_covariates)\n",
    "layers = '_layers' + str(n_layers)\n",
    "hidden = '_hidden' + str(n_hidden)\n",
    "latent = '_latent' + str(n_latent)\n",
    "\n",
    "model_type = '_MultiVI'\n",
    "\n",
    "model_path = ''.join([\n",
    "    directory_path,\n",
    "    date,\n",
    "    base_name,\n",
    "#     labels,\n",
    "    covarCat,\n",
    "    covarCont,\n",
    "    deep,\n",
    "    layers,\n",
    "    hidden,\n",
    "    latent,\n",
    "    model_type\n",
    "])\n",
    "\n",
    "model_path"
   ]
  },
  {
   "cell_type": "raw",
   "metadata": {
    "ExecuteTime": {
     "end_time": "2024-02-09T13:09:42.581957Z",
     "start_time": "2024-02-09T13:09:38.736191Z"
    },
    "vscode": {
     "languageId": "raw"
    }
   },
   "source": [
    "model_mvi.save(model_path, overwrite=True, save_anndata=True)"
   ]
  },
  {
   "cell_type": "markdown",
   "metadata": {},
   "source": [
    "## Results"
   ]
  },
  {
   "cell_type": "code",
   "execution_count": null,
   "metadata": {
    "ExecuteTime": {
     "end_time": "2024-02-09T13:09:50.727981Z",
     "start_time": "2024-02-09T13:09:42.583365Z"
    }
   },
   "outputs": [],
   "source": [
    "adata_mvi.obsm['X_MultiVI'] = model_mvi.get_latent_representation(adata_mvi)"
   ]
  },
  {
   "cell_type": "code",
   "execution_count": null,
   "metadata": {},
   "outputs": [],
   "source": [
    "adata_mvi.write('/mnt/hdd/data/Healthy/adata_markedDoublets_normalized_initialAnno_MutliVI.h5ad')"
   ]
  },
  {
   "cell_type": "code",
   "execution_count": null,
   "metadata": {
    "ExecuteTime": {
     "end_time": "2024-02-09T13:10:06.857565Z",
     "start_time": "2024-02-09T13:09:50.729315Z"
    }
   },
   "outputs": [],
   "source": [
    "sc.pp.neighbors(adata_mvi, use_rep='X_MultiVI')"
   ]
  },
  {
   "cell_type": "code",
   "execution_count": null,
   "metadata": {
    "ExecuteTime": {
     "end_time": "2024-02-09T13:10:14.276524Z",
     "start_time": "2024-02-09T13:10:06.858933Z"
    }
   },
   "outputs": [],
   "source": [
    "sc.tl.umap(adata_mvi, min_dist=0.3)"
   ]
  },
  {
   "cell_type": "code",
   "execution_count": null,
   "metadata": {
    "ExecuteTime": {
     "end_time": "2024-02-09T13:10:15.610861Z",
     "start_time": "2024-02-09T13:10:14.277694Z"
    }
   },
   "outputs": [],
   "source": [
    "sc.tl.leiden(adata_mvi, resolution=1.5)"
   ]
  },
  {
   "cell_type": "code",
   "execution_count": null,
   "metadata": {
    "ExecuteTime": {
     "end_time": "2024-02-09T13:10:18.525212Z",
     "start_time": "2024-02-09T13:10:15.611991Z"
    },
    "scrolled": false
   },
   "outputs": [],
   "source": [
    "sc.pl.umap(adata_mvi, color=['modality','sample','leiden','initial_cell_type','doublet_calls','final_doublets_cat'], size=7, add_outline=True, alpha=0.7, outline_width=(0.3, 0.0), ncols=2, wspace=0.65, color_map=ch_YlRd)"
   ]
  },
  {
   "cell_type": "markdown",
   "metadata": {},
   "source": [
    "# Remove Doublets"
   ]
  },
  {
   "cell_type": "code",
   "execution_count": null,
   "metadata": {
    "ExecuteTime": {
     "end_time": "2024-02-09T13:10:18.788600Z",
     "start_time": "2024-02-09T13:10:18.526405Z"
    }
   },
   "outputs": [],
   "source": [
    "adata_mvi_wd = adata_mvi.copy()"
   ]
  },
  {
   "cell_type": "code",
   "execution_count": null,
   "metadata": {
    "ExecuteTime": {
     "end_time": "2024-02-09T13:10:18.796616Z",
     "start_time": "2024-02-09T13:10:18.789781Z"
    }
   },
   "outputs": [],
   "source": [
    "adata_mvi.obs['doublet_calls_cat'] = [str(x) for x in adata_mvi.obs['doublet_calls']]"
   ]
  },
  {
   "cell_type": "code",
   "execution_count": null,
   "metadata": {
    "ExecuteTime": {
     "end_time": "2024-02-09T13:10:18.820102Z",
     "start_time": "2024-02-09T13:10:18.797555Z"
    }
   },
   "outputs": [],
   "source": [
    "adata_mvi.uns['doublet_calls_cat_colors'] = np.array([mpl.colors.to_hex(color, keep_alpha=True) for color in ch_YlRd(np.linspace(0,1,8))])"
   ]
  },
  {
   "cell_type": "code",
   "execution_count": null,
   "metadata": {
    "ExecuteTime": {
     "end_time": "2024-02-09T13:10:19.286930Z",
     "start_time": "2024-02-09T13:10:18.820940Z"
    }
   },
   "outputs": [],
   "source": [
    "sc.pl.umap(adata_mvi, color=['doublet_calls_cat'], size=15, add_outline=True, alpha=1, outline_width=(0.3, 0.0), ncols=5, color_map=ch_YlRd)"
   ]
  },
  {
   "cell_type": "code",
   "execution_count": null,
   "metadata": {
    "ExecuteTime": {
     "end_time": "2024-02-09T13:10:19.681955Z",
     "start_time": "2024-02-09T13:10:19.288042Z"
    }
   },
   "outputs": [],
   "source": [
    "plot_composition(adata_mvi, x_key='initial_cell_type', y_key='doublet_calls_cat', x_rotation=90, figsize=(8,4))"
   ]
  },
  {
   "cell_type": "code",
   "execution_count": null,
   "metadata": {
    "ExecuteTime": {
     "end_time": "2024-02-09T13:10:21.465903Z",
     "start_time": "2024-02-09T13:10:19.683485Z"
    }
   },
   "outputs": [],
   "source": [
    "sc.tl.leiden(adata_mvi, resolution=2.5)"
   ]
  },
  {
   "cell_type": "code",
   "execution_count": null,
   "metadata": {
    "ExecuteTime": {
     "end_time": "2024-02-09T13:10:23.125261Z",
     "start_time": "2024-02-09T13:10:21.467324Z"
    }
   },
   "outputs": [],
   "source": [
    "sc.pl.umap(adata_mvi, color=['leiden','doublet_calls','final_doublets_cat'], size=12, add_outline=True, alpha=0.7, outline_width=(0.3, 0.0), ncols=4, wspace=0.65,color_map=ch_YlRd)"
   ]
  },
  {
   "cell_type": "code",
   "execution_count": null,
   "metadata": {
    "ExecuteTime": {
     "end_time": "2024-02-09T13:10:23.838738Z",
     "start_time": "2024-02-09T13:10:23.126371Z"
    }
   },
   "outputs": [],
   "source": [
    "pct_doublets = plot_composition(adata_mvi, x_key='leiden', y_key='doublet_calls_cat', x_rotation=90, figsize=(8,4))\n",
    "pct_doublets"
   ]
  },
  {
   "cell_type": "code",
   "execution_count": null,
   "metadata": {
    "ExecuteTime": {
     "end_time": "2023-09-18T15:48:53.935730Z",
     "start_time": "2023-09-18T15:48:53.873883Z"
    }
   },
   "outputs": [],
   "source": [
    "sc.tl.leiden(adata_mvi, restrict_to=('leiden', ['26']), resolution=0.25, key_added='leiden_sub1')"
   ]
  },
  {
   "cell_type": "code",
   "execution_count": null,
   "metadata": {},
   "outputs": [],
   "source": [
    "sc.pl.umap(adata_mvi, color=['leiden_sub1','final_doublets_cat','doublet_calls'], size=12, add_outline=True, alpha=0.7, outline_width=(0.3, 0.0), ncols=4, wspace=0.65,color_map=ch_YlRd)"
   ]
  },
  {
   "cell_type": "code",
   "execution_count": null,
   "metadata": {},
   "outputs": [],
   "source": [
    "sc.tl.leiden(adata_mvi, restrict_to=('leiden_sub1', ['20']), resolution=0.25, key_added='leiden_sub2')"
   ]
  },
  {
   "cell_type": "code",
   "execution_count": null,
   "metadata": {},
   "outputs": [],
   "source": [
    "sc.pl.umap(adata_mvi, color=['leiden_sub2','final_doublets_cat','doublet_calls'], size=12, add_outline=True, alpha=0.7, outline_width=(0.3, 0.0), ncols=4, wspace=0.65,color_map=ch_YlRd)"
   ]
  },
  {
   "cell_type": "code",
   "execution_count": null,
   "metadata": {
    "ExecuteTime": {
     "end_time": "2023-09-18T15:48:54.685304Z",
     "start_time": "2023-09-18T15:48:53.936715Z"
    },
    "scrolled": false
   },
   "outputs": [],
   "source": [
    "plot_composition(adata_mvi, x_key='leiden_sub2', y_key='doublet_calls_cat', x_rotation=90, figsize=(8,4))"
   ]
  },
  {
   "cell_type": "code",
   "execution_count": null,
   "metadata": {
    "ExecuteTime": {
     "end_time": "2024-02-09T13:10:24.245990Z",
     "start_time": "2024-02-09T13:10:23.839755Z"
    }
   },
   "outputs": [],
   "source": [
    "# remove doublet clusters\n",
    "adata_mvi = adata_mvi[~adata_mvi.obs.leiden_sub2.isin(list(pct_doublets['x_labels'][pct_doublets['0'] < 4]))].copy()"
   ]
  },
  {
   "cell_type": "code",
   "execution_count": null,
   "metadata": {
    "ExecuteTime": {
     "end_time": "2024-02-09T13:10:38.510360Z",
     "start_time": "2024-02-09T13:10:24.247037Z"
    }
   },
   "outputs": [],
   "source": [
    "sc.pp.neighbors(adata_mvi, use_rep=\"X_MultiVI\", metric='correlation', n_pcs=50, n_neighbors=20)\n",
    "sc.tl.umap(adata_mvi, min_dist=0.3)"
   ]
  },
  {
   "cell_type": "code",
   "execution_count": null,
   "metadata": {
    "ExecuteTime": {
     "end_time": "2024-02-09T13:10:40.435172Z",
     "start_time": "2024-02-09T13:10:38.511952Z"
    }
   },
   "outputs": [],
   "source": [
    "sc.tl.leiden(adata_mvi, resolution=3)"
   ]
  },
  {
   "cell_type": "code",
   "execution_count": null,
   "metadata": {
    "ExecuteTime": {
     "end_time": "2024-02-09T13:10:42.202739Z",
     "start_time": "2024-02-09T13:10:40.436546Z"
    }
   },
   "outputs": [],
   "source": [
    "sc.pl.umap(adata_mvi, color=['leiden','doublet_calls','final_doublets_cat'], size=12, add_outline=True, alpha=0.7, outline_width=(0.3, 0.0), ncols=4,wspace=0.55, color_map=ch_YlRd)"
   ]
  },
  {
   "cell_type": "code",
   "execution_count": null,
   "metadata": {
    "ExecuteTime": {
     "end_time": "2024-02-09T13:10:43.119042Z",
     "start_time": "2024-02-09T13:10:42.204133Z"
    },
    "scrolled": false
   },
   "outputs": [],
   "source": [
    "pct_doublets = plot_composition(adata_mvi, x_key='leiden', y_key='doublet_calls_cat', x_rotation=90, figsize=(8,4))\n",
    "pct_doublets"
   ]
  },
  {
   "cell_type": "code",
   "execution_count": null,
   "metadata": {
    "ExecuteTime": {
     "end_time": "2024-02-09T13:10:43.533095Z",
     "start_time": "2024-02-09T13:10:43.120377Z"
    }
   },
   "outputs": [],
   "source": [
    "# remove doublet clusters\n",
    "adata_mvi = adata_mvi[~adata_mvi.obs.leiden.isin(list(pct_doublets['x_labels'][pct_doublets['0'] < 5]))].copy()"
   ]
  },
  {
   "cell_type": "code",
   "execution_count": null,
   "metadata": {
    "ExecuteTime": {
     "end_time": "2024-02-09T13:10:43.912652Z",
     "start_time": "2024-02-09T13:10:43.534549Z"
    }
   },
   "outputs": [],
   "source": [
    "# remove cells with > 3 doublet calls\n",
    "adata_mvi = adata_mvi[adata_mvi.obs.doublet_calls < 4 ].copy()"
   ]
  },
  {
   "cell_type": "code",
   "execution_count": null,
   "metadata": {},
   "outputs": [],
   "source": [
    "# remove cells initial cell type == 'non-epithelial\n",
    "adata_mvi = adata_mvi[adata_mvi.obs.initial_cell_type != 'Non-Epithelial' ].copy()"
   ]
  },
  {
   "cell_type": "code",
   "execution_count": null,
   "metadata": {
    "ExecuteTime": {
     "end_time": "2024-02-09T13:10:49.065344Z",
     "start_time": "2024-02-09T13:10:43.914079Z"
    }
   },
   "outputs": [],
   "source": [
    "sc.pp.neighbors(adata_mvi, use_rep=\"X_MultiVI\", n_pcs=50, n_neighbors=20)\n",
    "sc.tl.umap(adata_mvi, min_dist=0.2, spread=0.8, negative_sample_rate=1, gamma=0.5)"
   ]
  },
  {
   "cell_type": "code",
   "execution_count": null,
   "metadata": {
    "ExecuteTime": {
     "end_time": "2024-02-09T13:10:50.736837Z",
     "start_time": "2024-02-09T13:10:49.066697Z"
    }
   },
   "outputs": [],
   "source": [
    "sc.tl.leiden(adata_mvi, resolution=1)"
   ]
  },
  {
   "cell_type": "code",
   "execution_count": null,
   "metadata": {
    "ExecuteTime": {
     "end_time": "2024-02-09T13:10:53.351765Z",
     "start_time": "2024-02-09T13:10:50.738123Z"
    },
    "scrolled": false
   },
   "outputs": [],
   "source": [
    "sc.pl.umap(adata_mvi, color=['sample','leiden','initial_cell_type','doublet_calls','final_doublets_cat'], size=12, add_outline=True, alpha=0.7, outline_width=(0.3, 0.0), ncols=4, wspace=0.85, color_map=ch_YlRd)"
   ]
  },
  {
   "cell_type": "code",
   "execution_count": null,
   "metadata": {
    "ExecuteTime": {
     "end_time": "2024-02-09T13:10:53.916755Z",
     "start_time": "2024-02-09T13:10:53.353147Z"
    }
   },
   "outputs": [],
   "source": [
    "sc.tl.paga(adata_mvi, groups='initial_cell_type')\n",
    "sc.pl.paga(adata_mvi)"
   ]
  },
  {
   "cell_type": "code",
   "execution_count": null,
   "metadata": {
    "ExecuteTime": {
     "end_time": "2024-02-09T13:10:56.667849Z",
     "start_time": "2024-02-09T13:10:53.917993Z"
    }
   },
   "outputs": [],
   "source": [
    "sc.tl.umap(adata_mvi, min_dist=0.2, spread=0.8, negative_sample_rate=1, gamma=0.5, init_pos='paga')"
   ]
  },
  {
   "cell_type": "code",
   "execution_count": null,
   "metadata": {
    "ExecuteTime": {
     "end_time": "2024-02-09T13:10:58.764809Z",
     "start_time": "2024-02-09T13:10:56.669204Z"
    },
    "scrolled": false
   },
   "outputs": [],
   "source": [
    "sc.pl.umap(adata_mvi, color=['sample','leiden','initial_cell_type','doublet_calls','final_doublets_cat'], size=7, add_outline=True, alpha=0.7, outline_width=(0.3, 0.0), ncols=4, wspace=0.75, color_map=ch_YlRd)"
   ]
  },
  {
   "cell_type": "markdown",
   "metadata": {},
   "source": [
    "# Update Original Files"
   ]
  },
  {
   "cell_type": "code",
   "execution_count": null,
   "metadata": {},
   "outputs": [],
   "source": [
    "adata_mvi.write('/mnt/hdd/data/Healthy/adata_markedDoublets_normalized_initialAnno_noimmune_multivi.h5ad')"
   ]
  },
  {
   "cell_type": "code",
   "execution_count": null,
   "metadata": {},
   "outputs": [],
   "source": [
    "adata_mvi = sc.read_h5ad('/mnt/hdd/data/Healthy/adata_markedDoublets_normalized_initialAnno_noimmune_multivi.h5ad')"
   ]
  },
  {
   "cell_type": "code",
   "execution_count": null,
   "metadata": {
    "ExecuteTime": {
     "end_time": "2024-02-09T13:10:58.784558Z",
     "start_time": "2024-02-09T13:10:58.766286Z"
    }
   },
   "outputs": [],
   "source": [
    "barcodes_multiome = [name.split('_')[0] for name in adata_mvi[adata_mvi.obs.modality.isin(['paired'])].obs_names]\n",
    "barcodes_gex = [name.split('_')[0] for name in adata_mvi[~adata_mvi.obs.modality.isin(['paired'])].obs_names]\n",
    "barcodes_all = [name.split('_')[0] for name in adata_mvi.obs_names]"
   ]
  },
  {
   "cell_type": "code",
   "execution_count": null,
   "metadata": {
    "ExecuteTime": {
     "end_time": "2024-02-09T13:10:59.077461Z",
     "start_time": "2024-02-09T13:10:59.053822Z"
    },
    "scrolled": true
   },
   "outputs": [],
   "source": [
    "adata_multi = adata_multi[barcodes_multiome]\n",
    "adata_rna = adata_rna[barcodes_gex]"
   ]
  },
  {
   "cell_type": "code",
   "execution_count": null,
   "metadata": {},
   "outputs": [],
   "source": [
    "adata = adata[barcodes_all]"
   ]
  },
  {
   "cell_type": "code",
   "execution_count": null,
   "metadata": {
    "ExecuteTime": {
     "end_time": "2024-02-09T13:11:02.654494Z",
     "start_time": "2024-02-09T13:10:59.078638Z"
    }
   },
   "outputs": [],
   "source": [
    "adata.obsm['X_MultiVI'] = adata_mvi.obsm['X_MultiVI']"
   ]
  },
  {
   "cell_type": "code",
   "execution_count": null,
   "metadata": {},
   "outputs": [],
   "source": [
    "adata.write('/mnt/hdd/data/Healthy/adata_markedDoublets_normalized_initialAnno_noimmune_multivi_orig_wodblts.h5ad')"
   ]
  },
  {
   "cell_type": "code",
   "execution_count": null,
   "metadata": {},
   "outputs": [],
   "source": [
    "del adata\n",
    "del adata_mvi\n",
    "gc.collect()"
   ]
  },
  {
   "cell_type": "markdown",
   "metadata": {},
   "source": [
    "# Run MultiVI without Doublets\n",
    "\n",
    "n_hidden: 1024, layers: 4, inject: True\n"
   ]
  },
  {
   "cell_type": "code",
   "execution_count": null,
   "metadata": {
    "ExecuteTime": {
     "end_time": "2024-02-09T13:11:02.658079Z",
     "start_time": "2024-02-09T13:11:02.655816Z"
    }
   },
   "outputs": [],
   "source": [
    "del model_mvi"
   ]
  },
  {
   "cell_type": "code",
   "execution_count": null,
   "metadata": {
    "ExecuteTime": {
     "end_time": "2024-02-09T13:11:02.682819Z",
     "start_time": "2024-02-09T13:11:02.659037Z"
    }
   },
   "outputs": [],
   "source": [
    "torch.cuda.empty_cache()"
   ]
  },
  {
   "cell_type": "markdown",
   "metadata": {},
   "source": [
    "## Setup Data"
   ]
  },
  {
   "cell_type": "code",
   "execution_count": null,
   "metadata": {},
   "outputs": [],
   "source": [
    "import torch\n",
    "import scvi"
   ]
  },
  {
   "cell_type": "code",
   "execution_count": null,
   "metadata": {
    "ExecuteTime": {
     "end_time": "2024-02-09T13:11:06.775534Z",
     "start_time": "2024-02-09T13:11:02.705604Z"
    }
   },
   "outputs": [],
   "source": [
    "adata_mvi = scvi.data.organize_multiome_anndatas(adata_multi, adata_rna)"
   ]
  },
  {
   "cell_type": "code",
   "execution_count": null,
   "metadata": {
    "ExecuteTime": {
     "end_time": "2024-02-09T13:11:07.627570Z",
     "start_time": "2024-02-09T13:11:06.776962Z"
    }
   },
   "outputs": [],
   "source": [
    "# Order features, such that genes appear before genomic regions\n",
    "adata_mvi = adata_mvi[:, adata_mvi.var[\"feature_types\"].argsort()].copy()\n",
    "adata_mvi.var"
   ]
  },
  {
   "cell_type": "code",
   "execution_count": null,
   "metadata": {},
   "outputs": [],
   "source": [
    "# filter features present in less than 1% of cells\n",
    "print(adata_mvi.shape)\n",
    "sc.pp.filter_genes(adata_mvi, min_cells=int(adata_mvi.shape[0] * 0.01))\n",
    "print(adata_mvi.shape)"
   ]
  },
  {
   "cell_type": "markdown",
   "metadata": {},
   "source": [
    "## Setup Model"
   ]
  },
  {
   "cell_type": "code",
   "execution_count": null,
   "metadata": {
    "ExecuteTime": {
     "end_time": "2024-02-09T13:11:07.631427Z",
     "start_time": "2024-02-09T13:11:07.628803Z"
    }
   },
   "outputs": [],
   "source": [
    "n_hidden=1024\n",
    "n_latent=50\n",
    "n_layers=4\n",
    "\n",
    "batch_key = 'modality'\n",
    "# labels_key = None\n",
    "\n",
    "categorical_covariate_keys = ['sample']\n",
    "continuous_covariate_keys = None\n",
    "\n",
    "deeply_inject_covariates = True\n",
    "\n",
    "modality_weights = 'cell'\n",
    "model_depth = True"
   ]
  },
  {
   "cell_type": "code",
   "execution_count": null,
   "metadata": {
    "ExecuteTime": {
     "end_time": "2024-02-09T13:11:07.668843Z",
     "start_time": "2024-02-09T13:11:07.632448Z"
    }
   },
   "outputs": [],
   "source": [
    "scvi.model.MULTIVI.setup_anndata(adata_mvi, batch_key=batch_key, categorical_covariate_keys=categorical_covariate_keys, continuous_covariate_keys=continuous_covariate_keys)"
   ]
  },
  {
   "cell_type": "code",
   "execution_count": null,
   "metadata": {
    "ExecuteTime": {
     "end_time": "2024-02-09T13:11:09.914080Z",
     "start_time": "2024-02-09T13:11:07.670157Z"
    }
   },
   "outputs": [],
   "source": [
    "model_mvi = scvi.model.MULTIVI(\n",
    "    adata_mvi,\n",
    "    n_genes=(adata_mvi.var['feature_types']=='Gene Expression').sum(),\n",
    "    n_regions=(adata_mvi.var['feature_types']=='Peaks').sum(),\n",
    "    n_hidden=n_hidden,\n",
    "    n_latent=n_latent, \n",
    "    n_layers_encoder=n_layers,\n",
    "    n_layers_decoder=n_layers,\n",
    "    deeply_inject_covariates=deeply_inject_covariates,\n",
    "    #modality_weights=modality_weights,\n",
    "    #model_depth=model_depth,\n",
    "    #gene_dispersion='gene-batch'\n",
    ")\n",
    "model_mvi.view_anndata_setup()"
   ]
  },
  {
   "cell_type": "markdown",
   "metadata": {},
   "source": [
    "## Train"
   ]
  },
  {
   "cell_type": "code",
   "execution_count": null,
   "metadata": {},
   "outputs": [],
   "source": [
    "gc.collect()"
   ]
  },
  {
   "cell_type": "code",
   "execution_count": null,
   "metadata": {
    "ExecuteTime": {
     "end_time": "2024-02-09T13:11:09.917448Z",
     "start_time": "2024-02-09T13:11:09.915225Z"
    }
   },
   "outputs": [],
   "source": [
    "torch.cuda.empty_cache()"
   ]
  },
  {
   "cell_type": "code",
   "execution_count": null,
   "metadata": {},
   "outputs": [],
   "source": [
    "torch.cuda.memory_allocated()"
   ]
  },
  {
   "cell_type": "code",
   "execution_count": null,
   "metadata": {
    "ExecuteTime": {
     "end_time": "2024-02-09T13:31:00.526835Z",
     "start_time": "2024-02-09T13:11:09.918433Z"
    }
   },
   "outputs": [],
   "source": [
    "model_mvi.train()"
   ]
  },
  {
   "cell_type": "code",
   "execution_count": null,
   "metadata": {
    "ExecuteTime": {
     "end_time": "2024-02-09T13:31:00.676463Z",
     "start_time": "2024-02-09T13:31:00.528255Z"
    }
   },
   "outputs": [],
   "source": [
    "# plot reconstruction loss\n",
    "plt.plot(model_mvi.history['reconstruction_loss_train']['reconstruction_loss_train'], label='train')\n",
    "plt.plot(model_mvi.history['reconstruction_loss_validation']['reconstruction_loss_validation'], label='validation')\n",
    "plt.legend()"
   ]
  },
  {
   "cell_type": "markdown",
   "metadata": {},
   "source": [
    "## Save"
   ]
  },
  {
   "cell_type": "raw",
   "metadata": {
    "ExecuteTime": {
     "end_time": "2024-02-09T13:31:00.684333Z",
     "start_time": "2024-02-09T13:31:00.677826Z"
    },
    "vscode": {
     "languageId": "raw"
    }
   },
   "source": [
    "directory_path = file_path + '/Models/'\n",
    "base_name = file_base_name + '_MultiVI-Integration_v6'\n",
    "date = str(datetime.date.today()) + '_'\n",
    "\n",
    "try:\n",
    "    covarCat = '_covarCat' + ''.join(' '.join('_'.join(categorical_covariate_keys).split('_')).title().split(' '))\n",
    "except:\n",
    "    covarCat = '_covarCatNone'\n",
    "    \n",
    "try:\n",
    "    covarCont = '_covarCont' + ''.join(' '.join('_'.join(continuous_covariate_keys).split('_')).title().split(' '))\n",
    "except:\n",
    "    covarCont = '_covarContNone' \n",
    "\n",
    "# try:\n",
    "#     labels = '_labels' + ''.join(' '.join(''.join(labels_key).split('_')).title().split(' '))\n",
    "# except:\n",
    "#     labels = '_labelsNone'\n",
    "\n",
    "deep = '_inject' + str(deeply_inject_covariates)\n",
    "layers = '_layers' + str(n_layers)\n",
    "hidden = '_hidden' + str(n_hidden)\n",
    "latent = '_latent' + str(n_latent)\n",
    "\n",
    "model_type = '_MultiVI'\n",
    "\n",
    "model_path = ''.join([\n",
    "    directory_path,\n",
    "    date,\n",
    "    base_name,\n",
    "#     labels,\n",
    "    covarCat,\n",
    "    covarCont,\n",
    "    deep,\n",
    "    layers,\n",
    "    hidden,\n",
    "    latent,\n",
    "    model_type\n",
    "])\n",
    "\n",
    "model_path"
   ]
  },
  {
   "cell_type": "raw",
   "metadata": {
    "ExecuteTime": {
     "end_time": "2024-02-09T13:31:03.894855Z",
     "start_time": "2024-02-09T13:31:00.685771Z"
    },
    "vscode": {
     "languageId": "raw"
    }
   },
   "source": [
    "model_mvi.save(model_path, overwrite=True, save_anndata=True)"
   ]
  },
  {
   "cell_type": "markdown",
   "metadata": {},
   "source": [
    "## Results"
   ]
  },
  {
   "cell_type": "code",
   "execution_count": null,
   "metadata": {
    "ExecuteTime": {
     "end_time": "2024-02-09T13:31:10.404750Z",
     "start_time": "2024-02-09T13:31:03.896322Z"
    }
   },
   "outputs": [],
   "source": [
    "adata_mvi.obsm['X_MultiVI_rmDoublets'] = model_mvi.get_latent_representation(adata_mvi)"
   ]
  },
  {
   "cell_type": "code",
   "execution_count": null,
   "metadata": {
    "ExecuteTime": {
     "end_time": "2024-02-09T13:31:15.412531Z",
     "start_time": "2024-02-09T13:31:10.406079Z"
    }
   },
   "outputs": [],
   "source": [
    "sc.pp.neighbors(adata_mvi, use_rep=\"X_MultiVI_rmDoublets\", n_pcs=50, n_neighbors=20)\n",
    "sc.tl.umap(adata_mvi, min_dist=0.2, spread=0.8, negative_sample_rate=1, gamma=0.5)"
   ]
  },
  {
   "cell_type": "code",
   "execution_count": null,
   "metadata": {
    "ExecuteTime": {
     "end_time": "2024-02-09T13:31:16.638569Z",
     "start_time": "2024-02-09T13:31:15.414031Z"
    }
   },
   "outputs": [],
   "source": [
    "sc.tl.leiden(adata_mvi, resolution=1)"
   ]
  },
  {
   "cell_type": "code",
   "execution_count": null,
   "metadata": {
    "ExecuteTime": {
     "end_time": "2024-02-09T13:31:18.856355Z",
     "start_time": "2024-02-09T13:31:16.640020Z"
    },
    "scrolled": false
   },
   "outputs": [],
   "source": [
    "sc.pl.umap(adata_mvi, color=['sample','leiden','initial_cell_type','doublet_calls','final_doublets_cat'], size=7, add_outline=True, alpha=0.7, outline_width=(0.3, 0.0), ncols=2, wspace =0.65, color_map=ch_YlRd)"
   ]
  },
  {
   "cell_type": "code",
   "execution_count": null,
   "metadata": {
    "ExecuteTime": {
     "end_time": "2024-02-09T13:31:19.373665Z",
     "start_time": "2024-02-09T13:31:18.857779Z"
    }
   },
   "outputs": [],
   "source": [
    "sc.tl.paga(adata_mvi, groups='initial_cell_type')\n",
    "sc.pl.paga(adata_mvi)"
   ]
  },
  {
   "cell_type": "code",
   "execution_count": null,
   "metadata": {
    "ExecuteTime": {
     "end_time": "2024-02-09T13:31:22.048409Z",
     "start_time": "2024-02-09T13:31:19.374971Z"
    }
   },
   "outputs": [],
   "source": [
    "sc.tl.umap(adata_mvi, min_dist=0.2, spread=0.8, negative_sample_rate=1, gamma=0.5, init_pos='paga')"
   ]
  },
  {
   "cell_type": "code",
   "execution_count": null,
   "metadata": {
    "ExecuteTime": {
     "end_time": "2024-02-09T13:31:24.228756Z",
     "start_time": "2024-02-09T13:31:22.049843Z"
    },
    "scrolled": false
   },
   "outputs": [],
   "source": [
    "sc.pl.umap(adata_mvi, color=['sample','leiden','initial_cell_type','doublet_calls','final_doublets_cat'], size=7, add_outline=True, alpha=0.7, outline_width=(0.3, 0.0), ncols=3,wspace=0.99, color_map=ch_YlRd)"
   ]
  },
  {
   "cell_type": "markdown",
   "metadata": {},
   "source": [
    "# Update Original Files & Save"
   ]
  },
  {
   "cell_type": "markdown",
   "metadata": {},
   "source": [
    "## Multiome"
   ]
  },
  {
   "cell_type": "code",
   "execution_count": null,
   "metadata": {},
   "outputs": [],
   "source": [
    "barcodes_all = [name.split('_')[0] for name in adata_mvi.obs_names]"
   ]
  },
  {
   "cell_type": "code",
   "execution_count": null,
   "metadata": {},
   "outputs": [],
   "source": [
    "adata = adata[barcodes_all]"
   ]
  },
  {
   "cell_type": "code",
   "execution_count": null,
   "metadata": {},
   "outputs": [],
   "source": [
    "adata.obsm['X_MultiVI_rmDoublets'] = adata_mvi.obsm['X_MultiVI_rmDoublets']"
   ]
  },
  {
   "cell_type": "code",
   "execution_count": null,
   "metadata": {},
   "outputs": [],
   "source": [
    "adata.write('/mnt/hdd/data/Healthy/adata_markedDoublets_normalized_initialAnno_noimmune_multivi_orig_wodblts_2.h5ad')"
   ]
  }
 ],
 "metadata": {
  "interpreter": {
   "hash": "e3eb0a795c83301708bb6645b66ea23b0797e9f676e4382411ae0325406ce5ee"
  },
  "kernelspec": {
   "display_name": "scUV2",
   "language": "python",
   "name": "scuv2"
  },
  "language_info": {
   "codemirror_mode": {
    "name": "ipython",
    "version": 3
   },
   "file_extension": ".py",
   "mimetype": "text/x-python",
   "name": "python",
   "nbconvert_exporter": "python",
   "pygments_lexer": "ipython3",
   "version": "3.10.14"
  },
  "toc": {
   "base_numbering": 1,
   "nav_menu": {},
   "number_sections": true,
   "sideBar": true,
   "skip_h1_title": false,
   "title_cell": "Table of Contents",
   "title_sidebar": "Contents",
   "toc_cell": false,
   "toc_position": {
    "height": "calc(100% - 180px)",
    "left": "10px",
    "top": "150px",
    "width": "355.833px"
   },
   "toc_section_display": true,
   "toc_window_display": true
  },
  "varInspector": {
   "cols": {
    "lenName": 16,
    "lenType": 16,
    "lenVar": 40
   },
   "kernels_config": {
    "python": {
     "delete_cmd_postfix": "",
     "delete_cmd_prefix": "del ",
     "library": "var_list.py",
     "varRefreshCmd": "print(var_dic_list())"
    },
    "r": {
     "delete_cmd_postfix": ") ",
     "delete_cmd_prefix": "rm(",
     "library": "var_list.r",
     "varRefreshCmd": "cat(var_dic_list()) "
    }
   },
   "types_to_exclude": [
    "module",
    "function",
    "builtin_function_or_method",
    "instance",
    "_Feature"
   ],
   "window_display": false
  }
 },
 "nbformat": 4,
 "nbformat_minor": 4
}
