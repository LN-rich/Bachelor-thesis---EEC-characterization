{
 "cells": [
  {
   "cell_type": "markdown",
   "metadata": {},
   "source": [
    "<!--  -->\n",
    "# Annotation (scANVI)\n",
    "Adapted from Michael Sterr\n",
    "\n",
    "2024-05-28\n",
    "\n",
    "\n",
    "# Setup\n"
   ]
  },
  {
   "cell_type": "code",
   "execution_count": null,
   "metadata": {
    "ExecuteTime": {
     "end_time": "2023-12-05T10:44:08.231808Z",
     "start_time": "2023-12-05T10:44:02.871761Z"
    }
   },
   "outputs": [],
   "source": [
    "# General\n",
    "import scipy as sci\n",
    "import numpy as np\n",
    "import pandas as pd\n",
    "import logging\n",
    "import time\n",
    "import pickle\n",
    "from itertools import chain\n",
    "import h5py\n",
    "import scipy.sparse as sparse\n",
    "import anndata as ad\n",
    "import gc\n",
    "import scipy.stats as stats\n",
    "import torch\n",
    "\n",
    "# Plotting\n",
    "import matplotlib.pyplot as plt\n",
    "import matplotlib as mpl\n",
    "import matplotlib.colors as mcolors\n",
    "from matplotlib import rcParams\n",
    "from matplotlib.pyplot import rc_context\n",
    "from matplotlib import cm\n",
    "import seaborn as sb\n",
    "\n",
    "# Analysis\n",
    "import scanpy as sc\n",
    "import scanpy.external as sce\n",
    "import scvi\n",
    "import muon as mu\n",
    "from muon import atac as ac # Import a module with ATAC-seq-related functions\n",
    "\n",
    "import scvelo as scv\n",
    "import cellrank as cr"
   ]
  },
  {
   "cell_type": "markdown",
   "metadata": {},
   "source": [
    "## setup matplotlib"
   ]
  },
  {
   "cell_type": "code",
   "execution_count": null,
   "metadata": {
    "ExecuteTime": {
     "end_time": "2023-12-05T10:44:08.552153Z",
     "start_time": "2023-12-05T10:44:08.233362Z"
    }
   },
   "outputs": [],
   "source": [
    "# Settings\n",
    "\n",
    "## Directory\n",
    "base_dir = '/mnt/hdd/Notebooks/Gut_project/'\n",
    "sc.settings.figdir = base_dir + 'Figures'\n",
    "sc.settings.cachedir = base_dir + 'Cache'\n",
    "\n",
    "## Scanpy settings\n",
    "sc.settings.verbosity = 3\n",
    "sc.logging.print_header()\n",
    "sc.logging.print_versions()\n",
    "\n",
    "import warnings\n",
    "warnings.filterwarnings('ignore')"
   ]
  },
  {
   "cell_type": "code",
   "execution_count": null,
   "metadata": {},
   "outputs": [],
   "source": [
    "%run utils.ipynb"
   ]
  },
  {
   "cell_type": "code",
   "execution_count": null,
   "metadata": {},
   "outputs": [],
   "source": [
    "mymap = load_RdOrYl_cmap_settings(transparent=False)"
   ]
  },
  {
   "cell_type": "markdown",
   "metadata": {},
   "source": [
    "# Setup R"
   ]
  },
  {
   "cell_type": "code",
   "execution_count": null,
   "metadata": {},
   "outputs": [],
   "source": [
    "#R\n",
    "import rpy2\n",
    "import rpy2.robjects as ro\n",
    "import rpy2.rinterface_lib.callbacks\n",
    "from rpy2.robjects import pandas2ri\n",
    "import anndata2ri\n",
    "setup_R('/home/scanalysis/mnt/envs/scUV/lib/R')"
   ]
  },
  {
   "cell_type": "code",
   "execution_count": null,
   "metadata": {},
   "outputs": [],
   "source": [
    "%%R\n",
    "\n",
    ".libPaths()"
   ]
  },
  {
   "cell_type": "code",
   "execution_count": null,
   "metadata": {},
   "outputs": [],
   "source": [
    "%%R\n",
    "# Parallelization\n",
    "library(BiocParallel)\n",
    "register(MulticoreParam(20, progressbar = TRUE))\n",
    "\n",
    "library(future)\n",
    "plan(\"multicore\", workers = 20)\n",
    "options(future.globals.maxSize = 64 * 1024^2)\n",
    "plan()\n",
    "\n",
    "library(doParallel)\n",
    "registerDoParallel(20)\n",
    "\n",
    "sessionInfo()"
   ]
  },
  {
   "cell_type": "markdown",
   "metadata": {},
   "source": [
    "# DElegate"
   ]
  },
  {
   "cell_type": "code",
   "execution_count": null,
   "metadata": {},
   "outputs": [],
   "source": [
    "def get_diff_exprs_DElegate(\n",
    "    adata=None, \n",
    "    groupby=None, # groups/condtions to test (e.g stage, genotype, ...)\n",
    "    groups_restrict=None, #restricht test to gives cell type or cluster\n",
    "    restrict_to=None, #identity of cell type the should be restricted to. e.g Beta\n",
    "    layer='raw_counts',\n",
    "#     group_column = None, \n",
    "#     replicate_column = None, \n",
    "    method = \"edger\", \n",
    "    filter_ambient_genes=False, \n",
    "    rank_genes_groups_key=None, # rank genes group key with markers for groups_restrict\n",
    "    get_marker=False, # run to rank_genes_groups to identify markers\n",
    "    min_gene_score=0, # min score a cluster marker should have to be cluster-specific\n",
    "    min_cluster_size = 100, \n",
    "    min_frac_cells = 0.05,\n",
    "    sample_key=None, # key for samples/replicates\n",
    "    #additional_variables=[],  # which metadata to keep, e.g. gender, age, etc.\n",
    "    #replicates_per_sample=3, # number of pseudoreplicates/sample\n",
    "    #min_cell_per_sample=30,\n",
    "    #aggr_method='sum',\n",
    "    plot=True,\n",
    "    return_results='dict' # or 'top_table'\n",
    "):\n",
    "    # copy adata\n",
    "    adata_temp = adata.copy()\n",
    "    \n",
    "#     # set selected layer to .X\n",
    "#     if layer is not None:\n",
    "#         adata_temp.X = adata_temp.layers[layer].copy()\n",
    "\n",
    "    # create results dict and add parametes\n",
    "    results = dict()\n",
    "    results['method'] = 'DElegate_pseudobulk_' + method\n",
    "    results['groupby'] = groupby\n",
    "    results['groupby_categories'] = []\n",
    "    results['groups_restrict'] = groups_restrict\n",
    "    if groups_restrict is not None:\n",
    "        results['groups_restrict_categories'] = list(adata_temp.obs[groups_restrict].cat.categories)\n",
    "    if (groups_restrict is not None) & (restrict_to is not None):\n",
    "        results['restrict_to'] = restrict_to\n",
    "    else:\n",
    "        results['restrict_to'] = ''\n",
    "    results['layer'] = layer\n",
    "    results['min_cluster_size'] = min_cluster_size\n",
    "    results['min_frac_cells'] = min_frac_cells\n",
    "    \n",
    "    # check if cluster of interest (restrict_to) has enough cells\n",
    "    if groups_restrict is not None:\n",
    "        if adata_temp.obs[groups_restrict].value_counts()[restrict_to] < min_cluster_size:\n",
    "            #print('Group has less than ' + str(min_cluster_size) + ' cells.')\n",
    "            raise ValueError('Group has less than ' + str(min_cluster_size) + ' cells.') \n",
    "    \n",
    "    # check if key for rank genes groups for the group containing the cluster of interest (groups_restrict) is provided -> rank_genes_group if not\n",
    "    if (rank_genes_groups_key == None) & (get_marker):\n",
    "        sc.tl.rank_genes_groups(adata_temp, groupby=groups_restrict)\n",
    "        rank_genes_groups_key = 'rank_genes_groups'\n",
    "    \n",
    "    # subset adata to group provided in restrict_to\n",
    "    if restrict_to is None:\n",
    "        adata_temp_test = adata_temp.copy()\n",
    "    else:\n",
    "        adata_temp_test = adata_temp[adata_temp.obs[groups_restrict].isin([restrict_to])].copy()\n",
    "    \n",
    "    groupby_categories = list(adata_temp_test.obs[groupby].cat.categories)\n",
    "    results['groupby_categories'] = groupby_categories\n",
    "    \n",
    "    groupby_colors = list(adata_temp_test.uns[groupby + '_colors'])\n",
    "    results['groupby_colors'] = groupby_colors\n",
    "    \n",
    "    # filter genes expressed in few cells\n",
    "    sc.pp.filter_genes(adata_temp_test, min_cells=adata_temp_test.shape[0]*min_frac_cells)\n",
    "    \n",
    "    # filter ambient genes\n",
    "    if filter_ambient_genes:\n",
    "        if rank_genes_groups_key == None:\n",
    "            ambi_genes_remove = list(adata_temp.var_names[adata_temp.var_names.isin(list(adata_temp[:,adata_temp.var['is_ambient'] == True].var_names))])\n",
    "            adata_temp_test = adata_temp_test[:,~adata_temp_test.var_names.isin(ambi_genes_remove)]\n",
    "            print('\\nRemoving ambient genes from analysis: ', ambi_genes_remove)\n",
    "            results['ambient_genes_removed'] = ambi_genes_remove\n",
    "        else:\n",
    "            ambi_genes = list(adata_temp.var_names[adata_temp.var_names.isin(list(adata_temp[:,adata_temp.var['is_ambient'] == True].var_names))])\n",
    "            marker_genes = list(adata_temp.uns[rank_genes_groups_key]['names'][restrict_to][adata_temp.uns[rank_genes_groups_key]['scores'][restrict_to] > min_gene_score])\n",
    "            ambi_genes_remove = list(set(ambi_genes).difference(set(marker_genes)))\n",
    "            adata_temp_test = adata_temp_test[:,~adata_temp_test.var_names.isin(ambi_genes_remove)]\n",
    "            print('\\nRemoving ambient genes from analysis: ', ambi_genes_remove)\n",
    "            print('\\nKeeping group-specific ambient genes: ', set(ambi_genes).difference(set(ambi_genes_remove)),'\\n')\n",
    "            results['ambient_genes_removed'] = ambi_genes_remove\n",
    "            results['ambient_genes_kept'] = list(set(ambi_genes).difference(set(ambi_genes_remove)))\n",
    "    \n",
    "    results['background_genes'] = list(adata_temp_test.var_names)\n",
    "    \n",
    "    results['n_genes'] = adata_temp_test.shape[1]\n",
    "    results['n_cells'] = adata_temp_test.shape[0]\n",
    "    \n",
    "    # run edgeR\n",
    "    print('\\nRunning DElegate...')\n",
    "    top_table = run_DElegate_findDE(adata_temp_test, \n",
    "                                    layer = layer, \n",
    "                                    group_column=groupby, \n",
    "                                    replicate_column=sample_key, \n",
    "                                    compare=[groupby_categories[0], groupby_categories[1]], \n",
    "                                    method = \"edger\", \n",
    "                                    order_results = True, \n",
    "                                    verbosity = 1, \n",
    "                                    n_core = 64, \n",
    "                                    max_memory = 4)\n",
    "    \n",
    "    if return_results == 'dict':\n",
    "        # convert results\n",
    "        print('\\nConverting results...')\n",
    "        results = DElegate_to_results(top_table, \n",
    "                                   results_dict=results,\n",
    "                                   ident_1=groupby_categories[0],\n",
    "                                   ident_2=groupby_categories[1],\n",
    "                                   ident_1_color=groupby_colors[0],\n",
    "                                   ident_2_color=groupby_colors[1],\n",
    "                                   plot=plot,\n",
    "                                   plot_logfc_limit = 10,\n",
    "                                   log_pvals_adj_limit = 300,\n",
    "                                   z_logfc_cut_off=0.5,\n",
    "                                   z_pval_cut_off=0.25)\n",
    "    \n",
    "    del adata_temp\n",
    "    del adata_temp_test\n",
    "    \n",
    "    gc.collect()\n",
    "    \n",
    "    if return_results == 'dict':\n",
    "        return results\n",
    "    elif return_results == 'top_table':\n",
    "        return top_table\n",
    "    \n",
    "    \n",
    "\n",
    "\n",
    "\n",
    "\n",
    "##################################################################################################################################################################################\n",
    "##################################################################################################################################################################################\n",
    "##################################################################################################################################################################################\n",
    "##################################################################################################################################################################################\n",
    "\n",
    "\n",
    "    \n",
    "    \n",
    "    \n",
    "def DElegate_to_results(results_table, \n",
    "                     results_dict=dict(),\n",
    "                     ident_1=None,\n",
    "                     ident_2=None,\n",
    "                     ident_1_color='#1f77b4',\n",
    "                     ident_2_color='#ff7f0e',\n",
    "                     plot=True,\n",
    "                     plot_logfc_limit = 10,\n",
    "                     log_pvals_adj_limit = 300,\n",
    "                     z_logfc_cut_off=0.5,\n",
    "                     z_pval_cut_off=0.25\n",
    "):\n",
    "    results=results_dict\n",
    "    names=list(results_table['feature'])\n",
    "    logfc=np.array(results_table['log_fc'], dtype='float64')\n",
    "    logexprs=np.array(results_table['ave_expr'], dtype='float64')\n",
    "    pvals_adj=np.array(results_table['padj'], dtype='float64')\n",
    "    log_pvals_adj = -np.log10(pvals_adj)\n",
    "    log_pvals_adj[log_pvals_adj > log_pvals_adj_limit] = log_pvals_adj_limit\n",
    "    logfc_limit = logfc.copy()\n",
    "    logfc_limit[logfc_limit > plot_logfc_limit] = plot_logfc_limit\n",
    "    logfc_limit[logfc_limit < -plot_logfc_limit] = -plot_logfc_limit\n",
    "\n",
    "    table={'names': names, 'logfc': logfc, 'logexprs': logexprs, 'pvals_adj': pvals_adj, 'log_pvals_adj': log_pvals_adj, 'logfc_limit': logfc_limit}\n",
    "    table = pd.DataFrame(data=table)\n",
    "    table = table.sort_values(by=['pvals_adj'], ascending=True)\n",
    "    table = table.sort_values(by=['logfc'], ascending=True)\n",
    "    results[ident_1] = table #.loc[(abs(table['logfc']) >= min_logfc) & (table['pvals_adj'] <= max_pval),:]\n",
    "\n",
    "    table={'names': names, 'logfc': -logfc, 'logexprs': logexprs, 'pvals_adj': pvals_adj, 'log_pvals_adj': log_pvals_adj, 'logfc_limit': -logfc_limit}\n",
    "    table = pd.DataFrame(data=table)\n",
    "    table = table.sort_values(by=['pvals_adj'], ascending=True)\n",
    "    table = table.sort_values(by=['logfc'], ascending=True)\n",
    "    results[ident_2] = table\n",
    "\n",
    "    # find cut offs\n",
    "    # To DO:\n",
    "    # * avoid error when cut-off cannot be found. e.g. all p-val == 1. \n",
    "    # * set pval_cut_off to 0.05 if larger cut off is found  \n",
    "    try:\n",
    "        logfc_cut_off = round(min(abs(results[ident_1]['logfc'])[stats.zscore(abs(results[ident_1]['logfc'])) > z_logfc_cut_off]),1) \n",
    "    except:\n",
    "        logfc_cut_off = 0.5\n",
    "        \n",
    "    try:\n",
    "        pval_cut_off = round(min(results[ident_1]['log_pvals_adj'][stats.zscore(results[ident_1]['log_pvals_adj']) > z_pval_cut_off]),0)\n",
    "    except:\n",
    "        pval_cut_off = -np.log10(0.05)\n",
    "        \n",
    "    if pval_cut_off < -np.log10(0.05):\n",
    "        pval_cut_off = -np.log10(0.05)\n",
    "        \n",
    "    #logfc_cut_off = round(min(abs(results[ident_1]['logfc'])[stats.zscore(abs(results[ident_1]['logfc'])) > z_logfc_cut_off]),1) \n",
    "    #pval_cut_off = round(min(results[ident_1]['log_pvals_adj'][stats.zscore(results[ident_1]['log_pvals_adj']) > z_pval_cut_off]),0)\n",
    "\n",
    "    results['logfc_cut_off'] = logfc_cut_off\n",
    "    results['pval_cut_off'] = pval_cut_off\n",
    "\n",
    "    if plot:\n",
    "\n",
    "        n_diff_logfc = sum(abs(results[ident_1]['logfc']) > logfc_cut_off)\n",
    "        n_up_logfc = sum(results[ident_1]['logfc'] > logfc_cut_off)\n",
    "        n_down_logfc = sum(results[ident_1]['logfc'] < -logfc_cut_off)\n",
    "\n",
    "        with rc_context({'figure.figsize': (8, 2)}):\n",
    "            sb.distplot(results[ident_1]['logfc'], kde=True, bins=100).set_xlabel('$log_2$ Fold Change')\n",
    "            plt.axvline(logfc_cut_off, 0, 1)\n",
    "            plt.axvline(-logfc_cut_off, 0, 1)\n",
    "            plt.annotate('Down-regulated\\n' + str(n_down_logfc), xy=(0.02, 0.92), xycoords='axes fraction', va=\"top\", ha=\"left\")\n",
    "            plt.annotate('Up-regulated\\n' + str(n_up_logfc), xy=(0.98, 0.92), xycoords='axes fraction', va=\"top\", ha=\"right\")\n",
    "            plt.title(label='$log_2$ Fold Change (' + str(n_diff_logfc) + ' genes passing threshold of ' + str(logfc_cut_off) + ')', fontweight='bold')\n",
    "            plt.show()\n",
    "\n",
    "        #############################################################################################################\n",
    "        #############################################################################################################\n",
    "\n",
    "        n_diff_pval = sum(abs(results[ident_1]['log_pvals_adj']) > pval_cut_off)\n",
    "        n_up_pval = sum(results[ident_1]['log_pvals_adj'] > pval_cut_off)\n",
    "        n_down_pval = sum(results[ident_1]['log_pvals_adj'] < -pval_cut_off)\n",
    "\n",
    "        with rc_context({'figure.figsize': (8, 2)}):\n",
    "            sb.distplot(results[ident_1]['log_pvals_adj'], kde=True, bins=100).set_xlabel('$-log_{10}$ Adjusted p-Value')\n",
    "            plt.axvline(pval_cut_off, 0, 1)\n",
    "            plt.title(label='$-log_{10}$ Adjusted p-Value (' + str(n_diff_pval) + ' genes passing threshold of ' + str(pval_cut_off) + ')', fontweight='bold')\n",
    "            plt.show()\n",
    "\n",
    "        #############################################################################################################\n",
    "        #############################################################################################################\n",
    "\n",
    "        min_logfc = logfc_cut_off\n",
    "        max_pval = 10**-pval_cut_off\n",
    "        group_order = (0,1)\n",
    "        y_max_ext_factor=1.13\n",
    "        x_ext_factor=0.3\n",
    "        x_max_ext_factor=1.1\n",
    "        x_min_ext_factor=1.1\n",
    "        fig_size=(7,6)\n",
    "                \n",
    "        results[ident_1].loc[:,'color'] = '#000000'\n",
    "        results[ident_1].loc[(results[ident_1]['logfc'] > 0) & (abs(results[ident_1]['logfc']) >= min_logfc) & (results[ident_1]['pvals_adj'] <= max_pval),'color'] = ident_1_color\n",
    "        results[ident_1].loc[(results[ident_1]['logfc'] < 0) & (abs(results[ident_1]['logfc']) >= min_logfc) & (results[ident_1]['pvals_adj'] <= max_pval),'color'] = ident_2_color\n",
    "\n",
    "        n_diff = sum((abs(results[ident_1]['log_pvals_adj']) > pval_cut_off) & (abs(results[ident_1]['logfc']) > logfc_cut_off))\n",
    "        n_up = sum((abs(results[ident_1]['log_pvals_adj']) > pval_cut_off) & (results[ident_1]['logfc'] > logfc_cut_off))\n",
    "        n_down = sum((abs(results[ident_1]['log_pvals_adj']) > pval_cut_off) & (results[ident_1]['logfc'] < -logfc_cut_off))\n",
    "\n",
    "        fig, ax = plt.subplots(1, figsize=fig_size)\n",
    "\n",
    "\n",
    "        # Make x & y axis longer to make gene name plotting easier\n",
    "        y_max = max(results[ident_1]['log_pvals_adj'])*y_max_ext_factor\n",
    "        x_ext = (max(results[ident_1]['logfc_limit']) - min(results[ident_1]['logfc_limit'])) * x_ext_factor\n",
    "        x_max = max(results[ident_1]['logfc_limit']) + x_ext\n",
    "        x_min = min(results[ident_1]['logfc_limit']) - x_ext\n",
    "\n",
    "        x_max = max(results[ident_1]['logfc_limit']) * x_max_ext_factor\n",
    "        x_min = min(results[ident_1]['logfc_limit']) * x_min_ext_factor\n",
    "\n",
    "        ax.set_ylim((-1,y_max))\n",
    "        ax.set_xlim((x_min,x_max))\n",
    "\n",
    "        # normalize colormap\n",
    "        vcenter = 0\n",
    "        vmin, vmax = results[ident_1]['log_pvals_adj'].min(), results[ident_1]['log_pvals_adj'].max()\n",
    "        #normalize = mcolors.TwoSlopeNorm(vcenter=vcenter, vmin=vmin, vmax=vmax)\n",
    "        normalize = plt.Normalize(vmin, vmax)\n",
    "        colormap = cm.RdBu_r\n",
    "\n",
    "        # Scatter plot\n",
    "        sb.scatterplot(y='log_pvals_adj', x='logfc_limit',\n",
    "                        color='#000000',s=20,\n",
    "                        linewidth=0,\n",
    "                        data=results[ident_1])\n",
    "        sb.scatterplot(y='log_pvals_adj', x='logfc_limit',\n",
    "                        color='#cccccc',s=10,\n",
    "                        linewidth=0,\n",
    "                        data=results[ident_1], ax=ax)\n",
    "        y = results[ident_1].loc[(abs(results[ident_1]['logfc']) >= min_logfc) & (results[ident_1]['pvals_adj'] <= max_pval),'log_pvals_adj']\n",
    "        x = results[ident_1].loc[(abs(results[ident_1]['logfc']) >= min_logfc) & (results[ident_1]['pvals_adj'] <= max_pval),'logfc_limit']\n",
    "        c = results[ident_1].loc[(abs(results[ident_1]['logfc']) >= min_logfc) & (results[ident_1]['pvals_adj'] <= max_pval),'color']\n",
    "        \n",
    "        sb.scatterplot(y=y, x=x, color='#ffffff', s=10, alpha=1,\n",
    "                        norm=normalize,\n",
    "                        cmap=colormap,\n",
    "                        linewidth=0,\n",
    "                        ax=ax)\n",
    "        sb.scatterplot(y=y, x=x, c=c, s=10, alpha=0.5,\n",
    "                        norm=normalize,\n",
    "                        cmap=colormap,\n",
    "                        linewidth=0,\n",
    "                        ax=ax)\n",
    "\n",
    "        # annotation\n",
    "        ax.annotate('Down-regulated\\n' + str(n_down), xy=(0.02, 0.98), xycoords='axes fraction', va=\"top\", ha=\"left\")\n",
    "        ax.annotate('Up-regulated\\n' + str(n_up), xy=(0.98, 0.98), xycoords='axes fraction', va=\"top\", ha=\"right\")\n",
    "        ax.annotate(str(ident_2), xy=(0.02, 0.02), xycoords='axes fraction', va=\"bottom\", ha=\"left\")\n",
    "        ax.annotate(str(ident_1), xy=(0.98, 0.02), xycoords='axes fraction', va=\"bottom\", ha=\"right\")\n",
    "\n",
    "        # Lines\n",
    "        plt.axvline(min_logfc, 0, 1, color='#666666', lw=1).set_linestyle(\"--\")\n",
    "        plt.axvline(-min_logfc, 0, 1, color='#666666', lw=1).set_linestyle(\"--\")\n",
    "        plt.axhline(-np.log10(max_pval), 0, 1, color='#666666', lw=1).set_linestyle(\"--\")\n",
    "\n",
    "\n",
    "        # title & axis labels\n",
    "        title = 'Combined p-value & fold change threshold\\n('  + str(n_diff) + ' genes passing thresholds of ' + str(logfc_cut_off) + ' and ' + str(pval_cut_off) + ')'\n",
    "        ax.set_title(title, fontweight='bold')\n",
    "        ax.set_ylabel('$-log_{10}$ Adjusted p-Value')\n",
    "        ax.set_xlabel('$log_2$ Fold Change')\n",
    "\n",
    "        plt.show()\n",
    "\n",
    "        \n",
    "\n",
    "        #############################################################################################################\n",
    "        #############################################################################################################\n",
    "\n",
    "        min_logfc = logfc_cut_off\n",
    "        max_pval = 10**-pval_cut_off\n",
    "        group_order = (0,1)\n",
    "        y_max_ext_factor=1.13\n",
    "        x_ext_factor=0.3\n",
    "        x_max_ext_factor=1.1\n",
    "        x_min_ext_factor=1.1\n",
    "        fig_size=(7,6)\n",
    "                \n",
    "        results[ident_1].loc[:,'color'] = '#000000'\n",
    "        results[ident_1].loc[(results[ident_1]['logfc'] > 0) & (abs(results[ident_1]['logfc']) >= min_logfc) & (results[ident_1]['pvals_adj'] <= max_pval),'color'] = ident_1_color\n",
    "        results[ident_1].loc[(results[ident_1]['logfc'] < 0) & (abs(results[ident_1]['logfc']) >= min_logfc) & (results[ident_1]['pvals_adj'] <= max_pval),'color'] = ident_2_color\n",
    "\n",
    "        n_diff = sum((abs(results[ident_1]['log_pvals_adj']) > pval_cut_off) & (abs(results[ident_1]['logfc']) > logfc_cut_off))\n",
    "        n_up = sum((abs(results[ident_1]['log_pvals_adj']) > pval_cut_off) & (results[ident_1]['logfc'] > logfc_cut_off))\n",
    "        n_down = sum((abs(results[ident_1]['log_pvals_adj']) > pval_cut_off) & (results[ident_1]['logfc'] < -logfc_cut_off))\n",
    "\n",
    "        fig, ax = plt.subplots(1, figsize=fig_size)\n",
    "\n",
    "\n",
    "        # Make x & y axis longer to make gene name plotting easier\n",
    "        y_max = max(results[ident_1]['log_pvals_adj'])*y_max_ext_factor\n",
    "#         x_ext = (max(results[ident_1]['logexprs']) - min(results[ident_1]['logexprs'])) * x_ext_factor\n",
    "#         x_max = max(results[ident_1]['logexprs']) + x_ext\n",
    "#         x_min = min(results[ident_1]['logexprs']) - x_ext\n",
    "\n",
    "#         x_max = max(results[ident_1]['logexprs']) * x_max_ext_factor\n",
    "#         x_min = min(results[ident_1]['logexprs']) * x_min_ext_factor\n",
    "\n",
    "        ax.set_ylim((-1,y_max))\n",
    "#         ax.set_xlim((x_min,x_max))\n",
    "\n",
    "        # normalize colormap\n",
    "        vcenter = 0\n",
    "        vmin, vmax = results[ident_1]['log_pvals_adj'].min(), results[ident_1]['log_pvals_adj'].max()\n",
    "        #normalize = mcolors.TwoSlopeNorm(vcenter=vcenter, vmin=vmin, vmax=vmax)\n",
    "        normalize = plt.Normalize(vmin, vmax)\n",
    "        colormap = cm.RdBu_r\n",
    "\n",
    "        # Scatter plot\n",
    "        sb.scatterplot(y='log_pvals_adj', x='logexprs',\n",
    "                        color='#000000',s=20,\n",
    "                        linewidth=0,\n",
    "                        data=results[ident_1])\n",
    "        sb.scatterplot(y='log_pvals_adj', x='logexprs',\n",
    "                        color='#cccccc',s=10,\n",
    "                        linewidth=0,\n",
    "                        data=results[ident_1], ax=ax)\n",
    "        y = results[ident_1].loc[(abs(results[ident_1]['logfc']) >= min_logfc) & (results[ident_1]['pvals_adj'] <= max_pval),'log_pvals_adj']\n",
    "        x = results[ident_1].loc[(abs(results[ident_1]['logfc']) >= min_logfc) & (results[ident_1]['pvals_adj'] <= max_pval),'logexprs']\n",
    "        c = results[ident_1].loc[(abs(results[ident_1]['logfc']) >= min_logfc) & (results[ident_1]['pvals_adj'] <= max_pval),'color']\n",
    "        \n",
    "        sb.scatterplot(y=y, x=x, color='#ffffff', s=10, alpha=1,\n",
    "                        norm=normalize,\n",
    "                        cmap=colormap,\n",
    "                        linewidth=0,\n",
    "                        ax=ax)\n",
    "        sb.scatterplot(y=y, x=x, c=c, s=10, alpha=0.5,\n",
    "                        norm=normalize,\n",
    "                        cmap=colormap,\n",
    "                        linewidth=0,\n",
    "                        ax=ax)\n",
    "\n",
    "        # annotation\n",
    "        #ax.annotate('Down-regulated\\n' + str(n_down), xy=(0.02, 0.98), xycoords='axes fraction', va=\"top\", ha=\"left\")\n",
    "        ax.annotate('Up-regulated\\n' + str(n_up) + '\\nDown-regulated\\n' + str(n_down), xy=(0.98, 0.98), xycoords='axes fraction', va=\"top\", ha=\"right\")\n",
    "        #ax.annotate(str(ident_2), xy=(0.02, 0.02), xycoords='axes fraction', va=\"bottom\", ha=\"left\")\n",
    "        #ax.annotate(str(ident_1), xy=(0.98, 0.02), xycoords='axes fraction', va=\"bottom\", ha=\"right\")\n",
    "\n",
    "        # Lines\n",
    "        #plt.axvline(min_logfc, 0, 1, color='#666666', lw=1).set_linestyle(\"--\")\n",
    "        #plt.axvline(-min_logfc, 0, 1, color='#666666', lw=1).set_linestyle(\"--\")\n",
    "        plt.axhline(-np.log10(max_pval), 0, 1, color='#666666', lw=1).set_linestyle(\"--\")\n",
    "\n",
    "\n",
    "        # title & axis labels\n",
    "        title = 'Combined p-value & fold change threshold\\n('  + str(n_diff) + ' genes passing thresholds of ' + str(logfc_cut_off) + ' and ' + str(pval_cut_off) + ')'\n",
    "        ax.set_title(title, fontweight='bold')\n",
    "        ax.set_ylabel('$-log_{10}$ Adjusted p-Value')\n",
    "        ax.set_xlabel('$log_2$ Expression')\n",
    "\n",
    "        plt.show()\n",
    "        \n",
    "\n",
    "        #############################################################################################################\n",
    "        #############################################################################################################\n",
    "\n",
    "        min_logfc = logfc_cut_off\n",
    "        max_pval = 10**-pval_cut_off\n",
    "        group_order = (0,1)\n",
    "        x_max_ext_factor=1.13\n",
    "        y_ext_factor=0.3\n",
    "        y_max_ext_factor=1.1\n",
    "        y_min_ext_factor=1.1\n",
    "        fig_size=(7,6)\n",
    "                \n",
    "        results[ident_1].loc[:,'color'] = '#000000'\n",
    "        results[ident_1].loc[(results[ident_1]['logfc'] > 0) & (abs(results[ident_1]['logfc']) >= min_logfc) & (results[ident_1]['pvals_adj'] <= max_pval),'color'] = ident_1_color\n",
    "        results[ident_1].loc[(results[ident_1]['logfc'] < 0) & (abs(results[ident_1]['logfc']) >= min_logfc) & (results[ident_1]['pvals_adj'] <= max_pval),'color'] = ident_2_color\n",
    "\n",
    "        n_diff = sum((abs(results[ident_1]['log_pvals_adj']) > pval_cut_off) & (abs(results[ident_1]['logfc']) > logfc_cut_off))\n",
    "        n_up = sum((abs(results[ident_1]['log_pvals_adj']) > pval_cut_off) & (results[ident_1]['logfc'] > logfc_cut_off))\n",
    "        n_down = sum((abs(results[ident_1]['log_pvals_adj']) > pval_cut_off) & (results[ident_1]['logfc'] < -logfc_cut_off))\n",
    "\n",
    "        fig, ax = plt.subplots(1, figsize=fig_size)\n",
    "\n",
    "\n",
    "        # Make x & y axis longer to make gene name plotting easier\n",
    "        x_max = max(results[ident_1]['logexprs'])*x_max_ext_factor\n",
    "        y_ext = (max(results[ident_1]['logfc_limit']) - min(results[ident_1]['logfc_limit'])) * y_ext_factor\n",
    "        y_max = max(results[ident_1]['logfc_limit']) + y_ext\n",
    "        y_min = min(results[ident_1]['logfc_limit']) - y_ext\n",
    "\n",
    "        y_max = max(results[ident_1]['logfc_limit']) * y_max_ext_factor\n",
    "        y_min = min(results[ident_1]['logfc_limit']) * y_min_ext_factor\n",
    "\n",
    "#         ax.set_xlim((-1,x_max))\n",
    "        ax.set_ylim((y_min,y_max))\n",
    "\n",
    "        # normalize colormap\n",
    "        vcenter = 0\n",
    "        vmin, vmax = results[ident_1]['logfc_limit'].min(), results[ident_1]['logfc_limit'].max()\n",
    "        #normalize = mcolors.TwoSlopeNorm(vcenter=vcenter, vmin=vmin, vmax=vmax)\n",
    "        normalize = plt.Normalize(vmin, vmax)\n",
    "        colormap = cm.RdBu_r\n",
    "\n",
    "        # Scatter plot\n",
    "        sb.scatterplot(y='logfc_limit', x='logexprs',\n",
    "                        color='#000000',s=20,\n",
    "                        linewidth=0,\n",
    "                        data=results[ident_1])\n",
    "        sb.scatterplot(y='logfc_limit', x='logexprs',\n",
    "                        color='#cccccc',s=10,\n",
    "                        linewidth=0,\n",
    "                        data=results[ident_1], ax=ax)\n",
    "        y = results[ident_1].loc[(abs(results[ident_1]['logfc']) >= min_logfc) & (results[ident_1]['pvals_adj'] <= max_pval),'logfc_limit']\n",
    "        x = results[ident_1].loc[(abs(results[ident_1]['logfc']) >= min_logfc) & (results[ident_1]['pvals_adj'] <= max_pval),'logexprs']\n",
    "        c = results[ident_1].loc[(abs(results[ident_1]['logfc']) >= min_logfc) & (results[ident_1]['pvals_adj'] <= max_pval),'color']\n",
    "        \n",
    "        sb.scatterplot(y=y, x=x, color='#ffffff', s=10, alpha=1,\n",
    "                        norm=normalize,\n",
    "                        cmap=colormap,\n",
    "                        linewidth=0,\n",
    "                        ax=ax)\n",
    "        sb.scatterplot(y=y, x=x, c=c, s=10, alpha=0.5,\n",
    "                        norm=normalize,\n",
    "                        cmap=colormap,\n",
    "                        linewidth=0,\n",
    "                        ax=ax)\n",
    "\n",
    "        # annotation\n",
    "        ax.annotate(str(ident_1), xy=(0.02, 0.98), xycoords='axes fraction', va=\"top\", ha=\"left\")\n",
    "        ax.annotate('Up-regulated\\n' + str(n_up), xy=(0.98, 0.98), xycoords='axes fraction', va=\"top\", ha=\"right\")\n",
    "        ax.annotate(str(ident_2), xy=(0.02, 0.02), xycoords='axes fraction', va=\"bottom\", ha=\"left\")\n",
    "        ax.annotate('Down-regulated\\n' + str(n_down), xy=(0.98, 0.02), xycoords='axes fraction', va=\"bottom\", ha=\"right\")\n",
    "\n",
    "        # Lines\n",
    "        plt.axhline(min_logfc, 0, 1, color='#666666', lw=1).set_linestyle(\"--\")\n",
    "        plt.axhline(-min_logfc, 0, 1, color='#666666', lw=1).set_linestyle(\"--\")\n",
    "        #plt.axhline(-np.log10(max_pval), 0, 1, color='#666666', lw=1).set_linestyle(\"--\")\n",
    "\n",
    "\n",
    "        # title & axis labels\n",
    "        title = 'Combined p-value & fold change threshold\\n('  + str(n_diff) + ' genes passing thresholds of ' + str(logfc_cut_off) + ' and ' + str(pval_cut_off) + ')'\n",
    "        ax.set_title(title, fontweight='bold')\n",
    "        ax.set_ylabel('$log_2$ Fold Change')\n",
    "        ax.set_xlabel('$log_2$ Expression')\n",
    "\n",
    "        plt.show()\n",
    "        \n",
    "    return results\n",
    "    \n",
    "\n",
    "\n",
    "\n",
    "\n",
    "##################################################################################################################################################################################\n",
    "##################################################################################################################################################################################\n",
    "##################################################################################################################################################################################\n",
    "##################################################################################################################################################################################\n",
    "\n",
    "\n",
    "def dot_plot_DElegate(\n",
    "    adata,\n",
    "    results_dict = None,\n",
    "    keys = None,\n",
    "    layer = 'sct_logcounts',\n",
    "    cmap='RdBu_r'\n",
    "):\n",
    "    results = results_dict[results_dict['groupby_categories'][0]]\n",
    "\n",
    "    # copy adata\n",
    "    adata_temp = adata.copy()\n",
    "\n",
    "    # set selected layer to .X\n",
    "    if layer is not None:\n",
    "        adata_temp.X = adata_temp.layers[layer].copy()\n",
    "\n",
    "    # subset adata to group provided in restrict_to\n",
    "    restrict_to = results_dict['restrict_to']\n",
    "    groups_restrict = results_dict['groups_restrict']\n",
    "\n",
    "    if restrict_to == None:\n",
    "        adata_temp_test = adata_temp.copy()\n",
    "    else:\n",
    "        adata_temp_test = adata_temp[adata_temp.obs[groups_restrict].isin([restrict_to])].copy()\n",
    "\n",
    "    # filter genes expressed in few cells\n",
    "    adata_temp_test = adata_temp_test[:,results['names']]\n",
    "\n",
    "    # filter keys\n",
    "    de_genes = results['names'][(abs(results['logfc']) >= results_dict['logfc_cut_off']) & (results['log_pvals_adj'] >= results_dict['pval_cut_off'])]\n",
    "    keys = [key for key in keys if key in list(de_genes)]\n",
    "\n",
    "    # plot data\n",
    "    ## var group pos\n",
    "    if len(keys) > 0:\n",
    "            var_group_positions=[(0,results[(results.names.isin(keys)) & (results['logfc'] < 0)].shape[0]-1),(results[(results.names.isin(keys)) & (results['logfc'] < 0)].shape[0],results[(results.names.isin(keys))].shape[0]-1)]\n",
    "    \n",
    "    ## colors\n",
    "    index = pd.Index(results_dict['groupby_categories'], name='groupby')\n",
    "    color_df = pd.DataFrame([results['logfc'],\n",
    "                             -results['logfc']],\n",
    "                           index=index).T\n",
    "    color_df.index = results['names']\n",
    "    color_df = color_df.T\n",
    "    color_df = color_df.loc[:,keys]\n",
    "    limit = abs(color_df).max().max()\n",
    "    \n",
    "    ## plot\n",
    "    sc.pl.DotPlot(adata_temp_test, \n",
    "                  var_names=keys, \n",
    "                  groupby=results_dict['groupby'], \n",
    "                  dot_color_df=color_df, \n",
    "                  var_group_positions=var_group_positions, \n",
    "                  var_group_labels=results_dict['groupby_categories'][::-1],\n",
    "                  vmin=-limit, \n",
    "                  vmax=limit, \n",
    "                  cmap=cmap).style(color_on='square', \n",
    "                                   dot_edge_lw=1, \n",
    "                                   grid=True, \n",
    "                                   dot_edge_color=None).legend(colorbar_title='log$_2$ Fold Change').show()\n",
    "\n",
    "    del adata_temp_test\n",
    "    del results\n",
    "    gc.collect()\n",
    "\n",
    "\n",
    "##################################################################################################################################################################################\n",
    "##################################################################################################################################################################################\n",
    "##################################################################################################################################################################################\n",
    "##################################################################################################################################################################################\n",
    "\n",
    "\n",
    "def run_DElegate_findDE(adata, \n",
    "                        layer = None, \n",
    "                        group_column = None, \n",
    "                        replicate_column = None, \n",
    "                        compare = \"each_vs_rest\", \n",
    "                        method = \"edger\", \n",
    "                        order_results = True, \n",
    "                        verbosity = 1, \n",
    "                        n_core = 64, \n",
    "                        max_memory = 4):\n",
    "    '''\n",
    "    adata: adata object to normalize\n",
    "    layer: layer to use for normalization. Default = None -> use .X\n",
    "    \n",
    "    There are multiple ways the group comparisons can be specified based on the compare parameter. \n",
    "    The default, 'each_vs_rest', does multiple comparisons, one per group vs all remaining cells. \n",
    "    'all_vs_all', also does multiple comparisons, covering all group pairs. \n",
    "    If compare is set to a length two character vector, e.g. c('T-cells', 'B-cells'), one comparison between those two groups is done. \n",
    "    To put multiple groups on either side of a single comparison, use a list of length two. E.g. compare = list(c('cluster1', 'cluster5'), c('cluster3')).\n",
    "    '''\n",
    "    \n",
    "    import rpy2\n",
    "    import rpy2.robjects as ro\n",
    "    import gc\n",
    "\n",
    "       \n",
    "    print('DE analysis with DElegate:')\n",
    "    # load packages\n",
    "    ro.globalenv['n_core'] = n_core\n",
    "    ro.globalenv['max_memory'] = max_memory\n",
    "    ro.r('''\n",
    "    # Packages\n",
    "    library(DElegate)\n",
    "    library(Seurat)\n",
    "\n",
    "    # Parallelization\n",
    "    library(BiocParallel)\n",
    "    register(MulticoreParam(n_core, progressbar = TRUE))\n",
    "\n",
    "    library(future)\n",
    "    plan(\"multicore\", workers = n_core)\n",
    "    options(future.globals.maxSize = max_memory * 1024^3)\n",
    "    plan()\n",
    "    ''')\n",
    "    \n",
    "    # transfer data & parameters\n",
    "    if group_column is not None:\n",
    "        ro.globalenv['group_column'] = group_column\n",
    "    if replicate_column is not None:\n",
    "        ro.globalenv['replicate_column'] = replicate_column\n",
    "    ro.globalenv['compare'] = compare\n",
    "    if type(compare) is list:\n",
    "        ro.r('''\n",
    "        compare <- unlist(compare)\n",
    "        ''')\n",
    "    \n",
    "    ro.globalenv['method'] = method\n",
    "    ro.globalenv['order_results'] = order_results\n",
    "    ro.globalenv['verbosity'] = verbosity\n",
    "    \n",
    "    print('\\tTransfer data...')\n",
    "    if layer is None:\n",
    "        print('\\tUsing adata.X for differntial expression analysis...')\n",
    "        ro.globalenv['counts'] = adata.X.T#.toarray()\n",
    "        ro.globalenv['meta_data'] = adata.obs\n",
    "        ro.globalenv['obs_names'] = adata.obs_names\n",
    "        ro.globalenv['var_names'] = adata.var_names\n",
    "    else:\n",
    "        print('\\tUsing layer \\'', layer,'\\' for differntial expression analysis...')\n",
    "        ro.globalenv['counts'] = adata.layers[layer].T#.toarray()\n",
    "        ro.globalenv['meta_data'] = adata.obs\n",
    "        ro.globalenv['obs_names'] = adata.obs_names\n",
    "        ro.globalenv['var_names'] = adata.var_names\n",
    "        \n",
    "    # generate seurat object\n",
    "    ro.r('''\n",
    "    rownames(counts) <- var_names\n",
    "    colnames(counts) <- obs_names\n",
    "    seurat <- CreateSeuratObject(counts = counts, meta.data = meta_data)\n",
    "    ''')\n",
    "    \n",
    "    # run DElegate\n",
    "    print('\\tPerform differential gene expression analysis with method:', method,'...')\n",
    "    \n",
    "    # replace characters\n",
    "    if group_column is not None:\n",
    "        print('\\tFixing characters in group_column:', group_column,'...')\n",
    "        ro.r('''\n",
    "        seurat@meta.data[group_column] <- gsub(\"[ -]\", \"_\", get(group_column, seurat@meta.data))\n",
    "        ''')\n",
    "        \n",
    "    if replicate_column is not None:\n",
    "        print('\\tFixing characters in replicate_column:', replicate_column,'...')\n",
    "        ro.r('''\n",
    "        seurat@meta.data[replicate_column] <- gsub(\"[ -]\", \"_\", get(replicate_column, seurat@meta.data))\n",
    "        ''')\n",
    "    # run\n",
    "    print('\\tRunning', method,'...')\n",
    "    ro.r('''\n",
    "    de_res <- findDE(seurat,\n",
    "                     meta_data = NULL,\n",
    "                     group_column = group_column,\n",
    "                     replicate_column = NULL,\n",
    "                     compare = compare,\n",
    "                     method = method,\n",
    "                     order_results = order_results,\n",
    "                     verbosity = verbosity)\n",
    "    ''')\n",
    "    \n",
    "    # convert results\n",
    "#     print('\\tConverting results...')\n",
    "#     ro.r('''\n",
    "#     de_res <- as.data.frame(de_res)\n",
    "#     ''')\n",
    "    \n",
    "    # transfer data\n",
    "    print('\\tTransfer data...')\n",
    "    \n",
    "    # convert results\n",
    "    print('\\tConvert results...')\n",
    "    results = ro.globalenv['de_res']\n",
    "    \n",
    "    with (ro.default_converter + pandas2ri.converter).context():\n",
    "        results = ro.conversion.get_conversion().rpy2py(results)\n",
    "    \n",
    "    #results.loc[:,'log10_padj'] = -np.log10(results.loc[:,'padj'])\n",
    "    \n",
    "    # delete\n",
    "    print('\\tClean up...')\n",
    "    ro.r('''\n",
    "    rm(list = ls())\n",
    "    gc()\n",
    "    ''')\n",
    "\n",
    "    gc.collect()\n",
    "    \n",
    "    print('Done.')\n",
    "    return results\n",
    "\n",
    "def vulcano_plot_edger(results_dict=None, genes=[], annotate_top=True, n_top=10, title=None, min_logfc = 0.5, max_pval = 10**-2, group_order = (0,1), y_max_ext_factor=1.2, x_ext_factor=0.3, x_max_ext_factor=1.2, x_min_ext_factor=1.2, fig_size=(7,6), save=None):\n",
    "    results = results_dict[results_dict['groupby_categories'][group_order[0]]]\n",
    "    #ident_1 = results_dict['groupby_categories'][group_order[0]]\n",
    "    #ident_2 = results_dict['groupby_categories'][group_order[1]]\n",
    "    \n",
    "    #n_up = sum((abs(results['pvals_adj']) > max_pval) & (results['logfc'] > min_logfc))\n",
    "    #n_down = sum((abs(results['pvals_adj']) > max_pval) & (results['logfc'] < -min_logfc))\n",
    "    n_up = sum((abs(results['pvals_adj']) < max_pval) & (results['logfc'] > min_logfc))\n",
    "    n_down = sum((abs(results['pvals_adj']) < max_pval) & (results['logfc'] < -min_logfc))\n",
    "\n",
    "    genes = genes + [gene for gene in results['names'] if not gene.startswith('ENSSSC')][0:n_top] + [gene for gene in results.sort_values(by=['log_pvals_adj'], ascending=False)['names'] if not gene.startswith('ENSSSC')][0:n_top]\n",
    "    genes = genes + [gene for gene in results['names'][::-1] if not gene.startswith('ENSSSC')][0:n_top] + [gene for gene in results.loc[results['logfc']>0,:].sort_values(by=['log_pvals_adj'], ascending=False)['names'] if not gene.startswith('ENSSSC')][0:n_top]\n",
    "    genes = list(set(genes))\n",
    "\n",
    "    genes_up = [gene for gene in genes if gene in list(results.loc[(results['logfc'] > 0) & (abs(results['logfc']) >= min_logfc) & (results['pvals_adj'] <= max_pval),'names'])]\n",
    "\n",
    "    genes_down = [gene for gene in genes if gene in list(results.loc[(results['logfc'] < 0) & (abs(results['logfc']) >= min_logfc) & (results['pvals_adj'] <= max_pval),'names'])]\n",
    "\n",
    "    gene_2_plot = genes_up + genes_down\n",
    "\n",
    "    results['log_pvals_adj'][results['log_pvals_adj'] > 300] = 300\n",
    "\n",
    "    fig, ax = plt.subplots(1, figsize=fig_size)\n",
    "\n",
    "\n",
    "    # Make x & y axis longer to make gene name plotting easier\n",
    "    y_max = max(results['log_pvals_adj'])*y_max_ext_factor\n",
    "    x_ext = (max(results['logfc_limit']) - min(results['logfc_limit'])) * x_ext_factor\n",
    "    x_max = max(results['logfc_limit']) + x_ext\n",
    "    x_min = min(results['logfc_limit']) - x_ext\n",
    "\n",
    "    x_max = max(results['logfc_limit']) * x_max_ext_factor\n",
    "    x_min = min(results['logfc_limit']) * x_min_ext_factor\n",
    "\n",
    "    ax.set_ylim((-1,y_max))\n",
    "    ax.set_xlim((x_min,x_max))\n",
    "\n",
    "#     # normalize colormap\n",
    "#     vcenter = 0\n",
    "#     vmin, vmax = results['scores'].min(), results['scores'].max()\n",
    "#     normalize = mcolors.TwoSlopeNorm(vcenter=vcenter, vmin=vmin, vmax=vmax)\n",
    "#     colormap = cm.RdBu_r\n",
    "\n",
    "    # Scatter plot\n",
    "    sb.scatterplot(y='log_pvals_adj', x='logfc_limit',\n",
    "                    color='#000000',s=20,\n",
    "                    linewidth=0,\n",
    "                    data=results)\n",
    "    sb.scatterplot(y='log_pvals_adj', x='logfc_limit',\n",
    "                    color='#cccccc',s=10,\n",
    "                    linewidth=0,\n",
    "                    data=results, ax=ax)\n",
    "    y = results.loc[(abs(results['logfc']) >= min_logfc) & (results['pvals_adj'] <= max_pval),'log_pvals_adj']\n",
    "    x = results.loc[(abs(results['logfc']) >= min_logfc) & (results['pvals_adj'] <= max_pval),'logfc_limit']\n",
    "    c = results.loc[(abs(results['logfc']) >= min_logfc) & (results['pvals_adj'] <= max_pval),'color']\n",
    "\n",
    "    sb.scatterplot(y=y, x=x, color='#ffffff', s=10, alpha=1,\n",
    "                    #norm=normalize,\n",
    "                    #cmap=colormap,\n",
    "                    linewidth=0,\n",
    "                    ax=ax)\n",
    "    sb.scatterplot(y=y, x=x, c=c, s=10, alpha=0.5,\n",
    "                    #norm=normalize,\n",
    "                    #cmap=colormap,\n",
    "                    linewidth=0,\n",
    "                    ax=ax)\n",
    "\n",
    "    # annotation\n",
    "    an1 = ax.annotate(results_dict['groupby_categories'][group_order[1]] + '\\n' + str(n_down) + ' genes', xy=(0.02, 0.98), xycoords='axes fraction',\n",
    "                      va=\"top\", ha=\"left\")\n",
    "    an2 = ax.annotate(results_dict['groupby_categories'][group_order[0]] + '\\n' + str(n_up) + ' genes', xy=(0.98, 0.98), xycoords='axes fraction',  # (1, 0.5) of the an1's bbox\n",
    "                      va=\"top\", ha=\"right\")\n",
    "\n",
    "    # Lines\n",
    "    plt.axvline(min_logfc, 0, 1, color='#666666', lw=1).set_linestyle(\"--\")\n",
    "    plt.axvline(-min_logfc, 0, 1, color='#666666', lw=1).set_linestyle(\"--\")\n",
    "    plt.axhline(-np.log10(max_pval), 0, 1, color='#666666', lw=1).set_linestyle(\"--\")\n",
    "\n",
    "    # Labels\n",
    "    x_lim=ax.get_xlim()\n",
    "    for gene_set,direction,ha in [(genes_down,-1,'right'),(genes_up,1,'left')]:\n",
    "        labels = []\n",
    "        for gene in gene_set:\n",
    "            if gene.startswith('ENSSSC'):\n",
    "                continue\n",
    "            x=float(results.loc[results['names']==gene,'logfc_limit'])\n",
    "            y=float(results.loc[results['names']==gene,'log_pvals_adj'])\n",
    "            labels.append(plt.text(x, y, gene, color='#000000', fontsize=8))\n",
    "        ax.set_xlim(sorted([x_lim[::direction][1],0.5*direction]))\n",
    "        adjust_text(labels, expand_points=(1.5,1.5), expand_text=(2,2), expand_objects=(2,2), force_text=(0.75, 0.5), force_points=(0.75, 1), force_objects=(1, 0.5), ha=ha, precision=0.00001, lim=5000, autoalign='y', arrowprops=dict(arrowstyle=\"-\",  color='k',  lw=0.5), ax=ax)\n",
    "    ax.set_xlim(x_lim)\n",
    "\n",
    "    # title & axis labels\n",
    "    if title == None:\n",
    "        title = 'Differential Gene Expression in ' + results_dict['restrict_to'] + ' Cells\\n' + results_dict['groupby_categories'][group_order[0]] + ' vs ' + results_dict['groupby_categories'][group_order[1]]\n",
    "    ax.set_title(title)\n",
    "    ax.set_ylabel('$-log_{10}$ Adjusted p-Value')\n",
    "    ax.set_xlabel('$log_2$ Fold Change')\n",
    "\n",
    "    if save is not None:\n",
    "        plt.savefig(save)\n",
    "\n",
    "\n",
    "\n",
    "\n",
    "##################################################################################################################################################################################\n",
    "##################################################################################################################################################################################\n",
    "##################################################################################################################################################################################\n",
    "##################################################################################################################################################################################\n",
    "\n",
    "\n",
    "\n",
    "def run_DElegate_findMarkers(adata, \n",
    "                        layer = None, \n",
    "                        group_column = None, \n",
    "                        replicate_column = None, \n",
    "                        method = \"edger\", \n",
    "                        min_rate = 0.05,\n",
    "                        min_fc = 1,\n",
    "                        verbosity = 1, \n",
    "                        n_core = 64, \n",
    "                        max_memory = 4):\n",
    "    '''\n",
    "    adata: adata object to normalize\n",
    "    layer: layer to use for normalization. Default = None -> use .X\n",
    "    \n",
    "    There are multiple ways the group comparisons can be specified based on the compare parameter. \n",
    "    The default, 'each_vs_rest', does multiple comparisons, one per group vs all remaining cells. \n",
    "    'all_vs_all', also does multiple comparisons, covering all group pairs. \n",
    "    If compare is set to a length two character vector, e.g. c('T-cells', 'B-cells'), one comparison between those two groups is done. \n",
    "    To put multiple groups on either side of a single comparison, use a list of length two. E.g. compare = list(c('cluster1', 'cluster5'), c('cluster3')).\n",
    "    '''\n",
    "    \n",
    "    import rpy2\n",
    "    import rpy2.robjects as ro\n",
    "    import gc\n",
    "\n",
    "       \n",
    "    print('DE analysis with DElegate:')\n",
    "    # load packages\n",
    "    ro.globalenv['n_core'] = n_core\n",
    "    ro.globalenv['max_memory'] = max_memory\n",
    "    ro.r('''\n",
    "    # Packages\n",
    "    library(DElegate)\n",
    "    library(Seurat)\n",
    "\n",
    "    # Parallelization\n",
    "    library(BiocParallel)\n",
    "    register(MulticoreParam(n_core, progressbar = TRUE))\n",
    "\n",
    "    library(future)\n",
    "    plan(\"multicore\", workers = n_core)\n",
    "    options(future.globals.maxSize = max_memory * 1024^3)\n",
    "    plan()\n",
    "    ''')\n",
    "    \n",
    "    # transfer data & parameters\n",
    "    if group_column is not None:\n",
    "        ro.globalenv['group_column'] = group_column\n",
    "    if replicate_column is not None:\n",
    "        ro.globalenv['replicate_column'] = replicate_column\n",
    "    \n",
    "    ro.globalenv['method'] = method\n",
    "    ro.globalenv['min_rate'] = min_rate\n",
    "    ro.globalenv['min_fc'] = min_fc\n",
    "    ro.globalenv['verbosity'] = verbosity\n",
    "    \n",
    "    print('\\tTransfer data...')\n",
    "    if layer is None:\n",
    "        print('\\tUsing adata.X for differntial expression analysis...')\n",
    "        ro.globalenv['counts'] = adata.X.T#.toarray()\n",
    "        ro.globalenv['meta_data'] = adata.obs\n",
    "        ro.globalenv['obs_names'] = adata.obs_names\n",
    "        ro.globalenv['var_names'] = adata.var_names\n",
    "    else:\n",
    "        print('\\tUsing layer \\'', layer,'\\' for differntial expression analysis...')\n",
    "        ro.globalenv['counts'] = adata.layers[layer].T#.toarray()\n",
    "        ro.globalenv['meta_data'] = adata.obs\n",
    "        ro.globalenv['obs_names'] = adata.obs_names\n",
    "        ro.globalenv['var_names'] = adata.var_names\n",
    "        \n",
    "    # generate seurat object\n",
    "    ro.r('''\n",
    "    rownames(counts) <- var_names\n",
    "    colnames(counts) <- obs_names\n",
    "    seurat <- CreateSeuratObject(counts = counts, meta.data = meta_data)\n",
    "    ''')\n",
    "    \n",
    "    # run DElegate\n",
    "    print('\\tPerform differential gene expression analysis with method:', method,'...')\n",
    "    \n",
    "    # replace characters\n",
    "    if group_column is not None:\n",
    "        print('\\tFixing characters in group_column:', group_column,'...')\n",
    "        ro.r('''\n",
    "        seurat@meta.data[group_column] <- gsub(\"[ -]\", \"_\", get(group_column, seurat@meta.data))\n",
    "        ''')\n",
    "        \n",
    "    if replicate_column is not None:\n",
    "        print('\\tFixing characters in replicate_column:', replicate_column,'...')\n",
    "        ro.r('''\n",
    "        seurat@meta.data[replicate_column] <- gsub(\"[ -]\", \"_\", get(replicate_column, seurat@meta.data))\n",
    "        ''')\n",
    "    # run\n",
    "    print('\\tRunning', method,'...')\n",
    "    ro.r('''\n",
    "    de_res <- FindAllMarkers2(seurat,\n",
    "                     meta_data = NULL,\n",
    "                     group_column = group_column,\n",
    "                     replicate_column = NULL,\n",
    "                     method = method,\n",
    "                     min_rate = min_rate,\n",
    "                     min_fc = min_fc,\n",
    "                     verbosity = verbosity)\n",
    "    ''')\n",
    "    \n",
    "    # convert results\n",
    "#     print('\\tConverting results...')\n",
    "#     ro.r('''\n",
    "#     de_res <- as.data.frame(de_res)\n",
    "#     ''')\n",
    "    \n",
    "    # transfer data\n",
    "    print('\\tTransfer data...')\n",
    "    \n",
    "    # convert results\n",
    "    print('\\tConvert results...')\n",
    "    results = ro.globalenv['de_res']\n",
    "    \n",
    "    with (ro.default_converter + pandas2ri.converter).context():\n",
    "        results = ro.conversion.get_conversion().rpy2py(results)\n",
    "    \n",
    "    #results.loc[:,'log10_padj'] = -np.log10(results.loc[:,'padj'])\n",
    "    \n",
    "    # delete\n",
    "    print('\\tClean up...')\n",
    "    ro.r('''\n",
    "    rm(list = ls())\n",
    "    gc()\n",
    "    ''')\n",
    "\n",
    "    gc.collect()\n",
    "    \n",
    "    print('Done.')\n",
    "    return results\n"
   ]
  },
  {
   "cell_type": "markdown",
   "metadata": {},
   "source": [
    "# Read AnnData"
   ]
  },
  {
   "cell_type": "code",
   "execution_count": null,
   "metadata": {},
   "outputs": [],
   "source": [
    "adata = sc.read_h5ad('/mnt/hdd/data/Healthy/adata_imputed.h5ad')"
   ]
  },
  {
   "cell_type": "raw",
   "metadata": {
    "vscode": {
     "languageId": "raw"
    }
   },
   "source": [
    "adata_all = sc.read_h5ad('/mnt/hdd/data/Healthy/adata_markedDoublets_normalized_initialAnno_rmDoublets_integrated_all.h5ad')"
   ]
  },
  {
   "cell_type": "code",
   "execution_count": null,
   "metadata": {},
   "outputs": [],
   "source": [
    "# Open the HDF5 file\n",
    "from anndata._io.specs import read_elem\n",
    "with h5py.File('/mnt/hdd/data/Healthy/adata_markedDoublets_normalized_initialAnno_rmDoublets_integrated_all_imputed.h5ad', 'r') as f:\n",
    "    # Read specific columns from `obs`\n",
    "    #sample_column = f['obs/sample'][:]\n",
    "    #n_counts_column = f['obs/n_counts'][:]\n",
    "    #https://github.com/scverse/anndata/issues/436:\n",
    "    #cell_types = read_elem(f[\"obs/celltype\"])\n",
    "    #umap = read_elem(f[\"obsm/X_umap\"])\n",
    "    raw_counts = read_elem(f[\"layers/raw_counts\"])\n",
    "    "
   ]
  },
  {
   "cell_type": "raw",
   "metadata": {
    "vscode": {
     "languageId": "raw"
    }
   },
   "source": [
    "barcodes_imputed = [name for name in adata.obs_names]"
   ]
  },
  {
   "cell_type": "raw",
   "metadata": {
    "vscode": {
     "languageId": "raw"
    }
   },
   "source": [
    "barcodes_imputed"
   ]
  },
  {
   "cell_type": "raw",
   "metadata": {
    "vscode": {
     "languageId": "raw"
    }
   },
   "source": [
    "adata_all = adata_all[barcodes_imputed]"
   ]
  },
  {
   "cell_type": "code",
   "execution_count": null,
   "metadata": {},
   "outputs": [],
   "source": [
    "adata.obs['initial_cell_type'] = adata.obs['initial_cell_type'].replace('Doublets', 'NA')"
   ]
  },
  {
   "cell_type": "raw",
   "metadata": {
    "vscode": {
     "languageId": "raw"
    }
   },
   "source": [
    "sc.pp.filter_genes(adata_all, min_counts=1)"
   ]
  },
  {
   "cell_type": "raw",
   "metadata": {
    "vscode": {
     "languageId": "raw"
    }
   },
   "source": [
    "adata_all.layers['dca_counts']=adata.layers['dca_counts'].copy()\n",
    "adata_all.layers['log_dca_counts']=adata.layers['log_dca_counts'].copy()"
   ]
  },
  {
   "cell_type": "raw",
   "metadata": {
    "vscode": {
     "languageId": "raw"
    }
   },
   "source": [
    "adata_all"
   ]
  },
  {
   "cell_type": "code",
   "execution_count": null,
   "metadata": {},
   "outputs": [],
   "source": [
    "adata"
   ]
  },
  {
   "cell_type": "code",
   "execution_count": null,
   "metadata": {},
   "outputs": [],
   "source": [
    "adata.layers['raw_counts']=raw_counts"
   ]
  },
  {
   "cell_type": "raw",
   "metadata": {
    "vscode": {
     "languageId": "raw"
    }
   },
   "source": [
    "adata_all.write('/mnt/hdd/data/Healthy/adata_markedDoublets_normalized_initialAnno_rmDoublets_integrated_all_imputed.h5ad')"
   ]
  },
  {
   "cell_type": "raw",
   "metadata": {
    "vscode": {
     "languageId": "raw"
    }
   },
   "source": [
    "del adata_all\n",
    "gc.collect()"
   ]
  },
  {
   "cell_type": "code",
   "execution_count": null,
   "metadata": {},
   "outputs": [],
   "source": [
    "del raw_counts\n",
    "gc.collect()"
   ]
  },
  {
   "cell_type": "code",
   "execution_count": null,
   "metadata": {},
   "outputs": [],
   "source": [
    "adata.X = adata.layers['log_dca_counts']"
   ]
  },
  {
   "cell_type": "markdown",
   "metadata": {},
   "source": [
    "# Embedding"
   ]
  },
  {
   "cell_type": "code",
   "execution_count": null,
   "metadata": {
    "ExecuteTime": {
     "end_time": "2023-12-05T10:47:30.019454Z",
     "start_time": "2023-12-05T10:46:28.428996Z"
    }
   },
   "outputs": [],
   "source": [
    "sc.pp.neighbors(adata, use_rep=\"X_scANVI\", n_pcs=50, n_neighbors=20)"
   ]
  },
  {
   "cell_type": "code",
   "execution_count": null,
   "metadata": {
    "ExecuteTime": {
     "end_time": "2023-12-05T10:47:30.757047Z",
     "start_time": "2023-12-05T10:47:30.020710Z"
    }
   },
   "outputs": [],
   "source": [
    "sc.tl.paga(adata, groups='initial_cell_type')"
   ]
  },
  {
   "cell_type": "code",
   "execution_count": null,
   "metadata": {
    "ExecuteTime": {
     "end_time": "2023-12-05T10:47:30.927410Z",
     "start_time": "2023-12-05T10:47:30.759918Z"
    }
   },
   "outputs": [],
   "source": [
    "sc.pl.paga(adata, save = 'Paga_scANVI-imputed.png', threshold=0.05, max_edge_width=3, min_edge_width=0.01, node_size_scale=3, fontsize=10, fontoutline=True)"
   ]
  },
  {
   "cell_type": "code",
   "execution_count": null,
   "metadata": {},
   "outputs": [],
   "source": [
    "sc.pl.paga(adata, save = 'Paga_scANVI-imputed.png')#, threshold=0.05, max_edge_width=3, min_edge_width=0.01, node_size_scale=3, fontsize=10, fontoutline=True)"
   ]
  },
  {
   "cell_type": "code",
   "execution_count": null,
   "metadata": {},
   "outputs": [],
   "source": [
    "adata.uns['paga']['pos'][:,0]"
   ]
  },
  {
   "cell_type": "code",
   "execution_count": null,
   "metadata": {},
   "outputs": [],
   "source": [
    "\n",
    "adata.uns['paga']['pos'][:,1]"
   ]
  },
  {
   "cell_type": "code",
   "execution_count": null,
   "metadata": {},
   "outputs": [],
   "source": [
    "x=[ 0.74707301,  0.16060124, -1.06248722, -1.38000582, -1.80098163,\n",
    "        0.3710921 ,  2.25909226,  -2.48950279,  0.90816349,  1.92492535,\n",
    "        1.40230228]\n",
    "\n",
    "y=[-0.58546953, -1.03604595,  0.54833745,  1.48434607,  0.11088378,\n",
    "        1.12446191,  0.39605307,  -1.01840312, -1.40682015, -1.41092023,\n",
    "       -0.52664075]"
   ]
  },
  {
   "cell_type": "code",
   "execution_count": null,
   "metadata": {},
   "outputs": [],
   "source": [
    "sb.scatterplot(x=x, y=y)"
   ]
  },
  {
   "cell_type": "code",
   "execution_count": null,
   "metadata": {},
   "outputs": [],
   "source": [
    "init_pos = np.array([x, y]).T"
   ]
  },
  {
   "cell_type": "code",
   "execution_count": null,
   "metadata": {},
   "outputs": [],
   "source": [
    "adata.uns['paga']['pos'] = init_pos"
   ]
  },
  {
   "cell_type": "code",
   "execution_count": null,
   "metadata": {},
   "outputs": [],
   "source": [
    "gc.collect()"
   ]
  },
  {
   "cell_type": "code",
   "execution_count": null,
   "metadata": {},
   "outputs": [],
   "source": [
    "adata"
   ]
  },
  {
   "cell_type": "raw",
   "metadata": {
    "ExecuteTime": {
     "end_time": "2023-12-05T10:47:40.004193Z",
     "start_time": "2023-12-05T10:47:33.455362Z"
    },
    "vscode": {
     "languageId": "raw"
    }
   },
   "source": [
    "sc.tl.umap(adata, min_dist=0.3, spread=1, negative_sample_rate=1, gamma=0.25, init_pos='paga')"
   ]
  },
  {
   "cell_type": "code",
   "execution_count": null,
   "metadata": {},
   "outputs": [],
   "source": [
    "sc.tl.umap(adata, min_dist=0.18, spread=0.55, negative_sample_rate=1, gamma=0.25, init_pos='paga') #0.18 mindist, 0.85 spread"
   ]
  },
  {
   "cell_type": "code",
   "execution_count": null,
   "metadata": {},
   "outputs": [],
   "source": [
    "sc.pl.umap(adata, color=['sample','leiden','initial_cell_type','phase'], size=5, add_outline=True, alpha=0.7, outline_width=(0.3, 0.0), ncols=2, wspace =0.8, color_map=mymap, title = ['samples','leiden clustering','initial cell type','cell cycle'],legend_fontweight='light',legend_fontsize=10, save = 'Umap_scANVI_5_cluster_initial_CT_CC_imputed.png',)"
   ]
  },
  {
   "cell_type": "code",
   "execution_count": null,
   "metadata": {},
   "outputs": [],
   "source": [
    "## add metadata\n",
    "metadata_df =read_excel_metadata(f'/mnt/hdd/data/metadata_mouse_gut.xlsx')\n",
    "# Ensure folder name is the index in metadata for easier access\n",
    "metadata_df.drop(metadata_df[metadata_df['kit'] == 'Multiome_ATAC_v1'].index, inplace=True)\n",
    "metadata_df.drop(metadata_df[~metadata_df['condition'].isin(['Ctr','Ctr/WT'])].index, inplace=True)\n",
    "metadata_df.set_index('folder name', inplace=True)\n",
    "metadata_df.drop(['Sample Pooling - confounded with Project?','sample number Minas','Read Length', 'Internal ID', 'SeqID','date',\"modality (confounded with 'sequencing'\",'Project Name','Link_id','sample name','Cell Count [cells/µl]','Viable Cells [%]','Lib. Concentration [ng/µl]','Lib. Molarity [nM]','Average Lib. Size [bp]','cDNA Cycles','Lib. Cycles','10x Sample Index','Sequencing Depth [reads/cell]','exclusion, reason'], axis=1, inplace=True)"
   ]
  },
  {
   "cell_type": "code",
   "execution_count": null,
   "metadata": {},
   "outputs": [],
   "source": [
    "# Function to update adata.obs with metadata using a lambda function\n",
    "for col in metadata_df.columns:\n",
    "    try:\n",
    "        adata.obs[col] = adata.obs['sample'].apply(lambda x: metadata_df.at[x, col])\n",
    "    except KeyError as err:\n",
    "        print(f'no such key: {err} in col {col}')"
   ]
  },
  {
   "cell_type": "code",
   "execution_count": null,
   "metadata": {},
   "outputs": [],
   "source": [
    "del metadata_df\n",
    "gc.collect()"
   ]
  },
  {
   "cell_type": "code",
   "execution_count": null,
   "metadata": {},
   "outputs": [],
   "source": [
    "adata"
   ]
  },
  {
   "cell_type": "code",
   "execution_count": null,
   "metadata": {},
   "outputs": [],
   "source": [
    "sc.pl.umap(adata, color=['pretty name','sequencing','initial_cell_type','phase','enriched','enrichment proportion','line','sequencing machine'], size=7, add_outline=True, alpha=0.7, outline_width=(0.3, 0.0), ncols=2, wspace =0.6,legend_fontsize=10, color_map='tab20c', title=['samples','sequencing input','initial cell type','cell cycle','enrichment reporter','enrichment proportion','mouse line','sequencing machine'], save = 'Umap_scANVI_5_metadata_imputed.png')"
   ]
  },
  {
   "cell_type": "markdown",
   "metadata": {},
   "source": [
    "# Clustering"
   ]
  },
  {
   "cell_type": "code",
   "execution_count": null,
   "metadata": {},
   "outputs": [],
   "source": [
    "sc.tl.leiden(adata, resolution=1, key_added='leiden_1')"
   ]
  },
  {
   "cell_type": "code",
   "execution_count": null,
   "metadata": {},
   "outputs": [],
   "source": [
    "sc.pl.umap(adata, color=['leiden_1'], size=7, add_outline=True, alpha=0.9, outline_width=(0.3, 0.0), title='leiden clusters with 1 resolution',color_map='tab20', save = 'Umap_scANVI_5_leiden_1.25_imputed_legend.png', legend_fontsize=8)"
   ]
  },
  {
   "cell_type": "code",
   "execution_count": null,
   "metadata": {},
   "outputs": [],
   "source": [
    "sc.pl.umap(adata, color=['leiden_1'], size=7, add_outline=True, alpha=1, outline_width=(0.3, 0.0), title='leiden clusters with 1.25 resolution',legend_fontsize=9, legend_fontweight='black', color_map='tab20c', legend_loc=\"on data\", save = 'Umap_scANVI_5_leiden_1.25_imputed.png')"
   ]
  },
  {
   "cell_type": "markdown",
   "metadata": {},
   "source": [
    "## Marker Genes"
   ]
  },
  {
   "cell_type": "code",
   "execution_count": null,
   "metadata": {},
   "outputs": [],
   "source": [
    "results = run_DElegate_findMarkers(adata, \n",
    "                        layer = 'raw_counts', \n",
    "                        group_column = 'leiden_1', \n",
    "                        replicate_column = None, \n",
    "                        method = \"edger\", \n",
    "                        min_rate = 0.05,\n",
    "                        min_fc = 1,\n",
    "                        verbosity = 1, \n",
    "                        n_core = 20, \n",
    "                        max_memory = 4)"
   ]
  },
  {
   "cell_type": "code",
   "execution_count": null,
   "metadata": {},
   "outputs": [],
   "source": [
    "for cluster in set(adata.obs['leiden_1']):\n",
    "    print(cluster)    \n",
    "    sc.pl.umap(adata, color=list(results.loc[results['group1']==cluster.replace(\" \",\"_\"),\"feature\"][0:10]), layer='log_dca_counts', size=10, add_outline=True, alpha=0.7, outline_width=(0.3, 0.0), ncols=5, show=False , save = f'cluster{cluster}_Delegate_markers_scANVI.png')"
   ]
  },
  {
   "cell_type": "code",
   "execution_count": null,
   "metadata": {},
   "outputs": [],
   "source": [
    "marker_genes = ['Lgr5','Olfm4','Dmbt1','Arg2','Sis','Dclk1','Sox4','Pou2f3','Muc2','Tff3','Dll1','Atoh1','Spdef','Lyz1','Neurog3','Neurod1','Arx','Pax4','Lmx1a','Reg4','Isl1','Sst','Gcg','Cck','Gip','Ghrl']"
   ]
  },
  {
   "cell_type": "code",
   "execution_count": null,
   "metadata": {},
   "outputs": [],
   "source": [
    "sc.tl.dendrogram(adata, groupby='leiden_1', var_names=marker_genes, key_added='marker_gene_dendrogram')"
   ]
  },
  {
   "cell_type": "code",
   "execution_count": null,
   "metadata": {},
   "outputs": [],
   "source": [
    "sc.pl.dotplot(adata, dendrogram=True,var_names=marker_genes, groupby='leiden_1', standard_scale='var', cmap=mymap, use_raw=False, layer='sct_logcounts', categories_order=adata.uns['marker_gene_dendrogram']['categories_ordered'], save = 'Dotplot_marker_genes.png')#.style(color_on='square', dot_edge_lw=1, grid=True, dot_min=0.15, dot_edge_color=None, save = 'Dotplot_marker_genes.png').show()"
   ]
  },
  {
   "cell_type": "code",
   "execution_count": null,
   "metadata": {},
   "outputs": [],
   "source": [
    "sc.pl.umap(adata, color= marker_genes, layer='log_dca_counts',cmap = mymap, use_raw=False, size=7, add_outline=True, alpha=1, outline_width=(0.3, 0.0), ncols=4, save = 'Umap_scANVI_marker_genes_expr.png')"
   ]
  },
  {
   "cell_type": "raw",
   "metadata": {
    "vscode": {
     "languageId": "raw"
    }
   },
   "source": [
    "sc.pl.umap(adata, color=['leiden_1'], layer='log_dca_counts', use_raw=False, size=7, add_outline=True, alpha=1, outline_width=(0.3, 0.0), ncols=4)"
   ]
  },
  {
   "cell_type": "raw",
   "metadata": {
    "vscode": {
     "languageId": "raw"
    }
   },
   "source": [
    "sc.pl.umap(adata, color=['leiden_1','phase'], layer='log_dca_counts', use_raw=False, size=7, add_outline=True, alpha=1, outline_width=(0.3, 0.0), ncols=4)"
   ]
  },
  {
   "cell_type": "markdown",
   "metadata": {},
   "source": [
    "## Subclustering"
   ]
  },
  {
   "cell_type": "markdown",
   "metadata": {},
   "source": [
    "### Tuft"
   ]
  },
  {
   "cell_type": "code",
   "execution_count": null,
   "metadata": {},
   "outputs": [],
   "source": [
    "leiden_in = 'leiden_1'\n",
    "leiden_out = 'leiden_sub1'\n",
    "restrict_to = ['11']\n",
    "resolution = 0.2\n",
    "layer = 'log_dca_counts'\n",
    "genes = ['Dclk1','Sox4','Pou2f3']"
   ]
  },
  {
   "cell_type": "code",
   "execution_count": null,
   "metadata": {},
   "outputs": [],
   "source": [
    "sc.tl.leiden(adata, restrict_to=(leiden_in, restrict_to), resolution=resolution, key_added=leiden_out)"
   ]
  },
  {
   "cell_type": "code",
   "execution_count": null,
   "metadata": {},
   "outputs": [],
   "source": [
    "sc.pl.umap(adata[adata.obs[leiden_in].isin(restrict_to)], color=[leiden_out, 'phase'] + genes, layer=layer, size=20, add_outline=True, alpha=1, outline_width=(0.3, 0.0), legend_fontsize=6, ncols=3, save = 'Umap_scANVI_subcluster_tuft_phase.png', title = ['leiden subcluster', 'cell cycle'])"
   ]
  },
  {
   "cell_type": "code",
   "execution_count": null,
   "metadata": {},
   "outputs": [],
   "source": [
    "sc.pl.umap(adata[adata.obs[leiden_in].isin(restrict_to)], color=[leiden_out, 'pretty name'] + genes, layer=layer, size=20, add_outline=True, alpha=1, outline_width=(0.3, 0.0), legend_fontsize=7, ncols=3,wspace=0.6, title=['leiden subcluster', 'samples'], save = 'Umap_scANVI_subcluster_tuft_sample.png')"
   ]
  },
  {
   "cell_type": "code",
   "execution_count": null,
   "metadata": {},
   "outputs": [],
   "source": [
    "\n",
    "sc.pl.violin(adata[adata.obs[leiden_in].isin(restrict_to)], use_raw=False, keys=genes, groupby=leiden_out, rotation=90, layer=layer, save = 'violin_scANVI_subcluster_tuft.png')"
   ]
  },
  {
   "cell_type": "markdown",
   "metadata": {},
   "source": [
    "### Goblet & Early Progenitors 1"
   ]
  },
  {
   "cell_type": "code",
   "execution_count": null,
   "metadata": {},
   "outputs": [],
   "source": [
    "leiden_in = 'leiden_sub1'\n",
    "leiden_out = 'leiden_2'\n",
    "restrict_to = ['8']\n",
    "resolution = 0.2\n",
    "layer = 'log_dca_counts'\n",
    "genes = ['Sox4','Atoh1','Foxa2','Dll1','Spdef','Creb3l1','Klf4','Neurog3','Pou2f3','Top2a']"
   ]
  },
  {
   "cell_type": "code",
   "execution_count": null,
   "metadata": {},
   "outputs": [],
   "source": [
    "sc.tl.leiden(adata, restrict_to=(leiden_in, restrict_to), resolution=resolution, key_added=leiden_out)"
   ]
  },
  {
   "cell_type": "code",
   "execution_count": null,
   "metadata": {},
   "outputs": [],
   "source": [
    "sc.pl.umap(adata[adata.obs[leiden_in].isin(restrict_to)], color=[leiden_out, 'sequencing', 'phase', 'pretty name'] + genes, layer=layer, size=20, add_outline=True, alpha=1, outline_width=(0.3, 0.0), legend_fontsize=6, ncols=4, title = ['leiden subclusters', 'sequencing input', 'cell cycle', 'samples'], save= 'Umap_GC_secr_prog_1.png')"
   ]
  },
  {
   "cell_type": "code",
   "execution_count": null,
   "metadata": {},
   "outputs": [],
   "source": [
    "\n",
    "sc.pl.violin(adata[adata.obs[leiden_in].isin(restrict_to)], use_raw=False, keys=genes, groupby=leiden_out, rotation=90, layer=layer, save= 'violin_GC_secr_prog_1.png')"
   ]
  },
  {
   "cell_type": "markdown",
   "metadata": {},
   "source": [
    "### Goblet & Early Prog. 2"
   ]
  },
  {
   "cell_type": "code",
   "execution_count": null,
   "metadata": {},
   "outputs": [],
   "source": [
    "leiden_in = 'leiden_2'\n",
    "leiden_out = 'leiden_3'\n",
    "restrict_to = ['8,1']\n",
    "resolution = 0.4\n",
    "layer = 'log_dca_counts'\n",
    "genes = ['Sox4','Atoh1','Foxa2','Dll1','Spdef','Creb3l1','Klf4','Neurog3','Pou2f3','Top2a']"
   ]
  },
  {
   "cell_type": "code",
   "execution_count": null,
   "metadata": {},
   "outputs": [],
   "source": [
    "sc.tl.leiden(adata, restrict_to=(leiden_in, restrict_to), resolution=resolution, key_added=leiden_out)"
   ]
  },
  {
   "cell_type": "code",
   "execution_count": null,
   "metadata": {},
   "outputs": [],
   "source": [
    "sc.pl.umap(adata[adata.obs[leiden_in].isin(restrict_to)], color=[leiden_out, 'sequencing', 'phase', 'sample'] + genes, layer=layer, size=20, add_outline=True, alpha=1, outline_width=(0.3, 0.0), legend_fontsize=9, ncols=4, title = ['leiden subclusters', 'sequencing input', 'cell cycle', 'samples'], save= 'Umap_GC_secr_prog_2.png')"
   ]
  },
  {
   "cell_type": "code",
   "execution_count": null,
   "metadata": {},
   "outputs": [],
   "source": [
    "sc.pl.violin(adata[adata.obs[leiden_in].isin(restrict_to)], use_raw=False, keys=genes, groupby=leiden_out, rotation=90, layer=layer)"
   ]
  },
  {
   "cell_type": "markdown",
   "metadata": {},
   "source": [
    "###  EEC Prog"
   ]
  },
  {
   "cell_type": "code",
   "execution_count": null,
   "metadata": {},
   "outputs": [],
   "source": [
    "adata.obs['leiden_3'].cat.categories"
   ]
  },
  {
   "cell_type": "code",
   "execution_count": null,
   "metadata": {},
   "outputs": [],
   "source": [
    "leiden_in = 'leiden_3'\n",
    "leiden_out = 'leiden_4'\n",
    "restrict_to = ['12', '8,1,2']\n",
    "resolution = 0.4\n",
    "layer = 'log_dca_counts'\n",
    "genes = ['Dll1','Sox4','Atoh1','Foxa2','Neurog3','Neurod1','Fev','Arx','Pax4']"
   ]
  },
  {
   "cell_type": "code",
   "execution_count": null,
   "metadata": {},
   "outputs": [],
   "source": [
    "sc.tl.leiden(adata, restrict_to=(leiden_in, restrict_to), resolution=resolution, key_added=leiden_out)"
   ]
  },
  {
   "cell_type": "code",
   "execution_count": null,
   "metadata": {},
   "outputs": [],
   "source": [
    "sc.pl.umap(adata[adata.obs[leiden_in].isin(restrict_to)], color=[leiden_out, 'sequencing', 'phase', 'sample'] + genes, layer=layer, size=20, add_outline=True, alpha=1, outline_width=(0.3, 0.0), legend_fontsize=9, ncols=4, title = ['leiden subclusters', 'sequencing input', 'cell cycle', 'samples'], save= 'Umap_EEC_prog.png')"
   ]
  },
  {
   "cell_type": "code",
   "execution_count": null,
   "metadata": {},
   "outputs": [],
   "source": [
    "sc.pl.violin(adata[adata.obs[leiden_in].isin(restrict_to)], use_raw=False, keys=genes, groupby=leiden_out, rotation=90, layer=layer, save= 'violin_EEC_prog_1.png')"
   ]
  },
  {
   "cell_type": "markdown",
   "metadata": {},
   "source": [
    "###  EECs Pep."
   ]
  },
  {
   "cell_type": "code",
   "execution_count": null,
   "metadata": {},
   "outputs": [],
   "source": [
    "gc.collect()"
   ]
  },
  {
   "cell_type": "code",
   "execution_count": null,
   "metadata": {},
   "outputs": [],
   "source": [
    "adata.obs['leiden_4'].cat.categories"
   ]
  },
  {
   "cell_type": "code",
   "execution_count": null,
   "metadata": {},
   "outputs": [],
   "source": [
    "leiden_in = 'leiden_4'\n",
    "leiden_out = 'leiden_5'\n",
    "restrict_to = ['10','16']\n",
    "resolution = 0.5\n",
    "layer = 'log_dca_counts'\n",
    "genes = ['Dll1','Sox4','Foxa2','Neurog3','Neurod1','Fev','Arx','Pax4','Tac1','Tph1','Cck','Ghrl']"
   ]
  },
  {
   "cell_type": "code",
   "execution_count": null,
   "metadata": {},
   "outputs": [],
   "source": [
    "sc.tl.leiden(adata, restrict_to=(leiden_in, restrict_to), resolution=resolution, key_added=leiden_out)"
   ]
  },
  {
   "cell_type": "code",
   "execution_count": null,
   "metadata": {},
   "outputs": [],
   "source": [
    "sc.pl.umap(adata[adata.obs[leiden_in].isin(restrict_to)], color=[leiden_out, 'sequencing', 'phase', 'sample'] + genes, layer=layer, size=20, add_outline=True, alpha=1, outline_width=(0.3, 0.0), legend_fontsize=9, ncols=4, save= 'Umap_EEC_subs.png')"
   ]
  },
  {
   "cell_type": "code",
   "execution_count": null,
   "metadata": {},
   "outputs": [],
   "source": [
    "sc.pl.violin(adata[adata.obs[leiden_in].isin(restrict_to)], use_raw=False, keys=genes, groupby=leiden_out, rotation=90, layer=layer, save= 'violin_EEC_subs.png')"
   ]
  },
  {
   "cell_type": "markdown",
   "metadata": {},
   "source": [
    "###  EEC Pep. Prog"
   ]
  },
  {
   "cell_type": "code",
   "execution_count": null,
   "metadata": {},
   "outputs": [],
   "source": [
    "adata.obs['leiden_5'].cat.categories"
   ]
  },
  {
   "cell_type": "code",
   "execution_count": null,
   "metadata": {},
   "outputs": [],
   "source": [
    "leiden_in = 'leiden_5'\n",
    "leiden_out = 'leiden_6'\n",
    "restrict_to = ['12-8,1,2,2','10-16,2']\n",
    "resolution = 0.4\n",
    "layer = 'log_dca_counts'\n",
    "genes = ['Dll1','Sox4','Foxa2','Neurog3','Neurod1','Fev','Arx','Pax4','Tac1','Tph1','Cck','Ghrl']"
   ]
  },
  {
   "cell_type": "code",
   "execution_count": null,
   "metadata": {},
   "outputs": [],
   "source": [
    "sc.tl.leiden(adata, restrict_to=(leiden_in, restrict_to), resolution=resolution, key_added=leiden_out)"
   ]
  },
  {
   "cell_type": "code",
   "execution_count": null,
   "metadata": {},
   "outputs": [],
   "source": [
    "sc.pl.umap(adata[adata.obs[leiden_in].isin(restrict_to)], color=[leiden_out, 'sequencing', 'phase', 'sample'] + genes, layer=layer, size=20, add_outline=True, alpha=0.9, outline_width=(0.3, 0.0), legend_fontsize=9, ncols=4, save= 'Umap_EEC_P_prog.png')"
   ]
  },
  {
   "cell_type": "code",
   "execution_count": null,
   "metadata": {},
   "outputs": [],
   "source": [
    "sc.pl.violin(adata[adata.obs[leiden_in].isin(restrict_to)], use_raw=False, keys=genes, groupby=leiden_out, rotation=90, layer=layer, save= 'violin_EEC_prog_p.png')"
   ]
  },
  {
   "cell_type": "markdown",
   "metadata": {},
   "source": [
    "###  EECs Pep. 2"
   ]
  },
  {
   "cell_type": "code",
   "execution_count": null,
   "metadata": {},
   "outputs": [],
   "source": [
    "sc.pl.umap(adata, color=['leiden_1','leiden_6'], size=9, add_outline=True, alpha=0.7, outline_width=(0.3, 0.0), wspace =0.55)"
   ]
  },
  {
   "cell_type": "raw",
   "metadata": {
    "vscode": {
     "languageId": "raw"
    }
   },
   "source": [
    "adata.obs['leiden_14_save'].cat.categories"
   ]
  },
  {
   "cell_type": "raw",
   "metadata": {
    "vscode": {
     "languageId": "raw"
    }
   },
   "source": [
    "leiden_in = 'leiden_14_save'\n",
    "leiden_out = 'leiden_14'\n",
    "restrict_to = ['39']\n",
    "resolution = 0.35\n",
    "layer = 'log_dca_counts'\n",
    "genes = ['Dll1','Sox4','Foxa2','Neurog3','Neurod1','Fev','Arx','Pax4','Ghrl','Sct']"
   ]
  },
  {
   "cell_type": "raw",
   "metadata": {
    "vscode": {
     "languageId": "raw"
    }
   },
   "source": [
    "sc.tl.leiden(adata, restrict_to=(leiden_in, restrict_to), resolution=resolution, key_added=leiden_out)"
   ]
  },
  {
   "cell_type": "raw",
   "metadata": {
    "vscode": {
     "languageId": "raw"
    }
   },
   "source": [
    "sc.pl.umap(adata[adata.obs[leiden_in].isin(restrict_to)], color=[leiden_out, 'sequencing', 'phase', 'sample'] + genes, layer=layer, size=20, add_outline=True, alpha=1, outline_width=(0.3, 0.0), legend_fontsize=6, ncols=4, title = ['leiden subclusters', 'sequencing input', 'cell cycle', 'samples'], save= 'Umap_EEC_subs_ghrl.png')"
   ]
  },
  {
   "cell_type": "raw",
   "metadata": {
    "vscode": {
     "languageId": "raw"
    }
   },
   "source": [
    "sc.pl.violin(adata[adata.obs[leiden_in].isin(restrict_to)], use_raw=False, keys=genes, groupby=leiden_out, rotation=90, layer=layer, save= 'violin_EEC_subs_ghrl.png')"
   ]
  },
  {
   "cell_type": "markdown",
   "metadata": {},
   "source": [
    "###  ECs"
   ]
  },
  {
   "cell_type": "code",
   "execution_count": null,
   "metadata": {},
   "outputs": [],
   "source": [
    "sc.pl.umap(adata, color=['leiden_6'], size=10, legend_loc='on data', legend_fontsize=6, add_outline=True, alpha=0.7, outline_width=(0.3, 0.0))"
   ]
  },
  {
   "cell_type": "code",
   "execution_count": null,
   "metadata": {},
   "outputs": [],
   "source": [
    "adata.obs['leiden_6'].cat.categories"
   ]
  },
  {
   "cell_type": "code",
   "execution_count": null,
   "metadata": {},
   "outputs": [],
   "source": [
    "leiden_in = 'leiden_6'\n",
    "leiden_out = 'leiden_7'\n",
    "restrict_to = ['9']\n",
    "resolution = 0.4\n",
    "layer = 'log_dca_counts'\n",
    "genes = ['Dll1','Sox4','Foxa2','Neurog3','Neurod1','Fev','Arx','Pax4','Tph1','Tac1','Reg4']"
   ]
  },
  {
   "cell_type": "code",
   "execution_count": null,
   "metadata": {},
   "outputs": [],
   "source": [
    "sc.tl.leiden(adata, restrict_to=(leiden_in, restrict_to), resolution=resolution, key_added=leiden_out)"
   ]
  },
  {
   "cell_type": "code",
   "execution_count": null,
   "metadata": {},
   "outputs": [],
   "source": [
    "sc.pl.umap(adata[adata.obs[leiden_in].isin(restrict_to)], color=[leiden_out, 'sequencing', 'phase', 'sample'] + genes, layer=layer, size=20, add_outline=True, alpha=1, outline_width=(0.3, 0.0), legend_fontsize=9, ncols=4, save= 'Umap_EC_subs.png')"
   ]
  },
  {
   "cell_type": "code",
   "execution_count": null,
   "metadata": {},
   "outputs": [],
   "source": [
    "sc.pl.violin(adata[adata.obs[leiden_in].isin(restrict_to)], use_raw=False, keys=genes, groupby=leiden_out, rotation=90, layer=layer, save= 'violin_EC.png')"
   ]
  },
  {
   "cell_type": "markdown",
   "metadata": {},
   "source": [
    "### Goblet"
   ]
  },
  {
   "cell_type": "code",
   "execution_count": null,
   "metadata": {},
   "outputs": [],
   "source": [
    "with plt.rc_context({\"figure.figsize\": (10, 10)}):\n",
    "    sc.pl.umap(adata, color=['leiden_7'], size=10, add_outline=True, alpha=0.7, outline_width=(0.3, 0.0), legend_loc='on data', legend_fontsize=8)"
   ]
  },
  {
   "cell_type": "code",
   "execution_count": null,
   "metadata": {},
   "outputs": [],
   "source": [
    "leiden_in = 'leiden_7'\n",
    "leiden_out = 'leiden_8'\n",
    "restrict_to = ['1']\n",
    "resolution = 0.3\n",
    "layer = 'log_dca_counts'\n",
    "genes = ['Sox4','Atoh1','Foxa2','Spdef','Creb3l1','Klf4','Muc2','Tff3','Lyz1','Defa24']"
   ]
  },
  {
   "cell_type": "code",
   "execution_count": null,
   "metadata": {},
   "outputs": [],
   "source": [
    "sc.tl.leiden(adata, restrict_to=(leiden_in, restrict_to), resolution=resolution, key_added=leiden_out)"
   ]
  },
  {
   "cell_type": "code",
   "execution_count": null,
   "metadata": {},
   "outputs": [],
   "source": [
    "sc.pl.umap(adata[adata.obs[leiden_in].isin(restrict_to)], color=[leiden_out, 'sequencing', 'phase', 'sample'] + genes, layer=layer, size=20, add_outline=True, alpha=1, outline_width=(0.3, 0.0), legend_fontsize=9, ncols=4, save= 'Umap_GC_subs.png')"
   ]
  },
  {
   "cell_type": "code",
   "execution_count": null,
   "metadata": {},
   "outputs": [],
   "source": [
    "sc.pl.violin(adata[adata.obs[leiden_in].isin(restrict_to)], use_raw=False, keys=genes, groupby=leiden_out, rotation=90, layer=layer , save= 'violin_GC.png')"
   ]
  },
  {
   "cell_type": "code",
   "execution_count": null,
   "metadata": {},
   "outputs": [],
   "source": [
    "gc.collect()"
   ]
  },
  {
   "cell_type": "markdown",
   "metadata": {},
   "source": [
    "###  ISCs"
   ]
  },
  {
   "cell_type": "code",
   "execution_count": null,
   "metadata": {},
   "outputs": [],
   "source": [
    "with rc_context({'figure.figsize': (8,4)}):\n",
    "    sc.pl.violin(adata, use_raw=False, keys=['Lgr5','Olfm4','Dmbt1'], groupby='leiden_1', rotation=90, layer=layer)"
   ]
  },
  {
   "cell_type": "code",
   "execution_count": null,
   "metadata": {},
   "outputs": [],
   "source": [
    "leiden_in = 'leiden_8'\n",
    "leiden_out = 'leiden_9'\n",
    "restrict_to = ['2','5','4','17','19']\n",
    "resolution = 0.5\n",
    "layer = 'log_dca_counts'\n",
    "genes = ['Lgr5','Olfm4','Dmbt1','Arg2','Sis', 'Guca2a', 'Guca2b', 'Bmi1', 'Tert', 'Lrig1'] #Ca7"
   ]
  },
  {
   "cell_type": "code",
   "execution_count": null,
   "metadata": {},
   "outputs": [],
   "source": [
    "sc.tl.leiden(adata, restrict_to=(leiden_in, restrict_to), resolution=resolution, key_added=leiden_out)"
   ]
  },
  {
   "cell_type": "code",
   "execution_count": null,
   "metadata": {},
   "outputs": [],
   "source": [
    "sc.pl.umap(adata[adata.obs[leiden_in].isin(restrict_to)], color=[leiden_out, 'sequencing', 'phase', 'sample'] + genes, layer=layer, size=20, add_outline=True, alpha=1, outline_width=(0.3, 0.0), legend_fontsize=9, ncols=4, save= 'Umap_ISC_sub.png')"
   ]
  },
  {
   "cell_type": "code",
   "execution_count": null,
   "metadata": {},
   "outputs": [],
   "source": [
    "sc.pl.violin(adata[adata.obs[leiden_in].isin(restrict_to)], use_raw=False, keys=genes, groupby=leiden_out, rotation=90, layer=layer,show = False, save= 'violin_ISC.png')"
   ]
  },
  {
   "cell_type": "code",
   "execution_count": null,
   "metadata": {},
   "outputs": [],
   "source": [
    "gc.collect()"
   ]
  },
  {
   "cell_type": "code",
   "execution_count": null,
   "metadata": {},
   "outputs": [],
   "source": [
    "adata.write('annoationNB10_until_TA_imputed.h5ad')"
   ]
  },
  {
   "cell_type": "code",
   "execution_count": null,
   "metadata": {},
   "outputs": [],
   "source": [
    "adata = sc.read_h5ad('annoationNB10_until_TA_imputed.h5ad')"
   ]
  },
  {
   "cell_type": "markdown",
   "metadata": {},
   "source": [
    "###  TA & early Enterocytes"
   ]
  },
  {
   "cell_type": "markdown",
   "metadata": {},
   "source": [
    "ta markers = Reg1a, Dmbt1, Ccl25, Tmem238, Slc12a2, Mlec, Adh1c, Mt-rnr2, Mt-rnr1, Mtatp6p1, Mki67, Cenpf, Hnrnpab, Trac, Wdr43 \n",
    "enterocyte = Gsta1, Adirf, Fabp6, Apoa4, Cdhr5, Khk, Amn, C3orf85, Selenop, Apoa1\n",
    "enterocyte of SI = Cyp3a5, Ptgr1, Mme, Slc13a2, Cldn15, Akr7a3, Ugt2b17, Ace, Cyp3a4, Fabp2\n",
    "enterocyte+enterocyte of SI = Anpep, Aldob, Ces2, Rbp2, Atp1a1, Slc5a1, Prap1, Si, Fabp1, Mttp, Dgat1, Apob, Cbr1, Smim24, Fabp2\n",
    "SI_EC +TA = Pigr"
   ]
  },
  {
   "cell_type": "code",
   "execution_count": null,
   "metadata": {},
   "outputs": [],
   "source": [
    "with rc_context({'figure.figsize': (10,6)}):\n",
    "    sc.pl.violin(adata, use_raw=False, keys=['Olfm4','Dmbt1','Arg2','Sis','Apoa1','Fabp1'],layer = 'log_dca_counts', groupby='leiden_1', rotation=90)"
   ]
  },
  {
   "cell_type": "code",
   "execution_count": null,
   "metadata": {},
   "outputs": [],
   "source": [
    "with plt.rc_context({\"figure.figsize\": (10, 10)}):\n",
    "    sc.pl.umap(adata, color=['leiden_9'], size=4, add_outline=True, alpha=0.7, outline_width=(0.3, 0.0), legend_loc='on data', legend_fontsize=7)"
   ]
  },
  {
   "cell_type": "code",
   "execution_count": null,
   "metadata": {},
   "outputs": [],
   "source": [
    "adata.obs['leiden_9'].cat.categories"
   ]
  },
  {
   "cell_type": "code",
   "execution_count": null,
   "metadata": {},
   "outputs": [],
   "source": [
    "leiden_in = 'leiden_9'\n",
    "leiden_out = 'leiden_10'\n",
    "restrict_to = ['2-5-4-17-19,1', '2-5-4-17-19,2','2-5-4-17-19,4',\n",
    "       '2-5-4-17-19,5', '2-5-4-17-19,6', '2-5-4-17-19,7']\n",
    "resolution = 0.3\n",
    "layer = 'log_dca_counts'\n",
    "genes = ['Lgr5','Olfm4','Dmbt1','Arg2','Sis','Apoa1','Fabp1','Sox4','Atoh1','Tfrc','Hnf4a','Reg3b','Mki67','Rpl3']"
   ]
  },
  {
   "cell_type": "code",
   "execution_count": null,
   "metadata": {},
   "outputs": [],
   "source": [
    "sc.tl.leiden(adata, restrict_to=(leiden_in, restrict_to), resolution=resolution, key_added=leiden_out)"
   ]
  },
  {
   "cell_type": "code",
   "execution_count": null,
   "metadata": {},
   "outputs": [],
   "source": [
    "sc.pl.umap(adata[adata.obs[leiden_in].isin(restrict_to)], color=[leiden_out, 'sequencing', 'phase', 'sample'] + genes, layer=layer, size=20, add_outline=True, alpha=1, outline_width=(0.3, 0.0), legend_fontsize=9, ncols=4, save= 'Umap_TA_early_Enterocytes_sub.png')"
   ]
  },
  {
   "cell_type": "code",
   "execution_count": null,
   "metadata": {},
   "outputs": [],
   "source": [
    "sc.pl.violin(adata[adata.obs[leiden_in].isin(restrict_to)], use_raw=False, keys=genes, groupby=leiden_out, rotation=90, layer=layer, save= 'violin_TA_early_Enterocytes.png')"
   ]
  },
  {
   "cell_type": "code",
   "execution_count": null,
   "metadata": {},
   "outputs": [],
   "source": [
    "gc.collect()"
   ]
  },
  {
   "cell_type": "markdown",
   "metadata": {},
   "source": [
    "### Enterocytes 2"
   ]
  },
  {
   "cell_type": "code",
   "execution_count": null,
   "metadata": {},
   "outputs": [],
   "source": [
    "adata.obs['leiden_10'].cat.categories"
   ]
  },
  {
   "cell_type": "code",
   "execution_count": null,
   "metadata": {},
   "outputs": [],
   "source": [
    "leiden_in = 'leiden_10'\n",
    "leiden_out = 'leiden_11'\n",
    "restrict_to = ['6','15','20','3']\n",
    "resolution = 0.3\n",
    "layer = 'log_dca_counts'\n",
    "genes = ['Lgr5','Olfm4','Dmbt1','Arg2','Sis','Apoa1','Fabp1','Sox4','Atoh1','Tfrc','Hnf4a','Reg3b','Mki67','Rpl3']"
   ]
  },
  {
   "cell_type": "code",
   "execution_count": null,
   "metadata": {},
   "outputs": [],
   "source": [
    "sc.tl.leiden(adata, restrict_to=(leiden_in, restrict_to), resolution=resolution, key_added=leiden_out)"
   ]
  },
  {
   "cell_type": "code",
   "execution_count": null,
   "metadata": {},
   "outputs": [],
   "source": [
    "sc.pl.umap(adata[adata.obs[leiden_in].isin(restrict_to)], color=[leiden_out, 'sequencing', 'phase', 'sample'] + genes, layer=layer, size=20, add_outline=True, alpha=1, outline_width=(0.3, 0.0), legend_fontsize=9, ncols=4, save= 'Umap_enterocytes_2_sub.png')"
   ]
  },
  {
   "cell_type": "code",
   "execution_count": null,
   "metadata": {},
   "outputs": [],
   "source": [
    "sc.pl.violin(adata[adata.obs[leiden_in].isin(restrict_to)], use_raw=False, keys=genes, groupby=leiden_out, rotation=90, layer=layer, save= 'violin_Enterocytes_2.png')"
   ]
  },
  {
   "cell_type": "code",
   "execution_count": null,
   "metadata": {},
   "outputs": [],
   "source": [
    "gc.collect()"
   ]
  },
  {
   "cell_type": "code",
   "execution_count": null,
   "metadata": {},
   "outputs": [],
   "source": [
    "adata"
   ]
  },
  {
   "cell_type": "raw",
   "metadata": {
    "vscode": {
     "languageId": "raw"
    }
   },
   "source": [
    "sc.pl.umap(adata, color=['Cfap126','Foxa2','Foxj1'], layer='log_dca_counts', size=10, add_outline=True, alpha=1,cmap = mymap, outline_width=(0.3, 0.0), legend_fontsize=9, ncols=4)"
   ]
  },
  {
   "cell_type": "markdown",
   "metadata": {},
   "source": [
    "### Paneth"
   ]
  },
  {
   "cell_type": "code",
   "execution_count": null,
   "metadata": {},
   "outputs": [],
   "source": [
    "leiden_in = 'leiden_11'\n",
    "leiden_out = 'leiden_12'\n",
    "restrict_to = ['0','7','13']\n",
    "resolution = 0.2\n",
    "layer = 'log_dca_counts'\n",
    "genes = ['Lyz1','Lyz2','Defa24','Defa34','Bambi','Mmp7','Itln1', 'Acvr1c', 'Mmp7','Agr2','Sox9','Epcam','Nupr1', 'Dll4', 'Actg1', 'Tff3', 'Guca2a', 'Muc2', 'Sox9', 'Atoh1', 'Mptx1', 'Mptx2'] #Defa5, Defa6, Reg3a, Prss1, Reg1a, Lyz, Prss3, Lcn2"
   ]
  },
  {
   "cell_type": "code",
   "execution_count": null,
   "metadata": {},
   "outputs": [],
   "source": [
    "sc.tl.leiden(adata, restrict_to=(leiden_in, restrict_to), resolution=resolution, key_added=leiden_out)"
   ]
  },
  {
   "cell_type": "code",
   "execution_count": null,
   "metadata": {},
   "outputs": [],
   "source": [
    "sc.pl.umap(adata[adata.obs[leiden_in].isin(restrict_to)], color=[leiden_out, 'sequencing', 'phase', 'sample'] + genes, layer=layer, size=20, add_outline=True, alpha=1, outline_width=(0.3, 0.0), legend_fontsize=9, ncols=4, save= 'Umap_Paneth_sub.png')"
   ]
  },
  {
   "cell_type": "code",
   "execution_count": null,
   "metadata": {},
   "outputs": [],
   "source": [
    "sc.pl.violin(adata[adata.obs[leiden_in].isin(restrict_to)], use_raw=False, keys=genes, groupby=leiden_out, rotation=90, layer=layer, save= 'violin_Paneth.png')"
   ]
  },
  {
   "cell_type": "code",
   "execution_count": null,
   "metadata": {},
   "outputs": [],
   "source": [
    "gc.collect()"
   ]
  },
  {
   "cell_type": "code",
   "execution_count": null,
   "metadata": {},
   "outputs": [],
   "source": [
    "adata.obs['leiden_12'].cat.categories"
   ]
  },
  {
   "cell_type": "raw",
   "metadata": {
    "vscode": {
     "languageId": "raw"
    }
   },
   "source": [
    "adata_paneth = adata[adata.obs['leiden_10'].isin(['3-7-15-17-21-23,0', '3-7-15-17-21-23,1', '3-7-15-17-21-23,2',\n",
    "       '3-7-15-17-21-23,3', '3-7-15-17-21-23,4', '3-7-15-17-21-23,5',\n",
    "       '3-7-15-17-21-23,6', '3-7-15-17-21-23,7', '3-7-15-17-21-23,8'])]"
   ]
  },
  {
   "cell_type": "raw",
   "metadata": {
    "vscode": {
     "languageId": "raw"
    }
   },
   "source": [
    "adata_paneth"
   ]
  },
  {
   "cell_type": "raw",
   "metadata": {
    "vscode": {
     "languageId": "raw"
    }
   },
   "source": [
    "sc.tl.rank_genes_groups(adata_paneth, 'leiden_10',layer = 'log_dca_counts', method='t-test')"
   ]
  },
  {
   "cell_type": "raw",
   "metadata": {
    "vscode": {
     "languageId": "raw"
    }
   },
   "source": [
    "sc.pl.rank_genes_groups(adata_paneth)"
   ]
  },
  {
   "cell_type": "raw",
   "metadata": {
    "vscode": {
     "languageId": "raw"
    }
   },
   "source": [
    "sc.pl.rank_genes_groups_dotplot(adata_paneth,n_genes=5)"
   ]
  },
  {
   "cell_type": "raw",
   "metadata": {
    "vscode": {
     "languageId": "raw"
    }
   },
   "source": [
    "sc.pl.rank_genes_groups_dotplot(\n",
    "    adata_paneth,\n",
    "    n_genes=4,\n",
    "    values_to_plot=\"logfoldchanges\", cmap='bwr',\n",
    "    vmin=-4,\n",
    "    vmax=4,\n",
    "    min_logfoldchange=3,\n",
    "    colorbar_title='log fold change'\n",
    ")"
   ]
  },
  {
   "cell_type": "raw",
   "metadata": {
    "vscode": {
     "languageId": "raw"
    }
   },
   "source": [
    "sc.pl.umap(adata[adata.obs[leiden_in].isin(restrict_to)], color=[leiden_out, 'sequencing', 'sample', 'strain','n_counts', 'n_genes','mt_frac','log_counts', 'phase'], layer='log_dca_counts', size=30, add_outline=True, alpha=1, outline_width=(0.3, 0.0), legend_fontsize=6, ncols=3, show=False,save = 'Paneth_subclusters.svg')"
   ]
  },
  {
   "cell_type": "raw",
   "metadata": {
    "vscode": {
     "languageId": "raw"
    }
   },
   "source": [
    "paneth markers = DEFA5, DEFA6, REG3A, ITLN2, PRSS1, REG1A, LYZ, PRSS3, GUCA2A, TFF3, LCN2"
   ]
  },
  {
   "cell_type": "raw",
   "metadata": {},
   "source": [
    "adata.write('integrated_scanvi_subclustered.h5ad')"
   ]
  },
  {
   "cell_type": "code",
   "execution_count": null,
   "metadata": {},
   "outputs": [],
   "source": [
    "with plt.rc_context({\"figure.figsize\": (10, 10)}):\n",
    "    sc.pl.umap(adata, color=['leiden_12'], size=10, add_outline=True, alpha=0.7, outline_width=(0.3, 0.0), legend_loc='on data', legend_fontsize=8)"
   ]
  },
  {
   "cell_type": "markdown",
   "metadata": {},
   "source": [
    "### Paneth prg./like"
   ]
  },
  {
   "cell_type": "code",
   "execution_count": null,
   "metadata": {},
   "outputs": [],
   "source": [
    "leiden_in = 'leiden_12'\n",
    "leiden_out = 'leiden_13'\n",
    "restrict_to = ['1,3','14','0-7-13,2']\n",
    "resolution = 0.2\n",
    "layer = 'log_dca_counts'\n",
    "genes = ['Lyz1','Defa24','Defa34','Bambi','Mmp7','Itln1', 'Acvr1c', 'Mmp7','Agr2','Sox9','Epcam','Nupr1', 'Dll4', 'Actg1', 'Tff3', 'Guca2a', 'Muc2', 'Lyz2', 'Sox9', 'Atoh1', 'Mptx1', 'Mptx2'] #Defa5, Defa6, Reg3a, Prss1, Reg1a, Lyz, Prss3, Lcn2"
   ]
  },
  {
   "cell_type": "code",
   "execution_count": null,
   "metadata": {},
   "outputs": [],
   "source": [
    "sc.tl.leiden(adata, restrict_to=(leiden_in, restrict_to), resolution=resolution, key_added=leiden_out)"
   ]
  },
  {
   "cell_type": "code",
   "execution_count": null,
   "metadata": {},
   "outputs": [],
   "source": [
    "sc.pl.umap(adata[adata.obs[leiden_in].isin(restrict_to)], color=[leiden_out, 'sequencing', 'phase', 'sample'] + genes, layer=layer, size=20, add_outline=True, alpha=1, outline_width=(0.3, 0.0), legend_fontsize=6, ncols=4, save= 'Umap_Paneth_sub2.png')"
   ]
  },
  {
   "cell_type": "code",
   "execution_count": null,
   "metadata": {},
   "outputs": [],
   "source": [
    "sc.pl.violin(adata[adata.obs[leiden_in].isin(restrict_to)], use_raw=False, keys=genes, groupby=leiden_out, rotation=90, layer=layer, save= 'violin_Paneth2.png')"
   ]
  },
  {
   "cell_type": "code",
   "execution_count": null,
   "metadata": {},
   "outputs": [],
   "source": [
    "gc.collect()"
   ]
  },
  {
   "cell_type": "markdown",
   "metadata": {},
   "source": [
    "### Paneth prog."
   ]
  },
  {
   "cell_type": "code",
   "execution_count": null,
   "metadata": {},
   "outputs": [],
   "source": [
    "with rc_context({'figure.figsize': (10,14), 'font.family':'sans-serif'}):\n",
    "    sc.pl.umap(adata, color=['leiden_13'], layer=layer, size=15, add_outline=True, alpha=1, outline_width=(0.3, 0.0), legend_fontsize=8, legend_loc='on data', title = ['leiden subclusters at state 13'], show = False, save= 'Umap_leiden_state_13.png')"
   ]
  },
  {
   "cell_type": "code",
   "execution_count": null,
   "metadata": {},
   "outputs": [],
   "source": [
    "adata.obs['leiden_13'].cat.categories"
   ]
  },
  {
   "cell_type": "code",
   "execution_count": null,
   "metadata": {},
   "outputs": [],
   "source": [
    "leiden_in = 'leiden_13'\n",
    "leiden_out = 'leiden_14'\n",
    "restrict_to = ['14']\n",
    "resolution = 0.1\n",
    "layer = 'log_dca_counts'\n",
    "genes = ['Sox4','Atoh1','Foxa2','Dll1','Spdef','Muc2','Tff3','Creb3l1','Klf4','Defa24','Lyz1','Pou2f3','Top2a','Lyz1','Defa24','Defa34','Bambi','Mmp7','Itln1', 'Acvr1c', 'Mmp7','Agr2','Sox9','Epcam','Nupr1', 'Dll4','Ctse', 'Slc26a3', 'Golm1', 'Tff2', 'Muc1', 'Dmbt1']"
   ]
  },
  {
   "cell_type": "code",
   "execution_count": null,
   "metadata": {},
   "outputs": [],
   "source": [
    "sc.tl.leiden(adata, restrict_to=(leiden_in, restrict_to), resolution=resolution, key_added=leiden_out)"
   ]
  },
  {
   "cell_type": "code",
   "execution_count": null,
   "metadata": {},
   "outputs": [],
   "source": [
    "sc.pl.umap(adata[adata.obs[leiden_in].isin(restrict_to)], color=[leiden_out, 'sequencing', 'phase', 'sample'] + genes, layer=layer, size=20, add_outline=True, alpha=1, outline_width=(0.3, 0.0), legend_fontsize=6, ncols=4, title = ['leiden subclusters', 'sequencing input', 'cell cycle', 'samples'], save= 'Umap_GC_PC_zwitters1.png', wspace = 0.65)"
   ]
  },
  {
   "cell_type": "code",
   "execution_count": null,
   "metadata": {},
   "outputs": [],
   "source": [
    "sc.pl.violin(adata[adata.obs[leiden_in].isin(restrict_to)], use_raw=False, keys=genes, groupby=leiden_out, rotation=90, layer=layer, save= 'violin_GC_PC_zwitters1.png')"
   ]
  },
  {
   "cell_type": "markdown",
   "metadata": {
    "vscode": {
     "languageId": "raw"
    }
   },
   "source": [
    "### M cells"
   ]
  },
  {
   "cell_type": "code",
   "execution_count": null,
   "metadata": {},
   "outputs": [],
   "source": [
    "layer = 'log_dca_counts'\n",
    "genes = ['Ctse', 'Slc26a3', 'Golm1', 'Tff2', 'Muc1', 'Dmbt1']"
   ]
  },
  {
   "cell_type": "code",
   "execution_count": null,
   "metadata": {},
   "outputs": [],
   "source": [
    "sc.pl.umap(adata, color=genes, layer=layer, size=15, add_outline=True, alpha=1, outline_width=(0.3, 0.0), legend_fontsize=8,ncols=3 show = True, cmap = mymap, save= 'Umap_M_cell_markers.png')"
   ]
  },
  {
   "cell_type": "markdown",
   "metadata": {},
   "source": [
    "### save adata"
   ]
  },
  {
   "cell_type": "code",
   "execution_count": null,
   "metadata": {},
   "outputs": [],
   "source": [
    "adata.write('scANVI_imputed_subclustering_done.h5ad')"
   ]
  },
  {
   "cell_type": "code",
   "execution_count": null,
   "metadata": {},
   "outputs": [],
   "source": [
    "adata = sc.read_h5ad('scANVI_imputed_subclustering_done.h5ad')"
   ]
  },
  {
   "cell_type": "code",
   "execution_count": null,
   "metadata": {},
   "outputs": [],
   "source": [
    "with rc_context({'figure.figsize': (8,8)}):\n",
    "    sc.pl.umap(adata, color='leiden_13', size=6, add_outline=True, alpha=1, outline_width=(0.3, 0.0), title='Final subclustering')#, legend_loc='on data')"
   ]
  },
  {
   "cell_type": "code",
   "execution_count": null,
   "metadata": {},
   "outputs": [],
   "source": [
    "gc.collect()"
   ]
  },
  {
   "cell_type": "markdown",
   "metadata": {},
   "source": [
    "# Annotation"
   ]
  },
  {
   "cell_type": "code",
   "execution_count": null,
   "metadata": {
    "execution": {
     "iopub.execute_input": "2024-05-22T21:41:05.583898Z",
     "iopub.status.busy": "2024-05-22T21:41:05.583760Z",
     "iopub.status.idle": "2024-05-22T21:41:05.589313Z",
     "shell.execute_reply": "2024-05-22T21:41:05.588619Z",
     "shell.execute_reply.started": "2024-05-22T21:41:05.583884Z"
    }
   },
   "outputs": [],
   "source": [
    "def rename_cluster(adata, df, cluster_key, indices, added_key):\n",
    "    keys = list(indices)\n",
    "    values = [index.split('_')[0] + '_' + added_key for index in indices]\n",
    "    idx_dict = dict(zip(keys, values))\n",
    "\n",
    "    adata.obs[cluster_key] = adata.obs[cluster_key].cat.rename_categories(idx_dict)\n",
    "    df = df.rename(index=idx_dict)\n",
    "    return(adata,df)\n",
    "\n",
    "def annotate_cluster(adata, cluster_key, annotation_key):\n",
    "    keys = list(adata.obs[cluster_key].cat.categories)\n",
    "    values = [] \n",
    "    for index in adata.obs[cluster_key].cat.categories:\n",
    "        if len(index.split('_')) < 2:\n",
    "            values = values + [index]\n",
    "        else:\n",
    "            values = values + [index.split('_')[1]]\n",
    "    idx_dict = dict(zip(keys, values))\n",
    "\n",
    "    adata.obs[annotation_key] = adata.obs[cluster_key].map(idx_dict).astype('category')\n",
    "    return(adata)"
   ]
  },
  {
   "cell_type": "code",
   "execution_count": null,
   "metadata": {
    "execution": {
     "iopub.execute_input": "2024-05-22T21:41:05.590185Z",
     "iopub.status.busy": "2024-05-22T21:41:05.590051Z",
     "iopub.status.idle": "2024-05-22T21:41:05.618015Z",
     "shell.execute_reply": "2024-05-22T21:41:05.617413Z",
     "shell.execute_reply.started": "2024-05-22T21:41:05.590170Z"
    }
   },
   "outputs": [],
   "source": [
    "pd.set_option('display.max_rows', 100)\n",
    "pd.set_option('display.max_columns', 100)"
   ]
  },
  {
   "cell_type": "raw",
   "metadata": {
    "vscode": {
     "languageId": "raw"
    }
   },
   "source": [
    "del adata\n",
    "adata = filtered_adata\n",
    "gc.collect()"
   ]
  },
  {
   "cell_type": "code",
   "execution_count": null,
   "metadata": {},
   "outputs": [],
   "source": [
    "gc.collect()"
   ]
  },
  {
   "cell_type": "markdown",
   "metadata": {},
   "source": [
    "## Marker Gene Expression"
   ]
  },
  {
   "cell_type": "code",
   "execution_count": null,
   "metadata": {
    "execution": {
     "iopub.execute_input": "2024-05-22T21:41:05.619010Z",
     "iopub.status.busy": "2024-05-22T21:41:05.618803Z",
     "iopub.status.idle": "2024-05-22T21:41:05.641349Z",
     "shell.execute_reply": "2024-05-22T21:41:05.640788Z",
     "shell.execute_reply.started": "2024-05-22T21:41:05.618987Z"
    }
   },
   "outputs": [],
   "source": [
    "group_by = 'leiden_13'"
   ]
  },
  {
   "cell_type": "code",
   "execution_count": null,
   "metadata": {
    "execution": {
     "iopub.execute_input": "2024-05-22T21:41:05.642178Z",
     "iopub.status.busy": "2024-05-22T21:41:05.642050Z",
     "iopub.status.idle": "2024-05-22T21:41:05.665491Z",
     "shell.execute_reply": "2024-05-22T21:41:05.664878Z",
     "shell.execute_reply.started": "2024-05-22T21:41:05.642164Z"
    }
   },
   "outputs": [],
   "source": [
    "adata.obs[group_by] = adata.obs[group_by].cat.rename_categories(dict(zip(adata.obs[group_by].cat.categories,[str(n) for n in range(0,len(adata.obs[group_by].cat.categories))])))"
   ]
  },
  {
   "cell_type": "code",
   "execution_count": null,
   "metadata": {
    "execution": {
     "iopub.execute_input": "2024-05-22T21:41:05.666906Z",
     "iopub.status.busy": "2024-05-22T21:41:05.666543Z",
     "iopub.status.idle": "2024-05-22T21:41:06.649581Z",
     "shell.execute_reply": "2024-05-22T21:41:06.648994Z",
     "shell.execute_reply.started": "2024-05-22T21:41:05.666881Z"
    }
   },
   "outputs": [],
   "source": [
    "sc.pl.umap(adata, color=group_by, size=5, add_outline=True, alpha=1, outline_width=(0.3, 0.0), ncols=4, color_map=mymap, legend_loc='on data', legend_fontsize=7)"
   ]
  },
  {
   "cell_type": "code",
   "execution_count": null,
   "metadata": {
    "execution": {
     "iopub.execute_input": "2024-05-22T21:41:06.650397Z",
     "iopub.status.busy": "2024-05-22T21:41:06.650262Z",
     "iopub.status.idle": "2024-05-22T21:41:06.653611Z",
     "shell.execute_reply": "2024-05-22T21:41:06.653168Z",
     "shell.execute_reply.started": "2024-05-22T21:41:06.650383Z"
    }
   },
   "outputs": [],
   "source": [
    "marker_genes = ['Lgr5','Olfm4','Dmbt1','Arg2','Sis','Dclk1','Sox4','Pou2f3','Muc2','Dll1','Ccl25','Lyz1','Neurog3','Neurod1','Arx','Pax4','Spdef','Lmx1a','Reg4','Isl1','Sst','Gcg','Cck','Gip','Ghrl','Sct','Fev','Lbh', 'Rnase4','Ctse', 'Slc12a8','Reg1','Slc2a2','Ada', 'Golm1', 'Tff2', 'Muc1', 'Dmbt1']"
   ]
  },
  {
   "cell_type": "code",
   "execution_count": null,
   "metadata": {},
   "outputs": [],
   "source": [
    "sc.pl.umap(adata, color=['Reg1', 'Tma7', 'Gpx2', 'Ccl25', 'Reg3a', 'Slc7a8', 'Slc2a2','Apob','Tbk1', 'Pkib','Nts', 'Ada', 'Cdh1', 'Lct','Alpi', 'Lbr','Ndc1','Prkdc','Mcm5', 'Gfi1', 'Klf4', 'Hspd1', 'Slc4a4','Pck1','Spink4','Pfkfb2', 'Fabp5', 'Spink4', 'Rgs13', 'Cd44', 'Chga', 'Chgb', 'Stmn1'], layer='log_dca_counts', size=2, add_outline=True, alpha=1, outline_width=(0.3, 0.0), ncols=4, show = False, save = 'umapUmap_scANVI_5_markers_prox_dist_etc.png')"
   ]
  },
  {
   "cell_type": "code",
   "execution_count": null,
   "metadata": {},
   "outputs": [],
   "source": [
    "sc.pl.umap(adata, color=marker_genes, layer='log_dca_counts', size=2, add_outline=True, alpha=1, outline_width=(0.3, 0.0), ncols=4, cmap=mymap)"
   ]
  },
  {
   "cell_type": "code",
   "execution_count": null,
   "metadata": {},
   "outputs": [],
   "source": [
    "sc.pl.umap(adata, color=['Reg1', 'Tma7', 'Gpx2', 'Ccl25', 'Reg3a', 'Slc7a8', 'Slc2a2','Apob','Tbk1', 'Pkib','Nts', 'Ada', 'Cdh1', 'Lct','Alpi', 'Lbr','Ndc1','Prkdc','Mcm5', 'Gfi1', 'Klf4', 'Hspd1', 'Slc4a4','Pck1','Spink4','Pfkfb2', 'Fabp5', 'Spink4', 'Rgs13', 'Cd44', 'Chga', 'Chgb', 'Stmn1'], layer='log_dca_counts', size=2, add_outline=True, alpha=1, outline_width=(0.3, 0.0), cmap = mymap,ncols=4)"
   ]
  },
  {
   "cell_type": "code",
   "execution_count": null,
   "metadata": {
    "execution": {
     "iopub.execute_input": "2024-05-22T21:41:06.654299Z",
     "iopub.status.busy": "2024-05-22T21:41:06.654171Z",
     "iopub.status.idle": "2024-05-22T21:41:17.019970Z",
     "shell.execute_reply": "2024-05-22T21:41:17.019373Z",
     "shell.execute_reply.started": "2024-05-22T21:41:06.654285Z"
    }
   },
   "outputs": [],
   "source": [
    "sc.pl.umap(adata, color=marker_genes, layer='log_dca_counts', size=7, add_outline=True, alpha=1, outline_width=(0.3, 0.0), ncols=4, show = False, save ='UMAP_markers_containing_M_cells_and_more.png')"
   ]
  },
  {
   "cell_type": "code",
   "execution_count": null,
   "metadata": {},
   "outputs": [],
   "source": [
    "gc.collect()"
   ]
  },
  {
   "cell_type": "code",
   "execution_count": null,
   "metadata": {
    "execution": {
     "iopub.execute_input": "2024-05-22T21:41:17.020775Z",
     "iopub.status.busy": "2024-05-22T21:41:17.020642Z",
     "iopub.status.idle": "2024-05-22T21:41:26.762007Z",
     "shell.execute_reply": "2024-05-22T21:41:26.761386Z",
     "shell.execute_reply.started": "2024-05-22T21:41:17.020760Z"
    }
   },
   "outputs": [],
   "source": [
    "sc.tl.dendrogram(adata, groupby=group_by, var_names=marker_genes, key_added='marker_gene_dendrogram')\n",
    "sc.pl.DotPlot(adata, var_names=marker_genes, groupby=group_by, standard_scale='var', cmap=mymap, layer='log_dca_counts', use_raw=False, categories_order=adata.uns['marker_gene_dendrogram']['categories_ordered']).style(color_on='square', dot_edge_lw=1, grid=True, dot_min=0.15, dot_edge_color=None).show()"
   ]
  },
  {
   "cell_type": "code",
   "execution_count": null,
   "metadata": {},
   "outputs": [],
   "source": [
    "sc.pl.dotplot(adata, var_names=marker_genes, dendrogram= 'marker_gene_dendrogram', groupby=group_by, standard_scale='var', cmap=mymap, layer='log_dca_counts', use_raw=False, show = False, save = 'Dotplot_markers_subclusters.png')"
   ]
  },
  {
   "cell_type": "code",
   "execution_count": null,
   "metadata": {},
   "outputs": [],
   "source": [
    "adata"
   ]
  },
  {
   "cell_type": "code",
   "execution_count": null,
   "metadata": {},
   "outputs": [],
   "source": [
    "gc.collect()"
   ]
  },
  {
   "cell_type": "markdown",
   "metadata": {},
   "source": [
    "## create df"
   ]
  },
  {
   "cell_type": "code",
   "execution_count": null,
   "metadata": {},
   "outputs": [],
   "source": [
    "clusters_manual = ['9','16','23','34','41']"
   ]
  },
  {
   "cell_type": "code",
   "execution_count": null,
   "metadata": {
    "execution": {
     "iopub.execute_input": "2024-05-22T21:41:26.763021Z",
     "iopub.status.busy": "2024-05-22T21:41:26.762746Z",
     "iopub.status.idle": "2024-05-22T21:41:27.089492Z",
     "shell.execute_reply": "2024-05-22T21:41:27.088823Z",
     "shell.execute_reply.started": "2024-05-22T21:41:26.763006Z"
    }
   },
   "outputs": [],
   "source": [
    "groupby = 'leiden_13'\n",
    "\n",
    "df = pd.DataFrame(data = adata[:,np.in1d(adata.var_names,marker_genes)].X.toarray(), \n",
    "                  index = adata.obs_names, \n",
    "                  columns=adata.var_names[np.in1d(adata.var_names, marker_genes)].values)\n",
    "\n",
    "df[groupby]= pd.Series(adata.obs[groupby][~adata.obs[group_by].isin(clusters_manual)], index=df.index)\n",
    "\n",
    "\n",
    "if 'df_all' in globals():\n",
    "    del df_all\n",
    "    \n",
    "for i,marker in enumerate(marker_genes):\n",
    "    if i == 0:\n",
    "        df_all = pd.DataFrame(df.groupby(by=groupby)[marker].apply(np.mean).values, index=df.groupby(by=groupby)[marker].apply(np.mean).index, columns=['mean_'+marker])\n",
    "    else:\n",
    "        df_all['mean_'+marker] = df.groupby(by=groupby)[marker].apply(np.mean).values\n",
    "\n",
    "df_all.dropna(inplace=True)\n",
    "        \n",
    "# for key in fate_probability_keys:\n",
    "#     df_all['mean_'+key] = adata.obs.groupby(by=groupby)[key].apply(np.mean).values\n",
    "        \n",
    "df_all/df_all.max(axis=0)"
   ]
  },
  {
   "cell_type": "code",
   "execution_count": null,
   "metadata": {
    "execution": {
     "iopub.execute_input": "2024-05-22T21:41:27.090538Z",
     "iopub.status.busy": "2024-05-22T21:41:27.090234Z",
     "iopub.status.idle": "2024-05-22T21:41:27.145503Z",
     "shell.execute_reply": "2024-05-22T21:41:27.144983Z",
     "shell.execute_reply.started": "2024-05-22T21:41:27.090522Z"
    }
   },
   "outputs": [],
   "source": [
    "for marker in marker_genes:\n",
    "    df_all[marker+'_lowhigh'] = pd.cut(df_all['mean_'+marker]/max(df_all['mean_'+marker]), bins=[-10, 0.5, 10], labels=['low', 'high'])\n",
    "\n",
    "for marker in ['Olfm4','Sis']:\n",
    "    df_all[marker+'_lowhigh'] = pd.cut(df_all['mean_'+marker]/max(df_all['mean_'+marker]), bins=[-10, 0.4, 0.6, 10], labels=['low', 'mid', 'high'])\n",
    "\n",
    "for marker in ['Arg2']:\n",
    "    df_all[marker+'_lowhigh'] = pd.cut(df_all['mean_'+marker]/max(df_all['mean_'+marker]), bins=[-10, 0.35, 0.6, 10], labels=['low', 'mid', 'high'])\n",
    "\n",
    "for marker in ['Neurog3']:\n",
    "    df_all[marker+'_lowhigh'] = pd.cut(df_all['mean_'+marker]/max(df_all['mean_'+marker]), bins=[-10, 0.55, 10], labels=['low', 'high'])\n",
    "\n",
    "for marker in ['Ghrl','Cck']:\n",
    "    df_all[marker+'_lowhigh'] = pd.cut(df_all['mean_'+marker]/max(df_all['mean_'+marker]), bins=[-10, 0.2, 0.9, 10], labels=['low', 'mid', 'high'])\n",
    "\n",
    "for marker in ['Sox4','Dclk1']:\n",
    "    df_all[marker+'_lowhigh'] = pd.cut(df_all['mean_'+marker]/max(df_all['mean_'+marker]), bins=[-10, 0.4, 0.75, 10], labels=['low', 'mid', 'high'])\n",
    "\n",
    "for marker in ['Muc2']:\n",
    "    df_all[marker+'_lowhigh'] = pd.cut(df_all['mean_'+marker]/max(df_all['mean_'+marker]), bins=[-10, 0.3, 0.6, 10], labels=['low', 'mid', 'high'])\n",
    "\n",
    "for marker in ['Pou2f3']:\n",
    "    df_all[marker+'_lowhigh'] = pd.cut(df_all['mean_'+marker]/max(df_all['mean_'+marker]), bins=[-10, 0.3, 0.5, 10], labels=['low', 'mid', 'high'])\n",
    "\n",
    "for marker in ['Golm1', 'Rnase4']:\n",
    "    df_all[marker+'_lowhigh'] = pd.cut(df_all['mean_'+marker]/max(df_all['mean_'+marker]), bins=[-10, 0.5, 0.7, 10], labels=['low', 'mid', 'high'])\n",
    "\n",
    "for marker in ['Muc1']:\n",
    "    df_all[marker+'_lowhigh'] = pd.cut(df_all['mean_'+marker]/max(df_all['mean_'+marker]), bins=[-10, 0.15, 10], labels=['low', 'high'])\n",
    "\n",
    "for marker in ['Lyz1']:\n",
    "    df_all[marker+'_lowhigh'] = pd.cut(df_all['mean_'+marker]/max(df_all['mean_'+marker]), bins=[-10, 0.4, 0.7, 10], labels=['low', 'mid', 'high'])\n",
    "\n",
    "for marker in ['Tff2']:\n",
    "    df_all[marker+'_lowhigh'] = pd.cut(df_all['mean_'+marker]/max(df_all['mean_'+marker]), bins=[-10, 0.8, 10], labels=['low', 'high'])\n",
    "\n",
    "for marker in ['Sct','Dmbt1']:\n",
    "    df_all[marker+'_lowhigh'] = pd.cut(df_all['mean_'+marker]/max(df_all['mean_'+marker]), bins=[-10, 0.2, 0.5, 10], labels=['low','mid', 'high'])\n",
    "\n",
    "\n",
    "df_all.iloc[:,len(marker_genes):]"
   ]
  },
  {
   "cell_type": "markdown",
   "metadata": {},
   "source": [
    "## Clustering-Based Annotation with EEC Subtypes"
   ]
  },
  {
   "cell_type": "code",
   "execution_count": null,
   "metadata": {},
   "outputs": [],
   "source": [
    "gc.collect()"
   ]
  },
  {
   "cell_type": "raw",
   "metadata": {
    "vscode": {
     "languageId": "raw"
    }
   },
   "source": [
    "adata.obs['leiden_13_save'] = adata.obs['leiden_13']"
   ]
  },
  {
   "cell_type": "code",
   "execution_count": null,
   "metadata": {},
   "outputs": [],
   "source": [
    "adata.obs['leiden_13'] = adata.obs['leiden_13_save']"
   ]
  },
  {
   "cell_type": "code",
   "execution_count": null,
   "metadata": {},
   "outputs": [],
   "source": [
    "clusters_manual_dict = {'9':'unknown0',\n",
    "                        '41':'Tuft prog. 2',\n",
    "                        '16':'TA',\n",
    "                        '34':'EC 2',\n",
    "                        '23':'early Enterocyte'}"
   ]
  },
  {
   "cell_type": "code",
   "execution_count": null,
   "metadata": {},
   "outputs": [],
   "source": [
    "annotation_key = 'cell_type_annotation_lv1'\n"
   ]
  },
  {
   "cell_type": "code",
   "execution_count": null,
   "metadata": {
    "execution": {
     "iopub.execute_input": "2024-05-22T21:41:28.116477Z",
     "iopub.status.busy": "2024-05-22T21:41:28.116338Z",
     "iopub.status.idle": "2024-05-22T21:41:28.151953Z",
     "shell.execute_reply": "2024-05-22T21:41:28.151426Z",
     "shell.execute_reply.started": "2024-05-22T21:41:28.116461Z"
    }
   },
   "outputs": [],
   "source": [
    "cluster_key = 'leiden_13'\n",
    "\n",
    "adata, df_all = rename_cluster(adata, df_all, cluster_key, df_all[(df_all['Lyz1_lowhigh']=='high')& \n",
    "                                          (df_all['Muc2_lowhigh']=='high') & (df_all['Lbh_lowhigh']=='high')& \n",
    "                                          (df_all['Reg4_lowhigh']=='high')].index, 'Goblet-Paneth-like cells')\n",
    "\n",
    "\n",
    "adata, df_all = rename_cluster(adata, df_all, cluster_key, df_all[(df_all['Lyz1_lowhigh']=='high') & \n",
    "                                                                  (df_all['Lbh_lowhigh']=='high') & \n",
    "                                                                    (df_all['Reg4_lowhigh']=='high')].index, 'Paneth')\n",
    "\n",
    "adata, df_all = rename_cluster(adata, df_all, cluster_key, df_all[(df_all['Lyz1_lowhigh']=='high')& \n",
    "                                          ((df_all['Olfm4_lowhigh']!='low')| (df_all['Dmbt1_lowhigh']!='low'))& (df_all['Pou2f3_lowhigh']=='low') ].index, 'Paneth prog.')\n",
    "\n",
    "\n",
    "adata, df_all = rename_cluster(adata, df_all, cluster_key, df_all[df_all['Lgr5_lowhigh']=='high'].index, 'ISC')\n",
    "\n",
    "\n",
    "adata, df_all = rename_cluster(adata, df_all, cluster_key, df_all[(df_all['Dll1_lowhigh']=='high') & (df_all['Spdef_lowhigh']!='high')].index, 'Goblet/EEC prog. (early)')\n",
    "\n",
    "\n",
    "adata, df_all = rename_cluster(adata, df_all, cluster_key, df_all[(df_all['Lmx1a_lowhigh']=='high') & \n",
    "                                          (df_all['Neurog3_lowhigh']=='low') & \n",
    "                                          (df_all['Reg4_lowhigh']=='low')].index, 'EC (immature)')\n",
    "\n",
    "\n",
    "adata, df_all = rename_cluster(adata, df_all, cluster_key, df_all[((df_all['Lmx1a_lowhigh']=='high') & \n",
    "                                          (df_all['Reg4_lowhigh']=='high'))|((df_all['Neurod1_lowhigh']=='high') & \n",
    "                                                                             (df_all['Neurog3_lowhigh']=='low') & \n",
    "                                          (df_all['Pax4_lowhigh']=='low')&(df_all['Reg4_lowhigh']=='high'))].index, 'EC (mature)')\n",
    "\n",
    "\n",
    "adata, df_all = rename_cluster(adata, df_all, cluster_key, df_all[(df_all['Neurog3_lowhigh']=='high') & \n",
    "                                          #(df_all['Neurod1_lowhigh']=='high') & \n",
    "                                          (df_all['Arx_lowhigh']=='low') & \n",
    "                                          (df_all['Pax4_lowhigh']=='low')].index, 'EEC prog. (mid)')\n",
    "\n",
    "\n",
    "adata, df_all = rename_cluster(adata, df_all, cluster_key, df_all[(df_all['Neurog3_lowhigh']=='high') & \n",
    "                                          #(df_all['Neurod1_lowhigh']=='high') & \n",
    "                                          (df_all['Arx_lowhigh']=='low') & \n",
    "                                          (df_all['Lmx1a_lowhigh']=='high')].index, 'EC prog. (late)')\n",
    "\n",
    "\n",
    "adata, df_all = rename_cluster(adata, df_all, cluster_key, df_all[(df_all['Neurog3_lowhigh']=='high') & \n",
    "                                          (df_all['Neurod1_lowhigh']=='high') & \n",
    "                                          (df_all['Arx_lowhigh']=='low') & \n",
    "                                          (df_all['Pax4_lowhigh']=='high')& \n",
    "                                          (df_all['Ghrl_lowhigh']=='low')].index, 'EC prog. (late)')\n",
    "\n",
    "adata, df_all = rename_cluster(adata, df_all, cluster_key, df_all[((df_all['Neurog3_lowhigh']=='high')|(df_all['Neurod1_lowhigh']=='high')) & \n",
    "                                          ((df_all['Arx_lowhigh']=='high')|\n",
    "                                          (df_all['Pax4_lowhigh']=='high'))& \n",
    "                                          (df_all['Ghrl_lowhigh']!='low')].index, 'EEC prog. (late/Peptide)')\n",
    "\n",
    "adata, df_all = rename_cluster(adata, df_all, cluster_key, df_all[(df_all['Neurog3_lowhigh']=='low') & (df_all['Sct_lowhigh']!='low') & \n",
    "                                          (df_all['Neurod1_lowhigh']=='high') & \n",
    "                                          (df_all['Isl1_lowhigh']=='high')].index, 'EEC (Peptide/immature)')\n",
    "\n",
    "\n",
    "# adata, df_all = rename_cluster(adata, df_all, cluster_key, df_all[(df_all['Neurog3_lowhigh']=='low') & \n",
    "#                                           (df_all['Isl1_lowhigh']=='high')].index, 'Other Endocrine')\n",
    "\n",
    "\n",
    "# adata, df_all = rename_cluster(adata, df_all, cluster_key, df_all[(df_all['Sct_lowhigh']=='high')].index, 'S-cell (Sct+)')\n",
    "\n",
    "\n",
    "adata, df_all = rename_cluster(adata, df_all, cluster_key, df_all[(df_all['Sst_lowhigh']=='high') & \n",
    "                                                                  ((df_all['Neurod1_lowhigh']=='high')|(df_all['Isl1_lowhigh']=='high'))].index, 'D-cell (Sst+)')\n",
    "\n",
    "\n",
    "adata, df_all = rename_cluster(adata, df_all, cluster_key, df_all[(df_all['Cck_lowhigh']=='high')].index, 'L/I-cell (Glp1+/Cck+)')\n",
    "\n",
    "\n",
    "adata, df_all = rename_cluster(adata, df_all, cluster_key, df_all[(df_all['Gip_lowhigh']=='high')].index, 'K-cell (Gip+)')\n",
    "\n",
    "\n",
    "adata, df_all = rename_cluster(adata, df_all, cluster_key, df_all[(df_all['Gcg_lowhigh']=='high') &\n",
    "                                                                  (df_all['Cck_lowhigh']=='low')].index, 'L-cell (Glp1+)')\n",
    "\n",
    "\n",
    "adata, df_all = rename_cluster(adata, df_all, cluster_key, df_all[(df_all['Ghrl_lowhigh']=='high')].index, 'X-cell (Ghrl+)')\n",
    "\n",
    "\n",
    "#adata, df_all = rename_cluster(adata, df_all, cluster_key, df_all[(df_all['fp_EEC_lowhigh']=='low') & \n",
    "#                                          (df_all['fp_Goblet_lowhigh']=='high')].index, 'Goblet prog. (early)')\n",
    "\n",
    "\n",
    "adata, df_all = rename_cluster(adata, df_all, cluster_key, df_all[(df_all['Muc2_lowhigh']!='low') & \n",
    "                                          (df_all['Lyz1_lowhigh']=='low') & (df_all['Dll1_lowhigh']!='low')& (df_all['Spdef_lowhigh']=='high')].index, 'Goblet prog. (late)')\n",
    "\n",
    "\n",
    "adata, df_all = rename_cluster(adata, df_all, cluster_key, df_all[(df_all['Muc2_lowhigh']=='high') & \n",
    "                                          (df_all['Lyz1_lowhigh']!='high') ].index, 'Goblet') #& (df_all['Dll1_lowhigh']!='high')\n",
    "\n",
    "adata, df_all = rename_cluster(adata, df_all, cluster_key, df_all[(df_all['Muc2_lowhigh']=='high') & (df_all['Dll1_lowhigh']=='low') \n",
    "                                                                  & (df_all['Golm1_lowhigh']=='low') ].index, 'Goblet2')\n",
    "\n",
    "\n",
    "adata, df_all = rename_cluster(adata, df_all, cluster_key, df_all[(df_all['Pou2f3_lowhigh']=='high') & \n",
    "                                          (df_all['Sox4_lowhigh']=='high')].index, 'Tuft prog. (early)')\n",
    "\n",
    "adata, df_all = rename_cluster(adata, df_all, cluster_key, df_all[(df_all['Pou2f3_lowhigh']!='low') & \n",
    "                                          (df_all['Sox4_lowhigh']!='low')].index, 'Tuft prog.')\n",
    "\n",
    "\n",
    "adata, df_all = rename_cluster(adata, df_all, cluster_key, df_all[(df_all['Dclk1_lowhigh']=='mid') & \n",
    "                                          (df_all['Sox4_lowhigh']=='mid')].index, 'Tuft prog. (late)')\n",
    "\n",
    "\n",
    "adata, df_all = rename_cluster(adata, df_all, cluster_key, df_all[(df_all['Dclk1_lowhigh']=='high') & \n",
    "                                          (df_all['Sox4_lowhigh']=='low')].index, 'Tuft')\n",
    "\n",
    "adata, df_all = rename_cluster(adata, df_all, cluster_key, df_all[(df_all['Olfm4_lowhigh']=='high') & \n",
    "                                          (df_all['Dmbt1_lowhigh']=='high')].index, 'TA')\n",
    "\n",
    "adata, df_all = rename_cluster(adata, df_all, cluster_key, df_all[(df_all['Arg2_lowhigh']!='low') & (df_all['Olfm4_lowhigh']=='high') &\n",
    "                                          (df_all['Dmbt1_lowhigh']!='low')].index, 'Enterocyte prog. (TA)')\n",
    "\n",
    "adata, df_all = rename_cluster(adata, df_all, cluster_key, df_all[(df_all['Ada_lowhigh']=='high') & \n",
    "                                                                  (df_all['Ccl25_lowhigh']=='high') & \n",
    "                                                                  (df_all['Olfm4_lowhigh']!='low') &\n",
    "                                          (df_all['Dmbt1_lowhigh']=='high')].index, 'TA (prox.))')\n",
    "\n",
    "#adata, df_all = rename_cluster(adata, df_all, cluster_key, df_all[(df_all['Arg2_lowhigh']=='high') & \n",
    "#                                          (df_all['Dmbt1_lowhigh']=='high')].index, 'Enterocyte prog. (TA)')\n",
    "\n",
    "\n",
    "adata, df_all = rename_cluster(adata, df_all, cluster_key, df_all[(df_all['Arg2_lowhigh']=='high') & \n",
    "                                          (df_all['Sis_lowhigh']=='mid')].index, 'early Enterocyte') \n",
    "\n",
    "adata, df_all = rename_cluster(adata, df_all, cluster_key, df_all[(df_all['Olfm4_lowhigh']=='mid') & \n",
    "                                          (df_all['Sis_lowhigh']!='low')& (df_all['Dmbt1_lowhigh']=='high')].index, 'Enterocyte2')\n",
    "\n",
    "\n",
    "adata, df_all = rename_cluster(adata, df_all, cluster_key, df_all[(df_all['Arg2_lowhigh']=='high') & \n",
    "                                          (df_all['Sis_lowhigh']=='high')].index, 'Enterocyte')\n",
    "\n",
    "adata, df_all = rename_cluster(adata, df_all, cluster_key, df_all[(df_all['Tff2_lowhigh']=='high') & \n",
    "                                          (df_all['Muc1_lowhigh']=='high')& \n",
    "                                          (df_all['Dmbt1_lowhigh']!='low')& \n",
    "                                          (df_all['Ctse_lowhigh']=='high')].index, 'M cells')"
   ]
  },
  {
   "cell_type": "code",
   "execution_count": null,
   "metadata": {
    "execution": {
     "iopub.execute_input": "2024-05-22T21:41:28.152985Z",
     "iopub.status.busy": "2024-05-22T21:41:28.152551Z",
     "iopub.status.idle": "2024-05-22T21:41:28.158314Z",
     "shell.execute_reply": "2024-05-22T21:41:28.157860Z",
     "shell.execute_reply.started": "2024-05-22T21:41:28.152970Z"
    }
   },
   "outputs": [],
   "source": [
    "adata = annotate_cluster(adata, cluster_key, annotation_key)"
   ]
  },
  {
   "cell_type": "code",
   "execution_count": null,
   "metadata": {},
   "outputs": [],
   "source": [
    "adata.obs[annotation_key].value_counts()"
   ]
  },
  {
   "cell_type": "code",
   "execution_count": null,
   "metadata": {},
   "outputs": [],
   "source": [
    "adata.obs[annotation_key] = adata.obs[annotation_key].astype(str)\n",
    "for cluster in clusters_manual:\n",
    "    adata.obs[annotation_key][adata.obs['leiden_13']==cluster] = clusters_manual_dict[cluster]"
   ]
  },
  {
   "cell_type": "code",
   "execution_count": null,
   "metadata": {
    "execution": {
     "iopub.execute_input": "2024-05-22T21:41:28.158978Z",
     "iopub.status.busy": "2024-05-22T21:41:28.158852Z",
     "iopub.status.idle": "2024-05-22T21:41:28.878709Z",
     "shell.execute_reply": "2024-05-22T21:41:28.878140Z",
     "shell.execute_reply.started": "2024-05-22T21:41:28.158965Z"
    }
   },
   "outputs": [],
   "source": [
    "with rc_context({'figure.figsize': (10,14)}):\n",
    "    sc.pl.umap(adata, color=[annotation_key], size=10, add_outline=True, alpha=1, outline_width=(0.3, 0.0), cmap = 'tab20c', legend_fontsize=10, legend_fontweight='heavy')"
   ]
  },
  {
   "cell_type": "code",
   "execution_count": null,
   "metadata": {},
   "outputs": [],
   "source": [
    "cat_list = set(adata.obs[annotation_key].values.tolist())\n"
   ]
  },
  {
   "cell_type": "code",
   "execution_count": null,
   "metadata": {},
   "outputs": [],
   "source": [
    "cat_list"
   ]
  },
  {
   "cell_type": "code",
   "execution_count": null,
   "metadata": {
    "execution": {
     "iopub.execute_input": "2024-05-22T21:42:54.337550Z",
     "iopub.status.busy": "2024-05-22T21:42:54.337122Z",
     "iopub.status.idle": "2024-05-22T21:42:54.343080Z",
     "shell.execute_reply": "2024-05-22T21:42:54.342248Z",
     "shell.execute_reply.started": "2024-05-22T21:42:54.337525Z"
    }
   },
   "outputs": [],
   "source": [
    "adata.obs[annotation_key] = adata.obs[annotation_key].cat.reorder_categories(['ISC', 'D-cell (Sst+)',\n",
    " 'EC (immature)', 'EC (mature)','EC 2','EEC (Peptide/immature)', 'EC prog. (late)', 'EEC prog. (late/Peptide)', 'EEC prog. (mid)',\n",
    " 'Enterocyte', 'early Enterocyte', 'Goblet', 'Goblet prog. (late)', 'Goblet/EEC prog. (early)', 'K-cell (Gip+)', 'L/I-cell (Glp1+/Cck+)', 'Paneth', 'Paneth prog.',\n",
    " 'Tuft', 'Tuft prog.', 'Tuft prog. 2', 'X-cell (Ghrl+)', 'TA', 'TA (prox.))',\n",
    " 'unknown0'])"
   ]
  },
  {
   "cell_type": "code",
   "execution_count": null,
   "metadata": {},
   "outputs": [],
   "source": [
    "adata.obs[annotation_key].cat.categories"
   ]
  },
  {
   "cell_type": "code",
   "execution_count": null,
   "metadata": {
    "ExecuteTime": {
     "end_time": "2023-11-20T00:00:15.853286Z",
     "start_time": "2023-11-20T00:00:15.824676Z"
    },
    "execution": {
     "iopub.execute_input": "2024-05-22T21:42:55.420288Z",
     "iopub.status.busy": "2024-05-22T21:42:55.419829Z",
     "iopub.status.idle": "2024-05-22T21:42:55.424999Z",
     "shell.execute_reply": "2024-05-22T21:42:55.424375Z",
     "shell.execute_reply.started": "2024-05-22T21:42:55.420258Z"
    }
   },
   "outputs": [],
   "source": [
    "adata.uns[annotation_key + '_colors'] = [    \n",
    "    '#d0d0d0',  # ISC (Grey)\n",
    "    '#6a51a3',  # D-cell (Sst+) (Red)\n",
    "    '#725dae',  # EC (immature) (Purple)\n",
    "    '#594495',  # EC (mature) (Blue)\n",
    "    '#cb181d',  # EC 2 (mature) (Blue) \n",
    "    '#6ec8c1',  # EEC (peptide/immature) (Teal)\n",
    "    '#afa3d5',  # EC prog. (late) (Lavender)\n",
    "    '#69a9cf',  # EEC prog. (late/Peptide) (Dark Teal)\n",
    "    '#9bc5df',  # EEC prog. (mid) (Medium Blue)\n",
    "    '#761925',  # Enterocyte (Light Green)\n",
    "    '#fc9272',  # early Enterocyte (Green)\n",
    "    #'#fb6a4a',  # early Enterocyte (Light Green) \n",
    "    #'#fcbba1',  # early Enterocyte prog. (TA) (Green)\n",
    "    #'#cb181d',  # Enterocyte2 (Cyan)\n",
    "    '#ec7014',  # Goblet (Dark Orange)\n",
    "    '#fec44f',  # Goblet prog. (late) (Orange)\n",
    "    #'#addd8e',  # Goblet-Paneth-like cells (Salmon)\n",
    "    '#fdd49e',  # Goblet/EEC prog. (early) (Light Orange)\n",
    "    #'#fdae6b',  # Goblet2 (different Orange)\n",
    "    '#74a9cf',  # K-cell (Gip+) (Blue)\n",
    "    '#d0d1e6',  # L/I-cell (Glp1+/Cck+) (Light Green)\n",
    "    #'#ffeda0',  # M cells (Light Purple)\n",
    "    '#238b45',  # Paneth (Medium Purple)\n",
    "    '#fb6a4a',  # Paneth prog. (Dark Purple) \n",
    "    #'#41ae76',  # Paneth2 (Lavender)\n",
    "    '#ce1256',  # Tuft (Dark Red)\n",
    "    '#e7298a',  # Tuft prog. (Light Red)\n",
    "    '#df65b0',  # Tuft prog. 2 (Red)\n",
    "    '#368cbf',  # X-cell (Ghrl+) (Teal)\n",
    "    '#fee0d2',  # TA (Gold)\n",
    "    '#ccece6',  # TA prox (Gold) \n",
    "    '#ac9470',  # unknown0 (Light Brown)\n",
    "    ]"
   ]
  },
  {
   "cell_type": "code",
   "execution_count": null,
   "metadata": {
    "ExecuteTime": {
     "end_time": "2023-11-20T00:00:16.589617Z",
     "start_time": "2023-11-20T00:00:15.855184Z"
    },
    "execution": {
     "iopub.execute_input": "2024-05-22T21:42:57.138802Z",
     "iopub.status.busy": "2024-05-22T21:42:57.138477Z",
     "iopub.status.idle": "2024-05-22T21:42:57.855051Z",
     "shell.execute_reply": "2024-05-22T21:42:57.854579Z",
     "shell.execute_reply.started": "2024-05-22T21:42:57.138773Z"
    }
   },
   "outputs": [],
   "source": [
    "with rc_context({'figure.figsize': (10,14)}):\n",
    "    sc.pl.umap(adata, color=[annotation_key], size=8, add_outline=True, alpha=1, outline_width=(0.3, 0.0), layer='log_dca_counts', wspace=1, save = 'umap_lv1_cell_type_annotation.png')"
   ]
  },
  {
   "cell_type": "code",
   "execution_count": null,
   "metadata": {
    "execution": {
     "iopub.execute_input": "2024-05-22T21:43:42.451142Z",
     "iopub.status.busy": "2024-05-22T21:43:42.450861Z",
     "iopub.status.idle": "2024-05-22T21:43:43.337746Z",
     "shell.execute_reply": "2024-05-22T21:43:43.337236Z",
     "shell.execute_reply.started": "2024-05-22T21:43:42.451118Z"
    }
   },
   "outputs": [],
   "source": [
    "sc.pl.umap(adata[adata.obs[annotation_key].isin(['Goblet/EEC prog. (early)','D-cell (Sst+)', 'EC (immature)', 'EC (mature)', 'EC 2',\n",
    "       'EEC (Peptide/immature)', 'EC prog. (late)', 'EEC prog. (late/Peptide)',\n",
    "       'EEC prog. (mid)','EEC (peptide)', 'EEC prog. (mid)', 'EEC prog. (late/Peptide)', 'EEC prog. (late/EC)','EC (immature)','EC (mature)', \n",
    "                                                                          'D-cell (Sst+)', 'I-cell (Cck+)', 'K-cell (Gip+)','L-cell (Glp1+)','X-cell (Ghrl+)','L/I-cell (Glp1+/Cck+)','Other Endocrine'])], \n",
    "           color=[annotation_key,cluster_key], size=7, wspace=0.5, add_outline=True, alpha=1, outline_width=(0.3, 0.0),title =[' fine grained cell type', 'leiden 14 subclusters'])"
   ]
  },
  {
   "cell_type": "markdown",
   "metadata": {},
   "source": [
    "# Save AnnData"
   ]
  },
  {
   "cell_type": "code",
   "execution_count": null,
   "metadata": {
    "execution": {
     "iopub.execute_input": "2024-05-22T21:45:01.096872Z",
     "iopub.status.busy": "2024-05-22T21:45:01.096568Z",
     "iopub.status.idle": "2024-05-22T21:45:01.100616Z",
     "shell.execute_reply": "2024-05-22T21:45:01.099991Z",
     "shell.execute_reply.started": "2024-05-22T21:45:01.096846Z"
    }
   },
   "outputs": [],
   "source": [
    "adata.obsm['X_umap_scANVI'] = adata.obsm['X_umap'].copy()"
   ]
  },
  {
   "cell_type": "code",
   "execution_count": null,
   "metadata": {
    "ExecuteTime": {
     "end_time": "2023-11-20T00:27:25.565691Z",
     "start_time": "2023-11-20T00:23:49.877326Z"
    },
    "execution": {
     "iopub.execute_input": "2024-05-22T21:45:01.143213Z",
     "iopub.status.busy": "2024-05-22T21:45:01.142671Z",
     "iopub.status.idle": "2024-05-22T21:45:38.236269Z",
     "shell.execute_reply": "2024-05-22T21:45:38.235664Z",
     "shell.execute_reply.started": "2024-05-22T21:45:01.143189Z"
    }
   },
   "outputs": [],
   "source": [
    "adata.write('adata_markedDoublets_mergedPeaks_normalized_initialAnno_rmDoublets_integrated_imputed_annotated.h5ad')"
   ]
  },
  {
   "cell_type": "code",
   "execution_count": null,
   "metadata": {},
   "outputs": [],
   "source": [
    "adata = sc.read_h5ad('adata_markedDoublets_mergedPeaks_normalized_initialAnno_rmDoublets_integrated_imputed_annotated.h5ad')"
   ]
  },
  {
   "cell_type": "code",
   "execution_count": null,
   "metadata": {},
   "outputs": [],
   "source": [
    "gc.collect()"
   ]
  },
  {
   "cell_type": "markdown",
   "metadata": {},
   "source": [
    "## run Delegate again"
   ]
  },
  {
   "cell_type": "code",
   "execution_count": null,
   "metadata": {},
   "outputs": [],
   "source": [
    "results = run_DElegate_findMarkers(adata, \n",
    "                        layer = 'raw_counts', \n",
    "                        group_column = 'cell_type_annotation_lv1', \n",
    "                        replicate_column = None, \n",
    "                        method = \"edger\", \n",
    "                        min_rate = 0.05,\n",
    "                        min_fc = 1,\n",
    "                        verbosity = 1, \n",
    "                        n_core = 20, \n",
    "                        max_memory = 4)"
   ]
  },
  {
   "cell_type": "code",
   "execution_count": null,
   "metadata": {},
   "outputs": [],
   "source": [
    "results[\"group1\"].value_counts()"
   ]
  },
  {
   "cell_type": "code",
   "execution_count": null,
   "metadata": {},
   "outputs": [],
   "source": [
    "len(set(adata.obs['cell_type_annotation_lv1']))"
   ]
  },
  {
   "cell_type": "code",
   "execution_count": null,
   "metadata": {},
   "outputs": [],
   "source": [
    "import os\n",
    "for cluster in set(adata.obs['cell_type_annotation_lv1']):\n",
    "    print(cluster) \n",
    "    if os.path.exists(f'/mnt/hdd/Notebooks/Gut_project/Figures/umapcluster{cluster}_Delegate_markers_scANVI_sub_round2.png'):\n",
    "        continue\n",
    "    try: \n",
    "        cluster_orig = cluster\n",
    "        cluster = str(cluster).replace(\" \",\"_\").replace(\"-\",'_')\n",
    "        if os.path.exists(f'/mnt/hdd/Notebooks/Gut_project/Figures/umapcluster{cluster}_Delegate_markers_scANVI_sub_round2.png'):\n",
    "            continue\n",
    "        print(cluster) \n",
    "        sc.pl.umap(adata, color=list(results.loc[results['group1']==cluster,\"feature\"][0:10]), layer='log_dca_counts', size=10, add_outline=True, alpha=0.7, outline_width=(0.3, 0.0), ncols=5, show=False , save = f'cluster{cluster}_Delegate_markers_scANVI_sub_round2.png')\n",
    "    except:\n",
    "        cluster = str(cluster_orig).replace(\" \",\"_\").replace(\"-\",'_')\n",
    "        cluster2 = cluster.replace('.','')\n",
    "        cluster2 = cluster2.replace('/','_')\n",
    "        if os.path.exists(f'/mnt/hdd/Notebooks/Gut_project/Figures/umapcluster{cluster2}_Delegate_markers_scANVI_sub_round2.png'):\n",
    "            continue\n",
    "        print(cluster2)\n",
    "        sc.pl.umap(adata, color=list(results.loc[results['group1']==cluster,\"feature\"][0:10]), layer='log_dca_counts', size=10, add_outline=True, alpha=0.7, outline_width=(0.3, 0.0), ncols=5, show=False , save = f'cluster{cluster2}_Delegate_markers_scANVI_sub_round2.png')\n"
   ]
  },
  {
   "cell_type": "code",
   "execution_count": null,
   "metadata": {},
   "outputs": [],
   "source": [
    "adata.obs['leiden_14'].value_counts()"
   ]
  },
  {
   "cell_type": "markdown",
   "metadata": {},
   "source": [
    "### relabel unknown und goblet-paneth-like cells"
   ]
  },
  {
   "cell_type": "code",
   "execution_count": null,
   "metadata": {},
   "outputs": [],
   "source": [
    "adata.obs['cell_type_annotation_lv1'] = adata.obs['cell_type_annotation_lv1'].apply(\n",
    "    lambda x: 'Paneth' if x == 'unknown0' else x\n",
    ")"
   ]
  },
  {
   "cell_type": "code",
   "execution_count": null,
   "metadata": {},
   "outputs": [],
   "source": [
    "sc.tl.leiden(adata)"
   ]
  },
  {
   "cell_type": "code",
   "execution_count": null,
   "metadata": {},
   "outputs": [],
   "source": [
    "sc.pl.umap(adata,color='leiden', size=10,legend_loc='on data')"
   ]
  },
  {
   "cell_type": "code",
   "execution_count": null,
   "metadata": {},
   "outputs": [],
   "source": [
    "leiden_in = 'leiden'\n",
    "leiden_out = 'leiden_2'\n",
    "restrict_to = ['0','1','13','18','14','7']\n",
    "resolution = 0.1\n",
    "layer = 'log_dca_counts'\n",
    "genes = ['Sox9','Atoh1','Foxa2','Dll1','Spdef','Muc2','Lyz1','Hmgb2']"
   ]
  },
  {
   "cell_type": "code",
   "execution_count": null,
   "metadata": {},
   "outputs": [],
   "source": [
    "sc.tl.leiden(adata, restrict_to=(leiden_in, restrict_to), resolution=resolution, key_added=leiden_out)"
   ]
  },
  {
   "cell_type": "code",
   "execution_count": null,
   "metadata": {},
   "outputs": [],
   "source": [
    "sc.pl.umap(adata[adata.obs[leiden_in].isin(restrict_to)], color=[leiden_out, 'sequencing', 'phase'] + genes, layer=layer, size=20, add_outline=True, alpha=1, outline_width=(0.3, 0.0), legend_fontsize=6, ncols=4)"
   ]
  },
  {
   "cell_type": "code",
   "execution_count": null,
   "metadata": {},
   "outputs": [],
   "source": [
    "adata.obs['leiden_2'].value_counts()"
   ]
  },
  {
   "cell_type": "code",
   "execution_count": null,
   "metadata": {},
   "outputs": [],
   "source": [
    "leiden_in = 'leiden_2'\n",
    "leiden_out = 'leiden_3'\n",
    "restrict_to = ['0-1-13-18-14-7,0','0-1-13-18-14-7,1']\n",
    "resolution = 0.4\n",
    "genes = ['Sox9','Atoh1','Foxa2','Dll1','Spdef','Muc2','Lyz1','Hmgb2']"
   ]
  },
  {
   "cell_type": "code",
   "execution_count": null,
   "metadata": {},
   "outputs": [],
   "source": [
    "sc.tl.leiden(adata, restrict_to=(leiden_in, restrict_to), resolution=resolution, key_added=leiden_out)"
   ]
  },
  {
   "cell_type": "code",
   "execution_count": null,
   "metadata": {},
   "outputs": [],
   "source": [
    "sc.pl.umap(adata[adata.obs[leiden_in].isin(restrict_to)], color=[leiden_out, 'sequencing', 'phase'] + genes, layer=layer, size=3, add_outline=True, alpha=1, outline_width=(0.3, 0.0), legend_fontsize=6, ncols=4)"
   ]
  },
  {
   "cell_type": "code",
   "execution_count": null,
   "metadata": {},
   "outputs": [],
   "source": [
    "adata.obs['leiden_3'].value_counts()"
   ]
  },
  {
   "cell_type": "code",
   "execution_count": null,
   "metadata": {},
   "outputs": [],
   "source": [
    "leiden_in = 'leiden_3'\n",
    "leiden_out = 'leiden_4'\n",
    "restrict_to = ['0-1-13-18-14-7,0-0-1-13-18-14-7,1,3']\n",
    "resolution = 0.2\n",
    "genes = ['Sox9','Atoh1','Foxa2','Dll1','Spdef','Muc2','Lyz1','Hmgb2']"
   ]
  },
  {
   "cell_type": "code",
   "execution_count": null,
   "metadata": {},
   "outputs": [],
   "source": [
    "sc.tl.leiden(adata, restrict_to=(leiden_in, restrict_to), resolution=resolution, key_added=leiden_out)"
   ]
  },
  {
   "cell_type": "code",
   "execution_count": null,
   "metadata": {},
   "outputs": [],
   "source": [
    "sc.pl.umap(adata[adata.obs[leiden_in].isin(restrict_to)], color=[leiden_out, 'sequencing', 'phase'] + genes, layer=layer, size=7, add_outline=True, alpha=1, outline_width=(0.3, 0.0), legend_fontsize=6, ncols=4)"
   ]
  },
  {
   "cell_type": "code",
   "execution_count": null,
   "metadata": {},
   "outputs": [],
   "source": [
    "clusters_manual=['0-1-13-18-14-7,2','0-1-13-18-14-7,0-0-1-13-18-14-7,1,3,3','0-1-13-18-14-7,0-0-1-13-18-14-7,1,4','0-1-13-18-14-7,0-0-1-13-18-14-7,1,3,0','0-1-13-18-14-7,0-0-1-13-18-14-7,1,3,2','0-1-13-18-14-7,0-0-1-13-18-14-7,1,3,1']"
   ]
  },
  {
   "cell_type": "code",
   "execution_count": null,
   "metadata": {},
   "outputs": [],
   "source": [
    "clusters_manual_dict = {'0-1-13-18-14-7,2':'Paneth prog.',\n",
    "                        '0-1-13-18-14-7,0-0-1-13-18-14-7,1,3,0':'Paneth prog.',\n",
    "                        '0-1-13-18-14-7,0-0-1-13-18-14-7,1,3,3':'Goblet-Paneth-like(cycling)',\n",
    "                        '0-1-13-18-14-7,0-0-1-13-18-14-7,1,3,2':'Paneth',\n",
    "                        '0-1-13-18-14-7,0-0-1-13-18-14-7,1,3,1':'Paneth',\n",
    "                        '0-1-13-18-14-7,0-0-1-13-18-14-7,1,4':'Goblet-Paneth-like'}"
   ]
  },
  {
   "cell_type": "code",
   "execution_count": null,
   "metadata": {},
   "outputs": [],
   "source": [
    "adata.obs['cell_type_annotation_lv1'] = adata.obs['cell_type_annotation_lv1'].astype(str)"
   ]
  },
  {
   "cell_type": "code",
   "execution_count": null,
   "metadata": {},
   "outputs": [],
   "source": [
    "adata.obs['cell_type_annotation_lv1'].value_counts()"
   ]
  },
  {
   "cell_type": "code",
   "execution_count": null,
   "metadata": {},
   "outputs": [],
   "source": [
    "for cluster in clusters_manual:\n",
    "    adata.obs['cell_type_annotation_lv1'][adata.obs['leiden_4']==cluster] = clusters_manual_dict[cluster]"
   ]
  },
  {
   "cell_type": "code",
   "execution_count": null,
   "metadata": {},
   "outputs": [],
   "source": [
    "adata.uns['cell_type_annotation_lv1' + '_colors'] =[\n",
    "    '#d0d0d0',  # ISC\n",
    " '#eebcbc',  # TA\n",
    " '#fee0d2',  # TA prox\n",
    " '#c67a84',  # early Enterocyte\n",
    " '#bb4353',  # Enterocyte\n",
    " '#eca4d0',  # Tuft prog.\n",
    " '#df65b0',  # Tuft prog. 2\n",
    " '#e7298a',  # Tuft\n",
    " '#f9e1f4',  # Goblet/EEC prog.\n",
    " '#d9edf7',  # EEC prog\n",
    " '#85c6e6',  # EEC prog. (late/Peptide)\n",
    " '#46a8d9',  # EEC (peptide/immature)\n",
    " '#339a98',  # X-cell (Ghrl+)\n",
    " '#368cbf',  # K-cell (Gip+)\n",
    " '#5a72dd',  # L/I-cell (Glp1+/Cck+)\n",
    " '#243dae',  # D-cell (Sst+)\n",
    " '#d0d1e6',  # EC prog.\n",
    " '#aa9dce',  # EC (imm.)\n",
    " '#594495',  # EC (mature)\n",
    " '#725dae',  # EC 2\n",
    " '#fec44f',  # Goblet prog.\n",
    " '#dd894e',  # Goblet\n",
    " '#cedf76',   #Goblet-Paneth-like \n",
    " '#7BB98F',   #Goblet-Paneth-like (cycling) \n",
    " '#d5f4c5',  # Paneth prog.\n",
    " '#238b45',  # Paneth\n",
    "]"
   ]
  },
  {
   "cell_type": "code",
   "execution_count": null,
   "metadata": {},
   "outputs": [],
   "source": [
    "annotation_key = 'cell_type_annotation_lv1'"
   ]
  },
  {
   "cell_type": "code",
   "execution_count": null,
   "metadata": {},
   "outputs": [],
   "source": [
    "adata.obs[annotation_key] = adata.obs[annotation_key].astype('category')"
   ]
  },
  {
   "cell_type": "code",
   "execution_count": null,
   "metadata": {},
   "outputs": [],
   "source": [
    "adata.obs[annotation_key] = adata.obs[annotation_key].cat.reorder_categories(['ISC', 'TA', 'TA (prox.))', 'early Enterocyte', 'Enterocyte', \n",
    "'Tuft prog.', 'Tuft prog. 2', 'Tuft', \n",
    "'Goblet/EEC prog. (early)', 'EEC prog. (mid)', 'EEC prog. (late/Peptide)', 'EEC (Peptide/immature)', 'X-cell (Ghrl+)',  'K-cell (Gip+)', 'L/I-cell (Glp1+/Cck+)', 'D-cell (Sst+)',\n",
    "'EC prog. (late)', 'EC (immature)', 'EC (mature)','EC 2', \n",
    " 'Goblet prog. (late)', 'Goblet', 'Goblet-Paneth-like', 'Goblet-Paneth-like(cycling)', 'Paneth prog.', 'Paneth'])#, 'unknown0' ])"
   ]
  },
  {
   "cell_type": "code",
   "execution_count": null,
   "metadata": {},
   "outputs": [],
   "source": [
    "sc.pl.umap(adata,color=['cell_type_annotation_lv1'],size=5)"
   ]
  },
  {
   "cell_type": "code",
   "execution_count": null,
   "metadata": {},
   "outputs": [],
   "source": [
    "with rc_context({'figure.figsize':(7,8)}):  \n",
    "    sc.pl.umap(adata,color=['cell_type_annotation_lv1'],title= 'Fine cell type annotation level 1',size=4, legend_fontsize=11, save= 'healthy_UMAP_adjusted_cellt_type_anno_1.png')"
   ]
  },
  {
   "cell_type": "markdown",
   "metadata": {},
   "source": [
    "## correct metadata"
   ]
  },
  {
   "cell_type": "code",
   "execution_count": null,
   "metadata": {},
   "outputs": [],
   "source": [
    "def read_excel_metadata(path, ix_col=None):\n",
    "    metadata = pd.read_excel(path, index_col=ix_col)\n",
    "    #print(metadata)\n",
    "    return metadata     "
   ]
  },
  {
   "cell_type": "code",
   "execution_count": null,
   "metadata": {},
   "outputs": [],
   "source": [
    "import pandas as pd"
   ]
  },
  {
   "cell_type": "code",
   "execution_count": null,
   "metadata": {},
   "outputs": [],
   "source": [
    "## add metadata\n",
    "metadata_df =read_excel_metadata(f'/mnt/hdd/data/metadata_mouse_gut.xlsx')\n",
    "# Ensure folder name is the index in metadata for easier access\n",
    "metadata_df.drop(metadata_df[metadata_df['kit'] == 'Multiome_ATAC_v1'].index, inplace=True)\n",
    "#metadata_df.drop(metadata_df[metadata_df['condition'].isin(['Ctr','Ctr/WT'])].index, inplace=True)\n",
    "metadata_df.set_index('folder name', inplace=True)\n",
    "metadata_df.drop(['Sample Pooling - confounded with Project?','date','Project Name','Link_id','sample name','Cell Count [cells/µl]','Viable Cells [%]','Lib. Concentration [ng/µl]','Lib. Molarity [nM]','Average Lib. Size [bp]','cDNA Cycles','Lib. Cycles','10x Sample Index','Sequencing Depth [reads/cell]','exclusion, reason'], axis=1, inplace=True)"
   ]
  },
  {
   "cell_type": "code",
   "execution_count": null,
   "metadata": {},
   "outputs": [],
   "source": [
    "# Function to update adata.obs with metadata using a lambda function\n",
    "for col in metadata_df.columns:\n",
    "    try:\n",
    "        adata.obs[col] = adata.obs['sample'].apply(lambda x: metadata_df.at[x, col])\n",
    "    except KeyError as err:\n",
    "        print(f'no such key: {err} in col {col}')"
   ]
  },
  {
   "cell_type": "code",
   "execution_count": null,
   "metadata": {},
   "outputs": [],
   "source": [
    "adata.obs.drop(['sample number Minas'],axis=1,inplace=True)"
   ]
  },
  {
   "cell_type": "markdown",
   "metadata": {},
   "source": [
    "## Marker Gene Expression"
   ]
  },
  {
   "cell_type": "code",
   "execution_count": null,
   "metadata": {},
   "outputs": [],
   "source": [
    "adata"
   ]
  },
  {
   "cell_type": "code",
   "execution_count": null,
   "metadata": {},
   "outputs": [],
   "source": [
    "from anndata._io.specs import read_elem\n",
    "with h5py.File('/mnt/hdd/data/Healthy/adata_markedDoublets_normalized_initialAnno_rmDoublets_integrated_all.h5ad', 'r') as f:\n",
    "    # Read specific columns from `obs`\n",
    "    #sample_column = f['obs/sample'][:]\n",
    "    #n_counts_column = f['obs/n_counts'][:]\n",
    "    #https://github.com/scverse/anndata/issues/436:\n",
    "    #cell_types = read_elem(f[\"obs/celltype\"])\n",
    "    #umap = read_elem(f[\"obsm/X_umap\"])\n",
    "    logsct = read_elem(f[\"layers/sct_logcounts\"])"
   ]
  },
  {
   "cell_type": "code",
   "execution_count": null,
   "metadata": {},
   "outputs": [],
   "source": [
    "adata_sct = sc.read_h5ad('/mnt/hdd/data/Healthy/adata_markedDoublets_normalized_initialAnno_rmDoublets_integrated_all.h5ad')"
   ]
  },
  {
   "cell_type": "code",
   "execution_count": null,
   "metadata": {},
   "outputs": [],
   "source": [
    "genes = [name for name in adata.var_names]"
   ]
  },
  {
   "cell_type": "code",
   "execution_count": null,
   "metadata": {},
   "outputs": [],
   "source": [
    "adata_sct = adata_sct[:,genes]"
   ]
  },
  {
   "cell_type": "code",
   "execution_count": null,
   "metadata": {},
   "outputs": [],
   "source": [
    "adata.layers['sct_logcounts']=adata_sct.layers['sct_logcounts']"
   ]
  },
  {
   "cell_type": "code",
   "execution_count": null,
   "metadata": {},
   "outputs": [],
   "source": [
    "del adata_sct\n",
    "gc.collect()"
   ]
  },
  {
   "cell_type": "code",
   "execution_count": null,
   "metadata": {},
   "outputs": [],
   "source": [
    "group_by = 'cell_type_annotation_lv1'"
   ]
  },
  {
   "cell_type": "code",
   "execution_count": null,
   "metadata": {},
   "outputs": [],
   "source": [
    "del adata.raw"
   ]
  },
  {
   "cell_type": "code",
   "execution_count": null,
   "metadata": {},
   "outputs": [],
   "source": [
    "with rc_context({'figure.figsize':(8,8)}): \n",
    "    sc.pl.umap(adata, color=group_by, size=12, add_outline=True, alpha=1, outline_width=(0.3, 0.0), color_map=mymap, legend_fontsize=10)"
   ]
  },
  {
   "cell_type": "code",
   "execution_count": null,
   "metadata": {},
   "outputs": [],
   "source": [
    "with rc_context({'figure.figsize':(8,10)}): \n",
    "    sc.pl.umap(adata, color=group_by, size=5, add_outline=True, alpha=1, outline_width=(0.3, 0.0), layer='log_dca_counts',ncols=4, color_map=mymap, legend_loc='on data', legend_fontsize=10, legend_fontweight='heavy')"
   ]
  },
  {
   "cell_type": "code",
   "execution_count": null,
   "metadata": {},
   "outputs": [],
   "source": [
    "adata.write('adata_markedDoublets_mergedPeaks_normalized_initialAnno_rmDoublets_integrated_imputed_annotated_updated.h5ad')"
   ]
  },
  {
   "cell_type": "code",
   "execution_count": null,
   "metadata": {},
   "outputs": [],
   "source": [
    "marker_genes = ['Lgr5','Olfm4','Dmbt1','Arg2','Sis','Dclk1','Sox4','Pou2f3','Muc2','Dll1','Ccl25','Lyz1','Neurog3','Neurod1','Arx','Pax4','Spdef','Lmx1a','Reg4','Isl1','Sst','Gcg','Cck','Gip','Ghrl','Sct','Fev','Lbh', 'Rnase4','Ctse', 'Slc12a8','Reg1','Slc2a2','Ada', 'Golm1']"
   ]
  },
  {
   "cell_type": "code",
   "execution_count": null,
   "metadata": {},
   "outputs": [],
   "source": [
    "sc.pl.umap(adata, color=['Reg1', 'Tma7', 'Gpx2', 'Ccl25', 'Reg3a', 'Slc7a8', 'Slc2a2','Apob','Tbk1', 'Pkib','Nts', 'Ada', 'Cdh1', 'Lct','Alpi', 'Lbr','Ndc1','Prkdc','Mcm5', 'Gfi1', 'Klf4', 'Hspd1', 'Slc4a4','Pck1','Spink4','Pfkfb2', 'Fabp5', 'Rgs13', 'Cd44', 'Chga', 'Chgb', 'Stmn1'], layer='log_dca_counts', size=2, add_outline=True, alpha=1, outline_width=(0.3, 0.0), ncols=4, save = 'umapUmap_scANVI_5_markers_prox_dist_etc_corr.png')"
   ]
  },
  {
   "cell_type": "code",
   "execution_count": null,
   "metadata": {},
   "outputs": [],
   "source": [
    "with rc_context({'figure.figsize':(5,5)}): \n",
    "    sc.pl.umap(adata, color=marker_genes, layer='log_dca_counts', size=5, add_outline=True, alpha=1, outline_width=(0.3, 0.0), ncols=5, cmap=mymap, save = 'umapUmap_scANVI_NB5_markers.png')"
   ]
  },
  {
   "cell_type": "code",
   "execution_count": null,
   "metadata": {},
   "outputs": [],
   "source": [
    "sc.pl.umap(adata, color=['Tma7', 'Gpx2', 'Cdh1', 'Hspd1', 'Slc4a4','Tbk1','Reg3a', 'Slc7a8','Apob', 'Lct','Alpi', 'Lbr','Ndc1','Prkdc','Mcm5', 'Cd44', 'Stmn1','Gfi1', 'Klf4', 'Pck1', 'Spink4', 'Pfkfb2', 'Fabp5','Rgs13', 'Chga', 'Chgb','Pkib', 'Nts'], layer='log_dca_counts', size=2, add_outline=True, alpha=1, outline_width=(0.3, 0.0), cmap = mymap,ncols=5)"
   ]
  },
  {
   "cell_type": "code",
   "execution_count": null,
   "metadata": {},
   "outputs": [],
   "source": [
    "sc.pl.umap(adata, color=marker_genes, layer='log_dca_counts', size=7, add_outline=True, alpha=1, outline_width=(0.3, 0.0), ncols=5, show = False, save ='UMAP_markers_containing_M_cells_and_more_corr.png')"
   ]
  },
  {
   "cell_type": "code",
   "execution_count": null,
   "metadata": {},
   "outputs": [],
   "source": [
    "gc.collect()"
   ]
  },
  {
   "cell_type": "code",
   "execution_count": null,
   "metadata": {},
   "outputs": [],
   "source": [
    "sc.tl.dendrogram(adata, groupby=group_by, var_names=marker_genes, key_added='marker_gene_dendrogram')\n",
    "sc.pl.DotPlot(adata, var_names=marker_genes, groupby=group_by, standard_scale='var', cmap=mymap, layer='sct_logcounts', use_raw=False, categories_order=adata.uns['marker_gene_dendrogram']['categories_ordered']).style(color_on='square', dot_edge_lw=1, grid=True, dot_min=0.15, dot_edge_color=None).show()"
   ]
  },
  {
   "cell_type": "code",
   "execution_count": null,
   "metadata": {},
   "outputs": [],
   "source": [
    "sc.pl.dotplot(adata, var_names=marker_genes, dendrogram= 'marker_gene_dendrogram', groupby=group_by, standard_scale='var', cmap=mymap, layer='sct_logcounts', use_raw=False, show = False, save = 'Dotplot_markers_subclusters_logsct.png')"
   ]
  },
  {
   "cell_type": "code",
   "execution_count": null,
   "metadata": {},
   "outputs": [],
   "source": [
    "sc.tl.dendrogram(adata, groupby='leiden_13_save', var_names=marker_genes, key_added='marker_gene_dendrogram')"
   ]
  },
  {
   "cell_type": "code",
   "execution_count": null,
   "metadata": {},
   "outputs": [],
   "source": [
    "sc.pl.dotplot(adata, var_names=marker_genes, dendrogram= 'marker_gene_dendrogram', groupby='leiden_13_save', standard_scale='var', cmap=mymap, layer='sct_logcounts', use_raw=False, show = False, save = 'Dotplot_markers_subclusters_logsct_leiden.png')"
   ]
  },
  {
   "cell_type": "code",
   "execution_count": null,
   "metadata": {},
   "outputs": [],
   "source": [
    "gc.collect()"
   ]
  },
  {
   "cell_type": "markdown",
   "metadata": {},
   "source": [
    "### recalculation, load adata"
   ]
  },
  {
   "cell_type": "code",
   "execution_count": null,
   "metadata": {},
   "outputs": [],
   "source": [
    "adata= sc.read_h5ad('adata_markedDoublets_mergedPeaks_normalized_initialAnno_rmDoublets_integrated_imputed_annotated_updated.h5ad')"
   ]
  },
  {
   "cell_type": "code",
   "execution_count": null,
   "metadata": {},
   "outputs": [],
   "source": [
    "adata"
   ]
  }
 ],
 "metadata": {
  "kernelspec": {
   "display_name": "Python 3 (ipykernel)",
   "language": "python",
   "name": "python3"
  },
  "language_info": {
   "codemirror_mode": {
    "name": "ipython",
    "version": 3
   },
   "file_extension": ".py",
   "mimetype": "text/x-python",
   "name": "python",
   "nbconvert_exporter": "python",
   "pygments_lexer": "ipython3",
   "version": "3.10.14"
  },
  "toc": {
   "base_numbering": 1,
   "nav_menu": {},
   "number_sections": true,
   "sideBar": true,
   "skip_h1_title": false,
   "title_cell": "Table of Contents",
   "title_sidebar": "Contents",
   "toc_cell": false,
   "toc_position": {
    "height": "calc(100% - 180px)",
    "left": "10px",
    "top": "150px",
    "width": "268.833px"
   },
   "toc_section_display": true,
   "toc_window_display": true
  },
  "varInspector": {
   "cols": {
    "lenName": 16,
    "lenType": 16,
    "lenVar": 40
   },
   "kernels_config": {
    "python": {
     "delete_cmd_postfix": "",
     "delete_cmd_prefix": "del ",
     "library": "var_list.py",
     "varRefreshCmd": "print(var_dic_list())"
    },
    "r": {
     "delete_cmd_postfix": ") ",
     "delete_cmd_prefix": "rm(",
     "library": "var_list.r",
     "varRefreshCmd": "cat(var_dic_list()) "
    }
   },
   "types_to_exclude": [
    "module",
    "function",
    "builtin_function_or_method",
    "instance",
    "_Feature"
   ],
   "window_display": false
  }
 },
 "nbformat": 4,
 "nbformat_minor": 4
}
