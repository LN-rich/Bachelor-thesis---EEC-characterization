{
 "cells": [
  {
   "cell_type": "markdown",
   "metadata": {},
   "source": [
    "# Setup"
   ]
  },
  {
   "cell_type": "code",
   "execution_count": null,
   "metadata": {},
   "outputs": [],
   "source": [
    "# General\n",
    "import scipy as sci\n",
    "import numpy as np\n",
    "import pandas as pd\n",
    "import logging\n",
    "import time\n",
    "import pickle\n",
    "from itertools import chain\n",
    "import h5py\n",
    "import scipy.sparse as sparse\n",
    "import anndata as ad\n",
    "import scipy.stats as stats\n",
    "import gc\n",
    "\n",
    "# Plotting\n",
    "import matplotlib.pyplot as plt\n",
    "import matplotlib as mpl\n",
    "from matplotlib import rcParams\n",
    "from matplotlib import cm\n",
    "from matplotlib import colors\n",
    "from matplotlib.pyplot import rc_context\n",
    "import seaborn as sb\n",
    "from plotnine import *\n",
    "from adjustText import adjust_text\n",
    "import umap.umap_ as umap\n",
    "import pegasus as pg\n",
    "\n",
    "# Analysis\n",
    "import scanpy as sc\n",
    "\n",
    "# Warnings\n",
    "import warnings\n",
    "warnings.filterwarnings('ignore') #(action='once') \n",
    "\n",
    "sc.logging.print_versions()"
   ]
  },
  {
   "cell_type": "code",
   "execution_count": null,
   "metadata": {},
   "outputs": [],
   "source": [
    "# Batch correction\n",
    "import scvi\n",
    "#import scanorama\n",
    "#import harmonypy"
   ]
  },
  {
   "cell_type": "code",
   "execution_count": null,
   "metadata": {},
   "outputs": [],
   "source": [
    "# Colormap\n",
    "colors2 = plt.cm.Reds(np.linspace(0, 1, 128)) \n",
    "colors3 = plt.cm.Greys_r(np.linspace(0.7,0.8,20)) \n",
    "colorsComb = np.vstack([colors3, colors2]) \n",
    "mymap = colors.LinearSegmentedColormap.from_list('my_colormap', colorsComb)\n",
    "rcParams['figure.figsize']=(6,6)"
   ]
  },
  {
   "cell_type": "markdown",
   "metadata": {},
   "source": [
    "# Filter doublet cells"
   ]
  },
  {
   "cell_type": "code",
   "execution_count": null,
   "metadata": {},
   "outputs": [],
   "source": [
    "adata = sc.read('/mnt/hdd/data/GUT_concatenated.h5ad')"
   ]
  },
  {
   "cell_type": "code",
   "execution_count": null,
   "metadata": {},
   "outputs": [],
   "source": [
    "adata"
   ]
  },
  {
   "cell_type": "markdown",
   "metadata": {},
   "source": [
    "## Batch correction"
   ]
  },
  {
   "cell_type": "code",
   "execution_count": null,
   "metadata": {},
   "outputs": [],
   "source": [
    "sc.tl.pca(adata, n_comps = 80, svd_solver='arpack')"
   ]
  },
  {
   "cell_type": "code",
   "execution_count": null,
   "metadata": {},
   "outputs": [],
   "source": [
    "sc.pl.pca_variance_ratio(adata, log=True, n_pcs = 80)"
   ]
  },
  {
   "cell_type": "code",
   "execution_count": null,
   "metadata": {},
   "outputs": [],
   "source": [
    "sc.tl.pca(adata, n_comps = 50)"
   ]
  },
  {
   "cell_type": "markdown",
   "metadata": {},
   "source": [
    "### n_latent = 30, n_hidden = 512, n_layers = 2"
   ]
  },
  {
   "cell_type": "code",
   "execution_count": null,
   "metadata": {},
   "outputs": [],
   "source": [
    "scvi.model.SCVI.setup_anndata(\n",
    "    adata,\n",
    "    layer=\"raw_counts\",\n",
    "    batch_key='batch'\n",
    ")"
   ]
  },
  {
   "cell_type": "code",
   "execution_count": null,
   "metadata": {},
   "outputs": [],
   "source": [
    "model = scvi.model.SCVI(adata, dispersion = 'gene-batch')"
   ]
  },
  {
   "cell_type": "code",
   "execution_count": null,
   "metadata": {},
   "outputs": [],
   "source": [
    "model = scvi.model.SCVI(adata, n_latent = 30, n_hidden = 512, n_layers = 2, dispersion = 'gene-batch')"
   ]
  },
  {
   "cell_type": "code",
   "execution_count": null,
   "metadata": {},
   "outputs": [],
   "source": [
    "model"
   ]
  },
  {
   "cell_type": "code",
   "execution_count": null,
   "metadata": {},
   "outputs": [],
   "source": [
    "model.train(max_epochs = 250, early_stopping = True, enable_progress_bar=True)"
   ]
  },
  {
   "cell_type": "markdown",
   "metadata": {},
   "source": [
    "#### Check reconstruction loss"
   ]
  },
  {
   "cell_type": "code",
   "execution_count": null,
   "metadata": {},
   "outputs": [],
   "source": [
    "# plot reconstruction loss\n",
    "plt.plot(model.history['reconstruction_loss_train']['reconstruction_loss_train'], label='train')\n",
    "#plt.plot(model.history['reconstruction_loss_validation']['reconstruction_loss_validation'], label='validation')\n",
    "plt.legend()"
   ]
  },
  {
   "cell_type": "code",
   "execution_count": null,
   "metadata": {},
   "outputs": [],
   "source": [
    "latent = model.get_latent_representation()"
   ]
  },
  {
   "cell_type": "code",
   "execution_count": null,
   "metadata": {},
   "outputs": [],
   "source": [
    "adata.obsm[\"X_scVI_30_512_2\"] = latent"
   ]
  },
  {
   "cell_type": "code",
   "execution_count": null,
   "metadata": {},
   "outputs": [],
   "source": [
    "sc.pp.neighbors(adata, n_neighbors = 35, n_pcs = 30, use_rep=\"X_scVI_30_512_2\", metric='correlation')\n",
    "sc.tl.leiden(adata)\n",
    "sc.tl.umap(adata, min_dist=0.2)"
   ]
  },
  {
   "cell_type": "code",
   "execution_count": null,
   "metadata": {},
   "outputs": [],
   "source": [
    "sc.tl.leiden(adata, resolution = 2, key_added = 'leiden_2')\n",
    "sc.tl.leiden(adata, resolution = 3, key_added = 'leiden_3')"
   ]
  },
  {
   "cell_type": "code",
   "execution_count": null,
   "metadata": {},
   "outputs": [],
   "source": [
    "sc.pl.umap(adata, color= ['batch', 'leiden', 'leiden_2', 'leiden_3'], size=20, color_map=mymap, ncols=2)"
   ]
  },
  {
   "cell_type": "code",
   "execution_count": null,
   "metadata": {},
   "outputs": [],
   "source": [
    "import gc\n",
    "gc.collect()\n",
    "import torch\n",
    "torch.cuda.empty_cache()"
   ]
  },
  {
   "cell_type": "code",
   "execution_count": null,
   "metadata": {},
   "outputs": [],
   "source": [
    "adata.write('/mnt/hdd/data/GUT_concatenated_scvi30512.h5ad')"
   ]
  },
  {
   "cell_type": "markdown",
   "metadata": {},
   "source": [
    "## Filter doublet clusters"
   ]
  },
  {
   "cell_type": "code",
   "execution_count": null,
   "metadata": {},
   "outputs": [],
   "source": [
    "import pegasus as pg"
   ]
  },
  {
   "cell_type": "markdown",
   "metadata": {},
   "source": [
    "### Distribution in leiden clusters"
   ]
  },
  {
   "cell_type": "code",
   "execution_count": null,
   "metadata": {},
   "outputs": [],
   "source": [
    "pg.compo_plot(adata, 'leiden', 'doublet_calls', style = 'frequency',\n",
    "              sort_function=None, \n",
    "              palette=['#FFD700', '#FF7F50', '#8B0000', '#0000CD', '#6495ED', '#008080', '#B0C4DE', '#696969'], dpi = 150)"
   ]
  },
  {
   "cell_type": "code",
   "execution_count": null,
   "metadata": {},
   "outputs": [],
   "source": [
    "pg.compo_plot(adata, 'leiden_2', 'doublet_calls', style = 'frequency',\n",
    "              sort_function=None, \n",
    "              palette=['#FFD700', '#FF7F50', '#8B0000', '#0000CD', '#6495ED', '#008080', '#B0C4DE', '#696969'], dpi = 150)"
   ]
  },
  {
   "cell_type": "code",
   "execution_count": null,
   "metadata": {},
   "outputs": [],
   "source": [
    "pg.compo_plot(adata, 'leiden_3', 'doublet_calls', style = 'frequency',\n",
    "              sort_function=None, \n",
    "              palette=['#FFD700', '#FF7F50', '#8B0000', '#0000CD', '#6495ED', '#008080', '#B0C4DE', '#696969'], dpi = 150)"
   ]
  },
  {
   "cell_type": "code",
   "execution_count": null,
   "metadata": {},
   "outputs": [],
   "source": [
    "adata.obs.leiden.value_counts()"
   ]
  },
  {
   "cell_type": "code",
   "execution_count": null,
   "metadata": {},
   "outputs": [],
   "source": [
    "adata.obs.leiden_2.value_counts()"
   ]
  },
  {
   "cell_type": "code",
   "execution_count": null,
   "metadata": {},
   "outputs": [],
   "source": [
    "adata.obs.leiden_3.value_counts()"
   ]
  },
  {
   "cell_type": "code",
   "execution_count": null,
   "metadata": {},
   "outputs": [],
   "source": [
    "pd.set_option('display.max_columns', None)"
   ]
  },
  {
   "cell_type": "code",
   "execution_count": null,
   "metadata": {},
   "outputs": [],
   "source": [
    "doublets_3 = pd.DataFrame(pd.crosstab(adata.obs['leiden_3'], adata.obs['doublet_calls'], normalize = 'index'))\n",
    "doublets_3.style.highlight_max(color='lightgreen', axis = 1)"
   ]
  },
  {
   "cell_type": "markdown",
   "metadata": {},
   "source": [
    "### Filter - create object with doublets"
   ]
  },
  {
   "cell_type": "code",
   "execution_count": null,
   "metadata": {},
   "outputs": [],
   "source": [
    "adata[np.isin(adata.obs['leiden_3'], ['10', '17', '28'])].shape"
   ]
  },
  {
   "cell_type": "code",
   "execution_count": null,
   "metadata": {},
   "outputs": [],
   "source": [
    "adata_doublets = adata[np.isin(adata.obs['leiden_3'], ['10', '17', '28'])].copy()\n",
    "adata_doublets"
   ]
  },
  {
   "cell_type": "code",
   "execution_count": null,
   "metadata": {},
   "outputs": [],
   "source": [
    "adata = adata[np.isin(adata.obs['leiden_3'], ['10', '17', '28'], invert = True)].copy()\n",
    "adata"
   ]
  },
  {
   "cell_type": "markdown",
   "metadata": {},
   "source": [
    "### Recalculate UMAP"
   ]
  },
  {
   "cell_type": "code",
   "execution_count": null,
   "metadata": {},
   "outputs": [],
   "source": [
    "sc.pp.neighbors(adata, n_neighbors = 35, n_pcs = 30, use_rep='X_scVI_30_512_2', metric='correlation')\n",
    "sc.tl.umap(adata, min_dist = 0.2)"
   ]
  },
  {
   "cell_type": "code",
   "execution_count": null,
   "metadata": {},
   "outputs": [],
   "source": [
    "sc.tl.leiden(adata)\n",
    "sc.tl.leiden(adata, resolution = 2, key_added = 'leiden_2')\n",
    "sc.tl.leiden(adata, resolution = 3, key_added = 'leiden_3')"
   ]
  },
  {
   "cell_type": "code",
   "execution_count": null,
   "metadata": {},
   "outputs": [],
   "source": [
    "sc.pl.umap(adata, color= ['batch', 'leiden', 'leiden_2', 'doublet_calls'], size=20, color_map=mymap, ncols= 2)"
   ]
  },
  {
   "cell_type": "code",
   "execution_count": null,
   "metadata": {},
   "outputs": [],
   "source": [
    "pg.compo_plot(adata, 'leiden', 'doublet_calls', style = 'frequency',\n",
    "              sort_function=None, \n",
    "              palette=['#FFD700', '#FF7F50', '#8B0000', '#0000CD', '#6495ED', '#008080', '#B0C4DE', '#696969'], dpi = 150)"
   ]
  },
  {
   "cell_type": "code",
   "execution_count": null,
   "metadata": {},
   "outputs": [],
   "source": [
    "pg.compo_plot(adata, 'leiden_2', 'doublet_calls', style = 'frequency',\n",
    "              sort_function=None, \n",
    "              palette=['#FFD700', '#FF7F50', '#8B0000', '#0000CD', '#6495ED', '#008080', '#B0C4DE', '#696969'], dpi = 150)"
   ]
  },
  {
   "cell_type": "code",
   "execution_count": null,
   "metadata": {},
   "outputs": [],
   "source": [
    "pg.compo_plot(adata, 'leiden_3', 'doublet_calls', style = 'frequency',\n",
    "              sort_function=None, \n",
    "              palette=['#FFD700', '#FF7F50', '#8B0000', '#0000CD', '#6495ED', '#008080', '#B0C4DE', '#696969'], dpi = 150)"
   ]
  },
  {
   "cell_type": "code",
   "execution_count": null,
   "metadata": {},
   "outputs": [],
   "source": [
    "doublets_3 = pd.DataFrame(pd.crosstab(adata.obs['leiden_3'], adata.obs['doublet_calls'], normalize = 'index'))\n",
    "doublets_3.style.highlight_max(color='lightgreen', axis = 1)"
   ]
  },
  {
   "cell_type": "markdown",
   "metadata": {},
   "source": [
    "### Filter - all with doublet calls above 3"
   ]
  },
  {
   "cell_type": "code",
   "execution_count": null,
   "metadata": {},
   "outputs": [],
   "source": [
    "adata.obs.doublet_calls.value_counts()"
   ]
  },
  {
   "cell_type": "code",
   "execution_count": null,
   "metadata": {},
   "outputs": [],
   "source": [
    "adata_doublets_2 = adata[adata.obs['doublet_calls'] > 3].copy()\n",
    "adata_doublets_2"
   ]
  },
  {
   "cell_type": "code",
   "execution_count": null,
   "metadata": {},
   "outputs": [],
   "source": [
    "adata = adata[adata.obs['doublet_calls'] < 4].copy()\n",
    "adata"
   ]
  },
  {
   "cell_type": "markdown",
   "metadata": {},
   "source": [
    "### Append doublet objects"
   ]
  },
  {
   "cell_type": "code",
   "execution_count": null,
   "metadata": {},
   "outputs": [],
   "source": [
    "doublets = []\n",
    "doublets.append(adata_doublets)\n",
    "doublets.append(adata_doublets_2)"
   ]
  },
  {
   "cell_type": "code",
   "execution_count": null,
   "metadata": {},
   "outputs": [],
   "source": [
    "doublets"
   ]
  },
  {
   "cell_type": "code",
   "execution_count": null,
   "metadata": {},
   "outputs": [],
   "source": [
    "adata[adata.obs['doublet_calls'] > 3].shape"
   ]
  },
  {
   "cell_type": "code",
   "execution_count": null,
   "metadata": {},
   "outputs": [],
   "source": [
    "doublets = ad.AnnData.concatenate(\n",
    "    *doublets, join = 'inner',\n",
    "    batch_key = 'batch',\n",
    ").copy()"
   ]
  },
  {
   "cell_type": "code",
   "execution_count": null,
   "metadata": {},
   "outputs": [],
   "source": [
    "doublets"
   ]
  },
  {
   "cell_type": "markdown",
   "metadata": {},
   "source": [
    "### Save doublet object"
   ]
  },
  {
   "cell_type": "code",
   "execution_count": null,
   "metadata": {},
   "outputs": [],
   "source": [
    "doublets.write(('/mnt/hdd/data/Gut_WT_filtered_doublets.h5ad'))"
   ]
  },
  {
   "cell_type": "code",
   "execution_count": null,
   "metadata": {},
   "outputs": [],
   "source": [
    "del adata_doublets\n",
    "del adata_doublets_2\n",
    "del doublets"
   ]
  },
  {
   "cell_type": "markdown",
   "metadata": {},
   "source": [
    "### Recalculate UMAP"
   ]
  },
  {
   "cell_type": "code",
   "execution_count": null,
   "metadata": {},
   "outputs": [],
   "source": [
    "sc.pp.neighbors(adata, n_neighbors = 35, n_pcs = 30, use_rep='X_scVI_30_512_2', metric='correlation')\n",
    "sc.tl.umap(adata, min_dist = 0.2)"
   ]
  },
  {
   "cell_type": "code",
   "execution_count": null,
   "metadata": {},
   "outputs": [],
   "source": [
    "sc.tl.leiden(adata)"
   ]
  },
  {
   "cell_type": "code",
   "execution_count": null,
   "metadata": {},
   "outputs": [],
   "source": [
    "sc.pl.umap(adata, color= ['batch', 'leiden', 'doublet_calls'], size=20, color_map=mymap, ncols=2)"
   ]
  },
  {
   "cell_type": "markdown",
   "metadata": {},
   "source": [
    "## Save adata"
   ]
  },
  {
   "cell_type": "code",
   "execution_count": null,
   "metadata": {},
   "outputs": [],
   "source": [
    "adata.write('/mnt/hdd/data/GUT_concatenated_WT_corr.h5ad')"
   ]
  },
  {
   "cell_type": "markdown",
   "metadata": {},
   "source": [
    "# Initial cell type"
   ]
  },
  {
   "cell_type": "code",
   "execution_count": null,
   "metadata": {},
   "outputs": [],
   "source": [
    "# General\n",
    "import scipy as sci\n",
    "import numpy as np\n",
    "import pandas as pd\n",
    "import logging\n",
    "import time\n",
    "import pickle\n",
    "from itertools import chain\n",
    "import h5py\n",
    "import scipy.sparse as sparse\n",
    "import anndata as ad\n",
    "import scipy.stats as stats\n",
    "import gc\n",
    "\n",
    "# Plotting\n",
    "import matplotlib.pyplot as plt\n",
    "import matplotlib as mpl\n",
    "from matplotlib import rcParams\n",
    "from matplotlib import cm\n",
    "from matplotlib import colors\n",
    "from matplotlib.pyplot import rc_context\n",
    "import seaborn as sb\n",
    "from plotnine import *\n",
    "from adjustText import adjust_text\n",
    "import umap.umap_ as umap\n",
    "import pegasus as pg\n",
    "\n",
    "# Analysis\n",
    "import scanpy as sc\n",
    "\n",
    "# Warnings\n",
    "import warnings\n",
    "warnings.filterwarnings('ignore') #(action='once') \n",
    "\n",
    "#sc.logging.print_versions()"
   ]
  },
  {
   "cell_type": "code",
   "execution_count": null,
   "metadata": {},
   "outputs": [],
   "source": [
    "# Batch correction\n",
    "import scvi\n",
    "#import scanorama\n",
    "#import harmonypy"
   ]
  },
  {
   "cell_type": "code",
   "execution_count": null,
   "metadata": {},
   "outputs": [],
   "source": [
    "# Colormap\n",
    "colors2 = plt.cm.Reds(np.linspace(0, 1, 128)) \n",
    "colors3 = plt.cm.Greys_r(np.linspace(0.7,0.8,20)) \n",
    "colorsComb = np.vstack([colors3, colors2]) \n",
    "mymap = colors.LinearSegmentedColormap.from_list('my_colormap', colorsComb)\n",
    "rcParams['figure.figsize']=(6,6)"
   ]
  },
  {
   "cell_type": "markdown",
   "metadata": {},
   "source": [
    "## Samples"
   ]
  },
  {
   "cell_type": "code",
   "execution_count": null,
   "metadata": {},
   "outputs": [],
   "source": [
    "base_path = '/mnt/hdd/data'"
   ]
  },
  {
   "cell_type": "code",
   "execution_count": null,
   "metadata": {},
   "outputs": [],
   "source": [
    "adata = sc.read('/mnt/hdd/data/GUT_concatenated_WT_corr.h5ad')"
   ]
  },
  {
   "cell_type": "code",
   "execution_count": null,
   "metadata": {},
   "outputs": [],
   "source": [
    "adata"
   ]
  },
  {
   "cell_type": "code",
   "execution_count": null,
   "metadata": {},
   "outputs": [],
   "source": [
    "pg.compo_plot(adata, 'leiden', 'sample', style = 'frequency',\n",
    "              sort_function=None, dpi = 150)"
   ]
  },
  {
   "cell_type": "code",
   "execution_count": null,
   "metadata": {},
   "outputs": [],
   "source": [
    "sc.tl.rank_genes_groups(adata, groupby='leiden')"
   ]
  },
  {
   "cell_type": "markdown",
   "metadata": {},
   "source": [
    "## Azimuth cell types"
   ]
  },
  {
   "cell_type": "code",
   "execution_count": null,
   "metadata": {},
   "outputs": [],
   "source": [
    "import gseapy as gp"
   ]
  },
  {
   "cell_type": "code",
   "execution_count": null,
   "metadata": {},
   "outputs": [],
   "source": [
    "adata.obs['cell_type_azimuth'] = 'Unkown'\n",
    "for cluster in adata.obs['leiden'].cat.categories:\n",
    "    enriched = gp.enrichr(list(adata.uns['rank_genes_groups']['names'][cluster][:100]),\n",
    "                    gene_sets=['Azimuth_Cell_Types_2021'],\n",
    "                    outdir=None)\n",
    "    adata.obs.loc[adata.obs['leiden']==cluster,'cell_type_azimuth'] = enriched.results.sort_values('Combined Score', ascending=False).iloc[0,1].split(' CL')[0]\n",
    "    gp.dotplot(enriched.results, figsize=(6,5), cutoff = 0.1, title=cluster, cmap = plt.cm.turbo, top_term=5)\n",
    "    plt.show()\n",
    "    display(enriched.results.sort_values('Combined Score', ascending=False).iloc[0:5,:])"
   ]
  },
  {
   "cell_type": "markdown",
   "metadata": {},
   "source": [
    "## Marker genes"
   ]
  },
  {
   "cell_type": "code",
   "execution_count": null,
   "metadata": {},
   "outputs": [],
   "source": [
    "marker_genes = ['Lgr5','Mki67','Ascl2','Sis','Dclk1','Tff3','Neurod1','Tph1','Isl1','Epcam','Cd68',#'Cd19',\n",
    "                'Cd79a','Cd74',# 'Cd4',#'Cd8a',\n",
    "                #'Cd3g',\n",
    "                #'Mcpt2',\n",
    "                'Ephx2', 'Defa5', 'Defa23', 'Clca1', 'Scin'] \n",
    "#Adgre1, Cd4"
   ]
  },
  {
   "cell_type": "code",
   "execution_count": null,
   "metadata": {},
   "outputs": [],
   "source": [
    "sc.pl.umap(adata, color = marker_genes + ['doublets_shown', 'leiden'], color_map = mymap, size = 30)#, legend_loc = 'on data')"
   ]
  },
  {
   "cell_type": "code",
   "execution_count": null,
   "metadata": {},
   "outputs": [],
   "source": [
    "sc.pl.umap(adata, color = ['leiden'], color_map = mymap, size = 30, legend_loc = 'on data')"
   ]
  },
  {
   "cell_type": "code",
   "execution_count": null,
   "metadata": {},
   "outputs": [],
   "source": [
    "adata.var_names_make_unique()"
   ]
  },
  {
   "cell_type": "code",
   "execution_count": null,
   "metadata": {},
   "outputs": [],
   "source": [
    "adata.obs_names_make_unique()"
   ]
  },
  {
   "cell_type": "code",
   "execution_count": null,
   "metadata": {},
   "outputs": [],
   "source": [
    "pg.compo_plot(adata, 'leiden', 'doublet_calls', style = 'frequency',\n",
    "              sort_function=None, \n",
    "              palette=['#FFD700', '#FF7F50', '#8B0000', '#0000CD', '#6495ED', '#008080', '#B0C4DE', '#696969'], dpi = 150)"
   ]
  },
  {
   "cell_type": "code",
   "execution_count": null,
   "metadata": {},
   "outputs": [],
   "source": [
    "sc.set_figure_params(frameon=False, dpi = 80, dpi_save=300, color_map='viridis', vector_friendly=True, transparent=True)\n",
    "for _ in adata.obs['sample'].value_counts().index:\n",
    "    sc.pl.umap(adata, color='sample', groups=_, size = 8, add_outline=True)\n",
    "rcParams['figure.figsize']=(6,7)"
   ]
  },
  {
   "cell_type": "code",
   "execution_count": null,
   "metadata": {},
   "outputs": [],
   "source": [
    "sc.pl.DotPlot(adata, var_names =  marker_genes , groupby='leiden', standard_scale='var', \n",
    "              cmap=mymap, use_raw=False).style(color_on='square', dot_edge_lw=1, grid=True, dot_min=0.15, dot_edge_color=None).show()"
   ]
  },
  {
   "cell_type": "code",
   "execution_count": null,
   "metadata": {},
   "outputs": [],
   "source": [
    "sc.pl.umap(adata, color = ['leiden', 'doublets_shown'], color_map = mymap, size = 30, legend_loc = 'on data', legend_fontoutline = 1)"
   ]
  },
  {
   "cell_type": "code",
   "execution_count": null,
   "metadata": {},
   "outputs": [],
   "source": [
    "# Defa5,23 = Paneth -1,19 \n",
    "# Neurod1, TPH1, ISL1 = EEC - 7,6,11\n",
    "# Dclk1 = Tuft - 10\n",
    "# Clca1, Scin = Goblet - 3\n",
    "# Lgr5, Mki67, Aslc2 = ISC - 0,2\n",
    "# Sis = Enterocytes -4\n",
    "# Cd79a, Cd74 = B-cell -12, 18\n",
    "# Cd4+ = T-cells \n",
    "# Anxa5 = M-cells"
   ]
  },
  {
   "cell_type": "code",
   "execution_count": null,
   "metadata": {},
   "outputs": [],
   "source": [
    "adata.obs.leiden.cat.categories"
   ]
  },
  {
   "cell_type": "markdown",
   "metadata": {},
   "source": [
    "## Annotation"
   ]
  },
  {
   "cell_type": "code",
   "execution_count": null,
   "metadata": {},
   "outputs": [],
   "source": [
    "map_names = {}\n",
    "for c in adata.obs['leiden'].cat.categories:\n",
    "    if c in ['0', '2']:\n",
    "        map_names[c] = 'ISC'         \n",
    "    elif c in ['10']:\n",
    "        map_names[c] = 'Tuft'        \n",
    "    elif c in ['6', '7', '11']:\n",
    "        map_names[c] = 'EEC'      \n",
    "    elif c in ['12','18']:\n",
    "        map_names[c] = 'B-cells'\n",
    "    elif c in ['4']:\n",
    "        map_names[c] = 'Enterocytes'\n",
    "    elif c in ['1', '19']:\n",
    "        map_names[c] = 'Paneth'\n",
    "    elif c in ['3']:\n",
    "        map_names[c] = 'Goblet'\n",
    "    elif c in ['16']:\n",
    "        map_names[c] = 'Cd68+'\n",
    "    elif c in ['9']:\n",
    "        map_names[c] = 'non-epithelial'\n",
    "    else:\n",
    "        map_names[c] = 'unknown' #to avoid NA values\n",
    "\n",
    "adata.obs['initial_cell_type'] = adata.obs['leiden']\n",
    "adata.obs['initial_cell_type'] = adata.obs['initial_cell_type'].map(map_names).astype('category')"
   ]
  },
  {
   "cell_type": "code",
   "execution_count": null,
   "metadata": {},
   "outputs": [],
   "source": [
    "pd.value_counts(adata.obs['initial_cell_type'])"
   ]
  },
  {
   "cell_type": "code",
   "execution_count": null,
   "metadata": {},
   "outputs": [],
   "source": [
    "sc.pl.umap(adata, color=['initial_cell_type','batch','leiden'], size=10, add_outline=True, alpha=1, outline_width=(0.3, 0.0)) #, wspace=0.55)"
   ]
  },
  {
   "cell_type": "markdown",
   "metadata": {},
   "source": [
    "### Save"
   ]
  },
  {
   "cell_type": "code",
   "execution_count": null,
   "metadata": {},
   "outputs": [],
   "source": [
    "adata.write('/mnt/hdd/data/GUT_concatenated_WT_no_doublets.h5ad')"
   ]
  },
  {
   "cell_type": "code",
   "execution_count": null,
   "metadata": {},
   "outputs": [],
   "source": [
    "adata = sc.read_h5ad('/mnt/hdd/data/GUT_concatenated_WT_no_doublets.h5ad')"
   ]
  },
  {
   "cell_type": "code",
   "execution_count": null,
   "metadata": {},
   "outputs": [],
   "source": [
    "sc.pl.umap(adata, color=['initial_cell_type','batch','leiden'], size=10, add_outline=True, alpha=1, outline_width=(0.3, 0.0), ncols=1)"
   ]
  },
  {
   "cell_type": "markdown",
   "metadata": {},
   "source": [
    "## Benchmark Batch correction"
   ]
  },
  {
   "cell_type": "code",
   "execution_count": null,
   "metadata": {},
   "outputs": [],
   "source": [
    "adata"
   ]
  },
  {
   "cell_type": "markdown",
   "metadata": {},
   "source": [
    "### HVG, remove ambient"
   ]
  },
  {
   "cell_type": "code",
   "execution_count": null,
   "metadata": {},
   "outputs": [],
   "source": [
    "adata.var"
   ]
  },
  {
   "cell_type": "code",
   "execution_count": null,
   "metadata": {},
   "outputs": [],
   "source": [
    "adata.var['is_ambient-4'].value_counts()"
   ]
  },
  {
   "cell_type": "code",
   "execution_count": null,
   "metadata": {},
   "outputs": [],
   "source": [
    "adata.var[adata.var['is_ambient-19']==True].index"
   ]
  },
  {
   "cell_type": "code",
   "execution_count": null,
   "metadata": {},
   "outputs": [],
   "source": [
    "ambient_genes = (list(adata.var[adata.var['is_ambient-0']=='True'].index) + list(adata.var[adata.var['is_ambient-1']=='True'].index)\n",
    "                 + list(adata.var[adata.var['is_ambient-2']=='True'].index)+ list(adata.var[adata.var['is_ambient-3']=='True'].index)\n",
    "                 + list(adata.var[adata.var['is_ambient-4']=='True'].index)+ list(adata.var[adata.var['is_ambient-5']=='True'].index)\n",
    "                 + list(adata.var[adata.var['is_ambient-6']==True].index)+ list(adata.var[adata.var['is_ambient-7']==True].index)\n",
    "                 + list(adata.var[adata.var['is_ambient-8']==True].index)+ list(adata.var[adata.var['is_ambient-9']==True].index)\n",
    "                 + list(adata.var[adata.var['is_ambient-10']==True].index)+ list(adata.var[adata.var['is_ambient-11']==True].index)\n",
    "                 + list(adata.var[adata.var['is_ambient-12']==True].index)+ list(adata.var[adata.var['is_ambient-13']==True].index)\n",
    "                 + list(adata.var[adata.var['is_ambient-14']==True].index)+ list(adata.var[adata.var['is_ambient-15']==True].index)\n",
    "                 + list(adata.var[adata.var['is_ambient-16']==True].index)+ list(adata.var[adata.var['is_ambient-17']==True].index)\n",
    "                 + list(adata.var[adata.var['is_ambient-18']==True].index)+ list(adata.var[adata.var['is_ambient-19']==True].index))"
   ]
  },
  {
   "cell_type": "code",
   "execution_count": null,
   "metadata": {},
   "outputs": [],
   "source": [
    "ambient_genes = set(ambient_genes)\n",
    "len(ambient_genes)"
   ]
  },
  {
   "cell_type": "code",
   "execution_count": null,
   "metadata": {},
   "outputs": [],
   "source": [
    "# if hgv breaks\n",
    "# adata.uns['log1p']['base'] = None"
   ]
  },
  {
   "cell_type": "code",
   "execution_count": null,
   "metadata": {},
   "outputs": [],
   "source": [
    "sc.pp.highly_variable_genes(adata, n_top_genes=4000, batch_key = 'batch')"
   ]
  },
  {
   "cell_type": "code",
   "execution_count": null,
   "metadata": {},
   "outputs": [],
   "source": [
    "hvg = adata.var[adata.var['highly_variable']==True].index"
   ]
  },
  {
   "cell_type": "code",
   "execution_count": null,
   "metadata": {},
   "outputs": [],
   "source": [
    "hvg= hvg[np.isin(hvg, ambient_genes, invert=True)]\n",
    "hvg"
   ]
  },
  {
   "cell_type": "code",
   "execution_count": null,
   "metadata": {},
   "outputs": [],
   "source": [
    "adata=adata[:,hvg].copy()\n",
    "adata"
   ]
  },
  {
   "cell_type": "markdown",
   "metadata": {},
   "source": [
    "## Benchmark metrics "
   ]
  },
  {
   "cell_type": "code",
   "execution_count": null,
   "metadata": {},
   "outputs": [],
   "source": [
    "sc.tl.pca(adata, n_comps = 55)"
   ]
  },
  {
   "cell_type": "markdown",
   "metadata": {},
   "source": [
    "### Harmony"
   ]
  },
  {
   "cell_type": "code",
   "execution_count": null,
   "metadata": {},
   "outputs": [],
   "source": [
    "sc.external.pp.harmony_integrate(adata, 'batch', max_iter_harmony = 30)"
   ]
  },
  {
   "cell_type": "code",
   "execution_count": null,
   "metadata": {},
   "outputs": [],
   "source": [
    "sc.pp.neighbors(adata, n_neighbors = 75, n_pcs = 55, use_rep='X_pca_harmony', metric='correlation')\n",
    "sc.tl.umap(adata, min_dist = 0.2)"
   ]
  },
  {
   "cell_type": "code",
   "execution_count": null,
   "metadata": {},
   "outputs": [],
   "source": [
    "sc.pl.umap(adata, color= ['batch', 'initial_cell_type', 'leiden'], size=20, color_map=mymap)"
   ]
  },
  {
   "cell_type": "markdown",
   "metadata": {},
   "source": [
    "### scVI Default"
   ]
  },
  {
   "cell_type": "code",
   "execution_count": null,
   "metadata": {},
   "outputs": [],
   "source": [
    "scvi.model.SCVI.setup_anndata(\n",
    "    adata,\n",
    "    layer=\"raw_counts\",\n",
    "    batch_key='batch'\n",
    ")"
   ]
  },
  {
   "cell_type": "code",
   "execution_count": null,
   "metadata": {},
   "outputs": [],
   "source": [
    "model = scvi.model.SCVI(adata, dispersion = 'gene-batch')"
   ]
  },
  {
   "cell_type": "code",
   "execution_count": null,
   "metadata": {},
   "outputs": [],
   "source": [
    "model"
   ]
  },
  {
   "cell_type": "code",
   "execution_count": null,
   "metadata": {},
   "outputs": [],
   "source": [
    "model.train(max_epochs = 300, enable_progress_bar=True)"
   ]
  },
  {
   "cell_type": "code",
   "execution_count": null,
   "metadata": {},
   "outputs": [],
   "source": [
    "latent = model.get_latent_representation()"
   ]
  },
  {
   "cell_type": "code",
   "execution_count": null,
   "metadata": {},
   "outputs": [],
   "source": [
    "adata.obsm[\"X_scVI_10_128\"] = latent"
   ]
  },
  {
   "cell_type": "code",
   "execution_count": null,
   "metadata": {},
   "outputs": [],
   "source": [
    "sc.pp.neighbors(adata, n_neighbors = 25, n_pcs = 10, use_rep=\"X_scVI_10_128\", metric='correlation')\n",
    "sc.tl.umap(adata, min_dist=0.2)\n",
    "sc.tl.leiden(adata)"
   ]
  },
  {
   "cell_type": "code",
   "execution_count": null,
   "metadata": {},
   "outputs": [],
   "source": [
    "sc.pl.umap(adata, color=['batch', 'leiden', 'initial_cell_type'], size=20, color_map=mymap)"
   ]
  },
  {
   "cell_type": "markdown",
   "metadata": {},
   "source": [
    "#### Check reconstruction loss"
   ]
  },
  {
   "cell_type": "code",
   "execution_count": null,
   "metadata": {},
   "outputs": [],
   "source": [
    "# plot reconstruction loss\n",
    "plt.plot(model.history['reconstruction_loss_train']['reconstruction_loss_train'], label='train')\n",
    "#plt.plot(model_scvi.history['reconstruction_loss_validation']['reconstruction_loss_validation'], label='validation')\n",
    "plt.legend()"
   ]
  },
  {
   "cell_type": "markdown",
   "metadata": {},
   "source": [
    "### n_latent = 20, n_hidden = 512"
   ]
  },
  {
   "cell_type": "code",
   "execution_count": null,
   "metadata": {},
   "outputs": [],
   "source": [
    "model = scvi.model.SCVI(adata, n_latent = 20, n_hidden = 512, dispersion = 'gene-batch')"
   ]
  },
  {
   "cell_type": "code",
   "execution_count": null,
   "metadata": {},
   "outputs": [],
   "source": [
    "model"
   ]
  },
  {
   "cell_type": "code",
   "execution_count": null,
   "metadata": {},
   "outputs": [],
   "source": [
    "model.train(max_epochs = 300, enable_progress_bar=True)"
   ]
  },
  {
   "cell_type": "code",
   "execution_count": null,
   "metadata": {},
   "outputs": [],
   "source": [
    "latent = model.get_latent_representation()"
   ]
  },
  {
   "cell_type": "code",
   "execution_count": null,
   "metadata": {},
   "outputs": [],
   "source": [
    "adata.obsm[\"X_scVI_20_512\"] = latent"
   ]
  },
  {
   "cell_type": "code",
   "execution_count": null,
   "metadata": {},
   "outputs": [],
   "source": [
    "sc.pp.neighbors(adata, n_neighbors = 35, n_pcs = 20, use_rep=\"X_scVI_20_512\", metric='correlation')\n",
    "sc.tl.leiden(adata)\n",
    "sc.tl.umap(adata, min_dist=0.2)"
   ]
  },
  {
   "cell_type": "code",
   "execution_count": null,
   "metadata": {},
   "outputs": [],
   "source": [
    "sc.pl.umap(adata, color=['batch', 'leiden', 'initial_cell_type'], size=20, color_map=mymap)"
   ]
  },
  {
   "cell_type": "markdown",
   "metadata": {},
   "source": [
    "#### Check reconstruction loss"
   ]
  },
  {
   "cell_type": "code",
   "execution_count": null,
   "metadata": {},
   "outputs": [],
   "source": [
    "# plot reconstruction loss\n",
    "plt.plot(model.history['reconstruction_loss_train']['reconstruction_loss_train'], label='train')\n",
    "#plt.plot(model.history['reconstruction_loss_validation']['reconstruction_loss_validation'], label='validation')\n",
    "plt.legend()"
   ]
  },
  {
   "cell_type": "markdown",
   "metadata": {},
   "source": [
    "### n_latent = 30, n_hidden = 512, n_layers = 2"
   ]
  },
  {
   "cell_type": "code",
   "execution_count": null,
   "metadata": {},
   "outputs": [],
   "source": [
    "model = scvi.model.SCVI(adata, n_latent = 30, n_hidden = 512, n_layers = 2, dispersion = 'gene-batch')"
   ]
  },
  {
   "cell_type": "code",
   "execution_count": null,
   "metadata": {},
   "outputs": [],
   "source": [
    "model"
   ]
  },
  {
   "cell_type": "code",
   "execution_count": null,
   "metadata": {},
   "outputs": [],
   "source": [
    "model.train(max_epochs = 300, enable_progress_bar=True)"
   ]
  },
  {
   "cell_type": "code",
   "execution_count": null,
   "metadata": {},
   "outputs": [],
   "source": [
    "latent = model.get_latent_representation()"
   ]
  },
  {
   "cell_type": "code",
   "execution_count": null,
   "metadata": {},
   "outputs": [],
   "source": [
    "adata.obsm[\"X_scVI_30_512_2\"] = latent"
   ]
  },
  {
   "cell_type": "code",
   "execution_count": null,
   "metadata": {},
   "outputs": [],
   "source": [
    "sc.pp.neighbors(adata, n_neighbors = 35, n_pcs = 30, use_rep=\"X_scVI_30_512_2\", metric='correlation')\n",
    "sc.tl.leiden(adata)\n",
    "sc.tl.umap(adata, min_dist=0.2)"
   ]
  },
  {
   "cell_type": "code",
   "execution_count": null,
   "metadata": {},
   "outputs": [],
   "source": [
    "sc.pl.umap(adata, color=['batch', 'leiden', 'initial_cell_type'], size=20, color_map=mymap)"
   ]
  },
  {
   "cell_type": "markdown",
   "metadata": {},
   "source": [
    "#### Check reconstruction loss"
   ]
  },
  {
   "cell_type": "code",
   "execution_count": null,
   "metadata": {},
   "outputs": [],
   "source": [
    "# plot reconstruction loss\n",
    "plt.plot(model.history['reconstruction_loss_train']['reconstruction_loss_train'], label='train')\n",
    "#plt.plot(model.history['reconstruction_loss_validation']['reconstruction_loss_validation'], label='validation')\n",
    "plt.legend()"
   ]
  },
  {
   "cell_type": "markdown",
   "metadata": {},
   "source": [
    "### n_latent = 30, n_hidden = 1024"
   ]
  },
  {
   "cell_type": "code",
   "execution_count": null,
   "metadata": {},
   "outputs": [],
   "source": [
    "model = scvi.model.SCVI(adata, n_latent = 30, n_hidden = 1024, dispersion = 'gene-batch')"
   ]
  },
  {
   "cell_type": "code",
   "execution_count": null,
   "metadata": {},
   "outputs": [],
   "source": [
    "model"
   ]
  },
  {
   "cell_type": "code",
   "execution_count": null,
   "metadata": {},
   "outputs": [],
   "source": [
    "model.train(max_epochs = 300, enable_progress_bar=True)"
   ]
  },
  {
   "cell_type": "code",
   "execution_count": null,
   "metadata": {},
   "outputs": [],
   "source": [
    "latent = model.get_latent_representation()"
   ]
  },
  {
   "cell_type": "code",
   "execution_count": null,
   "metadata": {},
   "outputs": [],
   "source": [
    "adata.obsm[\"X_scVI_30_1024\"] = latent"
   ]
  },
  {
   "cell_type": "code",
   "execution_count": null,
   "metadata": {},
   "outputs": [],
   "source": [
    "sc.pp.neighbors(adata, n_neighbors = 45, n_pcs = 30, use_rep=\"X_scVI_30_1024\", metric='correlation')\n",
    "sc.tl.leiden(adata)\n",
    "sc.tl.umap(adata, min_dist=0.2)"
   ]
  },
  {
   "cell_type": "code",
   "execution_count": null,
   "metadata": {},
   "outputs": [],
   "source": [
    "sc.pl.umap(adata, color=['batch', 'leiden', 'initial_cell_type'], size=20, color_map=mymap)"
   ]
  },
  {
   "cell_type": "markdown",
   "metadata": {},
   "source": [
    "#### Check reconstruction loss"
   ]
  },
  {
   "cell_type": "code",
   "execution_count": null,
   "metadata": {},
   "outputs": [],
   "source": [
    "# plot reconstruction loss\n",
    "plt.plot(model.history['reconstruction_loss_train']['reconstruction_loss_train'], label='train')\n",
    "#plt.plot(model.history['reconstruction_loss_validation']['reconstruction_loss_validation'], label='validation')\n",
    "plt.legend()"
   ]
  },
  {
   "cell_type": "markdown",
   "metadata": {},
   "source": [
    "### n_latent = 50, n_hidden = 1024, n_layers = 3"
   ]
  },
  {
   "cell_type": "code",
   "execution_count": null,
   "metadata": {},
   "outputs": [],
   "source": [
    "model = scvi.model.SCVI(adata, n_latent = 50, n_hidden = 1024, n_layers = 3, dispersion = 'gene-batch')"
   ]
  },
  {
   "cell_type": "code",
   "execution_count": null,
   "metadata": {},
   "outputs": [],
   "source": [
    "model"
   ]
  },
  {
   "cell_type": "code",
   "execution_count": null,
   "metadata": {},
   "outputs": [],
   "source": [
    "model.train(max_epochs = 300, enable_progress_bar=True)"
   ]
  },
  {
   "cell_type": "code",
   "execution_count": null,
   "metadata": {},
   "outputs": [],
   "source": [
    "latent = model.get_latent_representation()"
   ]
  },
  {
   "cell_type": "code",
   "execution_count": null,
   "metadata": {},
   "outputs": [],
   "source": [
    "adata.obsm[\"X_scVI_50_1024_3\"] = latent"
   ]
  },
  {
   "cell_type": "code",
   "execution_count": null,
   "metadata": {},
   "outputs": [],
   "source": [
    "sc.pp.neighbors(adata, n_neighbors = 70, n_pcs = 50, use_rep=\"X_scVI_50_1024_3\", metric='correlation')\n",
    "sc.tl.leiden(adata)\n",
    "sc.tl.umap(adata, min_dist=0.2)"
   ]
  },
  {
   "cell_type": "code",
   "execution_count": null,
   "metadata": {},
   "outputs": [],
   "source": [
    "sc.pl.umap(adata, color=['batch', 'leiden', 'initial_cell_type'], size=20, color_map=mymap)"
   ]
  },
  {
   "cell_type": "markdown",
   "metadata": {},
   "source": [
    "#### Check reconstruction loss"
   ]
  },
  {
   "cell_type": "code",
   "execution_count": null,
   "metadata": {},
   "outputs": [],
   "source": [
    "# plot reconstruction loss\n",
    "plt.plot(model.history['reconstruction_loss_train']['reconstruction_loss_train'], label='train')\n",
    "#plt.plot(model.history['reconstruction_loss_validation']['reconstruction_loss_validation'], label='validation')\n",
    "plt.legend()"
   ]
  },
  {
   "cell_type": "markdown",
   "metadata": {},
   "source": [
    "### n_latent = 50, n_hidden = 2048, n_layers = 1"
   ]
  },
  {
   "cell_type": "code",
   "execution_count": null,
   "metadata": {},
   "outputs": [],
   "source": [
    "model = scvi.model.SCVI(adata, n_latent = 50, n_hidden = 2048, n_layers = 1, dispersion = 'gene-batch')"
   ]
  },
  {
   "cell_type": "code",
   "execution_count": null,
   "metadata": {},
   "outputs": [],
   "source": [
    "model"
   ]
  },
  {
   "cell_type": "code",
   "execution_count": null,
   "metadata": {},
   "outputs": [],
   "source": [
    "model.train(max_epochs = 300, enable_progress_bar=True)"
   ]
  },
  {
   "cell_type": "code",
   "execution_count": null,
   "metadata": {},
   "outputs": [],
   "source": [
    "latent = model.get_latent_representation()"
   ]
  },
  {
   "cell_type": "code",
   "execution_count": null,
   "metadata": {},
   "outputs": [],
   "source": [
    "adata.obsm[\"X_scVI_50_2048_1\"] = latent"
   ]
  },
  {
   "cell_type": "code",
   "execution_count": null,
   "metadata": {},
   "outputs": [],
   "source": [
    "sc.pp.neighbors(adata, n_neighbors = 70, n_pcs = 50, use_rep=\"X_scVI_50_2048_1\", metric='correlation')\n",
    "sc.tl.leiden(adata)\n",
    "sc.tl.umap(adata, min_dist=0.2)"
   ]
  },
  {
   "cell_type": "code",
   "execution_count": null,
   "metadata": {},
   "outputs": [],
   "source": [
    "sc.pl.umap(adata, color=['batch', 'leiden', 'initial_cell_type'], size=20, color_map=mymap)"
   ]
  },
  {
   "cell_type": "markdown",
   "metadata": {},
   "source": [
    "#### Check reconstruction loss"
   ]
  },
  {
   "cell_type": "code",
   "execution_count": null,
   "metadata": {},
   "outputs": [],
   "source": [
    "# plot reconstruction loss\n",
    "plt.plot(model.history['reconstruction_loss_train']['reconstruction_loss_train'], label='train')\n",
    "#plt.plot(model.history['reconstruction_loss_validation']['reconstruction_loss_validation'], label='validation')\n",
    "plt.legend()"
   ]
  },
  {
   "cell_type": "markdown",
   "metadata": {},
   "source": [
    "### n_latent = 60, n_hidden = 2048, n_layers = 2"
   ]
  },
  {
   "cell_type": "code",
   "execution_count": null,
   "metadata": {},
   "outputs": [],
   "source": [
    "model = scvi.model.SCVI(adata, n_latent = 60, n_hidden = 2048, n_layers = 2, dispersion = 'gene-batch')"
   ]
  },
  {
   "cell_type": "code",
   "execution_count": null,
   "metadata": {},
   "outputs": [],
   "source": [
    "model"
   ]
  },
  {
   "cell_type": "raw",
   "metadata": {
    "vscode": {
     "languageId": "raw"
    }
   },
   "source": [
    "adata.write('/mnt/hdd/data/GUT_concatenated_scvi6020482.h5ad')"
   ]
  },
  {
   "cell_type": "code",
   "execution_count": null,
   "metadata": {},
   "outputs": [],
   "source": [
    "model.train(max_epochs = 300, enable_progress_bar=True)"
   ]
  },
  {
   "cell_type": "code",
   "execution_count": null,
   "metadata": {},
   "outputs": [],
   "source": [
    "latent = model.get_latent_representation()"
   ]
  },
  {
   "cell_type": "code",
   "execution_count": null,
   "metadata": {},
   "outputs": [],
   "source": [
    "adata.obsm[\"X_scVI_60_2048_2\"] = latent"
   ]
  },
  {
   "cell_type": "code",
   "execution_count": null,
   "metadata": {},
   "outputs": [],
   "source": [
    "sc.pp.neighbors(adata, n_neighbors = 80, n_pcs = 60, use_rep=\"X_scVI_60_2048_2\", metric='correlation')\n",
    "sc.tl.leiden(adata)\n",
    "sc.tl.umap(adata, min_dist=0.2)"
   ]
  },
  {
   "cell_type": "code",
   "execution_count": null,
   "metadata": {},
   "outputs": [],
   "source": [
    "sc.pl.umap(adata, color=['batch', 'leiden', 'initial_cell_type'], size=20, color_map=mymap)"
   ]
  },
  {
   "cell_type": "markdown",
   "metadata": {},
   "source": [
    "#### Check reconstruction loss"
   ]
  },
  {
   "cell_type": "code",
   "execution_count": null,
   "metadata": {},
   "outputs": [],
   "source": [
    "# plot reconstruction loss\n",
    "plt.plot(model.history['reconstruction_loss_train']['reconstruction_loss_train'], label='train')\n",
    "#plt.plot(model.history['reconstruction_loss_validation']['reconstruction_loss_validation'], label='validation')\n",
    "plt.legend()"
   ]
  },
  {
   "cell_type": "markdown",
   "metadata": {},
   "source": [
    "### scPoli"
   ]
  },
  {
   "cell_type": "code",
   "execution_count": null,
   "metadata": {},
   "outputs": [],
   "source": [
    "from sklearn.metrics import classification_report\n",
    "from scarches.models.scpoli import scPoli"
   ]
  },
  {
   "cell_type": "code",
   "execution_count": null,
   "metadata": {},
   "outputs": [],
   "source": [
    "early_stopping_kwargs = {\n",
    "    \"early_stopping_metric\": \"val_prototype_loss\",\n",
    "    \"mode\": \"min\",\n",
    "    \"threshold\": 0,\n",
    "    \"patience\": 20,\n",
    "    \"reduce_lr\": True,\n",
    "    \"lr_patience\": 13,\n",
    "    \"lr_factor\": 0.1,\n",
    "}"
   ]
  },
  {
   "cell_type": "code",
   "execution_count": null,
   "metadata": {},
   "outputs": [],
   "source": [
    "adata.X = adata.layers['raw_counts'].copy()"
   ]
  },
  {
   "cell_type": "code",
   "execution_count": null,
   "metadata": {},
   "outputs": [],
   "source": [
    "#adata.X = adata.X.todense()\n",
    "adata.X = adata.X.astype('float32')"
   ]
  },
  {
   "cell_type": "code",
   "execution_count": null,
   "metadata": {},
   "outputs": [],
   "source": [
    "adata.obs['initial_cell_type'].value_counts()"
   ]
  },
  {
   "cell_type": "code",
   "execution_count": null,
   "metadata": {},
   "outputs": [],
   "source": [
    "scpoli_model = scPoli(\n",
    "    adata = adata,\n",
    "    condition_keys = 'sample',\n",
    "    cell_type_keys = 'initial_cell_type',\n",
    "    hidden_layer_sizes = [100],\n",
    "    latent_dim = 25,\n",
    "    embedding_dims = 5,\n",
    "    recon_loss = 'poisson',\n",
    ")\n",
    "scpoli_model.train(\n",
    "    n_epochs = 250,\n",
    "    pretraining_epochs = 100,\n",
    "#    early_stopping_kwargs=early_stopping_kwargs,\n",
    "    use_early_stopping = False,\n",
    "    alpha_epoch_anneal = 1000,\n",
    "    eta = 0.5\n",
    ")"
   ]
  },
  {
   "cell_type": "code",
   "execution_count": null,
   "metadata": {},
   "outputs": [],
   "source": [
    "#get latent representation of reference data\n",
    "scpoli_model.model.eval()\n",
    "data_latent = scpoli_model.get_latent(\n",
    "    adata,\n",
    "    mean=True\n",
    ")"
   ]
  },
  {
   "cell_type": "code",
   "execution_count": null,
   "metadata": {},
   "outputs": [],
   "source": [
    "adata.obsm[\"X_scPoli\"] = data_latent"
   ]
  },
  {
   "cell_type": "code",
   "execution_count": null,
   "metadata": {},
   "outputs": [],
   "source": [
    "sc.pp.neighbors(adata, use_rep=\"X_scPoli\", metric='correlation')\n",
    "sc.tl.leiden(adata)\n",
    "sc.tl.umap(adata, min_dist=0.2)"
   ]
  },
  {
   "cell_type": "code",
   "execution_count": null,
   "metadata": {},
   "outputs": [],
   "source": [
    "sc.pl.umap(adata, color = 'initial_cell_type', size = 5)"
   ]
  },
  {
   "cell_type": "code",
   "execution_count": null,
   "metadata": {},
   "outputs": [],
   "source": [
    "adata"
   ]
  },
  {
   "cell_type": "markdown",
   "metadata": {},
   "source": [
    "### Benchmark"
   ]
  },
  {
   "cell_type": "code",
   "execution_count": null,
   "metadata": {},
   "outputs": [],
   "source": [
    "from scib_metrics.benchmark import Benchmarker"
   ]
  },
  {
   "cell_type": "code",
   "execution_count": null,
   "metadata": {},
   "outputs": [],
   "source": [
    "bm = Benchmarker(\n",
    "    adata,\n",
    "    batch_key = \"batch\",\n",
    "    label_key = \"initial_cell_type\",\n",
    "    embedding_obsm_keys = ['X_scVI_10_128', 'X_scVI_20_512', 'X_scVI_30_512_2', 'X_scVI_30_1024',\n",
    "                           'X_scVI_50_1024_3', 'X_scVI_50_2048_1', 'X_scVI_60_2048_2', 'X_pca_harmony', 'X_scPoli'],\n",
    "    n_jobs = 20,\n",
    ")\n",
    "bm.benchmark()"
   ]
  },
  {
   "cell_type": "code",
   "execution_count": null,
   "metadata": {},
   "outputs": [],
   "source": [
    "bm.plot_results_table(min_max_scale=False)"
   ]
  },
  {
   "cell_type": "code",
   "execution_count": null,
   "metadata": {},
   "outputs": [],
   "source": [
    "bm.plot_results_table(min_max_scale=True)"
   ]
  },
  {
   "cell_type": "code",
   "execution_count": null,
   "metadata": {},
   "outputs": [],
   "source": [
    "adata.write('/mnt/hdd/data/GUT_concatenated_WT_no_doublets_HVG_benchmarked.h5ad')"
   ]
  },
  {
   "cell_type": "markdown",
   "metadata": {},
   "source": [
    "# Use best correction"
   ]
  },
  {
   "cell_type": "code",
   "execution_count": null,
   "metadata": {},
   "outputs": [],
   "source": [
    "adata = sc.read_h5ad('/mnt/hdd/data/GUT_concatenated_WT_no_doublets_HVG_benchmarked.h5ad')"
   ]
  },
  {
   "cell_type": "markdown",
   "metadata": {},
   "source": [
    "### HVG, remove ambient"
   ]
  },
  {
   "cell_type": "code",
   "execution_count": null,
   "metadata": {},
   "outputs": [],
   "source": [
    "ambient_genes = (list(adata.var[adata.var['is_ambient-0']=='True'].index) + list(adata.var[adata.var['is_ambient-1']=='True'].index)\n",
    "                 + list(adata.var[adata.var['is_ambient-2']=='True'].index)+ list(adata.var[adata.var['is_ambient-3']=='True'].index)\n",
    "                 + list(adata.var[adata.var['is_ambient-4']=='True'].index)+ list(adata.var[adata.var['is_ambient-5']=='True'].index)\n",
    "                 + list(adata.var[adata.var['is_ambient-6']==True].index)+ list(adata.var[adata.var['is_ambient-7']==True].index)\n",
    "                 + list(adata.var[adata.var['is_ambient-8']==True].index)+ list(adata.var[adata.var['is_ambient-9']==True].index)\n",
    "                 + list(adata.var[adata.var['is_ambient-10']==True].index)+ list(adata.var[adata.var['is_ambient-11']==True].index)\n",
    "                 + list(adata.var[adata.var['is_ambient-12']==True].index)+ list(adata.var[adata.var['is_ambient-13']==True].index)\n",
    "                 + list(adata.var[adata.var['is_ambient-14']==True].index)+ list(adata.var[adata.var['is_ambient-15']==True].index)\n",
    "                 + list(adata.var[adata.var['is_ambient-16']==True].index)+ list(adata.var[adata.var['is_ambient-17']==True].index)\n",
    "                 + list(adata.var[adata.var['is_ambient-18']==True].index)+ list(adata.var[adata.var['is_ambient-19']==True].index))"
   ]
  },
  {
   "cell_type": "code",
   "execution_count": null,
   "metadata": {},
   "outputs": [],
   "source": [
    "ambient_genes = np.unique(ambient_genes)\n",
    "len(ambient_genes)"
   ]
  },
  {
   "cell_type": "code",
   "execution_count": null,
   "metadata": {},
   "outputs": [],
   "source": [
    "# if hgv breaks\n",
    "#adata.uns['log1p']['base'] = None"
   ]
  },
  {
   "cell_type": "code",
   "execution_count": null,
   "metadata": {},
   "outputs": [],
   "source": [
    "adata.X.min()"
   ]
  },
  {
   "cell_type": "code",
   "execution_count": null,
   "metadata": {},
   "outputs": [],
   "source": [
    "adata_hvg = sc.pp.log1p(adata,copy=True)# if hgv breaks"
   ]
  },
  {
   "cell_type": "code",
   "execution_count": null,
   "metadata": {},
   "outputs": [],
   "source": [
    "sc.pp.highly_variable_genes(adata_hvg, n_top_genes=4000, batch_key = 'batch')"
   ]
  },
  {
   "cell_type": "code",
   "execution_count": null,
   "metadata": {},
   "outputs": [],
   "source": [
    "hvg = adata_hvg.var[adata_hvg.var['highly_variable']==True].index"
   ]
  },
  {
   "cell_type": "code",
   "execution_count": null,
   "metadata": {},
   "outputs": [],
   "source": [
    "hvg= hvg[np.isin(hvg, ambient_genes, invert=True)]\n",
    "hvg"
   ]
  },
  {
   "cell_type": "code",
   "execution_count": null,
   "metadata": {},
   "outputs": [],
   "source": [
    "adata=adata_hvg[:,hvg].copy()\n",
    "adata"
   ]
  },
  {
   "cell_type": "markdown",
   "metadata": {},
   "source": [
    "## n_latent = 20, n_hidden = 512"
   ]
  },
  {
   "cell_type": "code",
   "execution_count": null,
   "metadata": {},
   "outputs": [],
   "source": [
    "scvi.model.SCVI.setup_anndata(\n",
    "    adata,\n",
    "    layer=\"raw_counts\",\n",
    "    batch_key='batch'\n",
    ")"
   ]
  },
  {
   "cell_type": "code",
   "execution_count": null,
   "metadata": {},
   "outputs": [],
   "source": [
    "model = scvi.model.SCVI(adata, n_latent = 20, n_hidden = 512, dispersion = 'gene-batch')"
   ]
  },
  {
   "cell_type": "code",
   "execution_count": null,
   "metadata": {},
   "outputs": [],
   "source": [
    "model"
   ]
  },
  {
   "cell_type": "code",
   "execution_count": null,
   "metadata": {},
   "outputs": [],
   "source": [
    "model.train(max_epochs = 300, enable_progress_bar=True, early_stopping=True)"
   ]
  },
  {
   "cell_type": "code",
   "execution_count": null,
   "metadata": {},
   "outputs": [],
   "source": [
    "latent = model.get_latent_representation()"
   ]
  },
  {
   "cell_type": "code",
   "execution_count": null,
   "metadata": {},
   "outputs": [],
   "source": [
    "adata.obsm[\"X_scVI_20_512\"] = latent"
   ]
  },
  {
   "cell_type": "code",
   "execution_count": null,
   "metadata": {},
   "outputs": [],
   "source": [
    "sc.pp.neighbors(adata, n_neighbors = 35, n_pcs = 20, use_rep=\"X_scVI_20_512\", metric='correlation')\n",
    "sc.tl.leiden(adata)\n",
    "sc.tl.umap(adata, min_dist=0.2)"
   ]
  },
  {
   "cell_type": "code",
   "execution_count": null,
   "metadata": {},
   "outputs": [],
   "source": [
    "sc.pl.umap(adata, color=['batch', 'leiden', 'initial_cell_type'], size=20, color_map=mymap)"
   ]
  },
  {
   "cell_type": "markdown",
   "metadata": {},
   "source": [
    "### Check reconstruction loss"
   ]
  },
  {
   "cell_type": "code",
   "execution_count": null,
   "metadata": {},
   "outputs": [],
   "source": [
    "# plot reconstruction loss\n",
    "plt.plot(model.history['reconstruction_loss_train']['reconstruction_loss_train'], label='train')\n",
    "#plt.plot(model.history['reconstruction_loss_validation']['reconstruction_loss_validation'], label='validation')\n",
    "plt.legend()"
   ]
  },
  {
   "cell_type": "markdown",
   "metadata": {},
   "source": [
    "## Add to object with all genes"
   ]
  },
  {
   "cell_type": "code",
   "execution_count": null,
   "metadata": {},
   "outputs": [],
   "source": [
    "adata_all = sc.read('/mnt/hdd/data/GUT_concatenated_WT_corr.h5ad')"
   ]
  },
  {
   "cell_type": "code",
   "execution_count": null,
   "metadata": {},
   "outputs": [],
   "source": [
    "adata_all.shape"
   ]
  },
  {
   "cell_type": "code",
   "execution_count": null,
   "metadata": {},
   "outputs": [],
   "source": [
    "pd.crosstab(adata.obs['batch'], adata.obs['initial_cell_type'])"
   ]
  },
  {
   "cell_type": "code",
   "execution_count": null,
   "metadata": {},
   "outputs": [],
   "source": [
    "adata_all.obsm['X_scVI_20_512'] = adata.obsm['X_scVI_20_512']"
   ]
  },
  {
   "cell_type": "code",
   "execution_count": null,
   "metadata": {},
   "outputs": [],
   "source": [
    "adata_all.obs['initial_cell_type'] = adata.obs['initial_cell_type'].copy()"
   ]
  },
  {
   "cell_type": "code",
   "execution_count": null,
   "metadata": {},
   "outputs": [],
   "source": [
    "sc.pp.neighbors(adata_all, n_neighbors = 50, n_pcs = 20, use_rep=\"X_scVI_20_512\", metric='correlation')\n",
    "sc.tl.leiden(adata_all)\n",
    "sc.tl.umap(adata_all, min_dist = 0.2)"
   ]
  },
  {
   "cell_type": "code",
   "execution_count": null,
   "metadata": {},
   "outputs": [],
   "source": [
    "sc.pl.umap(adata_all, color=['initial_cell_type', 'leiden', 'n_counts', 'n_genes', 'doublet_calls',\n",
    "                             'Gcg', 'Neurog3', 'Gip'], color_map=mymap, size=20)"
   ]
  },
  {
   "cell_type": "code",
   "execution_count": null,
   "metadata": {},
   "outputs": [],
   "source": [
    "sc.pp.neighbors(adata_all, n_neighbors = 40, n_pcs = 20, use_rep=\"X_scVI_20_512\", metric='correlation')\n",
    "sc.tl.leiden(adata_all)\n",
    "sc.tl.umap(adata_all, min_dist = 0.2)"
   ]
  },
  {
   "cell_type": "code",
   "execution_count": null,
   "metadata": {},
   "outputs": [],
   "source": [
    "sc.pl.umap(adata_all, color=['initial_cell_type', 'leiden', 'n_counts', 'n_genes', 'doublet_calls',\n",
    "                             'Gcg', 'Neurog3', 'Gip', 'Tph1'], color_map=mymap, size=20)"
   ]
  },
  {
   "cell_type": "code",
   "execution_count": null,
   "metadata": {},
   "outputs": [],
   "source": [
    "sc.pp.neighbors(adata_all, n_neighbors = 25, n_pcs = 20, use_rep=\"X_scVI_20_512\", metric='correlation')\n",
    "sc.tl.leiden(adata_all)\n",
    "sc.tl.umap(adata_all, min_dist = 0.2)"
   ]
  },
  {
   "cell_type": "code",
   "execution_count": null,
   "metadata": {},
   "outputs": [],
   "source": [
    "sc.pl.umap(adata_all, color=['initial_cell_type', 'leiden', 'n_counts', 'n_genes', 'doublet_calls',\n",
    "                             'Gcg', 'Neurog3'], color_map=mymap, size=20)"
   ]
  },
  {
   "cell_type": "code",
   "execution_count": null,
   "metadata": {},
   "outputs": [],
   "source": [
    "adata_all.obsm['X_umap'] = adata.obsm['X_umap'] #why??"
   ]
  },
  {
   "cell_type": "code",
   "execution_count": null,
   "metadata": {},
   "outputs": [],
   "source": [
    "sc.pl.umap(adata_all, color=['initial_cell_type', 'leiden', 'n_counts', 'n_genes', 'doublet_calls',\n",
    "                             'Gcg', 'Neurog3', 'Gip', 'Tph1'], color_map=mymap, size=20)"
   ]
  },
  {
   "cell_type": "markdown",
   "metadata": {},
   "source": [
    "## reduce adata dimensionality - Add ambient genes"
   ]
  },
  {
   "cell_type": "code",
   "execution_count": null,
   "metadata": {},
   "outputs": [],
   "source": [
    "ambient_genes = (list(adata.var[adata.var['is_ambient-0']=='True'].index) + list(adata.var[adata.var['is_ambient-1']=='True'].index)\n",
    "                 + list(adata.var[adata.var['is_ambient-2']=='True'].index)+ list(adata.var[adata.var['is_ambient-3']=='True'].index)\n",
    "                 + list(adata.var[adata.var['is_ambient-4']=='True'].index)+ list(adata.var[adata.var['is_ambient-5']=='True'].index)\n",
    "                 + list(adata.var[adata.var['is_ambient-6']==True].index)+ list(adata.var[adata.var['is_ambient-7']==True].index)\n",
    "                 + list(adata.var[adata.var['is_ambient-8']==True].index)+ list(adata.var[adata.var['is_ambient-9']==True].index)\n",
    "                 + list(adata.var[adata.var['is_ambient-10']==True].index)+ list(adata.var[adata.var['is_ambient-11']==True].index)\n",
    "                 + list(adata.var[adata.var['is_ambient-12']==True].index)+ list(adata.var[adata.var['is_ambient-13']==True].index)\n",
    "                 + list(adata.var[adata.var['is_ambient-14']==True].index)+ list(adata.var[adata.var['is_ambient-15']==True].index)\n",
    "                 + list(adata.var[adata.var['is_ambient-16']==True].index)+ list(adata.var[adata.var['is_ambient-17']==True].index)\n",
    "                 + list(adata.var[adata.var['is_ambient-18']==True].index)+ list(adata.var[adata.var['is_ambient-19']==True].index))"
   ]
  },
  {
   "cell_type": "code",
   "execution_count": null,
   "metadata": {},
   "outputs": [],
   "source": [
    "ambient_genes = np.unique(ambient_genes)\n",
    "len(ambient_genes)"
   ]
  },
  {
   "cell_type": "code",
   "execution_count": null,
   "metadata": {},
   "outputs": [],
   "source": [
    "ambient_genes"
   ]
  },
  {
   "cell_type": "code",
   "execution_count": null,
   "metadata": {},
   "outputs": [],
   "source": [
    "ambient_category = np.isin(adata_all.var.index, ambient_genes)\n",
    "ambient_category"
   ]
  },
  {
   "cell_type": "code",
   "execution_count": null,
   "metadata": {},
   "outputs": [],
   "source": [
    "len(ambient_category)"
   ]
  },
  {
   "cell_type": "code",
   "execution_count": null,
   "metadata": {},
   "outputs": [],
   "source": [
    "adata_all.var['ambient_genes'] = ambient_category"
   ]
  },
  {
   "cell_type": "code",
   "execution_count": null,
   "metadata": {},
   "outputs": [],
   "source": [
    "adata_all[:, adata_all.var['ambient_genes'] == True].var.index"
   ]
  },
  {
   "cell_type": "code",
   "execution_count": null,
   "metadata": {},
   "outputs": [],
   "source": [
    "adata_all.var['genome'] = adata_all.var['genome-0'].copy()"
   ]
  },
  {
   "cell_type": "code",
   "execution_count": null,
   "metadata": {},
   "outputs": [],
   "source": [
    "list(adata_all.obs)"
   ]
  },
  {
   "cell_type": "code",
   "execution_count": null,
   "metadata": {},
   "outputs": [],
   "source": [
    "# Clean up .obs\n",
    "adata_all.obs = adata_all.obs.loc[:,['n_counts',\n",
    " 'sample',\n",
    " 'log_cell_probs',\n",
    " 'log_counts',\n",
    " 'n_genes',\n",
    " 'log_genes',\n",
    " 'total_counts_rank',\n",
    " 'ambi_frac',\n",
    " 'mt_frac',\n",
    " 'rp_frac',\n",
    " 'leiden',\n",
    " 'doublet_calls',\n",
    " 'doublets_shown',\n",
    " 'batch',\n",
    "'Project',\n",
    " 'sequencing',\n",
    " 'modality',\n",
    " 'condition',\n",
    " 'sample number Minas',\n",
    " 'Internal ID',\n",
    " 'SeqID',\n",
    " 'kit',\n",
    " 'line',\n",
    " 'strain',\n",
    " 'enriched',\n",
    " 'enrichment proportion',\n",
    " 'treatment',\n",
    " 'diet',\n",
    " 'tissue',\n",
    " 'structure',\n",
    " 'target cell number',\n",
    " 'Read Length',\n",
    " 'Index Type',\n",
    " 'sequencing machine',\n",
    " 'size_factors',\n",
    " 'leiden_2',\n",
    " 'leiden_3',\n",
    " 'initial_cell_type']].copy()"
   ]
  },
  {
   "cell_type": "code",
   "execution_count": null,
   "metadata": {},
   "outputs": [],
   "source": [
    "list(adata_all.var)"
   ]
  },
  {
   "cell_type": "code",
   "execution_count": null,
   "metadata": {},
   "outputs": [],
   "source": [
    "# Clean up .var\n",
    "adata_all.var = adata_all.var.loc[:,['feature_types',\n",
    " 'genome',\n",
    " 'ambient_genes']].copy()"
   ]
  },
  {
   "cell_type": "markdown",
   "metadata": {},
   "source": [
    "## Save"
   ]
  },
  {
   "cell_type": "code",
   "execution_count": null,
   "metadata": {},
   "outputs": [],
   "source": [
    "adata_all.write('/mnt/hdd/data/GUT_concatenated_WT_no_doublets_corrected.h5ad')"
   ]
  }
 ],
 "metadata": {
  "kernelspec": {
   "display_name": "Python 3",
   "language": "python",
   "name": "python3"
  },
  "language_info": {
   "codemirror_mode": {
    "name": "ipython",
    "version": 3
   },
   "file_extension": ".py",
   "mimetype": "text/x-python",
   "name": "python",
   "nbconvert_exporter": "python",
   "pygments_lexer": "ipython3",
   "version": "3.10.14"
  }
 },
 "nbformat": 4,
 "nbformat_minor": 2
}
