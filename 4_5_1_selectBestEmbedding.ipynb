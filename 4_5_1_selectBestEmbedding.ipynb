{
 "cells": [
  {
   "cell_type": "markdown",
   "metadata": {},
   "source": [
    "\n",
    "# Preprocessing - select best Integration\n",
    "Hélène Reich\n",
    "\n",
    "2024-06-28\n",
    "\n",
    "\n",
    "# Setup\n"
   ]
  },
  {
   "cell_type": "code",
   "execution_count": null,
   "metadata": {
    "ExecuteTime": {
     "end_time": "2024-01-19T18:46:56.435487Z",
     "start_time": "2024-01-19T18:46:50.437824Z"
    }
   },
   "outputs": [],
   "source": [
    "# General\n",
    "import scipy as sci\n",
    "import numpy as np\n",
    "import pandas as pd\n",
    "import logging\n",
    "import time\n",
    "import pickle\n",
    "from itertools import chain\n",
    "import session_info\n",
    "import gc\n",
    "\n",
    "# Plotting\n",
    "import matplotlib.pyplot as plt\n",
    "import matplotlib as mpl\n",
    "from matplotlib import rcParams\n",
    "from matplotlib.pyplot import rc_context\n",
    "from matplotlib import cm\n",
    "import seaborn as sb\n",
    "\n",
    "# Analysis\n",
    "import muon as mu\n",
    "from muon import atac as ac # Import a module with ATAC-seq-related functions\n",
    "import scanpy as sc\n",
    "import scanpy.external as sce\n",
    "import torch\n",
    "#import scipy.stats as sci\n",
    "from sklearn.metrics import mean_squared_error"
   ]
  },
  {
   "cell_type": "code",
   "execution_count": null,
   "metadata": {
    "ExecuteTime": {
     "end_time": "2024-01-19T18:46:57.561212Z",
     "start_time": "2024-01-19T18:46:56.436988Z"
    }
   },
   "outputs": [],
   "source": [
    "# Settings\n",
    "\n",
    "import warnings\n",
    "warnings.filterwarnings(\"ignore\")\n",
    "\n",
    "## Directory\n",
    "base_dir = '/mnt/hdd/'\n",
    "data_dir = 'data/Healthy/'\n",
    "nb_dir = 'Notebooks/Gut_project/'\n",
    "sc.settings.figdir = base_dir + nb_dir + 'Figures'\n",
    "sc.settings.cachedir = base_dir + 'Cache'\n",
    "\n",
    "## Scanpy settings\n",
    "sc.settings.verbosity = 3\n",
    "#sc.logging.print_versions()\n",
    "#session_info.show()"
   ]
  },
  {
   "cell_type": "code",
   "execution_count": null,
   "metadata": {},
   "outputs": [],
   "source": [
    "%run utils.ipynb"
   ]
  },
  {
   "cell_type": "code",
   "execution_count": null,
   "metadata": {},
   "outputs": [],
   "source": [
    "mymap = load_RdOrYl_cmap_settings()"
   ]
  },
  {
   "cell_type": "markdown",
   "metadata": {},
   "source": [
    "# Load Data"
   ]
  },
  {
   "cell_type": "markdown",
   "metadata": {},
   "source": [
    "## aData"
   ]
  },
  {
   "cell_type": "code",
   "execution_count": null,
   "metadata": {
    "ExecuteTime": {
     "end_time": "2024-02-09T15:16:51.462083Z",
     "start_time": "2024-02-09T15:16:44.898920Z"
    }
   },
   "outputs": [],
   "source": [
    "adata = sc.read_h5ad('/mnt/hdd/data/Healthy/adata_markedDoublets_normalized_initialAnno_rmDoublets_integrated_all.h5ad')"
   ]
  },
  {
   "cell_type": "code",
   "execution_count": null,
   "metadata": {},
   "outputs": [],
   "source": [
    "adata.obs['initial_cell_type'] = adata.obs['initial_cell_type'].replace('Doublets', 'NA')"
   ]
  },
  {
   "cell_type": "code",
   "execution_count": null,
   "metadata": {},
   "outputs": [],
   "source": [
    "adata.obs['enrichment proportion'] =adata.obs['enrichment proportion'].astype('category')"
   ]
  },
  {
   "cell_type": "code",
   "execution_count": null,
   "metadata": {},
   "outputs": [],
   "source": [
    "adata"
   ]
  },
  {
   "cell_type": "markdown",
   "metadata": {},
   "source": [
    "## update metadata"
   ]
  },
  {
   "cell_type": "code",
   "execution_count": null,
   "metadata": {},
   "outputs": [],
   "source": [
    "## add metadata\n",
    "metadata_df =read_excel_metadata(f'/mnt/hdd/data/metadata_mouse_gut.xlsx')\n",
    "# Ensure folder name is the index in metadata for easier access\n",
    "metadata_df.drop(metadata_df[metadata_df['kit'] == 'Multiome_ATAC_v1'].index, inplace=True)\n",
    "metadata_df.drop(metadata_df[~metadata_df['condition'].isin(['Ctr','Ctr/WT'])].index, inplace=True)\n",
    "metadata_df.set_index('folder name', inplace=True)\n",
    "metadata_df.drop(['Sample Pooling - confounded with Project?','date','Project Name','Link_id','sample name','Cell Count [cells/µl]','Viable Cells [%]','Lib. Concentration [ng/µl]','Lib. Molarity [nM]','Average Lib. Size [bp]','cDNA Cycles','Lib. Cycles','10x Sample Index','Sequencing Depth [reads/cell]','exclusion, reason','sample number Minas',\"modality (confounded with 'sequencing'\",'Internal ID', 'SeqID','Read Length'], axis=1, inplace=True)"
   ]
  },
  {
   "cell_type": "code",
   "execution_count": null,
   "metadata": {},
   "outputs": [],
   "source": [
    "metadata_df"
   ]
  },
  {
   "cell_type": "code",
   "execution_count": null,
   "metadata": {},
   "outputs": [],
   "source": [
    "# Function to update adata.obs with metadata using a lambda function\n",
    "for col in metadata_df.columns:\n",
    "    try:\n",
    "        adata.obs[col] = adata.obs['sample'].apply(lambda x: metadata_df.at[x, col])\n",
    "    except KeyError as err:\n",
    "        print(f'no such key: {err} in col {col}')"
   ]
  },
  {
   "cell_type": "code",
   "execution_count": null,
   "metadata": {},
   "outputs": [],
   "source": [
    "adata"
   ]
  },
  {
   "cell_type": "markdown",
   "metadata": {},
   "source": [
    "#### from github HLCA: visualize main covariates"
   ]
  },
  {
   "cell_type": "code",
   "execution_count": null,
   "metadata": {},
   "outputs": [],
   "source": [
    "sc.tl.pca(adata)\n",
    "\n",
    "n_pcs = 50\n",
    "\n",
    "#specifiy covariates we want to check (we will quantify their correlation with the 1st 50 PCs, to see how much variance they can each explain):\n",
    "\n",
    "covariates = [\n",
    "    \"sample\",\n",
    "'doublet_calls', 'final_doublets', 'final_doublets_cat', 'phase', 'proliferation', 'initial_cell_type','Project','sequencing','condition','kit','line','strain','enriched','enrichment proportion','diet','Index Type','sequencing machine'\n",
    "]"
   ]
  },
  {
   "cell_type": "markdown",
   "metadata": {},
   "source": [
    "Create shuffled assignment of single cell platform (and processing site if included), to compare actual variance explained to variance explained expected by random. We will assign all cells of the same sample to the same value."
   ]
  },
  {
   "cell_type": "code",
   "execution_count": null,
   "metadata": {},
   "outputs": [],
   "source": [
    "include_processing_site =True"
   ]
  },
  {
   "cell_type": "code",
   "execution_count": null,
   "metadata": {},
   "outputs": [],
   "source": [
    "# create shuffled version of single cell platform, and of Processing_site:\n",
    "if include_processing_site:\n",
    "    sample_to_scplatform = adata.obs.groupby(\"sample\").agg(\n",
    "        {\"Project\": \"first\", \"sequencing machine\": \"first\"}\n",
    "    )\n",
    "else:\n",
    "    sample_to_scplatform = adata.obs.groupby(\"sample\").agg(\n",
    "        {\"Project\": \"first\"}\n",
    "    )\n",
    "for i in range(10):\n",
    "    np.random.shuffle(sample_to_scplatform.Project)\n",
    "    adata.obs[\"Project_shuffled_\" + str(i)] = adata.obs[\"sample\"].map(\n",
    "        dict(\n",
    "            zip(\n",
    "                sample_to_scplatform.index,\n",
    "                sample_to_scplatform.Project,\n",
    "            )\n",
    "        )\n",
    "    )\n",
    "    covariates.append(\"Project_shuffled_\" + str(i))\n",
    "    if include_processing_site:\n",
    "        np.random.shuffle(sample_to_scplatform['sequencing machine'])\n",
    "        adata.obs[\"sequencing machine_shuffled_\" + str(i)] = adata.obs[\"sample\"].map(\n",
    "            dict(zip(sample_to_scplatform.index, sample_to_scplatform['sequencing machine']))\n",
    "        )\n",
    "        covariates.append(\"sequencing machine_shuffled_\" + str(i))"
   ]
  },
  {
   "cell_type": "markdown",
   "metadata": {},
   "source": [
    "Now check for every covariate, for every PC how much variance among the cells' PC scores the covariate can explain. Add this variance explained per PC up across PCs for every covariate. This will give us the total amount of variance explained per covariate."
   ]
  },
  {
   "cell_type": "code",
   "execution_count": null,
   "metadata": {},
   "outputs": [],
   "source": [
    "from sklearn.linear_model import LinearRegression\n",
    "\n",
    "def check_if_nan(value):\n",
    "    \"\"\"return Boolean version of value that is True if value is\n",
    "    some type of NaN (e.g. np.nan, None, \"nan\" etc). \n",
    "    Example use:\n",
    "    none_entries = subadata.obs.applymap(check_if_nan)\n",
    "    subadata.obs = subadata.obs.mask(none_entries.values)\n",
    "    \"\"\"\n",
    "    if value == \"nan\":\n",
    "        return True\n",
    "    elif value == None:\n",
    "        return True\n",
    "    if isinstance(value, float):\n",
    "        if np.isnan(value):\n",
    "            return True\n",
    "    if value == \"ND\":\n",
    "        return True\n",
    "    return False"
   ]
  },
  {
   "cell_type": "code",
   "execution_count": null,
   "metadata": {},
   "outputs": [],
   "source": [
    "var_explained = pd.DataFrame(index=range(n_pcs), columns=covariates + [\"overall\"])\n",
    "for pc in range(n_pcs):\n",
    "    y_true_unfiltered = adata.obsm[\"X_pca\"][:, pc]\n",
    "    var_explained.loc[pc, \"overall\"] = np.var(y_true_unfiltered)\n",
    "    for cov in covariates:\n",
    "        x = adata.obs[cov].values.copy()\n",
    "        x_nans = np.vectorize(check_if_nan)(x)\n",
    "        x = x[~x_nans]\n",
    "        if len(x) != 0:\n",
    "            y_true = y_true_unfiltered[~x_nans].reshape(-1, 1)\n",
    "            if x.dtype in [\"float32\", \"float\", \"float64\"]:\n",
    "                x = x.reshape(-1, 1)\n",
    "            else:\n",
    "                if len(set(x)) == 1:\n",
    "                    var_explained.loc[pc, cov] = np.nan\n",
    "                    continue\n",
    "                x = pd.get_dummies(x)\n",
    "            x.columns = x.columns.astype(str)\n",
    "            lrf = LinearRegression(fit_intercept=True).fit(\n",
    "                x,\n",
    "                y_true,\n",
    "            )\n",
    "            y_pred = lrf.predict(x)\n",
    "            var_explained.loc[pc, cov] = np.var(y_pred)\n",
    "total_variance_explained = np.sum(var_explained, axis=0).sort_values(ascending=False)\n",
    "total_variance_explained_fractions = (\n",
    "    total_variance_explained / total_variance_explained[\"overall\"]\n",
    ")"
   ]
  },
  {
   "cell_type": "markdown",
   "metadata": {},
   "source": [
    "Do the same for the shuffled covariates. Calculate mean over shuffling instances, add as one value to clean fractions:"
   ]
  },
  {
   "cell_type": "code",
   "execution_count": null,
   "metadata": {},
   "outputs": [],
   "source": [
    "total_variance_explained_clean = total_variance_explained_fractions[\n",
    "    [\n",
    "        x\n",
    "        for x in total_variance_explained_fractions.index\n",
    "        if not x.startswith(\"sequencing machine_shuffled\")\n",
    "        and not x.startswith(\"Project_shuffled\")\n",
    "    ]\n",
    "]\n",
    "total_variance_explained_clean[\"Project_shuffled\"] = np.mean(\n",
    "    total_variance_explained_fractions[\n",
    "        [\n",
    "            x\n",
    "            for x in total_variance_explained_fractions.index\n",
    "            if x.startswith(\"Project_\")\n",
    "        ]\n",
    "    ]\n",
    ")\n",
    "stdev_Project_shuffled = np.std(\n",
    "    total_variance_explained_fractions[\n",
    "        [\n",
    "            x\n",
    "            for x in total_variance_explained_fractions.index\n",
    "            if x.startswith(\"Project_\")\n",
    "        ]\n",
    "    ]\n",
    ")\n",
    "if include_processing_site:\n",
    "    total_variance_explained_clean[\"sequencing machine_shuffled\"] = np.mean(\n",
    "        total_variance_explained_fractions[\n",
    "            [\n",
    "                x\n",
    "                for x in total_variance_explained_fractions.index\n",
    "                if x.startswith(\"sequencing machine_shuffled\")\n",
    "            ]\n",
    "        ]\n",
    "    )\n",
    "    stdev_processing_site_shuffled = np.std(\n",
    "        total_variance_explained_fractions[\n",
    "            [\n",
    "                x\n",
    "                for x in total_variance_explained_fractions.index\n",
    "                if x.startswith(\"sequencing machine_shuffled\")\n",
    "            ]\n",
    "        ]\n",
    "    )\n"
   ]
  },
  {
   "cell_type": "markdown",
   "metadata": {},
   "source": [
    "Sort results:"
   ]
  },
  {
   "cell_type": "code",
   "execution_count": null,
   "metadata": {},
   "outputs": [],
   "source": [
    "total_variance_explained_clean.sort_values(ascending=False, inplace=True)"
   ]
  },
  {
   "cell_type": "markdown",
   "metadata": {},
   "source": [
    "Plot:"
   ]
  },
  {
   "cell_type": "code",
   "execution_count": null,
   "metadata": {},
   "outputs": [],
   "source": [
    "plt.figure(figsize=(8, 4))\n",
    "plt.bar(\n",
    "    total_variance_explained_clean[::-1].index,\n",
    "    total_variance_explained_clean[::-1].values,\n",
    ")\n",
    "plt.title(\n",
    "    f\"covariate correlation with first 50 PCs\",\n",
    "    fontsize=14,\n",
    ")  # \\n({dominant_type})\n",
    "plt.xticks(rotation=90)\n",
    "plt.show()"
   ]
  },
  {
   "cell_type": "markdown",
   "metadata": {},
   "source": [
    "# select best MultiVI"
   ]
  },
  {
   "cell_type": "code",
   "execution_count": null,
   "metadata": {},
   "outputs": [],
   "source": [
    "gc.collect()"
   ]
  },
  {
   "cell_type": "code",
   "execution_count": null,
   "metadata": {},
   "outputs": [],
   "source": [
    "#sc.pp.neighbors(adata, use_rep='X_MultiVI', key_added='MultiVI')\n",
    "sc.pp.neighbors(adata, use_rep='X_MultiVI_meta', key_added='MultiVI_meta')\n",
    "#sc.pp.neighbors(adata, use_rep='X_MultiVI_rmDoublets', key_added='MultiVI_rmDoublets')\n",
    "sc.pp.neighbors(adata, use_rep='X_MultiVI_rmDoublets_meta', key_added='MultiVI_rmDoublets_meta')"
   ]
  },
  {
   "cell_type": "markdown",
   "metadata": {},
   "source": [
    "## MultiVI meta"
   ]
  },
  {
   "cell_type": "code",
   "execution_count": null,
   "metadata": {},
   "outputs": [],
   "source": [
    "sc.tl.leiden(adata, neighbors_key='MultiVI_meta')"
   ]
  },
  {
   "cell_type": "code",
   "execution_count": null,
   "metadata": {},
   "outputs": [],
   "source": [
    "sc.tl.umap(adata, neighbors_key='MultiVI_meta')"
   ]
  },
  {
   "cell_type": "code",
   "execution_count": null,
   "metadata": {},
   "outputs": [],
   "source": [
    "sc.pl.umap(adata, color=['pretty name', 'kit','strain','sequencing','n_counts','log_counts','n_genes','log_genes','mt_frac','rp_frac','doublet_calls'],  size=10, alpha=1, outline_width=(0.3, 0.0), ncols=4, wspace =.95, frameon=False,cmap = mymap)"
   ]
  },
  {
   "cell_type": "markdown",
   "metadata": {},
   "source": [
    "### save leiden and UMAP into obsm"
   ]
  },
  {
   "cell_type": "code",
   "execution_count": null,
   "metadata": {},
   "outputs": [],
   "source": [
    "adata.obs['leiden_MultiVI_meta'] = adata.obs['leiden']"
   ]
  },
  {
   "cell_type": "code",
   "execution_count": null,
   "metadata": {},
   "outputs": [],
   "source": [
    "adata.obsm['UMAP_MultiVI_meta'] = adata.obsm['X_umap']"
   ]
  },
  {
   "cell_type": "code",
   "execution_count": null,
   "metadata": {},
   "outputs": [],
   "source": [
    "adata"
   ]
  },
  {
   "cell_type": "markdown",
   "metadata": {},
   "source": [
    "## MultiVI wo dblts and with meta"
   ]
  },
  {
   "cell_type": "code",
   "execution_count": null,
   "metadata": {},
   "outputs": [],
   "source": [
    "sc.tl.leiden(adata, neighbors_key='MultiVI_rmDoublets_meta')"
   ]
  },
  {
   "cell_type": "code",
   "execution_count": null,
   "metadata": {},
   "outputs": [],
   "source": [
    "sc.tl.umap(adata, neighbors_key='MultiVI_rmDoublets_meta')"
   ]
  },
  {
   "cell_type": "code",
   "execution_count": null,
   "metadata": {},
   "outputs": [],
   "source": [
    "sc.pl.umap(adata, color=['pretty name', 'kit','strain','sequencing','n_counts','log_counts','n_genes','log_genes','mt_frac','rp_frac','doublet_calls'],  size=10, alpha=1, outline_width=(0.3, 0.0), ncols=4, wspace =.95, frameon=False,cmap = mymap)"
   ]
  },
  {
   "cell_type": "markdown",
   "metadata": {},
   "source": [
    "### save leiden and UMAP into obsm"
   ]
  },
  {
   "cell_type": "code",
   "execution_count": null,
   "metadata": {},
   "outputs": [],
   "source": [
    "adata.obs['leiden_MultiVI_rmDblts_meta'] = adata.obs['leiden']"
   ]
  },
  {
   "cell_type": "code",
   "execution_count": null,
   "metadata": {},
   "outputs": [],
   "source": [
    "adata.obsm['UMAP_MultiVI_rmDblts_meta'] = adata.obsm['X_umap']"
   ]
  },
  {
   "cell_type": "code",
   "execution_count": null,
   "metadata": {},
   "outputs": [],
   "source": [
    "adata"
   ]
  },
  {
   "cell_type": "code",
   "execution_count": null,
   "metadata": {},
   "outputs": [],
   "source": [
    "gc.collect()"
   ]
  },
  {
   "cell_type": "markdown",
   "metadata": {},
   "source": [
    "## combine plots"
   ]
  },
  {
   "cell_type": "markdown",
   "metadata": {},
   "source": [
    "### QC variables"
   ]
  },
  {
   "cell_type": "markdown",
   "metadata": {},
   "source": [
    "'sample','n_counts','log_counts','n_genes','log_genes','mt_frac','rp_frac','final_doublets_cat','doublet_calls'"
   ]
  },
  {
   "cell_type": "code",
   "execution_count": null,
   "metadata": {},
   "outputs": [],
   "source": [
    "# Define matplotlib Axes\n",
    "# Number of Axes & plot size\n",
    "ncols = 6\n",
    "nrows = 2\n",
    "figsize = 4\n",
    "wspace = 0.5\n",
    "fig, axs = plt.subplots(\n",
    "    nrows=nrows,\n",
    "    ncols=ncols,\n",
    "    figsize=(ncols * figsize + figsize * wspace * (ncols - 1), nrows * figsize),\n",
    ")\n",
    "plt.subplots_adjust(wspace=wspace)\n",
    "# This produces two Axes objects in a single Figure\n",
    "print(\"axes:\", axs)\n",
    "\n",
    "# We can use these Axes objects individually to plot on them\n",
    "# We need to set show=False so that the Figure is not displayed before we\n",
    "# finished plotting on all Axes and making all plot adjustments\n",
    "sc.pl.embedding(adata, basis='UMAP_MultiVI_meta', color=['n_counts'], size =10, ax=axs[0,0], show=False, title='MultiVI total counts', cmap=mymap, frameon=False)\n",
    "sc.pl.embedding(adata, basis='UMAP_MultiVI_meta', color=['log_counts'], size =10, ax=axs[0,1], show=False, cmap=mymap, frameon=False)\n",
    "sc.pl.embedding(adata, basis='UMAP_MultiVI_meta', color=['n_genes'], size =10, ax=axs[0,2], show=False, cmap=mymap, frameon=False)\n",
    "sc.pl.embedding(adata, basis='UMAP_MultiVI_meta', color=['log_genes'], size =10, ax=axs[0,3], show=False, cmap=mymap, frameon=False)\n",
    "sc.pl.embedding(adata, basis='UMAP_MultiVI_meta', color=['mt_frac'], size =10, ax=axs[0,4], show=False, cmap=mymap, frameon=False)\n",
    "sc.pl.embedding(adata, basis='UMAP_MultiVI_meta', color=['doublet_calls'], size =10, ax=axs[0,5], show=False, cmap=mymap, frameon=False)\n",
    "sc.pl.embedding(adata, basis='UMAP_MultiVI_rmDblts_meta', color=['n_counts'], size =10, ax=axs[1,0], show=False, title='MultiVI wo. doublets total counts', cmap=mymap, frameon=False)\n",
    "sc.pl.embedding(adata, basis='UMAP_MultiVI_rmDblts_meta', color=['log_counts'], size =10, ax=axs[1,1], show=False, cmap=mymap, frameon=False)\n",
    "sc.pl.embedding(adata, basis='UMAP_MultiVI_rmDblts_meta', color=['n_genes'], size =10, ax=axs[1,2], show=False, cmap=mymap, frameon=False)\n",
    "sc.pl.embedding(adata, basis='UMAP_MultiVI_rmDblts_meta', color=['log_genes'], size =10, ax=axs[1,3], show=False, cmap=mymap, frameon=False)\n",
    "sc.pl.embedding(adata, basis='UMAP_MultiVI_rmDblts_meta', color=['mt_frac'], size =10, ax=axs[1,4], show=False, cmap=mymap, frameon=False)\n",
    "sc.pl.embedding(adata, basis='UMAP_MultiVI_rmDblts_meta', color=['doublet_calls'], size =10, ax=axs[1,5], cmap=mymap, frameon=False)"
   ]
  },
  {
   "cell_type": "markdown",
   "metadata": {},
   "source": [
    "### metadata"
   ]
  },
  {
   "cell_type": "raw",
   "metadata": {
    "vscode": {
     "languageId": "raw"
    }
   },
   "source": [
    "'sequencing','strain','Index Type','sequencing machine'\n",
    "'Project','condition','kit','line','enriched','diet'"
   ]
  },
  {
   "cell_type": "code",
   "execution_count": null,
   "metadata": {},
   "outputs": [],
   "source": [
    "# Define matplotlib Axes\n",
    "# Number of Axes & plot size\n",
    "ncols = 6\n",
    "nrows = 2\n",
    "figsize = 4\n",
    "wspace = 1.35\n",
    "fig, axs = plt.subplots(\n",
    "    nrows=nrows,\n",
    "    ncols=ncols,\n",
    "    figsize=(ncols * figsize + figsize * wspace * (ncols - 1), nrows * figsize),\n",
    ")\n",
    "plt.subplots_adjust(wspace=wspace)\n",
    "# This produces two Axes objects in a single Figure\n",
    "print(\"axes:\", axs)\n",
    "\n",
    "# We can use these Axes objects individually to plot on them\n",
    "# We need to set show=False so that the Figure is not displayed before we\n",
    "# finished plotting on all Axes and making all plot adjustments\n",
    "\n",
    "sc.pl.embedding(adata, basis='UMAP_MultiVI_meta', color=['pretty name'], size =10, ax=axs[0,0], show=False, title='MultiVI samples', frameon=False)\n",
    "sc.pl.embedding(adata, basis='UMAP_MultiVI_meta', color=['sequencing'], size =10, ax=axs[0,1], show=False, frameon=False)\n",
    "sc.pl.embedding(adata, basis='UMAP_MultiVI_meta', color=['strain'], size =10, ax=axs[0,2], show=False, frameon=False)\n",
    "sc.pl.embedding(adata, basis='UMAP_MultiVI_meta', color=['Index Type'], size =10, ax=axs[0,3], show=False, frameon=False)\n",
    "sc.pl.embedding(adata, basis='UMAP_MultiVI_meta', color=['sequencing machine'], size =10, ax=axs[0,4], show=False, frameon=False)\n",
    "sc.pl.embedding(adata, basis='UMAP_MultiVI_meta', color=['enrichment proportion'], size =10, ax=axs[0,5],show=False, frameon=False)\n",
    "\n",
    "sc.pl.embedding(adata, basis='UMAP_MultiVI_rmDblts_meta', color=['pretty name'], size =10, ax=axs[1,0], show=False, title='MultiVI wo. doublets samples', frameon=False)\n",
    "sc.pl.embedding(adata, basis='UMAP_MultiVI_rmDblts_meta', color=['sequencing'], size =10, ax=axs[1,1], show=False, frameon=False)\n",
    "sc.pl.embedding(adata, basis='UMAP_MultiVI_rmDblts_meta', color=['strain'], size =10, ax=axs[1,2], show=False, frameon=False)\n",
    "sc.pl.embedding(adata, basis='UMAP_MultiVI_rmDblts_meta', color=['Index Type'], size =10, ax=axs[1,3], show=False, frameon=False)\n",
    "sc.pl.embedding(adata, basis='UMAP_MultiVI_rmDblts_meta', color=['sequencing machine'], size =10, ax=axs[1,4],show=False, frameon=False)\n",
    "sc.pl.embedding(adata, basis='UMAP_MultiVI_rmDblts_meta', color=['enrichment proportion'], size =10, ax=axs[1,5], frameon=False)"
   ]
  },
  {
   "cell_type": "markdown",
   "metadata": {},
   "source": [
    "### other metadata"
   ]
  },
  {
   "cell_type": "markdown",
   "metadata": {},
   "source": [
    "'Project','condition','kit','line','enriched','diet'"
   ]
  },
  {
   "cell_type": "code",
   "execution_count": null,
   "metadata": {},
   "outputs": [],
   "source": [
    "# Define matplotlib Axes\n",
    "# Number of Axes & plot size\n",
    "ncols = 6\n",
    "nrows = 2\n",
    "figsize = 4\n",
    "wspace = 0.7\n",
    "fig, axs = plt.subplots(\n",
    "    nrows=nrows,\n",
    "    ncols=ncols,\n",
    "    figsize=(ncols * figsize + figsize * wspace * (ncols - 1), nrows * figsize),\n",
    ")\n",
    "plt.subplots_adjust(wspace=wspace)\n",
    "# This produces two Axes objects in a single Figure\n",
    "print(\"axes:\", axs)\n",
    "\n",
    "# We can use these Axes objects individually to plot on them\n",
    "# We need to set show=False so that the Figure is not displayed before we\n",
    "# finished plotting on all Axes and making all plot adjustments\n",
    "\n",
    "sc.pl.embedding(adata, basis='UMAP_MultiVI_meta', color=['Project'], size =10, ax=axs[0,0], show=False, title='MultiVI projet', frameon=False)\n",
    "sc.pl.embedding(adata, basis='UMAP_MultiVI_meta', color=['strain'], size =10, ax=axs[0,1], show=False, frameon=False)\n",
    "sc.pl.embedding(adata, basis='UMAP_MultiVI_meta', color=['kit'], size =10, ax=axs[0,2], show=False, frameon=False)\n",
    "sc.pl.embedding(adata, basis='UMAP_MultiVI_meta', color=['line'], size =10, ax=axs[0,3], show=False, frameon=False)\n",
    "sc.pl.embedding(adata, basis='UMAP_MultiVI_meta', color=['diet'], size =10, ax=axs[0,4], show=False, frameon=False)\n",
    "sc.pl.embedding(adata, basis='UMAP_MultiVI_meta', color=['enriched'], size =10, ax=axs[0,5], show=False, frameon=False)\n",
    "sc.pl.embedding(adata, basis='UMAP_MultiVI_rmDblts_meta', color=['Project'], size =10, ax=axs[1,0], show=False, title='MultiVI wo. doublets project', frameon=False)\n",
    "sc.pl.embedding(adata, basis='UMAP_MultiVI_rmDblts_meta', color=['strain'], size =10, ax=axs[1,1], show=False, frameon=False)\n",
    "sc.pl.embedding(adata, basis='UMAP_MultiVI_rmDblts_meta', color=['kit'], size =10, ax=axs[1,2], show=False, frameon=False)\n",
    "sc.pl.embedding(adata, basis='UMAP_MultiVI_rmDblts_meta', color=['line'], size =10, ax=axs[1,3], show=False, frameon=False)\n",
    "sc.pl.embedding(adata, basis='UMAP_MultiVI_rmDblts_meta', color=['diet'], size =10, ax=axs[1,4], show=False, frameon=False)\n",
    "sc.pl.embedding(adata, basis='UMAP_MultiVI_rmDblts_meta', color=['enriched'], size =10, ax=axs[1,5], frameon=False)"
   ]
  },
  {
   "cell_type": "markdown",
   "metadata": {},
   "source": [
    "### marker genes"
   ]
  },
  {
   "cell_type": "code",
   "execution_count": null,
   "metadata": {},
   "outputs": [],
   "source": [
    "marker_genes = ['Foxa2','Neurog3','Tph1','Isl1','Pou2f3','Lgr5','Dmbt1','Hmgb2','Top2a','Defa24','Gna11','Cd52','Muc2','Fcgbp','Lyz1']"
   ]
  },
  {
   "cell_type": "code",
   "execution_count": null,
   "metadata": {},
   "outputs": [],
   "source": [
    "adata"
   ]
  },
  {
   "cell_type": "code",
   "execution_count": null,
   "metadata": {},
   "outputs": [],
   "source": [
    "adata.X = adata.layers['sct_logcounts']"
   ]
  },
  {
   "cell_type": "code",
   "execution_count": null,
   "metadata": {},
   "outputs": [],
   "source": [
    "# Define matplotlib Axes\n",
    "# Number of Axes & plot size\n",
    "ncols = 6\n",
    "nrows = 2\n",
    "figsize = 4\n",
    "wspace = 0.5\n",
    "fig, axs = plt.subplots(\n",
    "    nrows=nrows,\n",
    "    ncols=ncols,\n",
    "    figsize=(ncols * figsize + figsize * wspace * (ncols - 1), nrows * figsize),\n",
    ")\n",
    "plt.subplots_adjust(wspace=wspace)\n",
    "# This produces two Axes objects in a single Figure\n",
    "print(\"axes:\", axs)\n",
    "\n",
    "umaps = ['UMAP_MultiVI_meta','UMAP_MultiVI_rmDblts_meta']\n",
    "\n",
    "# We can use these Axes objects individually to plot on them\n",
    "# We need to set show=False so that the Figure is not displayed before we\n",
    "# finished plotting on all Axes and making all plot adjustments\n",
    "\n",
    "\n",
    "sc.pl.embedding(adata, basis='UMAP_MultiVI_meta', color=['Lgr5'], size =10, ax=axs[0,0], show=False, frameon=False, cmap=mymap)\n",
    "sc.pl.embedding(adata, basis='UMAP_MultiVI_meta', color=['Neurog3'], size =10, ax=axs[0,1], show=False, frameon=False, cmap=mymap)\n",
    "sc.pl.embedding(adata, basis='UMAP_MultiVI_meta', color=['Lyz1'], size =10, ax=axs[0,2], show=False, frameon=False, cmap=mymap)\n",
    "sc.pl.embedding(adata, basis='UMAP_MultiVI_meta', color=['Muc2'], size =10, ax=axs[0,3], show=False, frameon=False, cmap=mymap)\n",
    "sc.pl.embedding(adata, basis='UMAP_MultiVI_meta', color=['Pou2f3'], size =10, ax=axs[0,4], show=False, frameon=False, cmap=mymap)\n",
    "sc.pl.embedding(adata, basis='UMAP_MultiVI_meta', color=['Tph1'], size =10, ax=axs[0,5], show=False, frameon=False, cmap=mymap)\n",
    "\n",
    "sc.pl.embedding(adata, basis='UMAP_MultiVI_rmDblts_meta', color=['Lgr5'], size =10, ax=axs[1,0], show=False, frameon=False, cmap=mymap)\n",
    "sc.pl.embedding(adata, basis='UMAP_MultiVI_rmDblts_meta', color=['Neurog3'], size =10, ax=axs[1,1], show=False, frameon=False, cmap=mymap)\n",
    "sc.pl.embedding(adata, basis='UMAP_MultiVI_rmDblts_meta', color=['Lyz1'], size =10, ax=axs[1,2], show=False,frameon=False, cmap=mymap)\n",
    "sc.pl.embedding(adata, basis='UMAP_MultiVI_rmDblts_meta', color=['Muc2'], size =10, ax=axs[1,3], show=False, frameon=False, cmap=mymap)\n",
    "sc.pl.embedding(adata, basis='UMAP_MultiVI_rmDblts_meta', color=['Pou2f3'], size =10, ax=axs[1,4], show=False, frameon=False, cmap=mymap)\n",
    "sc.pl.embedding(adata, basis='UMAP_MultiVI_rmDblts_meta', color=['Tph1'], size =10, ax=axs[1,5], frameon=False, cmap=mymap)"
   ]
  },
  {
   "cell_type": "code",
   "execution_count": null,
   "metadata": {},
   "outputs": [],
   "source": [
    "marker_genes = ['Foxa2','Neurog3','Tph1','Isl1','Pou2f3','Lgr5','Dmbt1','Hmgb2','Top2a','Defa24','Muc2','Lyz1']"
   ]
  },
  {
   "cell_type": "code",
   "execution_count": null,
   "metadata": {},
   "outputs": [],
   "source": [
    "# Define matplotlib Axes\n",
    "# Number of Axes & plot size\n",
    "ncols = 2\n",
    "nrows = 12\n",
    "figsize = 4\n",
    "wspace = 0.5\n",
    "fig, axs = plt.subplots(\n",
    "    nrows=nrows,\n",
    "    ncols=ncols,\n",
    "    figsize=(ncols * figsize + figsize * wspace * (ncols - 1), nrows * figsize),\n",
    ")\n",
    "plt.subplots_adjust(wspace=wspace)\n",
    "\n",
    "\n",
    "umaps = ['UMAP_MultiVI_meta','UMAP_MultiVI_rmDblts_meta']\n",
    "\n",
    "\n",
    "# Iterate over the embeddings and marker genes to create each subplot\n",
    "for i, umap in enumerate(umaps):\n",
    "    for j, gene in enumerate(marker_genes):\n",
    "        sc.pl.embedding(adata, basis=umap, color=[gene], size=10, ax=axs[j, i], show=False, frameon=False, cmap=mymap)\n",
    "\n",
    "# Display the plot\n",
    "plt.show()"
   ]
  },
  {
   "cell_type": "markdown",
   "metadata": {},
   "source": [
    "# add scvi and scANVI"
   ]
  },
  {
   "cell_type": "code",
   "execution_count": null,
   "metadata": {},
   "outputs": [],
   "source": [
    "sc.pp.neighbors(adata, use_rep='X_scANVI', key_added='scANVI')\n",
    "sc.pp.neighbors(adata, use_rep='X_scVI', key_added='scVI')"
   ]
  },
  {
   "cell_type": "markdown",
   "metadata": {},
   "source": [
    "## scANVI"
   ]
  },
  {
   "cell_type": "code",
   "execution_count": null,
   "metadata": {},
   "outputs": [],
   "source": [
    "sc.tl.leiden(adata, neighbors_key='scANVI')"
   ]
  },
  {
   "cell_type": "code",
   "execution_count": null,
   "metadata": {},
   "outputs": [],
   "source": [
    "sc.tl.umap(adata, neighbors_key='scANVI')"
   ]
  },
  {
   "cell_type": "code",
   "execution_count": null,
   "metadata": {},
   "outputs": [],
   "source": [
    "sc.pl.umap(adata, color=['pretty name','kit','strain','sequencing','n_counts','log_counts','n_genes','log_genes','mt_frac','rp_frac','doublet_calls'],  size=10, alpha=1, outline_width=(0.3, 0.0), ncols=4, wspace =.9, cmap=mymap, frameon=False)"
   ]
  },
  {
   "cell_type": "code",
   "execution_count": null,
   "metadata": {},
   "outputs": [],
   "source": [
    "gc.collect()"
   ]
  },
  {
   "cell_type": "code",
   "execution_count": null,
   "metadata": {},
   "outputs": [],
   "source": [
    "adata"
   ]
  },
  {
   "cell_type": "markdown",
   "metadata": {},
   "source": [
    "### save leiden and UMAP into obsm"
   ]
  },
  {
   "cell_type": "code",
   "execution_count": null,
   "metadata": {},
   "outputs": [],
   "source": [
    "adata.obs['leiden_scANVI'] = adata.obs['leiden']"
   ]
  },
  {
   "cell_type": "code",
   "execution_count": null,
   "metadata": {},
   "outputs": [],
   "source": [
    "adata.obsm['UMAP_scANVI'] = adata.obsm['X_umap']"
   ]
  },
  {
   "cell_type": "code",
   "execution_count": null,
   "metadata": {},
   "outputs": [],
   "source": [
    "gc.collect()"
   ]
  },
  {
   "cell_type": "markdown",
   "metadata": {},
   "source": [
    "### scVI"
   ]
  },
  {
   "cell_type": "code",
   "execution_count": null,
   "metadata": {},
   "outputs": [],
   "source": [
    "sc.tl.leiden(adata, neighbors_key='scVI')"
   ]
  },
  {
   "cell_type": "code",
   "execution_count": null,
   "metadata": {},
   "outputs": [],
   "source": [
    "sc.tl.umap(adata, neighbors_key='scVI')"
   ]
  },
  {
   "cell_type": "code",
   "execution_count": null,
   "metadata": {},
   "outputs": [],
   "source": [
    "sc.pl.umap(adata, color=['pretty name','kit','strain','sequencing','n_counts','log_counts','n_genes','log_genes','mt_frac','rp_frac','doublet_calls'],  size=10, alpha=1, outline_width=(0.3, 0.0), ncols=4, wspace =.9, cmap=mymap, frameon=False)"
   ]
  },
  {
   "cell_type": "code",
   "execution_count": null,
   "metadata": {},
   "outputs": [],
   "source": [
    "gc.collect()"
   ]
  },
  {
   "cell_type": "code",
   "execution_count": null,
   "metadata": {},
   "outputs": [],
   "source": [
    "adata"
   ]
  },
  {
   "cell_type": "markdown",
   "metadata": {},
   "source": [
    "### save leiden and UMAP into obsm"
   ]
  },
  {
   "cell_type": "code",
   "execution_count": null,
   "metadata": {},
   "outputs": [],
   "source": [
    "adata.obs['leiden_scVI'] = adata.obs['leiden']"
   ]
  },
  {
   "cell_type": "code",
   "execution_count": null,
   "metadata": {},
   "outputs": [],
   "source": [
    "adata.obsm['UMAP_scVI'] = adata.obsm['X_umap']"
   ]
  },
  {
   "cell_type": "code",
   "execution_count": null,
   "metadata": {},
   "outputs": [],
   "source": [
    "gc.collect()"
   ]
  },
  {
   "cell_type": "markdown",
   "metadata": {},
   "source": [
    "## combine plots"
   ]
  },
  {
   "cell_type": "markdown",
   "metadata": {},
   "source": [
    "### all embeddings"
   ]
  },
  {
   "cell_type": "code",
   "execution_count": null,
   "metadata": {},
   "outputs": [],
   "source": [
    "umaps = ['UMAP_scVI','UMAP_scANVI','UMAP_MultiVI_meta','UMAP_MultiVI_rmDblts_meta']"
   ]
  },
  {
   "cell_type": "markdown",
   "metadata": {},
   "source": [
    "#### samples"
   ]
  },
  {
   "cell_type": "code",
   "execution_count": null,
   "metadata": {},
   "outputs": [],
   "source": [
    "# Number of Axes & plot size\n",
    "ncols = 2\n",
    "nrows = 2\n",
    "figsize = 4\n",
    "wspace = 0.75\n",
    "fig, axs = plt.subplots(\n",
    "    nrows=nrows,\n",
    "    ncols=ncols,\n",
    "    figsize=(ncols * figsize + figsize * wspace * (ncols - 1), nrows * figsize),\n",
    ")\n",
    "plt.subplots_adjust(wspace=wspace)\n",
    "\n",
    "Titles = ['scVI', 'scANVI', 'MultiVI', 'MultiVI w/o doublets']\n",
    "\n",
    "# Iterate over the embeddings and marker genes to create each subplot\n",
    "x = 0\n",
    "\n",
    "# Loop for generating subplots\n",
    "for i in range(2):\n",
    "    if i == 1:\n",
    "        x = 1\n",
    "    for j in range(2):\n",
    "        sc.pl.embedding(adata, basis=umaps[i + j + x], color=['pretty name'], size=4, \n",
    "                        ax=axs[i, j], show=False, title=f'{Titles[i + j + x]}',\n",
    "                        legend_loc='none', cmap=mymap, frameon=True)\n",
    "        axs[i, j].set_ylabel('UMAP2')\n",
    "        axs[i, j].set_xlabel('UMAP1')\n",
    "\n",
    "# Step 1: Get categories and their corresponding colors directly from adata\n",
    "categories = adata.obs['pretty name'].cat.categories  # Make sure 'pretty name' is categorical\n",
    "colors = adata.uns['pretty name_colors']\n",
    "\n",
    "# Step 2: Create the custom legend manually\n",
    "legend_patches = [plt.Line2D([0], [0], marker='o', color='w', label=cat, \n",
    "                             markersize=10, markerfacecolor=color) \n",
    "                  for cat, color in zip(categories, colors)]\n",
    "\n",
    "# Step 3: Add the legend to the figure\n",
    "fig.legend(handles=legend_patches, loc='center right', title='sample', frameon=False, fontsize=11)\n",
    "\n",
    "plt.tight_layout(rect=[0, 0, 0.8, 1])  # Adjust layout to make space for the legend\n",
    "plt.show()\n",
    "fig.savefig('Embeddings_sample.png', bbox_inches='tight', dpi=300)\n"
   ]
  },
  {
   "cell_type": "raw",
   "metadata": {
    "vscode": {
     "languageId": "raw"
    }
   },
   "source": [
    "# Define matplotlib Axes\n",
    "# Number of Axes & plot size\n",
    "ncols = 2\n",
    "nrows = 2\n",
    "figsize = 4\n",
    "wspace = 0.75\n",
    "fig, axs = plt.subplots(\n",
    "    nrows=nrows,\n",
    "    ncols=ncols,\n",
    "    figsize=(ncols * figsize + figsize * wspace * (ncols - 1), nrows * figsize),\n",
    ")\n",
    "plt.subplots_adjust(wspace=wspace)\n",
    "\n",
    "Titles = ['scVI','scANVI','MultiVI','MultiVI w/o doublets']\n",
    "\n",
    "\n",
    "# Your colormap and unique categories\n",
    "categories = adata.obs['pretty name'].unique()  # Replace with the actual column name\n",
    "colors = adata.uns['pretty name_colors']\n",
    "\n",
    "# Iterate over the embeddings and marker genes to create each subplot\n",
    "x = 0\n",
    "\n",
    "for i in range(2):\n",
    "    if i ==1:\n",
    "        x = 1\n",
    "    for j in range(2):\n",
    "        sc.pl.embedding(adata, basis=umaps[i+j+x], color=['pretty name'], size =4, ax=axs[i,j], show=False, title=f'{Titles[i+j+x]}',legend_loc='none', cmap=mymap, frameon=True)\n",
    "        axs[i,j].set_ylabel('UMAP2')\n",
    "        axs[i,j].set_xlabel('UMAP1')\n",
    "        # Capture legend handles from one of the subplots\n",
    "\n",
    "# Step 1: Create the custom legend manually\n",
    "legend_patches = [plt.Line2D([0], [0], marker='o', color='w', label=cat, \n",
    "                             markersize=10, markerfacecolor=color) \n",
    "                  for cat, color in zip(categories, colors)]\n",
    "\n",
    "# Step 2: Add the legend to the figure\n",
    "fig.legend(handles=legend_patches, loc='center right', title='sample', frameon=False, fontsize= 11)\n",
    "\n",
    "plt.tight_layout(rect=[0, 0, 0.8, 1])  # Adjust layout to make space for the legend\n",
    "plt.show()\n",
    "fig.savefig('Embeddings_sample.png', bbox_inches='tight', dpi=300) "
   ]
  },
  {
   "cell_type": "markdown",
   "metadata": {},
   "source": [
    "#### kit"
   ]
  },
  {
   "cell_type": "code",
   "execution_count": null,
   "metadata": {},
   "outputs": [],
   "source": [
    "# Number of Axes & plot size\n",
    "ncols = 2\n",
    "nrows = 2\n",
    "figsize = 4\n",
    "wspace = 0.75\n",
    "fig, axs = plt.subplots(\n",
    "    nrows=nrows,\n",
    "    ncols=ncols,\n",
    "    figsize=(ncols * figsize + figsize * wspace * (ncols - 1), nrows * figsize),\n",
    ")\n",
    "plt.subplots_adjust(wspace=wspace)\n",
    "\n",
    "Titles = ['scVI', 'scANVI', 'MultiVI', 'MultiVI w/o doublets']\n",
    "\n",
    "# Iterate over the embeddings and marker genes to create each subplot\n",
    "x = 0\n",
    "\n",
    "# Loop for generating subplots\n",
    "for i in range(2):\n",
    "    if i == 1:\n",
    "        x = 1\n",
    "    for j in range(2):\n",
    "        sc.pl.embedding(adata, basis=umaps[i + j + x], color=['kit'], size=4, \n",
    "                        ax=axs[i, j], show=False, title=f'{Titles[i + j + x]}',\n",
    "                        legend_loc='none', cmap=mymap, frameon=True)\n",
    "        axs[i, j].set_ylabel('UMAP2')\n",
    "        axs[i, j].set_xlabel('UMAP1')\n",
    "\n",
    "# Step 1: Get categories and their corresponding colors directly from adata\n",
    "categories = adata.obs['kit'].cat.categories  # Make sure 'pretty name' is categorical\n",
    "colors = adata.uns['kit_colors']\n",
    "\n",
    "# Step 2: Create the custom legend manually\n",
    "legend_patches = [plt.Line2D([0], [0], marker='o', color='w', label=cat, \n",
    "                             markersize=10, markerfacecolor=color) \n",
    "                  for cat, color in zip(categories, colors)]\n",
    "\n",
    "# Step 3: Add the legend to the figure\n",
    "fig.legend(handles=legend_patches, loc='center right', title='sample', frameon=False, fontsize=11)\n",
    "\n",
    "plt.tight_layout(rect=[0, 0, 0.8, 1])  # Adjust layout to make space for the legend\n",
    "plt.show()\n",
    "fig.savefig('Embeddings_kit.png', bbox_inches='tight', dpi=300)\n"
   ]
  },
  {
   "cell_type": "markdown",
   "metadata": {},
   "source": [
    "#### Project"
   ]
  },
  {
   "cell_type": "code",
   "execution_count": null,
   "metadata": {},
   "outputs": [],
   "source": [
    "# Define matplotlib Axes\n",
    "# Number of Axes & plot size\n",
    "ncols = 2\n",
    "nrows = 2\n",
    "figsize = 4\n",
    "wspace = 0.75\n",
    "fig, axs = plt.subplots(\n",
    "    nrows=nrows,\n",
    "    ncols=ncols,\n",
    "    figsize=(ncols * figsize + figsize * wspace * (ncols - 1), nrows * figsize),\n",
    ")\n",
    "plt.subplots_adjust(wspace=wspace)\n",
    "\n",
    "\n",
    "Titles = ['scVI','scANVI','MultiVI','MultiVI w/o doublets']\n",
    "\n",
    "# Iterate over the embeddings and marker genes to create each subplot\n",
    "x = 0\n",
    "\n",
    "# Loop for generating subplots\n",
    "for i in range(2):\n",
    "    if i == 1:\n",
    "        x = 1\n",
    "    for j in range(2):\n",
    "        sc.pl.embedding(adata, basis=umaps[i + j + x], color=['Project'], size=4, \n",
    "                        ax=axs[i, j], show=False, title=f'{Titles[i + j + x]}',\n",
    "                        legend_loc='none', cmap=mymap, frameon=True)\n",
    "        axs[i, j].set_ylabel('UMAP2')\n",
    "        axs[i, j].set_xlabel('UMAP1')\n",
    "\n",
    "# Step 1: Get categories and their corresponding colors directly from adata\n",
    "categories = adata.obs['Project'].cat.categories  # Make sure 'pretty name' is categorical\n",
    "colors = adata.uns['Project_colors']\n",
    "\n",
    "# Step 2: Create the custom legend manually\n",
    "legend_patches = [plt.Line2D([0], [0], marker='o', color='w', label=cat, \n",
    "                             markersize=10, markerfacecolor=color) \n",
    "                  for cat, color in zip(categories, colors)]\n",
    "\n",
    "# Step 3: Add the legend to the figure\n",
    "fig.legend(handles=legend_patches, loc='center right', title='Project', frameon=False, fontsize=11)\n",
    "\n",
    "plt.tight_layout(rect=[0, 0, 0.8, 1])  # Adjust layout to make space for the legend\n",
    "plt.show()\n",
    "fig.savefig('Embeddings_Project.png', bbox_inches='tight', dpi=300)"
   ]
  },
  {
   "cell_type": "markdown",
   "metadata": {},
   "source": [
    "#### sequencing"
   ]
  },
  {
   "cell_type": "code",
   "execution_count": null,
   "metadata": {},
   "outputs": [],
   "source": [
    "# Define matplotlib Axes\n",
    "# Number of Axes & plot size\n",
    "ncols = 2\n",
    "nrows = 2\n",
    "figsize = 4\n",
    "wspace = 0.75\n",
    "fig, axs = plt.subplots(\n",
    "    nrows=nrows,\n",
    "    ncols=ncols,\n",
    "    figsize=(ncols * figsize + figsize * wspace * (ncols - 1), nrows * figsize),\n",
    ")\n",
    "plt.subplots_adjust(wspace=wspace)\n",
    "\n",
    "Titles = ['scVI','scANVI','MultiVI','MultiVI w/o doublets']\n",
    "\n",
    "\n",
    "# Your colormap and unique categories\n",
    "categories = adata.obs['sequencing'].unique()  # Replace with the actual column name\n",
    "colors = adata.uns['sequencing_colors']\n",
    "\n",
    "# Iterate over the embeddings and marker genes to create each subplot\n",
    "x = 0\n",
    "\n",
    "for i in range(2):\n",
    "    if i ==1:\n",
    "        x = 1\n",
    "    for j in range(2):\n",
    "        sc.pl.embedding(adata, basis=umaps[i+j+x], color=['sequencing'], size =4, ax=axs[i,j], show=False, title=f'{Titles[i+j+x]}',legend_loc='none', cmap=mymap, frameon=True)\n",
    "        axs[i,j].set_ylabel('UMAP2')\n",
    "        axs[i,j].set_xlabel('UMAP1')\n",
    "        # Capture legend handles from one of the subplots\n",
    "\n",
    "# Step 1: Create the custom legend manually\n",
    "legend_patches = [plt.Line2D([0], [0], marker='o', color='w', label=cat, \n",
    "                             markersize=10, markerfacecolor=color) \n",
    "                  for cat, color in zip(categories, colors)]\n",
    "\n",
    "# Step 2: Add the legend to the figure\n",
    "fig.legend(handles=legend_patches, loc='center right', title='sequencing', frameon=False, fontsize= 11)\n",
    "\n",
    "plt.tight_layout(rect=[0, 0, 0.8, 1])  # Adjust layout to make space for the legend\n",
    "plt.show()\n",
    "fig.savefig('Embeddings_sequencing.png', bbox_inches='tight', dpi=300) "
   ]
  },
  {
   "cell_type": "markdown",
   "metadata": {},
   "source": [
    "#### strain"
   ]
  },
  {
   "cell_type": "code",
   "execution_count": null,
   "metadata": {},
   "outputs": [],
   "source": [
    "# Define matplotlib Axes\n",
    "# Number of Axes & plot size\n",
    "ncols = 2\n",
    "nrows = 2\n",
    "figsize = 4\n",
    "wspace = 0.75\n",
    "fig, axs = plt.subplots(\n",
    "    nrows=nrows,\n",
    "    ncols=ncols,\n",
    "    figsize=(ncols * figsize + figsize * wspace * (ncols - 1), nrows * figsize),\n",
    ")\n",
    "plt.subplots_adjust(wspace=wspace)\n",
    "\n",
    "Titles = ['scVI','scANVI','MultiVI','MultiVI w/o doublets']\n",
    "\n",
    "\n",
    "# Iterate over the embeddings and marker genes to create each subplot\n",
    "x = 0\n",
    "\n",
    "for i in range(2):\n",
    "    if i ==1:\n",
    "        x = 1\n",
    "    for j in range(2):\n",
    "        sc.pl.embedding(adata, basis=umaps[i+j+x], color=['strain'], size =4, ax=axs[i,j], show=False, title=f'{Titles[i+j+x]}',legend_loc='none', cmap=mymap, frameon=True)\n",
    "        axs[i,j].set_ylabel('UMAP2')\n",
    "        axs[i,j].set_xlabel('UMAP1')\n",
    "        # Capture legend handles from one of the subplots\n",
    "\n",
    "# Step 1: Get categories and their corresponding colors directly from adata\n",
    "categories = adata.obs['strain'].cat.categories  # Make sure 'pretty name' is categorical\n",
    "colors = adata.uns['strain_colors']\n",
    "\n",
    "# Step 2: Create the custom legend manually\n",
    "legend_patches = [plt.Line2D([0], [0], marker='o', color='w', label=cat, \n",
    "                             markersize=10, markerfacecolor=color) \n",
    "                  for cat, color in zip(categories, colors)]\n",
    "\n",
    "# Step 3: Add the legend to the figure\n",
    "fig.legend(handles=legend_patches, loc='center right', title='strain', frameon=False, fontsize=11)\n",
    "\n",
    "plt.tight_layout(rect=[0, 0, 0.82, 1])  # Adjust layout to make space for the legend\n",
    "plt.show()\n",
    "fig.savefig('Embeddings_strain.png', bbox_inches='tight', dpi=300) "
   ]
  },
  {
   "cell_type": "markdown",
   "metadata": {},
   "source": [
    "#### enriched"
   ]
  },
  {
   "cell_type": "code",
   "execution_count": null,
   "metadata": {},
   "outputs": [],
   "source": [
    "# Define matplotlib Axes\n",
    "# Number of Axes & plot size\n",
    "ncols = 2\n",
    "nrows = 2\n",
    "figsize = 4\n",
    "wspace = 0.75\n",
    "fig, axs = plt.subplots(\n",
    "    nrows=nrows,\n",
    "    ncols=ncols,\n",
    "    figsize=(ncols * figsize + figsize * wspace * (ncols - 1), nrows * figsize),\n",
    ")\n",
    "plt.subplots_adjust(wspace=wspace)\n",
    "\n",
    "Titles = ['scVI','scANVI','MultiVI','MultiVI w/o doublets']\n",
    "\n",
    "# Iterate over the embeddings and marker genes to create each subplot\n",
    "x = 0\n",
    "\n",
    "for i in range(2):\n",
    "    if i ==1:\n",
    "        x = 1\n",
    "    for j in range(2):\n",
    "        sc.pl.embedding(adata, basis=umaps[i+j+x], color=['enriched'], size =4, ax=axs[i,j], show=False, title=f'{Titles[i+j+x]}',legend_loc='none', cmap=mymap, frameon=True)\n",
    "        axs[i,j].set_ylabel('UMAP2')\n",
    "        axs[i,j].set_xlabel('UMAP1')\n",
    "        # Capture legend handles from one of the subplots\n",
    "\n",
    "# Step 1: Get categories and their corresponding colors directly from adata\n",
    "categories = adata.obs['enriched'].cat.categories  # Make sure 'pretty name' is categorical\n",
    "colors = adata.uns['enriched_colors']\n",
    "\n",
    "# Step 2: Create the custom legend manually\n",
    "legend_patches = [plt.Line2D([0], [0], marker='o', color='w', label=cat, \n",
    "                             markersize=10, markerfacecolor=color) \n",
    "                  for cat, color in zip(categories, colors)]\n",
    "\n",
    "# Step 3: Add the legend to the figure\n",
    "fig.legend(handles=legend_patches, loc='center right', title='enriched', frameon=False, fontsize=11)\n",
    "\n",
    "plt.tight_layout(rect=[0, 0, 0.82, 1])  # Adjust layout to make space for the legend\n",
    "plt.show()\n",
    "fig.savefig('Embeddings_enriched.png', bbox_inches='tight', dpi=300) "
   ]
  },
  {
   "cell_type": "markdown",
   "metadata": {},
   "source": [
    "#### enrichment proportion"
   ]
  },
  {
   "cell_type": "code",
   "execution_count": null,
   "metadata": {},
   "outputs": [],
   "source": [
    "# Define matplotlib Axes\n",
    "# Number of Axes & plot size\n",
    "ncols = 2\n",
    "nrows = 2\n",
    "figsize = 4\n",
    "wspace = 0.75\n",
    "fig, axs = plt.subplots(\n",
    "    nrows=nrows,\n",
    "    ncols=ncols,\n",
    "    figsize=(ncols * figsize + figsize * wspace * (ncols - 1), nrows * figsize),\n",
    ")\n",
    "plt.subplots_adjust(wspace=wspace)\n",
    "\n",
    "Titles = ['scVI','scANVI','MultiVI','MultiVI w/o doublets']\n",
    "\n",
    "# Iterate over the embeddings and marker genes to create each subplot\n",
    "x = 0\n",
    "\n",
    "for i in range(2):\n",
    "    if i ==1:\n",
    "        x = 1\n",
    "    for j in range(2):\n",
    "        sc.pl.embedding(adata, basis=umaps[i+j+x], color=['enrichment proportion'], size =4, ax=axs[i,j], show=False, title=f'{Titles[i+j+x]}',legend_loc='none', cmap=mymap, frameon=True)\n",
    "        axs[i,j].set_ylabel('UMAP2')\n",
    "        axs[i,j].set_xlabel('UMAP1')\n",
    "        # Capture legend handles from one of the subplots\n",
    "\n",
    "# Step 1: Get categories and their corresponding colors directly from adata\n",
    "categories = adata.obs['enrichment proportion'].cat.categories  # Make sure 'pretty name' is categorical\n",
    "colors = adata.uns['enrichment proportion_colors']\n",
    "\n",
    "# Step 2: Create the custom legend manually\n",
    "legend_patches = [plt.Line2D([0], [0], marker='o', color='w', label=cat, \n",
    "                             markersize=10, markerfacecolor=color) \n",
    "                  for cat, color in zip(categories, colors)]\n",
    "\n",
    "# Step 2: Add the legend to the figure\n",
    "fig.legend(handles=legend_patches, loc='center right', title='enrichment proportion', frameon=False, fontsize= 11)\n",
    "\n",
    "plt.tight_layout(rect=[0, 0, 0.72, 1])  # Adjust layout to make space for the legend\n",
    "plt.show()\n",
    "fig.savefig('Embeddings_enrichment proportion.png', bbox_inches='tight', dpi=300) "
   ]
  },
  {
   "cell_type": "markdown",
   "metadata": {},
   "source": [
    "#### initial ct"
   ]
  },
  {
   "cell_type": "code",
   "execution_count": null,
   "metadata": {},
   "outputs": [],
   "source": [
    "# Define matplotlib Axes\n",
    "# Number of Axes & plot size\n",
    "ncols = 2\n",
    "nrows = 2\n",
    "figsize = 4\n",
    "wspace = 0.75\n",
    "fig, axs = plt.subplots(\n",
    "    nrows=nrows,\n",
    "    ncols=ncols,\n",
    "    figsize=(ncols * figsize + figsize * wspace * (ncols - 1), nrows * figsize),\n",
    ")\n",
    "plt.subplots_adjust(wspace=wspace)\n",
    "\n",
    "Titles = ['scVI','scANVI','MultiVI','MultiVI w/o doublets']\n",
    "\n",
    "\n",
    "# Iterate over the embeddings and marker genes to create each subplot\n",
    "x = 0\n",
    "\n",
    "for i in range(2):\n",
    "    if i ==1:\n",
    "        x = 1\n",
    "    for j in range(2):\n",
    "        sc.pl.embedding(adata, basis=umaps[i+j+x], color=['initial_cell_type'], size =4, ax=axs[i,j], show=False, title=f'{Titles[i+j+x]}',legend_loc='none', cmap=mymap, frameon=True)\n",
    "        axs[i,j].set_ylabel('UMAP2')\n",
    "        axs[i,j].set_xlabel('UMAP1')\n",
    "        # Capture legend handles from one of the subplots\n",
    "\n",
    "\n",
    "# Step 1: Get categories and their corresponding colors directly from adata\n",
    "categories = adata.obs['initial_cell_type'].cat.categories  # Make sure 'pretty name' is categorical\n",
    "colors = adata.uns['initial_cell_type_colors']\n",
    "\n",
    "# Step 2: Create the custom legend manually\n",
    "legend_patches = [plt.Line2D([0], [0], marker='o', color='w', label=cat, \n",
    "                             markersize=10, markerfacecolor=color) \n",
    "                  for cat, color in zip(categories, colors)]\n",
    "\n",
    "# Step 2: Add the legend to the figure\n",
    "fig.legend(handles=legend_patches, loc='center right', title='initial cell type', frameon=False, fontsize= 11)\n",
    "\n",
    "plt.tight_layout(rect=[0, 0, 0.85, 1])  # Adjust layout to make space for the legend\n",
    "plt.show()\n",
    "fig.savefig('Embeddings_initial_cell_type.png', bbox_inches='tight', dpi=300) "
   ]
  },
  {
   "cell_type": "markdown",
   "metadata": {},
   "source": [
    "#### line"
   ]
  },
  {
   "cell_type": "code",
   "execution_count": null,
   "metadata": {},
   "outputs": [],
   "source": [
    "# Define matplotlib Axes\n",
    "# Number of Axes & plot size\n",
    "ncols = 2\n",
    "nrows = 2\n",
    "figsize = 4\n",
    "wspace = 0.75\n",
    "fig, axs = plt.subplots(\n",
    "    nrows=nrows,\n",
    "    ncols=ncols,\n",
    "    figsize=(ncols * figsize + figsize * wspace * (ncols - 1), nrows * figsize),\n",
    ")\n",
    "plt.subplots_adjust(wspace=wspace)\n",
    "\n",
    "\n",
    "Titles = ['scVI','scANVI','MultiVI','MultiVI w/o doublets']\n",
    "\n",
    "\n",
    "\n",
    "\n",
    "# Iterate over the embeddings and marker genes to create each subplot\n",
    "x = 0\n",
    "\n",
    "for i in range(2):\n",
    "    if i ==1:\n",
    "        x = 1\n",
    "    for j in range(2):\n",
    "        sc.pl.embedding(adata, basis=umaps[i+j+x], color=['line'], size =4, ax=axs[i,j], show=False, title=f'{Titles[i+j+x]}',legend_loc='none', cmap=mymap, frameon=True)\n",
    "        axs[i,j].set_ylabel('UMAP2')\n",
    "        axs[i,j].set_xlabel('UMAP1')\n",
    "        # Capture legend handles from one of the subplots\n",
    "\n",
    "# Your colormap and unique categories\n",
    "categories = adata.obs['line'].cat.categories\n",
    "colors = adata.uns['line_colors']\n",
    "\n",
    "# Step 1: Create the custom legend manually\n",
    "legend_patches = [plt.Line2D([0], [0], marker='o', color='w', label=cat, \n",
    "                             markersize=10, markerfacecolor=color) \n",
    "                  for cat, color in zip(categories, colors)]\n",
    "\n",
    "# Step 2: Add the legend to the figure\n",
    "fig.legend(handles=legend_patches, loc='center right', title='mouse line', frameon=False, fontsize= 11)\n",
    "\n",
    "plt.tight_layout(rect=[0, 0, 0.80, 1])  # Adjust layout to make space for the legend\n",
    "plt.show()\n",
    "fig.savefig('Embeddings_line.png', bbox_inches='tight', dpi=300) "
   ]
  },
  {
   "cell_type": "markdown",
   "metadata": {},
   "source": [
    "#### Lgr5"
   ]
  },
  {
   "cell_type": "code",
   "execution_count": null,
   "metadata": {},
   "outputs": [],
   "source": [
    "# Define matplotlib Axes\n",
    "# Number of Axes & plot size\n",
    "ncols = 2\n",
    "nrows = 2\n",
    "figsize = 4\n",
    "wspace = 0.75\n",
    "fig, axs = plt.subplots(\n",
    "    nrows=nrows,\n",
    "    ncols=ncols,\n",
    "    figsize=(ncols * figsize + figsize * wspace * (ncols - 1), nrows * figsize),\n",
    ")\n",
    "plt.subplots_adjust(wspace=wspace)\n",
    "\n",
    "\n",
    "# We can use these Axes objects individually to plot on them\n",
    "# We need to set show=False so that the Figure is not displayed before we\n",
    "# finished plotting on all Axes and making all plot adjustments\n",
    "\n",
    "# Iterate over the embeddings and marker genes to create each subplot\n",
    "x = 0\n",
    "for i in range(2):\n",
    "    if i ==1:\n",
    "        x = 1\n",
    "    for j in range(2):\n",
    "        sc.pl.embedding(adata, basis=umaps[i+j+x], color=['Lgr5'], size =5, ax=axs[i,j], show=False, title=f'{umaps[i+j+x]} - LGR5', frameon=False, cmap = mymap)\n",
    "        axs[i,j].set_ylabel('UMAP2')\n",
    "        axs[i,j].set_xlabel('UMAP1')\n",
    "# Display the plot\n",
    "plt.show()"
   ]
  },
  {
   "cell_type": "markdown",
   "metadata": {},
   "source": [
    "#### Ngn3"
   ]
  },
  {
   "cell_type": "code",
   "execution_count": null,
   "metadata": {},
   "outputs": [],
   "source": [
    "# Define matplotlib Axes\n",
    "# Number of Axes & plot size\n",
    "ncols = 2\n",
    "nrows = 2\n",
    "figsize = 4\n",
    "wspace = 0.75\n",
    "fig, axs = plt.subplots(\n",
    "    nrows=nrows,\n",
    "    ncols=ncols,\n",
    "    figsize=(ncols * figsize + figsize * wspace * (ncols - 1), nrows * figsize),\n",
    ")\n",
    "plt.subplots_adjust(wspace=wspace)\n",
    "\n",
    "\n",
    "# We can use these Axes objects individually to plot on them\n",
    "# We need to set show=False so that the Figure is not displayed before we\n",
    "# finished plotting on all Axes and making all plot adjustments\n",
    "\n",
    "# Iterate over the embeddings and marker genes to create each subplot\n",
    "x = 0\n",
    "for i in range(2):\n",
    "    if i ==1:\n",
    "        x = 1\n",
    "    for j in range(2):\n",
    "        sc.pl.embedding(adata, basis=umaps[i+j+x], color=['Neurog3'], size =5, ax=axs[i,j], show=False, title=f'{umaps[i+j+x]} - Ngn3', frameon=False, cmap = mymap)\n",
    "        axs[i,j].set_ylabel('UMAP2')\n",
    "        axs[i,j].set_xlabel('UMAP1')\n",
    "\n",
    "# Display the plot\n",
    "plt.show()"
   ]
  },
  {
   "cell_type": "markdown",
   "metadata": {},
   "source": [
    "#### Foxa2"
   ]
  },
  {
   "cell_type": "code",
   "execution_count": null,
   "metadata": {},
   "outputs": [],
   "source": [
    "# Define matplotlib Axes\n",
    "# Number of Axes & plot size\n",
    "ncols = 2\n",
    "nrows = 2\n",
    "figsize = 4\n",
    "wspace = 0.75\n",
    "fig, axs = plt.subplots(\n",
    "    nrows=nrows,\n",
    "    ncols=ncols,\n",
    "    figsize=(ncols * figsize + figsize * wspace * (ncols - 1), nrows * figsize),\n",
    ")\n",
    "plt.subplots_adjust(wspace=wspace)\n",
    "\n",
    "\n",
    "# We can use these Axes objects individually to plot on them\n",
    "# We need to set show=False so that the Figure is not displayed before we\n",
    "# finished plotting on all Axes and making all plot adjustments\n",
    "\n",
    "# Iterate over the embeddings and marker genes to create each subplot\n",
    "x = 0\n",
    "for i in range(2):\n",
    "    if i ==1:\n",
    "        x = 1\n",
    "    for j in range(2):\n",
    "        sc.pl.embedding(adata, basis=umaps[i+j+x], color=['Foxa2'], size =5, ax=axs[i,j], show=False, title=f'{umaps[i+j+x]} - FoxA2', frameon=False, cmap = mymap)\n",
    "        axs[i,j].set_ylabel('UMAP2')\n",
    "        axs[i,j].set_xlabel('UMAP1')\n",
    "\n",
    "# Display the plot\n",
    "plt.show()"
   ]
  },
  {
   "cell_type": "markdown",
   "metadata": {},
   "source": [
    "#### Tph1"
   ]
  },
  {
   "cell_type": "code",
   "execution_count": null,
   "metadata": {},
   "outputs": [],
   "source": [
    "# Define matplotlib Axes\n",
    "# Number of Axes & plot size\n",
    "ncols = 2\n",
    "nrows = 2\n",
    "figsize = 4\n",
    "wspace = 0.75\n",
    "fig, axs = plt.subplots(\n",
    "    nrows=nrows,\n",
    "    ncols=ncols,\n",
    "    figsize=(ncols * figsize + figsize * wspace * (ncols - 1), nrows * figsize),\n",
    ")\n",
    "plt.subplots_adjust(wspace=wspace)\n",
    "\n",
    "\n",
    "# We can use these Axes objects individually to plot on them\n",
    "# We need to set show=False so that the Figure is not displayed before we\n",
    "# finished plotting on all Axes and making all plot adjustments\n",
    "\n",
    "# Iterate over the embeddings and marker genes to create each subplot\n",
    "x = 0\n",
    "for i in range(2):\n",
    "    if i ==1:\n",
    "        x = 1\n",
    "    for j in range(2):\n",
    "        sc.pl.embedding(adata, basis=umaps[i+j+x], color=['Tph1'], size =5, ax=axs[i,j], show=False, title=f'{umaps[i+j+x]} - Tph1', frameon=False, cmap = mymap)\n",
    "        axs[i,j].set_ylabel('UMAP2')\n",
    "        axs[i,j].set_xlabel('UMAP1')\n",
    "# Display the plot\n",
    "plt.show()"
   ]
  },
  {
   "cell_type": "markdown",
   "metadata": {},
   "source": [
    "#### Lyz1"
   ]
  },
  {
   "cell_type": "code",
   "execution_count": null,
   "metadata": {},
   "outputs": [],
   "source": [
    "# Define matplotlib Axes\n",
    "# Number of Axes & plot size\n",
    "ncols = 2\n",
    "nrows = 2\n",
    "figsize = 4\n",
    "wspace = 0.75\n",
    "fig, axs = plt.subplots(\n",
    "    nrows=nrows,\n",
    "    ncols=ncols,\n",
    "    figsize=(ncols * figsize + figsize * wspace * (ncols - 1), nrows * figsize),\n",
    ")\n",
    "plt.subplots_adjust(wspace=wspace)\n",
    "\n",
    "\n",
    "# We can use these Axes objects individually to plot on them\n",
    "# We need to set show=False so that the Figure is not displayed before we\n",
    "# finished plotting on all Axes and making all plot adjustments\n",
    "\n",
    "# Iterate over the embeddings and marker genes to create each subplot\n",
    "x = 0\n",
    "for i in range(2):\n",
    "    if i ==1:\n",
    "        x = 1\n",
    "    for j in range(2):\n",
    "        sc.pl.embedding(adata, basis=umaps[i+j+x], color=['Lyz1'], size =5, ax=axs[i,j], show=False, title=f'{umaps[i+j+x]} - Lyz1', frameon=False, cmap = mymap)\n",
    "        axs[i,j].set_ylabel('UMAP2')\n",
    "        axs[i,j].set_xlabel('UMAP1')\n",
    "# Display the plot\n",
    "plt.show()"
   ]
  },
  {
   "cell_type": "markdown",
   "metadata": {},
   "source": [
    "#### initial celltype"
   ]
  },
  {
   "cell_type": "code",
   "execution_count": null,
   "metadata": {},
   "outputs": [],
   "source": [
    "# Define matplotlib Axes\n",
    "# Number of Axes & plot size\n",
    "ncols = 2\n",
    "nrows = 2\n",
    "figsize = 4\n",
    "wspace = 0.75\n",
    "fig, axs = plt.subplots(\n",
    "    nrows=nrows,\n",
    "    ncols=ncols,\n",
    "    figsize=(ncols * figsize + figsize * wspace * (ncols - 1), nrows * figsize),\n",
    ")\n",
    "plt.subplots_adjust(wspace=wspace)\n",
    "\n",
    "\n",
    "# We can use these Axes objects individually to plot on them\n",
    "# We need to set show=False so that the Figure is not displayed before we\n",
    "# finished plotting on all Axes and making all plot adjustments\n",
    "\n",
    "# Iterate over the embeddings and marker genes to create each subplot\n",
    "x = 0\n",
    "for i in range(2):\n",
    "    if i ==1:\n",
    "        x = 1\n",
    "    for j in range(2):\n",
    "        sc.pl.embedding(adata, basis=umaps[i+j+x], color=['initial_cell_type'], size =5,legend_fontsize=8, ax=axs[i,j], show=False, title=f'{umaps[i+j+x]} - initial cell type', frameon=False, cmap = mymap)\n",
    "        axs[i,j].set_ylabel('UMAP2')\n",
    "        axs[i,j].set_xlabel('UMAP1')\n",
    "\n",
    "# Display the plot\n",
    "plt.show()"
   ]
  },
  {
   "cell_type": "markdown",
   "metadata": {},
   "source": [
    "#### line"
   ]
  },
  {
   "cell_type": "code",
   "execution_count": null,
   "metadata": {},
   "outputs": [],
   "source": [
    "# Define matplotlib Axes\n",
    "# Number of Axes & plot size\n",
    "ncols = 2\n",
    "nrows = 2\n",
    "figsize = 4\n",
    "wspace = 0.78\n",
    "fig, axs = plt.subplots(\n",
    "    nrows=nrows,\n",
    "    ncols=ncols,\n",
    "    figsize=(ncols * figsize + figsize * wspace * (ncols - 1), nrows * figsize),\n",
    ")\n",
    "plt.subplots_adjust(wspace=wspace)\n",
    "\n",
    "\n",
    "# We can use these Axes objects individually to plot on them\n",
    "# We need to set show=False so that the Figure is not displayed before we\n",
    "# finished plotting on all Axes and making all plot adjustments\n",
    "\n",
    "# Iterate over the embeddings and marker genes to create each subplot\n",
    "x = 0\n",
    "for i in range(2):\n",
    "    if i ==1:\n",
    "        x = 1\n",
    "    for j in range(2):\n",
    "        sc.pl.embedding(adata, basis=umaps[i+j+x], color=['line'], size =5, legend_fontsize=8,ax=axs[i,j], show=False, title=f'{umaps[i+j+x]} - mouse line', frameon=False, cmap = mymap)\n",
    "        axs[i,j].set_ylabel('UMAP2')\n",
    "        axs[i,j].set_xlabel('UMAP1')\n",
    "\n",
    "# Display the plot\n",
    "plt.show()"
   ]
  },
  {
   "cell_type": "markdown",
   "metadata": {},
   "source": [
    "#### enrichment proportion"
   ]
  },
  {
   "cell_type": "code",
   "execution_count": null,
   "metadata": {},
   "outputs": [],
   "source": [
    "# Define matplotlib Axes\n",
    "# Number of Axes & plot size\n",
    "ncols = 2\n",
    "nrows = 2\n",
    "figsize = 4\n",
    "wspace = 0.78\n",
    "fig, axs = plt.subplots(\n",
    "    nrows=nrows,\n",
    "    ncols=ncols,\n",
    "    figsize=(ncols * figsize + figsize * wspace * (ncols - 1), nrows * figsize),\n",
    ")\n",
    "plt.subplots_adjust(wspace=wspace)\n",
    "\n",
    "\n",
    "# We can use these Axes objects individually to plot on them\n",
    "# We need to set show=False so that the Figure is not displayed before we\n",
    "# finished plotting on all Axes and making all plot adjustments\n",
    "\n",
    "# Iterate over the embeddings and marker genes to create each subplot\n",
    "x = 0\n",
    "for i in range(2):\n",
    "    if i ==1:\n",
    "        x = 1\n",
    "    for j in range(2):\n",
    "        sc.pl.embedding(adata, basis=umaps[i+j+x], color=['enrichment proportion'], size =5, legend_fontsize=8,ax=axs[i,j], show=False, title=f'{umaps[i+j+x]} - enrichment proportion', frameon=False, cmap = mymap)\n",
    "        axs[i,j].set_ylabel('UMAP2')\n",
    "        axs[i,j].set_xlabel('UMAP1')\n",
    "\n",
    "# Display the plot\n",
    "plt.show()"
   ]
  },
  {
   "cell_type": "markdown",
   "metadata": {},
   "source": [
    "### QC variables"
   ]
  },
  {
   "cell_type": "code",
   "execution_count": null,
   "metadata": {},
   "outputs": [],
   "source": [
    "QC_vars =['n_counts','log_counts','n_genes','log_genes','mt_frac','rp_frac','doublet_calls']"
   ]
  },
  {
   "cell_type": "code",
   "execution_count": null,
   "metadata": {},
   "outputs": [],
   "source": [
    "umaps = ['UMAP_scVI','UMAP_scANVI']"
   ]
  },
  {
   "cell_type": "code",
   "execution_count": null,
   "metadata": {},
   "outputs": [],
   "source": [
    "# Define matplotlib Axes\n",
    "# Number of Axes & plot size\n",
    "ncols = 7\n",
    "nrows = 2\n",
    "figsize = 4\n",
    "wspace = 0.5\n",
    "fig, axs = plt.subplots(\n",
    "    nrows=nrows,\n",
    "    ncols=ncols,\n",
    "    figsize=(ncols * figsize + figsize * wspace * (ncols - 1), nrows * figsize),\n",
    ")\n",
    "plt.subplots_adjust(wspace=wspace)\n",
    "# This produces two Axes objects in a single Figure\n",
    "\n",
    "# We can use these Axes objects individually to plot on them\n",
    "# We need to set show=False so that the Figure is not displayed before we\n",
    "# finished plotting on all Axes and making all plot adjustments\n",
    "\n",
    "# Iterate over the embeddings and marker genes to create each subplot\n",
    "for i, umap in enumerate(umaps):\n",
    "    for j, gene in enumerate(QC_vars): \n",
    "        sc.pl.embedding(adata, basis=umap, color=[gene], size=10, ax=axs[i, j], show=False, cmap=mymap,title=f'{umap} - {gene}')\n",
    "\n",
    "# Display the plot\n",
    "plt.show()\n"
   ]
  },
  {
   "cell_type": "markdown",
   "metadata": {},
   "source": [
    "### metadata"
   ]
  },
  {
   "cell_type": "code",
   "execution_count": null,
   "metadata": {},
   "outputs": [],
   "source": [
    "metadata_1 = ['sequencing','strain','Index Type','sequencing machine', 'kit']\n",
    "metadata_2 = ['Project','condition','line','enriched','diet'] #"
   ]
  },
  {
   "cell_type": "code",
   "execution_count": null,
   "metadata": {},
   "outputs": [],
   "source": [
    "# Define matplotlib Axes\n",
    "# Number of Axes & plot size\n",
    "ncols = 5\n",
    "nrows = 2\n",
    "figsize = 4\n",
    "wspace = 0.5\n",
    "fig, axs = plt.subplots(\n",
    "    nrows=nrows,\n",
    "    ncols=ncols,\n",
    "    figsize=(ncols * figsize + figsize * wspace * (ncols - 1), nrows * figsize),\n",
    ")\n",
    "plt.subplots_adjust(wspace=wspace)\n",
    "# This produces two Axes objects in a single Figure\n",
    "\n",
    "# We can use these Axes objects individually to plot on them\n",
    "# We need to set show=False so that the Figure is not displayed before we\n",
    "# finished plotting on all Axes and making all plot adjustments\n",
    "\n",
    "# Iterate over the embeddings and marker genes to create each subplot\n",
    "for i, umap in enumerate(umaps):\n",
    "    for j, gene in enumerate(metadata_1):\n",
    "        sc.pl.embedding(adata, basis=umap, color=[gene], size=10, ax=axs[i, j], show=False, title=f'{umap} - {gene}')\n",
    "\n",
    "# Display the plot\n",
    "plt.show()"
   ]
  },
  {
   "cell_type": "markdown",
   "metadata": {},
   "source": [
    "### other metadata"
   ]
  },
  {
   "cell_type": "code",
   "execution_count": null,
   "metadata": {},
   "outputs": [],
   "source": [
    "# Define matplotlib Axes\n",
    "# Number of Axes & plot size\n",
    "ncols = 6\n",
    "nrows = 2\n",
    "figsize = 4\n",
    "wspace = 0.75\n",
    "fig, axs = plt.subplots(\n",
    "    nrows=nrows,\n",
    "    ncols=ncols,\n",
    "    figsize=(ncols * figsize + figsize * wspace * (ncols - 1), nrows * figsize),\n",
    ")\n",
    "plt.subplots_adjust(wspace=wspace)\n",
    "# This produces two Axes objects in a single Figure\n",
    "\n",
    "# We can use these Axes objects individually to plot on them\n",
    "# We need to set show=False so that the Figure is not displayed before we\n",
    "# finished plotting on all Axes and making all plot adjustments\n",
    "\n",
    "# Iterate over the embeddings and marker genes to create each subplot\n",
    "for i, umap in enumerate(umaps):\n",
    "    for j, gene in enumerate(metadata_2):\n",
    "        sc.pl.embedding(adata, basis=umap, color=[gene], size=10, ax=axs[i, j], show=False, title=f'{umap} - {gene}')\n",
    "\n",
    "# Display the plot\n",
    "plt.show()\n"
   ]
  },
  {
   "cell_type": "markdown",
   "metadata": {},
   "source": [
    "### marker genes"
   ]
  },
  {
   "cell_type": "code",
   "execution_count": null,
   "metadata": {},
   "outputs": [],
   "source": [
    "marker_genes = ['Foxa2','Neurog3','Tph1','Isl1','Pou2f3','Lgr5','Mk67','Dmbt1','Hmgb2','Top2a','Defa24','Gna11','Cd52','Muc2','Fcgbp','Lyz1']"
   ]
  },
  {
   "cell_type": "code",
   "execution_count": null,
   "metadata": {},
   "outputs": [],
   "source": [
    "adata.X = adata.layers['sct_logcounts']"
   ]
  },
  {
   "cell_type": "code",
   "execution_count": null,
   "metadata": {},
   "outputs": [],
   "source": [
    "marker_genes = ['Foxa2','Neurog3','Tph1','Isl1','Pou2f3','Lgr5','Dmbt1','Hmgb2','Top2a','Defa24','Muc2','Lyz1']"
   ]
  },
  {
   "cell_type": "code",
   "execution_count": null,
   "metadata": {},
   "outputs": [],
   "source": [
    "# Define matplotlib Axes\n",
    "# Number of Axes & plot size\n",
    "ncols = 12\n",
    "nrows = 2\n",
    "figsize = 4\n",
    "wspace = 0.5\n",
    "fig, axs = plt.subplots(\n",
    "    nrows=nrows,\n",
    "    ncols=ncols,\n",
    "    figsize=(ncols * figsize + figsize * wspace * (ncols - 1), nrows * figsize),\n",
    ")\n",
    "plt.subplots_adjust(wspace=wspace)\n",
    "\n",
    "\n",
    "# Iterate over the embeddings and marker genes to create each subplot\n",
    "for i, umap in enumerate(umaps):\n",
    "    for j, gene in enumerate(marker_genes):\n",
    "        sc.pl.embedding(adata, basis=umap, color=[gene], size=10, ax=axs[i, j], show=False, cmap=mymap,  title=f'{umap} - {gene}', frameon=False)\n",
    "\n",
    "# Display the plot\n",
    "plt.show()"
   ]
  },
  {
   "cell_type": "code",
   "execution_count": null,
   "metadata": {},
   "outputs": [],
   "source": [
    "# Step 1: Extract the raw counts\n",
    "raw_counts = adata.layers['raw_counts']\n",
    "\n",
    "# Step 2: Extract the sample column and variable names\n",
    "samples = adata.obs['sample']\n",
    "var_names = adata.var_names"
   ]
  },
  {
   "cell_type": "code",
   "execution_count": null,
   "metadata": {},
   "outputs": [],
   "source": [
    "\n",
    "# Step 3: Create a new AnnData object\n",
    "adata_imputation = ad.AnnData(X=raw_counts, obs=adata.obs, var=adata.var)"
   ]
  },
  {
   "cell_type": "code",
   "execution_count": null,
   "metadata": {},
   "outputs": [],
   "source": [
    "adata_imputation"
   ]
  },
  {
   "cell_type": "code",
   "execution_count": null,
   "metadata": {},
   "outputs": [],
   "source": [
    "adata_imputation.obs.drop(['log_counts', 'n_counts_rank','log_genes', 'is_paneth','final_doublets', 'final_doublets_cat', 'sample_density', 'Project', 'sequencing', \"modality (confounded with 'sequencing'\", 'condition', 'Internal ID', 'SeqID', 'kit', 'linienhintergrund', 'strain', 'enriched', 'enrichment proportion', 'treatment', 'diet', 'tissue', 'structure', 'target cell number', 'Read Length', 'Index Type', 'sequencing machine', 'conditions_combined'],inplace=True,axis=1)\n",
    "adata_imputation.var.drop(['n_counts', 'n_cells', 'means', 'dispersions', 'dispersions_norm', 'sct.detection_rate', 'sct.gmean', 'sct.variance', 'sct.residual_variance', 'sct.variable', 'genome', 'binomial_deviance', 'highly_deviant'],inplace=True,axis=1)\n",
    "adata_imputation.obsm['X_scANVI']=adata.obsm['X_scANVI']"
   ]
  },
  {
   "cell_type": "code",
   "execution_count": null,
   "metadata": {},
   "outputs": [],
   "source": [
    "adata_imputation.obsm['X_scANVI']=adata.obsm['X_scANVI']"
   ]
  },
  {
   "cell_type": "code",
   "execution_count": null,
   "metadata": {},
   "outputs": [],
   "source": [
    "adata_imputation.layers['sct_counts']=adata.layers['sct_counts']"
   ]
  },
  {
   "cell_type": "code",
   "execution_count": null,
   "metadata": {},
   "outputs": [],
   "source": [
    "adata_imputation"
   ]
  },
  {
   "cell_type": "code",
   "execution_count": null,
   "metadata": {},
   "outputs": [],
   "source": [
    "adata_imputation.write('adata_for_imputation.h5ad')"
   ]
  },
  {
   "cell_type": "code",
   "execution_count": null,
   "metadata": {},
   "outputs": [],
   "source": []
  }
 ],
 "metadata": {
  "kernelspec": {
   "display_name": "Python 3 (ipykernel)",
   "language": "python",
   "name": "python3"
  },
  "language_info": {
   "codemirror_mode": {
    "name": "ipython",
    "version": 3
   },
   "file_extension": ".py",
   "mimetype": "text/x-python",
   "name": "python",
   "nbconvert_exporter": "python",
   "pygments_lexer": "ipython3",
   "version": "3.10.14"
  },
  "toc": {
   "base_numbering": 1,
   "nav_menu": {},
   "number_sections": true,
   "sideBar": true,
   "skip_h1_title": false,
   "title_cell": "Table of Contents",
   "title_sidebar": "Contents",
   "toc_cell": false,
   "toc_position": {
    "height": "calc(100% - 180px)",
    "left": "10px",
    "top": "150px",
    "width": "288.5px"
   },
   "toc_section_display": true,
   "toc_window_display": true
  },
  "varInspector": {
   "cols": {
    "lenName": 16,
    "lenType": 16,
    "lenVar": 40
   },
   "kernels_config": {
    "python": {
     "delete_cmd_postfix": "",
     "delete_cmd_prefix": "del ",
     "library": "var_list.py",
     "varRefreshCmd": "print(var_dic_list())"
    },
    "r": {
     "delete_cmd_postfix": ") ",
     "delete_cmd_prefix": "rm(",
     "library": "var_list.r",
     "varRefreshCmd": "cat(var_dic_list()) "
    }
   },
   "oldHeight": 680.85,
   "position": {
    "height": "33.5333px",
    "left": "1935px",
    "right": "20px",
    "top": "84px",
    "width": "738.533px"
   },
   "types_to_exclude": [
    "module",
    "function",
    "builtin_function_or_method",
    "instance",
    "_Feature"
   ],
   "varInspector_section_display": "none",
   "window_display": true
  }
 },
 "nbformat": 4,
 "nbformat_minor": 4
}
