{
 "cells": [
  {
   "cell_type": "markdown",
   "id": "8c2136c1-25b8-4e3b-9c12-d55f0b7195ca",
   "metadata": {},
   "source": [
    "## Setup"
   ]
  },
  {
   "cell_type": "code",
   "execution_count": null,
   "id": "b25197e1-9c1b-4cd2-a8ef-96667c4b0dd3",
   "metadata": {
    "metadata": {}
   },
   "outputs": [],
   "source": [
    "# General\n",
    "import scipy as sci\n",
    "import numpy as np\n",
    "import pandas as pd\n",
    "import logging\n",
    "import time\n",
    "import pickle\n",
    "from itertools import chain\n",
    "import h5py\n",
    "import scipy.sparse as sparse\n",
    "import anndata as ad\n",
    "import scipy.stats as stats\n",
    "import gc\n",
    "import os\n",
    "\n",
    "# Plotting\n",
    "import matplotlib.pyplot as plt\n",
    "import matplotlib as mpl\n",
    "from matplotlib import rcParams\n",
    "from matplotlib import cm\n",
    "from matplotlib import colors\n",
    "from matplotlib.pyplot import rc_context\n",
    "import seaborn as sb\n",
    "#from plotnine import *\n",
    "from adjustText import adjust_text\n",
    "#import pegasus as pg\n",
    "\n",
    "# Analysis\n",
    "import scanpy as sc\n",
    "import muon as mu\n",
    "from muon import atac as ac\n",
    "#import snapatac2 as snap\n",
    "import pysam\n",
    "# Preporcessing\n",
    "import scrublet as scr\n",
    "\n",
    "#R\n",
    "import rpy2\n",
    "import rpy2.robjects as ro\n",
    "import rpy2.rinterface_lib.callbacks\n",
    "from rpy2.robjects import pandas2ri\n",
    "import anndata2ri\n",
    "\n",
    "\n",
    "# Warnings\n",
    "import warnings\n",
    "warnings.filterwarnings('ignore') #(action='once') \n",
    "import session_info\n",
    "session_info.show()\n",
    "\n",
    "#sc.logging.print_versions()"
   ]
  },
  {
   "cell_type": "code",
   "execution_count": null,
   "id": "01000d19",
   "metadata": {
    "metadata": {}
   },
   "outputs": [],
   "source": [
    "# Colormap\n",
    "colors2 = plt.cm.Reds(np.linspace(0, 1, 128)) \n",
    "colors3 = plt.cm.Greys_r(np.linspace(0.7,0.8,20)) \n",
    "colorsComb = np.vstack([colors3, colors2]) \n",
    "mymap = colors.LinearSegmentedColormap.from_list('my_colormap', colorsComb)"
   ]
  },
  {
   "cell_type": "code",
   "execution_count": null,
   "id": "002e3fab-1be5-43ae-9b9e-dee01ea087ac",
   "metadata": {
    "metadata": {}
   },
   "outputs": [],
   "source": [
    "%run utils.ipynb"
   ]
  },
  {
   "cell_type": "code",
   "execution_count": null,
   "id": "79a82086-e828-4179-9804-84d2360de108",
   "metadata": {
    "metadata": {}
   },
   "outputs": [],
   "source": [
    "setup_R('/home/scanalysis/mnt/envs/scUV/lib/R')\n",
    "#setup_R('/home/scanalysis/mnt/miniforge3/envs/LN/lib/R')\n",
    "%reload_ext rpy2.ipython"
   ]
  },
  {
   "cell_type": "code",
   "execution_count": null,
   "id": "23fd2f03-5268-44fe-9c36-e76b911b93d9",
   "metadata": {
    "metadata": {}
   },
   "outputs": [],
   "source": [
    "%%R\n",
    ".libPaths()"
   ]
  },
  {
   "cell_type": "code",
   "execution_count": null,
   "id": "12fcd8b7",
   "metadata": {},
   "outputs": [],
   "source": [
    "%%R\n",
    "\n",
    "# Parallelization\n",
    "library(BiocParallel)\n",
    "register(MulticoreParam(64, progressbar = TRUE))\n",
    "\n",
    "library(future)\n",
    "plan(multicore, workers = 64)\n",
    "#options(future.globals.maxSize = 100 * 1024 ^ 3) # for 50 Gb RAM\n",
    "plan()\n",
    "\n",
    "library(doParallel)\n",
    "registerDoParallel(64)\n",
    "\n",
    "sessionInfo()"
   ]
  },
  {
   "cell_type": "markdown",
   "id": "125f5f25-c20c-40c0-9969-f10c6cd82157",
   "metadata": {},
   "source": [
    "## read data"
   ]
  },
  {
   "cell_type": "code",
   "execution_count": null,
   "id": "fbebb1b7-436c-4e4c-8684-c069a8d78e06",
   "metadata": {
    "metadata": {}
   },
   "outputs": [],
   "source": [
    "base_path = '/mnt/hdd/data/Multiome/'\n",
    "outs_path = '/outs'"
   ]
  },
  {
   "cell_type": "code",
   "execution_count": null,
   "id": "81bf517a",
   "metadata": {},
   "outputs": [],
   "source": [
    "sc.settings.figdir = base_path + 'Figures'\n",
    "sc.settings.cachedir = base_path + 'Cache'\n",
    "\n",
    "## Scanpy settings\n",
    "sc.settings.verbosity = 3"
   ]
  },
  {
   "cell_type": "code",
   "execution_count": null,
   "id": "a65a5cf2-5742-41a7-b497-9b1c7ac6b62c",
   "metadata": {
    "metadata": {}
   },
   "outputs": [],
   "source": [
    "# Get a list of folder names, sorted alphabetically\n",
    "folder_names = sorted([f for f in os.listdir(base_path) if os.path.isdir(os.path.join(base_path, f))])\n",
    "folder_variables = {}\n",
    "\n",
    "for index, folder_name in enumerate(folder_names, start=46):\n",
    "    variable_name = f\"sample{index}\"\n",
    "    folder_variables[folder_name] = variable_name\n",
    "folder_variables"
   ]
  },
  {
   "cell_type": "code",
   "execution_count": null,
   "id": "0b3ecf8b-cefb-4d73-996c-8118197fbaa7",
   "metadata": {
    "metadata": {}
   },
   "outputs": [],
   "source": [
    "for variable_name, folder_name in folder_variables.items():\n",
    "    globals()[variable_name] = folder_name"
   ]
  },
  {
   "cell_type": "markdown",
   "id": "0824f25b",
   "metadata": {},
   "source": [
    "#### samples definition"
   ]
  },
  {
   "cell_type": "code",
   "execution_count": null,
   "id": "e2cd3eaf-9678-40a2-b665-babe74dbfd50",
   "metadata": {
    "metadata": {}
   },
   "outputs": [],
   "source": [
    "samples = ['597_NVF_Crypts_Rep1', '598_FVF_Crypts_Rep1','599_FVF_Crypts_Rep2','604_NVF_Crypts_Rep2','FVF-low', 'FVF-high']\n",
    "#samples = ['FVF-low', 'FVF-high']\n"
   ]
  },
  {
   "cell_type": "markdown",
   "id": "bc3f38a6-4f04-4460-96a9-2557e755ffec",
   "metadata": {
    "metadata": {},
    "vscode": {
     "languageId": "raw"
    }
   },
   "source": [
    "#already done multiple times\n",
    "for sample in samples:\n",
    "    print('Loading ' + base_path + sample + outs_path)\n",
    "    path = base_path + sample + outs_path\n",
    "    mudata=mu.read_10x_h5('/'.join([path,'raw_feature_bc_matrix.h5']))\n",
    "    mudata.obs['sample'] = folder_variables[sample]\n",
    "    print(mudata.shape)\n",
    "    mudata.var_names_make_unique()\n",
    "\n",
    "    mudata.mod['rna'].obs = mudata.obs.copy()\n",
    "    mudata.mod['atac'].obs = mudata.obs.copy()\n",
    "\n",
    "    # Save combined\n",
    "    mu.write(path + '/' + sample + '_raw_feature_bc_matrix.h5mu', mudata)\n",
    "    \n",
    "    del mudata"
   ]
  },
  {
   "cell_type": "markdown",
   "id": "fedaf8bf-acdb-47b6-ae5b-82f8d00fb508",
   "metadata": {},
   "source": [
    "## Dropletutils prep"
   ]
  },
  {
   "cell_type": "code",
   "execution_count": null,
   "id": "eff67c62-2cbf-4256-9011-d071d5bf6971",
   "metadata": {
    "metadata": {}
   },
   "outputs": [],
   "source": [
    "%%R\n",
    "library(scran)\n",
    "library(RColorBrewer)\n",
    "library(DropletUtils)"
   ]
  },
  {
   "cell_type": "markdown",
   "id": "dab8f836-64ea-4ae0-b8f9-c24c2c7b5c3a",
   "metadata": {},
   "source": [
    "## Droplet Utils"
   ]
  },
  {
   "cell_type": "code",
   "execution_count": null,
   "id": "d6b2de33",
   "metadata": {},
   "outputs": [],
   "source": [
    "mdata_list = {}\n",
    "for folder_name, sample_name in folder_variables.items():\n",
    "    if folder_name not in samples:\n",
    "        print(f'skipping {folder_name}...')\n",
    "        continue\n",
    "    mdata = read_h5mu_to_mudata(f'{base_path}{folder_name}{outs_path}/{folder_name}_raw_feature_bc_matrix.h5mu')\n",
    "    mdata.var_names_make_unique()\n",
    "    mdata.mod['rna'].obs = mdata.obs.copy()\n",
    "    mdata.mod['atac'].obs = mdata.obs.copy()\n",
    "    globals()[f'{sample_name}_mdata'] = mdata.copy()\n",
    "    mdata_list[folder_name]=globals()[f'{sample_name}_mdata']"
   ]
  },
  {
   "cell_type": "code",
   "execution_count": null,
   "id": "fb7c5633-c5d5-4824-8ef8-705c5d8b2f50",
   "metadata": {
    "metadata": {}
   },
   "outputs": [],
   "source": [
    "droplet_utils_save = []\n",
    "for key, mdata in mdata_list.items():\n",
    "    # GEX\n",
    "    gex = mdata.mod['rna']\n",
    "    sc.pp.filter_genes(gex, min_cells=1) # for emptyDrops to work \n",
    "    sparse_mat = gex.X.T\n",
    "    genes = gex.var_names\n",
    "    barcodes = gex.obs_names\n",
    "    ro.globalenv['sparse_mat'] = gex.X.T\n",
    "    ro.globalenv['genes'] = gex.var_names\n",
    "    ro.globalenv['barcodes'] = gex.obs_names\n",
    "    ro.r('''\n",
    "    sce <- SingleCellExperiment(assays = list(counts = sparse_mat), colData=barcodes)\n",
    "    rownames(sce) <- genes \n",
    "    ambient <- emptyDrops(counts(sce))\n",
    "    is_cell <- ambient$FDR <= 0.05\n",
    "    threshold_ambient <- 0.0005\n",
    "    ambient_genes_values <- ambient@metadata$ambient\n",
    "    ambient_genes <- names(ambient@metadata$ambient[ambient@metadata$ambient> threshold_ambient,])\n",
    "    barcodes_filtered <- barcodes[which(is_cell)]\n",
    "    cell_probs <- ambient$LogProb\n",
    "    ''')\n",
    "    gex.var['ambient_genes_values'] = ro.globalenv['ambient_genes_values']\n",
    "    gex.obs['log_cell_probs'] = ro.globalenv['cell_probs']\n",
    "    barcodes_filtered = ro.globalenv['barcodes_filtered']\n",
    "    ambient_genes = ro.globalenv['ambient_genes']\n",
    "    ambient_genes = np.array(ambient_genes)\n",
    "    genes = np.array(gex.var.index)\n",
    "    compare = np.isin(genes, ambient_genes)\n",
    "    gex.var['is_ambient'] = compare\n",
    "    droplet_utils_save.append(barcodes_filtered)\n",
    "    #mdata.obs.drop('date',axis=1, inplace=True)\n",
    "    mu.write(f'{base_path}{key}{outs_path}/DropUtils_matrix.h5mu',mdata)\n",
    "    "
   ]
  },
  {
   "cell_type": "code",
   "execution_count": null,
   "id": "edec6641",
   "metadata": {
    "metadata": {}
   },
   "outputs": [],
   "source": [
    "mdata_list"
   ]
  },
  {
   "cell_type": "markdown",
   "id": "c882af37-1e86-4b92-acc2-50c490f7d29c",
   "metadata": {},
   "source": [
    "## CellRanger"
   ]
  },
  {
   "cell_type": "markdown",
   "id": "ad261562",
   "metadata": {},
   "source": [
    "### read DU utils results if necessary"
   ]
  },
  {
   "cell_type": "code",
   "execution_count": null,
   "id": "61dc02d5",
   "metadata": {
    "metadata": {}
   },
   "outputs": [],
   "source": [
    "#load Droplet_utils results\n",
    "mdata_list = {}\n",
    "for folder_name, sample_name in folder_variables.items():\n",
    "    if folder_name not in samples:\n",
    "        print(f'skipping {folder_name}...')\n",
    "        continue\n",
    "    mdata = read_h5mu_to_mudata(f'{base_path}{folder_name}{outs_path}/DropUtils_matrix.h5mu')\n",
    "    mdata_list[folder_name]=mdata"
   ]
  },
  {
   "cell_type": "code",
   "execution_count": null,
   "id": "30e659ea",
   "metadata": {
    "metadata": {}
   },
   "outputs": [],
   "source": [
    "mdata_list"
   ]
  },
  {
   "cell_type": "markdown",
   "id": "4997f960",
   "metadata": {},
   "source": [
    "### read CR barcodes and save info into col 'cell_confirmed'"
   ]
  },
  {
   "cell_type": "code",
   "execution_count": null,
   "id": "af050320-d9ea-4f26-8677-835a67a3e5c9",
   "metadata": {
    "metadata": {}
   },
   "outputs": [],
   "source": [
    "for folder_name, sample_name in folder_variables.items():\n",
    "    if folder_name not in samples:\n",
    "        print(f'skipping {folder_name}...')\n",
    "        continue\n",
    "    adata = mdata_list[folder_name]\n",
    "    all_barcodes=np.array(adata.obs.index)\n",
    "    barcodes_Cell_Ranger = pd.read_csv(f'{base_path}{folder_name}{outs_path}/filtered_feature_bc_matrix/barcodes.tsv', names=['cells'])\n",
    "    barcodes_Cell_Ranger=np.array(barcodes_Cell_Ranger['cells'])\n",
    "    Cell_Ranger=np.isin(all_barcodes, barcodes_Cell_Ranger)\n",
    "    adata.obs['cell_confirmed'] = Cell_Ranger\n",
    "    mu.write(f'{base_path}{folder_name}{outs_path}/CR_DU_matrix.h5mu',adata)\n",
    "    "
   ]
  },
  {
   "cell_type": "code",
   "execution_count": null,
   "id": "f1a13039",
   "metadata": {
    "metadata": {}
   },
   "outputs": [],
   "source": [
    "mdata_list"
   ]
  },
  {
   "cell_type": "markdown",
   "id": "398cab7b",
   "metadata": {},
   "source": [
    "### read CR results if necessary"
   ]
  },
  {
   "cell_type": "raw",
   "id": "16b8c532",
   "metadata": {
    "metadata": {},
    "vscode": {
     "languageId": "raw"
    }
   },
   "source": [
    "'''#read_mdatas\n",
    "#mdata_list = {}\n",
    "for folder_name, sample_name in folder_variables.items():\n",
    "    if folder_name not in samples:\n",
    "        print(f'skipping {folder_name}...')\n",
    "        continue\n",
    "    mdata = read_h5mu_to_mudata(f'{base_path}{folder_name}{outs_path}/CR_DU_matrix.h5mu')\n",
    "    globals()[f'{sample_name}_mdata'] = mdata.copy()\n",
    "    mdata_list[folder_name]=globals()[f'{sample_name}_mdata']'''"
   ]
  },
  {
   "cell_type": "markdown",
   "id": "9437566e",
   "metadata": {},
   "source": [
    "### plot ambient threshold"
   ]
  },
  {
   "cell_type": "code",
   "execution_count": null,
   "id": "7ce57fea-16e7-40d7-8f80-2dfb8fe61b42",
   "metadata": {
    "metadata": {}
   },
   "outputs": [],
   "source": [
    "for k, mdata in mdata_list.items():\n",
    "    adata = mdata.mod['rna']\n",
    "    set_ambient_threshold(adata)"
   ]
  },
  {
   "cell_type": "markdown",
   "id": "79e02b6d-7d27-4b94-9bc3-450f1a4cdbc7",
   "metadata": {},
   "source": [
    "## get QC covariates"
   ]
  },
  {
   "cell_type": "code",
   "execution_count": null,
   "id": "ccfee8a5",
   "metadata": {
    "metadata": {}
   },
   "outputs": [],
   "source": [
    "mdata_list"
   ]
  },
  {
   "cell_type": "markdown",
   "id": "43e7db87",
   "metadata": {
    "metadata": {}
   },
   "source": [
    "'''for k, mdata in mdata_list.items():\n",
    "    sample = mdata.obs['sample'][0]\n",
    "    print(f'sample: {sample}')\n",
    "    gex = mdata.mod['rna']\n",
    "    #sc.pp.calculate_qc_metrics(gex, inplace=True, log1p=True)'''"
   ]
  },
  {
   "cell_type": "markdown",
   "id": "76e1d9b9",
   "metadata": {},
   "source": [
    "### Run qc_metrics on all samples"
   ]
  },
  {
   "cell_type": "code",
   "execution_count": null,
   "id": "3ebb3723",
   "metadata": {
    "metadata": {}
   },
   "outputs": [],
   "source": [
    "# Quality control - calculate QC covariates #makes kernel die every time with sample FVF-neg?!. \n",
    "for k, mdata in mdata_list.items():\n",
    "    if k not in samples:\n",
    "        print(f'skipping {folder_name}...')\n",
    "        continue\n",
    "    sample = mdata.obs['sample'][0]\n",
    "    print(f'sample: {sample}')\n",
    "    print(sum(mdata.obs['cell_confirmed']))\n",
    "    gex = mdata.mod['rna']\n",
    "    print(gex.shape)\n",
    "    qc_metrics(gex, ambient=True)\n",
    "    print(gex.shape)\n",
    "    mu.write(f'{base_path}{k}{outs_path}/CR_DU_QC_metrics.h5mu',mdata)"
   ]
  },
  {
   "cell_type": "markdown",
   "id": "47f3bfc2",
   "metadata": {},
   "source": [
    "### Workaround to avoid kernel death"
   ]
  },
  {
   "cell_type": "markdown",
   "id": "75d23987",
   "metadata": {},
   "source": [
    "#### Read qc_metrics files again in case Kernel died"
   ]
  },
  {
   "cell_type": "code",
   "execution_count": null,
   "id": "7578d0ff",
   "metadata": {},
   "outputs": [],
   "source": [
    "#read_mdatas\n",
    "mdata_list = {}\n",
    "for folder_name, sample_name in folder_variables.items():\n",
    "    if folder_name not in samples:\n",
    "        print(f'skipping {folder_name}...')\n",
    "        continue\n",
    "    mdata = read_h5mu_to_mudata(f'{base_path}{folder_name}{outs_path}/CR_DU_QC_metrics.h5mu')\n",
    "    mdata.var_names_make_unique()\n",
    "    globals()[f'{sample_name}_mdata'] = mdata.copy()\n",
    "    mdata_list[folder_name]=globals()[f'{sample_name}_mdata']\n",
    "        # Clear memory\n",
    "    del mdata\n",
    "    gc.collect()"
   ]
  },
  {
   "cell_type": "markdown",
   "id": "e949321a",
   "metadata": {},
   "source": [
    "#### Run sample outside of function to avoid kernel death"
   ]
  },
  {
   "cell_type": "raw",
   "id": "6200636c",
   "metadata": {},
   "source": [
    "'''mdata = mdata_list[samples[0]]\n",
    "sample = mdata.obs['sample'][0]\n",
    "print(f'sample: {sample}')\n",
    "print(sum(mdata.obs['cell_confirmed']))\n",
    "adata = mdata.mod['rna']\n",
    "\n",
    "if sci.sparse.issparse(adata.X):\n",
    "    adata.X = adata.X.toarray()\n",
    "\n",
    "\n",
    "# counts per gene\n",
    "adata.var['n_counts'] = adata.X.sum(0)\n",
    "\n",
    "# counts per cell\n",
    "adata.obs['n_counts'] = adata.X.sum(1)\n",
    "# log counts per cell\n",
    "adata.obs['log_counts'] = np.log(adata.obs['n_counts'])\n",
    "# rank by counts\n",
    "adata.obs['n_counts_rank'] = adata.obs['n_counts'].rank(method='first',ascending=False)\n",
    "# genes per cell\n",
    "adata.obs['n_genes'] = (adata.X > 0).sum(1)\n",
    "# log genes per cell\n",
    "adata.obs['log_genes'] = np.log(adata.obs['n_genes'])\n",
    "# fraction of mitochondrial genes\n",
    "mt_gene_mask = [gene.startswith('mt-') for gene in adata.var_names]\n",
    "adata.obs['mt_frac'] = adata.X[:, mt_gene_mask].sum(1)/adata.obs['n_counts']\n",
    "\n",
    "rp_gene_mask = [gene.startswith(('Rps','Rpl')) for gene in adata.var_names]\n",
    "adata.obs['rp_frac'] = adata.X[:,rp_gene_mask].sum(1) / adata.obs['n_counts']\n",
    "\n",
    "adata.obs['ambi_frac'] = adata.X[:,adata.var['is_ambient']==True].sum(1) / adata.obs['n_counts']\n",
    "\n",
    "sb.jointplot(\n",
    "    data=adata.obs,\n",
    "    x=\"log_counts\",\n",
    "    y=\"log_genes\",\n",
    "    kind=\"hist\", bins=100, cmap=\"rocket_r\", color=\"#f69c73\", space=0\n",
    ")\n",
    "\n",
    "fig, ax1 = plt.subplots()\n",
    "ax1.scatter(x=adata.obs['n_counts_rank'], y=adata.obs['n_counts'], s=1, alpha=0.2, c='black', label='Total UMI Counts')\n",
    "ax1.scatter(x=adata.obs['n_counts_rank'], y=adata.obs['n_genes'], s=1, alpha=0.2, c='tab:green', label='Gene Counts')\n",
    "ax1.set(xscale='log', yscale='log')\n",
    "ax1.set_ylabel('Total UMI/Gene Counts')\n",
    "ax1.set_xlabel('Ranked Droplets')\n",
    "#ax1.vlines(x=[max_rank], color=\"black\", lw=0.5).set_linestyle(\"--\")\n",
    "\n",
    "ax2 = ax1.twinx()\n",
    "ax2.scatter(x=adata.obs['n_counts_rank'], y=adata.obs['mt_frac']*100, s=1, alpha=0.2, c='tab:red', label='% Mito. Counts')\n",
    "ax2.set_ylabel('%')\n",
    "\n",
    "fig.legend(loc='center left', fontsize='xx-small', bbox_to_anchor=(0.2, 0.35))\n",
    "plt.show()\n",
    "\n",
    "fig, ax1 = plt.subplots()\n",
    "#ax1.scatter(x=adata.obs['total_counts_rank'], y=adata.obs['n_counts'], s=1, alpha=0.2, c='black', label='Total UMI Counts')\n",
    "ax1.scatter(x=adata.obs['n_counts_rank'], y=adata.obs['n_genes'], s=1, alpha=0.2, c='tab:blue', label='Gene Counts')\n",
    "ax1.scatter(x=adata.obs['n_counts_rank'], y=adata.obs['n_counts'], s=1, alpha=0.2, c=adata.obs['cell_confirmed'], label='Total UMI Counts', cmap='rocket_r')\n",
    "ax1.set(xscale='log', yscale='log')\n",
    "ax1.set_ylabel('Total UMI/Gene Counts')\n",
    "ax1.set_xlabel('Ranked Droplets')\n",
    "fig.legend(loc='center left', fontsize='medium', markerscale=3, bbox_to_anchor=(0.2, 0.35))\n",
    "plt.show()\n",
    "\n",
    "fig, ax1 = plt.subplots()\n",
    "ax1.scatter(x=adata.obs['n_counts_rank'], y=adata.obs['ambi_frac']*100, s=2, alpha=0.3, c='tab:green', label='% Ambient Counts')\n",
    "ax1.scatter(x=adata.obs['n_counts_rank'], y=adata.obs['mt_frac']*100, s=2, alpha=0.3, c='tab:red', label='% Mito. Counts')\n",
    "ax1.set_ylabel('%')\n",
    "\n",
    "ax2 = ax1.twinx()\n",
    "ax2.scatter(x=adata.obs['n_counts_rank'], y=adata.obs['n_counts'], s=2, alpha=0.2, c=adata.obs['cell_confirmed'], label='Total UMI Counts', cmap='rocket_r')\n",
    "ax2.set(xscale='log', yscale='log')\n",
    "ax2.set_ylabel('Total UMI/Gene Counts')\n",
    "ax2.set_xlabel('Ranked Droplets')\n",
    "\n",
    "fig.legend(loc='center left', fontsize='medium', markerscale=3, bbox_to_anchor=(0.2, 0.35))\n",
    "plt.show()\n",
    "\n",
    "fig, ax1 = plt.subplots()\n",
    "ax1.scatter(x=adata.obs['n_counts_rank'], y=adata.obs['rna:log_cell_probs'], s=1, alpha=0.2, c='tab:grey', label='Log Cell Probabilities')\n",
    "ax1.set_ylabel('Log Cell Probabilities')\n",
    "\n",
    "ax2 = ax1.twinx()\n",
    "ax2.scatter(x=adata.obs['n_counts_rank'], y=adata.obs['n_counts'], s=1, alpha=0.2, c=adata.obs['cell_confirmed'], label='Total UMI Counts', cmap='rocket_r')\n",
    "ax2.set(xscale='log', yscale='log')\n",
    "ax2.set_ylabel('Total UMI/Gene Counts')\n",
    "ax2.set_xlabel('Ranked Droplets')\n",
    "\n",
    "fig.legend(loc='center left', fontsize='medium', markerscale=3, bbox_to_anchor=(0.2, 0.35))\n",
    "plt.show()\n",
    "\n",
    "sb_plot =sb.jointplot(\n",
    "    data=mdata.mod['rna'].obs,\n",
    "    x=\"log_counts\",\n",
    "    y=\"log_genes\",\n",
    "    kind=\"hist\", bins=100, cmap=\"rocket_r\", color=\"#f69c73\", space=0\n",
    ")\n",
    "sb_plot.fig.suptitle(f'{sample}')\n",
    "sb_plot.fig.tight_layout()\n",
    "sb_plot.fig.subplots_adjust(top=0.95)'''"
   ]
  },
  {
   "cell_type": "markdown",
   "id": "3b856e82",
   "metadata": {},
   "source": [
    "### Filter for confirmed cells"
   ]
  },
  {
   "cell_type": "code",
   "execution_count": null,
   "id": "4dbe0bf1-64d0-4294-9128-c2e47a64f4c4",
   "metadata": {
    "metadata": {}
   },
   "outputs": [],
   "source": [
    "for folder_name, sample_name in folder_variables.items():\n",
    "    if folder_name in samples:\n",
    "        print(f'working on {folder_name}...')\n",
    "    else:\n",
    "        continue\n",
    "    mdata = read_h5mu_to_mudata(f'{base_path}{folder_name}{outs_path}/CR_DU_QC_metrics.h5mu')\n",
    "    mdata.var_names_make_unique()\n",
    "    try:\n",
    "        ix = mdata.obs['cell_confirmed']\n",
    "        mdata_f = mdata[ix,].copy()\n",
    "    except Exception as e:\n",
    "        mu.pp.intersect_obs(mdata)\n",
    "        mdata_f = mdata.copy()\n",
    "        print(e)\n",
    "    prefilter_barcodes_mdata(mdata_f)\n",
    "    mu.write(f'{base_path}{folder_name}{outs_path}/CR_DU_bc_filtered.h5mu',mdata_f)\n",
    "    # Clear memory\n",
    "    del mdata\n",
    "    del mdata_f\n",
    "    gc.collect()"
   ]
  },
  {
   "cell_type": "markdown",
   "id": "754f5db6-2423-44cd-b5b1-c42e5dfaf73a",
   "metadata": {},
   "source": [
    "## QC RNA"
   ]
  },
  {
   "cell_type": "markdown",
   "id": "0f310957",
   "metadata": {},
   "source": [
    "### UMAP"
   ]
  },
  {
   "cell_type": "code",
   "execution_count": null,
   "id": "a10c76da-f235-4ed1-81f3-5e44104f36f7",
   "metadata": {
    "metadata": {}
   },
   "outputs": [],
   "source": [
    "for folder_name, sample_name in folder_variables.items():\n",
    "    if folder_name not in samples:\n",
    "        print(f'skipping {folder_name}...')\n",
    "        continue\n",
    "    mdata = read_h5mu_to_mudata(f'{base_path}{folder_name}{outs_path}/CR_DU_bc_filtered.h5mu')\n",
    "    get_umap_leiden(mdata.mod['rna'])\n",
    "    gex = mdata.mod['rna']  \n",
    "    fig = sc.pl.umap(gex, color=['leiden','n_counts','log_counts','n_genes','log_genes','mt_frac','rp_frac', 'ambi_frac'], size=20, add_outline=True, alpha=1, outline_width=(0.3, 0.0), ncols=4, return_fig=True)\n",
    "    ax = fig.axes[0]\n",
    "    ax.legend_.set_title(folder_name)\n",
    "    plt.show()\n",
    "    mu.write(f'{base_path}{folder_name}{outs_path}/CR_DU_bc_f_umap.h5mu',mdata)\n",
    "    # Clear memory\n",
    "    del mdata\n",
    "    gc.collect()"
   ]
  },
  {
   "cell_type": "markdown",
   "id": "62a6a785",
   "metadata": {},
   "source": [
    "#### plot UMAPs"
   ]
  },
  {
   "cell_type": "raw",
   "id": "801b381a-a9b3-4c0c-908e-faef78737372",
   "metadata": {
    "metadata": {},
    "vscode": {
     "languageId": "raw"
    }
   },
   "source": [
    "for folder_name, mdata in mdata_filtered.items():  \n",
    "    if folder_name not in samples:\n",
    "        print(f'skipping {folder_name}...')\n",
    "        continue\n",
    "    gex = mdata.mod['rna']  \n",
    "    fig = sc.pl.umap(gex, color=['leiden','n_counts','log_counts','n_genes','log_genes','mt_frac','rp_frac', 'ambi_frac'], size=20, add_outline=True, alpha=1, outline_width=(0.3, 0.0), ncols=4, return_fig=True)\n",
    "    ax = fig.axes[0]\n",
    "    ax.legend_.set_title(folder_name)\n",
    "    plt.show()"
   ]
  },
  {
   "cell_type": "markdown",
   "id": "ae720bf0",
   "metadata": {},
   "source": [
    "### MT"
   ]
  },
  {
   "cell_type": "code",
   "execution_count": null,
   "id": "2837b128",
   "metadata": {
    "metadata": {}
   },
   "outputs": [],
   "source": [
    "for folder_name, sample_name in folder_variables.items():\n",
    "    if folder_name not in samples:\n",
    "        print(f'skipping {folder_name}...')\n",
    "        continue\n",
    "    mdata = read_h5mu_to_mudata(f'{base_path}{folder_name}{outs_path}/CR_DU_bc_f_umap.h5mu')\n",
    "    gex = mdata.mod['rna']\n",
    "    ax = sc.pl.scatter(gex, 'mt_frac', 'n_genes', color='n_counts', show=False)\n",
    "    ax.set_title(f\"{folder_name}- n_counts\")\n",
    "    ax = sc.pl.scatter(gex, 'mt_frac', 'log_counts', color='n_genes', show=False)\n",
    "    ax.set_title(f\"{folder_name}- n_genes\")\n",
    "    ax = sc.pl.scatter(gex, 'mt_frac', 'rp_frac', color='n_genes', show=False)\n",
    "    ax.set_title(f\"{folder_name} - n_genes\")\n",
    "    plt.show()\n",
    "    sb.histplot(gex.obs['mt_frac'], kde = True, bins=60)\n",
    "    plt.title(label=f'mitochondrial fraction of {folder_name}', fontweight='bold')\n",
    "    plt.show()\n",
    "    plt.close()\n",
    "    # Clear memory\n",
    "    del mdata\n",
    "    gc.collect()"
   ]
  },
  {
   "cell_type": "markdown",
   "id": "900d0444",
   "metadata": {},
   "source": [
    "#### set thresholds - manual and per sample individually"
   ]
  },
  {
   "cell_type": "code",
   "execution_count": null,
   "id": "a46adae9",
   "metadata": {
    "metadata": {}
   },
   "outputs": [],
   "source": [
    "mito_dict = {'597_NVF_Crypts_Rep1': [0,0.32],\n",
    " '598_FVF_Crypts_Rep1': [0,0.35],\n",
    " '599_FVF_Crypts_Rep2': [0,0.28],\n",
    " '604_NVF_Crypts_Rep2': [0,0.35],\n",
    " 'FVF-high': [0,0.3],\n",
    " 'FVF-low': [0,0.4],\n",
    " 'FVF-neg': [0,0.4]}"
   ]
  },
  {
   "cell_type": "code",
   "execution_count": null,
   "id": "e16878cf",
   "metadata": {
    "metadata": {}
   },
   "outputs": [],
   "source": [
    "for folder_name, sample_name in folder_variables.items():\n",
    "    if folder_name not in samples:\n",
    "        print(f'skipping {folder_name}...')\n",
    "        continue\n",
    "    mdata = read_h5mu_to_mudata(f'{base_path}{folder_name}{outs_path}/CR_DU_bc_f_umap.h5mu')\n",
    "    max_mito = mito_dict[folder_name][1]\n",
    "    min_mito = mito_dict[folder_name][0]\n",
    "    gex = mdata.mod['rna']\n",
    "    p = sb.jointplot(x=gex.obs['mt_frac'], y=gex.obs['n_genes'], n_levels=15, thresh=0.05, kind=\"kde\", space=0, fill=True, cmap=\"rocket_r\", color=\"#f69c73\").plot_joint(\n",
    "        sb.scatterplot, alpha=0).ax_joint.vlines(x=[min_mito,max_mito], ymin=[0,0], ymax=[max(gex.obs['n_genes']),max(gex.obs['n_genes'])], color=\"black\", lw=0.5).set_linestyle(\"--\")\n",
    "    plt.suptitle(f\"{folder_name} - mt fraction by n_genes\")\n",
    "    plt.show()\n",
    "    plt.close()\n",
    "\n",
    "    p = sb.jointplot(x=gex.obs['mt_frac'], y=gex.obs['log_counts'], n_levels=15, thresh=0.05, kind=\"kde\", space=0, fill=True, cmap=\"rocket_r\", color=\"#f69c73\").plot_joint(\n",
    "        sb.scatterplot, alpha=0).ax_joint.vlines(x=[min_mito,max_mito], ymin=[0,0], ymax=[max(gex.obs['log_counts']),max(gex.obs['log_counts'])], color=\"black\", lw=0.5).set_linestyle(\"--\")\n",
    "    plt.suptitle(f\"{folder_name} - mt fraction by log_counts\")\n",
    "    plt.show()\n",
    "    plt.close()\n",
    "    # Clear memory\n",
    "    del mdata\n",
    "    gc.collect()\n",
    "    "
   ]
  },
  {
   "cell_type": "code",
   "execution_count": null,
   "id": "10719b34",
   "metadata": {},
   "outputs": [],
   "source": [
    "gex"
   ]
  },
  {
   "cell_type": "code",
   "execution_count": null,
   "id": "8d361384",
   "metadata": {
    "metadata": {}
   },
   "outputs": [],
   "source": [
    "for folder_name, sample_name in folder_variables.items():\n",
    "    if folder_name not in samples:\n",
    "        print(f'skipping {folder_name}...')\n",
    "        continue\n",
    "    mdata = read_h5mu_to_mudata(f'{base_path}{folder_name}{outs_path}/CR_DU_bc_f_umap.h5mu')\n",
    "    gex = mdata.mod['rna']\n",
    "    #filter mitos\n",
    "    max_mito = mito_dict[folder_name][1]\n",
    "    min_mito = mito_dict[folder_name][0]\n",
    "    gex.obs['filter_mt_frac']=pd.Categorical(list(map(str,list((gex.obs['mt_frac'] < max_mito) & (gex.obs['mt_frac'] > min_mito)))))\n",
    "    fig = sc.pl.umap(gex, color=['filter_mt_frac','mt_frac'], size=20, add_outline=True, alpha=1, outline_width=(0.3, 0.0), return_fig=True)\n",
    "    ax = fig.axes[0]\n",
    "    ax.legend_.set_title(folder_name)\n",
    "    plt.show()\n",
    "    plt.close()\n",
    "    # Scatter plot with vertical lines\n",
    "    try:\n",
    "        with rc_context({'figure.figsize': (6, 3)}):\n",
    "            sc.pl.scatter(gex, x='mt_frac', y='n_genes', color='filter_mt_frac', show=False)\n",
    "            ymin, ymax = 0, max(gex.obs['n_genes'])\n",
    "            plt.vlines([min_mito, max_mito], ymin=ymin, ymax=ymax, color=\"black\", lw=0.5, linestyles=\"--\")\n",
    "            plt.suptitle(f\"{folder_name} - mt fraction by n_genes\")\n",
    "            plt.show()\n",
    "            plt.close()\n",
    "    except Exception as e:\n",
    "        print(f'Error plotting scatter plot for {folder_name}: {e}')\n",
    "    mu.write(f'{base_path}{folder_name}{outs_path}/CR_DU_bc_f_umap_mt.h5mu',mdata)\n",
    "    # Clear memory\n",
    "    del mdata\n",
    "    gc.collect()"
   ]
  },
  {
   "cell_type": "markdown",
   "id": "14deee36",
   "metadata": {},
   "source": [
    "#### set MT threshholds and visualize"
   ]
  },
  {
   "cell_type": "code",
   "execution_count": null,
   "id": "95386d3f",
   "metadata": {
    "metadata": {}
   },
   "outputs": [],
   "source": [
    "mito_filters= {}\n",
    "for folder_name, sample_name in folder_variables.items():\n",
    "    if folder_name not in samples:\n",
    "        print(f'skipping {folder_name}...')\n",
    "        continue\n",
    "    mdata = read_h5mu_to_mudata(f'{base_path}{folder_name}{outs_path}/CR_DU_bc_f_umap_mt.h5mu')\n",
    "    gex = mdata.mod['rna']\n",
    "    max_mito = mito_dict[folder_name][1]\n",
    "    min_mito = mito_dict[folder_name][0]\n",
    "    with rc_context({'figure.figsize': (8, 3)}):\n",
    "        sb.histplot(gex.obs['mt_frac'], kde = True, bins=60)\n",
    "        plt.axvline(max_mito, 0, 1)\n",
    "        plt.axvline(min_mito, 0, 1)\n",
    "        plt.title(label=f'mitochondrial fraction in {folder_name}')\n",
    "        plt.show()\n",
    "        plt.close()\n",
    "    max_mito = mito_dict[folder_name][1]\n",
    "    min_mito = mito_dict[folder_name][0]\n",
    "    mito_filter = (gex.obs['mt_frac'] < max_mito) & (gex.obs['mt_frac'] > min_mito)\n",
    "    mito_filters[folder_name] = mito_filter\n",
    "    # Clear memory\n",
    "    del mdata\n",
    "    gc.collect()"
   ]
  },
  {
   "cell_type": "markdown",
   "id": "eec76147",
   "metadata": {},
   "source": [
    "### Counts"
   ]
  },
  {
   "cell_type": "code",
   "execution_count": null,
   "id": "9ff6b492",
   "metadata": {
    "metadata": {}
   },
   "outputs": [],
   "source": [
    "for folder_name, sample_name in folder_variables.items():\n",
    "    if folder_name not in samples:\n",
    "        print(f'skipping {folder_name}...')\n",
    "        continue\n",
    "    mdata = read_h5mu_to_mudata(f'{base_path}{folder_name}{outs_path}/CR_DU_bc_f_umap_mt.h5mu')\n",
    "    gex = mdata.mod['rna']\n",
    "    sb.jointplot(x=gex[mito_filters[folder_name]].obs['log_counts'], y=gex[mito_filters[folder_name]].obs['log_genes'], n_levels=30, thresh=0.05, kind=\"kde\", space=0, fill=True, cmap=\"rocket_r\", color=\"#f69c73\").plot_joint(\n",
    "    sb.scatterplot, alpha=0)\n",
    "    plt.suptitle(f\"{folder_name} - mt fraction by n_genes\")\n",
    "    plt.show()\n",
    "    plt.close()\n",
    "    with rc_context({'figure.figsize': (8, 3)}):\n",
    "        sb.histplot(gex[mito_filters[folder_name]].obs['n_counts'],color='red',  kde = True)\n",
    "        sb.histplot(gex.obs['n_counts'],  kde = True)\n",
    "        plt.title(label=f'n_counts in {folder_name}')\n",
    "        plt.show()\n",
    "        plt.close()  \n",
    "    # Clear memory\n",
    "    del mdata\n",
    "    gc.collect()\n"
   ]
  },
  {
   "cell_type": "markdown",
   "id": "b20f3f6b",
   "metadata": {},
   "source": [
    "#### set thresholds"
   ]
  },
  {
   "cell_type": "code",
   "execution_count": null,
   "id": "d26d86ab",
   "metadata": {
    "metadata": {}
   },
   "outputs": [],
   "source": [
    "counts_dict = {'597_NVF_Crypts_Rep1': [1250,55000],\n",
    " '598_FVF_Crypts_Rep1': [1000,60000],\n",
    " '599_FVF_Crypts_Rep2': [2500,50000],\n",
    " '604_NVF_Crypts_Rep2': [2200,60000],\n",
    " 'FVF-high': [1500,60000],\n",
    " 'FVF-low': [1800,70000],\n",
    " 'FVF-neg': [1250,35000]}"
   ]
  },
  {
   "cell_type": "code",
   "execution_count": null,
   "id": "d46e19a1",
   "metadata": {
    "metadata": {}
   },
   "outputs": [],
   "source": [
    "x_lim = [0,3000]"
   ]
  },
  {
   "cell_type": "code",
   "execution_count": null,
   "id": "a189280f",
   "metadata": {
    "metadata": {}
   },
   "outputs": [],
   "source": [
    "for folder_name, sample_name in folder_variables.items():\n",
    "    if folder_name not in samples:\n",
    "        print(f'skipping {folder_name}...')\n",
    "        continue\n",
    "    mdata = read_h5mu_to_mudata(f'{base_path}{folder_name}{outs_path}/CR_DU_bc_f_umap_mt.h5mu')\n",
    "    gex = mdata.mod['rna']\n",
    "    min_counts = counts_dict[folder_name][0]\n",
    "    max_counts = counts_dict[folder_name][1]\n",
    "    with rc_context({'figure.figsize': (8, 3)}):\n",
    "        sb.histplot(gex.obs['n_counts'][(gex.obs['n_counts']<x_lim[1]) & mito_filters[folder_name]], kde = True, bins=60, color = 'red')\n",
    "        sb.histplot(gex.obs['n_counts'][(gex.obs['n_counts']<x_lim[1])], kde = True, bins=60)\n",
    "        plt.title(label=f'{folder_name} n_counts within xlim')\n",
    "        plt.axvline(min_counts, 0, 1)\n",
    "        plt.show()\n",
    "    # Clear memory\n",
    "    del mdata\n",
    "    gc.collect()"
   ]
  },
  {
   "cell_type": "code",
   "execution_count": null,
   "id": "32ba00dc",
   "metadata": {
    "metadata": {}
   },
   "outputs": [],
   "source": [
    "x_lim = [17000,100000]"
   ]
  },
  {
   "cell_type": "markdown",
   "id": "672ed56b",
   "metadata": {},
   "source": [
    "#### set and visualize counts filter"
   ]
  },
  {
   "cell_type": "code",
   "execution_count": null,
   "id": "2e5488ea",
   "metadata": {
    "metadata": {}
   },
   "outputs": [],
   "source": [
    "counts_filters={}\n",
    "for folder_name, sample_name in folder_variables.items():\n",
    "    if folder_name not in samples:\n",
    "        print(f'skipping {folder_name}...')\n",
    "        continue\n",
    "    mdata = read_h5mu_to_mudata(f'{base_path}{folder_name}{outs_path}/CR_DU_bc_f_umap_mt.h5mu')\n",
    "    gex = mdata.mod['rna']\n",
    "    min_counts = counts_dict[folder_name][0]\n",
    "    max_counts = counts_dict[folder_name][1]\n",
    "    counts_filters[folder_name] = (gex.obs['n_counts'] > min_counts) & (gex.obs['n_counts'] < max_counts)\n",
    "    with rc_context({'figure.figsize': (8, 3)}):\n",
    "        sb.histplot(gex.obs['n_counts'][(gex.obs['n_counts']>x_lim[0]) & (gex.obs['n_counts']<x_lim[1]) & mito_filters[folder_name]], kde=True, bins=60, color = 'red')\n",
    "        sb.histplot(gex.obs['n_counts'][(gex.obs['n_counts']>x_lim[0]) & (gex.obs['n_counts']<x_lim[1])], kde = True, bins=60)\n",
    "        plt.title(label=f'{folder_name} n_counts within xlim')\n",
    "        plt.axvline(max_counts, 0, 1)\n",
    "        plt.show()\n",
    "    # Clear memory\n",
    "    del mdata\n",
    "    gc.collect()"
   ]
  },
  {
   "cell_type": "markdown",
   "id": "c25bfe24",
   "metadata": {},
   "source": [
    "#### visualize thresholds"
   ]
  },
  {
   "cell_type": "code",
   "execution_count": null,
   "id": "d6535287",
   "metadata": {
    "metadata": {}
   },
   "outputs": [],
   "source": [
    "for folder_name, sample_name in folder_variables.items():\n",
    "    if folder_name not in samples:\n",
    "        print(f'skipping {folder_name}...')\n",
    "        continue\n",
    "    mdata = read_h5mu_to_mudata(f'{base_path}{folder_name}{outs_path}/CR_DU_bc_f_umap_mt.h5mu')\n",
    "    gex = mdata.mod['rna']\n",
    "    min_counts = counts_dict[folder_name][0]\n",
    "    max_counts = counts_dict[folder_name][1]\n",
    "    p1= sc.pl.scatter(gex, 'n_counts', 'n_genes', color='mt_frac', show=False).vlines(x=[min_counts, max_counts], ymin=[0,0], ymax=[max(gex.obs['n_genes']),max(gex.obs['n_genes'])], color=\"black\", lw=0.5).set_linestyle(\"--\")\n",
    "    plt.suptitle(f'{folder_name}')\n",
    "    plt.show()\n",
    "    plt.close()\n",
    "    p2 =sc.pl.scatter(gex, 'log_counts', 'log_genes', color='mt_frac', show=False).vlines(x=[np.log(min_counts), np.log(max_counts)], ymin=[np.log(min(gex.obs['n_genes'])),np.log(min(gex.obs['n_genes']))], ymax=[np.log(max(gex.obs['n_genes'])),np.log(max(gex.obs['n_genes']))], color=\"black\", lw=0.5).set_linestyle(\"--\")\n",
    "    plt.suptitle(f'{folder_name} log')\n",
    "    plt.show()\n",
    "    # Clear memory\n",
    "    del mdata\n",
    "    gc.collect()"
   ]
  },
  {
   "cell_type": "markdown",
   "id": "8675c3b8",
   "metadata": {},
   "source": [
    "### Genes"
   ]
  },
  {
   "cell_type": "code",
   "execution_count": null,
   "id": "32dca912",
   "metadata": {
    "metadata": {}
   },
   "outputs": [],
   "source": [
    "for folder_name, sample_name in folder_variables.items():\n",
    "    if folder_name not in samples:\n",
    "        print(f'skipping {folder_name}...')\n",
    "        continue\n",
    "    mdata = read_h5mu_to_mudata(f'{base_path}{folder_name}{outs_path}/CR_DU_bc_f_umap_mt.h5mu')\n",
    "    gex = mdata.mod['rna']\n",
    "    min_counts= counts_filters[folder_name][0]\n",
    "    max_counts = counts_filters[folder_name][1]\n",
    "    sb.jointplot(x=gex[mito_filters[folder_name]].obs['log_counts'], y=gex[mito_filters[folder_name]].obs['log_genes'], n_levels=30, thresh=0.05, kind=\"kde\", space=0, fill=True, cmap=\"rocket_r\", color=\"#f69c73\").plot_joint(\n",
    "        sb.scatterplot, alpha=0).ax_joint.vlines(x=[np.log(min_counts), np.log(max_counts)], ymin=[np.log(min(gex.obs['n_genes'])),np.log(min(gex.obs['n_genes']))], ymax=[np.log(max(gex.obs['n_genes'])),np.log(max(gex.obs['n_genes']))], color=\"black\", lw=0.5).set_linestyle(\"--\")\n",
    "    plt.suptitle(f'{folder_name}')\n",
    "    plt.show()\n",
    "    plt.close()\n",
    "    sb.histplot(gex.obs['n_genes'][mito_filters[folder_name] & counts_filters[folder_name]], kde=True, bins=60, color = 'red')\n",
    "    sb.histplot(gex.obs['n_genes'][mito_filters[folder_name]], kde=True, bins=60, color = 'green')\n",
    "    sb.histplot(gex.obs['n_genes'], kde=True, bins=60)\n",
    "    plt.title(f'{folder_name}')\n",
    "    plt.show()\n",
    "    plt.close()\n",
    "    # Clear memory\n",
    "    del mdata\n",
    "    gc.collect()"
   ]
  },
  {
   "cell_type": "markdown",
   "id": "696a508a",
   "metadata": {},
   "source": [
    "#### set min_genes"
   ]
  },
  {
   "cell_type": "code",
   "execution_count": null,
   "id": "d320999b",
   "metadata": {
    "metadata": {}
   },
   "outputs": [],
   "source": [
    "genes_dict = {'597_NVF_Crypts_Rep1': [850,0],\n",
    " '598_FVF_Crypts_Rep1': [450,0],\n",
    " '599_FVF_Crypts_Rep2': [1000,0],\n",
    " '604_NVF_Crypts_Rep2': [1250,0],\n",
    " 'FVF-high': [1000,0],\n",
    " 'FVF-low': [1000,0],\n",
    " 'FVF-neg': [800,0]}"
   ]
  },
  {
   "cell_type": "code",
   "execution_count": null,
   "id": "5fba578b",
   "metadata": {
    "metadata": {}
   },
   "outputs": [],
   "source": [
    "x_lim = [0,2000]"
   ]
  },
  {
   "cell_type": "markdown",
   "id": "a07bd987",
   "metadata": {},
   "source": [
    "#### set and plot genes filter"
   ]
  },
  {
   "cell_type": "code",
   "execution_count": null,
   "id": "6abf4f9e",
   "metadata": {
    "metadata": {}
   },
   "outputs": [],
   "source": [
    "genes_filters={}\n",
    "for folder_name, sample_name in folder_variables.items():\n",
    "    if folder_name not in samples:\n",
    "        print(f'skipping {folder_name}...')\n",
    "        continue\n",
    "    mdata = read_h5mu_to_mudata(f'{base_path}{folder_name}{outs_path}/CR_DU_bc_f_umap_mt.h5mu')\n",
    "    gex = mdata.mod['rna']\n",
    "    min_genes= genes_dict[folder_name][0]\n",
    "    max_genes = genes_dict[folder_name][1]\n",
    "    genes_filters[folder_name] = (gex.obs['n_genes'] > min_genes)\n",
    "    with rc_context({'figure.figsize': (8, 3)}):\n",
    "        sb.histplot(gex.obs['n_genes'][(gex.obs['n_genes']>x_lim[0]) & (gex.obs['n_genes']<x_lim[1])& mito_filters[folder_name] & counts_filters[folder_name]],color= 'red', kde=True, bins=60)\n",
    "        sb.histplot(gex.obs['n_genes'][(gex.obs['n_genes']>x_lim[0]) & (gex.obs['n_genes']<x_lim[1])& mito_filters[folder_name]],color= 'green', kde=True, bins=60)\n",
    "        sb.histplot(gex.obs['n_genes'][(gex.obs['n_genes']>x_lim[0]) & (gex.obs['n_genes']<x_lim[1])], kde=True, bins=60)\n",
    "        plt.axvline(min_genes, 0, 1)\n",
    "        plt.title(f'{folder_name}')\n",
    "        plt.show()\n",
    "    # Clear memory\n",
    "    del mdata\n",
    "    gc.collect()"
   ]
  },
  {
   "cell_type": "markdown",
   "id": "c7fa34ae",
   "metadata": {},
   "source": [
    "### set and visualize all filters"
   ]
  },
  {
   "cell_type": "code",
   "execution_count": null,
   "id": "9d48de41",
   "metadata": {
    "metadata": {}
   },
   "outputs": [],
   "source": [
    "for folder_name, sample_name in folder_variables.items():\n",
    "    if folder_name not in samples:\n",
    "        print(f'skipping {folder_name}...')\n",
    "        continue\n",
    "    mdata = read_h5mu_to_mudata(f'{base_path}{folder_name}{outs_path}/CR_DU_bc_f_umap_mt.h5mu')\n",
    "    min_genes = genes_dict[folder_name][0]\n",
    "    min_counts= counts_dict[folder_name][0]\n",
    "    max_counts = counts_dict[folder_name][1]\n",
    "    gex = mdata.mod['rna']\n",
    "    p=sc.pl.scatter(gex, 'n_counts', 'n_genes', color='mt_frac', show=False)\n",
    "    gex = mdata.mod['rna']\n",
    "    #gex.obs['filtered_cells']=pd.Categorical(list(map(str,list(qc_filters[folder_name]))))\n",
    "    #gex.obs['filtered_cells'] = qc_filters[folder_name].astype(str)\n",
    "    #gex.obs['filtered_cells']=pd.Categorical(list(map(str,list((counts_filters[folder_name] & genes_filters[folder_name] & mito_filters[folder_name])))))\n",
    "    gex.obs['filtered_cells']=pd.Categorical(list(map(str,list((gex.obs['n_counts'] > counts_dict[folder_name][0]) & \n",
    "                                                             (gex.obs['n_counts'] < counts_dict[folder_name][1]) & \n",
    "                                                             (gex.obs['n_genes'] > genes_dict[folder_name][0]) & \n",
    "                                                             (gex.obs['mt_frac'] < mito_dict[folder_name][1]))))) #everything else seems to not perform AND logic ?!\n",
    "\n",
    "    p.vlines(x=[min_counts, max_counts], ymin=[0,0], ymax=[max(gex.obs['n_genes']),max(gex.obs['n_genes'])], color=\"black\", lw=0.5).set_linestyle(\"--\")\n",
    "    p.axhline(y=min_genes, xmin=0, xmax=max(gex.obs['n_counts']), color=\"black\", lw=0.5).set_linestyle(\"--\")\n",
    "    plt.suptitle(f'{folder_name}')\n",
    "    plt.show()\n",
    "\n",
    "    p=sc.pl.scatter(gex, 'log_counts', 'log_genes', color='mt_frac', show=False)\n",
    "    p.vlines(x=[np.log(min_counts), np.log(max_counts)], ymin=[np.log(min(gex.obs['n_genes'])),np.log(min(gex.obs['n_genes']))], ymax=[np.log(max(gex.obs['n_genes'])),np.log(max(gex.obs['n_genes']))], color=\"black\", lw=0.5).set_linestyle(\"--\")\n",
    "    p.axhline(y=np.log(min_genes), color=\"black\", lw=0.5).set_linestyle(\"--\")\n",
    "    plt.suptitle(f'{folder_name}')\n",
    "    plt.show()\n",
    "    mu.write(f'{base_path}{folder_name}{outs_path}/CR_DU_bc_f_umap_mt_QCfiltered.h5mu', mdata)\n",
    "    # Clear memory\n",
    "    del mdata\n",
    "    gc.collect()"
   ]
  },
  {
   "cell_type": "markdown",
   "id": "b65b7da2",
   "metadata": {},
   "source": [
    "#### Plots for QC correction"
   ]
  },
  {
   "cell_type": "code",
   "execution_count": null,
   "id": "b88ec88f",
   "metadata": {
    "metadata": {}
   },
   "outputs": [],
   "source": [
    "for folder_name, sample_name in folder_variables.items():\n",
    "    if folder_name not in samples:\n",
    "        print(f'skipping {folder_name}...')\n",
    "        continue\n",
    "    mdata = read_h5mu_to_mudata(f'{base_path}{folder_name}{outs_path}/CR_DU_bc_f_umap_mt_QCfiltered.h5mu')\n",
    "    gex = mdata.mod['rna']   \n",
    "    for col in ['log_cell_probs', 'log_counts', 'n_counts_rank', 'log_genes', 'mt_frac', 'rp_frac', 'ambi_frac']:\n",
    "        fig, axes = plt.subplots(1,2, figsize=(10, 4), gridspec_kw=dict(width_ratios=[2,1],wspace = 0.3))\n",
    "        \n",
    "        sb.violinplot(x='leiden', y=col, data=gex.obs, ax=axes[0], hue = col, palette=\"bright\")\n",
    "        sb.violinplot(x='filtered_cells', y=col, data=gex.obs, ax=axes[1],hue = col, palette=\"colorblind\")\n",
    "        axes[1].set_ylabel(None)\n",
    "        fig.suptitle(folder_name)\n",
    "        plt.show()\n",
    "        plt.close()\n",
    "    # Clear memory\n",
    "    del mdata\n",
    "    gc.collect()"
   ]
  },
  {
   "cell_type": "code",
   "execution_count": null,
   "id": "cb1a3666",
   "metadata": {
    "metadata": {}
   },
   "outputs": [],
   "source": [
    "for folder_name, sample_name in folder_variables.items():\n",
    "    if folder_name not in samples:\n",
    "        print(f'skipping {folder_name}...')\n",
    "        continue\n",
    "    mdata = read_h5mu_to_mudata(f'{base_path}{folder_name}{outs_path}/CR_DU_bc_f_umap_mt_QCfiltered.h5mu')\n",
    "    max_prob = -2000\n",
    "    gex = mdata.mod['rna']\n",
    "    sb.histplot(gex.obs['log_cell_probs'], kde=True, bins=60, color='Blue')\n",
    "    sb.histplot(gex[gex.obs['filtered_cells']=='True'].obs['log_cell_probs'], kde=True, bins=60, color='Red')\n",
    "    plt.axvline(max_prob, 0, 1)\n",
    "    plt.title(label= f\"Log Cell Probabilities\\nFiltered Cell Barcodes of {folder_name}\", fontweight='bold')\n",
    "    plt.show()\n",
    "    plt.close()\n",
    "    # Clear memory\n",
    "    del mdata\n",
    "    gc.collect()"
   ]
  },
  {
   "cell_type": "code",
   "execution_count": null,
   "id": "2ac44977",
   "metadata": {
    "metadata": {}
   },
   "outputs": [],
   "source": [
    "for folder_name, sample_name in folder_variables.items():\n",
    "    if folder_name not in samples:\n",
    "        print(f'skipping {folder_name}...')\n",
    "        continue\n",
    "    mdata = read_h5mu_to_mudata(f'{base_path}{folder_name}{outs_path}/CR_DU_bc_f_umap_mt_QCfiltered.h5mu')\n",
    "    gex = mdata.mod['rna'].copy()\n",
    "    sc.pl.umap(gex, color=['log_counts','log_genes','mt_frac','rp_frac','ambi_frac','log_cell_probs'], size=20, add_outline=True, alpha=1, outline_width=(0.3, 0.0), ncols=3, title= folder_name)\n",
    "    plt.show()\n",
    "    plt.close()\n",
    "    fig=sc.pl.umap(gex, color=['filtered_cells','leiden'], size=20, add_outline=True, alpha=1, outline_width=(0.3, 0.0), ncols=6, return_fig=True)\n",
    "    ax=fig.axes[0]\n",
    "    ax.legend_.set_title(folder_name)\n",
    "    plt.show()\n",
    "    plt.close()\n",
    "\n",
    "    ###############################################################################\n",
    "    ###############################################################################\n",
    "\n",
    "    with rc_context({'figure.figsize': (6, 4)}): #rcParams['figure.figsize']=(6,4)\n",
    "        key = 'leiden'\n",
    "        labels = list(gex.obs[key].cat.categories)\n",
    "        keep_pct = []\n",
    "        filter_pct = []\n",
    "        width = 0.85       # the width of the bars: can also be len(x) sequence\n",
    "    \n",
    "        for label in labels:\n",
    "            try:\n",
    "                keep_pct = keep_pct + [gex.obs['filtered_cells'][gex.obs[key]==label].value_counts()['True']/gex.obs['filtered_cells'][gex.obs[key]==label].value_counts().sum()*100]\n",
    "            except KeyError:\n",
    "                keep_pct += [0]\n",
    "            try:\n",
    "                filter_pct = filter_pct + [gex.obs['filtered_cells'][gex.obs[key]==label].value_counts()['False']/gex.obs['filtered_cells'][gex.obs[key]==label].value_counts().sum()*100]\n",
    "            except KeyError:\n",
    "                filter_pct += [0]\n",
    "        fig, ax = plt.subplots()\n",
    "\n",
    "        ax.bar(labels, filter_pct, width, label='Filter Out', edgecolor='0', linewidth=0.5)\n",
    "        ax.bar(labels, keep_pct, width, bottom=filter_pct, label='Keep', edgecolor='0', linewidth=0.5)\n",
    "\n",
    "        ax.set_ylabel('%')\n",
    "        ax.set_title(f'Percentage of Filtered Cells in {folder_name}')\n",
    "        ax.axes.set_xticklabels(labels=labels, rotation=90)\n",
    "        ax.legend(bbox_to_anchor=(1, .5),loc='center left', edgecolor='1')\n",
    "\n",
    "        plt.ylim([-2.5,100+2.5])\n",
    "        plt.xlim([-1+0.25,len(labels)-0.25])\n",
    "\n",
    "        plt.show()\n",
    "        plt.close()\n",
    "\n",
    "    #################################################################################\n",
    "    #################################################################################\n",
    "\n",
    "    p= sc.pl.scatter(gex, 'mt_frac', 'n_genes', color='filtered_cells')\n",
    "    plt.suptitle(f'{folder_name}')\n",
    "    plt.show()\n",
    "    plt.close()\n",
    "    p= sc.pl.scatter(gex, 'log_counts', 'log_genes', color='filtered_cells')\n",
    "    plt.suptitle(f'{folder_name}')\n",
    "    plt.show()\n",
    "    plt.close()\n",
    "    # Clear memory\n",
    "    del mdata\n",
    "    gc.collect()"
   ]
  },
  {
   "cell_type": "markdown",
   "id": "bc74d262",
   "metadata": {},
   "source": [
    "### recover Paneth cells"
   ]
  },
  {
   "cell_type": "code",
   "execution_count": null,
   "id": "4c1f9a99",
   "metadata": {},
   "outputs": [],
   "source": [
    "for folder_name, sample_name in folder_variables.items():\n",
    "    if folder_name not in samples:\n",
    "        print(f'skipping {folder_name}...')\n",
    "        continue\n",
    "    mdata = read_h5mu_to_mudata(f'{base_path}{folder_name}{outs_path}/CR_DU_bc_f_umap_mt_QCfiltered.h5mu')\n",
    "    print(f'folder_name: {folder_name}')\n",
    "    gex = mdata.mod['rna']\n",
    "    sc.pl.umap(gex, color=['Lyz1','Defa24','Mmp7','Itln1'], size=20, add_outline=True, alpha=1, outline_width=(0.3, 0.0), ncols=5, color_map = mymap)\n",
    "    # Clear memory\n",
    "    del mdata\n",
    "    gc.collect()"
   ]
  },
  {
   "cell_type": "code",
   "execution_count": null,
   "id": "a1c28182",
   "metadata": {},
   "outputs": [],
   "source": [
    "min_lyz = 30\n",
    "min_defa = 80\n",
    "min_itln = 30\n",
    "paneth_th_dict ={'597_NVF_Crypts_Rep1': [100,800,100],\n",
    " '598_FVF_Crypts_Rep1': [100,800,100],\n",
    " '599_FVF_Crypts_Rep2': [100,800,150],\n",
    " '604_NVF_Crypts_Rep2': [100,800,200],\n",
    " 'FVF-high': [80,500,100],\n",
    " 'FVF-low': [80,500,100]}\n",
    "\n",
    "for folder_name, sample_name in folder_variables.items():\n",
    "    if folder_name not in samples:\n",
    "        print(f'skipping {folder_name}...')\n",
    "        continue\n",
    "    mdata = read_h5mu_to_mudata(f'{base_path}{folder_name}{outs_path}/CR_DU_bc_f_umap_mt_QCfiltered.h5mu')\n",
    "    print(f'folder_name: {folder_name}')\n",
    "    adata = mdata.mod['rna']\n",
    "\n",
    "    p=sc.pl.scatter(adata, x='log_counts',y='Lyz1', color='filtered_cells', show=False)\n",
    "    p.hlines(y=paneth_th_dict[folder_name][2], xmin=[min(adata.obs['log_counts'])], xmax=[max(adata.obs['log_counts'])], color=\"black\", lw=0.5).set_linestyle(\"--\")\n",
    "    p.semilogy()\n",
    "    plt.title(folder_name)\n",
    "    plt.show()\n",
    "    plt.close()\n",
    "\n",
    "    p=sc.pl.scatter(adata, x='log_counts',y='Defa24', color='filtered_cells', show=False)\n",
    "    p.hlines(y=[paneth_th_dict[folder_name][1]], xmin=[min(adata.obs['log_counts'])], xmax=[max(adata.obs['log_counts'])], color=\"black\", lw=0.5).set_linestyle(\"--\")\n",
    "    p.semilogy() \n",
    "    plt.title(folder_name)\n",
    "    plt.show()\n",
    "    plt.close()\n",
    "\n",
    "    p=sc.pl.scatter(adata, x='log_counts',y='Itln1', color='filtered_cells', show=False)\n",
    "    p.hlines(y=[paneth_th_dict[folder_name][2]], xmin=[min(adata.obs['log_counts'])], xmax=[max(adata.obs['log_counts'])], color=\"black\", lw=0.5).set_linestyle(\"--\")\n",
    "    p.semilogy() \n",
    "    plt.title(folder_name)\n",
    "    plt.show()\n",
    "    plt.close()\n",
    "    # Clear memory\n",
    "    del mdata\n",
    "    gc.collect()"
   ]
  },
  {
   "cell_type": "code",
   "execution_count": null,
   "id": "b7210b4d",
   "metadata": {},
   "outputs": [],
   "source": [
    "for folder_name, sample_name in folder_variables.items():\n",
    "    if folder_name not in samples:\n",
    "        print(f'skipping {folder_name}...')\n",
    "        continue\n",
    "    mdata = read_h5mu_to_mudata(f'{base_path}{folder_name}{outs_path}/CR_DU_bc_f_umap_mt_QCfiltered.h5mu')\n",
    "    print(f'folder_name: {folder_name}')\n",
    "    adata = mdata.mod['rna']\n",
    "    # Find paneth cells\n",
    "    marker_genes = ['Lyz1','Defa24','Itln1']\n",
    "    df = pd.DataFrame(data = adata[:,np.in1d(adata.var_names,marker_genes)].X.toarray(), \n",
    "                    index = adata.obs_names, \n",
    "                    columns=adata.var_names[np.in1d(adata.var_names, marker_genes)].values)\n",
    "    adata.obs['is_paneth'] = list(map(str,list((df['Itln1'] > paneth_th_dict[folder_name][2]) | (df['Defa24'] > paneth_th_dict[folder_name][1]) | (df['Lyz1'] > paneth_th_dict[folder_name][0] ))))\n",
    "    adata.obs.loc[adata.obs['is_paneth']=='True','is_paneth'] = 'Paneth'\n",
    "    adata.obs.loc[adata.obs['is_paneth']=='False','is_paneth'] = 'Non-Paneth'\n",
    "    mu.write(f'{base_path}{folder_name}{outs_path}/CR_DU_bc_f_umap_mt_QCfiltered_paneth.h5mu',mdata)\n",
    "    # Clear memory\n",
    "    del mdata\n",
    "    gc.collect()"
   ]
  },
  {
   "cell_type": "code",
   "execution_count": null,
   "id": "8d0bdccb",
   "metadata": {},
   "outputs": [],
   "source": [
    "for folder_name, sample_name in folder_variables.items():\n",
    "    if folder_name not in samples:\n",
    "        print(f'skipping {folder_name}...')\n",
    "        continue\n",
    "    mdata = read_h5mu_to_mudata(f'{base_path}{folder_name}{outs_path}/CR_DU_bc_f_umap_mt_QCfiltered_paneth.h5mu')\n",
    "    print(f'folder_name: {folder_name}')\n",
    "    adata = mdata.mod['rna']\n",
    "    fig =sc.pl.umap(adata, color = ['is_paneth','filtered_cells'], size=20, add_outline=True, alpha=1, outline_width=(0.3, 0.0), ncols=6, return_fig=True)\n",
    "    ax = fig.axes[0]\n",
    "    ax.legend_.set_title(folder_name)\n",
    "    plt.show()\n",
    "    plt.close()\n",
    "    adata.obs['filtered_cells'][adata.obs['is_paneth']=='Paneth'] = 'True'\n",
    "    mu.write(f'{base_path}{folder_name}{outs_path}/CR_DU_bc_f_umap_mt_QCfiltered_paneth.h5mu',mdata)\n",
    "    # Clear memory\n",
    "    del mdata\n",
    "    gc.collect()"
   ]
  },
  {
   "cell_type": "markdown",
   "id": "70749167",
   "metadata": {},
   "source": [
    "### Filter data, redo UMAP and save"
   ]
  },
  {
   "cell_type": "code",
   "execution_count": null,
   "id": "8f99091a",
   "metadata": {
    "metadata": {}
   },
   "outputs": [],
   "source": [
    "for folder_name, sample_name in folder_variables.items():\n",
    "    if folder_name not in samples:\n",
    "        print(f'skipping {folder_name}...')\n",
    "        continue\n",
    "    mdata = read_h5mu_to_mudata(f'{base_path}{folder_name}{outs_path}/CR_DU_bc_f_umap_mt_QCfiltered_paneth.h5mu')\n",
    "    print(f'folder_name: {folder_name}')\n",
    "    gex = mdata.mod['rna']\n",
    "    # Filter cells according to identified QC thresholds:\n",
    "    gex = qc_filter_mdata(mdata, gex, modality='rna', qc_filter=gex.obs['filtered_cells']=='True')\n",
    "    del gex.obs['filtered_cells']\n",
    "    del gex.obs['filter_mt_frac']\n",
    "    get_umap_leiden(gex)\n",
    "    mu.write(f'{base_path}{folder_name}{outs_path}/GEX_1_done.h5mu',mdata)\n",
    "    # Clear memory\n",
    "    del mdata\n",
    "    gc.collect()"
   ]
  },
  {
   "cell_type": "markdown",
   "id": "dab9766a",
   "metadata": {},
   "source": [
    "### plot results"
   ]
  },
  {
   "cell_type": "code",
   "execution_count": null,
   "id": "68d3f862",
   "metadata": {},
   "outputs": [],
   "source": [
    "gex.obs"
   ]
  },
  {
   "cell_type": "code",
   "execution_count": null,
   "id": "3e8ef8dd",
   "metadata": {
    "metadata": {}
   },
   "outputs": [],
   "source": [
    "for folder_name, sample_name in folder_variables.items():\n",
    "    if folder_name not in samples:\n",
    "        print(f'skipping {folder_name}...')\n",
    "        continue\n",
    "    mdata = read_h5mu_to_mudata(f'{base_path}{folder_name}{outs_path}/GEX_1_done.h5mu')\n",
    "    gex = mdata.mod['rna']\n",
    "    mt_max = gex.obs[gex.obs['is_paneth']=='Non-Paneth']['mt_frac'].max()\n",
    "    print(f'{folder_name} max mt_frac where not paneth: {mt_max}.')\n",
    "    sc.pl.umap(gex, color=['log_counts','log_genes','mt_frac','rp_frac'], size=20, add_outline=True, alpha=1, outline_width=(0.3, 0.0), ncols=4, title=folder_name)\n",
    "    # Clear memory\n",
    "    del mdata\n",
    "    gc.collect()"
   ]
  },
  {
   "cell_type": "code",
   "execution_count": null,
   "id": "35a1d545",
   "metadata": {
    "metadata": {}
   },
   "outputs": [],
   "source": [
    "for folder_name, sample_name in folder_variables.items():\n",
    "    if folder_name not in samples:\n",
    "        print(f'skipping {folder_name}...')\n",
    "        continue\n",
    "    mdata = read_h5mu_to_mudata(f'{base_path}{folder_name}{outs_path}/GEX_1_done.h5mu')\n",
    "    gex = mdata.mod['rna']\n",
    "    sb.jointplot(\n",
    "        data=gex.obs,\n",
    "        x=\"log_counts\",\n",
    "        y=\"log_genes\",\n",
    "        kind=\"hist\", bins=100, cmap=\"rocket_r\", color=\"#f69c73\", space=0\n",
    "    )\n",
    "    plt.suptitle(f'{folder_name}')\n",
    "    plt.show()\n",
    "    # Clear memory\n",
    "    del mdata\n",
    "    gc.collect()"
   ]
  },
  {
   "cell_type": "markdown",
   "id": "27362037-99b4-4af4-8736-4615264783d7",
   "metadata": {},
   "source": [
    "## Preprocessing ATAC"
   ]
  },
  {
   "cell_type": "markdown",
   "id": "084b868a",
   "metadata": {},
   "source": [
    "### load samples, keep only intersect and run signac QC"
   ]
  },
  {
   "cell_type": "code",
   "execution_count": null,
   "id": "4f439013-2f3f-4cf1-955e-486256beb845",
   "metadata": {
    "metadata": {}
   },
   "outputs": [],
   "source": [
    "# retain only cell passing GEX QC\n",
    "for folder_name, sample_name in folder_variables.items():\n",
    "    if folder_name not in samples:\n",
    "        print(f'skipping {folder_name}...')\n",
    "        continue\n",
    "    mdata= read_h5mu_to_mudata(f'{base_path}{folder_name}{outs_path}/GEX_1_done.h5mu')\n",
    "    mu.pp.intersect_obs(mdata)\n",
    "    # ATAC\n",
    "    atac = mdata.mod['atac']\n",
    "    gex = mdata.mod['rna']\n",
    "    atac.var_names_make_unique()\n",
    "\n",
    "    # add umap\n",
    "    atac.obsm['X_umap'] = gex.obsm['X_umap']\n",
    "    atac.obs['leiden'] = gex.obs['leiden']\n",
    "    atac = signac_qc_metrics(atac, aggregated=False,species='Mmusculus', genome=\"mm10\", sample =folder_name, ensembl_release=\"v102\", cr_path=base_path)\n",
    "    mu.write(f'{base_path}{folder_name}{outs_path}/ATAC_signac.h5mu',mdata)\n",
    "    # Clear memory\n",
    "    del mdata\n",
    "    gc.collect()\n",
    "    "
   ]
  },
  {
   "cell_type": "markdown",
   "id": "1519a5a9",
   "metadata": {},
   "source": [
    "### counts"
   ]
  },
  {
   "cell_type": "code",
   "execution_count": null,
   "id": "2532aa4f",
   "metadata": {
    "metadata": {}
   },
   "outputs": [],
   "source": [
    "for folder_name, sample_name in folder_variables.items():\n",
    "    if folder_name not in samples:\n",
    "        print(f'skipping {folder_name}...')\n",
    "        continue\n",
    "    mdata= read_h5mu_to_mudata(f'{base_path}{folder_name}{outs_path}/ATAC_signac.h5mu')\n",
    "    atac = mdata.mod['atac']\n",
    "    try:\n",
    "        sb.jointplot(x=atac.obs['log_nCount_atac'], y=atac.obs['log_nFeature_atac'], n_levels=30, thresh=0.05, kind=\"kde\", space=0, fill=True, cmap=\"rocket_r\", color=\"#f69c73\").plot_joint(\n",
    "        sb.scatterplot, alpha=0)\n",
    "    except ValueError:\n",
    "        sb.jointplot(x=atac.obs['log_nCount_atac'], y=atac.obs['log_nFeature_atac'], n_levels=30, thresh=0.05, kind=\"kde\", space=0, fill=True, cmap=\"rocket_r\", color=\"#f69c73\", clip= ((6,12),(5,11))).plot_joint(\n",
    "        sb.scatterplot, alpha=0)    \n",
    "    plt.suptitle(folder_name)\n",
    "    plt.show()\n",
    "    plt.close()\n",
    "    #Thresholding decision: counts\n",
    "    with rc_context({'figure.figsize': (8, 3)}):\n",
    "        sb.histplot(atac.obs['nCount_atac'], kde=True)\n",
    "        plt.title(folder_name)\n",
    "        plt.show()\n",
    "        plt.close\n",
    "    # Clear memory\n",
    "    del mdata\n",
    "    gc.collect()"
   ]
  },
  {
   "cell_type": "markdown",
   "id": "05fa4b8d",
   "metadata": {},
   "source": [
    "##### set min count"
   ]
  },
  {
   "cell_type": "code",
   "execution_count": null,
   "id": "7098bc9d",
   "metadata": {
    "metadata": {}
   },
   "outputs": [],
   "source": [
    "count_dict = {'597_NVF_Crypts_Rep1': [3500,120000],\n",
    " '598_FVF_Crypts_Rep1': [6500,120000],\n",
    " '599_FVF_Crypts_Rep2': [4500,120000],\n",
    " '604_NVF_Crypts_Rep2': [6000,130000],\n",
    " 'FVF-high': [5000,140000],\n",
    " 'FVF-low': [7500,120000]}"
   ]
  },
  {
   "cell_type": "code",
   "execution_count": null,
   "id": "3587e873",
   "metadata": {
    "metadata": {}
   },
   "outputs": [],
   "source": [
    "x_lim = [0,20000]"
   ]
  },
  {
   "cell_type": "code",
   "execution_count": null,
   "id": "ad2eef1d",
   "metadata": {
    "metadata": {}
   },
   "outputs": [],
   "source": [
    "for folder_name, sample_name in folder_variables.items():\n",
    "    if folder_name not in samples:\n",
    "        print(f'skipping {folder_name}...')\n",
    "        continue\n",
    "    mdata= read_h5mu_to_mudata(f'{base_path}{folder_name}{outs_path}/ATAC_signac.h5mu')\n",
    "    atac = mdata.mod['atac'] \n",
    "    with rc_context({'figure.figsize': (8, 3)}):\n",
    "        sb.histplot(atac.obs['nCount_atac'][(atac.obs['nCount_atac']<x_lim[1])], kde=True, bins=60)\n",
    "        plt.axvline(count_dict[folder_name][0], 0, 1)\n",
    "        plt.title(folder_name)\n",
    "        plt.show()\n",
    "        plt.close()\n",
    "    # Clear memory\n",
    "    del mdata\n",
    "    gc.collect()"
   ]
  },
  {
   "cell_type": "code",
   "execution_count": null,
   "id": "7525fac8",
   "metadata": {},
   "outputs": [],
   "source": [
    "x_lim = [40000,200000]"
   ]
  },
  {
   "cell_type": "code",
   "execution_count": null,
   "id": "36356a40",
   "metadata": {},
   "outputs": [],
   "source": [
    "for folder_name, sample_name in folder_variables.items():\n",
    "    if folder_name not in samples:\n",
    "        print(f'skipping {folder_name}...')\n",
    "        continue\n",
    "    mdata= read_h5mu_to_mudata(f'{base_path}{folder_name}{outs_path}/ATAC_signac.h5mu')\n",
    "    atac = mdata.mod['atac']\n",
    "    with rc_context({'figure.figsize': (8, 3)}):\n",
    "        sb.histplot(atac.obs['nCount_atac'][(atac.obs['nCount_atac']>x_lim[0]) & (atac.obs['nCount_atac']<x_lim[1])], kde=True, bins=60)\n",
    "        plt.axvline(count_dict[folder_name][1], 0, 1)\n",
    "        plt.title(folder_name)\n",
    "        plt.show()\n",
    "        plt.close()\n",
    "    # Clear memory\n",
    "    del mdata\n",
    "    gc.collect()"
   ]
  },
  {
   "cell_type": "code",
   "execution_count": null,
   "id": "3c07de76",
   "metadata": {},
   "outputs": [],
   "source": [
    "counts_filters= {}\n",
    "for folder_name, sample_name in folder_variables.items():\n",
    "    if folder_name not in samples:\n",
    "        print(f'skipping {folder_name}...')\n",
    "        continue\n",
    "    mdata= read_h5mu_to_mudata(f'{base_path}{folder_name}{outs_path}/ATAC_signac.h5mu')\n",
    "    atac = mdata.mod['atac'] \n",
    "    min_counts_atac = count_dict[folder_name][0]\n",
    "    max_counts_atac = count_dict[folder_name][1]\n",
    "    counts_filters[folder_name] = (atac.obs['nCount_atac'] > min_counts_atac) & (atac.obs['nCount_atac'] < max_counts_atac)\n",
    "    sc.pl.scatter(atac, 'nCount_atac', 'nFeature_atac', color='nucleosome_signal', show=False).vlines(x=[count_dict[folder_name][0], count_dict[folder_name][1]], ymin=[0,0], ymax=[max(atac.obs['nFeature_atac']),max(atac.obs['nFeature_atac'])], color=\"black\", lw=0.5).set_linestyle(\"--\")\n",
    "    plt.suptitle(folder_name)\n",
    "    plt.show()\n",
    "    plt.close()\n",
    "    sc.pl.scatter(atac, 'log_nCount_atac', 'log_nFeature_atac', color='nucleosome_signal', show=False).vlines(x=[np.log(count_dict[folder_name][0]), np.log(count_dict[folder_name][1])], ymin=[np.log(min(atac.obs['nFeature_atac'])),np.log(min(atac.obs['nFeature_atac']))], ymax=[np.log(max(atac.obs['nFeature_atac'])),np.log(max(atac.obs['nFeature_atac']))], color=\"black\", lw=0.5).set_linestyle(\"--\")\n",
    "    plt.suptitle(folder_name)\n",
    "    plt.show()\n",
    "    plt.close()\n",
    "    # Clear memory\n",
    "    del mdata\n",
    "    gc.collect()\n"
   ]
  },
  {
   "cell_type": "markdown",
   "id": "25510a07",
   "metadata": {},
   "source": [
    "### TSS Enrichment"
   ]
  },
  {
   "cell_type": "code",
   "execution_count": null,
   "id": "4011cff5",
   "metadata": {},
   "outputs": [],
   "source": [
    "for folder_name, sample_name in folder_variables.items():\n",
    "    if folder_name not in samples:\n",
    "        print(f'skipping {folder_name}...')\n",
    "        continue\n",
    "    mdata= read_h5mu_to_mudata(f'{base_path}{folder_name}{outs_path}/ATAC_signac.h5mu')\n",
    "    atac = mdata.mod['atac']\n",
    "    #Thresholding decision: tss enrichment\n",
    "    with rc_context({'figure.figsize': (8, 3)}):\n",
    "        sb.histplot(atac.obs['TSS.enrichment'][counts_filters[folder_name]], kde=True, bins=60)\n",
    "        sb.histplot(atac.obs['TSS.enrichment'], kde=True, bins=60)\n",
    "        plt.title(folder_name)\n",
    "        plt.show()\n",
    "        plt.close()\n",
    "    # Clear memory\n",
    "    del mdata\n",
    "    gc.collect()"
   ]
  },
  {
   "cell_type": "code",
   "execution_count": null,
   "id": "bc26c98f",
   "metadata": {},
   "outputs": [],
   "source": [
    "tss_dict = {'597_NVF_Crypts_Rep1': [3.8,8.5],\n",
    " '598_FVF_Crypts_Rep1': [4,8],\n",
    " '599_FVF_Crypts_Rep2': [4,8],\n",
    " '604_NVF_Crypts_Rep2': [3.8,8.5],\n",
    " 'FVF-high': [4,8.5],\n",
    " 'FVF-low': [4,8]}"
   ]
  },
  {
   "cell_type": "code",
   "execution_count": null,
   "id": "503c0e6e",
   "metadata": {},
   "outputs": [],
   "source": [
    "x_lim = [2,5.2]"
   ]
  },
  {
   "cell_type": "code",
   "execution_count": null,
   "id": "0e9f6c80",
   "metadata": {},
   "outputs": [],
   "source": [
    "for folder_name, sample_name in folder_variables.items():\n",
    "    if folder_name not in samples:\n",
    "        print(f'skipping {folder_name}...')\n",
    "        continue\n",
    "    mdata= read_h5mu_to_mudata(f'{base_path}{folder_name}{outs_path}/ATAC_signac.h5mu')\n",
    "    atac = mdata.mod['atac']\n",
    "    with rc_context({'figure.figsize': (8, 3)}):\n",
    "        sb.histplot(atac.obs['TSS.enrichment'][(atac.obs['TSS.enrichment']>x_lim[0]) & (atac.obs['TSS.enrichment']<x_lim[1]) & counts_filters[folder_name]], kde=True, bins=60)\n",
    "        sb.histplot(atac.obs['TSS.enrichment'][(atac.obs['TSS.enrichment']>x_lim[0]) & (atac.obs['TSS.enrichment']<x_lim[1])], kde=True, bins=60)\n",
    "        plt.axvline(tss_dict[folder_name][0], 0, 1)\n",
    "        plt.title(folder_name)\n",
    "        plt.show()\n",
    "        plt.close()\n",
    "    # Clear memory\n",
    "    del mdata\n",
    "    gc.collect()"
   ]
  },
  {
   "cell_type": "code",
   "execution_count": null,
   "id": "d385fe2f",
   "metadata": {},
   "outputs": [],
   "source": [
    "x_lim = [6,12]"
   ]
  },
  {
   "cell_type": "code",
   "execution_count": null,
   "id": "0a8673d2",
   "metadata": {},
   "outputs": [],
   "source": [
    "for folder_name, sample_name in folder_variables.items():\n",
    "    if folder_name not in samples:\n",
    "        print(f'skipping {folder_name}...')\n",
    "        continue\n",
    "    mdata= read_h5mu_to_mudata(f'{base_path}{folder_name}{outs_path}/ATAC_signac.h5mu')\n",
    "    atac = mdata.mod['atac']\n",
    "    with rc_context({'figure.figsize': (8, 3)}):\n",
    "        sb.histplot(atac.obs['TSS.enrichment'][(atac.obs['TSS.enrichment']>x_lim[0]) & (atac.obs['TSS.enrichment']<x_lim[1]) & counts_filters[folder_name]], kde=True, bins=60)\n",
    "        sb.histplot(atac.obs['TSS.enrichment'][(atac.obs['TSS.enrichment']>x_lim[0]) & (atac.obs['TSS.enrichment']<x_lim[1])], kde=True, bins=60)\n",
    "        plt.axvline(tss_dict[folder_name][1], 0, 1)\n",
    "        plt.title(folder_name)\n",
    "        plt.show()\n",
    "        plt.close()\n",
    "    # Clear memory\n",
    "    del mdata\n",
    "    gc.collect()\n"
   ]
  },
  {
   "cell_type": "markdown",
   "id": "800b180c",
   "metadata": {},
   "source": [
    "#### save tss filter and plot again"
   ]
  },
  {
   "cell_type": "code",
   "execution_count": null,
   "id": "f4df0f30",
   "metadata": {},
   "outputs": [],
   "source": [
    "tss_filters_atac = {}\n",
    "for folder_name, sample_name in folder_variables.items():\n",
    "    if folder_name not in samples:\n",
    "        print(f'skipping {folder_name}...')\n",
    "        continue\n",
    "    mdata= read_h5mu_to_mudata(f'{base_path}{folder_name}{outs_path}/ATAC_signac.h5mu')\n",
    "    atac = mdata.mod['atac']\n",
    "    x_lim = [0,15]\n",
    "    min_tss = tss_dict[folder_name][0]\n",
    "    max_tss = tss_dict[folder_name][1]\n",
    "    tss_filters_atac[folder_name] = (atac.obs['TSS.enrichment'] > min_tss) & (atac.obs['TSS.enrichment'] < max_tss)\n",
    "    with rc_context({'figure.figsize': (8, 3)}):\n",
    "        sb.histplot(atac.obs['TSS.enrichment'][(atac.obs['TSS.enrichment']>x_lim[0]) & (atac.obs['TSS.enrichment']<x_lim[1]) & counts_filters[folder_name]], kde=True, bins=60)\n",
    "        sb.histplot(atac.obs['TSS.enrichment'][(atac.obs['TSS.enrichment']>x_lim[0]) & (atac.obs['TSS.enrichment']<x_lim[1])], kde=True, bins=60)\n",
    "        plt.axvline(tss_dict[folder_name][0], 0, 1)\n",
    "        plt.axvline(tss_dict[folder_name][1], 0, 1)\n",
    "        plt.title(folder_name)\n",
    "        plt.show()\n",
    "        plt.close()\n",
    "    # Clear memory\n",
    "    del mdata\n",
    "    gc.collect()\n"
   ]
  },
  {
   "cell_type": "markdown",
   "id": "e7e008ce",
   "metadata": {},
   "source": [
    "### Nucleosome signal"
   ]
  },
  {
   "cell_type": "code",
   "execution_count": null,
   "id": "cf4be3a0",
   "metadata": {},
   "outputs": [],
   "source": [
    "for folder_name, sample_name in folder_variables.items():\n",
    "    if folder_name not in samples:\n",
    "        print(f'skipping {folder_name}...')\n",
    "        continue\n",
    "    mdata= read_h5mu_to_mudata(f'{base_path}{folder_name}{outs_path}/ATAC_signac.h5mu')\n",
    "    atac = mdata.mod['atac']\n",
    "    #Thresholding decision: nucleosome signal\n",
    "    with rc_context({'figure.figsize': (8, 3)}):\n",
    "        sb.histplot(atac.obs['nucleosome_signal'][counts_filters[folder_name] & tss_filters_atac[folder_name]], kde=True, bins=60)\n",
    "        sb.histplot(atac.obs['nucleosome_signal'], kde=True, bins=60)\n",
    "        plt.title(folder_name)\n",
    "        plt.show()\n",
    "        plt.close()\n",
    "    # Clear memory\n",
    "    del mdata\n",
    "    gc.collect()"
   ]
  },
  {
   "cell_type": "code",
   "execution_count": null,
   "id": "b17b8a4c",
   "metadata": {},
   "outputs": [],
   "source": [
    "nuc_dict = {'597_NVF_Crypts_Rep1': [0.35,0.8],\n",
    " '598_FVF_Crypts_Rep1': [0.35,0.8],\n",
    " '599_FVF_Crypts_Rep2': [0.4,0.8],\n",
    " '604_NVF_Crypts_Rep2': [0.35,0.78],\n",
    " 'FVF-high': [0.45,1],\n",
    " 'FVF-low': [0.45,1]}"
   ]
  },
  {
   "cell_type": "code",
   "execution_count": null,
   "id": "0fd10e2a",
   "metadata": {},
   "outputs": [],
   "source": [
    "x_lim = [0,0.6]"
   ]
  },
  {
   "cell_type": "code",
   "execution_count": null,
   "id": "e150ebdf",
   "metadata": {},
   "outputs": [],
   "source": [
    "for folder_name, sample_name in folder_variables.items():\n",
    "    if folder_name not in samples:\n",
    "        print(f'skipping {folder_name}...')\n",
    "        continue\n",
    "    mdata= read_h5mu_to_mudata(f'{base_path}{folder_name}{outs_path}/ATAC_signac.h5mu')\n",
    "    atac = mdata.mod['atac']\n",
    "    with rc_context({'figure.figsize': (8, 3)}):\n",
    "        sb.histplot(atac.obs['nucleosome_signal'][(atac.obs['nucleosome_signal']>x_lim[0]) & (atac.obs['nucleosome_signal']<x_lim[1]) & counts_filters[folder_name] & tss_filters_atac[folder_name]], kde=True, bins=60)\n",
    "        sb.histplot(atac.obs['nucleosome_signal'][(atac.obs['nucleosome_signal']>x_lim[0]) & (atac.obs['nucleosome_signal']<x_lim[1]) & counts_filters[folder_name] ], kde=True, bins=60)\n",
    "        # sb.distplot(atac.obs['nucleosome_signal'][(atac.obs['nucleosome_signal']>x_lim[0]) & (atac.obs['nucleosome_signal']<x_lim[1]) & counts_filter_atac], kde=True, bins=60)\n",
    "        sb.histplot(atac.obs['nucleosome_signal'][(atac.obs['nucleosome_signal']>x_lim[0]) & (atac.obs['nucleosome_signal']<x_lim[1])], kde=True, bins=60)\n",
    "        plt.axvline(nuc_dict[folder_name][0], 0, 1)\n",
    "        plt.title(folder_name)\n",
    "        plt.show()\n",
    "        plt.close()\n",
    "    # Clear memory\n",
    "    del mdata\n",
    "    gc.collect()"
   ]
  },
  {
   "cell_type": "code",
   "execution_count": null,
   "id": "2fc08c6e",
   "metadata": {},
   "outputs": [],
   "source": [
    "x_lim = [0.7,1.2]"
   ]
  },
  {
   "cell_type": "markdown",
   "id": "3614dc98",
   "metadata": {},
   "source": [
    "#### set nucl filter and plot"
   ]
  },
  {
   "cell_type": "code",
   "execution_count": null,
   "id": "09181297",
   "metadata": {},
   "outputs": [],
   "source": [
    "nuc_filters_atac={}\n",
    "for folder_name, sample_name in folder_variables.items():\n",
    "    if folder_name not in samples:\n",
    "        print(f'skipping {folder_name}...')\n",
    "        continue\n",
    "    mdata= read_h5mu_to_mudata(f'{base_path}{folder_name}{outs_path}/ATAC_signac.h5mu')\n",
    "    atac = mdata.mod['atac']\n",
    "    min_nuc = nuc_dict[folder_name][0]\n",
    "    max_nuc = nuc_dict[folder_name][1]\n",
    "    nuc_filters_atac[folder_name] = (atac.obs['nucleosome_signal'] > min_nuc) & (atac.obs['nucleosome_signal'] < max_nuc)\n",
    "    with rc_context({'figure.figsize': (8, 3)}):\n",
    "        sb.histplot(atac.obs['nucleosome_signal'][(atac.obs['nucleosome_signal']>x_lim[0]) & (atac.obs['nucleosome_signal']<x_lim[1]) & counts_filters[folder_name] & tss_filters_atac[folder_name]], kde=True, bins=60)\n",
    "        sb.histplot(atac.obs['nucleosome_signal'][(atac.obs['nucleosome_signal']>x_lim[0]) & (atac.obs['nucleosome_signal']<x_lim[1]) & counts_filters[folder_name] ], kde=True, bins=60)\n",
    "        sb.histplot(atac.obs['nucleosome_signal'][(atac.obs['nucleosome_signal']>x_lim[0]) & (atac.obs['nucleosome_signal']<x_lim[1])], kde=True, bins=60)\n",
    "        plt.axvline(nuc_dict[folder_name][1], 0, 1)\n",
    "        plt.title(folder_name)\n",
    "        plt.show()\n",
    "        plt.close()\n",
    "    # Clear memory\n",
    "    del mdata\n",
    "    gc.collect()"
   ]
  },
  {
   "cell_type": "markdown",
   "id": "641680e5",
   "metadata": {},
   "source": [
    "### FRip, Blacklist and Mito reads frac"
   ]
  },
  {
   "cell_type": "code",
   "execution_count": null,
   "id": "bb40ae6b",
   "metadata": {},
   "outputs": [],
   "source": [
    "frip_dict = {'597_NVF_Crypts_Rep1': [0.55,120000],\n",
    " '598_FVF_Crypts_Rep1': [0.55,120000],\n",
    " '599_FVF_Crypts_Rep2': [0.55,120000],\n",
    " '604_NVF_Crypts_Rep2': [0.55,130000],\n",
    " 'FVF-high': [0.55,140000],\n",
    " 'FVF-low': [0.55,120000]}"
   ]
  },
  {
   "cell_type": "code",
   "execution_count": null,
   "id": "51f5598c",
   "metadata": {},
   "outputs": [],
   "source": [
    "x_lim = [0,1]"
   ]
  },
  {
   "cell_type": "code",
   "execution_count": null,
   "id": "89e51398",
   "metadata": {},
   "outputs": [],
   "source": [
    "for folder_name, sample_name in folder_variables.items():\n",
    "    if folder_name not in samples:\n",
    "        print(f'skipping {folder_name}...')\n",
    "        continue\n",
    "    mdata= read_h5mu_to_mudata(f'{base_path}{folder_name}{outs_path}/ATAC_signac.h5mu')\n",
    "    atac = mdata.mod['atac']\n",
    "    with rc_context({'figure.figsize': (8, 3)}):\n",
    "        sb.histplot(atac.obs['cr_fraction_fragments_in_peaks'][(atac.obs['cr_fraction_fragments_in_peaks']>x_lim[0]) & (atac.obs['cr_fraction_fragments_in_peaks']<x_lim[1]) & counts_filters[folder_name] & tss_filters_atac[folder_name] & nuc_filters_atac[folder_name]], kde=True, bins=60)\n",
    "        sb.histplot(atac.obs['cr_fraction_fragments_in_peaks'][(atac.obs['cr_fraction_fragments_in_peaks']>x_lim[0]) & (atac.obs['cr_fraction_fragments_in_peaks']<x_lim[1])], kde=True, bins=60)\n",
    "        plt.axvline(frip_dict[folder_name][0], 0, 1)\n",
    "        plt.title(folder_name)\n",
    "        plt.show()\n",
    "        plt.close()\n",
    "    # Clear memory\n",
    "    del mdata\n",
    "    gc.collect()"
   ]
  },
  {
   "cell_type": "code",
   "execution_count": null,
   "id": "803c7c7a",
   "metadata": {},
   "outputs": [],
   "source": [
    "x_lim = [0,0.1]"
   ]
  },
  {
   "cell_type": "code",
   "execution_count": null,
   "id": "186f9672",
   "metadata": {},
   "outputs": [],
   "source": [
    "max_black_dict = {'597_NVF_Crypts_Rep1': 0.045,\n",
    " '598_FVF_Crypts_Rep1': 0.04,\n",
    " '599_FVF_Crypts_Rep2': 0.04,\n",
    " '604_NVF_Crypts_Rep2': 0.05,\n",
    " 'FVF-high': 0.04,\n",
    " 'FVF-low': 0.04}"
   ]
  },
  {
   "cell_type": "code",
   "execution_count": null,
   "id": "82f22f22",
   "metadata": {},
   "outputs": [],
   "source": [
    "for folder_name, sample_name in folder_variables.items():\n",
    "    if folder_name not in samples:\n",
    "        print(f'skipping {folder_name}...')\n",
    "        continue\n",
    "    mdata= read_h5mu_to_mudata(f'{base_path}{folder_name}{outs_path}/ATAC_signac.h5mu')\n",
    "    atac = mdata.mod['atac']\n",
    "    with rc_context({'figure.figsize': (8, 3)}):\n",
    "        sb.histplot(atac.obs['fraction_counts_in_blacklist'][(atac.obs['fraction_counts_in_blacklist']>x_lim[0]) & (atac.obs['fraction_counts_in_blacklist']<x_lim[1]) & counts_filters[folder_name] & tss_filters_atac[folder_name] & nuc_filters_atac[folder_name]], kde=True, bins=60)\n",
    "        sb.histplot(atac.obs['fraction_counts_in_blacklist'][(atac.obs['fraction_counts_in_blacklist']>x_lim[0]) & (atac.obs['fraction_counts_in_blacklist']<x_lim[1])], kde=True, bins=60)\n",
    "        plt.axvline(max_black_dict[folder_name], 0, 1)\n",
    "        plt.title(folder_name)\n",
    "        plt.show()\n",
    "        plt.close()\n",
    "    # Clear memory\n",
    "    del mdata\n",
    "    gc.collect()"
   ]
  },
  {
   "cell_type": "code",
   "execution_count": null,
   "id": "e281e66c",
   "metadata": {},
   "outputs": [],
   "source": [
    "x_lim = [0,0.1]"
   ]
  },
  {
   "cell_type": "code",
   "execution_count": null,
   "id": "4abc653e",
   "metadata": {},
   "outputs": [],
   "source": [
    "max_mito_dict = {'597_NVF_Crypts_Rep1': 0.0075,\n",
    " '598_FVF_Crypts_Rep1': 0.0075,\n",
    " '599_FVF_Crypts_Rep2': 0.0075,\n",
    " '604_NVF_Crypts_Rep2': 0.0075,\n",
    " 'FVF-high': 0.0075,\n",
    " 'FVF-low': 0.0075}"
   ]
  },
  {
   "cell_type": "code",
   "execution_count": null,
   "id": "5a96e81e",
   "metadata": {},
   "outputs": [],
   "source": [
    "for folder_name, sample_name in folder_variables.items():\n",
    "    if folder_name not in samples:\n",
    "        print(f'skipping {folder_name}...')\n",
    "        continue\n",
    "    mdata= read_h5mu_to_mudata(f'{base_path}{folder_name}{outs_path}/ATAC_signac.h5mu')\n",
    "    atac = mdata.mod['atac']\n",
    "    with rc_context({'figure.figsize': (8, 3)}):\n",
    "        sb.histplot(atac.obs['cr_fraction_reads_in_mito'][(atac.obs['cr_fraction_reads_in_mito']>x_lim[0]) & (atac.obs['cr_fraction_reads_in_mito']<x_lim[1])& counts_filters[folder_name] & tss_filters_atac[folder_name] & nuc_filters_atac[folder_name]], kde=True, bins=60)\n",
    "        sb.histplot(atac.obs['cr_fraction_reads_in_mito'][(atac.obs['cr_fraction_reads_in_mito']>x_lim[0]) & (atac.obs['cr_fraction_reads_in_mito']<x_lim[1])], kde=True, bins=60)\n",
    "        plt.axvline(max_mito_dict[folder_name], 0, 1)\n",
    "        plt.title(folder_name)\n",
    "        plt.show()\n",
    "        plt.close()\n",
    "    # Clear memory\n",
    "    del mdata\n",
    "    gc.collect()"
   ]
  },
  {
   "cell_type": "markdown",
   "id": "fc2ad2d4",
   "metadata": {},
   "source": [
    "#### define filter"
   ]
  },
  {
   "cell_type": "code",
   "execution_count": null,
   "id": "d399f529",
   "metadata": {},
   "outputs": [],
   "source": [
    "fbm_filters_atac={}\n",
    "for folder_name, sample_name in folder_variables.items():\n",
    "    if folder_name not in samples:\n",
    "        print(f'skipping {folder_name}...')\n",
    "        continue\n",
    "    mdata= read_h5mu_to_mudata(f'{base_path}{folder_name}{outs_path}/ATAC_signac.h5mu')\n",
    "    atac = mdata.mod['atac']\n",
    "    min_frip = frip_dict[folder_name][0]\n",
    "    max_black= max_black_dict[folder_name]\n",
    "    max_mito= max_mito_dict[folder_name]\n",
    "    fbm_filters_atac[folder_name] = (atac.obs['cr_fraction_fragments_in_peaks'] > min_frip) & (atac.obs['fraction_counts_in_blacklist'] < max_black) & (atac.obs['cr_fraction_reads_in_mito'] < max_mito)\n",
    "    # Clear memory\n",
    "    del mdata\n",
    "    gc.collect()"
   ]
  },
  {
   "cell_type": "markdown",
   "id": "96c05b69",
   "metadata": {},
   "source": [
    "### Filtering"
   ]
  },
  {
   "cell_type": "code",
   "execution_count": null,
   "id": "02af70fe",
   "metadata": {},
   "outputs": [],
   "source": [
    "for folder_name, sample_name in folder_variables.items():\n",
    "    if folder_name not in samples:\n",
    "        print(f'skipping {folder_name}...')\n",
    "        continue\n",
    "    mdata= read_h5mu_to_mudata(f'{base_path}{folder_name}{outs_path}/ATAC_signac.h5mu')\n",
    "    atac = mdata.mod['atac']\n",
    "    atac.obs['filtered_cells']=pd.Categorical(list(map(str,list(counts_filters[folder_name] & tss_filters_atac[folder_name] & nuc_filters_atac[folder_name] & fbm_filters_atac[folder_name]))))\n",
    "    min_frip = frip_dict[folder_name][0]\n",
    "    max_black= max_black_dict[folder_name]\n",
    "    max_mito= max_mito_dict[folder_name]\n",
    "    min_counts_atac = count_dict[folder_name][0]\n",
    "    max_counts_atac = count_dict[folder_name][1]\n",
    "    min_tss = tss_dict[folder_name][0]\n",
    "    max_tss = tss_dict[folder_name][1]\n",
    "    min_nuc = nuc_dict[folder_name][0]\n",
    "    max_nuc = nuc_dict[folder_name][1]\n",
    "    #atac.obs['filtered_cells2']=pd.Categorical(list(map(str,list((atac.obs['cr_fraction_fragments_in_peaks'] > min_frip) & (atac.obs['fraction_counts_in_blacklist'] < max_black) & (atac.obs['cr_fraction_reads_in_mito'] < max_mito) &(atac.obs['nCount_atac'] > min_counts_atac) & (atac.obs['nCount_atac'] < max_counts_atac)&(atac.obs['TSS.enrichment'] > min_tss) & (atac.obs['TSS.enrichment'] < max_tss)))))\n",
    "    mu.write(f'{base_path}{folder_name}{outs_path}/ATAC_signac_filtered.h5mu',mdata)\n",
    "    # Clear memory\n",
    "    del mdata\n",
    "    gc.collect()"
   ]
  },
  {
   "cell_type": "markdown",
   "id": "5cb24c15",
   "metadata": {},
   "source": [
    "#### run this individually:"
   ]
  },
  {
   "cell_type": "code",
   "execution_count": null,
   "id": "4225f1b6",
   "metadata": {},
   "outputs": [],
   "source": [
    "for folder_name, sample_name in folder_variables.items():\n",
    "    if folder_name not in samples:\n",
    "        print(f'skipping {folder_name}...')\n",
    "        continue\n",
    "    mdata= read_h5mu_to_mudata(f'{base_path}{folder_name}{outs_path}/ATAC_signac_filtered.h5mu')\n",
    "    atac = mdata.mod['atac']\n",
    "    for col in ['log_nCount_atac', 'nCount_atac', 'log_nFeature_atac', 'TSS.enrichment', 'nucleosome_signal']:\n",
    "        fig, axes = plt.subplots(1,2, figsize=(10, 4), gridspec_kw=dict(width_ratios=[2,1],wspace = 0.3))\n",
    "        sb.violinplot(x='leiden', y=col, data=atac.obs, ax=axes[0], hue = col, palette=\"bright\")\n",
    "        sb.violinplot(x='filtered_cells', y=col, data=atac.obs, ax=axes[1], hue = col, palette=\"colorblind\")\n",
    "        axes[1].set_ylabel(None)\n",
    "        fig.suptitle(col)\n",
    "        plt.show()\n",
    "        plt.close()\n",
    "    # Clear memory\n",
    "    del mdata\n",
    "    gc.collect()"
   ]
  },
  {
   "cell_type": "code",
   "execution_count": null,
   "id": "86a6134c",
   "metadata": {},
   "outputs": [],
   "source": [
    "for folder_name, sample_name in folder_variables.items():\n",
    "    if folder_name not in samples:\n",
    "        print(f'skipping {folder_name}...')\n",
    "        continue\n",
    "    mdata= read_h5mu_to_mudata(f'{base_path}{folder_name}{outs_path}/ATAC_signac_filtered.h5mu')\n",
    "    atac = mdata.mod['atac']\n",
    "    sc.pl.umap(atac, color=['log_nCount_atac', 'log_nFeature_atac', 'TSS.enrichment', 'nucleosome_signal', 'cr_fraction_fragments_in_peaks', 'cr_fraction_reads_in_mito', 'fraction_counts_in_blacklist'], size=20, add_outline=True, alpha=1, outline_width=(0.3, 0.0), ncols=4, title = folder_name)\n",
    "    sc.pl.umap(atac, color=['filtered_cells','leiden'], size=20, add_outline=True, alpha=1, outline_width=(0.3, 0.0), ncols=6)\n",
    "\n",
    "    ###############################################################################\n",
    "    ###############################################################################\n",
    "\n",
    "    with rc_context({'figure.figsize': (6, 4)}): #rcParams['figure.figsize']=(6,4)\n",
    "        key = 'leiden'\n",
    "        labels = list(atac.obs[key].cat.categories)\n",
    "        keep_pct = []\n",
    "        filter_pct = []\n",
    "        width = 0.85       # the width of the bars: can also be len(x) sequence\n",
    "\n",
    "        for label in labels:\n",
    "            keep_pct = keep_pct + [atac.obs['filtered_cells'][atac.obs[key]==label].value_counts()['True']/atac.obs['filtered_cells'][atac.obs[key]==label].value_counts().sum()*100]\n",
    "            filter_pct = filter_pct + [atac.obs['filtered_cells'][atac.obs[key]==label].value_counts()['False']/atac.obs['filtered_cells'][atac.obs[key]==label].value_counts().sum()*100]\n",
    "\n",
    "        fig, ax = plt.subplots()\n",
    "\n",
    "        ax.bar(labels, filter_pct, width, label='Filter Out', edgecolor='0', linewidth=0.5)\n",
    "        ax.bar(labels, keep_pct, width, bottom=filter_pct, label='Keep', edgecolor='0', linewidth=0.5)\n",
    "\n",
    "        ax.set_ylabel('%')\n",
    "        ax.set_title(f'Percentage of Filtered Cells in {folder_name}')\n",
    "        ax.axes.set_xticklabels(labels=labels, rotation=90)\n",
    "        ax.legend(bbox_to_anchor=(1, .5),loc='center left', edgecolor='1')\n",
    "\n",
    "        plt.ylim([-2.5,100+2.5])\n",
    "        plt.xlim([-1+0.25,len(labels)-0.25])\n",
    "\n",
    "        plt.show()\n",
    "        plt.close()\n",
    "\n",
    "    #################################################################################\n",
    "    #################################################################################\n",
    "\n",
    "    sc.pl.scatter(atac, 'log_nCount_atac', 'nucleosome_signal', color='filtered_cells', title=folder_name)\n",
    "    plt.show()\n",
    "    plt.close()\n",
    "    sc.pl.scatter(atac, 'log_nCount_atac', 'TSS.enrichment', color='filtered_cells', title=folder_name)\n",
    "    plt.show()\n",
    "    plt.close()\n",
    "    # Clear memory\n",
    "    del mdata\n",
    "    gc.collect()\n"
   ]
  },
  {
   "cell_type": "code",
   "execution_count": null,
   "id": "ed9b44a5",
   "metadata": {},
   "outputs": [],
   "source": [
    "for folder_name, sample_name in folder_variables.items():\n",
    "    if folder_name not in samples:\n",
    "        print(f'skipping {folder_name}...')\n",
    "        continue\n",
    "    mdata= read_h5mu_to_mudata(f'{base_path}{folder_name}{outs_path}/ATAC_signac_filtered.h5mu')\n",
    "    atac = mdata.mod['atac']\n",
    "     #Filter cells according to identified QC thresholds:\n",
    "    atac = qc_filter_mdata(mdata, atac, modality='atac', qc_filter=(counts_filters[folder_name] & tss_filters_atac[folder_name] & nuc_filters_atac[folder_name] & fbm_filters_atac[folder_name]))\n",
    "    mu.write(f'{base_path}{folder_name}{outs_path}/ATAC_signac_filtered.h5mu',mdata)\n",
    "    # Clear memory\n",
    "    del mdata\n",
    "    gc.collect()"
   ]
  },
  {
   "cell_type": "markdown",
   "id": "ee43e9f9",
   "metadata": {},
   "source": [
    "## Filter ATAc and save results"
   ]
  },
  {
   "cell_type": "code",
   "execution_count": null,
   "id": "e0d4808d",
   "metadata": {},
   "outputs": [],
   "source": [
    "for folder_name, sample_name in folder_variables.items():\n",
    "    if folder_name not in samples:\n",
    "        print(f'skipping {folder_name}...')\n",
    "        continue\n",
    "    mdata= read_h5mu_to_mudata(f'{base_path}{folder_name}{outs_path}/ATAC_signac_filtered.h5mu')\n",
    "    atac = mdata.mod['atac']\n",
    "    atac = signac_qc_metrics(atac, aggregated=False, species='Mmusculus', genome=\"mm10\", sample = folder_name, ensembl_release=\"v102\", cr_path=base_path)\n",
    "    # Clear memory\n",
    "    del mdata\n",
    "    gc.collect()"
   ]
  },
  {
   "cell_type": "code",
   "execution_count": null,
   "id": "7b773e0a",
   "metadata": {},
   "outputs": [],
   "source": [
    "for folder_name, sample_name in folder_variables.items():\n",
    "    if folder_name not in samples:\n",
    "        print(f'skipping {folder_name}...')\n",
    "        continue\n",
    "    mdata= read_h5mu_to_mudata(f'{base_path}{folder_name}{outs_path}/ATAC_signac_filtered.h5mu')\n",
    "    # retain only cell passing GEX & ATAC QC\n",
    "    try:\n",
    "        mu.pp.intersect_obs(mdata)\n",
    "        mdata_f = mdata.copy()\n",
    "    except ValueError: # workaround if current mdata is view\n",
    "        mdata_f = mdata.copy()\n",
    "        mu.pp.intersect_obs(mdata_f)\n",
    "    atac = mdata_f.mod['atac']\n",
    "    # retain only cell passing GEX & ATAC QC\n",
    "    # Make matrices sparse again\n",
    "    sparsify_mdata(mdata_f)\n",
    "    mdata_f.mod['rna'].var['is_ambient'] = mdata_f.mod['rna'].var['is_ambient'].astype(str).astype('category').copy()\n",
    "    # https://github.com/scverse/muon/issues/65\n",
    "    mdata_f.mod['atac'].uns['files'] = dict(mdata_f.mod['atac'].uns['files'])\n",
    "    mdata_f.mod['atac'].uns['atac'] = dict(mdata_f.mod['atac'].uns['atac'])\n",
    "    del mdata.mod['atac'].obs['filtered_cells']\n",
    "    mu.write(f'{base_path}{folder_name}{outs_path}/multiome_1_done.h5mu',mdata_f)\n",
    "    # Clear memory\n",
    "    del mdata\n",
    "    gc.collect()"
   ]
  }
 ],
 "metadata": {
  "kernelspec": {
   "display_name": "Python 3 (ipykernel)",
   "language": "python",
   "name": "python3"
  },
  "language_info": {
   "codemirror_mode": {
    "name": "ipython",
    "version": 3
   },
   "file_extension": ".py",
   "mimetype": "text/x-python",
   "name": "python",
   "nbconvert_exporter": "python",
   "pygments_lexer": "ipython3",
   "version": "3.10.14"
  }
 },
 "nbformat": 4,
 "nbformat_minor": 5
}
