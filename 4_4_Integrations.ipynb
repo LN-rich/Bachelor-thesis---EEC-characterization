{
 "cells": [
  {
   "cell_type": "markdown",
   "metadata": {},
   "source": [
    "\n",
    "# Preprocessing - Integration\n",
    "Adapted from Michael Sterr\n",
    "\n",
    "2024-05-18 \n",
    "\n",
    "\n",
    "# Setup\n"
   ]
  },
  {
   "cell_type": "code",
   "execution_count": null,
   "metadata": {},
   "outputs": [],
   "source": [
    "# General\n",
    "import scipy as sci\n",
    "import numpy as np\n",
    "import pandas as pd\n",
    "import logging\n",
    "import time\n",
    "import pickle\n",
    "from itertools import chain\n",
    "import session_info\n",
    "import gc # Free memory #gc.collect()\n",
    "import scipy.stats as stats\n",
    "\n",
    "# Plotting\n",
    "import matplotlib.pyplot as plt\n",
    "import matplotlib as mpl\n",
    "from matplotlib import rcParams\n",
    "from matplotlib.pyplot import rc_context\n",
    "from matplotlib import cm\n",
    "import seaborn as sb\n",
    "\n",
    "# Analysis\n",
    "import scvi\n",
    "import torch\n",
    "import scanpy as sc\n",
    "import anndata as ad"
   ]
  },
  {
   "cell_type": "code",
   "execution_count": null,
   "metadata": {},
   "outputs": [],
   "source": [
    "# Settings\n",
    "\n",
    "import warnings\n",
    "warnings.filterwarnings(\"ignore\")\n",
    "\n",
    "## Directory\n",
    "base_dir = '/mnt/hdd/'\n",
    "data_dir = 'data/Healthy/'\n",
    "nb_dir = 'Notebooks/Gut_project/'\n",
    "sc.settings.figdir = base_dir + nb_dir + 'Figures'\n",
    "sc.settings.cachedir = base_dir + 'Cache'\n",
    "\n",
    "## Scanpy settings\n",
    "sc.settings.verbosity = 3\n",
    "sc.logging.print_versions()\n",
    "session_info.show()"
   ]
  },
  {
   "cell_type": "code",
   "execution_count": null,
   "metadata": {},
   "outputs": [],
   "source": [
    "%run utils.ipynb"
   ]
  },
  {
   "cell_type": "code",
   "execution_count": null,
   "metadata": {},
   "outputs": [],
   "source": [
    "mymap = load_RdOrYl_cmap_settings()"
   ]
  },
  {
   "cell_type": "markdown",
   "metadata": {},
   "source": [
    "# Setup R"
   ]
  },
  {
   "cell_type": "code",
   "execution_count": null,
   "metadata": {},
   "outputs": [],
   "source": [
    "#R\n",
    "import rpy2\n",
    "import rpy2.robjects as ro\n",
    "import rpy2.rinterface_lib.callbacks\n",
    "from rpy2.robjects import pandas2ri\n",
    "import anndata2ri\n",
    "setup_R('/home/scanalysis/mnt/envs/scUV/lib/R')"
   ]
  },
  {
   "cell_type": "code",
   "execution_count": null,
   "metadata": {},
   "outputs": [],
   "source": [
    "%%R\n",
    "\n",
    ".libPaths()"
   ]
  },
  {
   "cell_type": "code",
   "execution_count": null,
   "metadata": {
    "ExecuteTime": {
     "end_time": "2024-02-09T15:16:44.827059Z",
     "start_time": "2024-02-09T15:16:39.366034Z"
    },
    "execution": {
     "iopub.execute_input": "2024-05-16T23:29:52.271374Z",
     "iopub.status.busy": "2024-05-16T23:29:52.271235Z",
     "iopub.status.idle": "2024-05-16T23:29:58.307183Z",
     "shell.execute_reply": "2024-05-16T23:29:58.306746Z"
    }
   },
   "outputs": [],
   "source": [
    "%%R\n",
    "library(scry)\n",
    "\n",
    "# Parallelization\n",
    "library(BiocParallel)\n",
    "register(MulticoreParam(20, progressbar = TRUE))\n",
    "\n",
    "library(future)\n",
    "plan(multicore, workers = 20)\n",
    "options(future.globals.maxSize = 64 * 1024 ^ 3) # for 50 Gb RAM\n",
    "plan()\n",
    "\n",
    "#library(doParallel)\n",
    "#registerDoParallel(20)\n",
    "\n",
    "sessionInfo()"
   ]
  },
  {
   "cell_type": "markdown",
   "metadata": {},
   "source": [
    "# Load Data"
   ]
  },
  {
   "cell_type": "code",
   "execution_count": null,
   "metadata": {},
   "outputs": [],
   "source": [
    "adata1 = sc.read_h5ad('/mnt/hdd/data/Healthy/adata_markedDoublets_normalized_initialAnno_noimmune_multivi_orig_wodblts_meta.h5ad')\n",
    "adata= sc.read_h5ad('/mnt/hdd/data/Healthy/adata_markedDoublets_normalized_initialAnno_noimmune_multivi_orig_wodblts_2_meta.h5ad')"
   ]
  },
  {
   "cell_type": "code",
   "execution_count": null,
   "metadata": {
    "ExecuteTime": {
     "end_time": "2024-02-09T15:16:51.481573Z",
     "start_time": "2024-02-09T15:16:51.468153Z"
    },
    "execution": {
     "iopub.execute_input": "2024-05-16T23:30:07.351761Z",
     "iopub.status.busy": "2024-05-16T23:30:07.351344Z",
     "iopub.status.idle": "2024-05-16T23:30:07.362341Z",
     "shell.execute_reply": "2024-05-16T23:30:07.361772Z"
    }
   },
   "outputs": [],
   "source": [
    "adata.obsm['X_MultiVI_meta'] = adata1.obsm['X_MultiVI_meta']"
   ]
  },
  {
   "cell_type": "code",
   "execution_count": null,
   "metadata": {},
   "outputs": [],
   "source": [
    "adata"
   ]
  },
  {
   "cell_type": "code",
   "execution_count": null,
   "metadata": {},
   "outputs": [],
   "source": [
    "del adata1\n",
    "gc.collect()"
   ]
  },
  {
   "cell_type": "code",
   "execution_count": null,
   "metadata": {
    "ExecuteTime": {
     "end_time": "2024-02-09T15:16:51.526962Z",
     "start_time": "2024-02-09T15:16:51.497926Z"
    },
    "execution": {
     "iopub.execute_input": "2024-05-16T23:30:07.382353Z",
     "iopub.status.busy": "2024-05-16T23:30:07.381898Z",
     "iopub.status.idle": "2024-05-16T23:30:07.407068Z",
     "shell.execute_reply": "2024-05-16T23:30:07.406450Z"
    }
   },
   "outputs": [],
   "source": [
    "all_cc_genes, s_genes_regev, g2m_genes_regev, cc_genes_regev, cc_genes_macosko, s_genes_macosko, g2m_genes_macosko, m_genes_macosko, mg1_genes_macosko, g1s_genes_macosko = load_cell_cycle_genes(adata, genome='mus_musculus')"
   ]
  },
  {
   "cell_type": "code",
   "execution_count": null,
   "metadata": {},
   "outputs": [],
   "source": [
    "sc.pp.neighbors(adata, use_rep=\"X_MultiVI_rmDoublets_meta\", n_pcs=50, n_neighbors=20)\n",
    "sc.tl.umap(adata, min_dist=0.3, spread=0.8, negative_sample_rate=1, gamma=0.5)"
   ]
  },
  {
   "cell_type": "code",
   "execution_count": null,
   "metadata": {},
   "outputs": [],
   "source": [
    "sc.tl.leiden(adata, resolution=1)"
   ]
  },
  {
   "cell_type": "code",
   "execution_count": null,
   "metadata": {
    "ExecuteTime": {
     "end_time": "2024-02-09T15:16:52.395452Z",
     "start_time": "2024-02-09T15:16:51.528067Z"
    },
    "execution": {
     "iopub.execute_input": "2024-05-16T23:30:07.411425Z",
     "iopub.status.busy": "2024-05-16T23:30:07.411284Z",
     "iopub.status.idle": "2024-05-16T23:30:08.870606Z",
     "shell.execute_reply": "2024-05-16T23:30:08.869973Z"
    }
   },
   "outputs": [],
   "source": [
    "sc.pl.umap(adata, color=['sample','initial_cell_type'], size=10, add_outline=True, alpha=1,wspace =0.9, outline_width=(0.3, 0.0), ncols=4, color_map=mymap)"
   ]
  },
  {
   "cell_type": "markdown",
   "metadata": {},
   "source": [
    "# HVGs"
   ]
  },
  {
   "cell_type": "code",
   "execution_count": null,
   "metadata": {
    "ExecuteTime": {
     "end_time": "2024-02-09T15:16:52.425218Z",
     "start_time": "2024-02-09T15:16:52.396496Z"
    },
    "execution": {
     "iopub.execute_input": "2024-05-16T23:30:08.896913Z",
     "iopub.status.busy": "2024-05-16T23:30:08.896665Z",
     "iopub.status.idle": "2024-05-16T23:30:08.922553Z",
     "shell.execute_reply": "2024-05-16T23:30:08.921946Z"
    }
   },
   "outputs": [],
   "source": [
    "adata_raw = ad.AnnData(X=adata.layers['raw_counts'])"
   ]
  },
  {
   "cell_type": "code",
   "execution_count": null,
   "metadata": {
    "ExecuteTime": {
     "end_time": "2024-02-09T15:17:45.067327Z",
     "start_time": "2024-02-09T15:16:52.426218Z"
    },
    "execution": {
     "iopub.execute_input": "2024-05-16T23:30:08.928919Z",
     "iopub.status.busy": "2024-05-16T23:30:08.928772Z",
     "iopub.status.idle": "2024-05-16T23:31:19.253163Z",
     "shell.execute_reply": "2024-05-16T23:31:19.252490Z"
    }
   },
   "outputs": [],
   "source": [
    "%%R -i adata_raw\n",
    "sce = devianceFeatureSelection(adata_raw, assay='X')"
   ]
  },
  {
   "cell_type": "code",
   "execution_count": null,
   "metadata": {
    "ExecuteTime": {
     "end_time": "2024-02-09T15:17:45.074481Z",
     "start_time": "2024-02-09T15:17:45.068297Z"
    },
    "execution": {
     "iopub.execute_input": "2024-05-16T23:31:19.261165Z",
     "iopub.status.busy": "2024-05-16T23:31:19.261016Z",
     "iopub.status.idle": "2024-05-16T23:31:19.272233Z",
     "shell.execute_reply": "2024-05-16T23:31:19.271649Z"
    }
   },
   "outputs": [],
   "source": [
    "binomial_deviance = ro.r('rowData(sce)$binomial_deviance').T"
   ]
  },
  {
   "cell_type": "code",
   "execution_count": null,
   "metadata": {
    "ExecuteTime": {
     "end_time": "2024-02-09T15:17:45.087315Z",
     "start_time": "2024-02-09T15:17:45.075544Z"
    },
    "execution": {
     "iopub.execute_input": "2024-05-16T23:31:19.276731Z",
     "iopub.status.busy": "2024-05-16T23:31:19.276428Z",
     "iopub.status.idle": "2024-05-16T23:31:19.288902Z",
     "shell.execute_reply": "2024-05-16T23:31:19.288280Z"
    }
   },
   "outputs": [],
   "source": [
    "binomial_deviance"
   ]
  },
  {
   "cell_type": "code",
   "execution_count": null,
   "metadata": {
    "ExecuteTime": {
     "end_time": "2024-02-09T15:17:45.104181Z",
     "start_time": "2024-02-09T15:17:45.088709Z"
    },
    "execution": {
     "iopub.execute_input": "2024-05-16T23:31:19.317587Z",
     "iopub.status.busy": "2024-05-16T23:31:19.317373Z",
     "iopub.status.idle": "2024-05-16T23:31:19.323853Z",
     "shell.execute_reply": "2024-05-16T23:31:19.323246Z"
    }
   },
   "outputs": [],
   "source": [
    "idx = binomial_deviance.argsort()[-4000:]\n",
    "mask = np.zeros(adata.var_names.shape, dtype=bool)\n",
    "mask[idx] = True\n",
    "\n",
    "adata.var['binomial_deviance'] = binomial_deviance\n",
    "adata.var['highly_deviant'] = mask\n",
    "adata.var['highly_variable'] = mask"
   ]
  },
  {
   "cell_type": "code",
   "execution_count": null,
   "metadata": {
    "ExecuteTime": {
     "end_time": "2024-02-09T15:17:45.130626Z",
     "start_time": "2024-02-09T15:17:45.105718Z"
    },
    "execution": {
     "iopub.execute_input": "2024-05-16T23:31:19.350340Z",
     "iopub.status.busy": "2024-05-16T23:31:19.349866Z",
     "iopub.status.idle": "2024-05-16T23:31:19.374508Z",
     "shell.execute_reply": "2024-05-16T23:31:19.373841Z"
    }
   },
   "outputs": [],
   "source": [
    "# Get HVGs and overlap with cell cycle & ambient genes\n",
    "\n",
    "## HVGs\n",
    "adata.var['highly_variable'] = adata.var['highly_deviant'].copy()\n",
    "hvgs = pd.Series(adata.var_names[adata.var['highly_variable']])\n",
    "print('\\nHighly variable genes before filtering:',adata.var.loc[:,'highly_variable'].value_counts()[1])\n",
    "\n",
    "# overlap HVGs with CC genes\n",
    "hvcc = list(hvgs[hvgs.isin(all_cc_genes)])\n",
    "print('\\nHighly variable cell cycle genes:',len(hvcc),'\\n',hvcc)\n",
    "\n",
    "# overlap HVGs with ambient genes\n",
    "hvambi = list(hvgs[hvgs.isin(list(adata[:,adata.var['is_ambient'] == True].var_names))])\n",
    "print('\\nHighly variable ambient genes:',len(hvambi),'\\n',hvambi)\n",
    "\n",
    "# # remove cell cycle genes\n",
    "adata.var.loc[hvcc,'highly_variable'] = False\n",
    "\n",
    "# # remove ambient genes\n",
    "adata.var.loc[hvambi,'highly_variable'] = False\n",
    "\n",
    "print('\\nHighly variable genes after filtering:',adata.var.loc[:,'highly_variable'].value_counts()[1])"
   ]
  },
  {
   "cell_type": "code",
   "execution_count": null,
   "metadata": {
    "ExecuteTime": {
     "end_time": "2024-02-09T15:17:45.317099Z",
     "start_time": "2024-02-09T15:17:45.131697Z"
    },
    "execution": {
     "iopub.execute_input": "2024-05-16T23:31:19.385199Z",
     "iopub.status.busy": "2024-05-16T23:31:19.384623Z",
     "iopub.status.idle": "2024-05-16T23:31:19.556650Z",
     "shell.execute_reply": "2024-05-16T23:31:19.556094Z"
    }
   },
   "outputs": [],
   "source": [
    "del adata_raw\n",
    "gc.collect()"
   ]
  },
  {
   "cell_type": "markdown",
   "metadata": {},
   "source": [
    "# Initial Embedding"
   ]
  },
  {
   "cell_type": "code",
   "execution_count": null,
   "metadata": {
    "ExecuteTime": {
     "end_time": "2024-02-09T15:17:51.801924Z",
     "start_time": "2024-02-09T15:17:45.318103Z"
    },
    "execution": {
     "iopub.execute_input": "2024-05-16T23:31:19.579643Z",
     "iopub.status.busy": "2024-05-16T23:31:19.579411Z",
     "iopub.status.idle": "2024-05-16T23:31:39.674761Z",
     "shell.execute_reply": "2024-05-16T23:31:39.674111Z"
    }
   },
   "outputs": [],
   "source": [
    "sc.pp.pca(adata, svd_solver='arpack', use_highly_variable=True)\n",
    "sc.pl.pca_overview(adata)"
   ]
  },
  {
   "cell_type": "code",
   "execution_count": null,
   "metadata": {
    "ExecuteTime": {
     "end_time": "2024-02-09T15:18:12.294847Z",
     "start_time": "2024-02-09T15:17:51.803175Z"
    },
    "execution": {
     "iopub.execute_input": "2024-05-16T23:31:39.687196Z",
     "iopub.status.busy": "2024-05-16T23:31:39.687052Z",
     "iopub.status.idle": "2024-05-16T23:32:11.635126Z",
     "shell.execute_reply": "2024-05-16T23:32:11.634441Z"
    }
   },
   "outputs": [],
   "source": [
    "sc.pp.neighbors(adata, use_rep=\"X_MultiVI_rmDoublets_meta\", n_pcs=50, n_neighbors=20)\n",
    "sc.tl.umap(adata, min_dist=0.3, spread=1, negative_sample_rate=5, gamma=0.5)\n",
    "# sc.tl.umap(adata, min_dist=0.2, spread=0.5, negative_sample_rate=1, gamma=2)\n",
    "# sc.tl.umap(adata, min_dist=0.3, spread=0.8, negative_sample_rate=0.5, gamma=1)\n",
    "# sc.tl.umap(adata, min_dist=0.25, spread=0.8, negative_sample_rate=0.5, gamma=0.5)\n",
    "# sc.tl.umap(adata, min_dist=0.3, spread=0.8, negative_sample_rate=0.5, gamma=0.25)\n",
    "# sc.tl.umap(adata, min_dist=0.3, spread=1, negative_sample_rate=1, gamma=0.5)"
   ]
  },
  {
   "cell_type": "code",
   "execution_count": null,
   "metadata": {
    "ExecuteTime": {
     "end_time": "2024-02-09T16:07:46.953926Z",
     "start_time": "2024-02-09T16:07:46.950383Z"
    },
    "execution": {
     "iopub.execute_input": "2024-05-16T23:32:11.645206Z",
     "iopub.status.busy": "2024-05-16T23:32:11.645053Z",
     "iopub.status.idle": "2024-05-16T23:32:11.648784Z",
     "shell.execute_reply": "2024-05-16T23:32:11.648181Z"
    }
   },
   "outputs": [],
   "source": [
    "marker_genes = ['Neurog3','Tph1','Isl1','Pou2f3', 'Sox9','Lgr5','Dmbt1','Hmgb2','Top2a','Defa24','Gna11','Cd52','Muc2','Fcgbp','Lyz1']"
   ]
  },
  {
   "cell_type": "code",
   "execution_count": null,
   "metadata": {
    "ExecuteTime": {
     "end_time": "2024-02-09T16:07:52.759233Z",
     "start_time": "2024-02-09T16:07:48.123977Z"
    },
    "execution": {
     "iopub.execute_input": "2024-05-16T23:32:11.655496Z",
     "iopub.status.busy": "2024-05-16T23:32:11.655005Z",
     "iopub.status.idle": "2024-05-16T23:32:19.666282Z",
     "shell.execute_reply": "2024-05-16T23:32:19.665594Z"
    }
   },
   "outputs": [],
   "source": [
    "sc.pl.umap(adata, color=['sample','initial_cell_type'] + marker_genes, size=10, add_outline=True, alpha=1, outline_width=(0.3, 0.0), ncols=4, color_map=mymap, wspace =0.95)"
   ]
  },
  {
   "cell_type": "code",
   "execution_count": null,
   "metadata": {
    "ExecuteTime": {
     "end_time": "2024-02-09T16:08:06.691713Z",
     "start_time": "2024-02-09T16:07:58.915140Z"
    },
    "execution": {
     "iopub.execute_input": "2024-05-16T23:32:19.734160Z",
     "iopub.status.busy": "2024-05-16T23:32:19.733920Z",
     "iopub.status.idle": "2024-05-16T23:32:35.490132Z",
     "shell.execute_reply": "2024-05-16T23:32:35.489443Z"
    }
   },
   "outputs": [],
   "source": [
    "plot_embedding_density_kde(adata=adata, groupby='sample', cmap_kde = mymap)"
   ]
  },
  {
   "cell_type": "markdown",
   "metadata": {},
   "source": [
    "# RNA Integration"
   ]
  },
  {
   "cell_type": "markdown",
   "metadata": {},
   "source": [
    "#### load metadata"
   ]
  },
  {
   "cell_type": "code",
   "execution_count": null,
   "metadata": {},
   "outputs": [],
   "source": [
    "## add metadata\n",
    "metadata_df =read_excel_metadata(f'/mnt/hdd/data/metadata_mouse_gut.xlsx')\n",
    "# Ensure folder name is the index in metadata for easier access\n",
    "metadata_df.drop(metadata_df[metadata_df['kit'] == 'Multiome_ATAC_v1'].index, inplace=True)\n",
    "metadata_df.drop(metadata_df[~metadata_df['condition'].isin(['Ctr','Ctr/WT'])].index, inplace=True)\n",
    "metadata_df.set_index('folder name', inplace=True)\n",
    "metadata_df.drop(['Sample Pooling - confounded with Project?','date','Project Name','Link_id','sample name','Cell Count [cells/µl]','Viable Cells [%]','Lib. Concentration [ng/µl]','Lib. Molarity [nM]','Average Lib. Size [bp]','cDNA Cycles','Lib. Cycles','10x Sample Index','Sequencing Depth [reads/cell]','MUC ID','exclusion, reason'], axis=1, inplace=True)"
   ]
  },
  {
   "cell_type": "code",
   "execution_count": null,
   "metadata": {},
   "outputs": [],
   "source": [
    "metadata_df"
   ]
  },
  {
   "cell_type": "code",
   "execution_count": null,
   "metadata": {},
   "outputs": [],
   "source": [
    "# Function to update adata.obs with metadata using a lambda function\n",
    "for col in metadata_df.columns:\n",
    "    try:\n",
    "        adata.obs[col] = adata.obs['sample'].apply(lambda x: metadata_df.at[x, col])\n",
    "    except KeyError as err:\n",
    "        print(f'no such key: {err} in col {col}')"
   ]
  },
  {
   "cell_type": "code",
   "execution_count": null,
   "metadata": {},
   "outputs": [],
   "source": [
    "adata.obs"
   ]
  },
  {
   "cell_type": "markdown",
   "metadata": {},
   "source": [
    "### free up memory"
   ]
  },
  {
   "cell_type": "code",
   "execution_count": null,
   "metadata": {},
   "outputs": [],
   "source": [
    "#adata.obs = adata.obs.astype({'sample number Minas': str})\n",
    "adata.obs.drop('sample number Minas', axis = 1, inplace = True)"
   ]
  },
  {
   "cell_type": "code",
   "execution_count": null,
   "metadata": {},
   "outputs": [],
   "source": [
    "adata.obs = adata.obs.astype({'enrichment proportion': str})\n",
    "adata.write('/mnt/hdd/data/Healthy/adata_markedDoublets_normalized_initialAnno_noimmune_multivi_orig_wodblts_metadata.h5ad')"
   ]
  },
  {
   "cell_type": "code",
   "execution_count": null,
   "metadata": {},
   "outputs": [],
   "source": [
    "adata = sc.read_h5ad('/mnt/hdd/data/Healthy/adata_markedDoublets_normalized_initialAnno_noimmune_multivi_orig_wodblts_metadata.h5ad')\n",
    "adata.obs = adata.obs.astype({'enrichment proportion': str})\n",
    "gc.collect()"
   ]
  },
  {
   "cell_type": "code",
   "execution_count": null,
   "metadata": {},
   "outputs": [],
   "source": [
    "torch.cuda.empty_cache()"
   ]
  },
  {
   "cell_type": "markdown",
   "metadata": {},
   "source": [
    "## SCVI"
   ]
  },
  {
   "cell_type": "markdown",
   "metadata": {},
   "source": [
    "### Setup"
   ]
  },
  {
   "cell_type": "code",
   "execution_count": null,
   "metadata": {
    "ExecuteTime": {
     "end_time": "2024-02-09T16:08:07.737147Z",
     "start_time": "2024-02-09T16:08:06.693007Z"
    },
    "execution": {
     "iopub.execute_input": "2024-05-16T23:32:35.522645Z",
     "iopub.status.busy": "2024-05-16T23:32:35.522494Z",
     "iopub.status.idle": "2024-05-16T23:32:36.999240Z",
     "shell.execute_reply": "2024-05-16T23:32:36.998550Z"
    }
   },
   "outputs": [],
   "source": [
    "adata_scvi = adata.copy()"
   ]
  },
  {
   "cell_type": "code",
   "execution_count": null,
   "metadata": {
    "ExecuteTime": {
     "end_time": "2024-02-09T16:08:07.740183Z",
     "start_time": "2024-02-09T16:08:07.738026Z"
    },
    "execution": {
     "iopub.execute_input": "2024-05-16T23:32:37.018356Z",
     "iopub.status.busy": "2024-05-16T23:32:37.018114Z",
     "iopub.status.idle": "2024-05-16T23:32:37.022272Z",
     "shell.execute_reply": "2024-05-16T23:32:37.021608Z"
    }
   },
   "outputs": [],
   "source": [
    "n_hidden=512\n",
    "n_latent=50\n",
    "n_layers=2\n",
    "\n",
    "batch_key = 'sample'\n",
    "labels_key = 'initial_cell_type'\n",
    "\n",
    "categorical_covariate_keys = ['kit']\n",
    "continuous_covariate_keys = None\n",
    "\n",
    "layer = 'raw_counts'"
   ]
  },
  {
   "cell_type": "code",
   "execution_count": null,
   "metadata": {
    "ExecuteTime": {
     "end_time": "2024-02-09T16:08:07.872557Z",
     "start_time": "2024-02-09T16:08:07.741249Z"
    },
    "execution": {
     "iopub.execute_input": "2024-05-16T23:32:37.028732Z",
     "iopub.status.busy": "2024-05-16T23:32:37.028133Z",
     "iopub.status.idle": "2024-05-16T23:32:37.878861Z",
     "shell.execute_reply": "2024-05-16T23:32:37.878261Z"
    },
    "scrolled": true
   },
   "outputs": [],
   "source": [
    "scvi.model.SCVI.setup_anndata(adata_scvi, layer=layer, batch_key=batch_key, labels_key=labels_key, categorical_covariate_keys=categorical_covariate_keys, continuous_covariate_keys=continuous_covariate_keys)"
   ]
  },
  {
   "cell_type": "code",
   "execution_count": null,
   "metadata": {
    "ExecuteTime": {
     "end_time": "2024-02-09T16:08:08.156182Z",
     "start_time": "2024-02-09T16:08:07.873638Z"
    },
    "execution": {
     "iopub.execute_input": "2024-05-16T23:32:37.890760Z",
     "iopub.status.busy": "2024-05-16T23:32:37.890628Z",
     "iopub.status.idle": "2024-05-16T23:32:38.240871Z",
     "shell.execute_reply": "2024-05-16T23:32:38.240399Z"
    }
   },
   "outputs": [],
   "source": [
    "model_scvi = scvi.model.SCVI(adata_scvi, n_hidden=n_hidden, n_layers=n_layers, n_latent=n_latent, gene_likelihood='nb', dispersion='gene-batch')\n",
    "print(model_scvi)\n",
    "#model_scvi.view_anndata_setup()"
   ]
  },
  {
   "cell_type": "raw",
   "metadata": {},
   "source": [
    "### Autotune"
   ]
  },
  {
   "cell_type": "raw",
   "metadata": {
    "ExecuteTime": {
     "end_time": "2023-02-02T08:19:32.383163Z",
     "start_time": "2023-02-02T08:19:32.380633Z"
    }
   },
   "source": [
    "import ray\n",
    "from ray import tune\n",
    "from scvi import autotune"
   ]
  },
  {
   "cell_type": "raw",
   "metadata": {
    "ExecuteTime": {
     "end_time": "2023-02-02T08:18:12.633159Z",
     "start_time": "2023-02-02T08:18:12.627708Z"
    }
   },
   "source": [
    "model_cls = scvi.model.SCVI\n",
    "model_cls.setup_anndata(adata_scvi, layer='raw_counts', batch_key=batch_key, labels_key=labels_key, categorical_covariate_keys=categorical_covariate_keys, continuous_covariate_keys=continuous_covariate_keys)"
   ]
  },
  {
   "cell_type": "raw",
   "metadata": {
    "ExecuteTime": {
     "end_time": "2023-02-02T08:18:13.516513Z",
     "start_time": "2023-02-02T08:18:13.507283Z"
    }
   },
   "source": [
    "scvi_tuner = autotune.ModelTuner(model_cls)"
   ]
  },
  {
   "cell_type": "raw",
   "metadata": {
    "ExecuteTime": {
     "end_time": "2023-02-02T08:18:15.030364Z",
     "start_time": "2023-02-02T08:18:15.012960Z"
    }
   },
   "source": [
    "scvi_tuner.info()"
   ]
  },
  {
   "cell_type": "raw",
   "metadata": {
    "ExecuteTime": {
     "end_time": "2023-02-02T08:18:28.178811Z",
     "start_time": "2023-02-02T08:18:28.175027Z"
    }
   },
   "source": [
    "search_space = {\n",
    "    \"n_hidden\": tune.choice([256,512,1024]),\n",
    "    \"n_layers\": tune.choice([1, 2, 3]),\n",
    "    \"gene_likelihood\": tune.choice(['zinb', 'nb', 'poisson']),\n",
    "    \"dispersion\": tune.choice(['gene','gene-batch','gene-label','gene-cell']),\n",
    "    \"lr\": tune.loguniform(1e-4, 1e-2),\n",
    "}"
   ]
  },
  {
   "cell_type": "raw",
   "metadata": {
    "ExecuteTime": {
     "end_time": "2023-02-02T08:18:41.641298Z",
     "start_time": "2023-02-02T08:18:41.625391Z"
    }
   },
   "source": [
    "scvi_tuner.info()"
   ]
  },
  {
   "cell_type": "raw",
   "metadata": {
    "ExecuteTime": {
     "end_time": "2023-02-02T08:31:17.147166Z",
     "start_time": "2023-02-02T08:31:13.203850Z"
    }
   },
   "source": [
    "ray.init(log_to_driver=False)\n",
    "results = scvi_tuner.fit(\n",
    "    adata_scvi,\n",
    "    metric=\"validation_loss\",\n",
    "    search_space=search_space,\n",
    "    num_samples=10,\n",
    "    max_epochs=100,\n",
    "    resources={\"cpu\": 64, \"gpu\": 1},\n",
    ")"
   ]
  },
  {
   "cell_type": "markdown",
   "metadata": {},
   "source": [
    "### Train"
   ]
  },
  {
   "cell_type": "code",
   "execution_count": null,
   "metadata": {
    "ExecuteTime": {
     "end_time": "2024-02-09T16:08:08.159233Z",
     "start_time": "2024-02-09T16:08:08.157208Z"
    },
    "execution": {
     "iopub.execute_input": "2024-05-16T23:32:38.252312Z",
     "iopub.status.busy": "2024-05-16T23:32:38.252100Z",
     "iopub.status.idle": "2024-05-16T23:32:38.255319Z",
     "shell.execute_reply": "2024-05-16T23:32:38.254837Z"
    }
   },
   "outputs": [],
   "source": [
    "torch.cuda.empty_cache()"
   ]
  },
  {
   "cell_type": "code",
   "execution_count": null,
   "metadata": {
    "ExecuteTime": {
     "end_time": "2024-02-09T16:29:32.522144Z",
     "start_time": "2024-02-09T16:08:08.160042Z"
    },
    "execution": {
     "iopub.execute_input": "2024-05-16T23:32:38.260595Z",
     "iopub.status.busy": "2024-05-16T23:32:38.260152Z",
     "iopub.status.idle": "2024-05-17T00:09:38.681603Z",
     "shell.execute_reply": "2024-05-17T00:09:38.680888Z"
    }
   },
   "outputs": [],
   "source": [
    "model_scvi.train(max_epochs=1000, early_stopping=True)"
   ]
  },
  {
   "cell_type": "code",
   "execution_count": null,
   "metadata": {
    "ExecuteTime": {
     "end_time": "2024-02-09T16:29:32.689539Z",
     "start_time": "2024-02-09T16:29:32.523524Z"
    },
    "execution": {
     "iopub.execute_input": "2024-05-17T00:09:38.685720Z",
     "iopub.status.busy": "2024-05-17T00:09:38.685584Z",
     "iopub.status.idle": "2024-05-17T00:09:38.822061Z",
     "shell.execute_reply": "2024-05-17T00:09:38.821416Z"
    }
   },
   "outputs": [],
   "source": [
    "# plot reconstruction loss\n",
    "plt.plot(model_scvi.history['reconstruction_loss_train']['reconstruction_loss_train'], label='train')\n",
    "#plt.plot(model_scvi.history['reconstruction_loss_validation']['reconstruction_loss_validation'], label='validation')\n",
    "plt.legend()"
   ]
  },
  {
   "cell_type": "markdown",
   "metadata": {},
   "source": [
    "### Save"
   ]
  },
  {
   "cell_type": "code",
   "execution_count": null,
   "metadata": {},
   "outputs": [],
   "source": [
    "import datetime\n",
    "file_path = '/mnt/hdd/data/Healthy'\n",
    "file_base_name = 'Healthy'"
   ]
  },
  {
   "cell_type": "code",
   "execution_count": null,
   "metadata": {
    "ExecuteTime": {
     "end_time": "2024-02-09T16:29:32.695931Z",
     "start_time": "2024-02-09T16:29:32.690415Z"
    },
    "execution": {
     "iopub.execute_input": "2024-05-17T00:09:38.826961Z",
     "iopub.status.busy": "2024-05-17T00:09:38.826811Z",
     "iopub.status.idle": "2024-05-17T00:09:38.832815Z",
     "shell.execute_reply": "2024-05-17T00:09:38.832332Z"
    }
   },
   "outputs": [],
   "source": [
    "directory_path = file_path + '/Models/'\n",
    "base_name = file_base_name + '_mdata_markedDoublets_mergedPeaks_normalized_initialAnno_rmDoublets_integrated'\n",
    "date = str(datetime.date.today()) + '_'\n",
    "\n",
    "try:\n",
    "    covarCat = '_covarCat' + ''.join(' '.join('_'.join(categorical_covariate_keys).split('_')).title().split(' '))\n",
    "except:\n",
    "    covarCat = '_covarCatNone'\n",
    "    \n",
    "try:\n",
    "    covarCont = '_covarCont' + ''.join(' '.join('_'.join(continuous_covariate_keys).split('_')).title().split(' '))\n",
    "except:\n",
    "    covarCont = '_covarContNone' \n",
    "\n",
    "try:\n",
    "    labels = '_labels' + ''.join(' '.join(''.join(labels_key).split('_')).title().split(' '))\n",
    "except:\n",
    "    labels = '_labelsNone'\n",
    "\n",
    "#deep = '_inject' + str(inject)\n",
    "layers = '_layers' + str(n_layers)\n",
    "hidden = '_hidden' + str(n_hidden)\n",
    "latent = '_latent' + str(n_latent)\n",
    "\n",
    "model_type = '_scVI'\n",
    "\n",
    "model_path = ''.join([directory_path,\n",
    "date,\n",
    "base_name,\n",
    "labels,\n",
    "#covarCat,\n",
    "#covarCont,\n",
    "layers,\n",
    "hidden,\n",
    "latent,\n",
    "model_type])\n",
    "\n",
    "model_path"
   ]
  },
  {
   "cell_type": "code",
   "execution_count": null,
   "metadata": {
    "ExecuteTime": {
     "end_time": "2024-02-09T16:29:37.349662Z",
     "start_time": "2024-02-09T16:29:32.697750Z"
    },
    "execution": {
     "iopub.execute_input": "2024-05-17T00:09:38.835361Z",
     "iopub.status.busy": "2024-05-17T00:09:38.835220Z",
     "iopub.status.idle": "2024-05-17T00:09:45.552571Z",
     "shell.execute_reply": "2024-05-17T00:09:45.551814Z"
    }
   },
   "outputs": [],
   "source": [
    "model_scvi.save(model_path, overwrite=True, save_anndata=True)"
   ]
  },
  {
   "cell_type": "markdown",
   "metadata": {},
   "source": [
    "### Results"
   ]
  },
  {
   "cell_type": "code",
   "execution_count": null,
   "metadata": {
    "ExecuteTime": {
     "end_time": "2024-02-09T16:29:37.873791Z",
     "start_time": "2024-02-09T16:29:37.350731Z"
    },
    "execution": {
     "iopub.execute_input": "2024-05-17T00:09:45.557585Z",
     "iopub.status.busy": "2024-05-17T00:09:45.557445Z",
     "iopub.status.idle": "2024-05-17T00:09:46.325793Z",
     "shell.execute_reply": "2024-05-17T00:09:46.325103Z"
    }
   },
   "outputs": [],
   "source": [
    "adata.obsm['X_scVI'] = model_scvi.get_latent_representation()"
   ]
  },
  {
   "cell_type": "code",
   "execution_count": null,
   "metadata": {
    "ExecuteTime": {
     "end_time": "2024-02-09T16:29:41.360814Z",
     "start_time": "2024-02-09T16:29:37.876397Z"
    },
    "execution": {
     "iopub.execute_input": "2024-05-17T00:09:46.331014Z",
     "iopub.status.busy": "2024-05-17T00:09:46.330883Z",
     "iopub.status.idle": "2024-05-17T00:10:03.061128Z",
     "shell.execute_reply": "2024-05-17T00:10:03.060368Z"
    }
   },
   "outputs": [],
   "source": [
    "sc.pp.neighbors(adata, use_rep='X_scVI')\n",
    "sc.tl.leiden(adata)"
   ]
  },
  {
   "cell_type": "code",
   "execution_count": null,
   "metadata": {
    "ExecuteTime": {
     "end_time": "2024-02-09T16:29:48.736704Z",
     "start_time": "2024-02-09T16:29:41.362159Z"
    },
    "execution": {
     "iopub.execute_input": "2024-05-17T00:10:03.065642Z",
     "iopub.status.busy": "2024-05-17T00:10:03.065511Z",
     "iopub.status.idle": "2024-05-17T00:10:14.275101Z",
     "shell.execute_reply": "2024-05-17T00:10:14.274429Z"
    }
   },
   "outputs": [],
   "source": [
    "sc.tl.umap(adata)"
   ]
  },
  {
   "cell_type": "code",
   "execution_count": null,
   "metadata": {
    "ExecuteTime": {
     "end_time": "2024-02-09T16:29:53.989419Z",
     "start_time": "2024-02-09T16:29:48.738063Z"
    },
    "execution": {
     "iopub.execute_input": "2024-05-17T00:10:14.279601Z",
     "iopub.status.busy": "2024-05-17T00:10:14.279446Z",
     "iopub.status.idle": "2024-05-17T00:10:22.718664Z",
     "shell.execute_reply": "2024-05-17T00:10:22.717978Z"
    }
   },
   "outputs": [],
   "source": [
    "sc.pl.umap(adata, color=['sample','initial_cell_type','leiden'] + marker_genes, size=10, add_outline=True, alpha=1, outline_width=(0.3, 0.0), ncols=3, wspace = 0.8, cmap=mymap)"
   ]
  },
  {
   "cell_type": "code",
   "execution_count": null,
   "metadata": {
    "ExecuteTime": {
     "end_time": "2024-02-09T16:30:01.007897Z",
     "start_time": "2024-02-09T16:29:53.990720Z"
    },
    "execution": {
     "iopub.execute_input": "2024-05-17T00:10:22.870278Z",
     "iopub.status.busy": "2024-05-17T00:10:22.870040Z",
     "iopub.status.idle": "2024-05-17T00:10:36.278272Z",
     "shell.execute_reply": "2024-05-17T00:10:36.277433Z"
    }
   },
   "outputs": [],
   "source": [
    "plot_embedding_density_kde(adata=adata, groupby='sample', cmap_kde =mymap)"
   ]
  },
  {
   "cell_type": "markdown",
   "metadata": {},
   "source": [
    "# scANVI"
   ]
  },
  {
   "cell_type": "markdown",
   "metadata": {},
   "source": [
    "#### free up memory"
   ]
  },
  {
   "cell_type": "code",
   "execution_count": null,
   "metadata": {},
   "outputs": [],
   "source": [
    "del adata_scvi\n",
    "gc.collect()"
   ]
  },
  {
   "cell_type": "code",
   "execution_count": null,
   "metadata": {},
   "outputs": [],
   "source": [
    "adata.write('/mnt/hdd/data/Healthy/adata_markedDoublets_normalized_initialAnno_noimmune_multivi_orig_wodblts_metadata_scvi.h5ad')"
   ]
  },
  {
   "cell_type": "raw",
   "metadata": {
    "vscode": {
     "languageId": "raw"
    }
   },
   "source": [
    "adata = sc.read_h5ad('/mnt/hdd/data/Healthy/adata_markedDoublets_normalized_initialAnno_noimmune_multivi_orig_wodblts_metadata_scvi.h5ad')\n",
    "adata.obs = adata.obs.astype({'enrichment proportion': str})\n",
    "gc.collect()"
   ]
  },
  {
   "cell_type": "markdown",
   "metadata": {},
   "source": [
    "### Setup"
   ]
  },
  {
   "cell_type": "code",
   "execution_count": null,
   "metadata": {
    "ExecuteTime": {
     "end_time": "2024-02-09T16:30:02.027222Z",
     "start_time": "2024-02-09T16:30:01.009234Z"
    },
    "execution": {
     "iopub.execute_input": "2024-05-17T00:10:36.315498Z",
     "iopub.status.busy": "2024-05-17T00:10:36.315259Z",
     "iopub.status.idle": "2024-05-17T00:10:37.784182Z",
     "shell.execute_reply": "2024-05-17T00:10:37.783477Z"
    }
   },
   "outputs": [],
   "source": [
    "adata_scanvi = adata.copy()"
   ]
  },
  {
   "cell_type": "code",
   "execution_count": null,
   "metadata": {
    "ExecuteTime": {
     "end_time": "2024-02-09T16:30:02.336546Z",
     "start_time": "2024-02-09T16:30:02.028503Z"
    },
    "execution": {
     "iopub.execute_input": "2024-05-17T00:10:37.789147Z",
     "iopub.status.busy": "2024-05-17T00:10:37.788996Z",
     "iopub.status.idle": "2024-05-17T00:10:38.191394Z",
     "shell.execute_reply": "2024-05-17T00:10:38.190579Z"
    },
    "scrolled": true
   },
   "outputs": [],
   "source": [
    "model_scanvi = scvi.model.SCANVI.from_scvi_model(\n",
    "    model_scvi,\n",
    "    adata=adata_scanvi, \n",
    "    labels_key=labels_key, \n",
    "    unlabeled_category='unlabelled'\n",
    ")\n",
    "print(model_scanvi)\n",
    "#model_scanvi.view_anndata_setup()"
   ]
  },
  {
   "cell_type": "code",
   "execution_count": null,
   "metadata": {},
   "outputs": [],
   "source": [
    "del model_scvi\n",
    "gc.collect()"
   ]
  },
  {
   "cell_type": "markdown",
   "metadata": {},
   "source": [
    "### Train"
   ]
  },
  {
   "cell_type": "code",
   "execution_count": null,
   "metadata": {
    "ExecuteTime": {
     "end_time": "2024-02-09T16:30:02.341174Z",
     "start_time": "2024-02-09T16:30:02.337880Z"
    },
    "execution": {
     "iopub.execute_input": "2024-05-17T00:10:38.197172Z",
     "iopub.status.busy": "2024-05-17T00:10:38.197022Z",
     "iopub.status.idle": "2024-05-17T00:10:38.200947Z",
     "shell.execute_reply": "2024-05-17T00:10:38.200335Z"
    }
   },
   "outputs": [],
   "source": [
    "torch.cuda.empty_cache()"
   ]
  },
  {
   "cell_type": "code",
   "execution_count": null,
   "metadata": {
    "ExecuteTime": {
     "end_time": "2024-02-09T16:54:46.141034Z",
     "start_time": "2024-02-09T16:30:02.342215Z"
    },
    "execution": {
     "iopub.execute_input": "2024-05-17T00:10:38.209837Z",
     "iopub.status.busy": "2024-05-17T00:10:38.209715Z",
     "iopub.status.idle": "2024-05-17T01:00:13.531237Z",
     "shell.execute_reply": "2024-05-17T01:00:13.530514Z"
    }
   },
   "outputs": [],
   "source": [
    "model_scanvi.train(max_epochs=500, early_stopping=True)"
   ]
  },
  {
   "cell_type": "code",
   "execution_count": null,
   "metadata": {
    "ExecuteTime": {
     "end_time": "2024-02-09T16:54:46.272626Z",
     "start_time": "2024-02-09T16:54:46.142385Z"
    },
    "execution": {
     "iopub.execute_input": "2024-05-17T01:00:13.535385Z",
     "iopub.status.busy": "2024-05-17T01:00:13.535236Z",
     "iopub.status.idle": "2024-05-17T01:00:13.661503Z",
     "shell.execute_reply": "2024-05-17T01:00:13.660881Z"
    }
   },
   "outputs": [],
   "source": [
    "# plot reconstruction loss\n",
    "plt.plot(model_scanvi.history['reconstruction_loss_train']['reconstruction_loss_train'], label='train')\n",
    "plt.plot(model_scanvi.history['reconstruction_loss_validation']['reconstruction_loss_validation'], label='validation')\n",
    "plt.legend()"
   ]
  },
  {
   "cell_type": "markdown",
   "metadata": {},
   "source": [
    "### Save"
   ]
  },
  {
   "cell_type": "code",
   "execution_count": null,
   "metadata": {
    "ExecuteTime": {
     "end_time": "2024-02-09T16:54:46.279590Z",
     "start_time": "2024-02-09T16:54:46.273881Z"
    },
    "execution": {
     "iopub.execute_input": "2024-05-17T01:00:13.667021Z",
     "iopub.status.busy": "2024-05-17T01:00:13.666815Z",
     "iopub.status.idle": "2024-05-17T01:00:13.672666Z",
     "shell.execute_reply": "2024-05-17T01:00:13.672233Z"
    }
   },
   "outputs": [],
   "source": [
    "directory_path = file_path + '/Models/'\n",
    "base_name = file_base_name + '_mdata_markedDoublets_mergedPeaks_normalized_initialAnno_rmDoublets_integrated'\n",
    "date = str(datetime.date.today()) + '_'\n",
    "\n",
    "try:\n",
    "    covarCat = '_covarCat' + ''.join(' '.join('_'.join(categorical_covariate_keys).split('_')).title().split(' '))\n",
    "except:\n",
    "    covarCat = '_covarCatNone'\n",
    "    \n",
    "try:\n",
    "    covarCont = '_covarCont' + ''.join(' '.join('_'.join(continuous_covariate_keys).split('_')).title().split(' '))\n",
    "except:\n",
    "    covarCont = '_covarContNone' \n",
    "\n",
    "try:\n",
    "    labels = '_labels' + ''.join(' '.join(''.join(labels_key).split('_')).title().split(' '))\n",
    "except:\n",
    "    labels = '_labelsNone'\n",
    "\n",
    "#deep = '_inject' + str(inject)\n",
    "layers = '_layers' + str(n_layers)\n",
    "hidden = '_hidden' + str(n_hidden)\n",
    "latent = '_latent' + str(n_latent)\n",
    "\n",
    "model_type = '_scANVI'\n",
    "\n",
    "model_path = ''.join([directory_path,\n",
    "date,\n",
    "base_name,\n",
    "labels,\n",
    "#covarCat,\n",
    "#covarCont,\n",
    "layers,\n",
    "hidden,\n",
    "latent,\n",
    "model_type])\n",
    "\n",
    "model_path"
   ]
  },
  {
   "cell_type": "code",
   "execution_count": null,
   "metadata": {
    "ExecuteTime": {
     "end_time": "2024-02-09T16:54:50.841044Z",
     "start_time": "2024-02-09T16:54:46.280543Z"
    },
    "execution": {
     "iopub.execute_input": "2024-05-17T01:00:13.674872Z",
     "iopub.status.busy": "2024-05-17T01:00:13.674750Z",
     "iopub.status.idle": "2024-05-17T01:00:20.423495Z",
     "shell.execute_reply": "2024-05-17T01:00:20.422779Z"
    }
   },
   "outputs": [],
   "source": [
    "model_scanvi.save(model_path, overwrite=True, save_anndata=True)"
   ]
  },
  {
   "cell_type": "markdown",
   "metadata": {},
   "source": [
    "### Results"
   ]
  },
  {
   "cell_type": "code",
   "execution_count": null,
   "metadata": {
    "ExecuteTime": {
     "end_time": "2024-02-09T16:54:51.314183Z",
     "start_time": "2024-02-09T16:54:50.842471Z"
    },
    "execution": {
     "iopub.execute_input": "2024-05-17T01:00:20.428090Z",
     "iopub.status.busy": "2024-05-17T01:00:20.427943Z",
     "iopub.status.idle": "2024-05-17T01:00:21.248404Z",
     "shell.execute_reply": "2024-05-17T01:00:21.247800Z"
    }
   },
   "outputs": [],
   "source": [
    "adata.obsm['X_scANVI'] = model_scanvi.get_latent_representation()"
   ]
  },
  {
   "cell_type": "code",
   "execution_count": null,
   "metadata": {
    "ExecuteTime": {
     "end_time": "2024-02-09T16:54:54.241081Z",
     "start_time": "2024-02-09T16:54:51.315584Z"
    },
    "execution": {
     "iopub.execute_input": "2024-05-17T01:00:21.251839Z",
     "iopub.status.busy": "2024-05-17T01:00:21.251690Z",
     "iopub.status.idle": "2024-05-17T01:00:35.214277Z",
     "shell.execute_reply": "2024-05-17T01:00:35.213551Z"
    }
   },
   "outputs": [],
   "source": [
    "sc.pp.neighbors(adata, use_rep='X_scANVI')\n",
    "sc.tl.leiden(adata)"
   ]
  },
  {
   "cell_type": "code",
   "execution_count": null,
   "metadata": {
    "ExecuteTime": {
     "end_time": "2024-02-09T16:55:00.980251Z",
     "start_time": "2024-02-09T16:54:54.242408Z"
    },
    "execution": {
     "iopub.execute_input": "2024-05-17T01:00:35.218434Z",
     "iopub.status.busy": "2024-05-17T01:00:35.218284Z",
     "iopub.status.idle": "2024-05-17T01:00:46.442920Z",
     "shell.execute_reply": "2024-05-17T01:00:46.442231Z"
    }
   },
   "outputs": [],
   "source": [
    "sc.tl.umap(adata)"
   ]
  },
  {
   "cell_type": "code",
   "execution_count": null,
   "metadata": {
    "ExecuteTime": {
     "end_time": "2024-02-09T16:55:05.861697Z",
     "start_time": "2024-02-09T16:55:00.981643Z"
    },
    "execution": {
     "iopub.execute_input": "2024-05-17T01:00:46.447127Z",
     "iopub.status.busy": "2024-05-17T01:00:46.446977Z",
     "iopub.status.idle": "2024-05-17T01:00:54.838185Z",
     "shell.execute_reply": "2024-05-17T01:00:54.837486Z"
    }
   },
   "outputs": [],
   "source": [
    "sc.pl.umap(adata, color=['sample','initial_cell_type','leiden'] + marker_genes, size=10, add_outline=True, alpha=1, outline_width=(0.3, 0.0), ncols=3, cmap=mymap,wspace=0.85)"
   ]
  },
  {
   "cell_type": "code",
   "execution_count": null,
   "metadata": {
    "ExecuteTime": {
     "end_time": "2024-02-09T16:55:12.760802Z",
     "start_time": "2024-02-09T16:55:05.863002Z"
    },
    "execution": {
     "iopub.execute_input": "2024-05-17T01:00:54.906675Z",
     "iopub.status.busy": "2024-05-17T01:00:54.906521Z",
     "iopub.status.idle": "2024-05-17T01:01:08.700407Z",
     "shell.execute_reply": "2024-05-17T01:01:08.699739Z"
    }
   },
   "outputs": [],
   "source": [
    "plot_embedding_density_kde(adata=adata, groupby='sample', cmap_kde= mymap)"
   ]
  },
  {
   "cell_type": "code",
   "execution_count": null,
   "metadata": {},
   "outputs": [],
   "source": [
    "del adata_scanvi\n",
    "del model_scanvi\n",
    "gc.collect()"
   ]
  },
  {
   "cell_type": "code",
   "execution_count": null,
   "metadata": {},
   "outputs": [],
   "source": [
    "adata.write('/mnt/hdd/data/Healthy/adata_markedDoublets_normalized_initialAnno_noimmune_multivi_orig_wodblts_metadata_scvi_scanvi.h5ad')"
   ]
  },
  {
   "cell_type": "code",
   "execution_count": null,
   "metadata": {},
   "outputs": [],
   "source": [
    "adata = sc.read_h5ad('/mnt/hdd/data/Healthy/adata_markedDoublets_normalized_initialAnno_noimmune_multivi_orig_wodblts_metadata_scvi_scanvi.h5ad')"
   ]
  },
  {
   "cell_type": "markdown",
   "metadata": {},
   "source": [
    "# Harmony"
   ]
  },
  {
   "cell_type": "code",
   "execution_count": null,
   "metadata": {
    "ExecuteTime": {
     "end_time": "2024-02-09T16:55:13.735472Z",
     "start_time": "2024-02-09T16:55:12.765263Z"
    },
    "execution": {
     "iopub.execute_input": "2024-05-17T01:01:08.726926Z",
     "iopub.status.busy": "2024-05-17T01:01:08.726680Z",
     "iopub.status.idle": "2024-05-17T01:01:10.214400Z",
     "shell.execute_reply": "2024-05-17T01:01:10.213732Z"
    }
   },
   "outputs": [],
   "source": [
    "adata_harmony = adata.copy()"
   ]
  },
  {
   "cell_type": "code",
   "execution_count": null,
   "metadata": {
    "ExecuteTime": {
     "end_time": "2024-02-09T16:55:30.373355Z",
     "start_time": "2024-02-09T16:55:13.736861Z"
    },
    "execution": {
     "iopub.execute_input": "2024-05-17T01:01:10.218850Z",
     "iopub.status.busy": "2024-05-17T01:01:10.218701Z",
     "iopub.status.idle": "2024-05-17T01:01:52.279754Z",
     "shell.execute_reply": "2024-05-17T01:01:52.279123Z"
    }
   },
   "outputs": [],
   "source": [
    "sc.external.pp.harmony_integrate(adata_harmony, key='sample', adjusted_basis='X_harmony')"
   ]
  },
  {
   "cell_type": "code",
   "execution_count": null,
   "metadata": {},
   "outputs": [],
   "source": [
    "adata.obsm['X_harmony'] = adata_harmony.obsm['X_harmony']"
   ]
  },
  {
   "cell_type": "code",
   "execution_count": null,
   "metadata": {
    "ExecuteTime": {
     "end_time": "2024-02-09T16:55:33.681915Z",
     "start_time": "2024-02-09T16:55:30.375065Z"
    },
    "execution": {
     "iopub.execute_input": "2024-05-17T01:01:52.283425Z",
     "iopub.status.busy": "2024-05-17T01:01:52.283251Z",
     "iopub.status.idle": "2024-05-17T01:02:16.382980Z",
     "shell.execute_reply": "2024-05-17T01:02:16.382251Z"
    }
   },
   "outputs": [],
   "source": [
    "sc.pp.neighbors(adata, use_rep='X_harmony')\n",
    "sc.tl.leiden(adata)"
   ]
  },
  {
   "cell_type": "code",
   "execution_count": null,
   "metadata": {
    "ExecuteTime": {
     "end_time": "2024-02-09T16:55:40.352290Z",
     "start_time": "2024-02-09T16:55:33.683240Z"
    },
    "execution": {
     "iopub.execute_input": "2024-05-17T01:02:16.387176Z",
     "iopub.status.busy": "2024-05-17T01:02:16.387022Z",
     "iopub.status.idle": "2024-05-17T01:02:27.084255Z",
     "shell.execute_reply": "2024-05-17T01:02:27.083640Z"
    }
   },
   "outputs": [],
   "source": [
    "sc.tl.umap(adata)"
   ]
  },
  {
   "cell_type": "code",
   "execution_count": null,
   "metadata": {
    "ExecuteTime": {
     "end_time": "2024-02-09T16:55:45.344443Z",
     "start_time": "2024-02-09T16:55:40.353831Z"
    },
    "execution": {
     "iopub.execute_input": "2024-05-17T01:02:27.088195Z",
     "iopub.status.busy": "2024-05-17T01:02:27.088039Z",
     "iopub.status.idle": "2024-05-17T01:02:35.751243Z",
     "shell.execute_reply": "2024-05-17T01:02:35.750496Z"
    }
   },
   "outputs": [],
   "source": [
    "sc.pl.umap(adata, color=['sample','initial_cell_type','leiden'] + marker_genes, size=10, add_outline=True, alpha=1, outline_width=(0.3, 0.0), ncols=3, wspace= 0.95,cmap = mymap)"
   ]
  },
  {
   "cell_type": "code",
   "execution_count": null,
   "metadata": {
    "ExecuteTime": {
     "end_time": "2024-02-09T16:55:52.156074Z",
     "start_time": "2024-02-09T16:55:45.345874Z"
    },
    "execution": {
     "iopub.execute_input": "2024-05-17T01:02:35.853191Z",
     "iopub.status.busy": "2024-05-17T01:02:35.853048Z",
     "iopub.status.idle": "2024-05-17T01:02:48.146687Z",
     "shell.execute_reply": "2024-05-17T01:02:48.145958Z"
    }
   },
   "outputs": [],
   "source": [
    "plot_embedding_density_kde(adata=adata, groupby='sample', cmap_kde = mymap)"
   ]
  },
  {
   "cell_type": "markdown",
   "metadata": {},
   "source": [
    "# Benchmark"
   ]
  },
  {
   "cell_type": "code",
   "execution_count": null,
   "metadata": {
    "ExecuteTime": {
     "end_time": "2024-02-09T16:55:53.094174Z",
     "start_time": "2024-02-09T16:55:53.068159Z"
    },
    "execution": {
     "iopub.execute_input": "2024-05-17T01:02:49.754117Z",
     "iopub.status.busy": "2024-05-17T01:02:49.753967Z",
     "iopub.status.idle": "2024-05-17T01:02:49.782175Z",
     "shell.execute_reply": "2024-05-17T01:02:49.781562Z"
    }
   },
   "outputs": [],
   "source": [
    "from scib_metrics.benchmark import Benchmarker\n",
    "sc.set_figure_params(scanpy=True, frameon=False, vector_friendly=False ,transparent=True, dpi=150, dpi_save=300)"
   ]
  },
  {
   "cell_type": "code",
   "execution_count": null,
   "metadata": {
    "ExecuteTime": {
     "end_time": "2024-02-09T17:08:59.581013Z",
     "start_time": "2024-02-09T16:55:53.095238Z"
    },
    "execution": {
     "iopub.execute_input": "2024-05-17T01:02:49.785785Z",
     "iopub.status.busy": "2024-05-17T01:02:49.785613Z",
     "iopub.status.idle": "2024-05-17T01:11:17.133376Z",
     "shell.execute_reply": "2024-05-17T01:11:17.132662Z"
    }
   },
   "outputs": [],
   "source": [
    "bm = Benchmarker(\n",
    "    adata,\n",
    "    batch_key='sample',\n",
    "    label_key='initial_cell_type',\n",
    "    embedding_obsm_keys=['X_MultiVI_rmDoublets_meta','X_MultiVI_meta','X_scVI', 'X_scANVI', 'X_harmony', 'X_pca'],\n",
    "    n_jobs=20,\n",
    ")\n",
    "bm.benchmark()"
   ]
  },
  {
   "cell_type": "code",
   "execution_count": null,
   "metadata": {
    "ExecuteTime": {
     "end_time": "2024-02-09T17:09:00.266458Z",
     "start_time": "2024-02-09T17:08:59.582683Z"
    },
    "execution": {
     "iopub.execute_input": "2024-05-17T01:11:17.136789Z",
     "iopub.status.busy": "2024-05-17T01:11:17.136466Z",
     "iopub.status.idle": "2024-05-17T01:11:17.788067Z",
     "shell.execute_reply": "2024-05-17T01:11:17.787380Z"
    }
   },
   "outputs": [],
   "source": [
    "bm.plot_results_table(min_max_scale=False)"
   ]
  },
  {
   "cell_type": "code",
   "execution_count": null,
   "metadata": {
    "ExecuteTime": {
     "end_time": "2024-02-09T17:09:00.908748Z",
     "start_time": "2024-02-09T17:09:00.267896Z"
    },
    "execution": {
     "iopub.execute_input": "2024-05-17T01:11:17.794713Z",
     "iopub.status.busy": "2024-05-17T01:11:17.794546Z",
     "iopub.status.idle": "2024-05-17T01:11:18.395589Z",
     "shell.execute_reply": "2024-05-17T01:11:18.394902Z"
    }
   },
   "outputs": [],
   "source": [
    "bm.plot_results_table(min_max_scale=True)"
   ]
  },
  {
   "cell_type": "markdown",
   "metadata": {},
   "source": [
    "# save adata"
   ]
  },
  {
   "cell_type": "code",
   "execution_count": null,
   "metadata": {},
   "outputs": [],
   "source": [
    "adata.write('/mnt/hdd/data/Healthy/adata_markedDoublets_normalized_initialAnno_rmDoublets_integrated.h5ad')"
   ]
  }
 ],
 "metadata": {
  "kernelspec": {
   "display_name": "scUV2",
   "language": "python",
   "name": "scuv2"
  },
  "language_info": {
   "codemirror_mode": {
    "name": "ipython",
    "version": 3
   },
   "file_extension": ".py",
   "mimetype": "text/x-python",
   "name": "python",
   "nbconvert_exporter": "python",
   "pygments_lexer": "ipython3",
   "version": "3.10.14"
  },
  "toc": {
   "base_numbering": 1,
   "nav_menu": {},
   "number_sections": true,
   "sideBar": true,
   "skip_h1_title": false,
   "title_cell": "Table of Contents",
   "title_sidebar": "Contents",
   "toc_cell": false,
   "toc_position": {
    "height": "calc(100% - 180px)",
    "left": "10px",
    "top": "150px",
    "width": "292.8px"
   },
   "toc_section_display": true,
   "toc_window_display": true
  },
  "varInspector": {
   "cols": {
    "lenName": 16,
    "lenType": 16,
    "lenVar": 40
   },
   "kernels_config": {
    "python": {
     "delete_cmd_postfix": "",
     "delete_cmd_prefix": "del ",
     "library": "var_list.py",
     "varRefreshCmd": "print(var_dic_list())"
    },
    "r": {
     "delete_cmd_postfix": ") ",
     "delete_cmd_prefix": "rm(",
     "library": "var_list.r",
     "varRefreshCmd": "cat(var_dic_list()) "
    }
   },
   "types_to_exclude": [
    "module",
    "function",
    "builtin_function_or_method",
    "instance",
    "_Feature"
   ],
   "window_display": false
  }
 },
 "nbformat": 4,
 "nbformat_minor": 4
}
