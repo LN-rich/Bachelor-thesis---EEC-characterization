{
 "cells": [
  {
   "cell_type": "markdown",
   "metadata": {},
   "source": [
    "<!--  -->\n",
    "# RNA Velocity & Pseudotime\n",
    "Adaqpted from Michael Sterr\n",
    "\n",
    "2024-07-10\n",
    "\n",
    "\n",
    "# Setup\n"
   ]
  },
  {
   "cell_type": "code",
   "execution_count": null,
   "metadata": {
    "ExecuteTime": {
     "end_time": "2023-12-05T10:44:08.231808Z",
     "start_time": "2023-12-05T10:44:02.871761Z"
    },
    "execution": {
     "iopub.execute_input": "2024-05-27T19:15:13.178659Z",
     "iopub.status.busy": "2024-05-27T19:15:13.178541Z",
     "iopub.status.idle": "2024-05-27T19:15:18.846390Z",
     "shell.execute_reply": "2024-05-27T19:15:18.845695Z",
     "shell.execute_reply.started": "2024-05-27T19:15:13.178647Z"
    }
   },
   "outputs": [],
   "source": [
    "# General\n",
    "import scipy as sci\n",
    "import numpy as np\n",
    "import pandas as pd\n",
    "import logging\n",
    "import time\n",
    "import pickle\n",
    "from itertools import chain\n",
    "import h5py\n",
    "import scipy.sparse as sparse\n",
    "import anndata as ad\n",
    "import gc\n",
    "import scipy.stats as stats\n",
    "import torch\n",
    "\n",
    "# Plotting\n",
    "import matplotlib.pyplot as plt\n",
    "import matplotlib as mpl\n",
    "import matplotlib.colors as mcolors\n",
    "from matplotlib import rcParams\n",
    "from matplotlib.pyplot import rc_context\n",
    "from matplotlib import cm\n",
    "import seaborn as sb\n",
    "\n",
    "# Analysis\n",
    "import scanpy as sc\n",
    "import scanpy.external as sce\n",
    "import scvi\n",
    "\n",
    "import scvelo as scv\n",
    "import cellrank as cr"
   ]
  },
  {
   "cell_type": "code",
   "execution_count": null,
   "metadata": {},
   "outputs": [],
   "source": [
    "# Warnings\n",
    "import warnings\n",
    "warnings.filterwarnings('ignore') #(action='once')"
   ]
  },
  {
   "cell_type": "markdown",
   "metadata": {},
   "source": [
    "## setup matplotlib"
   ]
  },
  {
   "cell_type": "code",
   "execution_count": null,
   "metadata": {},
   "outputs": [],
   "source": [
    "# Settings\n",
    "\n",
    "## Directory\n",
    "#base_dir = '/mnt/md0/Projects/Miscellaneous/Helene/'\n",
    "base_dir = '/mnt/hdd/Notebooks/Gut_project/'\n",
    "sc.settings.figdir = base_dir + 'Figures'\n",
    "sc.settings.cachedir = base_dir + 'Cache'\n",
    "\n",
    "## Scanpy settings\n",
    "sc.settings.verbosity = 3\n",
    "sc.logging.print_header()\n",
    "sc.logging.print_versions()\n",
    "\n",
    "import warnings\n",
    "warnings.filterwarnings('ignore')"
   ]
  },
  {
   "cell_type": "code",
   "execution_count": null,
   "metadata": {},
   "outputs": [],
   "source": [
    "%run utils.ipynb"
   ]
  },
  {
   "cell_type": "code",
   "execution_count": null,
   "metadata": {},
   "outputs": [],
   "source": [
    "mymap = load_RdOrYl_cmap_settings(transparent=False)"
   ]
  },
  {
   "cell_type": "markdown",
   "metadata": {},
   "source": [
    "# Functions"
   ]
  },
  {
   "cell_type": "code",
   "execution_count": null,
   "metadata": {
    "ExecuteTime": {
     "end_time": "2023-12-05T10:44:08.608259Z",
     "start_time": "2023-12-05T10:44:08.602556Z"
    },
    "execution": {
     "iopub.execute_input": "2024-05-27T19:15:19.289033Z",
     "iopub.status.busy": "2024-05-27T19:15:19.288908Z",
     "iopub.status.idle": "2024-05-27T19:15:19.294610Z",
     "shell.execute_reply": "2024-05-27T19:15:19.294145Z",
     "shell.execute_reply.started": "2024-05-27T19:15:19.289020Z"
    }
   },
   "outputs": [],
   "source": [
    "def plot_composition(adata, \n",
    "x_key=None, \n",
    "y_key=None, \n",
    "x_labels = None,\n",
    "y_labels = None,\n",
    "y_colors = None,\n",
    "width = 0.85,       # the width of the bars: can also be len(x) sequence\n",
    "x_rotation = 0,\n",
    "y_lim_offset = 2.5,\n",
    "x_lim_offset = 0.45,\n",
    "figsize= (6, 4),\n",
    "save=None):\n",
    "    with rc_context({'figure.figsize': figsize}): #rcParams['figure.figsize']=(6,4)\n",
    "        if (x_labels == None):\n",
    "            x_labels = list(adata.obs[x_key].cat.categories)\n",
    "        \n",
    "        if (y_labels == None):\n",
    "            y_labels = list(adata.obs[y_key].cat.categories)\n",
    "        \n",
    "        if (y_colors == None):\n",
    "            y_colors = list(adata.uns[y_key + '_colors'])\n",
    "            \n",
    "        dic = {'x_labels':x_labels}\n",
    "        \n",
    "        for y_label in y_labels:\n",
    "            x_values = []\n",
    "            for x_label in x_labels:\n",
    "                x_value = adata.obs[y_key][adata.obs[x_key]==x_label].value_counts()[y_label]/adata.obs[y_key][adata.obs[x_key]==x_label].value_counts().sum()*100\n",
    "                x_values.append(x_value)\n",
    "            dic[y_label] = x_values\n",
    "        \n",
    "        df = pd.DataFrame(data = dic)\n",
    "\n",
    "        ax = df.plot(x='x_labels', kind='bar', stacked=True, width=width, edgecolor='0', linewidth=0.5, color=y_colors)\n",
    "\n",
    "        ax.set_ylabel('%')\n",
    "        ax.set_xlabel('')\n",
    "        ax.set_title(y_key + ' by ' + x_key)\n",
    "        ax.axes.set_xticklabels(labels=x_labels, rotation=x_rotation)\n",
    "        ax.legend(bbox_to_anchor=(1, .5),loc='center left', edgecolor='1')\n",
    "\n",
    "        plt.ylim([-y_lim_offset,100+y_lim_offset])\n",
    "        plt.xlim([-1+x_lim_offset,len(x_labels)-x_lim_offset])\n",
    "\n",
    "        plt.show()\n",
    "\n",
    "        if save is not None:\n",
    "            plt.savefig(save)\n",
    "        \n",
    "    return(df)"
   ]
  },
  {
   "cell_type": "markdown",
   "metadata": {},
   "source": [
    "# Read AnnData"
   ]
  },
  {
   "cell_type": "raw",
   "metadata": {
    "execution": {
     "iopub.execute_input": "2024-05-27T19:15:19.295168Z",
     "iopub.status.busy": "2024-05-27T19:15:19.295050Z",
     "iopub.status.idle": "2024-05-27T19:15:19.324136Z",
     "shell.execute_reply": "2024-05-27T19:15:19.323538Z",
     "shell.execute_reply.started": "2024-05-27T19:15:19.295156Z"
    },
    "vscode": {
     "languageId": "raw"
    }
   },
   "source": [
    "file_base_name = 'scMultiome_Mouse_Crypts_FVF'\n",
    "file_path = '/mnt/md0/Projects/scMultiome_Mouse_Crypts_FVF_P23033_Final_Notebooks/Files'"
   ]
  },
  {
   "cell_type": "code",
   "execution_count": null,
   "metadata": {
    "execution": {
     "iopub.execute_input": "2024-05-27T19:15:19.325273Z",
     "iopub.status.busy": "2024-05-27T19:15:19.324909Z",
     "iopub.status.idle": "2024-05-27T19:15:39.300094Z",
     "shell.execute_reply": "2024-05-27T19:15:39.299386Z",
     "shell.execute_reply.started": "2024-05-27T19:15:19.325250Z"
    }
   },
   "outputs": [],
   "source": [
    "adata = sc.read_h5ad('adata_markedDoublets_mergedPeaks_normalized_initialAnno_rmDoublets_integrated_imputed_annotated.h5ad')"
   ]
  },
  {
   "cell_type": "code",
   "execution_count": null,
   "metadata": {
    "ExecuteTime": {
     "end_time": "2023-12-05T10:46:28.215358Z",
     "start_time": "2023-12-05T10:46:28.211026Z"
    },
    "execution": {
     "iopub.execute_input": "2024-05-27T19:15:39.300878Z",
     "iopub.status.busy": "2024-05-27T19:15:39.300752Z",
     "iopub.status.idle": "2024-05-27T19:15:39.304761Z",
     "shell.execute_reply": "2024-05-27T19:15:39.304293Z",
     "shell.execute_reply.started": "2024-05-27T19:15:39.300864Z"
    }
   },
   "outputs": [],
   "source": [
    "adata"
   ]
  },
  {
   "cell_type": "code",
   "execution_count": null,
   "metadata": {},
   "outputs": [],
   "source": [
    "adata.uns['cell_type_annotation_lv1' + '_colors'] = [    \n",
    "    '#d0d0d0',  # ISC \n",
    "    '#243dae',  # D-cell (Sst+) \n",
    "    '#aa9dce',  # EC    \n",
    "    '#594495',  # EC   \n",
    "    '#725dae',  # EC 2   \n",
    "    '#46a8d9',  # EEC (peptide/immature)\n",
    "    '#d0d1e6',  # EC prog.    \n",
    "    '#85c6e6',  # EEC prog. (late/Peptide) \n",
    "    '#d9edf7',  # EEC prog\n",
    "    '#bb4353',  # Enterocyte \n",
    "    '#c67a84',  # early Enterocyte  \n",
    "    '#dd894e',  # Goblet \n",
    "    '#fec44f',  # Goblet prog.  \n",
    "    '#e1f3bf',  # Goblet/EEC prog.  \n",
    "    '#368cbf',  # K-cell (Gip+) \n",
    "    '#5a72dd',  # L/I-cell (Glp1+/Cck+)  \n",
    "    '#238b45',  # Paneth \n",
    "    '#7BB98F',  # Paneth prog.  \n",
    "    '#e7298a',  # Tuft \n",
    "    '#eca4d0',  # Tuft prog. \n",
    "    '#df65b0',  # Tuft prog. 2 \n",
    "    '#339a98',  # X-cell (Ghrl+)\n",
    "    '#eebcbc',  # TA  \n",
    "    '#fee0d2',  # TA prox  \n",
    "    '#ac9470',  # unknown0 \n",
    "    ]\n"
   ]
  },
  {
   "cell_type": "code",
   "execution_count": null,
   "metadata": {},
   "outputs": [],
   "source": [
    "adata.uns['cell_type_annotation_lv1' + '_colors'] =['#d0d0d0',  # ISC\n",
    " '#eebcbc',  # TA\n",
    " '#fee0d2',  # TA prox\n",
    " '#c67a84',  # early Enterocyte\n",
    " '#bb4353',  # Enterocyte\n",
    " '#eca4d0',  # Tuft prog.\n",
    " '#df65b0',  # Tuft prog. 2\n",
    " '#e7298a',  # Tuft\n",
    " '#e1f3bf',  # Goblet/EEC prog.\n",
    " '#d9edf7',  # EEC prog\n",
    " '#85c6e6',  # EEC prog. (late/Peptide)\n",
    " '#46a8d9',  # EEC (peptide/immature)\n",
    " '#339a98',  # X-cell (Ghrl+)\n",
    " '#368cbf',  # K-cell (Gip+)\n",
    " '#5a72dd',  # L/I-cell (Glp1+/Cck+)\n",
    " '#243dae',  # D-cell (Sst+)\n",
    " '#d0d1e6',  # EC prog.\n",
    " '#aa9dce',  # EC (imm.)\n",
    " '#594495',  # EC (mature)\n",
    " '#725dae',  # EC 2\n",
    " '#fec44f',  # Goblet prog.\n",
    " '#dd894e',  # Goblet\n",
    " '#7BB98F',  # Paneth prog.\n",
    " '#238b45',  # Paneth\n",
    " '#ac9470'   # unknown0\n",
    "]"
   ]
  },
  {
   "cell_type": "code",
   "execution_count": null,
   "metadata": {},
   "outputs": [],
   "source": [
    "annotation_key = 'cell_type_annotation_lv1'"
   ]
  },
  {
   "cell_type": "code",
   "execution_count": null,
   "metadata": {},
   "outputs": [],
   "source": [
    "adata.obs[annotation_key] = adata.obs[annotation_key].cat.reorder_categories(['ISC', 'TA', 'TA (prox.))', 'early Enterocyte', 'Enterocyte', \n",
    "'Tuft prog.', 'Tuft prog. 2', 'Tuft', \n",
    "'Goblet/EEC prog. (early)', 'EEC prog. (mid)', 'EEC prog. (late/Peptide)', 'EEC (Peptide/immature)', 'X-cell (Ghrl+)',  'K-cell (Gip+)', 'L/I-cell (Glp1+/Cck+)', 'D-cell (Sst+)',\n",
    "'EC prog. (late)', 'EC (immature)', 'EC (mature)','EC 2', \n",
    " 'Goblet prog. (late)', 'Goblet',  'Paneth prog.', 'Paneth', 'unknown0' ])"
   ]
  },
  {
   "cell_type": "code",
   "execution_count": null,
   "metadata": {
    "execution": {
     "iopub.execute_input": "2024-05-27T19:15:39.306458Z",
     "iopub.status.busy": "2024-05-27T19:15:39.306337Z",
     "iopub.status.idle": "2024-05-27T19:15:40.547859Z",
     "shell.execute_reply": "2024-05-27T19:15:40.547238Z",
     "shell.execute_reply.started": "2024-05-27T19:15:39.306446Z"
    }
   },
   "outputs": [],
   "source": [
    "sc.pl.umap(adata, color=['sample','cell_type_annotation_lv1'], size=7, add_outline=True, alpha=0.7, outline_width=(0.3, 0.0), ncols=4, wspace=0.85,color_map=mymap)"
   ]
  },
  {
   "cell_type": "code",
   "execution_count": null,
   "metadata": {
    "execution": {
     "iopub.execute_input": "2024-05-27T19:15:43.649871Z",
     "iopub.status.busy": "2024-05-27T19:15:43.649737Z",
     "iopub.status.idle": "2024-05-27T19:15:43.911541Z",
     "shell.execute_reply": "2024-05-27T19:15:43.910930Z",
     "shell.execute_reply.started": "2024-05-27T19:15:43.649857Z"
    }
   },
   "outputs": [],
   "source": [
    "adata.X = adata.layers['log_dca_counts'].copy()"
   ]
  },
  {
   "cell_type": "markdown",
   "metadata": {},
   "source": [
    "### read corrected anndata with metadata update and finer anno"
   ]
  },
  {
   "cell_type": "code",
   "execution_count": null,
   "metadata": {},
   "outputs": [],
   "source": [
    "adata= sc.read_h5ad('adata_markedDoublets_mergedPeaks_normalized_initialAnno_rmDoublets_integrated_imputed_annotated_updated.h5ad')"
   ]
  },
  {
   "cell_type": "code",
   "execution_count": null,
   "metadata": {},
   "outputs": [],
   "source": [
    "adata"
   ]
  },
  {
   "cell_type": "code",
   "execution_count": null,
   "metadata": {},
   "outputs": [],
   "source": [
    "adata.uns['cell_type_annotation_lv1' + '_colors'] =[\n",
    "    '#d0d0d0',  # ISC\n",
    " '#eebcbc',  # TA\n",
    " '#fee0d2',  # TA prox\n",
    " '#c67a84',  # early Enterocyte\n",
    " '#bb4353',  # Enterocyte\n",
    " '#eca4d0',  # Tuft prog.\n",
    " '#df65b0',  # Tuft prog. 2\n",
    " '#e7298a',  # Tuft\n",
    " '#f9e1f4',  # Goblet/EEC prog.\n",
    " '#d9edf7',  # EEC prog\n",
    " '#85c6e6',  # EEC prog. (late/Peptide)\n",
    " '#46a8d9',  # EEC (peptide/immature)\n",
    " '#339a98',  # X-cell (Ghrl+)\n",
    " '#368cbf',  # K-cell (Gip+)\n",
    " '#5a72dd',  # L/I-cell (Glp1+/Cck+)\n",
    " '#243dae',  # D-cell (Sst+)\n",
    " '#d0d1e6',  # EC prog.\n",
    " '#aa9dce',  # EC (imm.)\n",
    " '#594495',  # EC (mature)\n",
    " '#725dae',  # EC 2\n",
    " '#fec44f',  # Goblet prog.\n",
    " '#dd894e',  # Goblet\n",
    " '#cedf76',   #Goblet-Paneth-like \n",
    " '#7BB98F',   #Goblet-Paneth-like (cycling) \n",
    " '#d5f4c5',  # Paneth prog.\n",
    " '#238b45',  # Paneth\n",
    "]"
   ]
  },
  {
   "cell_type": "code",
   "execution_count": null,
   "metadata": {},
   "outputs": [],
   "source": [
    "annotation_key = 'cell_type_annotation_lv1'"
   ]
  },
  {
   "cell_type": "code",
   "execution_count": null,
   "metadata": {},
   "outputs": [],
   "source": [
    "adata.obs[annotation_key] = adata.obs[annotation_key].astype('category')"
   ]
  },
  {
   "cell_type": "code",
   "execution_count": null,
   "metadata": {},
   "outputs": [],
   "source": [
    "adata.obs[annotation_key] = adata.obs[annotation_key].cat.reorder_categories(['ISC', 'TA', 'TA (prox.))', 'early Enterocyte', 'Enterocyte', \n",
    "'Tuft prog.', 'Tuft prog. 2', 'Tuft', \n",
    "'Goblet/EEC prog. (early)', 'EEC prog. (mid)', 'EEC prog. (late/Peptide)', 'EEC (Peptide/immature)', 'X-cell (Ghrl+)',  'K-cell (Gip+)', 'L/I-cell (Glp1+/Cck+)', 'D-cell (Sst+)',\n",
    "'EC prog. (late)', 'EC (immature)', 'EC (mature)','EC 2', \n",
    " 'Goblet prog. (late)', 'Goblet', 'Goblet-Paneth-like', 'Goblet-Paneth-like(cycling)', 'Paneth prog.', 'Paneth'])#, 'unknown0' ])"
   ]
  },
  {
   "cell_type": "code",
   "execution_count": null,
   "metadata": {},
   "outputs": [],
   "source": [
    "sc.pl.umap(adata, color=['pretty name','cell_type_annotation_lv1'], size=7, add_outline=True, alpha=0.7, outline_width=(0.3, 0.0), ncols=4, wspace=1,color_map=mymap)"
   ]
  },
  {
   "cell_type": "code",
   "execution_count": null,
   "metadata": {},
   "outputs": [],
   "source": [
    "adata.X = adata.layers['log_dca_counts'].copy()"
   ]
  },
  {
   "cell_type": "markdown",
   "metadata": {},
   "source": [
    "# ISC Score"
   ]
  },
  {
   "cell_type": "code",
   "execution_count": null,
   "metadata": {
    "ExecuteTime": {
     "end_time": "2023-12-05T10:48:27.493907Z",
     "start_time": "2023-12-05T10:48:26.659767Z"
    },
    "execution": {
     "iopub.execute_input": "2024-05-27T19:15:43.912283Z",
     "iopub.status.busy": "2024-05-27T19:15:43.912151Z",
     "iopub.status.idle": "2024-05-27T19:15:44.794021Z",
     "shell.execute_reply": "2024-05-27T19:15:44.793409Z",
     "shell.execute_reply.started": "2024-05-27T19:15:43.912269Z"
    }
   },
   "outputs": [],
   "source": [
    "sc.tl.score_genes(adata, gene_list=['Lgr5','Olfm4','Slc12a2','Clca3b','Cps1'], score_name='ISC_score', use_raw=False)"
   ]
  },
  {
   "cell_type": "code",
   "execution_count": null,
   "metadata": {
    "ExecuteTime": {
     "end_time": "2023-12-05T10:48:27.952886Z",
     "start_time": "2023-12-05T10:48:27.495111Z"
    },
    "execution": {
     "iopub.execute_input": "2024-05-27T19:15:44.794777Z",
     "iopub.status.busy": "2024-05-27T19:15:44.794647Z",
     "iopub.status.idle": "2024-05-27T19:15:45.226258Z",
     "shell.execute_reply": "2024-05-27T19:15:45.225667Z",
     "shell.execute_reply.started": "2024-05-27T19:15:44.794763Z"
    }
   },
   "outputs": [],
   "source": [
    "sc.pl.umap(adata, color=['ISC_score'], size=7, add_outline=True, alpha=1, outline_width=(0.3, 0.0), ncols=4, color_map='turbo', title='ISC score', save = 'umap_isc_score.png')"
   ]
  },
  {
   "cell_type": "code",
   "execution_count": null,
   "metadata": {
    "ExecuteTime": {
     "end_time": "2023-12-05T10:48:36.972735Z",
     "start_time": "2023-12-05T10:48:36.570287Z"
    },
    "execution": {
     "iopub.execute_input": "2024-05-27T19:15:45.227045Z",
     "iopub.status.busy": "2024-05-27T19:15:45.226913Z",
     "iopub.status.idle": "2024-05-27T19:15:45.898193Z",
     "shell.execute_reply": "2024-05-27T19:15:45.897541Z",
     "shell.execute_reply.started": "2024-05-27T19:15:45.227032Z"
    }
   },
   "outputs": [],
   "source": [
    "with rc_context({'figure.figsize': (6, 4)}):\n",
    "    sc.pl.violin(adata, use_raw=False, keys=['ISC_score'], groupby='cell_type_annotation_lv1',rotation=90,save = 'violin_isc_score.png')"
   ]
  },
  {
   "cell_type": "markdown",
   "metadata": {},
   "source": [
    "# CellRank - Gene Expression"
   ]
  },
  {
   "cell_type": "markdown",
   "metadata": {},
   "source": [
    "## Pseudotime"
   ]
  },
  {
   "cell_type": "markdown",
   "metadata": {},
   "source": [
    "### Diffusion Pseudotime"
   ]
  },
  {
   "cell_type": "code",
   "execution_count": null,
   "metadata": {
    "ExecuteTime": {
     "end_time": "2023-12-05T10:48:29.523860Z",
     "start_time": "2023-12-05T10:48:27.954139Z"
    },
    "execution": {
     "iopub.execute_input": "2024-05-27T19:15:45.899074Z",
     "iopub.status.busy": "2024-05-27T19:15:45.898878Z",
     "iopub.status.idle": "2024-05-27T19:15:47.132081Z",
     "shell.execute_reply": "2024-05-27T19:15:47.131442Z",
     "shell.execute_reply.started": "2024-05-27T19:15:45.899061Z"
    }
   },
   "outputs": [],
   "source": [
    "sc.tl.diffmap(adata, n_comps=20)"
   ]
  },
  {
   "cell_type": "code",
   "execution_count": null,
   "metadata": {
    "ExecuteTime": {
     "end_time": "2023-12-05T10:48:30.929204Z",
     "start_time": "2023-12-05T10:48:29.525381Z"
    },
    "execution": {
     "iopub.execute_input": "2024-05-27T19:15:47.133075Z",
     "iopub.status.busy": "2024-05-27T19:15:47.132854Z",
     "iopub.status.idle": "2024-05-27T19:15:49.430570Z",
     "shell.execute_reply": "2024-05-27T19:15:49.429838Z",
     "shell.execute_reply.started": "2024-05-27T19:15:47.133056Z"
    }
   },
   "outputs": [],
   "source": [
    "sc.pl.diffmap(adata, components=['0,1','1,2','3,4','5,6','7,8','9,10','11,12','13,14','15,16','17,18','19,20'], color='ISC_score', color_map='turbo')"
   ]
  },
  {
   "cell_type": "code",
   "execution_count": null,
   "metadata": {
    "ExecuteTime": {
     "end_time": "2023-12-05T10:48:33.596228Z",
     "start_time": "2023-12-05T10:48:30.930504Z"
    },
    "execution": {
     "iopub.execute_input": "2024-05-27T19:15:49.431475Z",
     "iopub.status.busy": "2024-05-27T19:15:49.431282Z",
     "iopub.status.idle": "2024-05-27T19:15:54.307701Z",
     "shell.execute_reply": "2024-05-27T19:15:54.307002Z",
     "shell.execute_reply.started": "2024-05-27T19:15:49.431460Z"
    }
   },
   "outputs": [],
   "source": [
    "sc.pl.diffmap(adata, components=['0,1','1,2','3,4','5,6','7,8','9,10','11,12','13,14','15,16','17,18','19,20'], color='cell_type_annotation_lv1', wspace=1.8)"
   ]
  },
  {
   "cell_type": "code",
   "execution_count": null,
   "metadata": {
    "ExecuteTime": {
     "end_time": "2023-12-05T10:48:34.362703Z",
     "start_time": "2023-12-05T10:48:33.987358Z"
    },
    "execution": {
     "iopub.execute_input": "2024-05-27T19:15:55.656268Z",
     "iopub.status.busy": "2024-05-27T19:15:55.656132Z",
     "iopub.status.idle": "2024-05-27T19:15:56.556477Z",
     "shell.execute_reply": "2024-05-27T19:15:56.555907Z",
     "shell.execute_reply.started": "2024-05-27T19:15:55.656253Z"
    }
   },
   "outputs": [],
   "source": [
    "sc.pl.diffmap(adata, components=['2,12'], color=['phase','ISC_score','cell_type_annotation_lv1'])"
   ]
  },
  {
   "cell_type": "code",
   "execution_count": null,
   "metadata": {
    "ExecuteTime": {
     "end_time": "2023-12-05T10:48:34.372181Z",
     "start_time": "2023-12-05T10:48:34.368320Z"
    },
    "execution": {
     "iopub.execute_input": "2024-05-27T19:15:56.557264Z",
     "iopub.status.busy": "2024-05-27T19:15:56.557131Z",
     "iopub.status.idle": "2024-05-27T19:15:56.561146Z",
     "shell.execute_reply": "2024-05-27T19:15:56.560670Z",
     "shell.execute_reply.started": "2024-05-27T19:15:56.557250Z"
    }
   },
   "outputs": [],
   "source": [
    "stem_mask = (adata.obsm['X_diffmap'][:,1] >0) & np.isin(adata.obs['cell_type_annotation_lv1'], 'ISC')\n",
    "max_stem_id = np.argmin(adata.obsm['X_diffmap'][stem_mask,11])\n",
    "root_id = np.arange(len(stem_mask))[stem_mask][max_stem_id]\n",
    "adata.uns['iroot'] = root_id"
   ]
  },
  {
   "cell_type": "code",
   "execution_count": null,
   "metadata": {
    "ExecuteTime": {
     "end_time": "2023-12-05T10:48:36.076206Z",
     "start_time": "2023-12-05T10:48:34.373078Z"
    },
    "execution": {
     "iopub.execute_input": "2024-05-27T19:15:56.561849Z",
     "iopub.status.busy": "2024-05-27T19:15:56.561677Z",
     "iopub.status.idle": "2024-05-27T19:15:59.184723Z",
     "shell.execute_reply": "2024-05-27T19:15:59.184147Z",
     "shell.execute_reply.started": "2024-05-27T19:15:56.561835Z"
    }
   },
   "outputs": [],
   "source": [
    "scv.pl.scatter(\n",
    "    adata,\n",
    "    basis='diffmap',\n",
    "    c=[root_id, 'phase', 'cell_type_annotation_lv1'],\n",
    "    legend_loc='right',\n",
    "    components=['1,11'], wspace=0.75\n",
    ")\n",
    "\n",
    "scv.pl.scatter(\n",
    "    adata,\n",
    "    basis='umap',\n",
    "    c=[root_id, 'phase', 'cell_type_annotation_lv1'],\n",
    "    legend_loc='right',\n",
    "    components=['1, 0'], wspace=0.75\n",
    ")\n"
   ]
  },
  {
   "cell_type": "code",
   "execution_count": null,
   "metadata": {
    "ExecuteTime": {
     "end_time": "2023-12-05T10:49:39.318627Z",
     "start_time": "2023-12-05T10:49:39.315493Z"
    },
    "execution": {
     "iopub.execute_input": "2024-05-27T19:15:59.185496Z",
     "iopub.status.busy": "2024-05-27T19:15:59.185363Z",
     "iopub.status.idle": "2024-05-27T19:15:59.189070Z",
     "shell.execute_reply": "2024-05-27T19:15:59.188659Z",
     "shell.execute_reply.started": "2024-05-27T19:15:59.185482Z"
    }
   },
   "outputs": [],
   "source": [
    "adata.obs_names[root_id]"
   ]
  },
  {
   "cell_type": "code",
   "execution_count": null,
   "metadata": {
    "ExecuteTime": {
     "end_time": "2023-12-05T10:48:36.090550Z",
     "start_time": "2023-12-05T10:48:36.077196Z"
    },
    "execution": {
     "iopub.execute_input": "2024-05-27T19:15:59.189634Z",
     "iopub.status.busy": "2024-05-27T19:15:59.189514Z",
     "iopub.status.idle": "2024-05-27T19:15:59.228762Z",
     "shell.execute_reply": "2024-05-27T19:15:59.228291Z",
     "shell.execute_reply.started": "2024-05-27T19:15:59.189622Z"
    }
   },
   "outputs": [],
   "source": [
    "sc.tl.dpt(adata, n_dcs=20)"
   ]
  },
  {
   "cell_type": "code",
   "execution_count": null,
   "metadata": {
    "execution": {
     "iopub.execute_input": "2024-05-27T19:15:59.229412Z",
     "iopub.status.busy": "2024-05-27T19:15:59.229290Z",
     "iopub.status.idle": "2024-05-27T19:15:59.232659Z",
     "shell.execute_reply": "2024-05-27T19:15:59.232050Z",
     "shell.execute_reply.started": "2024-05-27T19:15:59.229399Z"
    }
   },
   "outputs": [],
   "source": [
    "adata.obs['dpt_pseudotime_g1'] = adata.obs['dpt_pseudotime'].copy()"
   ]
  },
  {
   "cell_type": "code",
   "execution_count": null,
   "metadata": {
    "ExecuteTime": {
     "end_time": "2023-12-05T10:48:36.569300Z",
     "start_time": "2023-12-05T10:48:36.091535Z"
    },
    "execution": {
     "iopub.execute_input": "2024-05-27T19:15:59.233287Z",
     "iopub.status.busy": "2024-05-27T19:15:59.233168Z",
     "iopub.status.idle": "2024-05-27T19:15:59.679426Z",
     "shell.execute_reply": "2024-05-27T19:15:59.678952Z",
     "shell.execute_reply.started": "2024-05-27T19:15:59.233275Z"
    }
   },
   "outputs": [],
   "source": [
    "sc.pl.umap(adata, color=['dpt_pseudotime_g1'], size=7, add_outline=True, alpha=1, outline_width=(0.3, 0.0), ncols=4, color_map='turbo')"
   ]
  },
  {
   "cell_type": "code",
   "execution_count": null,
   "metadata": {
    "ExecuteTime": {
     "end_time": "2023-12-05T10:48:36.972735Z",
     "start_time": "2023-12-05T10:48:36.570287Z"
    },
    "execution": {
     "iopub.execute_input": "2024-05-27T19:15:59.683189Z",
     "iopub.status.busy": "2024-05-27T19:15:59.683062Z",
     "iopub.status.idle": "2024-05-27T19:16:00.645845Z",
     "shell.execute_reply": "2024-05-27T19:16:00.645327Z",
     "shell.execute_reply.started": "2024-05-27T19:15:59.683176Z"
    }
   },
   "outputs": [],
   "source": [
    "with rc_context({'figure.figsize': (6, 4)}):\n",
    "    sc.pl.violin(adata, use_raw=False, keys=['dpt_pseudotime_g1'], groupby='cell_type_annotation_lv1', rotation=90)"
   ]
  },
  {
   "cell_type": "code",
   "execution_count": null,
   "metadata": {},
   "outputs": [],
   "source": [
    "sb.displot(adata.obsm['X_diffmap'][:,11])"
   ]
  },
  {
   "cell_type": "code",
   "execution_count": null,
   "metadata": {
    "ExecuteTime": {
     "end_time": "2023-12-05T10:48:34.372181Z",
     "start_time": "2023-12-05T10:48:34.368320Z"
    },
    "execution": {
     "iopub.execute_input": "2024-05-27T19:16:00.646588Z",
     "iopub.status.busy": "2024-05-27T19:16:00.646462Z",
     "iopub.status.idle": "2024-05-27T19:16:00.650346Z",
     "shell.execute_reply": "2024-05-27T19:16:00.649921Z",
     "shell.execute_reply.started": "2024-05-27T19:16:00.646574Z"
    }
   },
   "outputs": [],
   "source": [
    "stem_mask = (adata.obsm['X_diffmap'][:,1] > 0) & np.isin(adata.obs['cell_type_annotation_lv1'], 'ISC')\n",
    "max_stem_id = np.argmax(adata.obsm['X_diffmap'][stem_mask,11])\n",
    "root_id = np.arange(len(stem_mask))[stem_mask][max_stem_id]\n",
    "adata.uns['iroot'] = root_id"
   ]
  },
  {
   "cell_type": "code",
   "execution_count": null,
   "metadata": {
    "ExecuteTime": {
     "end_time": "2023-12-05T10:48:36.076206Z",
     "start_time": "2023-12-05T10:48:34.373078Z"
    },
    "execution": {
     "iopub.execute_input": "2024-05-27T19:16:00.650897Z",
     "iopub.status.busy": "2024-05-27T19:16:00.650781Z",
     "iopub.status.idle": "2024-05-27T19:16:03.269672Z",
     "shell.execute_reply": "2024-05-27T19:16:03.269192Z",
     "shell.execute_reply.started": "2024-05-27T19:16:00.650885Z"
    }
   },
   "outputs": [],
   "source": [
    "scv.pl.scatter(\n",
    "    adata,\n",
    "    basis='diffmap',\n",
    "    c=[root_id, 'phase', 'cell_type_annotation_lv1'],\n",
    "    legend_loc='right',\n",
    "    components=['1,11'], wspace=0.75\n",
    ")\n",
    "\n",
    "scv.pl.scatter(\n",
    "    adata,\n",
    "    basis='umap',\n",
    "    c=[root_id, 'phase', 'cell_type_annotation_lv1'],\n",
    "    legend_loc='right',\n",
    "    components=['1, 0'], wspace=0.75\n",
    ")\n"
   ]
  },
  {
   "cell_type": "code",
   "execution_count": null,
   "metadata": {
    "ExecuteTime": {
     "end_time": "2023-12-05T10:49:39.318627Z",
     "start_time": "2023-12-05T10:49:39.315493Z"
    },
    "execution": {
     "iopub.execute_input": "2024-05-27T19:16:03.270348Z",
     "iopub.status.busy": "2024-05-27T19:16:03.270223Z",
     "iopub.status.idle": "2024-05-27T19:16:03.273670Z",
     "shell.execute_reply": "2024-05-27T19:16:03.273260Z",
     "shell.execute_reply.started": "2024-05-27T19:16:03.270335Z"
    }
   },
   "outputs": [],
   "source": [
    "adata.obs_names[root_id]"
   ]
  },
  {
   "cell_type": "code",
   "execution_count": null,
   "metadata": {
    "ExecuteTime": {
     "end_time": "2023-12-05T10:48:36.090550Z",
     "start_time": "2023-12-05T10:48:36.077196Z"
    },
    "execution": {
     "iopub.execute_input": "2024-05-27T19:16:03.274230Z",
     "iopub.status.busy": "2024-05-27T19:16:03.274115Z",
     "iopub.status.idle": "2024-05-27T19:16:03.313023Z",
     "shell.execute_reply": "2024-05-27T19:16:03.312598Z",
     "shell.execute_reply.started": "2024-05-27T19:16:03.274218Z"
    }
   },
   "outputs": [],
   "source": [
    "sc.tl.dpt(adata, n_dcs=20)"
   ]
  },
  {
   "cell_type": "code",
   "execution_count": null,
   "metadata": {
    "execution": {
     "iopub.execute_input": "2024-05-27T19:16:03.313652Z",
     "iopub.status.busy": "2024-05-27T19:16:03.313532Z",
     "iopub.status.idle": "2024-05-27T19:16:03.316339Z",
     "shell.execute_reply": "2024-05-27T19:16:03.315968Z",
     "shell.execute_reply.started": "2024-05-27T19:16:03.313639Z"
    }
   },
   "outputs": [],
   "source": [
    "adata.obs['dpt_pseudotime_g2m'] = adata.obs['dpt_pseudotime'].copy()"
   ]
  },
  {
   "cell_type": "code",
   "execution_count": null,
   "metadata": {
    "ExecuteTime": {
     "end_time": "2023-12-05T10:48:36.569300Z",
     "start_time": "2023-12-05T10:48:36.091535Z"
    },
    "execution": {
     "iopub.execute_input": "2024-05-27T19:16:03.316868Z",
     "iopub.status.busy": "2024-05-27T19:16:03.316756Z",
     "iopub.status.idle": "2024-05-27T19:16:03.757521Z",
     "shell.execute_reply": "2024-05-27T19:16:03.757044Z",
     "shell.execute_reply.started": "2024-05-27T19:16:03.316856Z"
    }
   },
   "outputs": [],
   "source": [
    "sc.pl.umap(adata, color=['dpt_pseudotime_g2m'], size=7, add_outline=True, alpha=1, outline_width=(0.3, 0.0), ncols=4, color_map='turbo')"
   ]
  },
  {
   "cell_type": "code",
   "execution_count": null,
   "metadata": {
    "ExecuteTime": {
     "end_time": "2023-12-05T10:48:36.972735Z",
     "start_time": "2023-12-05T10:48:36.570287Z"
    },
    "execution": {
     "iopub.execute_input": "2024-05-27T19:16:03.758136Z",
     "iopub.status.busy": "2024-05-27T19:16:03.758016Z",
     "iopub.status.idle": "2024-05-27T19:16:04.446695Z",
     "shell.execute_reply": "2024-05-27T19:16:04.446223Z",
     "shell.execute_reply.started": "2024-05-27T19:16:03.758123Z"
    }
   },
   "outputs": [],
   "source": [
    "with rc_context({'figure.figsize': (6, 4)}):\n",
    "    sc.pl.violin(adata, use_raw=False, keys=['dpt_pseudotime_g2m'], groupby='cell_type_annotation_lv1', rotation=90)"
   ]
  },
  {
   "cell_type": "code",
   "execution_count": null,
   "metadata": {
    "ExecuteTime": {
     "end_time": "2023-12-05T11:09:01.554620Z",
     "start_time": "2023-12-05T11:09:01.545509Z"
    },
    "execution": {
     "iopub.execute_input": "2024-05-27T19:16:04.447291Z",
     "iopub.status.busy": "2024-05-27T19:16:04.447170Z",
     "iopub.status.idle": "2024-05-27T19:16:04.455612Z",
     "shell.execute_reply": "2024-05-27T19:16:04.455223Z",
     "shell.execute_reply.started": "2024-05-27T19:16:04.447278Z"
    }
   },
   "outputs": [],
   "source": [
    "adata.obs['dpt_pseudotime'] = adata.obs.loc[:,['dpt_pseudotime_g1','dpt_pseudotime_g2m']].mean(axis=1)\n",
    "adata.obs['dpt_pseudotime'] = adata.obs['dpt_pseudotime'] - min(adata.obs['dpt_pseudotime'])\n",
    "adata.obs['dpt_pseudotime'] = adata.obs['dpt_pseudotime']/max(adata.obs['dpt_pseudotime'])"
   ]
  },
  {
   "cell_type": "code",
   "execution_count": null,
   "metadata": {
    "ExecuteTime": {
     "end_time": "2023-12-05T10:48:36.569300Z",
     "start_time": "2023-12-05T10:48:36.091535Z"
    },
    "execution": {
     "iopub.execute_input": "2024-05-27T19:16:04.456168Z",
     "iopub.status.busy": "2024-05-27T19:16:04.456049Z",
     "iopub.status.idle": "2024-05-27T19:16:05.750419Z",
     "shell.execute_reply": "2024-05-27T19:16:05.749930Z",
     "shell.execute_reply.started": "2024-05-27T19:16:04.456155Z"
    }
   },
   "outputs": [],
   "source": [
    "sc.pl.umap(adata, color=['dpt_pseudotime','dpt_pseudotime_g1','dpt_pseudotime_g2m'], title=['diffusion pseudotime','diffusion pseudotime g1','diffusion pseudotime g2m'],size=7, add_outline=True, alpha=1, outline_width=(0.3, 0.0), ncols=4, color_map='turbo', save = 'umaps_dpt.png')"
   ]
  },
  {
   "cell_type": "code",
   "execution_count": null,
   "metadata": {
    "ExecuteTime": {
     "end_time": "2023-12-05T10:48:36.972735Z",
     "start_time": "2023-12-05T10:48:36.570287Z"
    },
    "execution": {
     "iopub.execute_input": "2024-05-27T19:16:05.751041Z",
     "iopub.status.busy": "2024-05-27T19:16:05.750915Z",
     "iopub.status.idle": "2024-05-27T19:16:07.706245Z",
     "shell.execute_reply": "2024-05-27T19:16:07.705784Z",
     "shell.execute_reply.started": "2024-05-27T19:16:05.751027Z"
    }
   },
   "outputs": [],
   "source": [
    "with rc_context({'figure.figsize': (6, 4)}):\n",
    "    sc.pl.violin(adata, use_raw=False, keys=['dpt_pseudotime','dpt_pseudotime_g1','dpt_pseudotime_g2m'], groupby='cell_type_annotation_lv1', rotation=90, save = 'violins_dpt.png')"
   ]
  },
  {
   "cell_type": "code",
   "execution_count": null,
   "metadata": {
    "ExecuteTime": {
     "end_time": "2023-12-05T11:08:06.375781Z",
     "start_time": "2023-12-05T11:07:25.862107Z"
    },
    "execution": {
     "iopub.execute_input": "2024-05-27T19:16:07.706909Z",
     "iopub.status.busy": "2024-05-27T19:16:07.706783Z",
     "iopub.status.idle": "2024-05-27T19:17:10.025536Z",
     "shell.execute_reply": "2024-05-27T19:17:10.024906Z",
     "shell.execute_reply.started": "2024-05-27T19:16:07.706896Z"
    },
    "scrolled": true
   },
   "outputs": [],
   "source": [
    "dptk = cr.kernels.PseudotimeKernel(adata, time_key='dpt_pseudotime')\n",
    "dptk.compute_transition_matrix(n_jobs=-1)\n",
    "dptk.plot_projection(color='cell_type_annotation_lv1', recompute=True, legend_loc='none',save = 'transition_dpt.png')\n",
    "#dptk.write('adata_markedDoublets_mergedPeaks_normalized_initialAnno_rmDoublets_integrated_imputed_annotated_crKernel_dpt_pseudotime.plk', write_adata=False)"
   ]
  },
  {
   "cell_type": "code",
   "execution_count": null,
   "metadata": {
    "ExecuteTime": {
     "end_time": "2023-12-05T11:08:06.375781Z",
     "start_time": "2023-12-05T11:07:25.862107Z"
    },
    "execution": {
     "iopub.execute_input": "2024-05-27T19:17:10.026472Z",
     "iopub.status.busy": "2024-05-27T19:17:10.026329Z",
     "iopub.status.idle": "2024-05-27T19:17:24.053754Z",
     "shell.execute_reply": "2024-05-27T19:17:24.053183Z",
     "shell.execute_reply.started": "2024-05-27T19:17:10.026457Z"
    },
    "scrolled": true
   },
   "outputs": [],
   "source": [
    "dptk_g1 = cr.kernels.PseudotimeKernel(adata, time_key='dpt_pseudotime_g1')\n",
    "dptk_g1.compute_transition_matrix(n_jobs=-1)\n",
    "dptk_g1.plot_projection(color='cell_type_annotation_lv1', recompute=True, legend_loc='none',)\n",
    "#dptk_g1.write(fname='adata_markedDoublets_mergedPeaks_normalized_initialAnno_rmDoublets_integrated_imputed_annotated_crKernel_dpt_pseudotime_g1.plk', write_adata=False)"
   ]
  },
  {
   "cell_type": "code",
   "execution_count": null,
   "metadata": {
    "ExecuteTime": {
     "end_time": "2023-12-05T11:08:06.375781Z",
     "start_time": "2023-12-05T11:07:25.862107Z"
    },
    "execution": {
     "iopub.execute_input": "2024-05-27T19:17:24.054598Z",
     "iopub.status.busy": "2024-05-27T19:17:24.054447Z",
     "iopub.status.idle": "2024-05-27T19:17:37.989095Z",
     "shell.execute_reply": "2024-05-27T19:17:37.988415Z",
     "shell.execute_reply.started": "2024-05-27T19:17:24.054582Z"
    },
    "scrolled": true
   },
   "outputs": [],
   "source": [
    "dptk_g2m = cr.kernels.PseudotimeKernel(adata, time_key='dpt_pseudotime_g2m')\n",
    "dptk_g2m.compute_transition_matrix(n_jobs=-1)\n",
    "dptk_g2m.plot_projection(color='cell_type_annotation_lv1', recompute=True, legend_loc='none')\n",
    "#dptk_g2m.write(fname='adata_markedDoublets_mergedPeaks_normalized_initialAnno_rmDoublets_integrated_imputed_annotated_crKernel_dpt_pseudotime_g2m.plk', write_adata=False)"
   ]
  },
  {
   "cell_type": "code",
   "execution_count": null,
   "metadata": {},
   "outputs": [],
   "source": [
    "gc.collect()"
   ]
  },
  {
   "cell_type": "markdown",
   "metadata": {},
   "source": [
    "### Palantier"
   ]
  },
  {
   "cell_type": "code",
   "execution_count": null,
   "metadata": {
    "ExecuteTime": {
     "end_time": "2023-12-05T10:49:31.647718Z",
     "start_time": "2023-12-05T10:48:36.973752Z"
    },
    "execution": {
     "iopub.execute_input": "2024-05-27T19:17:37.990000Z",
     "iopub.status.busy": "2024-05-27T19:17:37.989848Z",
     "iopub.status.idle": "2024-05-27T19:17:56.888766Z",
     "shell.execute_reply": "2024-05-27T19:17:56.888072Z",
     "shell.execute_reply.started": "2024-05-27T19:17:37.989984Z"
    },
    "scrolled": true
   },
   "outputs": [],
   "source": [
    "sce.tl.palantir(adata, n_components=20, use_adjacency_matrix=True, distances_key='distances')"
   ]
  },
  {
   "cell_type": "code",
   "execution_count": null,
   "metadata": {
    "ExecuteTime": {
     "end_time": "2023-12-05T10:49:31.652173Z",
     "start_time": "2023-12-05T10:49:31.649114Z"
    },
    "execution": {
     "iopub.execute_input": "2024-05-27T19:17:56.889601Z",
     "iopub.status.busy": "2024-05-27T19:17:56.889459Z",
     "iopub.status.idle": "2024-05-27T19:17:56.892817Z",
     "shell.execute_reply": "2024-05-27T19:17:56.892337Z",
     "shell.execute_reply.started": "2024-05-27T19:17:56.889587Z"
    }
   },
   "outputs": [],
   "source": [
    "sc.set_figure_params(scanpy=True, frameon=False, vector_friendly=False ,transparent=True, dpi=150, dpi_save=300)"
   ]
  },
  {
   "cell_type": "code",
   "execution_count": null,
   "metadata": {
    "ExecuteTime": {
     "end_time": "2023-12-05T10:49:33.606282Z",
     "start_time": "2023-12-05T10:49:31.653127Z"
    },
    "execution": {
     "iopub.execute_input": "2024-05-27T19:17:56.893299Z",
     "iopub.status.busy": "2024-05-27T19:17:56.893182Z",
     "iopub.status.idle": "2024-05-27T19:17:58.947231Z",
     "shell.execute_reply": "2024-05-27T19:17:58.946574Z",
     "shell.execute_reply.started": "2024-05-27T19:17:56.893286Z"
    }
   },
   "outputs": [],
   "source": [
    "sc.pl.embedding(adata, basis='X_palantir_diff_comp', components=['0,1','1,2','3,4','5,6','7,8','9,10','11,12','13,14','15,16','17,18','19,20'], color='ISC_score')"
   ]
  },
  {
   "cell_type": "code",
   "execution_count": null,
   "metadata": {
    "ExecuteTime": {
     "end_time": "2023-12-05T10:49:36.947519Z",
     "start_time": "2023-12-05T10:49:33.607525Z"
    },
    "execution": {
     "iopub.execute_input": "2024-05-27T19:17:58.948026Z",
     "iopub.status.busy": "2024-05-27T19:17:58.947894Z",
     "iopub.status.idle": "2024-05-27T19:18:02.017217Z",
     "shell.execute_reply": "2024-05-27T19:18:02.016591Z",
     "shell.execute_reply.started": "2024-05-27T19:17:58.948012Z"
    }
   },
   "outputs": [],
   "source": [
    "sc.pl.embedding(adata, basis='X_palantir_diff_comp', components=['0,1','1,2','3,4','5,6','7,8','9,10','11,12','13,14','15,16','17,18','19,20'],wspace=0.5, ncols=4,color='initial_cell_type')"
   ]
  },
  {
   "cell_type": "code",
   "execution_count": null,
   "metadata": {
    "ExecuteTime": {
     "end_time": "2023-12-05T10:49:37.691204Z",
     "start_time": "2023-12-05T10:49:36.948775Z"
    },
    "execution": {
     "iopub.execute_input": "2024-05-27T19:18:02.750936Z",
     "iopub.status.busy": "2024-05-27T19:18:02.750804Z",
     "iopub.status.idle": "2024-05-27T19:18:03.488088Z",
     "shell.execute_reply": "2024-05-27T19:18:03.487638Z",
     "shell.execute_reply.started": "2024-05-27T19:18:02.750922Z"
    }
   },
   "outputs": [],
   "source": [
    "sc.pl.embedding(adata, basis='X_palantir_diff_comp', components=['10,16'], color=['initial_cell_type','ISC_score','phase'])"
   ]
  },
  {
   "cell_type": "code",
   "execution_count": null,
   "metadata": {
    "ExecuteTime": {
     "end_time": "2023-12-05T10:48:34.372181Z",
     "start_time": "2023-12-05T10:48:34.368320Z"
    },
    "execution": {
     "iopub.execute_input": "2024-05-27T19:18:03.488818Z",
     "iopub.status.busy": "2024-05-27T19:18:03.488686Z",
     "iopub.status.idle": "2024-05-27T19:18:03.492450Z",
     "shell.execute_reply": "2024-05-27T19:18:03.492083Z",
     "shell.execute_reply.started": "2024-05-27T19:18:03.488804Z"
    }
   },
   "outputs": [],
   "source": [
    "stem_mask = (adata.obsm['X_palantir_diff_comp'][:,15] > -1) & np.isin(adata.obs['cell_type_annotation_lv1'], 'ISC')\n",
    "max_stem_id = np.argmax(adata.obsm['X_palantir_diff_comp'][stem_mask,9])\n",
    "root_id = np.arange(len(stem_mask))[stem_mask][max_stem_id]\n",
    "adata.uns['iroot'] = root_id"
   ]
  },
  {
   "cell_type": "code",
   "execution_count": null,
   "metadata": {
    "ExecuteTime": {
     "end_time": "2023-12-05T10:49:39.314347Z",
     "start_time": "2023-12-05T10:49:37.692375Z"
    },
    "execution": {
     "iopub.execute_input": "2024-05-27T19:18:03.493185Z",
     "iopub.status.busy": "2024-05-27T19:18:03.492951Z",
     "iopub.status.idle": "2024-05-27T19:18:04.961397Z",
     "shell.execute_reply": "2024-05-27T19:18:04.960944Z",
     "shell.execute_reply.started": "2024-05-27T19:18:03.493172Z"
    }
   },
   "outputs": [],
   "source": [
    "scv.pl.scatter(\n",
    "    adata,\n",
    "    basis=\"palantir_diff_comp\",\n",
    "    c=[\"cell_type_annotation_lv1\", root_id],\n",
    "    legend_loc=\"right\",\n",
    "    components=[\"10, 16\"], wspace=1.5\n",
    ")\n",
    "\n",
    "scv.pl.scatter(\n",
    "    adata,\n",
    "    basis='umap',\n",
    "    c=['cell_type_annotation_lv1', root_id],\n",
    "    legend_loc='right',\n",
    "    components=['1, 0'], wspace=1.5\n",
    ")"
   ]
  },
  {
   "cell_type": "code",
   "execution_count": null,
   "metadata": {
    "ExecuteTime": {
     "end_time": "2023-12-05T10:49:39.318627Z",
     "start_time": "2023-12-05T10:49:39.315493Z"
    },
    "execution": {
     "iopub.execute_input": "2024-05-27T19:18:04.962147Z",
     "iopub.status.busy": "2024-05-27T19:18:04.962013Z",
     "iopub.status.idle": "2024-05-27T19:18:04.965137Z",
     "shell.execute_reply": "2024-05-27T19:18:04.964782Z",
     "shell.execute_reply.started": "2024-05-27T19:18:04.962133Z"
    }
   },
   "outputs": [],
   "source": [
    "adata.obs_names[root_id]"
   ]
  },
  {
   "cell_type": "code",
   "execution_count": null,
   "metadata": {
    "ExecuteTime": {
     "end_time": "2023-12-05T10:50:51.175514Z",
     "start_time": "2023-12-05T10:49:39.319611Z"
    },
    "execution": {
     "iopub.execute_input": "2024-05-27T19:18:04.965692Z",
     "iopub.status.busy": "2024-05-27T19:18:04.965574Z",
     "iopub.status.idle": "2024-05-27T19:19:34.705709Z",
     "shell.execute_reply": "2024-05-27T19:19:34.705188Z",
     "shell.execute_reply.started": "2024-05-27T19:18:04.965679Z"
    },
    "scrolled": true
   },
   "outputs": [],
   "source": [
    "palantier = sce.tl.palantir_results(adata, early_cell=adata.obs_names[root_id])"
   ]
  },
  {
   "cell_type": "code",
   "execution_count": null,
   "metadata": {
    "ExecuteTime": {
     "end_time": "2023-12-05T10:50:51.180401Z",
     "start_time": "2023-12-05T10:50:51.176624Z"
    },
    "execution": {
     "iopub.execute_input": "2024-05-27T19:19:34.706547Z",
     "iopub.status.busy": "2024-05-27T19:19:34.706404Z",
     "iopub.status.idle": "2024-05-27T19:19:34.710826Z",
     "shell.execute_reply": "2024-05-27T19:19:34.710403Z",
     "shell.execute_reply.started": "2024-05-27T19:19:34.706532Z"
    }
   },
   "outputs": [],
   "source": [
    "adata.obs['palantir_pseudotime_g1'] = palantier.pseudotime"
   ]
  },
  {
   "cell_type": "code",
   "execution_count": null,
   "metadata": {
    "ExecuteTime": {
     "end_time": "2023-12-05T10:50:51.695406Z",
     "start_time": "2023-12-05T10:50:51.181280Z"
    },
    "execution": {
     "iopub.execute_input": "2024-05-27T19:19:34.711501Z",
     "iopub.status.busy": "2024-05-27T19:19:34.711370Z",
     "iopub.status.idle": "2024-05-27T19:19:35.180356Z",
     "shell.execute_reply": "2024-05-27T19:19:35.179877Z",
     "shell.execute_reply.started": "2024-05-27T19:19:34.711487Z"
    }
   },
   "outputs": [],
   "source": [
    "sc.pl.umap(adata, color=['palantir_pseudotime_g1'], size=7, add_outline=True, alpha=0.7, outline_width=(0.3, 0.0), ncols=4, color_map='turbo')"
   ]
  },
  {
   "cell_type": "code",
   "execution_count": null,
   "metadata": {
    "ExecuteTime": {
     "end_time": "2023-12-05T10:48:34.372181Z",
     "start_time": "2023-12-05T10:48:34.368320Z"
    },
    "execution": {
     "iopub.execute_input": "2024-05-27T19:19:35.181033Z",
     "iopub.status.busy": "2024-05-27T19:19:35.180908Z",
     "iopub.status.idle": "2024-05-27T19:19:35.184867Z",
     "shell.execute_reply": "2024-05-27T19:19:35.184455Z",
     "shell.execute_reply.started": "2024-05-27T19:19:35.181020Z"
    }
   },
   "outputs": [],
   "source": [
    "stem_mask = (adata.obsm['X_palantir_diff_comp'][:,9] > 0) & np.isin(adata.obs['initial_cell_type'], 'ISC')\n",
    "max_stem_id = np.argmax(adata.obsm['X_palantir_diff_comp'][stem_mask,15])\n",
    "root_id = np.arange(len(stem_mask))[stem_mask][max_stem_id]\n",
    "adata.uns['iroot'] = root_id"
   ]
  },
  {
   "cell_type": "code",
   "execution_count": null,
   "metadata": {
    "ExecuteTime": {
     "end_time": "2023-12-05T10:49:39.314347Z",
     "start_time": "2023-12-05T10:49:37.692375Z"
    },
    "execution": {
     "iopub.execute_input": "2024-05-27T19:19:35.185442Z",
     "iopub.status.busy": "2024-05-27T19:19:35.185326Z",
     "iopub.status.idle": "2024-05-27T19:19:36.656917Z",
     "shell.execute_reply": "2024-05-27T19:19:36.656430Z",
     "shell.execute_reply.started": "2024-05-27T19:19:35.185430Z"
    }
   },
   "outputs": [],
   "source": [
    "scv.pl.scatter(\n",
    "    adata,\n",
    "    basis=\"palantir_diff_comp\",\n",
    "    c=[\"initial_cell_type\", root_id],\n",
    "    legend_loc=\"right\",\n",
    "    components=[\"10, 16\"], wspace=0.75\n",
    ")\n",
    "\n",
    "scv.pl.scatter(\n",
    "    adata,\n",
    "    basis='umap',\n",
    "    c=['cell_type_annotation_lv1', root_id],\n",
    "    legend_loc='right',\n",
    "    components=['1, 0'], wspace=1.2\n",
    ")"
   ]
  },
  {
   "cell_type": "code",
   "execution_count": null,
   "metadata": {
    "ExecuteTime": {
     "end_time": "2023-12-05T10:49:39.318627Z",
     "start_time": "2023-12-05T10:49:39.315493Z"
    },
    "execution": {
     "iopub.execute_input": "2024-05-27T19:19:36.657606Z",
     "iopub.status.busy": "2024-05-27T19:19:36.657476Z",
     "iopub.status.idle": "2024-05-27T19:19:36.660902Z",
     "shell.execute_reply": "2024-05-27T19:19:36.660508Z",
     "shell.execute_reply.started": "2024-05-27T19:19:36.657590Z"
    }
   },
   "outputs": [],
   "source": [
    "adata.obs_names[root_id]"
   ]
  },
  {
   "cell_type": "code",
   "execution_count": null,
   "metadata": {
    "ExecuteTime": {
     "end_time": "2023-12-05T10:50:51.175514Z",
     "start_time": "2023-12-05T10:49:39.319611Z"
    },
    "execution": {
     "iopub.execute_input": "2024-05-27T19:19:36.661470Z",
     "iopub.status.busy": "2024-05-27T19:19:36.661353Z",
     "iopub.status.idle": "2024-05-27T19:20:14.235851Z",
     "shell.execute_reply": "2024-05-27T19:20:14.235182Z",
     "shell.execute_reply.started": "2024-05-27T19:19:36.661458Z"
    },
    "scrolled": true
   },
   "outputs": [],
   "source": [
    "palantier = sce.tl.palantir_results(adata, early_cell=adata.obs_names[root_id])"
   ]
  },
  {
   "cell_type": "code",
   "execution_count": null,
   "metadata": {
    "ExecuteTime": {
     "end_time": "2023-12-05T10:50:51.180401Z",
     "start_time": "2023-12-05T10:50:51.176624Z"
    },
    "execution": {
     "iopub.execute_input": "2024-05-27T19:20:14.236665Z",
     "iopub.status.busy": "2024-05-27T19:20:14.236527Z",
     "iopub.status.idle": "2024-05-27T19:20:14.241009Z",
     "shell.execute_reply": "2024-05-27T19:20:14.240516Z",
     "shell.execute_reply.started": "2024-05-27T19:20:14.236651Z"
    }
   },
   "outputs": [],
   "source": [
    "adata.obs['palantir_pseudotime_g2m'] = palantier.pseudotime"
   ]
  },
  {
   "cell_type": "code",
   "execution_count": null,
   "metadata": {
    "ExecuteTime": {
     "end_time": "2023-12-05T10:50:51.695406Z",
     "start_time": "2023-12-05T10:50:51.181280Z"
    },
    "execution": {
     "iopub.execute_input": "2024-05-27T19:20:14.241853Z",
     "iopub.status.busy": "2024-05-27T19:20:14.241722Z",
     "iopub.status.idle": "2024-05-27T19:20:14.716676Z",
     "shell.execute_reply": "2024-05-27T19:20:14.716080Z",
     "shell.execute_reply.started": "2024-05-27T19:20:14.241840Z"
    }
   },
   "outputs": [],
   "source": [
    "sc.pl.umap(adata, color=['palantir_pseudotime_g2m'], size=7, add_outline=True, alpha=0.7, outline_width=(0.3, 0.0), ncols=1, color_map='turbo')"
   ]
  },
  {
   "cell_type": "code",
   "execution_count": null,
   "metadata": {
    "ExecuteTime": {
     "end_time": "2023-12-05T11:09:01.554620Z",
     "start_time": "2023-12-05T11:09:01.545509Z"
    },
    "execution": {
     "iopub.execute_input": "2024-05-27T19:20:14.717485Z",
     "iopub.status.busy": "2024-05-27T19:20:14.717346Z",
     "iopub.status.idle": "2024-05-27T19:20:14.726574Z",
     "shell.execute_reply": "2024-05-27T19:20:14.726073Z",
     "shell.execute_reply.started": "2024-05-27T19:20:14.717471Z"
    }
   },
   "outputs": [],
   "source": [
    "adata.obs['palantir_pseudotime'] = adata.obs.loc[:,['palantir_pseudotime_g1','palantir_pseudotime_g2m']].mean(axis=1)\n",
    "adata.obs['palantir_pseudotime'] = adata.obs['palantir_pseudotime'] - min(adata.obs['palantir_pseudotime'])\n",
    "adata.obs['palantir_pseudotime'] = adata.obs['palantir_pseudotime']/max(adata.obs['palantir_pseudotime'])"
   ]
  },
  {
   "cell_type": "code",
   "execution_count": null,
   "metadata": {
    "ExecuteTime": {
     "end_time": "2023-12-05T10:48:36.569300Z",
     "start_time": "2023-12-05T10:48:36.091535Z"
    },
    "execution": {
     "iopub.execute_input": "2024-05-27T19:20:14.727515Z",
     "iopub.status.busy": "2024-05-27T19:20:14.727146Z",
     "iopub.status.idle": "2024-05-27T19:20:16.009468Z",
     "shell.execute_reply": "2024-05-27T19:20:16.008868Z",
     "shell.execute_reply.started": "2024-05-27T19:20:14.727500Z"
    }
   },
   "outputs": [],
   "source": [
    "sc.pl.umap(adata, color=['palantir_pseudotime','palantir_pseudotime_g1','palantir_pseudotime_g2m'], title=['palantir pseudotime','palantir pseudotime g1','palantir pseudotime g2m'], size=7, add_outline=True, alpha=1, outline_width=(0.3, 0.0), ncols=3, color_map='turbo', save = 'umaps_palantir.png')"
   ]
  },
  {
   "cell_type": "code",
   "execution_count": null,
   "metadata": {
    "ExecuteTime": {
     "end_time": "2023-12-05T10:48:36.972735Z",
     "start_time": "2023-12-05T10:48:36.570287Z"
    },
    "execution": {
     "iopub.execute_input": "2024-05-27T19:20:16.010298Z",
     "iopub.status.busy": "2024-05-27T19:20:16.010164Z",
     "iopub.status.idle": "2024-05-27T19:20:18.150567Z",
     "shell.execute_reply": "2024-05-27T19:20:18.149977Z",
     "shell.execute_reply.started": "2024-05-27T19:20:16.010284Z"
    }
   },
   "outputs": [],
   "source": [
    "with rc_context({'figure.figsize': (6, 4)}):\n",
    "    sc.pl.violin(adata, use_raw=False, keys=['palantir_pseudotime','palantir_pseudotime_g1','palantir_pseudotime_g2m'], groupby='cell_type_annotation_lv1', rotation=90)"
   ]
  },
  {
   "cell_type": "code",
   "execution_count": null,
   "metadata": {
    "ExecuteTime": {
     "end_time": "2023-12-05T11:08:23.081536Z",
     "start_time": "2023-12-05T11:08:06.377135Z"
    },
    "execution": {
     "iopub.execute_input": "2024-05-27T19:20:18.151370Z",
     "iopub.status.busy": "2024-05-27T19:20:18.151239Z",
     "iopub.status.idle": "2024-05-27T19:21:21.133813Z",
     "shell.execute_reply": "2024-05-27T19:21:21.133208Z",
     "shell.execute_reply.started": "2024-05-27T19:20:18.151357Z"
    },
    "scrolled": true
   },
   "outputs": [],
   "source": [
    "pk_g1 = cr.kernels.PseudotimeKernel(adata, time_key='palantir_pseudotime_g1')\n",
    "pk_g1.compute_transition_matrix(n_jobs=-1)\n",
    "pk_g1.plot_projection(color='cell_type_annotation_lv1', recompute=True, legend_loc='none')\n",
    "pk_g1.write('adata_markedDoublets_mergedPeaks_normalized_initialAnno_rmDoublets_integrated_imputed_annotated_crKernel_palantir_pseudotime_g1.plk', write_adata=False)"
   ]
  },
  {
   "cell_type": "code",
   "execution_count": null,
   "metadata": {
    "ExecuteTime": {
     "end_time": "2023-12-05T11:08:23.081536Z",
     "start_time": "2023-12-05T11:08:06.377135Z"
    },
    "execution": {
     "iopub.execute_input": "2024-05-27T19:21:21.134686Z",
     "iopub.status.busy": "2024-05-27T19:21:21.134545Z",
     "iopub.status.idle": "2024-05-27T19:21:34.914267Z",
     "shell.execute_reply": "2024-05-27T19:21:34.913688Z",
     "shell.execute_reply.started": "2024-05-27T19:21:21.134672Z"
    }
   },
   "outputs": [],
   "source": [
    "pk_g2m = cr.kernels.PseudotimeKernel(adata, time_key='palantir_pseudotime_g2m')\n",
    "pk_g2m.compute_transition_matrix(n_jobs=-1)\n",
    "pk_g2m.plot_projection(color='cell_type_annotation_lv1', recompute=True, legend_loc='none')\n",
    "pk_g2m.write(fname='adata_markedDoublets_mergedPeaks_normalized_initialAnno_rmDoublets_integrated_imputed_annotated_crKernel_palantir_pseudotime_g2m.plk', write_adata=False)"
   ]
  },
  {
   "cell_type": "code",
   "execution_count": null,
   "metadata": {
    "ExecuteTime": {
     "end_time": "2023-12-05T11:08:23.081536Z",
     "start_time": "2023-12-05T11:08:06.377135Z"
    },
    "execution": {
     "iopub.execute_input": "2024-05-27T19:21:34.915045Z",
     "iopub.status.busy": "2024-05-27T19:21:34.914916Z",
     "iopub.status.idle": "2024-05-27T19:21:48.708927Z",
     "shell.execute_reply": "2024-05-27T19:21:48.708326Z",
     "shell.execute_reply.started": "2024-05-27T19:21:34.915030Z"
    }
   },
   "outputs": [],
   "source": [
    "pk = cr.kernels.PseudotimeKernel(adata, time_key='palantir_pseudotime')\n",
    "pk.compute_transition_matrix(n_jobs=-1)\n",
    "pk.plot_projection(color='cell_type_annotation_lv1', recompute=True, legend_loc='none', save= 'umap_transoition_palantir.png')\n",
    "pk.write(fname='adata_markedDoublets_mergedPeaks_normalized_initialAnno_rmDoublets_integrated_imputed_annotated_crKernel_palantir_pseudotime.plk', write_adata=False)"
   ]
  },
  {
   "cell_type": "markdown",
   "metadata": {},
   "source": [
    "### Combine Kernels"
   ]
  },
  {
   "cell_type": "code",
   "execution_count": null,
   "metadata": {
    "ExecuteTime": {
     "end_time": "2023-12-05T11:09:02.413907Z",
     "start_time": "2023-12-05T11:09:02.411393Z"
    },
    "execution": {
     "iopub.execute_input": "2024-05-27T19:21:48.709776Z",
     "iopub.status.busy": "2024-05-27T19:21:48.709642Z",
     "iopub.status.idle": "2024-05-27T19:21:48.712869Z",
     "shell.execute_reply": "2024-05-27T19:21:48.712356Z",
     "shell.execute_reply.started": "2024-05-27T19:21:48.709761Z"
    }
   },
   "outputs": [],
   "source": [
    "pseudotime_kernel = 1/4 * dptk_g1 + 1/4 * dptk_g2m + 1/4 * pk_g1 + 1/4 * pk_g2m"
   ]
  },
  {
   "cell_type": "code",
   "execution_count": null,
   "metadata": {},
   "outputs": [],
   "source": [
    "pseudotime_kernel.write(fname='adata_markedDoublets_mergedPeaks_normalized_initialAnno_rmDoublets_integrated_imputed_annotated_crKernel_pseudotime_pseudotime.plk', write_adata=True)"
   ]
  },
  {
   "cell_type": "code",
   "execution_count": null,
   "metadata": {},
   "outputs": [],
   "source": [
    "# Load the kernel from the file\n",
    "with open('adata_markedDoublets_mergedPeaks_normalized_initialAnno_rmDoublets_integrated_imputed_annotated_crKernel_pseudotime_pseudotime.plk', 'rb') as file:\n",
    "    pseudotime_kernel = pickle.load(file)"
   ]
  },
  {
   "cell_type": "code",
   "execution_count": null,
   "metadata": {},
   "outputs": [],
   "source": [
    "pseudotime_kernel"
   ]
  },
  {
   "cell_type": "code",
   "execution_count": null,
   "metadata": {},
   "outputs": [],
   "source": [
    "adata = pseudotime_kernel.adata.copy()"
   ]
  },
  {
   "cell_type": "code",
   "execution_count": null,
   "metadata": {},
   "outputs": [],
   "source": [
    "with rc_context({'figure.figsize':(10,7)}):\n",
    "    sc.pl.violin(\n",
    "        adata,\n",
    "        keys=[\"dpt_pseudotime\", \"palantir_pseudotime\"],\n",
    "        groupby=\"cell_type_annotation_lv1\",\n",
    "        rotation=90,\n",
    "    )"
   ]
  },
  {
   "cell_type": "code",
   "execution_count": null,
   "metadata": {},
   "outputs": [],
   "source": [
    "with rc_context({'figure.figsize':(8,8)}):\n",
    "    sc.pl.umap(adata, color=['palantir_pseudotime','dpt_pseudotime'], size=7, add_outline=True, alpha=0.7, outline_width=(0.3, 0.0), ncols=2, color_map='turbo', show = False, title=['Palantir pseudotime', 'Diffusion pseudotime'])\n",
    "    #sc.pl.umap(adata, color=['dpt_pseudotime'], size=7, add_outline=True, alpha=0.7, outline_width=(0.3, 0.0), ncols=2, color_map='turbo', show = False)\n",
    "    plt.show()\n"
   ]
  },
  {
   "cell_type": "code",
   "execution_count": null,
   "metadata": {},
   "outputs": [],
   "source": [
    "adata.obs['pseudotime'] = adata.obs.loc[:,['palantir_pseudotime','dpt_pseudotime']].mean(axis=1) #'sct_pseudotime' #'ct_pseudotime', 'sctour_pseudotime', \n",
    "adata.obs['pseudotime'] = adata.obs['pseudotime'] - min(adata.obs['pseudotime'])\n",
    "adata.obs['pseudotime'] = adata.obs['pseudotime']/max(adata.obs['pseudotime'])"
   ]
  },
  {
   "cell_type": "code",
   "execution_count": null,
   "metadata": {},
   "outputs": [],
   "source": [
    "with rc_context({'figure.figsize':(8,8)}):\n",
    "    sc.pl.umap(adata, color=['pseudotime'], size=7, add_outline=True, alpha=1, outline_width=(0.3, 0.0), ncols=4, color_map='turbo')"
   ]
  },
  {
   "cell_type": "code",
   "execution_count": null,
   "metadata": {},
   "outputs": [],
   "source": [
    "with rc_context({'figure.figsize': (6, 4)}):\n",
    "    sc.pl.violin(adata, use_raw=False, keys=['pseudotime'], groupby='cell_type_annotation_lv1', rotation=90)"
   ]
  },
  {
   "cell_type": "code",
   "execution_count": null,
   "metadata": {},
   "outputs": [],
   "source": [
    "pk = cr.kernels.PseudotimeKernel(adata, time_key='pseudotime')\n",
    "pk.compute_transition_matrix(n_jobs=-1)\n",
    "pk.plot_projection(color='cell_type_annotation_lv1', recompute=True, legend_loc='none', save= 'umap_transoition_pseudotime_combined.png')"
   ]
  },
  {
   "cell_type": "markdown",
   "metadata": {},
   "source": [
    "## Transcriptional Diversity"
   ]
  },
  {
   "cell_type": "markdown",
   "metadata": {},
   "source": [
    "### scTour"
   ]
  },
  {
   "cell_type": "code",
   "execution_count": null,
   "metadata": {},
   "outputs": [],
   "source": [
    "adata = sc.read_h5ad('adata_NB6_CR_save_before_scTour.h5ad')"
   ]
  },
  {
   "cell_type": "code",
   "execution_count": null,
   "metadata": {},
   "outputs": [],
   "source": [
    "adata"
   ]
  },
  {
   "cell_type": "code",
   "execution_count": null,
   "metadata": {},
   "outputs": [],
   "source": [
    "import sctour as sct"
   ]
  },
  {
   "cell_type": "raw",
   "metadata": {},
   "source": [
    "adata.write('adata_NB6_CR_save_before_scTour.h5ad')"
   ]
  },
  {
   "cell_type": "code",
   "execution_count": null,
   "metadata": {},
   "outputs": [],
   "source": [
    "adata_multi= adata[adata.obs['sequencing']=='single nucleus'].copy()\n",
    "adata_sc= adata[adata.obs['sequencing']!='single nucleus'].copy()"
   ]
  },
  {
   "cell_type": "code",
   "execution_count": null,
   "metadata": {},
   "outputs": [],
   "source": [
    "adata_multi"
   ]
  },
  {
   "cell_type": "code",
   "execution_count": null,
   "metadata": {},
   "outputs": [],
   "source": [
    "adata_sc"
   ]
  },
  {
   "cell_type": "code",
   "execution_count": null,
   "metadata": {},
   "outputs": [],
   "source": [
    "#adata_sct = adata.copy()\n",
    "del adata\n",
    "gc.collect()"
   ]
  },
  {
   "cell_type": "code",
   "execution_count": null,
   "metadata": {},
   "outputs": [],
   "source": [
    "gc.collect()"
   ]
  },
  {
   "cell_type": "markdown",
   "metadata": {},
   "source": [
    "#### atac sctour"
   ]
  },
  {
   "cell_type": "code",
   "execution_count": null,
   "metadata": {},
   "outputs": [],
   "source": [
    "adata_multi.X = adata_multi.layers['raw_counts'] #.todense() #sc.pp.calc_qc_metrics does not work with dense matrix?!"
   ]
  },
  {
   "cell_type": "code",
   "execution_count": null,
   "metadata": {},
   "outputs": [],
   "source": [
    "adata_multi.X"
   ]
  },
  {
   "cell_type": "code",
   "execution_count": null,
   "metadata": {},
   "outputs": [],
   "source": [
    "sc.pp.calculate_qc_metrics(adata_multi, percent_top=None, log1p=False, inplace=True)"
   ]
  },
  {
   "cell_type": "code",
   "execution_count": null,
   "metadata": {},
   "outputs": [],
   "source": [
    "#adata_multi.X = adata_multi.layers['log_dca_counts'].copy() #for loss_mode mse use log counts"
   ]
  },
  {
   "cell_type": "code",
   "execution_count": null,
   "metadata": {},
   "outputs": [],
   "source": [
    "tnode = sct.train.Trainer(adata_multi, loss_mode='nb', percent=0.5, alpha_recon_lec=0.8, alpha_recon_lode=0.2, n_latent=20, n_ode_hidden=50, n_vae_hidden=256) #loss_mode= 'mse'\n",
    "tnode.train()"
   ]
  },
  {
   "cell_type": "code",
   "execution_count": null,
   "metadata": {},
   "outputs": [],
   "source": [
    "adata_multi.obs['sctour_pseudotime'] = tnode.get_time()"
   ]
  },
  {
   "cell_type": "code",
   "execution_count": null,
   "metadata": {},
   "outputs": [],
   "source": [
    "mix_zs, zs, pred_zs = tnode.get_latentsp(alpha_z=0.5, alpha_predz=0.5)\n",
    "adata_multi.obsm['X_scTour'] = mix_zs"
   ]
  },
  {
   "cell_type": "code",
   "execution_count": null,
   "metadata": {},
   "outputs": [],
   "source": [
    "adata_multi.obsm['X_scTourVF'] = tnode.get_vector_field(adata_multi.obs['sctour_pseudotime'].values, adata_multi.obsm['X_scTour'])"
   ]
  },
  {
   "cell_type": "code",
   "execution_count": null,
   "metadata": {},
   "outputs": [],
   "source": [
    "sc.pl.umap(adata_multi, color=['sctour_pseudotime', 'sequencing'], size=7, add_outline=True, alpha=1, outline_width=(0.3, 0.0), ncols=4, color_map='turbo')"
   ]
  },
  {
   "cell_type": "code",
   "execution_count": null,
   "metadata": {},
   "outputs": [],
   "source": [
    "sct.vf.plot_vector_field(adata_multi, zs_key='X_scTour', vf_key='X_scTourVF', use_rep_neigh='X_scANVI', color='cell_type_annotation_lv1', show=False, legend_loc='none', frameon=False, size=50, alpha=0.2)"
   ]
  },
  {
   "cell_type": "code",
   "execution_count": null,
   "metadata": {},
   "outputs": [],
   "source": [
    "with rc_context({'figure.figsize': (6, 4)}):\n",
    "    sc.pl.violin(adata_multi, use_raw=False, keys=['sctour_pseudotime'], groupby='cell_type_annotation_lv1', rotation=90)"
   ]
  },
  {
   "cell_type": "markdown",
   "metadata": {},
   "source": [
    "#### sc rna sctour"
   ]
  },
  {
   "cell_type": "code",
   "execution_count": null,
   "metadata": {},
   "outputs": [],
   "source": [
    "adata_sc.X = adata_sc.layers['raw_counts']#.todense()"
   ]
  },
  {
   "cell_type": "code",
   "execution_count": null,
   "metadata": {},
   "outputs": [],
   "source": [
    "sc.pp.calculate_qc_metrics(adata_sc, percent_top=None, log1p=False, inplace=True)"
   ]
  },
  {
   "cell_type": "code",
   "execution_count": null,
   "metadata": {},
   "outputs": [],
   "source": [
    "#adata_sc.X = adata_sc.layers['log_dca_counts'].copy() #for loss_mode mse use log counts, nb for raw counts"
   ]
  },
  {
   "cell_type": "code",
   "execution_count": null,
   "metadata": {},
   "outputs": [],
   "source": [
    "tnode = sct.train.Trainer(adata_sc, loss_mode='nb', percent=0.5, alpha_recon_lec=0.8, alpha_recon_lode=0.2, n_latent=20, n_ode_hidden=50, n_vae_hidden=256) #loss_mode= 'mse'\n",
    "tnode.train()"
   ]
  },
  {
   "cell_type": "code",
   "execution_count": null,
   "metadata": {},
   "outputs": [],
   "source": [
    "adata_sc.obs['sctour_pseudotime'] = tnode.get_time()"
   ]
  },
  {
   "cell_type": "code",
   "execution_count": null,
   "metadata": {},
   "outputs": [],
   "source": [
    "mix_zs, zs, pred_zs = tnode.get_latentsp(alpha_z=0.5, alpha_predz=0.5)\n",
    "adata_sc.obsm['X_scTour'] = mix_zs"
   ]
  },
  {
   "cell_type": "code",
   "execution_count": null,
   "metadata": {},
   "outputs": [],
   "source": [
    "adata_sc.obsm['X_scTourVF'] = tnode.get_vector_field(adata_sc.obs['sctour_pseudotime'].values, adata_sc.obsm['X_scTour'])"
   ]
  },
  {
   "cell_type": "code",
   "execution_count": null,
   "metadata": {},
   "outputs": [],
   "source": [
    "sc.pl.umap(adata_sc, color=['sctour_pseudotime', 'sequencing'], size=7, add_outline=True, alpha=1, outline_width=(0.3, 0.0), ncols=4, color_map='turbo')"
   ]
  },
  {
   "cell_type": "code",
   "execution_count": null,
   "metadata": {},
   "outputs": [],
   "source": [
    "sct.vf.plot_vector_field(adata_sc, zs_key='X_scTour', vf_key='X_scTourVF', use_rep_neigh='X_scANVI', color='cell_type_annotation_lv1', show=False, legend_loc='none', frameon=False, size=50, alpha=0.2)"
   ]
  },
  {
   "cell_type": "code",
   "execution_count": null,
   "metadata": {},
   "outputs": [],
   "source": [
    "with rc_context({'figure.figsize': (6, 4)}):\n",
    "    sc.pl.violin(adata_sc, use_raw=False, keys=['sctour_pseudotime'], groupby='cell_type_annotation_lv1', rotation=90)"
   ]
  },
  {
   "cell_type": "markdown",
   "metadata": {},
   "source": [
    "#### concat results - necessary?!"
   ]
  },
  {
   "cell_type": "raw",
   "metadata": {},
   "source": [
    "adata_sc.write('sctour_adata_sc.h5ad')\n",
    "del adata_sc\n",
    "gc.collect()"
   ]
  },
  {
   "cell_type": "raw",
   "metadata": {},
   "source": [
    "adata_multi.write('sctour_adata_sn.h5ad')\n",
    "del adata_multi\n",
    "gc.collect()"
   ]
  },
  {
   "cell_type": "code",
   "execution_count": null,
   "metadata": {},
   "outputs": [],
   "source": [
    "del adata_sc\n",
    "del adata_multi\n",
    "gc.collect()"
   ]
  },
  {
   "cell_type": "code",
   "execution_count": null,
   "metadata": {},
   "outputs": [],
   "source": [
    "adata_sc= sc.read_h5ad('sctour_adata_sc.h5ad')"
   ]
  },
  {
   "cell_type": "code",
   "execution_count": null,
   "metadata": {},
   "outputs": [],
   "source": [
    "adata_multi= sc.read_h5ad('sctour_adata_sn.h5ad')"
   ]
  },
  {
   "cell_type": "code",
   "execution_count": null,
   "metadata": {},
   "outputs": [],
   "source": [
    "adata_multi"
   ]
  },
  {
   "cell_type": "code",
   "execution_count": null,
   "metadata": {},
   "outputs": [],
   "source": [
    "adata_sc"
   ]
  },
  {
   "cell_type": "markdown",
   "metadata": {},
   "source": [
    "#### add back to adata"
   ]
  },
  {
   "cell_type": "code",
   "execution_count": null,
   "metadata": {},
   "outputs": [],
   "source": [
    "adata = sc.read_h5ad('adata_NB6_CR_save_before_scTour.h5ad')"
   ]
  },
  {
   "cell_type": "code",
   "execution_count": null,
   "metadata": {},
   "outputs": [],
   "source": [
    "adata"
   ]
  },
  {
   "cell_type": "code",
   "execution_count": null,
   "metadata": {},
   "outputs": [],
   "source": [
    "# Create a full array to store the scTour results\n",
    "X_scTour_full = np.full((adata.shape[0], 20), np.nan)  # Assuming scTour results have 2 dimensions\n",
    "X_scTourVF_full = np.full((adata.shape[0], 20), np.nan)  # Assuming scTour results have 2 dimensions\n",
    "sc_tour_pseudotime = np.full((adata.shape[0],), np.nan)  # Assuming scTour results have 2 dimensions"
   ]
  },
  {
   "cell_type": "code",
   "execution_count": null,
   "metadata": {},
   "outputs": [],
   "source": [
    "# Assign the scTour results from single cell and single nucleus back to the full array\n",
    "X_scTour_full[adata.obs['sequencing'] == 'single cell'] = adata_sc.obsm['X_scTour']\n",
    "X_scTourVF_full[adata.obs['sequencing'] == 'single cell'] = adata_sc.obsm['X_scTourVF']\n",
    "sc_tour_pseudotime[adata.obs['sequencing'] == 'single cell'] = adata_sc.obs['sctour_pseudotime']"
   ]
  },
  {
   "cell_type": "code",
   "execution_count": null,
   "metadata": {},
   "outputs": [],
   "source": [
    "del adata_sc\n",
    "gc.collect()"
   ]
  },
  {
   "cell_type": "code",
   "execution_count": null,
   "metadata": {},
   "outputs": [],
   "source": [
    "# multiome\n",
    "X_scTour_full[adata.obs['sequencing'] == 'single nucleus'] = adata_multi.obsm['X_scTour']\n",
    "X_scTourVF_full[adata.obs['sequencing'] == 'single nucleus'] = adata_multi.obsm['X_scTourVF']\n",
    "sc_tour_pseudotime[adata.obs['sequencing'] == 'single nucleus'] = adata_multi.obs['sctour_pseudotime']"
   ]
  },
  {
   "cell_type": "code",
   "execution_count": null,
   "metadata": {},
   "outputs": [],
   "source": [
    "# Set the full array back to adata\n",
    "adata.obsm['X_scTour'] = X_scTour_full\n",
    "adata.obsm['X_scTour'] = X_scTourVF_full\n",
    "adata.obs['sctour_pseudotime'] = sc_tour_pseudotime"
   ]
  },
  {
   "cell_type": "code",
   "execution_count": null,
   "metadata": {},
   "outputs": [],
   "source": [
    "adata.obs['sctour_pseudotime']"
   ]
  },
  {
   "cell_type": "code",
   "execution_count": null,
   "metadata": {},
   "outputs": [],
   "source": [
    "del adata_multi\n",
    "gc.collect()"
   ]
  },
  {
   "cell_type": "code",
   "execution_count": null,
   "metadata": {},
   "outputs": [],
   "source": [
    "sctk = cr.kernels.PseudotimeKernel(adata, time_key='sctour_pseudotime')\n",
    "sctk.compute_transition_matrix(n_jobs=-1)\n",
    "sctk.plot_projection(color='cell_type_annotation_lv1', recompute=True, legend_loc='none')\n",
    "sctk.write(fname='adata_markedDoublets_mergedPeaks_normalized_initialAnno_rmDoublets_integrated_imputed_annotated_crKernel_sctour_pseudotime.plk', write_adata=False)"
   ]
  },
  {
   "cell_type": "markdown",
   "metadata": {},
   "source": [
    "### CytoTRACE"
   ]
  },
  {
   "cell_type": "raw",
   "metadata": {},
   "source": [
    "adata.X = adata.layers['sct_logcounts'].copy()"
   ]
  },
  {
   "cell_type": "raw",
   "metadata": {},
   "source": [
    "ctk = cr.kernels.CytoTRACEKernel(adata)\n",
    "ctk.compute_cytotrace(layer='log_dca_counts', aggregation='mean', use_raw=False, n_genes=200)"
   ]
  },
  {
   "cell_type": "markdown",
   "metadata": {},
   "source": [
    "### Cytotrace imputing standart"
   ]
  },
  {
   "cell_type": "markdown",
   "metadata": {},
   "source": [
    "#### save state"
   ]
  },
  {
   "cell_type": "code",
   "execution_count": null,
   "metadata": {},
   "outputs": [],
   "source": [
    "adata.write('adata_save_NB6_CR_Cytotrace.h5ad')"
   ]
  },
  {
   "cell_type": "code",
   "execution_count": null,
   "metadata": {},
   "outputs": [],
   "source": [
    "adata = sc.read_h5ad('adata_save_NB6_CR_Cytotrace.h5ad')"
   ]
  },
  {
   "cell_type": "code",
   "execution_count": null,
   "metadata": {},
   "outputs": [],
   "source": [
    "adata_multi= adata[adata.obs['sequencing']=='single nucleus'].copy()\n",
    "adata_sc= adata[adata.obs['sequencing']!='single nucleus'].copy()"
   ]
  },
  {
   "cell_type": "code",
   "execution_count": null,
   "metadata": {},
   "outputs": [],
   "source": [
    "del adata\n",
    "gc.collect()"
   ]
  },
  {
   "cell_type": "code",
   "execution_count": null,
   "metadata": {},
   "outputs": [],
   "source": [
    "# CytoTRACE by default uses imputed data - a simple way to compute\n",
    "# k-NN imputed data is to use scVelo's moments function.\n",
    "# However, note that this function expects `spliced` counts because\n",
    "# it's designed for RNA velocity, so we're using a simple hack here:\n",
    "for adatas in [adata_multi, adata_sc]:\n",
    "    if 'spliced' not in adatas.layers or 'unspliced' not in adatas.layers:\n",
    "        adatas.layers['spliced'] = adatas.X\n",
    "        adatas.layers['unspliced'] = adatas.X\n",
    "    adatas.X = adatas.layers['raw_counts']\n",
    "\n",
    "    sc.pp.pca(adatas)\n",
    "    sc.pp.neighbors(adatas, n_pcs=30, n_neighbors=30)\n",
    "    scv.pp.moments(adatas,n_pcs=None, n_neighbors=None) #https://github.com/theislab/scvelo/issues/1212"
   ]
  },
  {
   "cell_type": "code",
   "execution_count": null,
   "metadata": {},
   "outputs": [],
   "source": [
    "ctk = cr.kernels.CytoTRACEKernel(adata_sc)\n",
    "ckt = ctk.compute_cytotrace(aggregation='mean', n_genes=200) #also tried wo aggregation (dflt = CytoTRACEKernel.MEAN) and ngenes (dflt = all)"
   ]
  },
  {
   "cell_type": "code",
   "execution_count": null,
   "metadata": {},
   "outputs": [],
   "source": [
    "ctk2 = cr.kernels.CytoTRACEKernel(adata_multi)\n",
    "ckt2 = ctk2.compute_cytotrace(aggregation='mean', n_genes=200) #also tried wo aggregation (dflt = CytoTRACEKernel.MEAN) and ngenes (dflt = all)"
   ]
  },
  {
   "cell_type": "code",
   "execution_count": null,
   "metadata": {},
   "outputs": [],
   "source": [
    "gc.collect()"
   ]
  },
  {
   "cell_type": "code",
   "execution_count": null,
   "metadata": {},
   "outputs": [],
   "source": [
    "ctk.compute_transition_matrix(n_jobs=-1, threshold_scheme='hard')\n",
    "ctk.plot_projection(color='cell_type_annotation_lv1', legend_loc='none')"
   ]
  },
  {
   "cell_type": "code",
   "execution_count": null,
   "metadata": {},
   "outputs": [],
   "source": [
    "ctk2.compute_transition_matrix(n_jobs=-1, threshold_scheme='hard')\n",
    "ctk2.plot_projection(color='cell_type_annotation_lv1', legend_loc='none')"
   ]
  },
  {
   "cell_type": "code",
   "execution_count": null,
   "metadata": {},
   "outputs": [],
   "source": [
    "gc.collect()"
   ]
  },
  {
   "cell_type": "code",
   "execution_count": null,
   "metadata": {},
   "outputs": [],
   "source": [
    "adata = sc.read_h5ad('adata_save_NB6_CR_Cytotrace.h5ad')"
   ]
  },
  {
   "cell_type": "code",
   "execution_count": null,
   "metadata": {},
   "outputs": [],
   "source": [
    "# Create a full array to store the scTour results\n",
    "ct_pseudotime = np.full((adata.shape[0],), np.nan)  # Assuming scTour results have 20 dimensions\n"
   ]
  },
  {
   "cell_type": "code",
   "execution_count": null,
   "metadata": {},
   "outputs": [],
   "source": [
    "# Assign the scTour results from single cell and single nucleus back to the full array\n",
    "ct_pseudotime[adata.obs['sequencing'] == 'single cell'] = adata_sc.obs['ct_pseudotime']"
   ]
  },
  {
   "cell_type": "code",
   "execution_count": null,
   "metadata": {},
   "outputs": [],
   "source": [
    "del adata_sc\n",
    "gc.collect()"
   ]
  },
  {
   "cell_type": "code",
   "execution_count": null,
   "metadata": {},
   "outputs": [],
   "source": [
    "# multiome\n",
    "ct_pseudotime[adata.obs['sequencing'] == 'single nucleus'] = adata_multi.obs['ct_pseudotime']"
   ]
  },
  {
   "cell_type": "code",
   "execution_count": null,
   "metadata": {},
   "outputs": [],
   "source": [
    "# Set the full array back to adata\n",
    "adata.obs['ct_pseudotime'] = ct_pseudotime"
   ]
  },
  {
   "cell_type": "code",
   "execution_count": null,
   "metadata": {},
   "outputs": [],
   "source": [
    "adata.obs['ct_pseudotime']"
   ]
  },
  {
   "cell_type": "code",
   "execution_count": null,
   "metadata": {},
   "outputs": [],
   "source": [
    "del adata_multi\n",
    "gc.collect()"
   ]
  },
  {
   "cell_type": "code",
   "execution_count": null,
   "metadata": {},
   "outputs": [],
   "source": [
    "sc.pl.umap(adata, color=['ct_pseudotime'], size=7, add_outline=True, alpha=1, outline_width=(0.3, 0.0), ncols=4, color_map='turbo')"
   ]
  },
  {
   "cell_type": "code",
   "execution_count": null,
   "metadata": {},
   "outputs": [],
   "source": [
    "with rc_context({'figure.figsize': (6, 4)}):\n",
    "    sc.pl.violin(adata, use_raw=False, keys=['ct_pseudotime'], groupby='cell_type_annotation_lv1', rotation=90)"
   ]
  },
  {
   "cell_type": "code",
   "execution_count": null,
   "metadata": {},
   "outputs": [],
   "source": [
    "adata"
   ]
  },
  {
   "cell_type": "code",
   "execution_count": null,
   "metadata": {},
   "outputs": [],
   "source": [
    "\n",
    "if 'spliced' not in adata.layers or 'unspliced' not in adata.layers:\n",
    "    adata.layers['spliced'] = adata.X\n",
    "    adata.layers['unspliced'] = adata.X\n",
    "adata.X = adata.layers['raw_counts']\n",
    "\n",
    "sc.pp.pca(adata)\n",
    "sc.pp.neighbors(adata, n_pcs=30, n_neighbors=30)\n",
    "scv.pp.moments(adata,n_pcs=None, n_neighbors=None)"
   ]
  },
  {
   "cell_type": "code",
   "execution_count": null,
   "metadata": {},
   "outputs": [],
   "source": [
    "ctk = cr.kernels.CytoTRACEKernel(adata)\n",
    "ckt = ctk.compute_cytotrace(aggregation='mean', n_genes=200) #also tried wo aggregation (dflt = CytoTRACEKernel.MEAN) and ngenes (dflt = all)"
   ]
  },
  {
   "cell_type": "code",
   "execution_count": null,
   "metadata": {},
   "outputs": [],
   "source": [
    "ctk.write(fname='adata_markedDoublets_mergedPeaks_normalized_initialAnno_rmDoublets_integrated_imputed_annotated_crKernel_cytotrace_pseudotime.plk', write_adata=False)"
   ]
  },
  {
   "cell_type": "markdown",
   "metadata": {},
   "source": [
    "### Combine Kernels"
   ]
  },
  {
   "cell_type": "code",
   "execution_count": null,
   "metadata": {},
   "outputs": [],
   "source": [
    "diversity_kernel = 1/2 * sctk + 1/2 * ctk"
   ]
  },
  {
   "cell_type": "code",
   "execution_count": null,
   "metadata": {},
   "outputs": [],
   "source": [
    "diversity_kernel.write(fname='adata_markedDoublets_mergedPeaks_normalized_initialAnno_rmDoublets_integrated_imputed_annotated_crKernel_diversity_pseudotime.plk', write_adata=False)"
   ]
  },
  {
   "cell_type": "code",
   "execution_count": null,
   "metadata": {},
   "outputs": [],
   "source": [
    "gc.collect()"
   ]
  },
  {
   "cell_type": "code",
   "execution_count": null,
   "metadata": {},
   "outputs": [],
   "source": [
    "adata.write('adata_NB6_CR_Cytotrace_save.h5ad')"
   ]
  },
  {
   "cell_type": "markdown",
   "metadata": {},
   "source": [
    "## RNA Velocity"
   ]
  },
  {
   "cell_type": "markdown",
   "metadata": {},
   "source": [
    "### scVelo"
   ]
  },
  {
   "cell_type": "code",
   "execution_count": null,
   "metadata": {},
   "outputs": [],
   "source": [
    "adata = sc.read_h5ad('/home/idr/helene.reich/adata_scVelo_save.h5ad')"
   ]
  },
  {
   "cell_type": "code",
   "execution_count": null,
   "metadata": {},
   "outputs": [],
   "source": [
    "adata_layers= sc.read_h5ad('/mnt/hdd/data/Healthy/adata_markedDoublets_normalized_initialAnno_rmDoublets_integrated_all.h5ad')"
   ]
  },
  {
   "cell_type": "code",
   "execution_count": null,
   "metadata": {},
   "outputs": [],
   "source": [
    "adata_layers"
   ]
  },
  {
   "cell_type": "code",
   "execution_count": null,
   "metadata": {},
   "outputs": [],
   "source": [
    "vars_names = [name for name in adata.var_names]"
   ]
  },
  {
   "cell_type": "code",
   "execution_count": null,
   "metadata": {},
   "outputs": [],
   "source": [
    "adata_layers = adata_layers[:,vars_names]"
   ]
  },
  {
   "cell_type": "code",
   "execution_count": null,
   "metadata": {},
   "outputs": [],
   "source": [
    "adata.layers['ambiguous'] = adata_layers.layers['ambiguous']\n",
    "adata.layers['spliced'] = adata_layers.layers['spliced']\n",
    "adata.layers['unspliced'] = adata_layers.layers['unspliced']"
   ]
  },
  {
   "cell_type": "code",
   "execution_count": null,
   "metadata": {},
   "outputs": [],
   "source": [
    "del adata_layers\n",
    "gc.collect()"
   ]
  },
  {
   "cell_type": "code",
   "execution_count": null,
   "metadata": {},
   "outputs": [],
   "source": [
    "adata"
   ]
  },
  {
   "cell_type": "code",
   "execution_count": null,
   "metadata": {},
   "outputs": [],
   "source": [
    "del adata.layers['dca_counts']\n",
    "#del adata.layers['log_dca_counts']\n",
    "del adata.layers['sct_counts']\n",
    "del adata.layers['palantir_imp']\n",
    "gc.collect()"
   ]
  },
  {
   "cell_type": "code",
   "execution_count": null,
   "metadata": {},
   "outputs": [],
   "source": [
    "gc.collect()"
   ]
  },
  {
   "cell_type": "code",
   "execution_count": null,
   "metadata": {},
   "outputs": [],
   "source": [
    "adata.X =  adata.layers['raw_counts'].copy()"
   ]
  },
  {
   "cell_type": "code",
   "execution_count": null,
   "metadata": {},
   "outputs": [],
   "source": [
    "scv.pl.proportions( adata, groupby='cell_type_annotation_lv1',fontsize=5, figsize=(9, 3),dpi = 300, save= 'scvelo_splicing_proportions_celltype.png')"
   ]
  },
  {
   "cell_type": "code",
   "execution_count": null,
   "metadata": {},
   "outputs": [],
   "source": [
    "scv.pl.proportions( adata, groupby='sequencing',fontsize=6, figsize=(6, 2),dpi = 300, save= 'scvelo_splicing_proportions_modality.png')"
   ]
  },
  {
   "cell_type": "code",
   "execution_count": null,
   "metadata": {},
   "outputs": [],
   "source": [
    "scv.pl.proportions( adata, groupby='pretty name',fontsize=4.5, figsize=(8, 2),dpi = 300, save= 'scvelo_splicing_proportions_sample.png')"
   ]
  },
  {
   "cell_type": "code",
   "execution_count": null,
   "metadata": {},
   "outputs": [],
   "source": [
    "scv.pp.filter_and_normalize( adata, min_shared_counts=20, n_top_genes=2000, subset_highly_variable=False)\n",
    "gc.collect()"
   ]
  },
  {
   "cell_type": "code",
   "execution_count": null,
   "metadata": {},
   "outputs": [],
   "source": [
    "sc.pp.neighbors( adata, use_rep=\"X_scANVI\", n_pcs=50, n_neighbors=20)\n",
    "gc.collect()"
   ]
  },
  {
   "cell_type": "code",
   "execution_count": null,
   "metadata": {},
   "outputs": [],
   "source": [
    "scv.pp.moments( adata, n_pcs=None, n_neighbors=None)"
   ]
  },
  {
   "cell_type": "code",
   "execution_count": null,
   "metadata": {},
   "outputs": [],
   "source": [
    "gc.collect()"
   ]
  },
  {
   "cell_type": "markdown",
   "metadata": {},
   "source": [
    "this should only be the imputed data, connectivities and potentially the fitted parameters specified in adata.var. You also only need to keep the (potential) velocity genes, for example estimated by the steady state model. from https://github.com/theislab/scvelo/issues/405"
   ]
  },
  {
   "cell_type": "code",
   "execution_count": null,
   "metadata": {},
   "outputs": [],
   "source": [
    "adata"
   ]
  },
  {
   "cell_type": "code",
   "execution_count": null,
   "metadata": {},
   "outputs": [],
   "source": [
    "del adata.layers['ambiguous']\n",
    "del adata.layers[ 'spliced']\n",
    "del adata.layers[ 'unspliced']\n",
    "gc.collect()\n"
   ]
  },
  {
   "cell_type": "code",
   "execution_count": null,
   "metadata": {},
   "outputs": [],
   "source": [
    "adata.obs.drop(['leiden', 'dca_split', 'size_factors', 'Project', 'pretty name', 'sequencing', 'condition', 'kit', 'line', 'strain', 'enriched', 'enrichment proportion', 'treatment', 'diet', 'tissue', 'structure', 'target cell number', 'Index Type', 'sequencing machine', 'leiden_1', 'leiden_sub1', 'leiden_2', 'leiden_3', 'leiden_4', 'leiden_5', 'leiden_6', 'leiden_7', 'leiden_8', 'leiden_9', 'leiden_10', 'leiden_11', 'leiden_12', 'leiden_13', 'leiden_13_save', 'dpt_pseudotime', 'dpt_pseudotime_g2m', 'dpt_pseudotime_g1', 'palantir_pseudotime_g1', 'palantir_pseudotime_g2m', 'palantir_pseudotime'],axis=1)\n",
    "gc.collect()"
   ]
  },
  {
   "cell_type": "code",
   "execution_count": null,
   "metadata": {},
   "outputs": [],
   "source": [
    "del adata.obsm['T_fwd_umap']\n",
    "del adata.obsm[ 'X_diffmap']\n",
    "del adata.obsm['X_palantir_diff_comp']\n",
    "del adata.obsm['X_palantir_multiscale']\n",
    "\n",
    "del adata.obsp['palantir_diff_op']\n",
    "\n",
    "gc.collect()"
   ]
  },
  {
   "cell_type": "markdown",
   "metadata": {},
   "source": [
    "#### steady-state model"
   ]
  },
  {
   "cell_type": "code",
   "execution_count": null,
   "metadata": {},
   "outputs": [],
   "source": [
    "scv.tl.velocity(adata, mode=\"deterministic\")"
   ]
  },
  {
   "cell_type": "code",
   "execution_count": null,
   "metadata": {},
   "outputs": [],
   "source": [
    "scv.tl.velocity_graph(adata, n_jobs=8)"
   ]
  },
  {
   "cell_type": "code",
   "execution_count": null,
   "metadata": {},
   "outputs": [],
   "source": [
    "scv.pl.velocity_embedding_stream( adata, basis='umap', color='cell_type_annotation_lv1', legend_loc='none', save = 'cr_scvelo_velocity_graph_steady_state_model.png')"
   ]
  },
  {
   "cell_type": "markdown",
   "metadata": {},
   "source": [
    "#### EM model"
   ]
  },
  {
   "cell_type": "raw",
   "metadata": {
    "vscode": {
     "languageId": "raw"
    }
   },
   "source": [
    "scv.tl.recover_dynamics( adata, n_jobs=1)"
   ]
  },
  {
   "cell_type": "code",
   "execution_count": null,
   "metadata": {},
   "outputs": [],
   "source": [
    "adata"
   ]
  },
  {
   "cell_type": "markdown",
   "metadata": {},
   "source": [
    "### continue after recovering dynamics"
   ]
  },
  {
   "cell_type": "code",
   "execution_count": null,
   "metadata": {},
   "outputs": [],
   "source": [
    "adata_layers = sc.read_h5ad('adata_scVelo_save.h5ad')"
   ]
  },
  {
   "cell_type": "raw",
   "metadata": {
    "vscode": {
     "languageId": "raw"
    }
   },
   "source": [
    "adata.write('adata_scvelo_save_meta_corr_anno_updated.h5ad')"
   ]
  },
  {
   "cell_type": "code",
   "execution_count": null,
   "metadata": {},
   "outputs": [],
   "source": [
    "adata = sc.read_h5ad('adata_scvelo_save_meta_corr_anno_updated.h5ad')"
   ]
  },
  {
   "cell_type": "code",
   "execution_count": null,
   "metadata": {},
   "outputs": [],
   "source": [
    "gc.collect()"
   ]
  },
  {
   "cell_type": "code",
   "execution_count": null,
   "metadata": {},
   "outputs": [],
   "source": [
    "# add dca imputed counts\n",
    "from anndata._io.specs import read_elem\n",
    "with h5py.File('/mnt/hdd/data/Healthy/pseudotime/adata_scvelo_minimal_fit_pars.h5ad', 'r') as f:\n",
    "    # Read specific columns from `obs`\n",
    "    #sample_column = f['obs/sample'][:]\n",
    "    #n_counts_column = f['obs/n_counts'][:]\n",
    "    #https://github.com/scverse/anndata/issues/436:\n",
    "    #cell_types = read_elem(f[\"obs/celltype\"])\n",
    "    #umap = read_elem(f[\"obsm/X_umap\"])\n",
    "    recover_dyn = read_elem(f[\"uns/recover_dynamics\"])\n",
    "    fit_t = read_elem(f['layers/fit_t'])\n",
    "    fit_t_ = read_elem(f['var/fit_t_'])\n",
    "    fit_likelihood = read_elem(f['var/fit_likelihood'])\n",
    "    fit_alpha = read_elem(f['var/fit_alpha'])\n",
    "    fit_beta = read_elem(f['var/fit_beta'])\n",
    "    fit_gamma = read_elem(f['var/fit_gamma'])\n",
    "    fit_scaling = read_elem(f['var/fit_scaling'])\n",
    "    fit_std_u = read_elem(f['var/fit_std_u'])\n",
    "    fit_std_s = read_elem(f['var/fit_std_s'])\n"
   ]
  },
  {
   "cell_type": "code",
   "execution_count": null,
   "metadata": {},
   "outputs": [],
   "source": [
    "adata_fit_pars = sc.read_h5ad('/mnt/hdd/data/Healthy/pseudotime/adata_scvelo_minimal_fit_pars.h5ad')"
   ]
  },
  {
   "cell_type": "code",
   "execution_count": null,
   "metadata": {},
   "outputs": [],
   "source": [
    "adata_fit_pars"
   ]
  },
  {
   "cell_type": "code",
   "execution_count": null,
   "metadata": {},
   "outputs": [],
   "source": [
    "adata"
   ]
  },
  {
   "cell_type": "code",
   "execution_count": null,
   "metadata": {},
   "outputs": [],
   "source": [
    "# add dca imputed counts\n",
    "from anndata._io.specs import read_elem\n",
    "with h5py.File('adata_scvelo_save_meta_corr_anno_updated.h5ad', 'r') as f:\n",
    "    # Read specific columns from `obs`\n",
    "    #sample_column = f['obs/sample'][:]\n",
    "    #n_counts_column = f['obs/n_counts'][:]\n",
    "    #https://github.com/scverse/anndata/issues/436:\n",
    "    #cell_types = read_elem(f[\"obs/celltype\"])\n",
    "    #umap = read_elem(f[\"obsm/X_umap\"])\n",
    "    ctanno = read_elem(f[\"obs/cell_type_annotation_lv1\"])\n",
    "    ctanno_colors = read_elem(f['uns/cell_type_annotation_lv1_colors'])\n"
   ]
  },
  {
   "cell_type": "code",
   "execution_count": null,
   "metadata": {},
   "outputs": [],
   "source": [
    "adata_fit_pars.obs['cell_type_annotation_lv1']=ctanno\n",
    "adata_fit_pars.uns['cell_type_annotation_lv1_colors']=ctanno_colors"
   ]
  },
  {
   "cell_type": "code",
   "execution_count": null,
   "metadata": {},
   "outputs": [],
   "source": [
    "adata.uns['recover_dynamics']=recover_dyn\n",
    "adata.layers['fit_t'] = fit_t\n",
    "adata.var['fit_t_'] = fit_t_\n",
    "adata.var['fit_likelihood']=fit_likelihood\n",
    "adata.var['fit_alpha']=fit_alpha \n",
    "adata.var['fit_beta']=fit_beta\n",
    "adata.var['fit_gamma']=fit_gamma\n",
    "adata.var['fit_scaling']=fit_scaling\n",
    "adata.var['fit_std_u']=fit_std_u\n",
    "adata.var['fit_std_s']=fit_std_s\n"
   ]
  },
  {
   "cell_type": "code",
   "execution_count": null,
   "metadata": {},
   "outputs": [],
   "source": [
    "gc.collect()"
   ]
  },
  {
   "cell_type": "code",
   "execution_count": null,
   "metadata": {},
   "outputs": [],
   "source": [
    "#del adata_fit_pars\n",
    "del recover_dyn\n",
    "del fit_t\n",
    "del fit_likelihood\n",
    "del fit_alpha\n",
    "del fit_beta\n",
    "del fit_gamma\n",
    "del fit_scaling\n",
    "del fit_std_s\n",
    "del fit_std_u\n",
    "gc.collect()"
   ]
  },
  {
   "cell_type": "code",
   "execution_count": null,
   "metadata": {},
   "outputs": [],
   "source": [
    "vars_names = [name for name in adata.var_names]"
   ]
  },
  {
   "cell_type": "code",
   "execution_count": null,
   "metadata": {},
   "outputs": [],
   "source": [
    "adata_layers = adata_layers[:,vars_names]"
   ]
  },
  {
   "cell_type": "code",
   "execution_count": null,
   "metadata": {},
   "outputs": [],
   "source": [
    "adata_layers"
   ]
  },
  {
   "cell_type": "code",
   "execution_count": null,
   "metadata": {},
   "outputs": [],
   "source": [
    "adata.layers['ambiguous'] = adata_layers.layers['ambiguous']\n",
    "adata.layers['spliced'] = adata_layers.layers['spliced']\n",
    "adata.layers['unspliced'] = adata_layers.layers['unspliced']"
   ]
  },
  {
   "cell_type": "code",
   "execution_count": null,
   "metadata": {},
   "outputs": [],
   "source": [
    "del adata_layers\n",
    "gc.collect()"
   ]
  },
  {
   "cell_type": "code",
   "execution_count": null,
   "metadata": {},
   "outputs": [],
   "source": [
    "del adata\n",
    "gc.collect()"
   ]
  },
  {
   "cell_type": "code",
   "execution_count": null,
   "metadata": {},
   "outputs": [],
   "source": [
    "scv.tl.velocity( adata_fit_pars, mode='dynamical')\n",
    "scv.tl.velocity_graph( adata_fit_pars, n_jobs=1)"
   ]
  },
  {
   "cell_type": "code",
   "execution_count": null,
   "metadata": {},
   "outputs": [],
   "source": [
    "scv.pl.velocity_embedding_stream( adata_fit_pars, basis='umap', color='cell_type_annotation_lv1', legend_loc='none', save = 'cr_scvelo_velocity_graph_EM_model.png')"
   ]
  },
  {
   "cell_type": "code",
   "execution_count": null,
   "metadata": {},
   "outputs": [],
   "source": [
    "scv.tl.latent_time( adata_fit_pars)#, root_key='iroot'"
   ]
  },
  {
   "cell_type": "code",
   "execution_count": null,
   "metadata": {},
   "outputs": [],
   "source": [
    "sc.pl.umap( adata_fit_pars, color=['latent_time'], size=7, add_outline=True, alpha=1, outline_width=(0.3, 0.0), ncols=4, color_map='turbo', title= 'scVelo latent time',save ='scvelo_latent_time_dyn_model.png')"
   ]
  },
  {
   "cell_type": "code",
   "execution_count": null,
   "metadata": {},
   "outputs": [],
   "source": [
    "with rc_context({'figure.figsize': (6, 4)}):\n",
    "    sc.pl.violin( adata_fit_pars, use_raw=False, keys=['latent_time'], groupby='cell_type_annotation_lv1', rotation=90,save ='violin_scvelo_latent_time_dyn_model.png')"
   ]
  },
  {
   "cell_type": "markdown",
   "metadata": {},
   "source": [
    "### deterministic steady state model"
   ]
  },
  {
   "cell_type": "code",
   "execution_count": null,
   "metadata": {},
   "outputs": [],
   "source": [
    "scv.tl.velocity(adata, mode=\"deterministic\")\n",
    "scv.tl.velocity_graph( adata, n_jobs=1)"
   ]
  },
  {
   "cell_type": "code",
   "execution_count": null,
   "metadata": {},
   "outputs": [],
   "source": [
    "scv.pl.velocity_embedding_stream( adata, basis='umap', color='cell_type_annotation_lv1', legend_loc='none', save = 'cr_scvelo_velocity_graph_det_model.png')"
   ]
  },
  {
   "cell_type": "code",
   "execution_count": null,
   "metadata": {},
   "outputs": [],
   "source": [
    "# Open the HDF5 file\n",
    "from anndata._io.specs import read_elem\n",
    "with h5py.File('adata_NB6_CR_save_before_scTour.h5ad', 'r') as f:\n",
    "    # Read specific columns from `obs`\n",
    "    #sample_column = f['obs/sample'][:]\n",
    "    #n_counts_column = f['obs/n_counts'][:]\n",
    "    #https://github.com/scverse/anndata/issues/436:\n",
    "    #cell_types = read_elem(f[\"obs/celltype\"])\n",
    "    #umap = read_elem(f[\"obsm/X_umap\"])\n",
    "    diffmap = read_elem(f[\"obsm/X_diffmap\"])\n",
    "    diffmap_evals = read_elem(f[\"uns/diffmap_evals\"])"
   ]
  },
  {
   "cell_type": "code",
   "execution_count": null,
   "metadata": {},
   "outputs": [],
   "source": [
    "adata.obsm['X_diffmap'] = diffmap\n",
    "adata.uns['diffmap_evals'] = diffmap_evals"
   ]
  },
  {
   "cell_type": "code",
   "execution_count": null,
   "metadata": {},
   "outputs": [],
   "source": [
    "del diffmap\n",
    "del diffmap_evals\n",
    "gc.collect()"
   ]
  },
  {
   "cell_type": "code",
   "execution_count": null,
   "metadata": {},
   "outputs": [],
   "source": [
    "adata.write('adata_scvelo_with_layers_and_diffmap.h5ad')\n",
    "gc.collect()"
   ]
  },
  {
   "cell_type": "markdown",
   "metadata": {},
   "source": [
    "### conttinue after all calculations"
   ]
  },
  {
   "cell_type": "code",
   "execution_count": null,
   "metadata": {},
   "outputs": [],
   "source": [
    "adata = sc.read_h5ad('adata_scvelo_with_layers_and_diffmap.h5ad')"
   ]
  },
  {
   "cell_type": "code",
   "execution_count": null,
   "metadata": {},
   "outputs": [],
   "source": [
    "adata"
   ]
  },
  {
   "cell_type": "raw",
   "metadata": {
    "vscode": {
     "languageId": "raw"
    }
   },
   "source": [
    "stem_mask = (adata.obsm['X_diffmap'][:,1] >0) & np.isin(adata.obs['cell_type_annotation_lv1'], 'ISC')\n",
    "max_stem_id = np.argmin(adata.obsm['X_diffmap'][stem_mask,11])\n",
    "root_id = np.arange(len(stem_mask))[stem_mask][max_stem_id]\n",
    "adata.uns['iroot'] = root_id"
   ]
  },
  {
   "cell_type": "code",
   "execution_count": null,
   "metadata": {},
   "outputs": [],
   "source": [
    "scv.tl.latent_time( adata_fit_pars)#, root_key='iroot'"
   ]
  },
  {
   "cell_type": "code",
   "execution_count": null,
   "metadata": {},
   "outputs": [],
   "source": [
    "sc.pl.umap( adata, color=['latent_time'], size=7, add_outline=True, alpha=1, outline_width=(0.3, 0.0), ncols=4, color_map='turbo', title= 'scVelo latent time',save ='scvelo_latent_time_dyn_model.png')"
   ]
  },
  {
   "cell_type": "code",
   "execution_count": null,
   "metadata": {},
   "outputs": [],
   "source": [
    "with rc_context({'figure.figsize': (6, 4)}):\n",
    "    sc.pl.violin( adata, use_raw=False, keys=['latent_time'], groupby='cell_type_annotation_lv1', rotation=90,save ='violin_scvelo_latent_time_dyn_model.png')"
   ]
  },
  {
   "cell_type": "code",
   "execution_count": null,
   "metadata": {},
   "outputs": [],
   "source": [
    "scvk = cr.kernels.VelocityKernel(adata)\n",
    "scvk.compute_transition_matrix(n_jobs=-1)\n",
    "scvk.plot_projection(color='cell_type_annotation_lv1', recompute=True, legend_loc='none')\n",
    "scvk.write(fname='adata_markedDoublets_normalized_initialAnno_rmDoublets_integrated_imputed_annotated_crKernel_scvelo_wo_root.plk', write_adata=True)"
   ]
  },
  {
   "cell_type": "markdown",
   "metadata": {},
   "source": [
    "### VeloVI"
   ]
  },
  {
   "cell_type": "code",
   "execution_count": null,
   "metadata": {},
   "outputs": [],
   "source": [
    "adata_vvi = sc.read_h5ad('adata_scVelo_save.h5ad')"
   ]
  },
  {
   "cell_type": "code",
   "execution_count": null,
   "metadata": {
    "execution": {
     "iopub.execute_input": "2024-05-27T19:48:25.491922Z",
     "iopub.status.busy": "2024-05-27T19:48:25.491793Z",
     "iopub.status.idle": "2024-05-27T19:48:25.573772Z",
     "shell.execute_reply": "2024-05-27T19:48:25.573074Z",
     "shell.execute_reply.started": "2024-05-27T19:48:25.491909Z"
    }
   },
   "outputs": [],
   "source": [
    "adata_vvi.X = adata_vvi.layers['raw_counts'].copy()"
   ]
  },
  {
   "cell_type": "code",
   "execution_count": null,
   "metadata": {},
   "outputs": [],
   "source": [
    "# add dca imputed counts\n",
    "from anndata._io.specs import read_elem\n",
    "with h5py.File('/mnt/md0/Projects/Miscellaneous/Helene/adata_markedDoublets_normalized_initialAnno_rmDoublets_integrated_all_imputed.h5ad', 'r') as f:\n",
    "    # Read specific columns from `obs`\n",
    "    #sample_column = f['obs/sample'][:]\n",
    "    #n_counts_column = f['obs/n_counts'][:]\n",
    "    #https://github.com/scverse/anndata/issues/436:\n",
    "    #cell_types = read_elem(f[\"obs/celltype\"])\n",
    "    #umap = read_elem(f[\"obsm/X_umap\"])\n",
    "    spliced = read_elem(f[\"layers/spliced\"])\n",
    "    unspliced = read_elem(f[\"layers/unspliced\"])\n"
   ]
  },
  {
   "cell_type": "code",
   "execution_count": null,
   "metadata": {},
   "outputs": [],
   "source": [
    "spliced.shape"
   ]
  },
  {
   "cell_type": "code",
   "execution_count": null,
   "metadata": {},
   "outputs": [],
   "source": [
    "adata_vvi"
   ]
  },
  {
   "cell_type": "code",
   "execution_count": null,
   "metadata": {},
   "outputs": [],
   "source": [
    "adata_vvi.layers['spliced']=spliced\n",
    "adata_vvi.layers['unspliced']=unspliced"
   ]
  },
  {
   "cell_type": "code",
   "execution_count": null,
   "metadata": {
    "execution": {
     "iopub.execute_input": "2024-05-27T19:48:25.574575Z",
     "iopub.status.busy": "2024-05-27T19:48:25.574443Z",
     "iopub.status.idle": "2024-05-27T19:50:54.061685Z",
     "shell.execute_reply": "2024-05-27T19:50:54.061050Z",
     "shell.execute_reply.started": "2024-05-27T19:48:25.574562Z"
    }
   },
   "outputs": [],
   "source": [
    "scv.pp.filter_and_normalize(adata_vvi, min_shared_counts=20, n_top_genes=3000, subset_highly_variable=False)\n",
    "sc.pp.neighbors(adata_vvi, use_rep=\"X_scANVI\", n_pcs=50, n_neighbors=20)\n",
    "scv.pp.moments(adata_vvi, n_pcs=None, n_neighbors=None)"
   ]
  },
  {
   "cell_type": "code",
   "execution_count": null,
   "metadata": {
    "execution": {
     "iopub.execute_input": "2024-05-27T19:50:54.062502Z",
     "iopub.status.busy": "2024-05-27T19:50:54.062369Z",
     "iopub.status.idle": "2024-05-27T19:50:54.068107Z",
     "shell.execute_reply": "2024-05-27T19:50:54.067588Z",
     "shell.execute_reply.started": "2024-05-27T19:50:54.062488Z"
    }
   },
   "outputs": [],
   "source": [
    "from velovi import preprocess_data, VELOVI"
   ]
  },
  {
   "cell_type": "code",
   "execution_count": null,
   "metadata": {
    "execution": {
     "iopub.execute_input": "2024-05-27T19:50:54.068840Z",
     "iopub.status.busy": "2024-05-27T19:50:54.068718Z",
     "iopub.status.idle": "2024-05-27T20:12:37.766122Z",
     "shell.execute_reply": "2024-05-27T20:12:37.765429Z",
     "shell.execute_reply.started": "2024-05-27T19:50:54.068828Z"
    }
   },
   "outputs": [],
   "source": [
    "VELOVI.setup_anndata(adata_vvi, spliced_layer=\"Ms\", unspliced_layer=\"Mu\")\n",
    "vae = VELOVI(adata_vvi)\n",
    "vae.train()"
   ]
  },
  {
   "cell_type": "code",
   "execution_count": null,
   "metadata": {
    "execution": {
     "iopub.execute_input": "2024-05-27T20:12:37.766957Z",
     "iopub.status.busy": "2024-05-27T20:12:37.766823Z",
     "iopub.status.idle": "2024-05-27T20:12:37.908516Z",
     "shell.execute_reply": "2024-05-27T20:12:37.907930Z",
     "shell.execute_reply.started": "2024-05-27T20:12:37.766943Z"
    }
   },
   "outputs": [],
   "source": [
    "fig, ax = plt.subplots()\n",
    "vae.history[\"elbo_train\"].iloc[20:].plot(ax=ax, label=\"train\")\n",
    "vae.history[\"elbo_validation\"].iloc[20:].plot(ax=ax, label=\"validation\")\n",
    "plt.legend()\n"
   ]
  },
  {
   "cell_type": "code",
   "execution_count": null,
   "metadata": {
    "execution": {
     "iopub.execute_input": "2024-05-27T20:12:37.909331Z",
     "iopub.status.busy": "2024-05-27T20:12:37.909197Z",
     "iopub.status.idle": "2024-05-27T20:13:55.528854Z",
     "shell.execute_reply": "2024-05-27T20:13:55.528143Z",
     "shell.execute_reply.started": "2024-05-27T20:12:37.909317Z"
    }
   },
   "outputs": [],
   "source": [
    "def add_velovi_outputs_to_adata(adata, vae):\n",
    "    latent_time = vae.get_latent_time(n_samples=25,)\n",
    "    velocities = vae.get_velocity(n_samples=25, velo_statistic=\"mean\")\n",
    "\n",
    "    t = latent_time\n",
    "    scaling = 20 / t.max(0)\n",
    "\n",
    "    adata.layers[\"velocity\"] = velocities / scaling\n",
    "    adata.layers[\"latent_time_velovi\"] = latent_time\n",
    "\n",
    "    adata.var[\"fit_alpha\"] = vae.get_rates()[\"alpha\"] / scaling\n",
    "    adata.var[\"fit_beta\"] = vae.get_rates()[\"beta\"] / scaling\n",
    "    adata.var[\"fit_gamma\"] = vae.get_rates()[\"gamma\"] / scaling\n",
    "    adata.var[\"fit_t_\"] = (\n",
    "        torch.nn.functional.softplus(vae.module.switch_time_unconstr)\n",
    "        .detach()\n",
    "        .cpu()\n",
    "        .numpy()\n",
    "    ) * scaling\n",
    "    scaling = np.array(scaling)\n",
    "    adata.layers[\"fit_t\"] = latent_time.values * scaling[None, :]\n",
    "    adata.var['fit_scaling'] = 1.0\n",
    "\n",
    "    return adata\n",
    "\n",
    "adata_vvi = add_velovi_outputs_to_adata(adata_vvi, vae)"
   ]
  },
  {
   "cell_type": "code",
   "execution_count": null,
   "metadata": {
    "execution": {
     "iopub.execute_input": "2024-05-27T20:13:55.529796Z",
     "iopub.status.busy": "2024-05-27T20:13:55.529660Z",
     "iopub.status.idle": "2024-05-27T20:20:47.008547Z",
     "shell.execute_reply": "2024-05-27T20:20:47.007883Z",
     "shell.execute_reply.started": "2024-05-27T20:13:55.529782Z"
    }
   },
   "outputs": [],
   "source": [
    "scv.tl.velocity_graph(adata_vvi)"
   ]
  },
  {
   "cell_type": "code",
   "execution_count": null,
   "metadata": {
    "execution": {
     "iopub.execute_input": "2024-05-27T20:20:47.009443Z",
     "iopub.status.busy": "2024-05-27T20:20:47.009299Z",
     "iopub.status.idle": "2024-05-27T20:20:54.201112Z",
     "shell.execute_reply": "2024-05-27T20:20:54.200503Z",
     "shell.execute_reply.started": "2024-05-27T20:20:47.009428Z"
    }
   },
   "outputs": [],
   "source": [
    "scv.pl.velocity_embedding_stream(adata_vvi, basis='umap', color='cell_type_annotation_lv1', legend_loc='none')"
   ]
  },
  {
   "cell_type": "code",
   "execution_count": null,
   "metadata": {
    "execution": {
     "iopub.execute_input": "2024-05-27T20:20:54.201984Z",
     "iopub.status.busy": "2024-05-27T20:20:54.201773Z",
     "iopub.status.idle": "2024-05-27T20:23:16.339873Z",
     "shell.execute_reply": "2024-05-27T20:23:16.339196Z",
     "shell.execute_reply.started": "2024-05-27T20:20:54.201969Z"
    }
   },
   "outputs": [],
   "source": [
    "vvik = cr.kernels.VelocityKernel(adata_vvi)\n",
    "vvik.compute_transition_matrix(n_jobs=-1)\n",
    "vvik.plot_projection(color='cell_type_annotation_lv1', recompute=True, legend_loc='none')\n"
   ]
  },
  {
   "cell_type": "code",
   "execution_count": null,
   "metadata": {},
   "outputs": [],
   "source": [
    "vvik.write(fname='adata_markedDoublets_mergedPeaks_normalized_initialAnno_rmDoublets_integrated_imputed_annotated_crKernel_veloVI.plk', write_adata=False)"
   ]
  },
  {
   "cell_type": "code",
   "execution_count": null,
   "metadata": {},
   "outputs": [],
   "source": [
    "adata_vvi"
   ]
  },
  {
   "cell_type": "code",
   "execution_count": null,
   "metadata": {},
   "outputs": [],
   "source": [
    "adata"
   ]
  },
  {
   "cell_type": "markdown",
   "metadata": {},
   "source": [
    "### Combine Kernels"
   ]
  },
  {
   "cell_type": "code",
   "execution_count": null,
   "metadata": {
    "ExecuteTime": {
     "end_time": "2023-12-05T11:09:02.413907Z",
     "start_time": "2023-12-05T11:09:02.411393Z"
    },
    "execution": {
     "iopub.execute_input": "2024-05-27T20:23:16.340773Z",
     "iopub.status.busy": "2024-05-27T20:23:16.340629Z",
     "iopub.status.idle": "2024-05-27T20:23:16.344275Z",
     "shell.execute_reply": "2024-05-27T20:23:16.343781Z",
     "shell.execute_reply.started": "2024-05-27T20:23:16.340757Z"
    }
   },
   "outputs": [],
   "source": [
    "velocity_kernel = 1/2 * scvk + 1/2 * vvik"
   ]
  },
  {
   "cell_type": "markdown",
   "metadata": {},
   "source": [
    "### recover scvelo and velovi kernels"
   ]
  },
  {
   "cell_type": "code",
   "execution_count": null,
   "metadata": {},
   "outputs": [],
   "source": [
    "adata_vvi = sc.read_h5ad('adata_scVelo_save.h5ad')"
   ]
  },
  {
   "cell_type": "code",
   "execution_count": null,
   "metadata": {},
   "outputs": [],
   "source": [
    "# Load the kernel from the file\n",
    "with open('/mnt/hdd/data/Healthy/pseudotime/adata_markedDoublets_mergedPeaks_normalized_initialAnno_rmDoublets_integrated_imputed_annotated_crKernel_veloVI.plk', 'rb') as file:\n",
    "    vvik = pickle.load(file)"
   ]
  },
  {
   "cell_type": "code",
   "execution_count": null,
   "metadata": {},
   "outputs": [],
   "source": [
    "#scvk = cr.kernels.VelocityKernel(adata_scvelo)\n",
    "# Load the kernel from the file\n",
    "with open('adata_markedDoublets_normalized_initialAnno_rmDoublets_integrated_imputed_annotated_crKernel_scvelo.plk', 'rb') as file:\n",
    "    scvk = pickle.load(file)"
   ]
  },
  {
   "cell_type": "raw",
   "metadata": {
    "vscode": {
     "languageId": "raw"
    }
   },
   "source": [
    "# Reinitialize the second kernel with AnnData\n",
    "scvk._adata = adata_scvelo # Manually reassign if the object is missing\n",
    "vvik._adata = adata_scvelo"
   ]
  },
  {
   "cell_type": "code",
   "execution_count": null,
   "metadata": {},
   "outputs": [],
   "source": [
    "scvk._adata"
   ]
  },
  {
   "cell_type": "code",
   "execution_count": null,
   "metadata": {},
   "outputs": [],
   "source": [
    "scvk._adata.write('adata_after_scvelo.h5ad')"
   ]
  },
  {
   "cell_type": "code",
   "execution_count": null,
   "metadata": {},
   "outputs": [],
   "source": [
    "vvik._adata = adata_vvi"
   ]
  },
  {
   "cell_type": "code",
   "execution_count": null,
   "metadata": {},
   "outputs": [],
   "source": [
    "vvik._adata"
   ]
  },
  {
   "cell_type": "markdown",
   "metadata": {},
   "source": [
    "### Combine Kernels"
   ]
  },
  {
   "cell_type": "code",
   "execution_count": null,
   "metadata": {},
   "outputs": [],
   "source": [
    "velocity_kernel = 1/2 * scvk + 1/2 * vvik"
   ]
  },
  {
   "cell_type": "code",
   "execution_count": null,
   "metadata": {},
   "outputs": [],
   "source": [
    "del scvk\n",
    "del vvik\n",
    "gc.collect()"
   ]
  },
  {
   "cell_type": "code",
   "execution_count": null,
   "metadata": {},
   "outputs": [],
   "source": [
    "del adata_vvi\n",
    "gc.collect()"
   ]
  },
  {
   "cell_type": "code",
   "execution_count": null,
   "metadata": {},
   "outputs": [],
   "source": [
    "velocity_kernel.write(fname='adata_markedDoublets_normalized_initialAnno_rmDoublets_integrated_imputed_annotated_crKernel_velocity_kernel.plk', write_adata=False)"
   ]
  },
  {
   "cell_type": "markdown",
   "metadata": {},
   "source": [
    "## Combine Kernels & Pseudotime"
   ]
  },
  {
   "cell_type": "code",
   "execution_count": null,
   "metadata": {
    "execution": {
     "iopub.execute_input": "2024-05-27T20:23:16.369482Z",
     "iopub.status.busy": "2024-05-27T20:23:16.369025Z",
     "iopub.status.idle": "2024-05-27T20:23:16.393468Z",
     "shell.execute_reply": "2024-05-27T20:23:16.392894Z",
     "shell.execute_reply.started": "2024-05-27T20:23:16.369458Z"
    }
   },
   "outputs": [],
   "source": [
    "adata.obs['pseudotime'] = adata.obs.loc[:,['palantir_pseudotime','dpt_pseudotime']].mean(axis=1)#, 'ct_pseudotime', 'sctour_pseudotime', 'latent_time']].mean(axis=1) #'sct_pseudotime'\n",
    "adata.obs['pseudotime'] = adata.obs['pseudotime'] - min(adata.obs['pseudotime'])\n",
    "adata.obs['pseudotime'] = adata.obs['pseudotime']/max(adata.obs['pseudotime'])"
   ]
  },
  {
   "cell_type": "code",
   "execution_count": null,
   "metadata": {
    "ExecuteTime": {
     "end_time": "2023-12-05T10:48:36.569300Z",
     "start_time": "2023-12-05T10:48:36.091535Z"
    },
    "execution": {
     "iopub.execute_input": "2024-05-27T20:23:16.394194Z",
     "iopub.status.busy": "2024-05-27T20:23:16.394064Z",
     "iopub.status.idle": "2024-05-27T20:23:16.842300Z",
     "shell.execute_reply": "2024-05-27T20:23:16.841704Z",
     "shell.execute_reply.started": "2024-05-27T20:23:16.394181Z"
    }
   },
   "outputs": [],
   "source": [
    "sc.pl.umap(adata, color=['pseudotime'], size=7, add_outline=True, alpha=1, outline_width=(0.3, 0.0), ncols=4, color_map='turbo')"
   ]
  },
  {
   "cell_type": "code",
   "execution_count": null,
   "metadata": {
    "ExecuteTime": {
     "end_time": "2023-12-05T11:07:25.345362Z",
     "start_time": "2023-12-05T11:07:24.936083Z"
    },
    "execution": {
     "iopub.execute_input": "2024-05-27T20:23:16.843100Z",
     "iopub.status.busy": "2024-05-27T20:23:16.842966Z",
     "iopub.status.idle": "2024-05-27T20:23:17.514456Z",
     "shell.execute_reply": "2024-05-27T20:23:17.513613Z",
     "shell.execute_reply.started": "2024-05-27T20:23:16.843086Z"
    }
   },
   "outputs": [],
   "source": [
    "with rc_context({'figure.figsize': (6, 4)}):\n",
    "    sc.pl.violin(adata, use_raw=False, keys=['pseudotime'], groupby='cell_type_annotation_lv1', rotation=90)"
   ]
  },
  {
   "cell_type": "markdown",
   "metadata": {},
   "source": [
    "## Lineage Inference"
   ]
  },
  {
   "cell_type": "code",
   "execution_count": null,
   "metadata": {},
   "outputs": [],
   "source": [
    "pseudotime_kernel.adata"
   ]
  },
  {
   "cell_type": "code",
   "execution_count": null,
   "metadata": {},
   "outputs": [],
   "source": [
    "pseudotime_kernel.adata.X"
   ]
  },
  {
   "cell_type": "code",
   "execution_count": null,
   "metadata": {
    "ExecuteTime": {
     "end_time": "2023-12-05T11:09:13.002363Z",
     "start_time": "2023-12-05T11:09:12.247938Z"
    },
    "execution": {
     "iopub.execute_input": "2024-05-27T20:23:17.515344Z",
     "iopub.status.busy": "2024-05-27T20:23:17.515209Z",
     "iopub.status.idle": "2024-05-27T20:23:18.092850Z",
     "shell.execute_reply": "2024-05-27T20:23:18.092255Z",
     "shell.execute_reply.started": "2024-05-27T20:23:17.515330Z"
    }
   },
   "outputs": [],
   "source": [
    "g = cr.estimators.GPCCA(pseudotime_kernel)"
   ]
  },
  {
   "cell_type": "code",
   "execution_count": null,
   "metadata": {},
   "outputs": [],
   "source": [
    "del adata\n",
    "gc.collect()"
   ]
  },
  {
   "cell_type": "code",
   "execution_count": null,
   "metadata": {
    "ExecuteTime": {
     "end_time": "2023-12-05T11:10:25.741473Z",
     "start_time": "2023-12-05T11:09:13.003628Z"
    },
    "execution": {
     "iopub.execute_input": "2024-05-27T20:23:18.093653Z",
     "iopub.status.busy": "2024-05-27T20:23:18.093519Z",
     "iopub.status.idle": "2024-05-27T20:23:50.178920Z",
     "shell.execute_reply": "2024-05-27T20:23:50.178234Z",
     "shell.execute_reply.started": "2024-05-27T20:23:18.093639Z"
    }
   },
   "outputs": [],
   "source": [
    "g.fit(cluster_key=\"cell_type_annotation_lv1\", n_states=11) #10\n",
    "g.plot_macrostates(which=\"all\", discrete=True, legend_loc=\"right\", s=20)"
   ]
  },
  {
   "cell_type": "code",
   "execution_count": null,
   "metadata": {
    "ExecuteTime": {
     "end_time": "2023-11-18T23:41:05.385995Z",
     "start_time": "2023-11-18T23:41:04.985514Z"
    },
    "execution": {
     "iopub.execute_input": "2024-05-27T20:23:50.179759Z",
     "iopub.status.busy": "2024-05-27T20:23:50.179622Z",
     "iopub.status.idle": "2024-05-27T20:23:50.658718Z",
     "shell.execute_reply": "2024-05-27T20:23:50.658037Z",
     "shell.execute_reply.started": "2024-05-27T20:23:50.179745Z"
    }
   },
   "outputs": [],
   "source": [
    "g.predict_initial_states(allow_overlap=True)\n",
    "g.plot_macrostates(which=\"initial\", legend_loc=\"right\", s=20)"
   ]
  },
  {
   "cell_type": "code",
   "execution_count": null,
   "metadata": {
    "ExecuteTime": {
     "end_time": "2023-12-05T11:10:25.745777Z",
     "start_time": "2023-12-05T11:10:25.742707Z"
    },
    "execution": {
     "iopub.execute_input": "2024-05-27T20:23:50.659601Z",
     "iopub.status.busy": "2024-05-27T20:23:50.659463Z",
     "iopub.status.idle": "2024-05-27T20:23:50.663798Z",
     "shell.execute_reply": "2024-05-27T20:23:50.663301Z",
     "shell.execute_reply.started": "2024-05-27T20:23:50.659586Z"
    }
   },
   "outputs": [],
   "source": [
    "g.macrostates.cat.categories"
   ]
  },
  {
   "cell_type": "code",
   "execution_count": null,
   "metadata": {},
   "outputs": [],
   "source": [
    "g.set_initial_states(states=['ISC'])"
   ]
  },
  {
   "cell_type": "code",
   "execution_count": null,
   "metadata": {
    "ExecuteTime": {
     "end_time": "2023-12-05T11:10:26.682050Z",
     "start_time": "2023-12-05T11:10:26.170379Z"
    },
    "execution": {
     "iopub.execute_input": "2024-05-27T20:23:50.664463Z",
     "iopub.status.busy": "2024-05-27T20:23:50.664338Z",
     "iopub.status.idle": "2024-05-27T20:23:51.487245Z",
     "shell.execute_reply": "2024-05-27T20:23:51.486571Z",
     "shell.execute_reply.started": "2024-05-27T20:23:50.664450Z"
    }
   },
   "outputs": [],
   "source": [
    "g.set_terminal_states(states=['D-cell (Sst+)',\n",
    "       'L/I-cell (Glp1+/Cck+)', 'X-cell (Ghrl+)', 'EC (mature)', 'Tuft',\n",
    "       'Enterocyte', 'Paneth'])\n",
    "g.plot_macrostates(which=\"terminal\", legend_loc=\"right\", s=20)"
   ]
  },
  {
   "cell_type": "code",
   "execution_count": null,
   "metadata": {
    "ExecuteTime": {
     "end_time": "2023-12-05T11:10:31.615961Z",
     "start_time": "2023-12-05T11:10:26.683286Z"
    },
    "execution": {
     "iopub.execute_input": "2024-05-27T20:23:51.488078Z",
     "iopub.status.busy": "2024-05-27T20:23:51.487942Z",
     "iopub.status.idle": "2024-05-27T20:23:56.437225Z",
     "shell.execute_reply": "2024-05-27T20:23:56.436582Z",
     "shell.execute_reply.started": "2024-05-27T20:23:51.488064Z"
    }
   },
   "outputs": [],
   "source": [
    "g.plot_macrostates(which=\"terminal\", discrete=False, legend_loc='none')"
   ]
  },
  {
   "cell_type": "code",
   "execution_count": null,
   "metadata": {
    "ExecuteTime": {
     "end_time": "2023-12-05T11:10:32.098277Z",
     "start_time": "2023-12-05T11:10:31.617279Z"
    },
    "execution": {
     "iopub.execute_input": "2024-05-27T20:23:56.438055Z",
     "iopub.status.busy": "2024-05-27T20:23:56.437904Z",
     "iopub.status.idle": "2024-05-27T20:23:56.920049Z",
     "shell.execute_reply": "2024-05-27T20:23:56.919374Z",
     "shell.execute_reply.started": "2024-05-27T20:23:56.438041Z"
    }
   },
   "outputs": [],
   "source": [
    "g.plot_coarse_T()"
   ]
  },
  {
   "cell_type": "markdown",
   "metadata": {},
   "source": [
    "## Fate Probabilities"
   ]
  },
  {
   "cell_type": "code",
   "execution_count": null,
   "metadata": {
    "ExecuteTime": {
     "end_time": "2023-12-05T11:10:38.024001Z",
     "start_time": "2023-12-05T11:10:32.099477Z"
    },
    "execution": {
     "iopub.execute_input": "2024-05-27T20:23:56.920919Z",
     "iopub.status.busy": "2024-05-27T20:23:56.920783Z",
     "iopub.status.idle": "2024-05-27T20:24:03.586485Z",
     "shell.execute_reply": "2024-05-27T20:24:03.585667Z",
     "shell.execute_reply.started": "2024-05-27T20:23:56.920906Z"
    }
   },
   "outputs": [],
   "source": [
    "g.compute_fate_probabilities()\n",
    "g.plot_fate_probabilities(same_plot=False, ncols=4)"
   ]
  },
  {
   "cell_type": "code",
   "execution_count": null,
   "metadata": {},
   "outputs": [],
   "source": [
    "g.plot_fate_probabilities(same_plot=False, ncols=4)"
   ]
  },
  {
   "cell_type": "code",
   "execution_count": null,
   "metadata": {
    "ExecuteTime": {
     "end_time": "2023-12-05T11:10:42.997330Z",
     "start_time": "2023-12-05T11:10:38.025502Z"
    },
    "execution": {
     "iopub.execute_input": "2024-05-27T20:24:03.587677Z",
     "iopub.status.busy": "2024-05-27T20:24:03.587464Z",
     "iopub.status.idle": "2024-05-27T20:24:08.373630Z",
     "shell.execute_reply": "2024-05-27T20:24:08.372958Z",
     "shell.execute_reply.started": "2024-05-27T20:24:03.587653Z"
    }
   },
   "outputs": [],
   "source": [
    "g.plot_fate_probabilities(same_plot=True, legend_loc='none')"
   ]
  },
  {
   "cell_type": "code",
   "execution_count": null,
   "metadata": {
    "ExecuteTime": {
     "end_time": "2023-12-05T11:10:43.001596Z",
     "start_time": "2023-12-05T11:10:42.998427Z"
    },
    "execution": {
     "iopub.execute_input": "2024-05-27T20:24:08.374735Z",
     "iopub.status.busy": "2024-05-27T20:24:08.374498Z",
     "iopub.status.idle": "2024-05-27T20:24:08.379583Z",
     "shell.execute_reply": "2024-05-27T20:24:08.378987Z",
     "shell.execute_reply.started": "2024-05-27T20:24:08.374709Z"
    }
   },
   "outputs": [],
   "source": [
    "g.terminal_states.cat.categories"
   ]
  },
  {
   "cell_type": "code",
   "execution_count": null,
   "metadata": {},
   "outputs": [],
   "source": [
    "adata = pseudotime_kernel.adata"
   ]
  },
  {
   "cell_type": "code",
   "execution_count": null,
   "metadata": {
    "ExecuteTime": {
     "end_time": "2023-12-05T11:10:43.027047Z",
     "start_time": "2023-12-05T11:10:43.002831Z"
    },
    "execution": {
     "iopub.execute_input": "2024-05-27T20:24:08.380648Z",
     "iopub.status.busy": "2024-05-27T20:24:08.380406Z",
     "iopub.status.idle": "2024-05-27T20:24:08.407227Z",
     "shell.execute_reply": "2024-05-27T20:24:08.406606Z",
     "shell.execute_reply.started": "2024-05-27T20:24:08.380622Z"
    }
   },
   "outputs": [],
   "source": [
    "adata.obs['fp_EEC_Ghrl'] = g.fate_probabilities['X-cell (Ghrl+)'].X.flatten()\n",
    "adata.obs['fp_EEC_Glp1_Cck'] = g.fate_probabilities['L/I-cell (Glp1+/Cck+)'].X.flatten()\n",
    "#adata.obs['fp_EEC_Gip'] = g.fate_probabilities['K-cell (Gip+)'].X.flatten()\n",
    "adata.obs['fp_EEC_Sst'] = g.fate_probabilities['D-cell (Sst+)'].X.flatten()\n",
    "adata.obs['fp_EC'] = g.fate_probabilities['EC (mature)'].X.flatten()\n",
    "#adata.obs['fp_Goblet1'] = g.fate_probabilities['Goblet_1'].X.flatten()\n",
    "adata.obs['fp_Paneth'] = g.fate_probabilities['Paneth'].X.flatten()\n",
    "adata.obs['fp_Tuft'] = g.fate_probabilities['Tuft'].X.flatten()\n",
    "adata.obs['fp_Enterocyte'] = g.fate_probabilities['Enterocyte'].X.flatten()"
   ]
  },
  {
   "cell_type": "code",
   "execution_count": null,
   "metadata": {
    "ExecuteTime": {
     "end_time": "2023-12-05T11:10:43.055852Z",
     "start_time": "2023-12-05T11:10:43.028203Z"
    },
    "execution": {
     "iopub.execute_input": "2024-05-27T20:24:08.408216Z",
     "iopub.status.busy": "2024-05-27T20:24:08.408003Z",
     "iopub.status.idle": "2024-05-27T20:24:08.420324Z",
     "shell.execute_reply": "2024-05-27T20:24:08.419763Z",
     "shell.execute_reply.started": "2024-05-27T20:24:08.408194Z"
    }
   },
   "outputs": [],
   "source": [
    "fp_EEC = [column for column in adata.obs.columns if (column.startswith('fp_EE')) | (column.startswith('fp_EC'))]\n",
    "adata.obs['fp_EEC'] = adata.obs.loc[:,fp_EEC].sum(axis=1)"
   ]
  },
  {
   "cell_type": "code",
   "execution_count": null,
   "metadata": {
    "ExecuteTime": {
     "end_time": "2023-12-05T11:10:46.723357Z",
     "start_time": "2023-12-05T11:10:43.056932Z"
    },
    "execution": {
     "iopub.execute_input": "2024-05-27T20:24:08.421461Z",
     "iopub.status.busy": "2024-05-27T20:24:08.421076Z",
     "iopub.status.idle": "2024-05-27T20:24:11.825493Z",
     "shell.execute_reply": "2024-05-27T20:24:11.824686Z",
     "shell.execute_reply.started": "2024-05-27T20:24:08.421437Z"
    }
   },
   "outputs": [],
   "source": [
    "fp_EEC = [column for column in adata.obs.columns if (column.startswith('fp_EE')) | (column.startswith('fp_EC'))]\n",
    "sc.pl.umap(adata, color=fp_EEC + ['cell_type_annotation_lv1'], size=7, add_outline=True, alpha=1, outline_width=(0.3, 0.0), ncols=3, color_map='turbo', save = 'fp_EECs.png')"
   ]
  },
  {
   "cell_type": "code",
   "execution_count": null,
   "metadata": {},
   "outputs": [],
   "source": [
    "fp_GobPan= [column for column in adata.obs.columns if (column.startswith('fp_Pan')) | (column.startswith('fp_Go'))]\n",
    "sc.pl.umap(adata, color=fp_GobPan + ['cell_type_annotation_lv1'], size=7, add_outline=True, alpha=1, outline_width=(0.3, 0.0), ncols=4, color_map='turbo', save = 'fp_paneth.png')"
   ]
  },
  {
   "cell_type": "code",
   "execution_count": null,
   "metadata": {
    "ExecuteTime": {
     "end_time": "2023-12-05T11:10:47.555168Z",
     "start_time": "2023-12-05T11:10:46.724538Z"
    },
    "execution": {
     "iopub.execute_input": "2024-05-27T20:24:11.826657Z",
     "iopub.status.busy": "2024-05-27T20:24:11.826412Z",
     "iopub.status.idle": "2024-05-27T20:24:12.742302Z",
     "shell.execute_reply": "2024-05-27T20:24:12.741670Z",
     "shell.execute_reply.started": "2024-05-27T20:24:11.826632Z"
    }
   },
   "outputs": [],
   "source": [
    "cr.pl.circular_projection(adata, keys=['cell_type_annotation_lv1'], legend_loc='right', lineage_order='optimal',legend_fontsize=10,label_distance= 1.1, title = '', figsize=(22,22) ,save = 'circ_proj_fates_opt_order.png')"
   ]
  },
  {
   "cell_type": "code",
   "execution_count": null,
   "metadata": {
    "ExecuteTime": {
     "end_time": "2023-12-05T11:10:49.220393Z",
     "start_time": "2023-12-05T11:10:47.556422Z"
    },
    "execution": {
     "iopub.execute_input": "2024-05-27T20:24:12.742973Z",
     "iopub.status.busy": "2024-05-27T20:24:12.742849Z",
     "iopub.status.idle": "2024-05-27T20:24:13.652679Z",
     "shell.execute_reply": "2024-05-27T20:24:13.652063Z",
     "shell.execute_reply.started": "2024-05-27T20:24:12.742960Z"
    }
   },
   "outputs": [],
   "source": [
    "cr.pl.circular_projection(adata, keys=['cell_type_annotation_lv1'], legend_loc='right', lineage_order='default',legend_fontsize=10,label_distance= 1.1, title = '', figsize=(22,22) ,save = 'circ_proj_fates_default_order.png')"
   ]
  },
  {
   "cell_type": "code",
   "execution_count": null,
   "metadata": {
    "ExecuteTime": {
     "end_time": "2023-12-05T11:10:49.220393Z",
     "start_time": "2023-12-05T11:10:47.556422Z"
    },
    "execution": {
     "iopub.execute_input": "2024-05-27T20:24:13.653444Z",
     "iopub.status.busy": "2024-05-27T20:24:13.653262Z",
     "iopub.status.idle": "2024-05-27T20:24:15.422882Z",
     "shell.execute_reply": "2024-05-27T20:24:15.422378Z",
     "shell.execute_reply.started": "2024-05-27T20:24:13.653430Z"
    }
   },
   "outputs": [],
   "source": [
    "cr.pl.circular_projection(adata, keys=['kl_divergence','phase','fp_EEC'], legend_loc='right', lineage_order='default', ncols=3, cmap='turbo',legend_fontsize=10, label_distance= 1.1, fontsize =15, figsize=(20,20) ,save = 'circ_proj_fates_phase_EEC_dive4rgence.png')"
   ]
  },
  {
   "cell_type": "code",
   "execution_count": null,
   "metadata": {
    "ExecuteTime": {
     "end_time": "2023-12-05T11:10:52.834883Z",
     "start_time": "2023-12-05T11:10:51.039886Z"
    },
    "execution": {
     "iopub.execute_input": "2024-05-27T20:24:15.423606Z",
     "iopub.status.busy": "2024-05-27T20:24:15.423477Z",
     "iopub.status.idle": "2024-05-27T20:24:17.093242Z",
     "shell.execute_reply": "2024-05-27T20:24:17.092555Z",
     "shell.execute_reply.started": "2024-05-27T20:24:15.423593Z"
    }
   },
   "outputs": [],
   "source": [
    "sc.pl.umap(adata, color=['init_states_fwd_probs', 'term_states_fwd_probs', 'lineages_fwd_kl_divergence'], size=7, add_outline=True, alpha=1, outline_width=(0.3, 0.0), ncols=4, color_map='turbo', save = 'umaps_fwd_probs.png')"
   ]
  },
  {
   "cell_type": "code",
   "execution_count": null,
   "metadata": {
    "ExecuteTime": {
     "end_time": "2023-12-05T11:10:52.839583Z",
     "start_time": "2023-12-05T11:10:52.836114Z"
    },
    "execution": {
     "iopub.execute_input": "2024-05-27T20:24:17.094034Z",
     "iopub.status.busy": "2024-05-27T20:24:17.093842Z",
     "iopub.status.idle": "2024-05-27T20:24:17.098262Z",
     "shell.execute_reply": "2024-05-27T20:24:17.097616Z",
     "shell.execute_reply.started": "2024-05-27T20:24:17.094020Z"
    }
   },
   "outputs": [],
   "source": [
    "fate_probability_keys = ['init_states_fwd_probs', 'term_states_fwd_probs', 'lineages_fwd_kl_divergence'] + [column for column in adata.obs.columns if column.startswith('fp_')] #'lineages_fwd_entropy']\n",
    "fate_probability_keys"
   ]
  },
  {
   "cell_type": "markdown",
   "metadata": {},
   "source": [
    "# Annotation Refinement"
   ]
  },
  {
   "cell_type": "markdown",
   "metadata": {},
   "source": [
    "## CellRank-Based Annotation with Fate Probabilities"
   ]
  },
  {
   "cell_type": "code",
   "execution_count": null,
   "metadata": {
    "ExecuteTime": {
     "end_time": "2023-11-19T23:59:44.510356Z",
     "start_time": "2023-11-19T23:59:41.865424Z"
    },
    "execution": {
     "iopub.execute_input": "2024-05-27T20:24:17.098839Z",
     "iopub.status.busy": "2024-05-27T20:24:17.098715Z",
     "iopub.status.idle": "2024-05-27T20:24:21.119278Z",
     "shell.execute_reply": "2024-05-27T20:24:21.118644Z",
     "shell.execute_reply.started": "2024-05-27T20:24:17.098826Z"
    }
   },
   "outputs": [],
   "source": [
    "sc.pl.umap(adata, color=['phase','init_states_fwd_probs', 'term_states_fwd_probs', 'lineages_fwd_kl_divergence', \"fp_EEC\",'fp_Tuft','fp_Paneth','fp_Enterocyte','cell_type_annotation_lv1'], size=7, add_outline=True, alpha=1, outline_width=(0.3, 0.0), cmap='turbo')"
   ]
  },
  {
   "cell_type": "markdown",
   "metadata": {},
   "source": [
    "### Lineages"
   ]
  },
  {
   "cell_type": "code",
   "execution_count": null,
   "metadata": {
    "ExecuteTime": {
     "end_time": "2023-11-19T23:59:45.405219Z",
     "start_time": "2023-11-19T23:59:44.511425Z"
    },
    "execution": {
     "iopub.execute_input": "2024-05-27T20:24:21.120075Z",
     "iopub.status.busy": "2024-05-27T20:24:21.119943Z",
     "iopub.status.idle": "2024-05-27T20:24:21.969683Z",
     "shell.execute_reply": "2024-05-27T20:24:21.969207Z",
     "shell.execute_reply.started": "2024-05-27T20:24:21.120061Z"
    }
   },
   "outputs": [],
   "source": [
    "adata.obs['term_states_rev_probs'] = 1-adata.obs['term_states_fwd_probs']\n",
    "sc.pl.umap(adata, color=['term_states_rev_probs','term_states_fwd_probs'], size=7, add_outline=True, alpha=1, outline_width=(0.3, 0.0), cmap='turbo')"
   ]
  },
  {
   "cell_type": "code",
   "execution_count": null,
   "metadata": {
    "ExecuteTime": {
     "end_time": "2023-11-19T23:59:51.166920Z",
     "start_time": "2023-11-19T23:59:45.406266Z"
    },
    "execution": {
     "iopub.execute_input": "2024-05-27T20:24:21.970390Z",
     "iopub.status.busy": "2024-05-27T20:24:21.970261Z",
     "iopub.status.idle": "2024-05-27T20:24:27.378428Z",
     "shell.execute_reply": "2024-05-27T20:24:27.377752Z",
     "shell.execute_reply.started": "2024-05-27T20:24:21.970376Z"
    }
   },
   "outputs": [],
   "source": [
    "adata.obs['fp_EEC_bin']=pd.Categorical(list(map(str,list(#((adata.obs['fp_EEC']/adata.obs['fp_Goblet2'])>1) & \n",
    "                                                             ((adata.obs['fp_EEC']/adata.obs['fp_Paneth'])>0.6) & \n",
    "                                                             ((adata.obs['fp_EEC']/adata.obs['fp_Tuft'])>1) & \n",
    "                                                             ((adata.obs['fp_EEC']/adata.obs['fp_Enterocyte'])>0.9)\n",
    "                                                            ))))\n",
    "\n",
    "adata.obs['fp_Tuft_bin']=pd.Categorical(list(map(str,list(#((adata.obs['fp_Tuft']/adata.obs['fp_Goblet2'])>0.5) & \n",
    "                                                             ((adata.obs['fp_Tuft']/adata.obs['fp_Paneth'])>0.2) & \n",
    "                                                             ((adata.obs['fp_Tuft']/adata.obs['fp_EEC'])>=1) & #\n",
    "                                                             ((adata.obs['fp_Tuft']/adata.obs['fp_Enterocyte'])>0.15)\n",
    "                                                            ))))\n",
    "\n",
    "'''adata.obs['fp_Goblet_bin']=pd.Categorical(list(map(str,list(((adata.obs['fp_Goblet2']/adata.obs['fp_Tuft'])>=1/0.5) & #\n",
    "                                                             ((adata.obs['fp_Goblet2']/adata.obs['fp_Paneth2'])>0.5) & \n",
    "                                                             ((adata.obs['fp_Goblet2']/adata.obs['fp_EEC'])>=1) & #\n",
    "                                                             ((adata.obs['fp_Goblet2']/adata.obs['fp_Enterocyte'])>1)\n",
    "                                                            ))))'''\n",
    "\n",
    "adata.obs['fp_Paneth_bin']=pd.Categorical(list(map(str,list(#((adata.obs['fp_Paneth2']/adata.obs['fp_Goblet2'])>=1/0.5) & #\n",
    "                                                             ((adata.obs['fp_Paneth']/adata.obs['fp_Tuft'])>=10) & #5\n",
    "                                                             ((adata.obs['fp_Paneth']/adata.obs['fp_EEC'])>=6) & #10\n",
    "                                                             ((adata.obs['fp_Paneth']/adata.obs['fp_Enterocyte'])>4) #0.15\n",
    "                                                            ))))\n",
    "\n",
    "adata.obs['fp_Enterocyte_bin']=pd.Categorical(list(map(str,list(#((adata.obs['fp_Enterocyte']/adata.obs['fp_Goblet2'])>=1/1) & #\n",
    "                                                             ((adata.obs['fp_Enterocyte']/adata.obs['fp_Paneth'])>=1/0.15) & #\n",
    "                                                             ((adata.obs['fp_Enterocyte']/adata.obs['fp_EEC'])>=1/0.15) & #\n",
    "                                                             ((adata.obs['fp_Enterocyte']/adata.obs['fp_Tuft'])>=1/0.15)\n",
    "                                                            ))))\n",
    "\n",
    "adata.obs['fp_ISC_bin']=pd.Categorical(list(map(str,list((adata.obs['term_states_rev_probs']>=0.785)& #0.76\n",
    "                                                             ((adata.obs['init_states_fwd_probs'])>=0.8) \n",
    "                                                            ))))"
   ]
  },
  {
   "cell_type": "code",
   "execution_count": null,
   "metadata": {},
   "outputs": [],
   "source": [
    "cr.pl.circular_projection(adata, keys=['fp_EEC_bin','fp_Tuft_bin','fp_Paneth_bin','fp_Enterocyte_bin','fp_ISC_bin'], legend_loc=\"right\", lineage_order='default', \n",
    "                          lineages=['X-cell (Ghrl+)', 'L/I-cell (Glp1+/Cck+)', 'D-cell (Sst+)', 'EC (mature)', 'Enterocyte', 'Tuft', 'Paneth'], ncols =5, legend_fontsize=10, label_distance= 1.1, fontsize =15, figsize=(20,20) ,save = 'circ_proj_fate_probabilities.png')\n",
    "sc.pl.umap(adata, color=['fp_EEC_bin','fp_Tuft_bin','fp_Paneth_bin','fp_Enterocyte_bin','fp_ISC_bin'], size=10, add_outline=True, alpha=1, outline_width=(0.3, 0.0), ncols =5,save = 'umaps_fate_probabilities.png')"
   ]
  },
  {
   "cell_type": "code",
   "execution_count": null,
   "metadata": {
    "ExecuteTime": {
     "end_time": "2023-11-19T23:59:51.173949Z",
     "start_time": "2023-11-19T23:59:51.168243Z"
    },
    "execution": {
     "iopub.execute_input": "2024-05-27T20:24:27.379186Z",
     "iopub.status.busy": "2024-05-27T20:24:27.379048Z",
     "iopub.status.idle": "2024-05-27T20:24:27.385326Z",
     "shell.execute_reply": "2024-05-27T20:24:27.384798Z",
     "shell.execute_reply.started": "2024-05-27T20:24:27.379170Z"
    }
   },
   "outputs": [],
   "source": [
    "adata.obs['cr_lineage'] = 'NA'\n",
    "for lineage in ['Enterocyte','Paneth','Tuft','EEC','ISC']:\n",
    "    adata.obs.loc[adata.obs['fp_' + lineage + '_bin'] == 'True','cr_lineage'] = lineage"
   ]
  },
  {
   "cell_type": "code",
   "execution_count": null,
   "metadata": {
    "ExecuteTime": {
     "end_time": "2023-11-19T23:59:51.199528Z",
     "start_time": "2023-11-19T23:59:51.175090Z"
    },
    "execution": {
     "iopub.execute_input": "2024-05-27T20:24:27.386044Z",
     "iopub.status.busy": "2024-05-27T20:24:27.385909Z",
     "iopub.status.idle": "2024-05-27T20:24:27.412729Z",
     "shell.execute_reply": "2024-05-27T20:24:27.412256Z",
     "shell.execute_reply.started": "2024-05-27T20:24:27.386031Z"
    }
   },
   "outputs": [],
   "source": [
    "adata.obs['cr_lineage'].value_counts()"
   ]
  },
  {
   "cell_type": "code",
   "execution_count": null,
   "metadata": {
    "ExecuteTime": {
     "end_time": "2023-11-19T23:59:54.451489Z",
     "start_time": "2023-11-19T23:59:51.200811Z"
    },
    "execution": {
     "iopub.execute_input": "2024-05-27T20:24:27.413392Z",
     "iopub.status.busy": "2024-05-27T20:24:27.413267Z",
     "iopub.status.idle": "2024-05-27T20:24:30.459216Z",
     "shell.execute_reply": "2024-05-27T20:24:30.458647Z",
     "shell.execute_reply.started": "2024-05-27T20:24:27.413379Z"
    }
   },
   "outputs": [],
   "source": [
    "sc.pl.umap(adata, color=['cr_lineage'], size=10, add_outline=True, alpha=1, outline_width=(0.3, 0.0), ncols = 3, save = 'CR_lineage_only_pseudoitime.png')"
   ]
  },
  {
   "cell_type": "code",
   "execution_count": null,
   "metadata": {
    "ExecuteTime": {
     "end_time": "2023-11-19T23:59:55.019441Z",
     "start_time": "2023-11-19T23:59:54.452826Z"
    },
    "execution": {
     "iopub.execute_input": "2024-05-27T20:24:30.460008Z",
     "iopub.status.busy": "2024-05-27T20:24:30.459867Z",
     "iopub.status.idle": "2024-05-27T20:24:31.401737Z",
     "shell.execute_reply": "2024-05-27T20:24:31.401101Z",
     "shell.execute_reply.started": "2024-05-27T20:24:30.459994Z"
    }
   },
   "outputs": [],
   "source": [
    "plot_composition(adata, y_key='cell_type_annotation_lv1', x_key='cr_lineage', x_rotation=90)"
   ]
  },
  {
   "cell_type": "code",
   "execution_count": null,
   "metadata": {},
   "outputs": [],
   "source": [
    "adata.obs['cr_lineage'].cat.categories"
   ]
  },
  {
   "cell_type": "code",
   "execution_count": null,
   "metadata": {},
   "outputs": [],
   "source": [
    "adata.obs['cr_lineage']= adata.obs['cr_lineage'].cat.add_categories(['TA','Goblet'])"
   ]
  },
  {
   "cell_type": "code",
   "execution_count": null,
   "metadata": {},
   "outputs": [],
   "source": [
    "adata.obs['cr_lineage'].cat.categories"
   ]
  },
  {
   "cell_type": "code",
   "execution_count": null,
   "metadata": {
    "ExecuteTime": {
     "end_time": "2023-11-19T23:59:55.026520Z",
     "start_time": "2023-11-19T23:59:55.020653Z"
    },
    "execution": {
     "iopub.execute_input": "2024-05-27T20:24:31.402552Z",
     "iopub.status.busy": "2024-05-27T20:24:31.402418Z",
     "iopub.status.idle": "2024-05-27T20:24:31.409766Z",
     "shell.execute_reply": "2024-05-27T20:24:31.409207Z",
     "shell.execute_reply.started": "2024-05-27T20:24:31.402538Z"
    }
   },
   "outputs": [],
   "source": [
    "adata.obs.loc[(adata.obs['cr_lineage']=='NA') & (adata.obs['cell_type_annotation_lv1']=='early Enterocyte'),'cr_lineage'] = 'Enterocyte'\n",
    "adata.obs.loc[(adata.obs['cr_lineage']=='NA') & (adata.obs['cell_type_annotation_lv1']=='Enterocyte'),'cr_lineage'] = 'Enterocyte'\n",
    "adata.obs.loc[(adata.obs['cr_lineage']=='NA') & (adata.obs['cell_type_annotation_lv1']=='Goblet prog. (early)'),'cr_lineage'] = 'Goblet'\n",
    "adata.obs.loc[(adata.obs['cr_lineage']=='NA') & (adata.obs['cell_type_annotation_lv1']=='Goblet prog. (late)'),'cr_lineage'] = 'Goblet'\n",
    "adata.obs.loc[(adata.obs['cr_lineage']=='NA') & (adata.obs['cell_type_annotation_lv1']=='Goblet'),'cr_lineage'] = 'Goblet'\n",
    "adata.obs.loc[(adata.obs['cr_lineage']=='NA') & (adata.obs['cell_type_annotation_lv1']=='Goblet/EEC prog. (early)'),'cr_lineage'] = 'Goblet'\n",
    "adata.obs.loc[(adata.obs['cr_lineage']=='NA') & (adata.obs['cell_type_annotation_lv1']=='ISC'),'cr_lineage'] = 'ISC'\n",
    "adata.obs.loc[(adata.obs['cr_lineage']=='NA') & (adata.obs['cell_type_annotation_lv1']=='TA'),'cr_lineage'] = 'TA'\n",
    "adata.obs.loc[(adata.obs['cr_lineage']=='NA') & (adata.obs['cell_type_annotation_lv1']=='TA (prox.))'),'cr_lineage'] = 'TA'"
   ]
  },
  {
   "cell_type": "code",
   "execution_count": null,
   "metadata": {},
   "outputs": [],
   "source": [
    "adata.obs.loc[(adata.obs['cr_lineage']=='NA')  & (adata.obs['cell_type_annotation_lv1'].isin(['EEC prog. (late/Peptide)', 'EEC prog. (late/EC)', 'D-cell (Sst+)'])),'cr_lineage'] = 'EEC'\n",
    "adata.obs.loc[(adata.obs['cr_lineage']=='NA')  & (adata.obs['cell_type_annotation_lv1'].isin(['Goblet-Paneth-like', 'Goblet-Paneth-like(cycling)'])),'cr_lineage'] = 'Goblet'"
   ]
  },
  {
   "cell_type": "code",
   "execution_count": null,
   "metadata": {
    "ExecuteTime": {
     "end_time": "2023-11-19T23:59:55.085525Z",
     "start_time": "2023-11-19T23:59:55.071854Z"
    },
    "execution": {
     "iopub.execute_input": "2024-05-27T20:24:31.458704Z",
     "iopub.status.busy": "2024-05-27T20:24:31.458452Z",
     "iopub.status.idle": "2024-05-27T20:24:31.472725Z",
     "shell.execute_reply": "2024-05-27T20:24:31.472140Z",
     "shell.execute_reply.started": "2024-05-27T20:24:31.458678Z"
    }
   },
   "outputs": [],
   "source": [
    "adata.obs['cr_lineage'] = adata.obs['cr_lineage'].cat.remove_unused_categories()"
   ]
  },
  {
   "cell_type": "code",
   "execution_count": null,
   "metadata": {},
   "outputs": [],
   "source": [
    "adata.obs['cr_lineage'].cat.categories"
   ]
  },
  {
   "cell_type": "code",
   "execution_count": null,
   "metadata": {
    "ExecuteTime": {
     "end_time": "2023-11-19T23:59:55.100722Z",
     "start_time": "2023-11-19T23:59:55.086660Z"
    },
    "execution": {
     "iopub.execute_input": "2024-05-27T20:24:31.473713Z",
     "iopub.status.busy": "2024-05-27T20:24:31.473507Z",
     "iopub.status.idle": "2024-05-27T20:24:31.498672Z",
     "shell.execute_reply": "2024-05-27T20:24:31.498039Z",
     "shell.execute_reply.started": "2024-05-27T20:24:31.473691Z"
    }
   },
   "outputs": [],
   "source": [
    "adata.obs['cr_lineage'].value_counts()"
   ]
  },
  {
   "cell_type": "code",
   "execution_count": null,
   "metadata": {
    "ExecuteTime": {
     "end_time": "2023-11-19T23:59:55.635854Z",
     "start_time": "2023-11-19T23:59:55.101781Z"
    },
    "execution": {
     "iopub.execute_input": "2024-05-27T20:24:31.499888Z",
     "iopub.status.busy": "2024-05-27T20:24:31.499464Z",
     "iopub.status.idle": "2024-05-27T20:24:31.984607Z",
     "shell.execute_reply": "2024-05-27T20:24:31.984017Z",
     "shell.execute_reply.started": "2024-05-27T20:24:31.499864Z"
    }
   },
   "outputs": [],
   "source": [
    "sc.pl.umap(adata, color=['cr_lineage'], size=7, add_outline=True, alpha=1, outline_width=(0.3, 0.0))"
   ]
  },
  {
   "cell_type": "markdown",
   "metadata": {},
   "source": [
    "### Cell Types"
   ]
  },
  {
   "cell_type": "code",
   "execution_count": null,
   "metadata": {
    "execution": {
     "iopub.execute_input": "2024-05-27T20:24:31.985413Z",
     "iopub.status.busy": "2024-05-27T20:24:31.985279Z",
     "iopub.status.idle": "2024-05-27T20:24:33.456152Z",
     "shell.execute_reply": "2024-05-27T20:24:33.455572Z",
     "shell.execute_reply.started": "2024-05-27T20:24:31.985399Z"
    }
   },
   "outputs": [],
   "source": [
    "annotation_key = 'cr_cell_type'\n",
    "adata.obs[annotation_key] = 'NA'\n",
    "\n",
    "lineage = 'EEC'\n",
    "\n",
    "adata.obs['fp_' + lineage + '_states'] = (2*adata.obs['fp_' + lineage] + adata.obs['term_states_fwd_probs'])/3\n",
    "adata.obs.loc[adata.obs.cr_lineage.isin([lineage]),annotation_key] = pd.cut(adata.obs.loc[adata.obs.cr_lineage.isin([lineage]),'fp_' + lineage + '_states'], bins=[-10, 0.4, 0.8, 0.9, 10], labels=[lineage+' prog. (early)',lineage+' prog. (mid)',lineage+' prog. (late)',lineage])\n",
    "#sc.pl.umap(adata, color=['Neurog3','Sox4',annotation_key], size=10, add_outline=True, alpha=1, outline_width=(0.3, 0.0), layer='log_dca_counts', ncols=2)\n",
    "\n",
    "'''lineage = 'Goblet'\n",
    "adata.obs['fp_' + lineage + '_states'] = (3*adata.obs['fp_' + lineage] + adata.obs['term_states_fwd_probs'])/4\n",
    "adata.obs.loc[adata.obs.cr_lineage.isin([lineage]),annotation_key] = pd.cut(adata.obs.loc[adata.obs.cr_lineage.isin([lineage]),'fp_' + lineage + '_states'], bins=[-10, 0.55, 0.6, 10], labels=[lineage+' prog. (early)',lineage+' prog. (late)',lineage])'''\n",
    "\n",
    "lineage = 'Tuft'\n",
    "adata.obs.loc[adata.obs.cr_lineage.isin([lineage]),annotation_key] = pd.cut(adata.obs.loc[adata.obs.cr_lineage.isin([lineage]),'fp_' + lineage], bins=[-10, 0.81, 0.85, 10], labels=[lineage+' prog. (early)',lineage+' prog. (late)',lineage])\n",
    "\n",
    "lineage = 'Enterocyte'\n",
    "adata.obs['fp_' + lineage + '_states'] = (2*adata.obs['fp_' + lineage] + adata.obs['term_states_fwd_probs'])/3\n",
    "adata.obs.loc[adata.obs.cr_lineage.isin([lineage]),annotation_key] = pd.cut(adata.obs.loc[adata.obs.cr_lineage.isin([lineage]),'fp_' + lineage + '_states'], bins=[-10, 0.835, 0.92, 10], labels=[lineage+' prog. (early)',lineage+' prog. (late)',lineage])\n",
    "\n",
    "lineage = 'Paneth'\n",
    "adata.obs.loc[adata.obs.cr_lineage.isin([lineage]),annotation_key] = pd.cut(adata.obs.loc[adata.obs.cr_lineage.isin([lineage]),'fp_' + lineage], bins=[-10, 0, 10], labels=[lineage+' prog. (late)',lineage])\n",
    "\n",
    "lineage = 'ISC'\n",
    "adata.obs.loc[adata.obs.cr_lineage.isin([lineage]),annotation_key] = pd.cut(adata.obs.loc[adata.obs.cr_lineage.isin([lineage]),'term_states_rev_probs'], bins=[-10, 0, 10], labels=[lineage+' prog. (late)',lineage])\n",
    "\n"
   ]
  },
  {
   "cell_type": "code",
   "execution_count": null,
   "metadata": {},
   "outputs": [],
   "source": [
    "sc.pl.umap(adata, color=[annotation_key], size=8, add_outline=True, alpha=1, outline_width=(0.3, 0.0), save = 'umap_cellrank_cell_types.png')\n",
    "cr.pl.circular_projection(adata, keys=[annotation_key], legend_loc=\"right\", lineage_order='default', \n",
    "                          lineages=['X-cell (Ghrl+)', 'L/I-cell (Glp1+/Cck+)','D-cell (Sst+)', 'EC (mature)', 'Enterocyte', 'Tuft', 'Paneth'], legend_fontsize=10, label_distance= 1.1, fontsize =15, figsize=(20,20) ,save = 'circ_proj_cellrank_cell_types.png')"
   ]
  },
  {
   "cell_type": "code",
   "execution_count": null,
   "metadata": {},
   "outputs": [],
   "source": [
    "adata "
   ]
  },
  {
   "cell_type": "code",
   "execution_count": null,
   "metadata": {},
   "outputs": [],
   "source": [
    "adata.obs['pseudotime'] = adata.obs.loc[:,['palantir_pseudotime','dpt_pseudotime']].mean(axis=1)#, 'ct_pseudotime', 'sctour_pseudotime', 'latent_time']].mean(axis=1) #'sct_pseudotime'\n",
    "adata.obs['pseudotime'] = adata.obs['pseudotime'] - min(adata.obs['pseudotime'])\n",
    "adata.obs['pseudotime'] = adata.obs['pseudotime']/max(adata.obs['pseudotime'])"
   ]
  },
  {
   "cell_type": "code",
   "execution_count": null,
   "metadata": {},
   "outputs": [],
   "source": [
    "adata.obs['cr_cell_type'].cat.categories"
   ]
  },
  {
   "cell_type": "code",
   "execution_count": null,
   "metadata": {},
   "outputs": [],
   "source": [
    "# Step 2: Define the new category order\n",
    "new_order = [\n",
    "    'ISC', 'NA', \n",
    "    'Enterocyte prog. (early)', 'Enterocyte prog. (late)', 'Enterocyte', \n",
    "    'Tuft prog. (early)', 'Tuft prog. (late)', 'Tuft', \n",
    "    'EEC prog. (early)', 'EEC prog. (mid)', 'EEC prog. (late)', 'EEC',\n",
    "    'Paneth'\n",
    "]\n",
    "\n",
    "# Step 3: Reorder the categories\n",
    "adata.obs['cr_cell_type'] = adata.obs['cr_cell_type'].cat.reorder_categories(new_order, ordered=True)\n"
   ]
  },
  {
   "cell_type": "code",
   "execution_count": null,
   "metadata": {
    "ExecuteTime": {
     "end_time": "2023-11-19T23:59:57.592793Z",
     "start_time": "2023-11-19T23:59:57.178536Z"
    },
    "execution": {
     "iopub.execute_input": "2024-05-27T20:24:33.456963Z",
     "iopub.status.busy": "2024-05-27T20:24:33.456829Z",
     "iopub.status.idle": "2024-05-27T20:24:33.979062Z",
     "shell.execute_reply": "2024-05-27T20:24:33.978493Z",
     "shell.execute_reply.started": "2024-05-27T20:24:33.456950Z"
    }
   },
   "outputs": [],
   "source": [
    "with rc_context({'figure.figsize':(6,4)}):\n",
    "    sc.pl.violin(adata, use_raw=False, keys=['pseudotime'], groupby='cr_cell_type', rotation=90, save = 'pseudotime_by_cr_cell_annop.png')"
   ]
  },
  {
   "cell_type": "code",
   "execution_count": null,
   "metadata": {
    "ExecuteTime": {
     "end_time": "2023-11-20T00:00:03.080828Z",
     "start_time": "2023-11-19T23:59:57.594595Z"
    },
    "execution": {
     "iopub.execute_input": "2024-05-27T20:24:33.979803Z",
     "iopub.status.busy": "2024-05-27T20:24:33.979670Z",
     "iopub.status.idle": "2024-05-27T20:24:40.855829Z",
     "shell.execute_reply": "2024-05-27T20:24:40.855225Z",
     "shell.execute_reply.started": "2024-05-27T20:24:33.979790Z"
    }
   },
   "outputs": [],
   "source": [
    "with rc_context({'figure.figsize':(5,3)}):\n",
    "    s = 0\n",
    "    for n in [3,7,10]:\n",
    "        sc.pl.violin(adata, use_raw=False, keys=fate_probability_keys[s:n+1], groupby='cr_cell_type', rotation=90)\n",
    "        s =n+1"
   ]
  },
  {
   "cell_type": "code",
   "execution_count": null,
   "metadata": {
    "ExecuteTime": {
     "end_time": "2023-11-20T00:00:03.899767Z",
     "start_time": "2023-11-20T00:00:03.082520Z"
    },
    "execution": {
     "iopub.execute_input": "2024-05-27T20:24:40.856625Z",
     "iopub.status.busy": "2024-05-27T20:24:40.856483Z",
     "iopub.status.idle": "2024-05-27T20:24:41.665394Z",
     "shell.execute_reply": "2024-05-27T20:24:41.664788Z",
     "shell.execute_reply.started": "2024-05-27T20:24:40.856610Z"
    }
   },
   "outputs": [],
   "source": [
    "comp = plot_composition(adata, x_key='cell_type_annotation_lv1', y_key='cr_cell_type', x_rotation=90)"
   ]
  },
  {
   "cell_type": "code",
   "execution_count": null,
   "metadata": {
    "ExecuteTime": {
     "end_time": "2023-11-20T00:00:04.746289Z",
     "start_time": "2023-11-20T00:00:03.901050Z"
    },
    "execution": {
     "iopub.execute_input": "2024-05-27T20:24:41.666245Z",
     "iopub.status.busy": "2024-05-27T20:24:41.666096Z",
     "iopub.status.idle": "2024-05-27T20:24:42.495253Z",
     "shell.execute_reply": "2024-05-27T20:24:42.494645Z",
     "shell.execute_reply.started": "2024-05-27T20:24:41.666230Z"
    }
   },
   "outputs": [],
   "source": [
    "comp = plot_composition(adata, y_key='cell_type_annotation_lv1', x_key='cr_cell_type', x_rotation=90)"
   ]
  },
  {
   "cell_type": "markdown",
   "metadata": {},
   "source": [
    "## Combine Clustering and CellRank-Based Annotations"
   ]
  },
  {
   "cell_type": "code",
   "execution_count": null,
   "metadata": {
    "ExecuteTime": {
     "end_time": "2023-11-20T00:00:13.690805Z",
     "start_time": "2023-11-20T00:00:12.368915Z"
    },
    "execution": {
     "iopub.execute_input": "2024-05-27T20:24:42.496061Z",
     "iopub.status.busy": "2024-05-27T20:24:42.495917Z",
     "iopub.status.idle": "2024-05-27T20:24:43.793829Z",
     "shell.execute_reply": "2024-05-27T20:24:43.793222Z",
     "shell.execute_reply.started": "2024-05-27T20:24:42.496047Z"
    }
   },
   "outputs": [],
   "source": [
    "sc.pl.umap(adata, color=['cell_type_annotation_lv1','cr_cell_type'], size=10, add_outline=True, alpha=1, outline_width=(0.3, 0.0), wspace=1, layer='log_dca_counts')"
   ]
  },
  {
   "cell_type": "markdown",
   "metadata": {},
   "source": [
    "### Cell Type Fine with EEC Subtypes"
   ]
  },
  {
   "cell_type": "code",
   "execution_count": null,
   "metadata": {
    "ExecuteTime": {
     "end_time": "2023-11-20T00:00:13.696365Z",
     "start_time": "2023-11-20T00:00:13.692159Z"
    },
    "execution": {
     "iopub.execute_input": "2024-05-27T20:24:43.795188Z",
     "iopub.status.busy": "2024-05-27T20:24:43.794660Z",
     "iopub.status.idle": "2024-05-27T20:24:43.799792Z",
     "shell.execute_reply": "2024-05-27T20:24:43.799205Z",
     "shell.execute_reply.started": "2024-05-27T20:24:43.795167Z"
    }
   },
   "outputs": [],
   "source": [
    "adata.obs['cell_type_fine_eec'] = list(adata.obs['cell_type_annotation_lv1'])"
   ]
  },
  {
   "cell_type": "code",
   "execution_count": null,
   "metadata": {
    "ExecuteTime": {
     "end_time": "2023-11-20T00:00:13.727526Z",
     "start_time": "2023-11-20T00:00:13.697592Z"
    },
    "execution": {
     "iopub.execute_input": "2024-05-27T20:24:43.800563Z",
     "iopub.status.busy": "2024-05-27T20:24:43.800426Z",
     "iopub.status.idle": "2024-05-27T20:24:43.829570Z",
     "shell.execute_reply": "2024-05-27T20:24:43.828714Z",
     "shell.execute_reply.started": "2024-05-27T20:24:43.800549Z"
    }
   },
   "outputs": [],
   "source": [
    "adata.obs.loc[(adata.obs['cell_type_fine_eec'].isin(['EEC prog. (mid)','Goblet/EEC prog. (early)','ISC','Tuft prog. (early)'])) & \n",
    "              (~adata.obs['cr_cell_type'].isin(['Enterocyte prog. (early)'])),'cell_type_fine_eec'] = list(adata.obs.loc[(adata.obs['cell_type_fine_eec'].isin(['EEC prog. (mid)','Goblet/EEC prog. (early)','ISC','Tuft prog. (early)'])) & \n",
    "              (~adata.obs['cr_cell_type'].isin(['Enterocyte prog. (early)'])),'cr_cell_type'])"
   ]
  },
  {
   "cell_type": "code",
   "execution_count": null,
   "metadata": {
    "ExecuteTime": {
     "end_time": "2023-11-20T00:00:13.747466Z",
     "start_time": "2023-11-20T00:00:13.728935Z"
    },
    "execution": {
     "iopub.execute_input": "2024-05-27T20:24:43.831164Z",
     "iopub.status.busy": "2024-05-27T20:24:43.830801Z",
     "iopub.status.idle": "2024-05-27T20:24:43.842734Z",
     "shell.execute_reply": "2024-05-27T20:24:43.842017Z",
     "shell.execute_reply.started": "2024-05-27T20:24:43.831123Z"
    }
   },
   "outputs": [],
   "source": [
    "adata.obs.loc[(adata.obs['cell_type_fine_eec'].isin(['Enterocyte'])) & \n",
    "              (adata.obs['cr_cell_type'].isin(['Enterocyte prog. (early)','ISC'])),'cell_type_fine_eec'] = 'Enterocyte prog. (TA)'"
   ]
  },
  {
   "cell_type": "code",
   "execution_count": null,
   "metadata": {
    "ExecuteTime": {
     "end_time": "2023-11-20T00:00:15.818719Z",
     "start_time": "2023-11-20T00:00:13.748778Z"
    },
    "execution": {
     "iopub.execute_input": "2024-05-27T20:24:43.843745Z",
     "iopub.status.busy": "2024-05-27T20:24:43.843555Z",
     "iopub.status.idle": "2024-05-27T20:24:46.145943Z",
     "shell.execute_reply": "2024-05-27T20:24:46.145351Z",
     "shell.execute_reply.started": "2024-05-27T20:24:43.843725Z"
    }
   },
   "outputs": [],
   "source": [
    "sc.pl.umap(adata, color=['cell_type_annotation_lv1','cr_cell_type','cell_type_fine_eec'], size=10, add_outline=True, alpha=1, outline_width=(0.3, 0.0), layer='log_dca_counts', wspace=1)"
   ]
  },
  {
   "cell_type": "code",
   "execution_count": null,
   "metadata": {
    "ExecuteTime": {
     "end_time": "2023-11-20T00:00:15.823484Z",
     "start_time": "2023-11-20T00:00:15.819907Z"
    },
    "execution": {
     "iopub.execute_input": "2024-05-27T20:24:46.146755Z",
     "iopub.status.busy": "2024-05-27T20:24:46.146617Z",
     "iopub.status.idle": "2024-05-27T20:24:46.150689Z",
     "shell.execute_reply": "2024-05-27T20:24:46.150131Z",
     "shell.execute_reply.started": "2024-05-27T20:24:46.146741Z"
    }
   },
   "outputs": [],
   "source": [
    "adata.obs['cell_type_fine_eec'] = adata.obs['cell_type_fine_eec'].cat.reorder_categories(['ISC', 'EEC prog. (early)', 'EEC prog. (mid)', 'EEC prog. (late/EC)','EC (immature)','EC (mature)', 'EEC prog. (late/Peptide)'\n",
    "                                                                              ,'X-cell (Ghrl+)','L/I-cell (Glp1+/Cck+)','L-cell (Glp1+)', 'K-cell (Gip+)', 'D-cell (Sst+)',\n",
    "                                                                         'Goblet prog. (early)', 'Goblet prog. (late)', 'Goblet', 'Paneth', 'Tuft prog. (early)', 'Tuft prog. (late)', 'Tuft', 'Enterocyte prog. (TA)', 'Enterocyte' ])"
   ]
  },
  {
   "cell_type": "code",
   "execution_count": null,
   "metadata": {
    "ExecuteTime": {
     "end_time": "2023-11-20T00:00:15.853286Z",
     "start_time": "2023-11-20T00:00:15.824676Z"
    },
    "execution": {
     "iopub.execute_input": "2024-05-27T20:24:46.151695Z",
     "iopub.status.busy": "2024-05-27T20:24:46.151313Z",
     "iopub.status.idle": "2024-05-27T20:24:46.180482Z",
     "shell.execute_reply": "2024-05-27T20:24:46.179756Z",
     "shell.execute_reply.started": "2024-05-27T20:24:46.151680Z"
    }
   },
   "outputs": [],
   "source": [
    "adata.uns['cell_type_fine_eec_colors'] = [\n",
    "'#d0d0d0', #ISC\n",
    "'#b0b8d4', #EEC prog. (early)\n",
    "'#8ca1d7', #EEC prog. (mid)\n",
    "'#a08ab8',# 'EEC prog. (late/EC)',\n",
    "'#ac7199',# 'EC (immature)',\n",
    "'#b2577c',# 'EC (mature)',\n",
    "'#75afbd',#'#6c99ab',# 'EEC prog. (late/Peptide)',\n",
    "'#52c471',#'#488f81',# 'X-cell (Ghrl+)',\n",
    "'#00b297',# 'L/I-cell (Glp1+/Cck+)',\n",
    "'#2994ba',# 'L-cell (Glp1+)',\n",
    "'#0076dc',# 'K-cell (Gip+)',\n",
    "'#5e6ac9',# 'D-cell (Sst+)',\n",
    "'#eab694', #Goblet prog. (early)\n",
    "'#f89b58', #Goblet prog. (late)\n",
    "'#ff7f00', #Goblet\n",
    "'#984ea3', # Paneth\n",
    "'#e4a091', #Tuft prog. (early)\n",
    "'#e96b56', #Tuft prog. (late)\n",
    "'#e41a1c', #Tuft\n",
    "'#86bd77', #Enterocyte prog. (TA) \n",
    "'#00a704' #Enterocyte\n",
    "]"
   ]
  },
  {
   "cell_type": "code",
   "execution_count": null,
   "metadata": {
    "ExecuteTime": {
     "end_time": "2023-11-20T00:00:16.589617Z",
     "start_time": "2023-11-20T00:00:15.855184Z"
    },
    "execution": {
     "iopub.execute_input": "2024-05-27T20:24:46.181885Z",
     "iopub.status.busy": "2024-05-27T20:24:46.181382Z",
     "iopub.status.idle": "2024-05-27T20:24:46.893383Z",
     "shell.execute_reply": "2024-05-27T20:24:46.892579Z",
     "shell.execute_reply.started": "2024-05-27T20:24:46.181858Z"
    }
   },
   "outputs": [],
   "source": [
    "sc.pl.umap(adata, color=['cell_type_fine_eec'], size=7, add_outline=True, alpha=1, outline_width=(0.3, 0.0), layer='log_dca_counts', wspace=1)"
   ]
  },
  {
   "cell_type": "markdown",
   "metadata": {},
   "source": [
    "### Cell Type Fine"
   ]
  },
  {
   "cell_type": "code",
   "execution_count": null,
   "metadata": {
    "ExecuteTime": {
     "end_time": "2023-11-20T00:00:16.594669Z",
     "start_time": "2023-11-20T00:00:16.590920Z"
    },
    "execution": {
     "iopub.execute_input": "2024-05-27T20:24:46.894899Z",
     "iopub.status.busy": "2024-05-27T20:24:46.894376Z",
     "iopub.status.idle": "2024-05-27T20:24:46.900461Z",
     "shell.execute_reply": "2024-05-27T20:24:46.899781Z",
     "shell.execute_reply.started": "2024-05-27T20:24:46.894869Z"
    }
   },
   "outputs": [],
   "source": [
    "cluster_anno = dict()\n",
    "for cat in adata.obs['cell_type_fine_eec'].cat.categories:\n",
    "\n",
    "    cluster_anno[str(cat)] = cat\n",
    "\n",
    "\n",
    "cluster_anno"
   ]
  },
  {
   "cell_type": "code",
   "execution_count": null,
   "metadata": {
    "ExecuteTime": {
     "end_time": "2023-11-20T00:00:16.617843Z",
     "start_time": "2023-11-20T00:00:16.596238Z"
    },
    "execution": {
     "iopub.execute_input": "2024-05-27T20:24:46.901532Z",
     "iopub.status.busy": "2024-05-27T20:24:46.901323Z",
     "iopub.status.idle": "2024-05-27T20:24:46.923596Z",
     "shell.execute_reply": "2024-05-27T20:24:46.922880Z",
     "shell.execute_reply.started": "2024-05-27T20:24:46.901518Z"
    }
   },
   "outputs": [],
   "source": [
    "cluster_anno = {'ISC': 'ISC',\n",
    " 'EEC prog. (early)': 'EEC prog. (early)',\n",
    " 'EEC prog. (mid)': 'EEC prog. (mid)',\n",
    " 'EEC prog. (late/EC)': 'EEC prog. (late)',\n",
    " 'EC (immature)': 'EEC',\n",
    " 'EC (mature)': 'EEC',\n",
    " 'EEC prog. (late/Peptide)': 'EEC prog. (late)',\n",
    " 'X-cell (Ghrl+)': 'EEC',\n",
    " 'L/I-cell (Glp1+/Cck+)': 'EEC',\n",
    " 'L-cell (Glp1+)': 'EEC',\n",
    " 'K-cell (Gip+)': 'EEC',\n",
    " 'D-cell (Sst+)': 'EEC',\n",
    " 'Goblet prog. (early)': 'Goblet prog. (early)',\n",
    " 'Goblet prog. (late)': 'Goblet prog. (late)',\n",
    " 'Goblet': 'Goblet',\n",
    " 'Paneth': 'Paneth',\n",
    " 'Tuft prog. (early)': 'Tuft prog. (early)',\n",
    " 'Tuft prog. (late)': 'Tuft prog. (late)',\n",
    " 'Tuft': 'Tuft',\n",
    " 'Enterocyte prog. (TA)': 'Enterocyte prog. (TA)',\n",
    " 'Enterocyte': 'Enterocyte'}"
   ]
  },
  {
   "cell_type": "code",
   "execution_count": null,
   "metadata": {
    "ExecuteTime": {
     "end_time": "2023-11-20T00:00:16.650857Z",
     "start_time": "2023-11-20T00:00:16.619576Z"
    },
    "execution": {
     "iopub.execute_input": "2024-05-27T20:24:46.924973Z",
     "iopub.status.busy": "2024-05-27T20:24:46.924463Z",
     "iopub.status.idle": "2024-05-27T20:24:46.958001Z",
     "shell.execute_reply": "2024-05-27T20:24:46.957281Z",
     "shell.execute_reply.started": "2024-05-27T20:24:46.924938Z"
    }
   },
   "outputs": [],
   "source": [
    "adata.obs['cell_type_fine'] = adata.obs.cell_type_fine_eec.astype(\"str\")\n",
    "adata.obs.cell_type_fine = adata.obs.cell_type_fine.map(cluster_anno).astype(\"category\")"
   ]
  },
  {
   "cell_type": "code",
   "execution_count": null,
   "metadata": {
    "ExecuteTime": {
     "end_time": "2023-11-20T00:00:16.662821Z",
     "start_time": "2023-11-20T00:00:16.652191Z"
    },
    "execution": {
     "iopub.execute_input": "2024-05-27T20:24:46.958765Z",
     "iopub.status.busy": "2024-05-27T20:24:46.958634Z",
     "iopub.status.idle": "2024-05-27T20:24:46.962452Z",
     "shell.execute_reply": "2024-05-27T20:24:46.961865Z",
     "shell.execute_reply.started": "2024-05-27T20:24:46.958751Z"
    }
   },
   "outputs": [],
   "source": [
    "adata.obs['cell_type_fine'] = adata.obs['cell_type_fine'].cat.reorder_categories(['ISC', 'EEC prog. (early)', 'EEC prog. (mid)', 'EEC prog. (late)','EEC',\n",
    "                                                                         'Goblet prog. (early)', 'Goblet prog. (late)', 'Goblet', 'Paneth', 'Tuft prog. (early)', 'Tuft prog. (late)', 'Tuft', 'Enterocyte prog. (TA)', 'Enterocyte' ])"
   ]
  },
  {
   "cell_type": "code",
   "execution_count": null,
   "metadata": {
    "ExecuteTime": {
     "end_time": "2023-11-20T00:00:16.686100Z",
     "start_time": "2023-11-20T00:00:16.663930Z"
    },
    "execution": {
     "iopub.execute_input": "2024-05-27T20:24:46.963391Z",
     "iopub.status.busy": "2024-05-27T20:24:46.963100Z",
     "iopub.status.idle": "2024-05-27T20:24:46.986522Z",
     "shell.execute_reply": "2024-05-27T20:24:46.985844Z",
     "shell.execute_reply.started": "2024-05-27T20:24:46.963375Z"
    }
   },
   "outputs": [],
   "source": [
    "adata.uns['cell_type_fine_colors'] = [\n",
    "    '#d0d0d0', #ISC\n",
    "    '#b0b8d4', #EEC prog. (early)\n",
    "    '#8ca1d7', #EEC prog. (mid)\n",
    "    '#618bda', #EEC prog. (late)\n",
    "    '#0076dc', #EEC\n",
    "    '#eab694', #Goblet prog. (early)\n",
    "    '#f89b58', #Goblet prog. (late)\n",
    "    '#ff7f00', #Goblet\n",
    "    '#984ea3', # Paneth\n",
    "    '#e4a091', #Tuft prog. (early)\n",
    "    '#e96b56', #Tuft prog. (late)\n",
    "    '#e41a1c', #Tuft\n",
    "    '#86bd77', #Enterocyte prog. (TA) \n",
    "    '#00a704' #Enterocyte\n",
    "    \n",
    "]"
   ]
  },
  {
   "cell_type": "code",
   "execution_count": null,
   "metadata": {
    "ExecuteTime": {
     "end_time": "2023-11-20T00:00:17.327216Z",
     "start_time": "2023-11-20T00:00:16.687654Z"
    },
    "execution": {
     "iopub.execute_input": "2024-05-27T20:24:46.987873Z",
     "iopub.status.busy": "2024-05-27T20:24:46.987432Z",
     "iopub.status.idle": "2024-05-27T20:24:47.590816Z",
     "shell.execute_reply": "2024-05-27T20:24:47.590048Z",
     "shell.execute_reply.started": "2024-05-27T20:24:46.987846Z"
    }
   },
   "outputs": [],
   "source": [
    "sc.pl.umap(adata, color=['cell_type_fine'], size=7, add_outline=True, alpha=1, outline_width=(0.3, 0.0), layer='log_dca_counts', wspace=1)"
   ]
  },
  {
   "cell_type": "markdown",
   "metadata": {},
   "source": [
    "### Cell Type"
   ]
  },
  {
   "cell_type": "code",
   "execution_count": null,
   "metadata": {
    "ExecuteTime": {
     "end_time": "2023-11-20T00:00:17.332120Z",
     "start_time": "2023-11-20T00:00:17.328414Z"
    },
    "execution": {
     "iopub.execute_input": "2024-05-27T20:24:47.592014Z",
     "iopub.status.busy": "2024-05-27T20:24:47.591773Z",
     "iopub.status.idle": "2024-05-27T20:24:47.597013Z",
     "shell.execute_reply": "2024-05-27T20:24:47.596532Z",
     "shell.execute_reply.started": "2024-05-27T20:24:47.591988Z"
    }
   },
   "outputs": [],
   "source": [
    "cluster_anno = dict()\n",
    "for cat in adata.obs['cell_type_fine'].cat.categories:\n",
    "\n",
    "    cluster_anno[str(cat)] = cat\n",
    "\n",
    "\n",
    "cluster_anno"
   ]
  },
  {
   "cell_type": "code",
   "execution_count": null,
   "metadata": {
    "ExecuteTime": {
     "end_time": "2023-11-20T00:00:17.346684Z",
     "start_time": "2023-11-20T00:00:17.333189Z"
    },
    "execution": {
     "iopub.execute_input": "2024-05-27T20:24:47.597692Z",
     "iopub.status.busy": "2024-05-27T20:24:47.597573Z",
     "iopub.status.idle": "2024-05-27T20:24:47.623935Z",
     "shell.execute_reply": "2024-05-27T20:24:47.623354Z",
     "shell.execute_reply.started": "2024-05-27T20:24:47.597680Z"
    }
   },
   "outputs": [],
   "source": [
    "cluster_anno = {'ISC': 'ISC',\n",
    " 'EEC prog. (early)': 'EEC prog.',\n",
    " 'EEC prog. (mid)': 'EEC prog.',\n",
    " 'EEC prog. (late)': 'EEC prog.',\n",
    " 'EEC': 'EEC',\n",
    " 'Goblet prog. (early)': 'Goblet prog.',\n",
    " 'Goblet prog. (late)': 'Goblet prog.',\n",
    " 'Goblet': 'Goblet',\n",
    " 'Paneth': 'Paneth',\n",
    " 'Tuft prog. (early)': 'Tuft prog.',\n",
    " 'Tuft prog. (late)': 'Tuft prog.',\n",
    " 'Tuft': 'Tuft',\n",
    " 'Enterocyte prog. (TA)': 'Enterocyte prog. (TA)',\n",
    " 'Enterocyte': 'Enterocyte'}"
   ]
  },
  {
   "cell_type": "code",
   "execution_count": null,
   "metadata": {
    "ExecuteTime": {
     "end_time": "2023-11-20T00:00:17.387743Z",
     "start_time": "2023-11-20T00:00:17.348511Z"
    },
    "execution": {
     "iopub.execute_input": "2024-05-27T20:24:47.625207Z",
     "iopub.status.busy": "2024-05-27T20:24:47.624731Z",
     "iopub.status.idle": "2024-05-27T20:24:47.657118Z",
     "shell.execute_reply": "2024-05-27T20:24:47.656545Z",
     "shell.execute_reply.started": "2024-05-27T20:24:47.625182Z"
    }
   },
   "outputs": [],
   "source": [
    "adata.obs['cell_type'] = adata.obs.cell_type_fine.astype(\"str\")\n",
    "adata.obs.cell_type = adata.obs.cell_type.map(cluster_anno).astype(\"category\")"
   ]
  },
  {
   "cell_type": "code",
   "execution_count": null,
   "metadata": {
    "ExecuteTime": {
     "end_time": "2023-11-20T00:00:17.399359Z",
     "start_time": "2023-11-20T00:00:17.388991Z"
    },
    "execution": {
     "iopub.execute_input": "2024-05-27T20:24:47.657880Z",
     "iopub.status.busy": "2024-05-27T20:24:47.657745Z",
     "iopub.status.idle": "2024-05-27T20:24:47.661257Z",
     "shell.execute_reply": "2024-05-27T20:24:47.660779Z",
     "shell.execute_reply.started": "2024-05-27T20:24:47.657866Z"
    }
   },
   "outputs": [],
   "source": [
    "adata.obs['cell_type'] = adata.obs['cell_type'].cat.reorder_categories(['ISC', 'EEC prog.','EEC',\n",
    "                                                                         'Goblet prog.', 'Goblet', 'Paneth', 'Tuft prog.', 'Tuft', 'Enterocyte prog. (TA)', 'Enterocyte' ])"
   ]
  },
  {
   "cell_type": "code",
   "execution_count": null,
   "metadata": {
    "ExecuteTime": {
     "end_time": "2023-11-20T00:00:17.422710Z",
     "start_time": "2023-11-20T00:00:17.400396Z"
    },
    "execution": {
     "iopub.execute_input": "2024-05-27T20:24:47.662060Z",
     "iopub.status.busy": "2024-05-27T20:24:47.661807Z",
     "iopub.status.idle": "2024-05-27T20:24:47.676211Z",
     "shell.execute_reply": "2024-05-27T20:24:47.675558Z",
     "shell.execute_reply.started": "2024-05-27T20:24:47.662046Z"
    }
   },
   "outputs": [],
   "source": [
    "adata.uns['cell_type_colors'] = [\n",
    "    '#d0d0d0', #ISC\n",
    "    '#8ca1d7', #EEC prog.\n",
    "    '#0076dc', #EEC\n",
    "    '#f2a976', #Goblet prog.\n",
    "    '#ff7f00', #Goblet\n",
    "    '#984ea3', # Paneth\n",
    "    '#e88673', #Tuft prog.\n",
    "    '#e41a1c', #Tuft\n",
    "    '#86bd77', #Enterocyte prog. (TA) \n",
    "    '#00a704' #Enterocyte\n",
    "    \n",
    "]"
   ]
  },
  {
   "cell_type": "code",
   "execution_count": null,
   "metadata": {
    "ExecuteTime": {
     "end_time": "2023-11-20T00:00:18.010078Z",
     "start_time": "2023-11-20T00:00:17.424383Z"
    },
    "execution": {
     "iopub.execute_input": "2024-05-27T20:24:47.677328Z",
     "iopub.status.busy": "2024-05-27T20:24:47.677078Z",
     "iopub.status.idle": "2024-05-27T20:24:48.217503Z",
     "shell.execute_reply": "2024-05-27T20:24:48.216919Z",
     "shell.execute_reply.started": "2024-05-27T20:24:47.677301Z"
    }
   },
   "outputs": [],
   "source": [
    "sc.pl.umap(adata, color=['cell_type'], size=7, add_outline=True, alpha=1, outline_width=(0.3, 0.0), layer='log_dca_counts', wspace=1)"
   ]
  },
  {
   "cell_type": "markdown",
   "metadata": {},
   "source": [
    "### Cell Type with Early Prog."
   ]
  },
  {
   "cell_type": "code",
   "execution_count": null,
   "metadata": {
    "ExecuteTime": {
     "end_time": "2023-11-20T00:00:18.014991Z",
     "start_time": "2023-11-20T00:00:18.011270Z"
    },
    "execution": {
     "iopub.execute_input": "2024-05-27T20:24:48.218919Z",
     "iopub.status.busy": "2024-05-27T20:24:48.218364Z",
     "iopub.status.idle": "2024-05-27T20:24:48.224043Z",
     "shell.execute_reply": "2024-05-27T20:24:48.223443Z",
     "shell.execute_reply.started": "2024-05-27T20:24:48.218891Z"
    }
   },
   "outputs": [],
   "source": [
    "cluster_anno = dict()\n",
    "for cat in adata.obs['cell_type_fine'].cat.categories:\n",
    "\n",
    "    cluster_anno[str(cat)] = cat\n",
    "\n",
    "\n",
    "cluster_anno"
   ]
  },
  {
   "cell_type": "code",
   "execution_count": null,
   "metadata": {
    "ExecuteTime": {
     "end_time": "2023-11-20T00:00:18.037851Z",
     "start_time": "2023-11-20T00:00:18.016100Z"
    },
    "execution": {
     "iopub.execute_input": "2024-05-27T20:24:48.225304Z",
     "iopub.status.busy": "2024-05-27T20:24:48.224845Z",
     "iopub.status.idle": "2024-05-27T20:24:48.246643Z",
     "shell.execute_reply": "2024-05-27T20:24:48.246197Z",
     "shell.execute_reply.started": "2024-05-27T20:24:48.225278Z"
    }
   },
   "outputs": [],
   "source": [
    "cluster_anno = {'ISC': 'ISC',\n",
    " 'EEC prog. (early)': 'Early EEC/Goblet prog.',\n",
    " 'EEC prog. (mid)': 'EEC prog.',\n",
    " 'EEC prog. (late)': 'EEC prog.',\n",
    " 'EEC': 'EEC',\n",
    " 'Goblet prog. (early)': 'Early EEC/Goblet prog.',\n",
    " 'Goblet prog. (late)': 'Goblet prog.',\n",
    " 'Goblet': 'Goblet',\n",
    " 'Paneth': 'Paneth',\n",
    " 'Tuft prog. (early)': 'Tuft prog.',\n",
    " 'Tuft prog. (late)': 'Tuft prog.',\n",
    " 'Tuft': 'Tuft',\n",
    " 'Enterocyte prog. (TA)': 'Enterocyte prog. (TA)',\n",
    " 'Enterocyte': 'Enterocyte'}"
   ]
  },
  {
   "cell_type": "code",
   "execution_count": null,
   "metadata": {
    "ExecuteTime": {
     "end_time": "2023-11-20T00:00:18.061899Z",
     "start_time": "2023-11-20T00:00:18.038890Z"
    },
    "execution": {
     "iopub.execute_input": "2024-05-27T20:24:48.247209Z",
     "iopub.status.busy": "2024-05-27T20:24:48.247091Z",
     "iopub.status.idle": "2024-05-27T20:24:48.282046Z",
     "shell.execute_reply": "2024-05-27T20:24:48.281482Z",
     "shell.execute_reply.started": "2024-05-27T20:24:48.247196Z"
    }
   },
   "outputs": [],
   "source": [
    "adata.obs['cell_type_prog'] = adata.obs.cell_type_fine.astype(\"str\")\n",
    "adata.obs.cell_type_prog = adata.obs.cell_type_prog.map(cluster_anno).astype(\"category\")"
   ]
  },
  {
   "cell_type": "code",
   "execution_count": null,
   "metadata": {
    "ExecuteTime": {
     "end_time": "2023-11-20T00:00:18.073646Z",
     "start_time": "2023-11-20T00:00:18.063126Z"
    },
    "execution": {
     "iopub.execute_input": "2024-05-27T20:24:48.282772Z",
     "iopub.status.busy": "2024-05-27T20:24:48.282643Z",
     "iopub.status.idle": "2024-05-27T20:24:48.299802Z",
     "shell.execute_reply": "2024-05-27T20:24:48.299187Z",
     "shell.execute_reply.started": "2024-05-27T20:24:48.282759Z"
    }
   },
   "outputs": [],
   "source": [
    "adata.obs['cell_type_prog'] = adata.obs['cell_type_prog'].cat.reorder_categories(['ISC', 'Early EEC/Goblet prog.', 'EEC prog.','EEC',\n",
    "                                                                         'Goblet prog.', 'Goblet', 'Paneth', 'Tuft prog.', 'Tuft', 'Enterocyte prog. (TA)', 'Enterocyte' ])"
   ]
  },
  {
   "cell_type": "code",
   "execution_count": null,
   "metadata": {
    "ExecuteTime": {
     "end_time": "2023-11-20T00:00:18.088438Z",
     "start_time": "2023-11-20T00:00:18.074672Z"
    },
    "execution": {
     "iopub.execute_input": "2024-05-27T20:24:48.300836Z",
     "iopub.status.busy": "2024-05-27T20:24:48.300613Z",
     "iopub.status.idle": "2024-05-27T20:24:48.314889Z",
     "shell.execute_reply": "2024-05-27T20:24:48.314313Z",
     "shell.execute_reply.started": "2024-05-27T20:24:48.300813Z"
    }
   },
   "outputs": [],
   "source": [
    "adata.uns['cell_type_prog_colors'] = [\n",
    "    '#d0d0d0', #ISC\n",
    "    '#d0b7b4', #Early EEC/Goblet prog.\n",
    "    '#8ca1d7', #EEC prog.\n",
    "    '#0076dc', #EEC\n",
    "    '#f2a976', #Goblet prog.\n",
    "    '#ff7f00', #Goblet\n",
    "    '#984ea3', # Paneth\n",
    "    '#e88673', #Tuft prog.\n",
    "    '#e41a1c', #Tuft\n",
    "    '#86bd77', #Enterocyte prog. (TA) \n",
    "    '#00a704' #Enterocyte\n",
    "    \n",
    "]"
   ]
  },
  {
   "cell_type": "code",
   "execution_count": null,
   "metadata": {
    "ExecuteTime": {
     "end_time": "2023-11-20T00:00:18.685950Z",
     "start_time": "2023-11-20T00:00:18.089370Z"
    },
    "execution": {
     "iopub.execute_input": "2024-05-27T20:24:48.316074Z",
     "iopub.status.busy": "2024-05-27T20:24:48.315626Z",
     "iopub.status.idle": "2024-05-27T20:24:48.888579Z",
     "shell.execute_reply": "2024-05-27T20:24:48.887963Z",
     "shell.execute_reply.started": "2024-05-27T20:24:48.316051Z"
    }
   },
   "outputs": [],
   "source": [
    "sc.pl.umap(adata, color=['cell_type_prog'], size=7, add_outline=True, alpha=1, outline_width=(0.3, 0.0), layer='log_dca_counts', wspace=1)"
   ]
  },
  {
   "cell_type": "markdown",
   "metadata": {},
   "source": [
    "### Cell Type Broad"
   ]
  },
  {
   "cell_type": "code",
   "execution_count": null,
   "metadata": {
    "ExecuteTime": {
     "end_time": "2023-11-20T00:00:18.690788Z",
     "start_time": "2023-11-20T00:00:18.687252Z"
    },
    "execution": {
     "iopub.execute_input": "2024-05-27T20:24:48.889379Z",
     "iopub.status.busy": "2024-05-27T20:24:48.889245Z",
     "iopub.status.idle": "2024-05-27T20:24:48.893478Z",
     "shell.execute_reply": "2024-05-27T20:24:48.892967Z",
     "shell.execute_reply.started": "2024-05-27T20:24:48.889365Z"
    }
   },
   "outputs": [],
   "source": [
    "cluster_anno = dict()\n",
    "for cat in adata.obs['cell_type'].cat.categories:\n",
    "\n",
    "    cluster_anno[str(cat)] = cat\n",
    "\n",
    "\n",
    "cluster_anno"
   ]
  },
  {
   "cell_type": "code",
   "execution_count": null,
   "metadata": {
    "ExecuteTime": {
     "end_time": "2023-11-20T00:00:18.713613Z",
     "start_time": "2023-11-20T00:00:18.691927Z"
    },
    "execution": {
     "iopub.execute_input": "2024-05-27T20:24:48.894150Z",
     "iopub.status.busy": "2024-05-27T20:24:48.894024Z",
     "iopub.status.idle": "2024-05-27T20:24:48.916312Z",
     "shell.execute_reply": "2024-05-27T20:24:48.915674Z",
     "shell.execute_reply.started": "2024-05-27T20:24:48.894137Z"
    }
   },
   "outputs": [],
   "source": [
    "cluster_anno = {'ISC': 'ISC',\n",
    " 'EEC prog.': 'EEC',\n",
    " 'EEC': 'EEC',\n",
    " 'Goblet prog.': 'Goblet',\n",
    " 'Goblet': 'Goblet',\n",
    " 'Paneth': 'Paneth',\n",
    " 'Tuft prog.': 'Tuft',\n",
    " 'Tuft': 'Tuft',\n",
    " 'Enterocyte prog. (TA)': 'Enterocyte',\n",
    " 'Enterocyte': 'Enterocyte'}"
   ]
  },
  {
   "cell_type": "code",
   "execution_count": null,
   "metadata": {
    "ExecuteTime": {
     "end_time": "2023-11-20T00:00:18.738952Z",
     "start_time": "2023-11-20T00:00:18.715167Z"
    },
    "execution": {
     "iopub.execute_input": "2024-05-27T20:24:48.917621Z",
     "iopub.status.busy": "2024-05-27T20:24:48.917143Z",
     "iopub.status.idle": "2024-05-27T20:24:48.942292Z",
     "shell.execute_reply": "2024-05-27T20:24:48.941728Z",
     "shell.execute_reply.started": "2024-05-27T20:24:48.917596Z"
    }
   },
   "outputs": [],
   "source": [
    "adata.obs['cell_type_broad'] = adata.obs.cell_type.astype(\"str\")\n",
    "adata.obs.cell_type_broad = adata.obs.cell_type_broad.map(cluster_anno).astype(\"category\")"
   ]
  },
  {
   "cell_type": "code",
   "execution_count": null,
   "metadata": {
    "ExecuteTime": {
     "end_time": "2023-11-20T00:00:18.743722Z",
     "start_time": "2023-11-20T00:00:18.740299Z"
    },
    "execution": {
     "iopub.execute_input": "2024-05-27T20:24:48.943021Z",
     "iopub.status.busy": "2024-05-27T20:24:48.942893Z",
     "iopub.status.idle": "2024-05-27T20:24:48.946867Z",
     "shell.execute_reply": "2024-05-27T20:24:48.946391Z",
     "shell.execute_reply.started": "2024-05-27T20:24:48.943008Z"
    }
   },
   "outputs": [],
   "source": [
    "adata.obs['cell_type_broad'] = adata.obs['cell_type_broad'].cat.reorder_categories(['ISC', 'EEC', 'Goblet', 'Paneth', 'Tuft', 'Enterocyte' ])"
   ]
  },
  {
   "cell_type": "code",
   "execution_count": null,
   "metadata": {
    "ExecuteTime": {
     "end_time": "2023-11-20T00:00:18.766513Z",
     "start_time": "2023-11-20T00:00:18.744838Z"
    },
    "execution": {
     "iopub.execute_input": "2024-05-27T20:24:48.947691Z",
     "iopub.status.busy": "2024-05-27T20:24:48.947567Z",
     "iopub.status.idle": "2024-05-27T20:24:48.970193Z",
     "shell.execute_reply": "2024-05-27T20:24:48.969581Z",
     "shell.execute_reply.started": "2024-05-27T20:24:48.947679Z"
    }
   },
   "outputs": [],
   "source": [
    "adata.uns['cell_type_broad_colors'] = [\n",
    "    '#d0d0d0', #ISC\n",
    "    '#0076dc', #EEC\n",
    "    '#ff7f00', #Goblet\n",
    "    '#984ea3', # Paneth\n",
    "    '#e41a1c', #Tuft\n",
    "    '#00a704' #Enterocyte\n",
    "    \n",
    "]"
   ]
  },
  {
   "cell_type": "code",
   "execution_count": null,
   "metadata": {
    "ExecuteTime": {
     "end_time": "2023-11-20T00:00:19.301026Z",
     "start_time": "2023-11-20T00:00:18.767366Z"
    },
    "execution": {
     "iopub.execute_input": "2024-05-27T20:24:48.971494Z",
     "iopub.status.busy": "2024-05-27T20:24:48.971009Z",
     "iopub.status.idle": "2024-05-27T20:24:49.462922Z",
     "shell.execute_reply": "2024-05-27T20:24:49.462332Z",
     "shell.execute_reply.started": "2024-05-27T20:24:48.971470Z"
    }
   },
   "outputs": [],
   "source": [
    "sc.pl.umap(adata, color=['cell_type_broad'], size=7, add_outline=True, alpha=1, outline_width=(0.3, 0.0), layer='log_dca_counts', wspace=1)"
   ]
  },
  {
   "cell_type": "markdown",
   "metadata": {},
   "source": [
    "# Final Embedding"
   ]
  },
  {
   "cell_type": "code",
   "execution_count": null,
   "metadata": {
    "ExecuteTime": {
     "end_time": "2023-11-20T00:13:53.559442Z",
     "start_time": "2023-11-20T00:13:52.281254Z"
    },
    "execution": {
     "iopub.execute_input": "2024-05-27T20:24:49.463704Z",
     "iopub.status.busy": "2024-05-27T20:24:49.463572Z",
     "iopub.status.idle": "2024-05-27T20:24:50.782762Z",
     "shell.execute_reply": "2024-05-27T20:24:50.782198Z",
     "shell.execute_reply.started": "2024-05-27T20:24:49.463690Z"
    }
   },
   "outputs": [],
   "source": [
    "sc.tl.paga(adata, groups='cr_cell_type')\n",
    "with rc_context({'figure.figsize':(8,9)}):\n",
    "    sc.pl.paga(adata)"
   ]
  },
  {
   "cell_type": "code",
   "execution_count": null,
   "metadata": {
    "ExecuteTime": {
     "end_time": "2023-11-20T00:14:00.038469Z",
     "start_time": "2023-11-20T00:13:55.302441Z"
    },
    "execution": {
     "iopub.execute_input": "2024-05-27T20:24:50.783527Z",
     "iopub.status.busy": "2024-05-27T20:24:50.783394Z",
     "iopub.status.idle": "2024-05-27T20:24:56.325482Z",
     "shell.execute_reply": "2024-05-27T20:24:56.324817Z",
     "shell.execute_reply.started": "2024-05-27T20:24:50.783513Z"
    }
   },
   "outputs": [],
   "source": [
    "sc.tl.umap(adata, min_dist=0.3, spread=1, negative_sample_rate=1, gamma=0.25, init_pos='paga')\n",
    "sc.pl.umap(adata, color=['cr_cell_type'], size=7, add_outline=True, alpha=0.7, outline_width=(0.3, 0.0), ncols=4, color_map=mymap)"
   ]
  },
  {
   "cell_type": "code",
   "execution_count": null,
   "metadata": {
    "ExecuteTime": {
     "end_time": "2023-11-20T00:14:20.238113Z",
     "start_time": "2023-11-20T00:14:20.235027Z"
    },
    "execution": {
     "iopub.execute_input": "2024-05-27T20:24:56.326349Z",
     "iopub.status.busy": "2024-05-27T20:24:56.326216Z",
     "iopub.status.idle": "2024-05-27T20:24:56.329100Z",
     "shell.execute_reply": "2024-05-27T20:24:56.328639Z",
     "shell.execute_reply.started": "2024-05-27T20:24:56.326335Z"
    }
   },
   "outputs": [],
   "source": [
    "X_umap = adata.obsm['X_umap'].copy()"
   ]
  },
  {
   "cell_type": "code",
   "execution_count": null,
   "metadata": {
    "ExecuteTime": {
     "end_time": "2023-11-20T00:14:30.910714Z",
     "start_time": "2023-11-20T00:14:30.907633Z"
    },
    "execution": {
     "iopub.execute_input": "2024-05-27T20:24:56.329680Z",
     "iopub.status.busy": "2024-05-27T20:24:56.329560Z",
     "iopub.status.idle": "2024-05-27T20:24:56.352842Z",
     "shell.execute_reply": "2024-05-27T20:24:56.352266Z",
     "shell.execute_reply.started": "2024-05-27T20:24:56.329668Z"
    }
   },
   "outputs": [],
   "source": [
    "adata.obsm['X_umap'][:,0] = -X_umap[:,1]\n",
    "adata.obsm['X_umap'][:,1] = X_umap[:,0]"
   ]
  },
  {
   "cell_type": "code",
   "execution_count": null,
   "metadata": {
    "ExecuteTime": {
     "end_time": "2023-11-20T00:14:32.638509Z",
     "start_time": "2023-11-20T00:14:31.900721Z"
    },
    "execution": {
     "iopub.execute_input": "2024-05-27T20:24:56.353801Z",
     "iopub.status.busy": "2024-05-27T20:24:56.353595Z",
     "iopub.status.idle": "2024-05-27T20:24:57.063613Z",
     "shell.execute_reply": "2024-05-27T20:24:57.062950Z",
     "shell.execute_reply.started": "2024-05-27T20:24:56.353779Z"
    }
   },
   "outputs": [],
   "source": [
    "sc.pl.umap(adata, color=['cell_type_fine_eec'], size=7, add_outline=True, alpha=0.7, outline_width=(0.3, 0.0), ncols=4, color_map=mymap)"
   ]
  },
  {
   "cell_type": "code",
   "execution_count": null,
   "metadata": {
    "ExecuteTime": {
     "end_time": "2023-11-20T00:17:00.666248Z",
     "start_time": "2023-11-20T00:17:00.663044Z"
    },
    "execution": {
     "iopub.execute_input": "2024-05-27T20:24:57.064382Z",
     "iopub.status.busy": "2024-05-27T20:24:57.064250Z",
     "iopub.status.idle": "2024-05-27T20:24:57.067206Z",
     "shell.execute_reply": "2024-05-27T20:24:57.066674Z",
     "shell.execute_reply.started": "2024-05-27T20:24:57.064369Z"
    }
   },
   "outputs": [],
   "source": [
    "adata.obsm['X_umap_1'] = adata.obsm['X_umap'].copy()"
   ]
  },
  {
   "cell_type": "code",
   "execution_count": null,
   "metadata": {
    "ExecuteTime": {
     "end_time": "2023-11-20T00:17:07.946975Z",
     "start_time": "2023-11-20T00:17:07.941732Z"
    },
    "execution": {
     "iopub.execute_input": "2024-05-27T20:24:57.067848Z",
     "iopub.status.busy": "2024-05-27T20:24:57.067724Z",
     "iopub.status.idle": "2024-05-27T20:24:57.090415Z",
     "shell.execute_reply": "2024-05-27T20:24:57.089951Z",
     "shell.execute_reply.started": "2024-05-27T20:24:57.067836Z"
    }
   },
   "outputs": [],
   "source": [
    "x = [-1.8967831515, -0.6309303456,  0.3827609341,  0.9099140789,\n",
    "        2.6775622968, 3.7106613777,  1.8314349218,  2.3410250773,\n",
    "        3.5740502873,  2.9918378132,  2.8622651778,  3.8019963112,\n",
    "       -0.9893851645, -0.1098106305,  0.2936851902,  0.8256345188,\n",
    "       2.4014849551, 4.0493468353, 5.3015194184, -2.8193176011,\n",
    "       -4.7982385463]\n",
    "y = [n*-1 for n in [ 2.9076160547,  2.1498607138,  0.2270826627, -1.2992813705,\n",
    "       0.0251587383,  0.0742913744, -1.4369549157, -2.7514030451,\n",
    "       -3.4287473711, -2.4896041397, -1.7163397366, -2.1320511791,\n",
    "        3.1825299293,  4.0235521491,  4.9837549759,  6.3674694719,\n",
    "        1.5360984981,  1.2070121067,  0.9830056655,  4.4088735203,\n",
    "        6.7755531783]]"
   ]
  },
  {
   "cell_type": "code",
   "execution_count": null,
   "metadata": {
    "ExecuteTime": {
     "end_time": "2023-11-20T00:17:08.084314Z",
     "start_time": "2023-11-20T00:17:07.948935Z"
    },
    "execution": {
     "iopub.execute_input": "2024-05-27T20:24:57.090886Z",
     "iopub.status.busy": "2024-05-27T20:24:57.090773Z",
     "iopub.status.idle": "2024-05-27T20:24:57.230081Z",
     "shell.execute_reply": "2024-05-27T20:24:57.229417Z",
     "shell.execute_reply.started": "2024-05-27T20:24:57.090874Z"
    }
   },
   "outputs": [],
   "source": [
    "sb.scatterplot(x=x, y=y)"
   ]
  },
  {
   "cell_type": "code",
   "execution_count": null,
   "metadata": {
    "ExecuteTime": {
     "end_time": "2023-11-20T00:17:08.088255Z",
     "start_time": "2023-11-20T00:17:08.085863Z"
    },
    "execution": {
     "iopub.execute_input": "2024-05-27T20:24:57.230867Z",
     "iopub.status.busy": "2024-05-27T20:24:57.230732Z",
     "iopub.status.idle": "2024-05-27T20:24:57.233601Z",
     "shell.execute_reply": "2024-05-27T20:24:57.233042Z",
     "shell.execute_reply.started": "2024-05-27T20:24:57.230853Z"
    }
   },
   "outputs": [],
   "source": [
    "init_pos = np.array([x, y]).T"
   ]
  },
  {
   "cell_type": "code",
   "execution_count": null,
   "metadata": {
    "ExecuteTime": {
     "end_time": "2023-11-20T00:17:08.111520Z",
     "start_time": "2023-11-20T00:17:08.089313Z"
    },
    "execution": {
     "iopub.execute_input": "2024-05-27T20:24:57.234266Z",
     "iopub.status.busy": "2024-05-27T20:24:57.234140Z",
     "iopub.status.idle": "2024-05-27T20:24:57.248622Z",
     "shell.execute_reply": "2024-05-27T20:24:57.248165Z",
     "shell.execute_reply.started": "2024-05-27T20:24:57.234253Z"
    }
   },
   "outputs": [],
   "source": [
    "adata.uns['paga']['pos'] = init_pos"
   ]
  },
  {
   "cell_type": "markdown",
   "metadata": {},
   "source": [
    "# Save adata"
   ]
  },
  {
   "cell_type": "code",
   "execution_count": null,
   "metadata": {
    "execution": {
     "iopub.execute_input": "2024-05-27T21:44:14.907907Z",
     "iopub.status.busy": "2024-05-27T21:44:14.907455Z",
     "iopub.status.idle": "2024-05-27T21:44:14.911722Z",
     "shell.execute_reply": "2024-05-27T21:44:14.911187Z",
     "shell.execute_reply.started": "2024-05-27T21:44:14.907880Z"
    }
   },
   "outputs": [],
   "source": [
    "combined_kernel.write_to_adata()"
   ]
  },
  {
   "cell_type": "code",
   "execution_count": null,
   "metadata": {
    "execution": {
     "iopub.execute_input": "2024-05-27T21:44:14.912695Z",
     "iopub.status.busy": "2024-05-27T21:44:14.912562Z",
     "iopub.status.idle": "2024-05-27T21:44:48.417637Z",
     "shell.execute_reply": "2024-05-27T21:44:48.417089Z",
     "shell.execute_reply.started": "2024-05-27T21:44:14.912682Z"
    }
   },
   "outputs": [],
   "source": [
    "combined_kernel.write(fname='_'.join(['/'.join([file_path,file_base_name]),'adata_markedDoublets_mergedPeaks_normalized_initialAnno_rmDoublets_integrated_imputed_annotated_crKernel_combined.plk']), write_adata=True)"
   ]
  },
  {
   "cell_type": "code",
   "execution_count": null,
   "metadata": {
    "ExecuteTime": {
     "end_time": "2023-11-20T00:27:25.565691Z",
     "start_time": "2023-11-20T00:23:49.877326Z"
    },
    "execution": {
     "iopub.execute_input": "2024-05-27T21:44:48.531688Z",
     "iopub.status.busy": "2024-05-27T21:44:48.531192Z",
     "iopub.status.idle": "2024-05-27T21:45:32.416602Z",
     "shell.execute_reply": "2024-05-27T21:45:32.416029Z",
     "shell.execute_reply.started": "2024-05-27T21:44:48.531665Z"
    }
   },
   "outputs": [],
   "source": [
    "adata.write('adata_markedDoublets_normalized_initialAnno_rmDoublets_integrated_imputed_annotatedRefined.h5ad')"
   ]
  },
  {
   "cell_type": "code",
   "execution_count": null,
   "metadata": {},
   "outputs": [],
   "source": [
    "adata = sc.read('adata_markedDoublets_normalized_initialAnno_rmDoublets_integrated_imputed_annotatedRefined.h5ad')"
   ]
  }
 ],
 "metadata": {
  "kernelspec": {
   "display_name": "scUV_scvelo",
   "language": "python",
   "name": "python3"
  },
  "language_info": {
   "codemirror_mode": {
    "name": "ipython",
    "version": 3
   },
   "file_extension": ".py",
   "mimetype": "text/x-python",
   "name": "python",
   "nbconvert_exporter": "python",
   "pygments_lexer": "ipython3",
   "version": "3.10.14"
  },
  "toc": {
   "base_numbering": 1,
   "nav_menu": {},
   "number_sections": true,
   "sideBar": true,
   "skip_h1_title": false,
   "title_cell": "Table of Contents",
   "title_sidebar": "Contents",
   "toc_cell": false,
   "toc_position": {
    "height": "calc(100% - 180px)",
    "left": "10px",
    "top": "150px",
    "width": "268.833px"
   },
   "toc_section_display": true,
   "toc_window_display": true
  },
  "varInspector": {
   "cols": {
    "lenName": 16,
    "lenType": 16,
    "lenVar": 40
   },
   "kernels_config": {
    "python": {
     "delete_cmd_postfix": "",
     "delete_cmd_prefix": "del ",
     "library": "var_list.py",
     "varRefreshCmd": "print(var_dic_list())"
    },
    "r": {
     "delete_cmd_postfix": ") ",
     "delete_cmd_prefix": "rm(",
     "library": "var_list.r",
     "varRefreshCmd": "cat(var_dic_list()) "
    }
   },
   "types_to_exclude": [
    "module",
    "function",
    "builtin_function_or_method",
    "instance",
    "_Feature"
   ],
   "window_display": false
  }
 },
 "nbformat": 4,
 "nbformat_minor": 4
}
