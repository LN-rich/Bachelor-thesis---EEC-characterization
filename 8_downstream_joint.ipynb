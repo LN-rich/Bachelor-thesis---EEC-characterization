{
 "cells": [
  {
   "cell_type": "markdown",
   "metadata": {},
   "source": [
    "# Downstream analyses healthy\n",
    "\n",
    "Hélène Reich 05/08/2024\n",
    "\n",
    "- EEC subclusters and DGE\n",
    "- ISC,TA and Progenitors subclusters and DGE\n",
    "- Paneth, Paneth-Goblet and Progenitors subclusters and DGE"
   ]
  },
  {
   "cell_type": "code",
   "execution_count": null,
   "metadata": {},
   "outputs": [],
   "source": [
    "# General\n",
    "import scipy as sci\n",
    "import numpy as np\n",
    "import pandas as pd\n",
    "import logging\n",
    "import time\n",
    "import pickle\n",
    "from itertools import chain\n",
    "import h5py\n",
    "import scipy.sparse as sparse\n",
    "import anndata as ad\n",
    "import gc\n",
    "import scipy.stats as stats\n",
    "import torch\n",
    "\n",
    "# Plotting\n",
    "import matplotlib.pyplot as plt\n",
    "import matplotlib as mpl\n",
    "import matplotlib.colors as mcolors\n",
    "from matplotlib import rcParams\n",
    "from matplotlib.pyplot import rc_context\n",
    "from matplotlib import cm\n",
    "import seaborn as sb\n",
    "\n",
    "# Analysis\n",
    "import scanpy as sc\n",
    "import scanpy.external as sce\n",
    "import scvi\n"
   ]
  },
  {
   "cell_type": "code",
   "execution_count": null,
   "metadata": {},
   "outputs": [],
   "source": [
    "# Warnings\n",
    "import warnings\n",
    "warnings.filterwarnings('ignore') #(action='once')"
   ]
  },
  {
   "cell_type": "markdown",
   "metadata": {},
   "source": [
    "## setup matplotlib"
   ]
  },
  {
   "cell_type": "code",
   "execution_count": null,
   "metadata": {},
   "outputs": [],
   "source": [
    "# Settings\n",
    "\n",
    "## Directory\n",
    "base_dir = '/mnt/hdd/Notebooks/Gut_project/'\n",
    "sc.settings.figdir = base_dir + 'Figures'\n",
    "sc.settings.cachedir = base_dir + 'Cache'\n",
    "\n",
    "## Scanpy settings\n",
    "sc.settings.verbosity = 3\n",
    "sc.logging.print_header()\n",
    "sc.logging.print_versions()\n",
    "\n",
    "import warnings\n",
    "warnings.filterwarnings('ignore')"
   ]
  },
  {
   "cell_type": "code",
   "execution_count": null,
   "metadata": {},
   "outputs": [],
   "source": [
    "%run utils.ipynb"
   ]
  },
  {
   "cell_type": "code",
   "execution_count": null,
   "metadata": {},
   "outputs": [],
   "source": [
    "mymap = load_RdOrYl_cmap_settings(transparent=False)"
   ]
  },
  {
   "cell_type": "markdown",
   "metadata": {},
   "source": [
    "### load Adata"
   ]
  },
  {
   "cell_type": "code",
   "execution_count": null,
   "metadata": {},
   "outputs": [],
   "source": [
    "adata = sc.read_h5ad('joint_diseased_healthy_with_layers_metadata_corrected_anno_updated.h5ad')"
   ]
  },
  {
   "cell_type": "code",
   "execution_count": null,
   "metadata": {},
   "outputs": [],
   "source": [
    "## add metadata\n",
    "metadata_df =read_excel_metadata(f'/mnt/hdd/data/metadata_mouse_gut.xlsx')\n",
    "# Ensure folder name is the index in metadata for easier access\n",
    "metadata_df.drop(metadata_df[metadata_df['kit'] == 'Multiome_ATAC_v1'].index, inplace=True)\n",
    "#metadata_df.drop(metadata_df[metadata_df['condition'].isin(['Ctr','Ctr/WT'])].index, inplace=True)\n",
    "metadata_df.set_index('folder name', inplace=True)\n",
    "metadata_df.drop(['Sample Pooling - confounded with Project?','date','Project Name','Link_id','sample name','Cell Count [cells/µl]','Viable Cells [%]','Lib. Concentration [ng/µl]','Lib. Molarity [nM]','Average Lib. Size [bp]','cDNA Cycles','Lib. Cycles','10x Sample Index','Sequencing Depth [reads/cell]','exclusion, reason'], axis=1, inplace=True)"
   ]
  },
  {
   "cell_type": "code",
   "execution_count": null,
   "metadata": {},
   "outputs": [],
   "source": [
    "# Function to update adata.obs with metadata using a lambda function\n",
    "for col in metadata_df.columns:\n",
    "    try:\n",
    "        adata.obs[col] = adata.obs['sample'].apply(lambda x: metadata_df.at[x, col])\n",
    "    except KeyError as err:\n",
    "        print(f'no such key: {err} in col {col}')"
   ]
  },
  {
   "cell_type": "code",
   "execution_count": null,
   "metadata": {},
   "outputs": [],
   "source": [
    "metadata = ['Project','kit','enriched','diet','condition','line','strain', 'phase','pretty name']"
   ]
  },
  {
   "cell_type": "code",
   "execution_count": null,
   "metadata": {},
   "outputs": [],
   "source": [
    "sc.pl.umap(adata, color=[\"atlas\"]+ metadata, size =6, legend_fontsize=8.5, ncols = 5, wspace = 0.4,frameon=True, save='Umap_transfer_learned_superposed_metadata.png')"
   ]
  },
  {
   "cell_type": "code",
   "execution_count": null,
   "metadata": {},
   "outputs": [],
   "source": [
    "sc.pl.umap(adata, color=[\"Bmi1\",\"Tert\", \"Hopx\", \"Lrig1\"],size =4,legend_fontsize=8.5, layer='log_dca_counts', ncols = 4, wspace = 0.2,frameon=True,cmap=mymap, save='Umap_transfer_learned_superposed_plus4markers.png')"
   ]
  },
  {
   "cell_type": "code",
   "execution_count": null,
   "metadata": {},
   "outputs": [],
   "source": [
    "genes = ['Ctse', 'Slc26a3', 'Golm1', 'Tff2', 'Muc1', 'Dmbt1']"
   ]
  },
  {
   "cell_type": "code",
   "execution_count": null,
   "metadata": {},
   "outputs": [],
   "source": [
    "sc.pl.umap(adata, color=genes,size =4,legend_fontsize=8.5, layer='log_dca_counts', ncols = 4, wspace = 0.2,frameon=True,cmap=mymap, save='Umap_transfer_learned_superposed_Mcellmarkers.png')"
   ]
  },
  {
   "cell_type": "code",
   "execution_count": null,
   "metadata": {},
   "outputs": [],
   "source": [
    "genes = ['Gata4','Nr1i3','Onecut2', 'Creb3l3', 'Gna11', 'Arg2']"
   ]
  },
  {
   "cell_type": "code",
   "execution_count": null,
   "metadata": {},
   "outputs": [],
   "source": [
    "sc.pl.umap(adata, color=genes,size =4,legend_fontsize=8.5, layer='log_dca_counts', ncols = 10, wspace = 0.2,frameon=True,cmap=mymap, save='Umap_transfer_learned_superposed_proxmarkers.png')"
   ]
  },
  {
   "cell_type": "code",
   "execution_count": null,
   "metadata": {},
   "outputs": [],
   "source": [
    "genes = ['Osr2' ,'Bex1', 'Jund', 'Nr1h4']"
   ]
  },
  {
   "cell_type": "code",
   "execution_count": null,
   "metadata": {},
   "outputs": [],
   "source": [
    "sc.pl.umap(adata, color=genes,size =4,legend_fontsize=8.5,  layer='log_dca_counts',ncols = 10, wspace = 0.2,frameon=True,cmap=mymap, save='Umap_transfer_learned_superposed_distmarkers.png')"
   ]
  },
  {
   "cell_type": "code",
   "execution_count": null,
   "metadata": {},
   "outputs": [],
   "source": [
    "genes = ['Sis' ,'Slc2a2', 'Ada', 'Lama3']"
   ]
  },
  {
   "cell_type": "code",
   "execution_count": null,
   "metadata": {},
   "outputs": [],
   "source": [
    "sc.pl.umap(adata, color=genes,size =4,legend_fontsize=8.5, ncols = 10, layer='log_dca_counts', wspace = 0.2,frameon=True,cmap=mymap, save='Umap_transfer_learned_superposed_cryptvillusmarkers.png')"
   ]
  },
  {
   "cell_type": "markdown",
   "metadata": {},
   "source": [
    "### joint analysis"
   ]
  },
  {
   "cell_type": "code",
   "execution_count": null,
   "metadata": {},
   "outputs": [],
   "source": [
    "adata.X = adata.layers['sct_logcounts']"
   ]
  },
  {
   "cell_type": "code",
   "execution_count": null,
   "metadata": {},
   "outputs": [],
   "source": [
    "sc.pl.umap(adata, color=['Ghrl', 'condition'],layer= 'log_dca_counts', size=7, add_outline=True, alpha=1, outline_width=(0.3, 0.0), ncols=5, cmap = mymap, legend_fontsize=9)"
   ]
  },
  {
   "cell_type": "markdown",
   "metadata": {},
   "source": [
    "### Isc to  EEC"
   ]
  },
  {
   "cell_type": "code",
   "execution_count": null,
   "metadata": {},
   "outputs": [],
   "source": [
    "EECs = ['ISC','TA','TA (prox.))','Goblet/EEC prog. (early)',\n",
    "'K-cell (Gip+)',\n",
    "'EC (mature)',\n",
    "'EC (immature)',\n",
    "'EEC (Peptide/immature)' ,\n",
    "'L/I-cell (Glp1+/Cck+)' ,\n",
    "'EEC prog. (mid)',\n",
    "'EC prog. (late)',\n",
    "'D-cell (Sst+)',\n",
    "'EEC prog. (late/Peptide)',\n",
    "'EC 2' ,\n",
    "'X-cell (Ghrl+)']\n",
    "Paneth = ['Paneth','Paneth prog.', 'Goblet-Paneth-like', 'Goblet-Paneth-like(cycling)']\n",
    "Progenitors = ['Goblet/EEC prog. (early)','Paneth prog.', 'Tuft prog.','Tuft prog. 2']"
   ]
  },
  {
   "cell_type": "code",
   "execution_count": null,
   "metadata": {},
   "outputs": [],
   "source": [
    "adata_EEC = adata[adata.obs['cell_type_annotation_lv1'].isin(EECs)].copy()"
   ]
  },
  {
   "cell_type": "code",
   "execution_count": null,
   "metadata": {},
   "outputs": [],
   "source": [
    "adata_EEC.X = adata_EEC.layers['sct_logcounts']"
   ]
  },
  {
   "cell_type": "code",
   "execution_count": null,
   "metadata": {},
   "outputs": [],
   "source": [
    "sc.pl.violin(adata_EEC,groupby='condition',keys='Ghrl',rotation=90)"
   ]
  },
  {
   "cell_type": "code",
   "execution_count": null,
   "metadata": {},
   "outputs": [],
   "source": [
    "sc.pl.umap(adata_EEC, color=['Ghrl', 'atlas'],layer= 'log_dca_counts', size=10, add_outline=True, alpha=1, outline_width=(0.3, 0.0), ncols=5, cmap = mymap, legend_fontsize=9)"
   ]
  },
  {
   "cell_type": "markdown",
   "metadata": {},
   "source": [
    "#### re cluster and stacked violin"
   ]
  },
  {
   "cell_type": "code",
   "execution_count": null,
   "metadata": {},
   "outputs": [],
   "source": [
    "sc.pp.neighbors(adata_EEC, use_rep='X_scarches_emb')\n",
    "sc.tl.leiden(adata_EEC) #, resolution=1.5)"
   ]
  },
  {
   "cell_type": "code",
   "execution_count": null,
   "metadata": {},
   "outputs": [],
   "source": [
    "sc.tl.paga(adata_EEC, groups='leiden')"
   ]
  },
  {
   "cell_type": "code",
   "execution_count": null,
   "metadata": {},
   "outputs": [],
   "source": [
    "del adata_EEC.uns['leiden_colors']"
   ]
  },
  {
   "cell_type": "code",
   "execution_count": null,
   "metadata": {},
   "outputs": [],
   "source": [
    "sc.pl.paga(adata_EEC,  fontsize=5, save = 'paga_joint_EEC_subs.png')#, fontoutline=True, threshold=0.05, max_edge_width=3, min_edge_width=0.01, node_size_scale=3,"
   ]
  },
  {
   "cell_type": "code",
   "execution_count": null,
   "metadata": {},
   "outputs": [],
   "source": [
    "sc.tl.umap(adata_EEC, init_pos='paga', min_dist=0.2)"
   ]
  },
  {
   "cell_type": "markdown",
   "metadata": {},
   "source": [
    "#### mindist 0.2"
   ]
  },
  {
   "cell_type": "code",
   "execution_count": null,
   "metadata": {},
   "outputs": [],
   "source": [
    "sc.pl.umap(adata_EEC, color=['leiden', 'doublet_calls','atlas','Ghrl', 'Lgr5','Arg2','Ada','Sis'],layer= 'log_dca_counts', size=10, add_outline=True, alpha=1, outline_width=(0.3, 0.0), ncols=2, cmap = mymap, legend_fontsize=9)"
   ]
  },
  {
   "cell_type": "markdown",
   "metadata": {},
   "source": [
    "#### default mindist"
   ]
  },
  {
   "cell_type": "code",
   "execution_count": null,
   "metadata": {},
   "outputs": [],
   "source": [
    "sc.pl.umap(adata_EEC, color=['leiden', 'mt_frac','doublet_calls'],layer= 'log_dca_counts', size=10, add_outline=True, alpha=1, outline_width=(0.3, 0.0), ncols=5, cmap = mymap, legend_fontsize=9)"
   ]
  },
  {
   "cell_type": "markdown",
   "metadata": {},
   "source": [
    "#### originsal umap"
   ]
  },
  {
   "cell_type": "code",
   "execution_count": null,
   "metadata": {},
   "outputs": [],
   "source": [
    "sc.pl.umap(adata_EEC, color=['leiden'],layer= 'log_dca_counts', size=10, add_outline=True, alpha=1, outline_width=(0.3, 0.0), ncols=5, cmap = mymap, legend_fontsize=9)"
   ]
  },
  {
   "cell_type": "code",
   "execution_count": null,
   "metadata": {},
   "outputs": [],
   "source": [
    "# Create a custom colormap\n",
    "custom_cmap = mcolors.ListedColormap(adata_EEC.uns['leiden_colors'], name='leiden_cmap')"
   ]
  },
  {
   "cell_type": "code",
   "execution_count": null,
   "metadata": {},
   "outputs": [],
   "source": [
    "markers = ['Sox4','Neurog3','Neurod1','Ghrl','Sst','Gcg','Gal','Gip','Cck','Sct','Tac1','Tph1','Nts','Reg4']\n",
    "sc.pl.stacked_violin(adata_EEC, markers, groupby='leiden', layer='sct_logcounts',cmap = mymap, row_palette = adata_EEC.uns['leiden_colors'])#, palette=adata.uns['leiden_colors'])#, dendrogram=True)"
   ]
  },
  {
   "cell_type": "code",
   "execution_count": null,
   "metadata": {},
   "outputs": [],
   "source": [
    "sc.pl.stacked_violin(adata_EEC, markers, groupby='cell_type_annotation_lv1', layer='sct_logcounts',cmap = mymap)#, palette=adata.uns['leiden_colors'])#, dendrogram=True)"
   ]
  },
  {
   "cell_type": "code",
   "execution_count": null,
   "metadata": {},
   "outputs": [],
   "source": [
    "plot=sc.pl.stacked_violin(\n",
    "    adata_EEC,\n",
    "    markers,\n",
    "    groupby=['leiden', 'atlas'],  # Group by both 'leiden' clusters and 'atlas' categories\n",
    "    layer='sct_logcounts',\n",
    "    cmap=mymap,  # Use a red colormap\n",
    " return_fig=True)\n",
    "plot.add_totals().show()"
   ]
  },
  {
   "cell_type": "code",
   "execution_count": null,
   "metadata": {},
   "outputs": [],
   "source": [
    "plot = sc.pl.stacked_violin(\n",
    "    adata_EEC,\n",
    "    markers,\n",
    "    groupby=['cell_type_annotation_lv1', 'atlas'],  # Group by both 'leiden' clusters and 'atlas' categories\n",
    "    layer='sct_logcounts',\n",
    "    cmap=mymap,  # Use a red colormap\n",
    "return_fig=True)\n",
    "plot.add_totals().show()"
   ]
  },
  {
   "cell_type": "code",
   "execution_count": null,
   "metadata": {},
   "outputs": [],
   "source": [
    "plot = sc.pl.stacked_violin(\n",
    "    adata_EEC,\n",
    "    markers,\n",
    "    groupby=['cell_type_annotation_lv1', 'enriched'],  # Group by both 'leiden' clusters and 'atlas' categories\n",
    "    layer='sct_logcounts',\n",
    "    cmap=mymap,  # Use a red colormap\n",
    "return_fig=True)\n",
    "plot.add_totals().show()"
   ]
  },
  {
   "cell_type": "code",
   "execution_count": null,
   "metadata": {},
   "outputs": [],
   "source": [
    "cell_counts = adata_EEC.obs.groupby(['cell_type_annotation_lv1', 'enriched']).size().reset_index(name='cell_count')\n",
    "\n",
    "# Calculate total counts per enriched level\n",
    "total_counts = cell_counts.groupby('enriched')['cell_count'].transform('sum')\n",
    "\n",
    "# Calculate percentages\n",
    "cell_counts['percentage'] = (cell_counts['cell_count'] / total_counts) * 100\n",
    "\n",
    "# Step 2: Plot using seaborn\n",
    "plt.figure(figsize=(12, 6))\n",
    "sb.barplot(\n",
    "    data=cell_counts,\n",
    "    x='cell_type_annotation_lv1', y='percentage', hue='enriched', \n",
    ")\n",
    "plt.xticks(rotation=90)\n",
    "plt.title('Percentage of Cells (per EECs) per Cell Type by Enriched Level')\n",
    "plt.ylabel('Percentage of Cells (per EECs)')\n",
    "plt.xlabel('Cell Type')\n",
    "plt.legend(title='Enriched Level')\n",
    "plt.show()"
   ]
  },
  {
   "cell_type": "code",
   "execution_count": null,
   "metadata": {},
   "outputs": [],
   "source": [
    "cell_counts = adata_EEC.obs.groupby(['cell_type_annotation_lv1', 'Status']).size().reset_index(name='cell_count')\n",
    "\n",
    "# Calculate total counts per enriched level\n",
    "total_counts = cell_counts.groupby('Status')['cell_count'].transform('sum')\n",
    "\n",
    "# Calculate percentages\n",
    "cell_counts['percentage'] = (cell_counts['cell_count'] / total_counts) * 100\n",
    "\n",
    "# Step 2: Plot using seaborn\n",
    "plt.figure(figsize=(12, 6))\n",
    "sb.barplot(\n",
    "    data=cell_counts,\n",
    "    x='cell_type_annotation_lv1', y='percentage', hue='Status', \n",
    ")\n",
    "plt.xticks(rotation=90)\n",
    "plt.title('Percentage of Cells (per EECs) per Cell Type by Status')\n",
    "plt.ylabel('Percentage of Cells (per EECs)')\n",
    "plt.xlabel('Cell Type')\n",
    "plt.legend(title='Status')\n",
    "plt.show()"
   ]
  },
  {
   "cell_type": "code",
   "execution_count": null,
   "metadata": {},
   "outputs": [],
   "source": [
    "cell_counts = adata_EEC.obs.groupby(['cell_type_annotation_lv1', 'enriched']).size().reset_index(name='cell_count')\n",
    "cell_counts_total = adata.obs.groupby(['cell_type_annotation_lv1', 'enriched']).size().reset_index(name='cell_count')\n",
    "\n",
    "# Calculate total counts per enriched level\n",
    "total_counts = cell_counts_total.groupby('enriched')['cell_count'].transform('sum')\n",
    "\n",
    "# Calculate percentages\n",
    "cell_counts['percentage'] = (cell_counts['cell_count'] / total_counts) * 100\n",
    "\n",
    "# Step 2: Plot using seaborn\n",
    "plt.figure(figsize=(12, 6))\n",
    "sb.barplot(\n",
    "    data=cell_counts,\n",
    "    x='cell_type_annotation_lv1', y='percentage', hue='enriched', \n",
    ")\n",
    "plt.xticks(rotation=90)\n",
    "plt.title('Percentage of Cells (total) per Cell Type by Enriched Level')\n",
    "plt.ylabel('Percentage of Cells (total)')\n",
    "plt.xlabel('Cell Type')\n",
    "plt.legend(title='Enriched Level')\n",
    "plt.show()"
   ]
  },
  {
   "cell_type": "code",
   "execution_count": null,
   "metadata": {},
   "outputs": [],
   "source": [
    "cell_counts = adata_EEC.obs.groupby(['cell_type_annotation_lv1', 'Status']).size().reset_index(name='cell_count')\n",
    "cell_counts_total = adata.obs.groupby(['cell_type_annotation_lv1', 'Status']).size().reset_index(name='cell_count')\n",
    "\n",
    "# Calculate total counts per enriched level\n",
    "total_counts = cell_counts_total.groupby('Status')['cell_count'].transform('sum')\n",
    "\n",
    "# Calculate percentages\n",
    "cell_counts['percentage'] = (cell_counts['cell_count'] / total_counts) * 100\n",
    "\n",
    "# Step 2: Plot using seaborn\n",
    "plt.figure(figsize=(12, 6))\n",
    "sb.barplot(\n",
    "    data=cell_counts,\n",
    "    x='cell_type_annotation_lv1', y='percentage', hue='Status', \n",
    ")\n",
    "plt.xticks(rotation=90)\n",
    "plt.title('Percentage of Cells (total) per Cell Type by Status')\n",
    "plt.ylabel('Percentage of Cells (total)')\n",
    "plt.xlabel('Cell Type')\n",
    "plt.legend(title='Status')\n",
    "plt.show()"
   ]
  },
  {
   "cell_type": "markdown",
   "metadata": {},
   "source": [
    "#### Diffusion Pseudotime"
   ]
  },
  {
   "cell_type": "code",
   "execution_count": null,
   "metadata": {},
   "outputs": [],
   "source": [
    "sc.tl.score_genes(adata_EEC, gene_list=['Lgr5','Olfm4','Slc12a2','Clca3b','Cps1'], score_name='ISC_score', use_raw=False)"
   ]
  },
  {
   "cell_type": "code",
   "execution_count": null,
   "metadata": {},
   "outputs": [],
   "source": [
    "sc.pl.umap(adata_EEC, color=['ISC_score'], size=7, add_outline=True, alpha=1, outline_width=(0.3, 0.0), ncols=4, color_map='turbo', title='ISC score', save = 'umap_progenitor_score_with_ISC.png')"
   ]
  },
  {
   "cell_type": "code",
   "execution_count": null,
   "metadata": {},
   "outputs": [],
   "source": [
    "sc.tl.diffmap(adata_EEC, n_comps=20)"
   ]
  },
  {
   "cell_type": "code",
   "execution_count": null,
   "metadata": {},
   "outputs": [],
   "source": [
    "sc.pl.diffmap(adata_EEC, components=['0,1','1,2','3,4','5,6','7,8','9,10','11,12','13,14','15,16','17,18','19,20'], color='ISC_score', color_map='turbo')"
   ]
  },
  {
   "cell_type": "code",
   "execution_count": null,
   "metadata": {},
   "outputs": [],
   "source": [
    "sc.pl.diffmap(adata_EEC, components=['0,1','1,2','3,4','5,6','7,8','9,10','11,12','13,14','15,16','17,18','19,20'], color='cell_type_annotation_lv1', wspace=1.8)"
   ]
  },
  {
   "cell_type": "code",
   "execution_count": null,
   "metadata": {},
   "outputs": [],
   "source": [
    "sc.pl.diffmap(adata_EEC, components=['9,1'], color=['phase','ISC_score','cell_type_annotation_lv1', 'Spdef'])"
   ]
  },
  {
   "cell_type": "code",
   "execution_count": null,
   "metadata": {},
   "outputs": [],
   "source": [
    "stem_mask = np.isin(adata_EEC.obs['cell_type_annotation_lv1'], 'ISC')\n",
    "max_stem_id = np.argmin(adata_EEC.obsm['X_diffmap'][stem_mask,8])\n",
    "root_id = np.arange(len(stem_mask))[stem_mask][max_stem_id]\n",
    "adata_EEC.uns['iroot'] = root_id"
   ]
  },
  {
   "cell_type": "code",
   "execution_count": null,
   "metadata": {},
   "outputs": [],
   "source": [
    "import cellrank as cr\n",
    "import scvelo as scv"
   ]
  },
  {
   "cell_type": "code",
   "execution_count": null,
   "metadata": {},
   "outputs": [],
   "source": [
    "scv.pl.scatter(\n",
    "    adata_EEC,\n",
    "    basis='diffmap',\n",
    "    c=[root_id, 'phase', 'cell_type_annotation_lv1'],\n",
    "    legend_loc='right',\n",
    "    components=['8,0'], wspace=0.75\n",
    ")\n",
    "\n",
    "scv.pl.scatter(\n",
    "    adata_EEC,\n",
    "    basis='umap',\n",
    "    c=[root_id, 'phase', 'cell_type_annotation_lv1','Lgr5'],\n",
    "    legend_loc='right',\n",
    "    components=['1, 0'], wspace=0.75\n",
    ")\n"
   ]
  },
  {
   "cell_type": "code",
   "execution_count": null,
   "metadata": {},
   "outputs": [],
   "source": [
    "adata_EEC.obs_names[root_id]"
   ]
  },
  {
   "cell_type": "code",
   "execution_count": null,
   "metadata": {},
   "outputs": [],
   "source": [
    "sc.tl.dpt(adata_EEC, n_dcs=20)"
   ]
  },
  {
   "cell_type": "code",
   "execution_count": null,
   "metadata": {},
   "outputs": [],
   "source": [
    "adata_EEC.obs['dpt_pseudotime_g2m'] = adata_EEC.obs['dpt_pseudotime'].copy()"
   ]
  },
  {
   "cell_type": "code",
   "execution_count": null,
   "metadata": {},
   "outputs": [],
   "source": [
    "sc.pl.umap(adata_EEC, color=['dpt_pseudotime_g2m'], size=7, add_outline=True, alpha=1, outline_width=(0.3, 0.0), ncols=4, color_map='turbo')"
   ]
  },
  {
   "cell_type": "code",
   "execution_count": null,
   "metadata": {},
   "outputs": [],
   "source": [
    "with rc_context({'figure.figsize': (6, 4)}):\n",
    "    sc.pl.violin(adata_EEC, use_raw=False, keys=['dpt_pseudotime_g2m'], groupby='cell_type_annotation_lv1', rotation=90)"
   ]
  },
  {
   "cell_type": "code",
   "execution_count": null,
   "metadata": {},
   "outputs": [],
   "source": [
    "dptk = cr.kernels.PseudotimeKernel(adata_EEC, time_key='dpt_pseudotime_g2m')\n",
    "dptk.compute_transition_matrix(n_jobs=-1)\n",
    "dptk.plot_projection(color='cell_type_annotation_lv1', recompute=True, legend_loc='none',save = 'transition_dpt_EEC.png')\n",
    "#dptk.write('adata_markedDoublets_mergedPeaks_normalized_initialAnno_rmDoublets_integrated_imputed_annotated_crKernel_dpt_pseudotime.plk', write_adata=False)"
   ]
  },
  {
   "cell_type": "code",
   "execution_count": null,
   "metadata": {},
   "outputs": [],
   "source": [
    "sc.tl.embedding_density(adata, basis='umap', groupby='Status')"
   ]
  },
  {
   "cell_type": "code",
   "execution_count": null,
   "metadata": {},
   "outputs": [],
   "source": [
    "adata.obs['Status'].value_counts()\n"
   ]
  },
  {
   "cell_type": "code",
   "execution_count": null,
   "metadata": {},
   "outputs": [],
   "source": [
    "sc.pl.embedding_density(adata, basis='umap', key='umap_density_Status', group='diseased_Celsr1_mut')\n",
    "sc.pl.embedding_density(adata, basis='umap', key='umap_density_Status', group='healthy_Dock7')\n",
    "sc.pl.embedding_density(adata, basis='umap', key='umap_density_Status', group='diseased_VSG')\n",
    "sc.pl.embedding_density(adata, basis='umap', key='umap_density_Status', group='diseased')"
   ]
  },
  {
   "cell_type": "code",
   "execution_count": null,
   "metadata": {},
   "outputs": [],
   "source": [
    "adata.obs['Status'].value_counts()\n",
    "sc.pl.embedding_density(adata, basis='umap', key='umap_density_Status', group='healthy', frameon=True)\n",
    "sc.pl.embedding_density(adata, basis='umap', key='umap_density_Status', group='diseased', frameon=True)"
   ]
  },
  {
   "cell_type": "code",
   "execution_count": null,
   "metadata": {},
   "outputs": [],
   "source": [
    "sc.pl.umap(adata,color='Igfbp4',cmap=mymap,layer='log_dca_counts', frameon=True)"
   ]
  },
  {
   "cell_type": "code",
   "execution_count": null,
   "metadata": {},
   "outputs": [],
   "source": [
    "sc.pl.umap(adata,color='Slc18a1',cmap=mymap,layer='log_dca_counts', frameon=True)"
   ]
  },
  {
   "cell_type": "code",
   "execution_count": null,
   "metadata": {},
   "outputs": [],
   "source": [
    "adata.obs['Status_strain'] = adata.obs['Status'].astype(str) + '_' + adata.obs['strain'].astype(str)"
   ]
  },
  {
   "cell_type": "code",
   "execution_count": null,
   "metadata": {},
   "outputs": [],
   "source": [
    "plot_composition(adata, y_key='cell_type_annotation_lv1', x_key='Status', x_rotation=90)"
   ]
  },
  {
   "cell_type": "code",
   "execution_count": null,
   "metadata": {},
   "outputs": [],
   "source": [
    "adata.obs['Status_strain'] = adata.obs['Status_strain'].astype('category')"
   ]
  },
  {
   "cell_type": "code",
   "execution_count": null,
   "metadata": {},
   "outputs": [],
   "source": [
    "plot_composition(adata, y_key='cell_type_annotation_lv1', x_key='Status_strain', x_rotation=90)"
   ]
  },
  {
   "cell_type": "markdown",
   "metadata": {},
   "source": [
    "## only EECs"
   ]
  },
  {
   "cell_type": "code",
   "execution_count": null,
   "metadata": {},
   "outputs": [],
   "source": [
    "EECs = ['Goblet/EEC prog. (early)',\n",
    "'K-cell (Gip+)',\n",
    "'EC (mature)',\n",
    "'EC (immature)',\n",
    "'EEC (Peptide/immature)' ,\n",
    "'L/I-cell (Glp1+/Cck+)' ,\n",
    "'EEC prog. (mid)',\n",
    "'EC prog. (late)',\n",
    "'D-cell (Sst+)',\n",
    "'EEC prog. (late/Peptide)',\n",
    "'EC 2' ,\n",
    "'X-cell (Ghrl+)']\n",
    "Paneth = ['Paneth','Paneth prog.', 'Goblet-Paneth-like', 'Goblet-Paneth-like(cycling)']\n",
    "Progenitors = ['Goblet/EEC prog. (early)','Paneth prog.', 'Tuft prog.','Tuft prog. 2']"
   ]
  },
  {
   "cell_type": "markdown",
   "metadata": {},
   "source": [
    "### joint analysis"
   ]
  },
  {
   "cell_type": "code",
   "execution_count": null,
   "metadata": {},
   "outputs": [],
   "source": [
    "adata_EEC = adata[adata.obs['cell_type_annotation_lv1'].isin(EECs)].copy()"
   ]
  },
  {
   "cell_type": "code",
   "execution_count": null,
   "metadata": {},
   "outputs": [],
   "source": [
    "plot_composition(adata_EEC, y_key='cell_type_annotation_lv1', x_key='Status_strain', x_rotation=90)"
   ]
  },
  {
   "cell_type": "code",
   "execution_count": null,
   "metadata": {},
   "outputs": [],
   "source": [
    "plot_composition(adata_EEC, y_key='cell_type_annotation_lv1', x_key='Status', x_rotation=90)"
   ]
  },
  {
   "cell_type": "code",
   "execution_count": null,
   "metadata": {},
   "outputs": [],
   "source": [
    "adata_EEC.X = adata_EEC.layers['sct_logcounts']"
   ]
  },
  {
   "cell_type": "code",
   "execution_count": null,
   "metadata": {},
   "outputs": [],
   "source": [
    "adata"
   ]
  },
  {
   "cell_type": "code",
   "execution_count": null,
   "metadata": {},
   "outputs": [],
   "source": [
    "adata_EEC"
   ]
  },
  {
   "cell_type": "code",
   "execution_count": null,
   "metadata": {},
   "outputs": [],
   "source": [
    "sc.pl.violin(adata_EEC,groupby='Status',keys='Ghrl',rotation=90)"
   ]
  },
  {
   "cell_type": "code",
   "execution_count": null,
   "metadata": {},
   "outputs": [],
   "source": [
    "sc.pl.violin(adata_EEC,groupby='Status',keys='Gcg',rotation=90)"
   ]
  },
  {
   "cell_type": "code",
   "execution_count": null,
   "metadata": {},
   "outputs": [],
   "source": [
    "sc.pl.violin(adata_EEC,groupby='Status',keys='Sst',rotation=90)"
   ]
  },
  {
   "cell_type": "code",
   "execution_count": null,
   "metadata": {},
   "outputs": [],
   "source": [
    "sc.pl.violin(adata_EEC,groupby='condition',keys='Ghrl',rotation=90)"
   ]
  },
  {
   "cell_type": "code",
   "execution_count": null,
   "metadata": {},
   "outputs": [],
   "source": [
    "sc.pl.violin(adata_EEC,groupby='condition',keys='Sst',rotation=90)"
   ]
  },
  {
   "cell_type": "code",
   "execution_count": null,
   "metadata": {},
   "outputs": [],
   "source": [
    "sc.pl.violin(adata_EEC,groupby='condition',keys='Gcg',rotation=90)"
   ]
  },
  {
   "cell_type": "code",
   "execution_count": null,
   "metadata": {},
   "outputs": [],
   "source": [
    "sc.pl.violin(adata_EEC,groupby='condition',keys='Gip',rotation=90)"
   ]
  },
  {
   "cell_type": "code",
   "execution_count": null,
   "metadata": {},
   "outputs": [],
   "source": [
    "sc.pl.violin(adata_EEC,groupby='condition',keys='Cck',rotation=90)"
   ]
  },
  {
   "cell_type": "code",
   "execution_count": null,
   "metadata": {},
   "outputs": [],
   "source": [
    "sc.pl.umap(adata_EEC, color=['Ghrl', 'Status', 'atlas','line','doublet_calls', 'condition'],layer= 'log_dca_counts', size=5, add_outline=True, alpha=1, outline_width=(0.3, 0.0), ncols=2, cmap = mymap, legend_fontsize=9,save ='umaps_joint_EEC_analysis_Ghrl_metadata.png')"
   ]
  },
  {
   "cell_type": "markdown",
   "metadata": {},
   "source": [
    "## re cluster and stacked violin"
   ]
  },
  {
   "cell_type": "code",
   "execution_count": null,
   "metadata": {},
   "outputs": [],
   "source": [
    "sc.pp.neighbors(adata_EEC, use_rep='X_scarches_emb')\n",
    "sc.tl.leiden(adata_EEC, resolution=1.5)"
   ]
  },
  {
   "cell_type": "code",
   "execution_count": null,
   "metadata": {},
   "outputs": [],
   "source": [
    "sc.tl.paga(adata_EEC, groups='cell_type_annotation_lv1')"
   ]
  },
  {
   "cell_type": "code",
   "execution_count": null,
   "metadata": {},
   "outputs": [],
   "source": [
    "del adata_EEC.uns['leiden_colors']"
   ]
  },
  {
   "cell_type": "code",
   "execution_count": null,
   "metadata": {},
   "outputs": [],
   "source": [
    "sc.pl.paga(adata_EEC, fontsize=5, save = 'paga_joint_EEC_subs_cell_type.png')#, fontoutline=True, threshold=0.05, max_edge_width=3, min_edge_width=0.01, node_size_scale=3,"
   ]
  },
  {
   "cell_type": "code",
   "execution_count": null,
   "metadata": {},
   "outputs": [],
   "source": [
    "sc.pl.paga(adata_EEC,  fontsize=5, save = 'paga_joint_EEC_subs.png')#, fontoutline=True, threshold=0.05, max_edge_width=3, min_edge_width=0.01, node_size_scale=3,"
   ]
  },
  {
   "cell_type": "code",
   "execution_count": null,
   "metadata": {},
   "outputs": [],
   "source": [
    "sc.tl.umap(adata_EEC, init_pos='paga', min_dist=0.3)"
   ]
  },
  {
   "cell_type": "markdown",
   "metadata": {},
   "source": [
    "#### mindist 0.2"
   ]
  },
  {
   "cell_type": "code",
   "execution_count": null,
   "metadata": {},
   "outputs": [],
   "source": [
    "sc.pl.umap(adata_EEC, color=['leiden','cell_type_annotation_lv1', 'doublet_calls','Ang4','atlas','Ghrl'],layer= 'log_dca_counts', size=10, add_outline=True, alpha=1, outline_width=(0.3, 0.0), ncols=2, cmap = mymap, legend_fontsize=9, save='umap_joint_EECs.png')"
   ]
  },
  {
   "cell_type": "markdown",
   "metadata": {},
   "source": [
    "#### mindist = 0.3 and paga based on celltype"
   ]
  },
  {
   "cell_type": "code",
   "execution_count": null,
   "metadata": {},
   "outputs": [],
   "source": [
    "sc.pl.umap(adata_EEC, color=['Spdef','Neurog3','Ghrl','cell_type_annotation_lv1', 'doublet_calls','Ang4','atlas','leiden'], layer='log_dca_counts', use_raw=False,size=10, add_outline=True, alpha=1, outline_width=(0.3, 0.0), ncols=4, cmap=mymap,legend_fontsize=9)"
   ]
  },
  {
   "cell_type": "markdown",
   "metadata": {},
   "source": [
    "#### default mindist"
   ]
  },
  {
   "cell_type": "code",
   "execution_count": null,
   "metadata": {},
   "outputs": [],
   "source": [
    "sc.pl.umap(adata_EEC, color=['leiden', 'mt_frac','doublet_calls'],layer= 'log_dca_counts', size=10, add_outline=True, alpha=1, outline_width=(0.3, 0.0), ncols=5, cmap = mymap, legend_fontsize=9)"
   ]
  },
  {
   "cell_type": "markdown",
   "metadata": {},
   "source": [
    "### metadata"
   ]
  },
  {
   "cell_type": "code",
   "execution_count": null,
   "metadata": {},
   "outputs": [],
   "source": [
    "adata_EEC.obs['doublet_calls'] = adata_EEC.obs['doublet_calls'].astype('category')"
   ]
  },
  {
   "cell_type": "code",
   "execution_count": null,
   "metadata": {},
   "outputs": [],
   "source": [
    "adata_EEC.uns['doublet_calls_colors'] = np.array([mpl.colors.to_hex(color, keep_alpha=True) for color in mymap(np.linspace(0,2,8))])"
   ]
  },
  {
   "cell_type": "code",
   "execution_count": null,
   "metadata": {},
   "outputs": [],
   "source": [
    "sc.pl.umap(adata_EEC, color=['atlas','Project','enriched','phase','kit','Status','line','strain', 'doublet_calls', 'enrichment proportion'], size=10, add_outline=True, alpha=1, outline_width=(0.3, 0.0), ncols=5, legend_fontsize=8, color_map=mymap,wspace = 0.4, save = 'EEC_subs_joint_metadata.png', frameon= True)"
   ]
  },
  {
   "cell_type": "code",
   "execution_count": null,
   "metadata": {},
   "outputs": [],
   "source": [
    "plot_composition(adata_EEC, y_key='doublet_calls', x_key='leiden', x_rotation=90)"
   ]
  },
  {
   "cell_type": "code",
   "execution_count": null,
   "metadata": {},
   "outputs": [],
   "source": [
    "adata_EEC = adata_EEC[~adata_EEC.obs['leiden'].isin(['19','20'])].copy() #20 because apart"
   ]
  },
  {
   "cell_type": "markdown",
   "metadata": {},
   "source": [
    "### wo dblts and outsider"
   ]
  },
  {
   "cell_type": "code",
   "execution_count": null,
   "metadata": {},
   "outputs": [],
   "source": [
    "sc.pl.umap(adata_EEC, color=['leiden'], size=10, add_outline=True, alpha=1, outline_width=(0.3, 0.0), ncols=4, legend_fontsize=8, color_map=mymap,wspace = 0.4)"
   ]
  },
  {
   "cell_type": "markdown",
   "metadata": {},
   "source": [
    "### recluster"
   ]
  },
  {
   "cell_type": "code",
   "execution_count": null,
   "metadata": {},
   "outputs": [],
   "source": [
    "sc.pp.neighbors(adata_EEC, use_rep='X_scarches_emb')\n",
    "sc.tl.leiden(adata_EEC, resolution=1.5)"
   ]
  },
  {
   "cell_type": "code",
   "execution_count": null,
   "metadata": {},
   "outputs": [],
   "source": [
    "sc.tl.paga(adata_EEC, groups='cell_type_annotation_lv1')"
   ]
  },
  {
   "cell_type": "code",
   "execution_count": null,
   "metadata": {},
   "outputs": [],
   "source": [
    "del adata_EEC.uns['leiden_colors']"
   ]
  },
  {
   "cell_type": "code",
   "execution_count": null,
   "metadata": {},
   "outputs": [],
   "source": [
    "sc.pl.paga(adata_EEC,  fontsize=5, save = 'paga_joint_EEC_subs_wo_19and20.png')#, fontoutline=True, threshold=0.05, max_edge_width=3, min_edge_width=0.01, node_size_scale=3,"
   ]
  },
  {
   "cell_type": "code",
   "execution_count": null,
   "metadata": {},
   "outputs": [],
   "source": [
    "sc.pl.paga(adata_EEC,  fontsize=5, save = 'paga_joint_EEC_subs_wo_15and16.png')#, fontoutline=True, threshold=0.05, max_edge_width=3, min_edge_width=0.01, node_size_scale=3,"
   ]
  },
  {
   "cell_type": "code",
   "execution_count": null,
   "metadata": {},
   "outputs": [],
   "source": [
    "sc.tl.umap(adata_EEC, init_pos='paga', min_dist=0.2)"
   ]
  },
  {
   "cell_type": "markdown",
   "metadata": {},
   "source": [
    "#### mindist 0.2"
   ]
  },
  {
   "cell_type": "code",
   "execution_count": null,
   "metadata": {},
   "outputs": [],
   "source": [
    "sc.pl.umap(adata_EEC, color=['leiden','cell_type_annotation_lv1', 'doublet_calls','Neurog3','atlas','Ghrl'],layer= 'log_dca_counts', size=10, add_outline=True, alpha=1, outline_width=(0.3, 0.0), ncols=2, cmap = mymap, legend_fontsize=9, save='umap_joint_EECs_wo_1920.png')"
   ]
  },
  {
   "cell_type": "code",
   "execution_count": null,
   "metadata": {},
   "outputs": [],
   "source": [
    "sc.pl.umap(adata_EEC, color=['Project','enriched','phase','kit','line','strain', 'doublet_calls', 'enrichment proportion'], size=10, add_outline=True, alpha=1, outline_width=(0.3, 0.0), ncols=4, legend_fontsize=8, color_map=mymap,wspace = 0.4, save = 'EEC_subs_joint_metadata_wo_1920.png', frameon= True)"
   ]
  },
  {
   "cell_type": "code",
   "execution_count": null,
   "metadata": {},
   "outputs": [],
   "source": [
    "sc.pl.umap(adata_EEC, color=['leiden'], size=10, add_outline=True, alpha=1, outline_width=(0.3, 0.0), ncols=3, cmap=mymap,legend_loc='on data', frameon= True)"
   ]
  },
  {
   "cell_type": "markdown",
   "metadata": {},
   "source": [
    "## rank genes"
   ]
  },
  {
   "cell_type": "code",
   "execution_count": null,
   "metadata": {},
   "outputs": [],
   "source": [
    "sc.tl.rank_genes_groups(adata_EEC, 'leiden', method='wilcoxon', layer = 'sct_logcounts', use_raw=False)"
   ]
  },
  {
   "cell_type": "code",
   "execution_count": null,
   "metadata": {},
   "outputs": [],
   "source": [
    "adata_EEC.X= adata_EEC.layers['sct_logcounts']"
   ]
  },
  {
   "cell_type": "code",
   "execution_count": null,
   "metadata": {},
   "outputs": [],
   "source": [
    "sc.tl.dendrogram(adata_EEC, groupby='leiden')"
   ]
  },
  {
   "cell_type": "code",
   "execution_count": null,
   "metadata": {},
   "outputs": [],
   "source": [
    "sc.pl.rank_genes_groups_dotplot(adata_EEC, n_genes=5, key=\"rank_genes_groups\", groupby=\"leiden\")\n"
   ]
  },
  {
   "cell_type": "markdown",
   "metadata": {},
   "source": [
    "### TFs"
   ]
  },
  {
   "cell_type": "code",
   "execution_count": null,
   "metadata": {},
   "outputs": [],
   "source": [
    "with open('TF_mouse_all.txt', 'r') as file:\n",
    "    TFs = file.read().splitlines()"
   ]
  },
  {
   "cell_type": "code",
   "execution_count": null,
   "metadata": {},
   "outputs": [],
   "source": [
    "ranked_genes = adata_EEC.uns['rank_genes_groups']['names']"
   ]
  },
  {
   "cell_type": "code",
   "execution_count": null,
   "metadata": {},
   "outputs": [],
   "source": [
    "n = -1\n",
    "differentially_expressed_tfs = {}\n",
    "N =10\n",
    "for group in ranked_genes.dtype.names:\n",
    "    n+=1\n",
    "    differentially_expressed_tfs[n] = []\n",
    "    for i, gene in enumerate(ranked_genes[group]):\n",
    "        if gene in TFs and i < N:\n",
    "            if gene not in differentially_expressed_tfs[n]:\n",
    "                differentially_expressed_tfs[n].append(gene)\n",
    "\n",
    "print(differentially_expressed_tfs)"
   ]
  },
  {
   "cell_type": "code",
   "execution_count": null,
   "metadata": {},
   "outputs": [],
   "source": [
    "# Flatten the list of genes\n",
    "all_tfs = [gene for genes in differentially_expressed_tfs.values() for gene in genes]\n",
    "all_tfs = list(set(all_tfs))  # Remove duplicates"
   ]
  },
  {
   "cell_type": "code",
   "execution_count": null,
   "metadata": {},
   "outputs": [],
   "source": [
    "np.max(adata_EEC.X)"
   ]
  },
  {
   "cell_type": "code",
   "execution_count": null,
   "metadata": {},
   "outputs": [],
   "source": [
    "#sc.pl.rank_genes_groups_dotplot(adata_EEC, var_names = all_tfs)\n",
    "sc.pl.dotplot(adata_EEC, all_tfs, groupby='leiden',dendrogram=True, layer='sct_logcounts',use_raw=False, save='EEC_joint_TFs_without1920.png')"
   ]
  },
  {
   "cell_type": "code",
   "execution_count": null,
   "metadata": {},
   "outputs": [],
   "source": [
    "sc.pl.umap(adata_EEC, color=['cell_type_annotation_lv1','leiden'], size=10, add_outline=True, alpha=1, outline_width=(0.3, 0.0), ncols=3, cmap=mymap,wspace=0.6, frameon= True)"
   ]
  },
  {
   "cell_type": "code",
   "execution_count": null,
   "metadata": {},
   "outputs": [],
   "source": [
    "adata_EEC"
   ]
  },
  {
   "cell_type": "markdown",
   "metadata": {},
   "source": [
    "#### exclude 18"
   ]
  },
  {
   "cell_type": "code",
   "execution_count": null,
   "metadata": {},
   "outputs": [],
   "source": [
    "adata_EEC = adata_EEC[~adata_EEC.obs['leiden'].isin(['18'])].copy() #18 because apart and only 55 cells"
   ]
  },
  {
   "cell_type": "code",
   "execution_count": null,
   "metadata": {},
   "outputs": [],
   "source": [
    "adata_EEC"
   ]
  },
  {
   "cell_type": "code",
   "execution_count": null,
   "metadata": {},
   "outputs": [],
   "source": [
    "sc.pp.neighbors(adata_EEC, use_rep='X_scarches_emb')\n",
    "sc.tl.leiden(adata_EEC, resolution=1.5)"
   ]
  },
  {
   "cell_type": "code",
   "execution_count": null,
   "metadata": {},
   "outputs": [],
   "source": [
    "sc.tl.paga(adata_EEC, groups='cell_type_annotation_lv1')"
   ]
  },
  {
   "cell_type": "code",
   "execution_count": null,
   "metadata": {},
   "outputs": [],
   "source": [
    "del adata_EEC.uns['leiden_colors']"
   ]
  },
  {
   "cell_type": "code",
   "execution_count": null,
   "metadata": {},
   "outputs": [],
   "source": [
    "sc.pl.paga(adata_EEC,  fontsize=5, save = 'paga_joint_EEC_subs_wo_1920and18.png')#, fontoutline=True, threshold=0.05, max_edge_width=3, min_edge_width=0.01, node_size_scale=3,"
   ]
  },
  {
   "cell_type": "code",
   "execution_count": null,
   "metadata": {},
   "outputs": [],
   "source": [
    "sc.tl.umap(adata_EEC, init_pos='paga', min_dist=0.4)"
   ]
  },
  {
   "cell_type": "markdown",
   "metadata": {},
   "source": [
    "#### mindist 0.2"
   ]
  },
  {
   "cell_type": "code",
   "execution_count": null,
   "metadata": {},
   "outputs": [],
   "source": [
    "adata_EEC.uns['doublet_calls_colors'] = np.array([mpl.colors.to_hex(color, keep_alpha=True) for color in mymap(np.linspace(0,2,8))])"
   ]
  },
  {
   "cell_type": "code",
   "execution_count": null,
   "metadata": {},
   "outputs": [],
   "source": [
    "sc.pl.umap(adata_EEC, color=['leiden','cell_type_annotation_lv1', 'doublet_calls','Neurog3','atlas','Ghrl'],layer= 'log_dca_counts', size=10, add_outline=True, alpha=1, outline_width=(0.3, 0.0), ncols=2, cmap = mymap, legend_fontsize=8.5, save='umap_joint_EECs_wo_192018.png')"
   ]
  },
  {
   "cell_type": "code",
   "execution_count": null,
   "metadata": {},
   "outputs": [],
   "source": [
    "sc.pl.umap(adata_EEC, color=['Project','enriched','phase','kit','line','strain', 'doublet_calls', 'enrichment proportion'], size=10, add_outline=True, alpha=1, outline_width=(0.3, 0.0), ncols=4, legend_fontsize=8, color_map=mymap,wspace = 0.4, save = 'EEC_subs_joint_metadata_wo_192018.png', frameon= True)"
   ]
  },
  {
   "cell_type": "markdown",
   "metadata": {},
   "source": [
    "## rank genes"
   ]
  },
  {
   "cell_type": "code",
   "execution_count": null,
   "metadata": {},
   "outputs": [],
   "source": [
    "sc.tl.rank_genes_groups(adata_EEC, 'leiden', method='wilcoxon', layer = 'sct_logcounts', use_raw=False)"
   ]
  },
  {
   "cell_type": "code",
   "execution_count": null,
   "metadata": {},
   "outputs": [],
   "source": [
    "adata_EEC.X= adata_EEC.layers['sct_logcounts']"
   ]
  },
  {
   "cell_type": "code",
   "execution_count": null,
   "metadata": {},
   "outputs": [],
   "source": [
    "sc.tl.dendrogram(adata_EEC, groupby='leiden')"
   ]
  },
  {
   "cell_type": "code",
   "execution_count": null,
   "metadata": {},
   "outputs": [],
   "source": [
    "sc.pl.rank_genes_groups_dotplot(adata_EEC, n_genes=5, key=\"rank_genes_groups\", groupby=\"leiden\")\n"
   ]
  },
  {
   "cell_type": "markdown",
   "metadata": {},
   "source": [
    "# fine anntoation level 2 EEC"
   ]
  },
  {
   "cell_type": "markdown",
   "metadata": {},
   "source": [
    "first exclude Goblet signed cells in progenitors\n",
    "then, recluster and annotate clusters in appropriate resolution"
   ]
  },
  {
   "cell_type": "code",
   "execution_count": null,
   "metadata": {},
   "outputs": [],
   "source": [
    "sc.tl.leiden(adata_EEC, resolution=1.5)"
   ]
  },
  {
   "cell_type": "code",
   "execution_count": null,
   "metadata": {},
   "outputs": [],
   "source": [
    "adata_EEC.X =adata_EEC.layers['log_dca_counts']"
   ]
  },
  {
   "cell_type": "code",
   "execution_count": null,
   "metadata": {},
   "outputs": [],
   "source": [
    "sc.pl.umap(adata_EEC, color=['Spdef','Neurog3','leiden'], use_raw=False,size=10, add_outline=True, alpha=1, outline_width=(0.3, 0.0), ncols=3, cmap=mymap)"
   ]
  },
  {
   "cell_type": "code",
   "execution_count": null,
   "metadata": {},
   "outputs": [],
   "source": [
    "sc.tl.leiden(adata_EEC, restrict_to=('leiden', ['3','1','12','13']), resolution=1.5, key_added='leiden_sub_goblet')"
   ]
  },
  {
   "cell_type": "code",
   "execution_count": null,
   "metadata": {},
   "outputs": [],
   "source": [
    "sc.pl.umap(adata_EEC, color=['Spdef','Neurog3','leiden_sub_goblet'], use_raw=False,size=10, add_outline=True, alpha=1, outline_width=(0.3, 0.0), ncols=3, cmap=mymap)"
   ]
  },
  {
   "cell_type": "code",
   "execution_count": null,
   "metadata": {},
   "outputs": [],
   "source": [
    "\n",
    "gene_of_interest = 'Spdef' \n",
    "\n",
    "with rc_context({'figure.figsize': (6, 4)}):\n",
    "    sc.pl.violin(adata_EEC, use_raw=False, keys=['Spdef'], groupby='leiden_sub_goblet', rotation=90, show=False)\n",
    "    plt.title(f'Expression of {gene_of_interest} per Leiden cluster')\n",
    "    plt.xlabel('Leiden Cluster')\n",
    "    plt.ylabel('Expression Level')\n",
    "    plt.show()"
   ]
  },
  {
   "cell_type": "code",
   "execution_count": null,
   "metadata": {},
   "outputs": [],
   "source": [
    "Goblet_clusters = ['3-1-12-13,0','3-1-12-13,4','3-1-12-13,5','3-1-12-13,7','3-1-12-13,8','3-1-12-13,10','3-1-12-13,11','3-11-8-13,12']\n",
    "adata_EEC = adata_EEC[~adata_EEC.obs['leiden_sub_goblet'].isin(Goblet_clusters)]\n",
    "adata_EEC"
   ]
  },
  {
   "cell_type": "code",
   "execution_count": null,
   "metadata": {},
   "outputs": [],
   "source": [
    "sc.pp.neighbors(adata_EEC, use_rep='X_scarches_emb')\n",
    "sc.tl.leiden(adata_EEC, resolution=1.5)"
   ]
  },
  {
   "cell_type": "code",
   "execution_count": null,
   "metadata": {},
   "outputs": [],
   "source": [
    "sc.tl.paga(adata_EEC, groups='cell_type_annotation_lv1')"
   ]
  },
  {
   "cell_type": "code",
   "execution_count": null,
   "metadata": {},
   "outputs": [],
   "source": [
    "sc.pl.paga(adata_EEC,  fontsize=4)#, fontoutline=True, threshold=0.05, max_edge_width=3, min_edge_width=0.01, node_size_scale=3,"
   ]
  },
  {
   "cell_type": "code",
   "execution_count": null,
   "metadata": {},
   "outputs": [],
   "source": [
    "sc.tl.umap(adata_EEC, init_pos='paga', min_dist=0.4)"
   ]
  },
  {
   "cell_type": "code",
   "execution_count": null,
   "metadata": {},
   "outputs": [],
   "source": [
    "sc.pl.umap(adata_EEC, color=['atlas','Project','enriched','phase','kit','Status','line','strain', 'doublet_calls', 'enrichment proportion'], size=10, add_outline=True, alpha=1, outline_width=(0.3, 0.0), ncols=5, legend_fontsize=8, color_map=mymap,wspace = 0.4, save = 'EEC_subs_without192018_GC_joint_metadata.png', frameon= True)"
   ]
  },
  {
   "cell_type": "code",
   "execution_count": null,
   "metadata": {},
   "outputs": [],
   "source": [
    "sc.pl.umap(adata_EEC, color=['Status','condition','cell_type_annotation_lv1','leiden'], size=10, add_outline=True,legend_fontsize=9, alpha=1, outline_width=(0.3, 0.0), ncols=3, cmap=mymap,wspace=0.6, frameon=True)"
   ]
  },
  {
   "cell_type": "code",
   "execution_count": null,
   "metadata": {},
   "outputs": [],
   "source": [
    "sc.pl.umap(adata_EEC, color=['cell_type_annotation_lv1'], size=10, add_outline=True, alpha=1, outline_width=(0.3, 0.0), ncols=3, cmap=mymap,wspace=0.6, save = 'EEC_subs_joint_without_GC_anno.png', legend_fontsize = 9, frameon=True)\n"
   ]
  },
  {
   "cell_type": "code",
   "execution_count": null,
   "metadata": {},
   "outputs": [],
   "source": [
    "sc.pl.umap(adata_EEC, color=['leiden'], size=8, add_outline=True, alpha=1, outline_width=(0.3, 0.0), legend_loc='on data', save = 'EEC_subs_joint_without_GC_leiden.png', legend_fontsize = 16, frameon=True)\n"
   ]
  },
  {
   "cell_type": "raw",
   "metadata": {},
   "source": [
    "sc.pl.umap(adata_EEC, color=['sample','Dock7'],layer='raw_counts', size=10, add_outline=True, alpha=1, outline_width=(0.3, 0.0), ncols=3, cmap=mymap,wspace=1)"
   ]
  },
  {
   "cell_type": "raw",
   "metadata": {},
   "source": [
    "sc.pl.violin(adata_EEC, groupby='sample',keys=['Dock7'],rotation=90)"
   ]
  },
  {
   "cell_type": "code",
   "execution_count": null,
   "metadata": {},
   "outputs": [],
   "source": [
    "del adata_EEC.raw\n",
    "gc.collect()"
   ]
  },
  {
   "cell_type": "code",
   "execution_count": null,
   "metadata": {},
   "outputs": [],
   "source": [
    "sc.tl.rank_genes_groups(adata_EEC, 'leiden', method='wilcoxon', layer = 'sct_logcounts', use_raw=False)\n",
    "\n",
    "# to visualize the results\n",
    "\n",
    "sc.pl.rank_genes_groups(adata_EEC)"
   ]
  },
  {
   "cell_type": "code",
   "execution_count": null,
   "metadata": {},
   "outputs": [],
   "source": [
    "sc.tl.dendrogram(adata_EEC, groupby='leiden')"
   ]
  },
  {
   "cell_type": "code",
   "execution_count": null,
   "metadata": {},
   "outputs": [],
   "source": [
    "adata_EEC.X = adata_EEC.layers['sct_logcounts']"
   ]
  },
  {
   "cell_type": "code",
   "execution_count": null,
   "metadata": {},
   "outputs": [],
   "source": [
    "sc.pl.rank_genes_groups_dotplot(adata_EEC, n_genes=5, key=\"rank_genes_groups\", groupby=\"leiden\")\n"
   ]
  },
  {
   "cell_type": "code",
   "execution_count": null,
   "metadata": {},
   "outputs": [],
   "source": [
    "adata_EEC = adata_EEC[~adata_EEC.obs['leiden'].isin(['17'])].copy() # because apart and low quality cells"
   ]
  },
  {
   "cell_type": "code",
   "execution_count": null,
   "metadata": {},
   "outputs": [],
   "source": [
    "sc.tl.rank_genes_groups(adata_EEC, 'leiden', method='wilcoxon', layer = 'sct_logcounts', use_raw=False)\n",
    "\n",
    "# to visualize the results\n",
    "\n",
    "sc.pl.rank_genes_groups(adata_EEC)"
   ]
  },
  {
   "cell_type": "code",
   "execution_count": null,
   "metadata": {},
   "outputs": [],
   "source": [
    "sc.tl.dendrogram(adata_EEC, groupby='leiden')"
   ]
  },
  {
   "cell_type": "code",
   "execution_count": null,
   "metadata": {},
   "outputs": [],
   "source": [
    "adata_EEC.X = adata_EEC.layers['sct_logcounts']"
   ]
  },
  {
   "cell_type": "code",
   "execution_count": null,
   "metadata": {},
   "outputs": [],
   "source": [
    "sc.pl.rank_genes_groups_dotplot(adata_EEC, n_genes=5, key=\"rank_genes_groups\", groupby=\"leiden\")\n"
   ]
  },
  {
   "cell_type": "code",
   "execution_count": null,
   "metadata": {},
   "outputs": [],
   "source": [
    "sc.pl.umap(adata_EEC, color=['atlas','Status','Project','enriched','phase','kit','condition','line','strain', 'enrichment proportion'], size=5, add_outline=True, alpha=1, outline_width=(0.3, 0.0), ncols=5, legend_fontsize=8, color_map=mymap,wspace = 0.4, save = 'EEC_subs_without19201817_GC_joint_metadata.png', frameon= True)"
   ]
  },
  {
   "cell_type": "code",
   "execution_count": null,
   "metadata": {},
   "outputs": [],
   "source": [
    "sc.pl.umap(adata_EEC, color=['Status','kit','condition','cell_type_annotation_lv1','leiden'], size=2, add_outline=True,legend_fontsize=9, alpha=1, outline_width=(0.3, 0.0), ncols=3, cmap=mymap,wspace=0.6, frameon=True)"
   ]
  },
  {
   "cell_type": "markdown",
   "metadata": {},
   "source": [
    "### TFs"
   ]
  },
  {
   "cell_type": "code",
   "execution_count": null,
   "metadata": {},
   "outputs": [],
   "source": [
    "with open('TF_mouse_all.txt', 'r') as file:\n",
    "    TFs = file.read().splitlines()"
   ]
  },
  {
   "cell_type": "code",
   "execution_count": null,
   "metadata": {},
   "outputs": [],
   "source": [
    "ranked_genes = adata_EEC.uns['rank_genes_groups']['names']"
   ]
  },
  {
   "cell_type": "code",
   "execution_count": null,
   "metadata": {},
   "outputs": [],
   "source": [
    "n = -1\n",
    "differentially_expressed_tfs = {}\n",
    "N =10\n",
    "for group in ranked_genes.dtype.names:\n",
    "    n+=1\n",
    "    differentially_expressed_tfs[n] = []\n",
    "    for i, gene in enumerate(ranked_genes[group]):\n",
    "        if gene in TFs and i < N:\n",
    "            if gene not in differentially_expressed_tfs[n]:\n",
    "                differentially_expressed_tfs[n].append(gene)\n",
    "\n",
    "print(differentially_expressed_tfs)"
   ]
  },
  {
   "cell_type": "code",
   "execution_count": null,
   "metadata": {},
   "outputs": [],
   "source": [
    "# Flatten the list of genes\n",
    "all_tfs = [gene for genes in differentially_expressed_tfs.values() for gene in genes]\n",
    "all_tfs = list(set(all_tfs))  # Remove duplicates"
   ]
  },
  {
   "cell_type": "code",
   "execution_count": null,
   "metadata": {},
   "outputs": [],
   "source": [
    "np.max(adata_EEC.X)"
   ]
  },
  {
   "cell_type": "code",
   "execution_count": null,
   "metadata": {},
   "outputs": [],
   "source": [
    "#sc.pl.rank_genes_groups_dotplot(adata_EEC, var_names = all_tfs)\n",
    "sc.pl.dotplot(adata_EEC, all_tfs, groupby='leiden',dendrogram=True, layer='sct_logcounts',use_raw=False, save='EEC_joint_TFs_without192018_GC.png')"
   ]
  },
  {
   "cell_type": "code",
   "execution_count": null,
   "metadata": {},
   "outputs": [],
   "source": [
    "sc.pl.umap(adata_EEC, color=['cell_type_annotation_lv1','leiden'], size=10, add_outline=True, alpha=1, outline_width=(0.3, 0.0), ncols=3, cmap=mymap,wspace=0.6, frameon= True)"
   ]
  },
  {
   "cell_type": "code",
   "execution_count": null,
   "metadata": {},
   "outputs": [],
   "source": [
    "sc.pl.umap(adata_EEC, color=all_tfs, size=10, add_outline=True, alpha=1, outline_width=(0.3, 0.0), ncols=5, cmap=mymap, layer='log_dca_counts', save= 'umap_joint_TFs_EEC_wo19201817GC.png', frameon= True)"
   ]
  },
  {
   "cell_type": "code",
   "execution_count": null,
   "metadata": {},
   "outputs": [],
   "source": [
    "sc.pl.umap(adata_EEC, color=['Ghrl','Sst','Gcg','Gip','Pyy','Cck', 'Nts','Sct','Tac1','Tph1','Npw', 'Spdef','Reg4'],layer= 'log_dca_counts',size=10, add_outline=True, alpha=1, outline_width=(0.3, 0.0), ncols=5, cmap=mymap, save = 'EEC_subs_joint_hormones_expr_wo19201817GC.png', frameon= True)"
   ]
  },
  {
   "cell_type": "code",
   "execution_count": null,
   "metadata": {},
   "outputs": [],
   "source": [
    "adata_EEC.obs['leiden'].value_counts()"
   ]
  },
  {
   "cell_type": "markdown",
   "metadata": {},
   "source": [
    "### comboplots"
   ]
  },
  {
   "cell_type": "code",
   "execution_count": null,
   "metadata": {},
   "outputs": [],
   "source": [
    "sc.pl.umap(adata_EEC,color='pretty name')"
   ]
  },
  {
   "cell_type": "code",
   "execution_count": null,
   "metadata": {},
   "outputs": [],
   "source": [
    "plot_composition(adata_EEC, y_key='pretty name', x_key='leiden', x_rotation=90)"
   ]
  },
  {
   "cell_type": "code",
   "execution_count": null,
   "metadata": {},
   "outputs": [],
   "source": [
    "plot_composition(adata_EEC, y_key='Status', x_key='cell_type_annotation_lv1', x_rotation=90)"
   ]
  },
  {
   "cell_type": "code",
   "execution_count": null,
   "metadata": {},
   "outputs": [],
   "source": [
    "plot_composition(adata_EEC, y_key='condition', x_key='cell_type_annotation_lv1', x_rotation=90)"
   ]
  },
  {
   "cell_type": "code",
   "execution_count": null,
   "metadata": {},
   "outputs": [],
   "source": [
    "pd.set_option('display.max_columns', 50)"
   ]
  },
  {
   "cell_type": "code",
   "execution_count": null,
   "metadata": {},
   "outputs": [],
   "source": [
    "plot_composition(adata_EEC, y_key='atlas', x_key='cell_type_annotation_lv1', x_rotation=90)"
   ]
  },
  {
   "cell_type": "code",
   "execution_count": null,
   "metadata": {},
   "outputs": [],
   "source": [
    "plot_composition(adata_EEC, y_key='atlas', x_key='leiden', x_rotation=90)"
   ]
  },
  {
   "cell_type": "code",
   "execution_count": null,
   "metadata": {},
   "outputs": [],
   "source": [
    "plot_composition(adata_EEC, y_key='Status', x_key='leiden', x_rotation=90)"
   ]
  },
  {
   "cell_type": "code",
   "execution_count": null,
   "metadata": {},
   "outputs": [],
   "source": [
    "plot_composition(adata_EEC, y_key='condition', x_key='leiden', x_rotation=90)"
   ]
  },
  {
   "cell_type": "code",
   "execution_count": null,
   "metadata": {},
   "outputs": [],
   "source": [
    "plot_composition(adata_EEC, y_key='enriched', x_key='leiden', x_rotation=90)"
   ]
  },
  {
   "cell_type": "code",
   "execution_count": null,
   "metadata": {},
   "outputs": [],
   "source": [
    "plot_composition(adata_EEC, y_key='line', x_key='leiden', x_rotation=90)"
   ]
  },
  {
   "cell_type": "code",
   "execution_count": null,
   "metadata": {},
   "outputs": [],
   "source": [
    "plot_composition(adata_EEC, y_key='strain', x_key='leiden', x_rotation=90)"
   ]
  },
  {
   "cell_type": "code",
   "execution_count": null,
   "metadata": {},
   "outputs": [],
   "source": [
    "plot_composition(adata_EEC, y_key='enrichment proportion', x_key='leiden', x_rotation=90)"
   ]
  },
  {
   "cell_type": "code",
   "execution_count": null,
   "metadata": {},
   "outputs": [],
   "source": [
    "plot_composition(adata_EEC, y_key='Project', x_key='leiden', x_rotation=90)"
   ]
  },
  {
   "cell_type": "code",
   "execution_count": null,
   "metadata": {},
   "outputs": [],
   "source": [
    "plot_composition(adata_EEC, y_key='kit', x_key='leiden', x_rotation=90)"
   ]
  },
  {
   "cell_type": "code",
   "execution_count": null,
   "metadata": {},
   "outputs": [],
   "source": [
    "adata_EEC.obs['condition'].value_counts()"
   ]
  },
  {
   "cell_type": "code",
   "execution_count": null,
   "metadata": {},
   "outputs": [],
   "source": [
    "hormones= ['Ghrl','Sst','Gcg','Gip','Cck', 'Nts','Sct','Tac1','Tph1','Reg4']"
   ]
  },
  {
   "cell_type": "code",
   "execution_count": null,
   "metadata": {},
   "outputs": [],
   "source": [
    "for hormone in hormones:\n",
    "    sc.pl.violin(adata_EEC,groupby='atlas',keys=hormone,rotation=90, show=False)\n",
    "\n",
    "plt.show()"
   ]
  },
  {
   "cell_type": "markdown",
   "metadata": {},
   "source": [
    "### re annotation"
   ]
  },
  {
   "cell_type": "code",
   "execution_count": null,
   "metadata": {},
   "outputs": [],
   "source": [
    "annotation_key = 'cell_type_annotation_lv1'"
   ]
  },
  {
   "cell_type": "code",
   "execution_count": null,
   "metadata": {},
   "outputs": [],
   "source": [
    "clusters_manual_dict = {'12':'Cck ++ I-cells',\n",
    "                        '16':'N-cells (Nts+)',\n",
    "                        '10':'Reg4 ++ ECs',\n",
    "                        '5':'Tac1 ++ ECs',\n",
    "                        '3':'EC3 (Glis3+)',\n",
    "                        '7':'EC3 (Glis3+)',\n",
    "                        '13':'EC2 (Igfbp4+)',\n",
    "                        '11':'Goblet/EEC prog. (early, Hmgb2 +)'}"
   ]
  },
  {
   "cell_type": "code",
   "execution_count": null,
   "metadata": {},
   "outputs": [],
   "source": [
    "adata_EEC.obs[annotation_key] = adata_EEC.obs[annotation_key].astype(str)\n",
    "for cluster in clusters_manual_dict.keys():\n",
    "    adata_EEC.obs[annotation_key][adata_EEC.obs['leiden']==cluster] = clusters_manual_dict[cluster]"
   ]
  },
  {
   "cell_type": "code",
   "execution_count": null,
   "metadata": {},
   "outputs": [],
   "source": [
    "adata_EEC.uns['cell_type_annotation_lv1' + '_colors'] = [\n",
    "    '#a8e6a1',  # Goblet/EEC prog. (early) - light green (unchanged)\n",
    "    '#f7c4eb',  # Goblet/EEC prog. (early, hmgb2) - pink (unchanged)\n",
    "    '#d9edf7',  # EEC prog. (mid) - very light blue (lighter for progenitors)\n",
    "    '#a1d4f5',  # EEC prog. (late/Peptide) - lighter blue\n",
    "    '#5cadd6',  # EEC (Peptide/immature) - medium blue\n",
    "    '#53b2ae',  # X-cell (Ghrl+) - teal (unchanged)\n",
    "    '#3f84cf',  # K-cell (Gip+) - darker blue (to distinguish from other EECs)\n",
    "    '#2762b8',  # L/I-cell (Glp1+/Cck+) - dark blue (unchanged)\n",
    "    '#1c4fa3',  # Cck ++ I-cells - indigo (unchanged)\n",
    "    '#27458e',  # N-cells (Nts+) - dark indigo (unchanged)\n",
    "    '#001f4f',  # D-cell (Sst+) - darkest blue (unchanged)\n",
    "    '#e1d8f5',  # EC prog. (late) - light violet (lighter for progenitors)\n",
    "    '#c4a7e9',  # EC (immature) - medium violet\n",
    "    '#a97edb',  # EC (Tac1+) - violet\n",
    "    '#8152b5',  # EC (Npw+/Glis3+) - purple (unchanged)\n",
    "    '#725dae',  # EC (Reg4++) - darker purple (unchanged)\n",
    "    '#df5a90'   # EC (Igfbp4+) - pink\n",
    "]\n"
   ]
  },
  {
   "cell_type": "code",
   "execution_count": null,
   "metadata": {},
   "outputs": [],
   "source": [
    "sc.pl.umap(adata_EEC, color=['cell_type_annotation_lv1'], size=8, add_outline=True, alpha=1, outline_width=(0.3, 0.0), ncols=3, cmap=mymap,wspace=0., legend_fontsize = 9, frameon=True)"
   ]
  },
  {
   "cell_type": "code",
   "execution_count": null,
   "metadata": {},
   "outputs": [],
   "source": [
    "adata_EEC.obs[annotation_key].cat.categories"
   ]
  },
  {
   "cell_type": "code",
   "execution_count": null,
   "metadata": {},
   "outputs": [],
   "source": [
    "adata_EEC.obs[annotation_key].value_counts()"
   ]
  },
  {
   "cell_type": "code",
   "execution_count": null,
   "metadata": {},
   "outputs": [],
   "source": [
    "adata_EEC.obs[annotation_key] = adata_EEC.obs[annotation_key].cat.reorder_categories([\n",
    "'Goblet/EEC prog. (early)','Goblet/EEC prog. (early, Hmgb2 +)', 'EEC prog. (mid)', 'EEC prog. (late/Peptide)', 'EEC (Peptide/immature)', \n",
    "'X-cell (Ghrl+)',  'K-cell (Gip+)', 'L/I-cell (Glp1+/Cck+)','Cck ++ I-cells','N-cells (Nts+)', 'D-cell (Sst+)',\n",
    "'EC prog. (late)', 'EC (immature)','EC3 (Glis3+)','Reg4 ++ ECs', 'Tac1 ++ ECs', 'EC2 (Igfbp4+)'])"
   ]
  },
  {
   "cell_type": "code",
   "execution_count": null,
   "metadata": {},
   "outputs": [],
   "source": [
    "sc.tl.umap(adata_EEC,n_components=3,min_dist=0.3)"
   ]
  },
  {
   "cell_type": "code",
   "execution_count": null,
   "metadata": {},
   "outputs": [],
   "source": [
    "adata_EEC.obsm['X_umap']"
   ]
  },
  {
   "cell_type": "code",
   "execution_count": null,
   "metadata": {},
   "outputs": [],
   "source": [
    "sc.pl.umap(adata_EEC, color=['leiden'], size=2, add_outline=True, alpha=1, outline_width=(0.3, 0.0), ncols=3, cmap=mymap,wspace=0.6, projection='3d', legend_fontsize = 8, frameon=True)"
   ]
  },
  {
   "cell_type": "code",
   "execution_count": null,
   "metadata": {},
   "outputs": [],
   "source": [
    "sc.pl.umap(adata_EEC, color=['cell_type_annotation_lv1'], size=1, add_outline=True, alpha=1, outline_width=(0.3, 0.0), cmap=mymap,wspace=0.6, projection='3d', legend_fontsize = 8)"
   ]
  },
  {
   "cell_type": "code",
   "execution_count": null,
   "metadata": {},
   "outputs": [],
   "source": [
    "sc.tl.paga(adata_EEC,groups='cell_type_annotation_lv1')"
   ]
  },
  {
   "cell_type": "code",
   "execution_count": null,
   "metadata": {},
   "outputs": [],
   "source": [
    "sc.pl.paga(adata_EEC, fontsize=4)"
   ]
  },
  {
   "cell_type": "code",
   "execution_count": null,
   "metadata": {},
   "outputs": [],
   "source": [
    "sc.tl.umap(adata_EEC,init_pos='paga',min_dist=0.3)"
   ]
  },
  {
   "cell_type": "code",
   "execution_count": null,
   "metadata": {},
   "outputs": [],
   "source": [
    "sc.pl.umap(adata_EEC, color=['cell_type_annotation_lv1'], size=5, add_outline=True, alpha=1, outline_width=(0.3, 0.0), ncols=3, cmap=mymap,wspace=0.6, save = 'EEC_subs_joint_without_GC_anno2.png', legend_fontsize = 9, frameon=True)"
   ]
  },
  {
   "cell_type": "markdown",
   "metadata": {},
   "source": [
    "#### without recalculation"
   ]
  },
  {
   "cell_type": "code",
   "execution_count": null,
   "metadata": {},
   "outputs": [],
   "source": [
    "sc.pl.umap(adata_EEC, color=['leiden'], size=8, add_outline=True, alpha=1, outline_width=(0.3, 0.0), ncols=3, cmap=mymap,wspace=0., legend_fontsize = 9, frameon=True)"
   ]
  },
  {
   "cell_type": "code",
   "execution_count": null,
   "metadata": {},
   "outputs": [],
   "source": [
    "sc.pl.umap(adata_EEC, color=['cell_type_annotation_lv1'], size=8, add_outline=True, alpha=1, outline_width=(0.3, 0.0), ncols=3, cmap=mymap,wspace=0., legend_fontsize = 9, frameon=True)"
   ]
  },
  {
   "cell_type": "code",
   "execution_count": null,
   "metadata": {},
   "outputs": [],
   "source": [
    "sc.pl.umap(adata_EEC, color=['cell_type_annotation_lv1'], size=7, add_outline=True, alpha=1, outline_width=(0.3, 0.0), ncols=3, cmap=mymap,wspace=0.6, save = 'EEC_subs_joint_without_GC_anno2.png', legend_fontsize = 9, frameon=True)"
   ]
  },
  {
   "cell_type": "code",
   "execution_count": null,
   "metadata": {},
   "outputs": [],
   "source": [
    "with rc_context({'figure.figsize':(10,4)}):\n",
    "    sc.pl.violin(adata, keys=['Xist'], groupby='pretty name', rotation=90)"
   ]
  },
  {
   "cell_type": "markdown",
   "metadata": {},
   "source": [
    "## stacked violin plots"
   ]
  },
  {
   "cell_type": "code",
   "execution_count": null,
   "metadata": {},
   "outputs": [],
   "source": [
    "del adata_EEC.uns['leiden_colors']"
   ]
  },
  {
   "cell_type": "code",
   "execution_count": null,
   "metadata": {},
   "outputs": [],
   "source": [
    "sc.pl.umap(adata_EEC, color=['leiden'], size=10, add_outline=True, alpha=1, outline_width=(0.3, 0.0), ncols=3, cmap=mymap,wspace=0.6, frameon= True)"
   ]
  },
  {
   "cell_type": "code",
   "execution_count": null,
   "metadata": {},
   "outputs": [],
   "source": [
    "# Create a custom colormap\n",
    "custom_cmap = mcolors.ListedColormap(adata_EEC.uns['leiden_colors'], name='leiden_cmap')"
   ]
  },
  {
   "cell_type": "code",
   "execution_count": null,
   "metadata": {},
   "outputs": [],
   "source": [
    "markers = ['Sox4','Hmgb2','Spdef','Dll1','Neurog3','Neurod1','Ghrl','Sst','Gcg','Gip','Cck','Nts','Sct','Isl1','Tac1','Tph1','Glis3','Reg4','Igfbp4', 'Slc18a1','Lmx1a']\n",
    "sc.pl.stacked_violin(adata_EEC, markers, groupby='cell_type_annotation_lv1', layer='sct_logcounts',cmap = mymap,save='stacked_violin_new_anno_markers.png')#, palette=adata.uns['leiden_colors'])#, dendrogram=True)"
   ]
  },
  {
   "cell_type": "code",
   "execution_count": null,
   "metadata": {},
   "outputs": [],
   "source": [
    "markers = ['Sox4','Hmgb2','Spdef','Dll1','Neurog3','Neurod1','Ghrl','Sst','Gcg','Gip','Cck','Nts','Sct','Tac1','Tph1','Glis3','Reg4','Igfbp4']\n",
    "sc.pl.stacked_violin(adata_EEC, markers, groupby='leiden', layer='sct_logcounts',cmap = mymap, row_palette = adata_EEC.uns['leiden_colors'])#, palette=adata.uns['leiden_colors'])#, dendrogram=True)"
   ]
  },
  {
   "cell_type": "code",
   "execution_count": null,
   "metadata": {},
   "outputs": [],
   "source": [
    "markers = ['Sox4','Hmgb2','Spdef','Dll1','Neurog3','Neurod1','Ghrl','Sst','Gcg','Gip','Cck','Nts','Sct','Tac1','Tph1','Glis3','Reg4','Igfbp4']\n",
    "sc.pl.stacked_violin(adata_EEC, markers, groupby='leiden', layer='sct_logcounts',cmap = mymap, row_palette = adata_EEC.uns['leiden_colors'])#, palette=adata.uns['leiden_colors'])#, dendrogram=True)"
   ]
  },
  {
   "cell_type": "code",
   "execution_count": null,
   "metadata": {},
   "outputs": [],
   "source": [
    "sc.pl.stacked_violin(adata_EEC, markers, groupby='cell_type_annotation_lv1', layer='sct_logcounts',cmap = mymap)#, palette=adata.uns['leiden_colors'])#, dendrogram=True)"
   ]
  },
  {
   "cell_type": "code",
   "execution_count": null,
   "metadata": {},
   "outputs": [],
   "source": [
    "plot=sc.pl.stacked_violin(\n",
    "    adata_EEC,\n",
    "    markers,\n",
    "    groupby=['leiden', 'atlas'],  # Group by both 'leiden' clusters and 'atlas' categories\n",
    "    layer='sct_logcounts',\n",
    "    cmap=mymap,  # Use a red colormap\n",
    " return_fig=True)\n",
    "plot.add_totals().show()"
   ]
  },
  {
   "cell_type": "code",
   "execution_count": null,
   "metadata": {},
   "outputs": [],
   "source": [
    "plot = sc.pl.stacked_violin(\n",
    "    adata_EEC,\n",
    "    markers,\n",
    "    groupby=['cell_type_annotation_lv1', 'atlas'],  # Group by both 'leiden' clusters and 'atlas' categories\n",
    "    layer='sct_logcounts',\n",
    "    cmap=mymap,  # Use a red colormap\n",
    "return_fig=True)\n",
    "plot.add_totals().show()"
   ]
  },
  {
   "cell_type": "code",
   "execution_count": null,
   "metadata": {},
   "outputs": [],
   "source": [
    "plot = sc.pl.stacked_violin(\n",
    "    adata_EEC,\n",
    "    markers,\n",
    "    groupby=['cell_type_annotation_lv1', 'enriched'],  # Group by both 'leiden' clusters and 'atlas' categories\n",
    "    layer='sct_logcounts',\n",
    "    cmap=mymap,  # Use a red colormap\n",
    "return_fig=True)\n",
    "plot.add_totals().show()"
   ]
  },
  {
   "cell_type": "code",
   "execution_count": null,
   "metadata": {},
   "outputs": [],
   "source": []
  },
  {
   "cell_type": "markdown",
   "metadata": {},
   "source": [
    "### statistical testing"
   ]
  },
  {
   "cell_type": "code",
   "execution_count": null,
   "metadata": {},
   "outputs": [],
   "source": [
    "adata_EEC.X = adata_EEC.layers['raw_counts']"
   ]
  },
  {
   "cell_type": "code",
   "execution_count": null,
   "metadata": {},
   "outputs": [],
   "source": [
    "sc.pp.normalize_total(adata_EEC, target_sum=1e6)\n",
    "sc.pp.log1p(adata_EEC)\n",
    "sc.pp.pca(adata_EEC)"
   ]
  },
  {
   "cell_type": "code",
   "execution_count": null,
   "metadata": {},
   "outputs": [],
   "source": [
    "adata_EEC.obs[\"lib_size\"] = np.sum(adata_EEC.layers[\"raw_counts\"], axis=1)\n",
    "adata_EEC.obs[\"log_lib_size\"] = np.log(adata_EEC.obs[\"lib_size\"])"
   ]
  },
  {
   "cell_type": "code",
   "execution_count": null,
   "metadata": {},
   "outputs": [],
   "source": [
    "sc.pl.pca(adata_EEC, color=adata_EEC.obs, ncols=1, size=10)"
   ]
  },
  {
   "cell_type": "markdown",
   "metadata": {},
   "source": [
    "### Diffusion Pseudotime"
   ]
  },
  {
   "cell_type": "code",
   "execution_count": null,
   "metadata": {},
   "outputs": [],
   "source": [
    "sc.tl.score_genes(adata_EEC, gene_list=['Lgr5','Olfm4','Slc12a2','Clca3b','Cps1','Spdef','Neurog3','Sox4'], score_name='ISC_score', use_raw=False)"
   ]
  },
  {
   "cell_type": "code",
   "execution_count": null,
   "metadata": {},
   "outputs": [],
   "source": [
    "sc.pl.umap(adata_EEC, color=['ISC_score', 'phase'], size=7, add_outline=True, alpha=1, outline_width=(0.3, 0.0), ncols=4, color_map='turbo', title='ISC score', save = 'umap_joint_EEC_progenitor_score_phase.png')"
   ]
  },
  {
   "cell_type": "code",
   "execution_count": null,
   "metadata": {},
   "outputs": [],
   "source": [
    "sc.tl.diffmap(adata_EEC, n_comps=20)"
   ]
  },
  {
   "cell_type": "code",
   "execution_count": null,
   "metadata": {},
   "outputs": [],
   "source": [
    "sc.pl.diffmap(adata_EEC, components=['0,1','1,2','3,4','5,6','7,8','9,10','11,12','13,14','15,16','17,18','19,20'], color='ISC_score', color_map='turbo')"
   ]
  },
  {
   "cell_type": "code",
   "execution_count": null,
   "metadata": {},
   "outputs": [],
   "source": [
    "sc.pl.diffmap(adata_EEC, components=['0,1','1,2','3,4','5,6','7,8','9,10','11,12','13,14','15,16','17,18','19,20'], color='cell_type_annotation_lv1', wspace=1.8)"
   ]
  },
  {
   "cell_type": "code",
   "execution_count": null,
   "metadata": {},
   "outputs": [],
   "source": [
    "sc.pl.diffmap(adata_EEC, components=['11,1'], color=['phase','ISC_score','cell_type_annotation_lv1', 'Spdef'])"
   ]
  },
  {
   "cell_type": "code",
   "execution_count": null,
   "metadata": {},
   "outputs": [],
   "source": [
    "stem_mask = np.isin(adata_EEC.obs['cell_type_annotation_lv1'], 'Goblet/EEC prog. (early)')\n",
    "max_stem_id = np.argmax(adata_EEC.obsm['X_diffmap'][stem_mask,10])\n",
    "root_id = np.arange(len(stem_mask))[stem_mask][max_stem_id]\n",
    "adata_EEC.uns['iroot'] = root_id"
   ]
  },
  {
   "cell_type": "code",
   "execution_count": null,
   "metadata": {},
   "outputs": [],
   "source": [
    "import cellrank as cr\n",
    "import scvelo as scv"
   ]
  },
  {
   "cell_type": "code",
   "execution_count": null,
   "metadata": {},
   "outputs": [],
   "source": [
    "scv.pl.scatter(\n",
    "    adata_EEC,\n",
    "    basis='diffmap',\n",
    "    c=[root_id, 'phase', 'cell_type_annotation_lv1'],\n",
    "    legend_loc='right',\n",
    "    components=['10,0'], wspace=0.75\n",
    ")\n",
    "\n",
    "scv.pl.scatter(\n",
    "    adata_EEC,\n",
    "    basis='umap',\n",
    "    c=[root_id, 'phase', 'cell_type_annotation_lv1'],\n",
    "    legend_loc='right',\n",
    "    components=['1, 0'], wspace=0.75\n",
    ")\n"
   ]
  },
  {
   "cell_type": "code",
   "execution_count": null,
   "metadata": {},
   "outputs": [],
   "source": [
    "adata_EEC.obs_names[root_id]"
   ]
  },
  {
   "cell_type": "code",
   "execution_count": null,
   "metadata": {},
   "outputs": [],
   "source": [
    "sc.tl.dpt(adata_EEC, n_dcs=20)"
   ]
  },
  {
   "cell_type": "raw",
   "metadata": {
    "vscode": {
     "languageId": "raw"
    }
   },
   "source": [
    "adata_EEC.obs['dpt_pseudotime_g2m'] = adata_EEC.obs['dpt_pseudotime'].copy()"
   ]
  },
  {
   "cell_type": "code",
   "execution_count": null,
   "metadata": {},
   "outputs": [],
   "source": [
    "sc.pl.umap(adata_EEC, color=['dpt_pseudotime'], size=7, add_outline=True, alpha=1, outline_width=(0.3, 0.0), ncols=4, color_map='turbo')"
   ]
  },
  {
   "cell_type": "code",
   "execution_count": null,
   "metadata": {},
   "outputs": [],
   "source": [
    "with rc_context({'figure.figsize': (6, 4)}):\n",
    "    sc.pl.violin(adata_EEC, use_raw=False, keys=['dpt_pseudotime'], groupby='leiden', rotation=90)"
   ]
  },
  {
   "cell_type": "code",
   "execution_count": null,
   "metadata": {},
   "outputs": [],
   "source": [
    "with rc_context({'figure.figsize': (6, 4)}):\n",
    "    sc.pl.violin(adata_EEC, use_raw=False, keys=['dpt_pseudotime'], groupby='cell_type_annotation_lv1', rotation=90)"
   ]
  },
  {
   "cell_type": "code",
   "execution_count": null,
   "metadata": {},
   "outputs": [],
   "source": [
    "dptk = cr.kernels.PseudotimeKernel(adata_EEC, time_key='dpt_pseudotime')\n",
    "dptk.compute_transition_matrix(n_jobs=-1)\n",
    "dptk.plot_projection(color='cell_type_annotation_lv1', recompute=True, legend_loc='none',save = 'transition_dpt_EEC_only_joint.png')\n",
    "#dptk.write('adata_markedDoublets_mergedPeaks_normalized_initialAnno_rmDoublets_integrated_imputed_annotated_crKernel_dpt_pseudotime.plk', write_adata=False)"
   ]
  },
  {
   "cell_type": "code",
   "execution_count": null,
   "metadata": {},
   "outputs": [],
   "source": [
    "dptk.plot_projection(color='leiden', recompute=True, legend_loc='none',save = 'transition_dpt_EEC_only_joint_leiden.png')\n"
   ]
  },
  {
   "cell_type": "code",
   "execution_count": null,
   "metadata": {},
   "outputs": [],
   "source": [
    "adata_EEC.obs.drop(['sample number Minas'],axis=1, inplace=True)"
   ]
  },
  {
   "cell_type": "markdown",
   "metadata": {},
   "source": [
    "#### save object"
   ]
  },
  {
   "cell_type": "code",
   "execution_count": null,
   "metadata": {},
   "outputs": [],
   "source": [
    "adata_EEC.write('adata_EEC_joint_dpt_filtered.h5ad')"
   ]
  },
  {
   "cell_type": "code",
   "execution_count": null,
   "metadata": {},
   "outputs": [],
   "source": [
    "adata_EEC= sc.read_h5ad('adata_EEC_joint_dpt_filtered.h5ad')"
   ]
  },
  {
   "cell_type": "code",
   "execution_count": null,
   "metadata": {},
   "outputs": [],
   "source": [
    "adata_EEC_filt = adata_EEC.copy()"
   ]
  },
  {
   "cell_type": "markdown",
   "metadata": {},
   "source": [
    "### Diffusion Pseudotime with all GC/EEC prog."
   ]
  },
  {
   "cell_type": "code",
   "execution_count": null,
   "metadata": {},
   "outputs": [],
   "source": [
    "sc.tl.score_genes(adata_EEC, gene_list=['Lgr5','Olfm4','Slc12a2','Clca3b','Cps1','Spdef','Neurog3','Sox4'], score_name='ISC_score', use_raw=False)"
   ]
  },
  {
   "cell_type": "code",
   "execution_count": null,
   "metadata": {},
   "outputs": [],
   "source": [
    "sc.pl.umap(adata_EEC, color=['ISC_score'], size=7, add_outline=True, alpha=1, outline_width=(0.3, 0.0), ncols=4, color_map='turbo', title='ISC score', save = 'umap_progenitor_score.png')"
   ]
  },
  {
   "cell_type": "code",
   "execution_count": null,
   "metadata": {},
   "outputs": [],
   "source": [
    "sc.tl.diffmap(adata_EEC, n_comps=20)"
   ]
  },
  {
   "cell_type": "code",
   "execution_count": null,
   "metadata": {},
   "outputs": [],
   "source": [
    "sc.pl.diffmap(adata_EEC, components=['0,1','1,2','3,4','5,6','7,8','9,10','11,12','13,14','15,16','17,18','19,20'], color='ISC_score', color_map='turbo')"
   ]
  },
  {
   "cell_type": "code",
   "execution_count": null,
   "metadata": {},
   "outputs": [],
   "source": [
    "sc.pl.diffmap(adata_EEC, components=['0,1','1,2','3,4','5,6','7,8','9,10','11,12','13,14','15,16','17,18','19,20'], color='cell_type_annotation_lv1', wspace=1.8)"
   ]
  },
  {
   "cell_type": "code",
   "execution_count": null,
   "metadata": {},
   "outputs": [],
   "source": [
    "sc.pl.diffmap(adata_EEC, components=['11,1'], color=['phase','ISC_score','cell_type_annotation_lv1', 'Spdef'])"
   ]
  },
  {
   "cell_type": "code",
   "execution_count": null,
   "metadata": {},
   "outputs": [],
   "source": [
    "stem_mask = np.isin(adata_EEC.obs['cell_type_annotation_lv1'], 'Goblet/EEC prog. (early)')\n",
    "max_stem_id = np.argmin(adata_EEC.obsm['X_diffmap'][stem_mask,10])\n",
    "root_id = np.arange(len(stem_mask))[stem_mask][max_stem_id]\n",
    "adata_EEC.uns['iroot'] = root_id"
   ]
  },
  {
   "cell_type": "code",
   "execution_count": null,
   "metadata": {},
   "outputs": [],
   "source": [
    "import cellrank as cr\n",
    "import scvelo as scv"
   ]
  },
  {
   "cell_type": "code",
   "execution_count": null,
   "metadata": {},
   "outputs": [],
   "source": [
    "scv.pl.scatter(\n",
    "    adata_EEC,\n",
    "    basis='diffmap',\n",
    "    c=[root_id, 'phase', 'cell_type_annotation_lv1'],\n",
    "    legend_loc='right',\n",
    "    components=['10,0'], wspace=0.75\n",
    ")\n",
    "\n",
    "scv.pl.scatter(\n",
    "    adata_EEC,\n",
    "    basis='umap',\n",
    "    c=[root_id, 'phase', 'cell_type_annotation_lv1'],\n",
    "    legend_loc='right',\n",
    "    components=['1, 0'], wspace=0.75\n",
    ")\n"
   ]
  },
  {
   "cell_type": "code",
   "execution_count": null,
   "metadata": {},
   "outputs": [],
   "source": [
    "adata_EEC.obs_names[root_id]"
   ]
  },
  {
   "cell_type": "code",
   "execution_count": null,
   "metadata": {},
   "outputs": [],
   "source": [
    "sc.tl.dpt(adata_EEC, n_dcs=20)"
   ]
  },
  {
   "cell_type": "code",
   "execution_count": null,
   "metadata": {},
   "outputs": [],
   "source": [
    "adata_EEC.obs['dpt_pseudotime_g2m'] = adata_EEC.obs['dpt_pseudotime'].copy()"
   ]
  },
  {
   "cell_type": "code",
   "execution_count": null,
   "metadata": {},
   "outputs": [],
   "source": [
    "sc.pl.umap(adata_EEC, color=['dpt_pseudotime_g2m'], size=7, add_outline=True, alpha=1, outline_width=(0.3, 0.0), ncols=4, color_map='turbo')"
   ]
  },
  {
   "cell_type": "code",
   "execution_count": null,
   "metadata": {},
   "outputs": [],
   "source": [
    "with rc_context({'figure.figsize': (6, 4)}):\n",
    "    sc.pl.violin(adata_EEC, use_raw=False, keys=['dpt_pseudotime_g2m'], groupby='cell_type_annotation_lv1', rotation=90)"
   ]
  },
  {
   "cell_type": "code",
   "execution_count": null,
   "metadata": {},
   "outputs": [],
   "source": [
    "dptk = cr.kernels.PseudotimeKernel(adata_EEC, time_key='dpt_pseudotime_g2m')\n",
    "dptk.compute_transition_matrix(n_jobs=-1)\n",
    "dptk.plot_projection(color='cell_type_annotation_lv1', recompute=True, legend_loc='none',save = 'transition_dpt_EEC_only.png')\n",
    "#dptk.write('adata_markedDoublets_mergedPeaks_normalized_initialAnno_rmDoublets_integrated_imputed_annotated_crKernel_dpt_pseudotime.plk', write_adata=False)"
   ]
  }
 ],
 "metadata": {
  "kernelspec": {
   "display_name": "Python 3 (ipykernel)",
   "language": "python",
   "name": "python3"
  },
  "language_info": {
   "codemirror_mode": {
    "name": "ipython",
    "version": 3
   },
   "file_extension": ".py",
   "mimetype": "text/x-python",
   "name": "python",
   "nbconvert_exporter": "python",
   "pygments_lexer": "ipython3",
   "version": "3.10.14"
  }
 },
 "nbformat": 4,
 "nbformat_minor": 4
}
