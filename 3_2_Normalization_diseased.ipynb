{
 "cells": [
  {
   "cell_type": "markdown",
   "metadata": {},
   "source": [
    "\n",
    "# Preprocessing - Normalization\n",
    "Adapted from Michael Sterr\n",
    "\n",
    "2024-06-01\n",
    "\n",
    "\n",
    "# Setup\n"
   ]
  },
  {
   "cell_type": "code",
   "execution_count": null,
   "metadata": {
    "ExecuteTime": {
     "end_time": "2024-02-09T01:14:57.190618Z",
     "start_time": "2024-02-09T01:14:53.604011Z"
    },
    "execution": {
     "iopub.execute_input": "2024-05-16T20:52:15.762797Z",
     "iopub.status.busy": "2024-05-16T20:52:15.762597Z",
     "iopub.status.idle": "2024-05-16T20:52:20.408023Z",
     "shell.execute_reply": "2024-05-16T20:52:20.407421Z"
    }
   },
   "outputs": [],
   "source": [
    "# General\n",
    "import scipy as sci\n",
    "import numpy as np\n",
    "import pandas as pd\n",
    "import logging\n",
    "import time\n",
    "import pickle\n",
    "from itertools import chain\n",
    "import session_info\n",
    "import h5py\n",
    "import scipy.sparse as sparse\n",
    "import anndata as ad\n",
    "import scipy.stats as stats\n",
    "import gc\n",
    "\n",
    "\n",
    "# Plotting\n",
    "import matplotlib.pyplot as plt\n",
    "import matplotlib as mpl\n",
    "from matplotlib import rcParams\n",
    "from matplotlib import cm\n",
    "import seaborn as sb\n",
    "from matplotlib import colors\n",
    "import matplotlib.colors as mcolors\n",
    "from matplotlib.pyplot import rc_context\n",
    "from plotnine import *\n",
    "from adjustText import adjust_text\n",
    "\n",
    "# Analysis\n",
    "import scanpy as sc\n",
    "\n",
    "#R\n",
    "import rpy2\n",
    "import rpy2.robjects as ro\n",
    "import rpy2.rinterface_lib.callbacks\n",
    "from rpy2.robjects import pandas2ri\n",
    "import anndata2ri\n",
    "\n",
    "# Warnings\n",
    "import warnings\n",
    "warnings.filterwarnings('ignore') #(action='once') \n",
    "\n",
    "sc.logging.print_versions()"
   ]
  },
  {
   "cell_type": "code",
   "execution_count": null,
   "metadata": {
    "ExecuteTime": {
     "end_time": "2024-02-09T01:14:57.399300Z",
     "start_time": "2024-02-09T01:14:57.192681Z"
    },
    "execution": {
     "iopub.execute_input": "2024-05-16T20:52:20.416717Z",
     "iopub.status.busy": "2024-05-16T20:52:20.416432Z",
     "iopub.status.idle": "2024-05-16T20:52:20.729413Z",
     "shell.execute_reply": "2024-05-16T20:52:20.728877Z"
    }
   },
   "outputs": [],
   "source": [
    "# Settings\n",
    "\n",
    "## Directory\n",
    "base_dir = '/mnt/hdd/Notebooks/Gut_project/'\n",
    "sc.settings.figdir = base_dir + 'Figures'\n",
    "sc.settings.cachedir = base_dir + 'Cache'\n",
    "\n",
    "## Scanpy settings\n",
    "sc.settings.verbosity = 3\n",
    "sc.logging.print_versions()\n",
    "session_info.show()"
   ]
  },
  {
   "cell_type": "code",
   "execution_count": null,
   "metadata": {
    "ExecuteTime": {
     "end_time": "2024-02-09T01:14:57.404436Z",
     "start_time": "2024-02-09T01:14:57.400821Z"
    },
    "execution": {
     "iopub.execute_input": "2024-05-16T20:52:20.741704Z",
     "iopub.status.busy": "2024-05-16T20:52:20.741420Z",
     "iopub.status.idle": "2024-05-16T20:52:20.747506Z",
     "shell.execute_reply": "2024-05-16T20:52:20.746916Z"
    }
   },
   "outputs": [],
   "source": [
    "# Color maps\n",
    "colors2 = plt.cm.Reds(np.linspace(0, 1, 128)) \n",
    "colors3 = plt.cm.Greys_r(np.linspace(0.7,0.8,20)) \n",
    "colorsComb = np.vstack([colors3, colors2]) \n",
    "mymap = colors.LinearSegmentedColormap.from_list('my_colormap', colorsComb)"
   ]
  },
  {
   "cell_type": "code",
   "execution_count": null,
   "metadata": {
    "ExecuteTime": {
     "end_time": "2024-02-09T01:14:57.433423Z",
     "start_time": "2024-02-09T01:14:57.405444Z"
    },
    "execution": {
     "iopub.execute_input": "2024-05-16T20:52:20.754042Z",
     "iopub.status.busy": "2024-05-16T20:52:20.753900Z",
     "iopub.status.idle": "2024-05-16T20:52:20.775348Z",
     "shell.execute_reply": "2024-05-16T20:52:20.774887Z"
    }
   },
   "outputs": [],
   "source": [
    "# Plot settings\n",
    "%matplotlib inline\n",
    "\n",
    "## Plotting parameters\n",
    "rcParams['figure.figsize']=(5,5) #rescale figures\n",
    "#sc.set_figure_params(scanpy=True, frameon=False, vector_friendly=False, color_map='tab10' ,transparent=True, dpi=150, dpi_save=300)\n",
    "sc.set_figure_params(scanpy=True, frameon=False, vector_friendly=False ,transparent=True, dpi=150, dpi_save=300)\n",
    "\n",
    "## Font\n",
    "'''rcParams['font.family'] = 'sans-serif'\n",
    "rcParams['font.sans-serif'] = ['Source Sans 3']'''\n",
    "\n",
    "## Grid & Ticks\n",
    "rcParams['grid.alpha'] = 0\n",
    "rcParams['xtick.bottom'] = True\n",
    "rcParams['ytick.left'] = True\n",
    "\n",
    "## Embed font\n",
    "plt.rc('pdf', fonttype=42)\n",
    "\n",
    "## Define new default settings\n",
    "plt.rcParamsDefault = plt.rcParams"
   ]
  },
  {
   "cell_type": "markdown",
   "metadata": {},
   "source": [
    "# Setup R"
   ]
  },
  {
   "cell_type": "code",
   "execution_count": null,
   "metadata": {},
   "outputs": [],
   "source": [
    "%run utils.ipynb"
   ]
  },
  {
   "cell_type": "code",
   "execution_count": null,
   "metadata": {},
   "outputs": [],
   "source": [
    "setup_R('/home/scanalysis/mnt/envs/scUV/lib/R')"
   ]
  },
  {
   "cell_type": "code",
   "execution_count": null,
   "metadata": {
    "ExecuteTime": {
     "end_time": "2024-02-09T01:14:58.146290Z",
     "start_time": "2024-02-09T01:14:58.132701Z"
    },
    "execution": {
     "iopub.execute_input": "2024-05-16T20:52:21.467761Z",
     "iopub.status.busy": "2024-05-16T20:52:21.467617Z",
     "iopub.status.idle": "2024-05-16T20:52:21.482919Z",
     "shell.execute_reply": "2024-05-16T20:52:21.482491Z"
    }
   },
   "outputs": [],
   "source": [
    "%%R\n",
    "\n",
    ".libPaths()"
   ]
  },
  {
   "cell_type": "code",
   "execution_count": null,
   "metadata": {
    "ExecuteTime": {
     "end_time": "2024-02-09T01:15:05.897297Z",
     "start_time": "2024-02-09T01:14:58.147442Z"
    },
    "execution": {
     "iopub.execute_input": "2024-05-16T20:52:21.494443Z",
     "iopub.status.busy": "2024-05-16T20:52:21.494237Z",
     "iopub.status.idle": "2024-05-16T20:52:31.841454Z",
     "shell.execute_reply": "2024-05-16T20:52:31.840914Z"
    }
   },
   "outputs": [],
   "source": [
    "%%R\n",
    "library(Signac)\n",
    "library(Seurat)\n",
    "library(SingleCellExperiment)\n",
    "library(sctransform)\n",
    "\n",
    "library(RColorBrewer)\n",
    "library(ggplot2)\n",
    "library(cowplot)\n",
    "\n",
    "# Parallelization\n",
    "library(BiocParallel)\n",
    "register(MulticoreParam(20, progressbar = TRUE))\n",
    "\n",
    "library(future)\n",
    "plan(\"multicore\", workers = 20)\n",
    "options(future.globals.maxSize = 64 * 1024 ^ 3) # for 32 Gb RAM?\n",
    "plan()\n",
    "\n",
    "library(doParallel)\n",
    "registerDoParallel(20)\n",
    "sessionInfo()"
   ]
  },
  {
   "cell_type": "markdown",
   "metadata": {},
   "source": [
    "# Load Data"
   ]
  },
  {
   "cell_type": "code",
   "execution_count": null,
   "metadata": {
    "ExecuteTime": {
     "end_time": "2024-02-09T01:15:06.007098Z",
     "start_time": "2024-02-09T01:15:05.983349Z"
    },
    "execution": {
     "iopub.execute_input": "2024-05-16T20:52:32.737227Z",
     "iopub.status.busy": "2024-05-16T20:52:32.737076Z",
     "iopub.status.idle": "2024-05-16T20:52:32.740116Z",
     "shell.execute_reply": "2024-05-16T20:52:32.739567Z"
    }
   },
   "outputs": [],
   "source": [
    "samples = ['105_Gut_PF1',  '106_Gut_PF2', '107_Gut_VSG3', '108_Gut_VSG5', '83_Gut_Sham_d7_1', '84_Gut_VSG_d7_1', '85_Gut_Sham_d7_2', '86_Gut_VSG_d7_2', 'HFD_1', 'HFD_2',\n",
    " 'HFD_3',  'MUC13635', 'MUC13636', 'MUC13643','MUC13646', 'MUC8397', 'MUC8398', 'MUC8400', 'Mutant_1', 'Mutant_2', 'Mutant_3_FVR', 'Mutant_4_FVR']\n",
    "base_path = '/mnt/hdd/data'\n",
    "base_path1 = '/mnt/hdd/data/Diseased/'\n",
    "outs_path = '/count_matrices/'\n",
    "out_base_name = 'Diseased'\n",
    "out_path = '/mnt/hdd/data/Files'"
   ]
  },
  {
   "cell_type": "markdown",
   "metadata": {},
   "source": [
    "## Adata"
   ]
  },
  {
   "cell_type": "code",
   "execution_count": null,
   "metadata": {
    "ExecuteTime": {
     "end_time": "2024-02-09T01:15:08.502743Z",
     "start_time": "2024-02-09T01:15:06.008380Z"
    },
    "execution": {
     "iopub.execute_input": "2024-05-16T20:52:32.744855Z",
     "iopub.status.busy": "2024-05-16T20:52:32.744469Z",
     "iopub.status.idle": "2024-05-16T20:52:36.299306Z",
     "shell.execute_reply": "2024-05-16T20:52:36.298687Z"
    }
   },
   "outputs": [],
   "source": [
    "adata= sc.read_h5ad(f'{base_path}/{out_base_name}/Dbtl_detected_velocyto_diseased.h5ad')"
   ]
  },
  {
   "cell_type": "code",
   "execution_count": null,
   "metadata": {},
   "outputs": [],
   "source": [
    "adata.obs_names_make_unique()"
   ]
  },
  {
   "cell_type": "code",
   "execution_count": null,
   "metadata": {},
   "outputs": [],
   "source": [
    "adata"
   ]
  },
  {
   "cell_type": "code",
   "execution_count": null,
   "metadata": {
    "ExecuteTime": {
     "end_time": "2024-02-09T01:15:12.176857Z",
     "start_time": "2024-02-09T01:15:08.504106Z"
    },
    "execution": {
     "iopub.execute_input": "2024-05-16T20:52:36.309988Z",
     "iopub.status.busy": "2024-05-16T20:52:36.309838Z",
     "iopub.status.idle": "2024-05-16T20:52:41.005545Z",
     "shell.execute_reply": "2024-05-16T20:52:41.004874Z"
    }
   },
   "outputs": [],
   "source": [
    "sc.pl.umap(adata, color=['sample','n_counts','log_counts','n_genes','log_genes','mt_frac','rp_frac','final_doublets_cat','doublet_calls'], size=10, ncols=3, add_outline=True, alpha=1, outline_width=(0.3, 0.0), wspace=1.25)"
   ]
  },
  {
   "cell_type": "markdown",
   "metadata": {},
   "source": [
    "## CC Genes"
   ]
  },
  {
   "cell_type": "code",
   "execution_count": null,
   "metadata": {
    "ExecuteTime": {
     "end_time": "2024-02-09T01:15:46.660896Z",
     "start_time": "2024-02-09T01:15:44.675294Z"
    },
    "execution": {
     "iopub.execute_input": "2024-05-16T20:53:27.904709Z",
     "iopub.status.busy": "2024-05-16T20:53:27.904569Z",
     "iopub.status.idle": "2024-05-16T20:53:27.913776Z",
     "shell.execute_reply": "2024-05-16T20:53:27.913220Z"
    }
   },
   "outputs": [],
   "source": [
    "all_cc_genes, s_genes_regev, g2m_genes_regev, cc_genes_regev, cc_genes_macosko, s_genes_macosko, g2m_genes_macosko, m_genes_macosko, mg1_genes_macosko, g1s_genes_macosko = load_cell_cycle_genes(adata, genome ='mus_musculus')"
   ]
  },
  {
   "cell_type": "markdown",
   "metadata": {},
   "source": [
    "# Normalization with Scran"
   ]
  },
  {
   "cell_type": "code",
   "execution_count": null,
   "metadata": {
    "ExecuteTime": {
     "end_time": "2024-02-09T01:16:05.816891Z",
     "start_time": "2024-02-09T01:16:05.803058Z"
    },
    "execution": {
     "iopub.execute_input": "2024-05-16T20:53:46.017383Z",
     "iopub.status.busy": "2024-05-16T20:53:46.017264Z",
     "iopub.status.idle": "2024-05-16T20:53:46.037483Z",
     "shell.execute_reply": "2024-05-16T20:53:46.037015Z"
    }
   },
   "outputs": [],
   "source": [
    "adata.layers['raw_counts'] = adata.X.copy()"
   ]
  },
  {
   "cell_type": "code",
   "execution_count": null,
   "metadata": {},
   "outputs": [],
   "source": [
    "normalise_scran(adata)"
   ]
  },
  {
   "cell_type": "code",
   "execution_count": null,
   "metadata": {},
   "outputs": [],
   "source": [
    "gc.collect()"
   ]
  },
  {
   "cell_type": "code",
   "execution_count": null,
   "metadata": {
    "ExecuteTime": {
     "end_time": "2024-02-09T01:20:39.945708Z",
     "start_time": "2024-02-09T01:20:33.154379Z"
    },
    "execution": {
     "iopub.execute_input": "2024-05-16T20:59:41.494919Z",
     "iopub.status.busy": "2024-05-16T20:59:41.494767Z",
     "iopub.status.idle": "2024-05-16T20:59:41.498510Z",
     "shell.execute_reply": "2024-05-16T20:59:41.497842Z"
    }
   },
   "outputs": [],
   "source": [
    "sparsify_all_layers(adata)"
   ]
  },
  {
   "cell_type": "code",
   "execution_count": null,
   "metadata": {
    "ExecuteTime": {
     "end_time": "2024-02-09T01:20:39.949611Z",
     "start_time": "2024-02-09T01:20:39.946980Z"
    },
    "execution": {
     "iopub.execute_input": "2024-05-16T20:59:41.504048Z",
     "iopub.status.busy": "2024-05-16T20:59:41.503821Z",
     "iopub.status.idle": "2024-05-16T20:59:41.522276Z",
     "shell.execute_reply": "2024-05-16T20:59:41.521641Z"
    }
   },
   "outputs": [],
   "source": [
    "scran_mat = adata.layers['scran_counts'].T"
   ]
  },
  {
   "cell_type": "code",
   "execution_count": null,
   "metadata": {
    "ExecuteTime": {
     "end_time": "2024-02-09T01:20:45.649677Z",
     "start_time": "2024-02-09T01:20:44.167219Z"
    },
    "execution": {
     "iopub.execute_input": "2024-05-16T20:59:48.048209Z",
     "iopub.status.busy": "2024-05-16T20:59:48.047976Z",
     "iopub.status.idle": "2024-05-16T20:59:50.136743Z",
     "shell.execute_reply": "2024-05-16T20:59:50.136160Z"
    }
   },
   "outputs": [],
   "source": [
    "sc.pp.highly_variable_genes(adata)\n",
    "sc.pl.highly_variable_genes(adata)"
   ]
  },
  {
   "cell_type": "code",
   "execution_count": null,
   "metadata": {
    "ExecuteTime": {
     "end_time": "2024-02-09T01:20:45.662941Z",
     "start_time": "2024-02-09T01:20:45.650943Z"
    },
    "execution": {
     "iopub.execute_input": "2024-05-16T20:59:50.149042Z",
     "iopub.status.busy": "2024-05-16T20:59:50.148799Z",
     "iopub.status.idle": "2024-05-16T20:59:50.168101Z",
     "shell.execute_reply": "2024-05-16T20:59:50.167498Z"
    }
   },
   "outputs": [],
   "source": [
    "# Get HVGs and overlap with cell cycle & ambient genes\n",
    "\n",
    "## HVGs from SCT\n",
    "hvgs = pd.Series(adata.var_names[adata.var['highly_variable']])\n",
    "print('\\nHighly variable genes before filtering:',adata.var.loc[:,'highly_variable'].value_counts()[1])\n",
    "\n",
    "# overlap HVGs with CC genes\n",
    "hvcc = list(hvgs[hvgs.isin(all_cc_genes)])\n",
    "print('\\nHighly variable cell cycle genes:',len(hvcc),'\\n',hvcc)\n",
    "\n",
    "# overlap HVGs with ambient genes\n",
    "hvambi = list(hvgs[hvgs.isin(list(adata[:,adata.var['is_ambient'] == True].var_names))])\n",
    "print('\\nHighly variable ambient genes:',len(hvambi),'\\n',hvambi)\n",
    "\n",
    "# remove cell cycle genes\n",
    "adata.var.loc[hvcc,'highly_variable'] = False\n",
    "\n",
    "# remove ambient genes\n",
    "adata.var.loc[hvambi,'highly_variable'] = False\n",
    "\n",
    "print('\\nHighly variable genes after filtering:',adata.var.loc[:,'highly_variable'].value_counts()[1])"
   ]
  },
  {
   "cell_type": "code",
   "execution_count": null,
   "metadata": {},
   "outputs": [],
   "source": [
    "adata.var['is_ambient'].value_counts()"
   ]
  },
  {
   "cell_type": "code",
   "execution_count": null,
   "metadata": {},
   "outputs": [],
   "source": [
    "gc.collect()"
   ]
  },
  {
   "cell_type": "code",
   "execution_count": null,
   "metadata": {},
   "outputs": [],
   "source": [
    "# Calc umap\n",
    "sc.pp.pca(adata, svd_solver='arpack', use_highly_variable=True)\n",
    "sc.pp.neighbors(adata)"
   ]
  },
  {
   "cell_type": "code",
   "execution_count": null,
   "metadata": {
    "ExecuteTime": {
     "end_time": "2024-02-09T01:21:06.361303Z",
     "start_time": "2024-02-09T01:20:45.664116Z"
    },
    "execution": {
     "iopub.execute_input": "2024-05-16T20:59:50.173363Z",
     "iopub.status.busy": "2024-05-16T20:59:50.173237Z",
     "iopub.status.idle": "2024-05-16T21:00:41.172824Z",
     "shell.execute_reply": "2024-05-16T21:00:41.172149Z"
    }
   },
   "outputs": [],
   "source": [
    "sc.tl.leiden(adata, resolution=0.5)\n",
    "sc.tl.umap(adata)"
   ]
  },
  {
   "cell_type": "code",
   "execution_count": null,
   "metadata": {
    "ExecuteTime": {
     "end_time": "2024-02-09T01:21:06.366041Z",
     "start_time": "2024-02-09T01:21:06.363047Z"
    },
    "execution": {
     "iopub.execute_input": "2024-05-16T21:00:41.180194Z",
     "iopub.status.busy": "2024-05-16T21:00:41.180060Z",
     "iopub.status.idle": "2024-05-16T21:00:41.183253Z",
     "shell.execute_reply": "2024-05-16T21:00:41.182679Z"
    }
   },
   "outputs": [],
   "source": [
    "genes = ['Lgr5','Sis','Pou2f3','Spdef','Defa24','Chga','Neurog3','Tph1','Isl1','Foxa2']"
   ]
  },
  {
   "cell_type": "code",
   "execution_count": null,
   "metadata": {
    "ExecuteTime": {
     "end_time": "2024-02-09T01:21:11.782396Z",
     "start_time": "2024-02-09T01:21:06.367767Z"
    },
    "execution": {
     "iopub.execute_input": "2024-05-16T21:00:41.186841Z",
     "iopub.status.busy": "2024-05-16T21:00:41.186630Z",
     "iopub.status.idle": "2024-05-16T21:00:49.166228Z",
     "shell.execute_reply": "2024-05-16T21:00:49.165563Z"
    }
   },
   "outputs": [],
   "source": [
    "sc.pl.umap(adata, color=['sample','leiden','doublet_calls','final_doublets_cat'] + genes, size=10, add_outline=True, alpha=1, outline_width=(0.3, 0.0), ncols=3, wspace=1.1)"
   ]
  },
  {
   "cell_type": "markdown",
   "metadata": {},
   "source": [
    "# Normalization with Seurat SCT \n"
   ]
  },
  {
   "cell_type": "markdown",
   "metadata": {},
   "source": [
    "#### save current state"
   ]
  },
  {
   "cell_type": "code",
   "execution_count": null,
   "metadata": {},
   "outputs": [],
   "source": [
    "adata.write(f'{base_path}/{out_base_name}/Dbtl_detected_velocyto_scran_diseased.h5ad')"
   ]
  },
  {
   "cell_type": "code",
   "execution_count": null,
   "metadata": {},
   "outputs": [],
   "source": [
    "del adata"
   ]
  },
  {
   "cell_type": "markdown",
   "metadata": {},
   "source": [
    "#### read adata again"
   ]
  },
  {
   "cell_type": "code",
   "execution_count": null,
   "metadata": {},
   "outputs": [],
   "source": [
    "adata= sc.read_h5ad(f'{base_path}/{out_base_name}/Dbtl_detected_velocyto_scran_diseased.h5ad')"
   ]
  },
  {
   "cell_type": "code",
   "execution_count": null,
   "metadata": {},
   "outputs": [],
   "source": [
    "adata.obs['sample'].value_counts()"
   ]
  },
  {
   "cell_type": "code",
   "execution_count": null,
   "metadata": {},
   "outputs": [],
   "source": [
    "adata.X = adata.layers['raw_counts'].copy()"
   ]
  },
  {
   "cell_type": "code",
   "execution_count": null,
   "metadata": {},
   "outputs": [],
   "source": [
    "adata.X = sci.sparse.csr_matrix(adata.X)  "
   ]
  },
  {
   "cell_type": "code",
   "execution_count": null,
   "metadata": {},
   "outputs": [],
   "source": [
    "import torch\n",
    "torch.cuda.empty_cache()\n",
    "gc.collect()"
   ]
  },
  {
   "cell_type": "code",
   "execution_count": null,
   "metadata": {},
   "outputs": [],
   "source": [
    "data_mat = adata.X.T\n",
    "obs_names = adata.obs_names\n",
    "var_names = adata.var_names"
   ]
  },
  {
   "cell_type": "code",
   "execution_count": null,
   "metadata": {},
   "outputs": [],
   "source": [
    "%%R -i var_names -i obs_names -i data_mat -o seurat\n",
    "rownames(data_mat) <- var_names\n",
    "colnames(data_mat) <- obs_names\n",
    "seurat <- CreateSeuratObject(counts = data_mat, project = \"0\", min.cells = 0, min.features = 0)\n",
    "gc()"
   ]
  },
  {
   "cell_type": "code",
   "execution_count": null,
   "metadata": {},
   "outputs": [],
   "source": [
    "import torch\n",
    "torch.cuda.empty_cache()\n",
    "gc.collect()"
   ]
  },
  {
   "cell_type": "code",
   "execution_count": null,
   "metadata": {},
   "outputs": [],
   "source": [
    "%%R\n",
    "library(Signac)\n",
    "library(Seurat)\n",
    "library(SingleCellExperiment)\n",
    "library(sctransform)\n",
    "\n",
    "library(RColorBrewer)\n",
    "library(ggplot2)\n",
    "library(cowplot)\n",
    "\n",
    "# Parallelization\n",
    "library(BiocParallel)\n",
    "register(MulticoreParam(10, progressbar = TRUE))\n",
    "\n",
    "library(future)\n",
    "plan(\"multicore\", workers = 10)\n",
    "options(future.globals.maxSize = 64 * 1024 ^ 3) # for 32 Gb RAM?\n",
    "plan()\n",
    "\n",
    "library(doParallel)\n",
    "registerDoParallel(10)\n",
    "sessionInfo()"
   ]
  },
  {
   "cell_type": "code",
   "execution_count": null,
   "metadata": {},
   "outputs": [],
   "source": [
    "%%R\n",
    "seurat <- SCTransform(seurat, verbose = TRUE, return.only.var.genes = FALSE, ncells = 2000, variable.features.n = NULL, vst.flavor = \"v2\") #return.only.var.genes = FALSE and added ncells=2000, conserve_memory =TRUE to save memory and prevent breaking"
   ]
  },
  {
   "cell_type": "markdown",
   "metadata": {},
   "source": [
    "#### save seurat"
   ]
  },
  {
   "cell_type": "code",
   "execution_count": null,
   "metadata": {},
   "outputs": [],
   "source": [
    "%%R\n",
    "saveRDS(seurat, \"SCtransformseurat.rds\")"
   ]
  },
  {
   "cell_type": "markdown",
   "metadata": {},
   "source": [
    "#### read seurat"
   ]
  },
  {
   "cell_type": "raw",
   "metadata": {
    "vscode": {
     "languageId": "raw"
    }
   },
   "source": [
    "%%R -o seurat\n",
    "seurat <- readRDS(\"SCtransformseurat.rds\")"
   ]
  },
  {
   "cell_type": "code",
   "execution_count": null,
   "metadata": {},
   "outputs": [],
   "source": [
    "%%R\n",
    "summary(seurat[[\"SCT\"]]@scale.data)"
   ]
  },
  {
   "cell_type": "code",
   "execution_count": null,
   "metadata": {},
   "outputs": [],
   "source": [
    "%%R -o sce\n",
    "# Add feature meta data (since Seurat v4 -> will be fixed?)\n",
    "var <- c('detection_rate','gmean', 'variance', 'residual_variance')\n",
    "seurat[[\"SCT\"]]@meta.features <- SCTResults(seurat[[\"SCT\"]], slot = \"feature.attributes\")[, var]\n",
    "seurat[[\"SCT\"]]@meta.features$variable <- FALSE\n",
    "seurat[[\"SCT\"]]@meta.features[VariableFeatures(seurat[[\"SCT\"]] ), \"variable\"] <- TRUE\n",
    "colnames(seurat[[\"SCT\"]]@meta.features) <- paste0(\"sct.\", colnames(seurat[[\"SCT\"]]@meta.features) )\n",
    "\n",
    "# Convert to SingleCellExperiment\n",
    "sce <- as.SingleCellExperiment(seurat)"
   ]
  },
  {
   "cell_type": "code",
   "execution_count": null,
   "metadata": {},
   "outputs": [],
   "source": [
    "%%R\n",
    "# Add feature meta data (since Seurat v4 -> will be fixed?)\n",
    "rowData(sce) <- seurat[[\"SCT\"]]@meta.features"
   ]
  },
  {
   "cell_type": "code",
   "execution_count": null,
   "metadata": {},
   "outputs": [],
   "source": [
    "%%R -o sce\n",
    "# Rename and add layers\n",
    "SummarizedExperiment::assay(sce, i = 1) <- seurat[[\"SCT\"]]@counts\n",
    "SummarizedExperiment::assay(sce, i = 2) <- seurat[[\"SCT\"]]@data\n",
    "SummarizedExperiment::assay(sce, i = 3 <- seurat[[\"SCT\"]]@scale.data\n",
    "#SummarizedExperiment::assay(sce, i = 4) <- seurat[[\"RNA\"]]@counts\n",
    "SummarizedExperiment::assayNames(sce) <- c(\"sct_counts\", \"sct_logcounts\", \"sct_scale_data\")#, \"raw_counts\")\n",
    "rm(list = ls())\n",
    "gc()"
   ]
  },
  {
   "cell_type": "code",
   "execution_count": null,
   "metadata": {},
   "outputs": [],
   "source": [
    "# add SCT data to adata\n",
    "adata.layers['sct_counts'] = sce[:,adata.var_names].X.copy()\n",
    "adata.layers['sct_logcounts'] = sce[:,adata.var_names].layers['sct_logcounts'].copy()\n",
    "adata.layers['sct_scale_data'] = sce[:,adata.var_names].layers['sct_scale_data'].copy()\n",
    "adata.var[['sct.detection_rate', 'sct.gmean', 'sct.variance', 'sct.residual_variance', 'sct.variable']] = sce[:,adata_gex.var_names].var[['sct.detection_rate', 'sct.gmean', 'sct.variance', 'sct.residual_variance', 'sct.variable']].copy()\n",
    "gc.collect()"
   ]
  },
  {
   "cell_type": "code",
   "execution_count": null,
   "metadata": {},
   "outputs": [],
   "source": [
    "     \n",
    "# Set HVGs\n",
    "print('\\tSet HVGs...')\n",
    "adata.var.loc[:,'highly_variable'] = [bool(i) for i in sce[:,adata.var_names].var['sct.variable']]\n",
    "#hvgs = pd.Series(adata.var['sct.variable'][adata.var['sct.variable'] > 0].index) # use HVGs from sct\n",
    "#adata.var['highly_variable']= False\n",
    "#adata.var.loc[hvgs,'highly_variable'] = True\n",
    "\n",
    "# Filter genes: Min 20 cells - filters out 0 count genes\n",
    "print('\\tFilter genes...')\n",
    "sc.pp.filter_genes(adata, min_cells=20)\n",
    "\n",
    "gc.collect()\n"
   ]
  },
  {
   "cell_type": "code",
   "execution_count": null,
   "metadata": {},
   "outputs": [],
   "source": [
    "adata.write(f'{base_path}/{out_base_name}/Dbtl_detected_velocyto_scran_sct_diseased.h5ad')"
   ]
  },
  {
   "cell_type": "markdown",
   "metadata": {},
   "source": [
    "#### adata ran by Michi"
   ]
  },
  {
   "cell_type": "code",
   "execution_count": null,
   "metadata": {},
   "outputs": [],
   "source": [
    "adata = sc.read_h5ad(f'{base_path}/{out_base_name}/Dbtl_detected_velocyto_scran_sct_diseased_michi.h5ad')"
   ]
  },
  {
   "cell_type": "code",
   "execution_count": null,
   "metadata": {},
   "outputs": [],
   "source": [
    "gc.collect()"
   ]
  },
  {
   "cell_type": "code",
   "execution_count": null,
   "metadata": {
    "ExecuteTime": {
     "end_time": "2024-02-09T01:25:02.839778Z",
     "start_time": "2024-02-09T01:25:02.815281Z"
    },
    "execution": {
     "iopub.execute_input": "2024-05-16T21:08:35.561161Z",
     "iopub.status.busy": "2024-05-16T21:08:35.560944Z",
     "iopub.status.idle": "2024-05-16T21:08:35.567612Z",
     "shell.execute_reply": "2024-05-16T21:08:35.566925Z"
    }
   },
   "outputs": [],
   "source": [
    "adata.X = adata.layers['sct_logcounts']"
   ]
  },
  {
   "cell_type": "code",
   "execution_count": null,
   "metadata": {
    "ExecuteTime": {
     "end_time": "2024-02-09T01:25:02.864578Z",
     "start_time": "2024-02-09T01:25:02.841629Z"
    },
    "execution": {
     "iopub.execute_input": "2024-05-16T21:08:35.576092Z",
     "iopub.status.busy": "2024-05-16T21:08:35.575966Z",
     "iopub.status.idle": "2024-05-16T21:08:35.583320Z",
     "shell.execute_reply": "2024-05-16T21:08:35.582807Z"
    }
   },
   "outputs": [],
   "source": [
    "adata"
   ]
  },
  {
   "cell_type": "code",
   "execution_count": null,
   "metadata": {
    "ExecuteTime": {
     "end_time": "2024-02-09T01:25:03.301955Z",
     "start_time": "2024-02-09T01:25:03.285835Z"
    },
    "execution": {
     "iopub.execute_input": "2024-05-16T21:08:35.987063Z",
     "iopub.status.busy": "2024-05-16T21:08:35.986911Z",
     "iopub.status.idle": "2024-05-16T21:08:36.002627Z",
     "shell.execute_reply": "2024-05-16T21:08:36.002126Z"
    }
   },
   "outputs": [],
   "source": [
    "# Get HVGs and overlap with cell cycle & ambient genes\n",
    "\n",
    "## HVGs from SCT\n",
    "hvgs = pd.Series(adata.var_names[adata.var['highly_variable']])\n",
    "print('\\nHighly variable genes before filtering:',adata.var.loc[:,'highly_variable'].value_counts()[1])\n",
    "\n",
    "# overlap HVGs with CC genes\n",
    "hvcc = list(hvgs[hvgs.isin(all_cc_genes)])\n",
    "print('\\nHighly variable cell cycle genes:',len(hvcc),'\\n',hvcc)\n",
    "\n",
    "# overlap HVGs with ambient genes\n",
    "hvambi = list(hvgs[hvgs.isin(list(adata[:,adata.var['is_ambient'] == True].var_names))])\n",
    "print('\\nHighly variable ambient genes:',len(hvambi),'\\n',hvambi)\n",
    "\n",
    "# remove cell cycle genes\n",
    "adata.var.loc[hvcc,'highly_variable'] = False\n",
    "\n",
    "# remove ambient genes\n",
    "adata.var.loc[hvambi,'highly_variable'] = False\n",
    "\n",
    "print('\\nHighly variable genes after filtering:',adata.var.loc[:,'highly_variable'].value_counts()[1])"
   ]
  },
  {
   "cell_type": "code",
   "execution_count": null,
   "metadata": {
    "ExecuteTime": {
     "end_time": "2024-02-09T01:25:29.996558Z",
     "start_time": "2024-02-09T01:25:03.302994Z"
    },
    "execution": {
     "iopub.execute_input": "2024-05-16T21:08:36.007990Z",
     "iopub.status.busy": "2024-05-16T21:08:36.007843Z",
     "iopub.status.idle": "2024-05-16T21:09:19.760491Z",
     "shell.execute_reply": "2024-05-16T21:09:19.759846Z"
    }
   },
   "outputs": [],
   "source": [
    "# Calc umap\n",
    "sc.pp.pca(adata, svd_solver='arpack', use_highly_variable=True)\n",
    "sc.pp.neighbors(adata)\n",
    "sc.tl.leiden(adata, resolution=0.5)\n",
    "\n",
    "sc.tl.umap(adata)"
   ]
  },
  {
   "cell_type": "code",
   "execution_count": null,
   "metadata": {
    "ExecuteTime": {
     "end_time": "2024-02-09T01:25:30.506001Z",
     "start_time": "2024-02-09T01:25:29.997925Z"
    },
    "execution": {
     "iopub.execute_input": "2024-05-16T21:09:19.767957Z",
     "iopub.status.busy": "2024-05-16T21:09:19.767733Z",
     "iopub.status.idle": "2024-05-16T21:09:20.306042Z",
     "shell.execute_reply": "2024-05-16T21:09:20.305488Z"
    }
   },
   "outputs": [],
   "source": [
    "fig, ax = plt.subplots()\n",
    "ax.scatter(x=adata.var['sct.gmean'], y=adata.var['sct.residual_variance'], c=adata.var['highly_variable'], s=1, alpha=0.8)\n",
    "#ax.set_yscale('log')\n",
    "ax.set_ylim((0,500)) \n",
    "ax.set_xscale('log')\n",
    "ax.set_xlabel('Mean UMI Counts')\n",
    "ax.set_ylabel('Residual Variance')"
   ]
  },
  {
   "cell_type": "code",
   "execution_count": null,
   "metadata": {
    "ExecuteTime": {
     "end_time": "2024-02-09T01:25:31.093661Z",
     "start_time": "2024-02-09T01:25:30.507363Z"
    },
    "execution": {
     "iopub.execute_input": "2024-05-16T21:09:20.315134Z",
     "iopub.status.busy": "2024-05-16T21:09:20.314983Z",
     "iopub.status.idle": "2024-05-16T21:09:20.926521Z",
     "shell.execute_reply": "2024-05-16T21:09:20.925884Z"
    }
   },
   "outputs": [],
   "source": [
    "fig, ax = plt.subplots()\n",
    "ax.scatter(x=adata.var['sct.gmean'], y=adata.var['sct.residual_variance'], c=adata.var['highly_variable'], s=1, alpha=0.8)\n",
    "ax.set_yscale('log')\n",
    "#ax.set_ylim((0,500)) \n",
    "ax.set_xscale('log')\n",
    "ax.set_xlabel('Mean UMI Counts')\n",
    "ax.set_ylabel('Residual Variance')"
   ]
  },
  {
   "cell_type": "code",
   "execution_count": null,
   "metadata": {
    "ExecuteTime": {
     "end_time": "2024-02-09T01:25:33.699584Z",
     "start_time": "2024-02-09T01:25:31.094927Z"
    },
    "execution": {
     "iopub.execute_input": "2024-05-16T21:09:20.938639Z",
     "iopub.status.busy": "2024-05-16T21:09:20.938487Z",
     "iopub.status.idle": "2024-05-16T21:09:24.859470Z",
     "shell.execute_reply": "2024-05-16T21:09:24.858910Z"
    }
   },
   "outputs": [],
   "source": [
    "qc_metrics(adata, ambient=False)"
   ]
  },
  {
   "cell_type": "code",
   "execution_count": null,
   "metadata": {
    "ExecuteTime": {
     "end_time": "2024-02-09T01:25:36.943045Z",
     "start_time": "2024-02-09T01:25:33.700795Z"
    },
    "execution": {
     "iopub.execute_input": "2024-05-16T21:09:24.871635Z",
     "iopub.status.busy": "2024-05-16T21:09:24.871410Z",
     "iopub.status.idle": "2024-05-16T21:09:29.150085Z",
     "shell.execute_reply": "2024-05-16T21:09:29.149360Z"
    }
   },
   "outputs": [],
   "source": [
    "sc.pl.umap(adata, color=['n_counts', 'log_counts','n_genes','log_genes','mt_frac','rp_frac','sample','leiden'], size=10, add_outline=True, alpha=1, outline_width=(0.3, 0.0), ncols=2,wspace=0.95)"
   ]
  },
  {
   "cell_type": "code",
   "execution_count": null,
   "metadata": {
    "ExecuteTime": {
     "end_time": "2024-02-09T01:25:41.525938Z",
     "start_time": "2024-02-09T01:25:36.944411Z"
    },
    "execution": {
     "iopub.execute_input": "2024-05-16T21:09:29.276137Z",
     "iopub.status.busy": "2024-05-16T21:09:29.275898Z",
     "iopub.status.idle": "2024-05-16T21:09:36.518347Z",
     "shell.execute_reply": "2024-05-16T21:09:36.517683Z"
    }
   },
   "outputs": [],
   "source": [
    "sc.pl.umap(adata, color=['sample','leiden','doublet_calls','final_doublets_cat'] + genes, size=10, add_outline=True, alpha=1, outline_width=(0.3, 0.0), ncols=2, wspace=0.95)"
   ]
  },
  {
   "cell_type": "markdown",
   "metadata": {},
   "source": [
    "# Nomalization Results"
   ]
  },
  {
   "cell_type": "code",
   "execution_count": null,
   "metadata": {
    "ExecuteTime": {
     "end_time": "2024-02-09T01:25:41.529807Z",
     "start_time": "2024-02-09T01:25:41.527248Z"
    },
    "execution": {
     "iopub.execute_input": "2024-05-16T21:09:36.617356Z",
     "iopub.status.busy": "2024-05-16T21:09:36.617116Z",
     "iopub.status.idle": "2024-05-16T21:09:36.620997Z",
     "shell.execute_reply": "2024-05-16T21:09:36.620331Z"
    }
   },
   "outputs": [],
   "source": [
    "genes = ['Lgr5','Sis','Pou2f3','Spdef','Defa24','Chga','Neurog3','Tph1','Isl1','Foxa2']"
   ]
  },
  {
   "cell_type": "raw",
   "metadata": {
    "vscode": {
     "languageId": "raw"
    }
   },
   "source": [
    "adata.X = adata.layers['sct_logcounts'].copy()"
   ]
  },
  {
   "cell_type": "code",
   "execution_count": null,
   "metadata": {
    "ExecuteTime": {
     "end_time": "2024-02-09T01:25:44.762368Z",
     "start_time": "2024-02-09T01:25:41.530955Z"
    },
    "execution": {
     "iopub.execute_input": "2024-05-16T21:09:36.625041Z",
     "iopub.status.busy": "2024-05-16T21:09:36.624591Z",
     "iopub.status.idle": "2024-05-16T21:09:40.901901Z",
     "shell.execute_reply": "2024-05-16T21:09:40.901165Z"
    }
   },
   "outputs": [],
   "source": [
    "sc.pl.umap(adata, color=['n_counts', 'log_counts','n_genes','log_genes','mt_frac','rp_frac','sample','leiden'], size=10, add_outline=True, alpha=1, outline_width=(0.3, 0.0), ncols=4, wspace = 0.95)"
   ]
  },
  {
   "cell_type": "code",
   "execution_count": null,
   "metadata": {
    "ExecuteTime": {
     "end_time": "2024-02-09T01:25:48.935304Z",
     "start_time": "2024-02-09T01:25:44.763699Z"
    },
    "execution": {
     "iopub.execute_input": "2024-05-16T21:09:40.968969Z",
     "iopub.status.busy": "2024-05-16T21:09:40.968725Z",
     "iopub.status.idle": "2024-05-16T21:09:46.921351Z",
     "shell.execute_reply": "2024-05-16T21:09:46.920668Z"
    }
   },
   "outputs": [],
   "source": [
    "sc.pl.umap(adata, color=['sample','leiden'] + genes, size=10, add_outline=True, alpha=1, outline_width=(0.3, 0.0), ncols=4, wspace =1.05)"
   ]
  },
  {
   "cell_type": "code",
   "execution_count": null,
   "metadata": {
    "ExecuteTime": {
     "end_time": "2024-02-09T01:25:50.776794Z",
     "start_time": "2024-02-09T01:25:48.936637Z"
    },
    "execution": {
     "iopub.execute_input": "2024-05-16T21:09:47.009206Z",
     "iopub.status.busy": "2024-05-16T21:09:47.009076Z",
     "iopub.status.idle": "2024-05-16T21:09:49.519851Z",
     "shell.execute_reply": "2024-05-16T21:09:49.519223Z"
    }
   },
   "outputs": [],
   "source": [
    "with rc_context({'figure.figsize':(8,8)}):\n",
    "    sc.pl.violin(adata, use_raw=False, keys=['n_counts', 'log_counts','n_genes','log_genes','mt_frac','rp_frac'], groupby='leiden',rotation=90)"
   ]
  },
  {
   "cell_type": "code",
   "execution_count": null,
   "metadata": {
    "execution": {
     "iopub.execute_input": "2024-05-16T21:09:49.540923Z",
     "iopub.status.busy": "2024-05-16T21:09:49.540672Z",
     "iopub.status.idle": "2024-05-16T21:09:51.781853Z",
     "shell.execute_reply": "2024-05-16T21:09:51.781196Z"
    }
   },
   "outputs": [],
   "source": [
    "with rc_context({'figure.figsize':(8,8)}):\n",
    "    sc.pl.violin(adata, use_raw=False, keys=['n_counts', 'log_counts','n_genes','log_genes','mt_frac','rp_frac'], groupby='sample', rotation=90)"
   ]
  },
  {
   "cell_type": "code",
   "execution_count": null,
   "metadata": {
    "ExecuteTime": {
     "end_time": "2024-02-09T01:25:53.335056Z",
     "start_time": "2024-02-09T01:25:50.778131Z"
    },
    "execution": {
     "iopub.execute_input": "2024-05-16T21:09:51.800069Z",
     "iopub.status.busy": "2024-05-16T21:09:51.799940Z",
     "iopub.status.idle": "2024-05-16T21:09:56.340538Z",
     "shell.execute_reply": "2024-05-16T21:09:56.339882Z"
    }
   },
   "outputs": [],
   "source": [
    "with rc_context({'figure.figsize':(6,5)}):\n",
    "    sc.pl.violin(adata, use_raw=False, keys=genes, groupby='leiden', layer='raw_counts', rotation=90)"
   ]
  },
  {
   "cell_type": "code",
   "execution_count": null,
   "metadata": {
    "ExecuteTime": {
     "end_time": "2024-02-09T01:25:56.052013Z",
     "start_time": "2024-02-09T01:25:53.336387Z"
    },
    "execution": {
     "iopub.execute_input": "2024-05-16T21:09:56.358138Z",
     "iopub.status.busy": "2024-05-16T21:09:56.357899Z",
     "iopub.status.idle": "2024-05-16T21:10:00.896839Z",
     "shell.execute_reply": "2024-05-16T21:10:00.896172Z"
    },
    "scrolled": true
   },
   "outputs": [],
   "source": [
    "with rc_context({'figure.figsize':(8,12)}):\n",
    "    sc.pl.violin(adata, use_raw=False, keys=genes, groupby='leiden', layer='sct_counts', rotation=90)"
   ]
  },
  {
   "cell_type": "code",
   "execution_count": null,
   "metadata": {
    "ExecuteTime": {
     "end_time": "2024-02-09T01:25:58.520451Z",
     "start_time": "2024-02-09T01:25:56.053342Z"
    },
    "execution": {
     "iopub.execute_input": "2024-05-16T21:10:00.912203Z",
     "iopub.status.busy": "2024-05-16T21:10:00.911964Z",
     "iopub.status.idle": "2024-05-16T21:10:05.506856Z",
     "shell.execute_reply": "2024-05-16T21:10:05.506135Z"
    }
   },
   "outputs": [],
   "source": [
    "with rc_context({'figure.figsize':(6,8)}):\n",
    "    sc.pl.violin(adata, use_raw=False, keys=genes, groupby='leiden', layer='sct_logcounts', rotation=90)"
   ]
  },
  {
   "cell_type": "code",
   "execution_count": null,
   "metadata": {
    "ExecuteTime": {
     "end_time": "2024-02-09T01:26:00.993983Z",
     "start_time": "2024-02-09T01:25:58.521762Z"
    },
    "execution": {
     "iopub.execute_input": "2024-05-16T21:10:05.528342Z",
     "iopub.status.busy": "2024-05-16T21:10:05.528099Z",
     "iopub.status.idle": "2024-05-16T21:10:09.949270Z",
     "shell.execute_reply": "2024-05-16T21:10:09.948704Z"
    }
   },
   "outputs": [],
   "source": [
    "with rc_context({'figure.figsize':(6,8)}):\n",
    "    sc.pl.violin(adata, use_raw=False, keys=genes, groupby='leiden', layer='scran_counts', rotation=90)"
   ]
  },
  {
   "cell_type": "code",
   "execution_count": null,
   "metadata": {
    "ExecuteTime": {
     "end_time": "2024-02-09T01:26:03.671496Z",
     "start_time": "2024-02-09T01:26:00.995327Z"
    },
    "execution": {
     "iopub.execute_input": "2024-05-16T21:10:09.974241Z",
     "iopub.status.busy": "2024-05-16T21:10:09.974019Z",
     "iopub.status.idle": "2024-05-16T21:10:14.289788Z",
     "shell.execute_reply": "2024-05-16T21:10:14.289105Z"
    }
   },
   "outputs": [],
   "source": [
    "with rc_context({'figure.figsize':(6,8)}):\n",
    "    sc.pl.violin(adata, use_raw=False, keys=genes, groupby='leiden', layer='sct_scale_data', rotation=90)"
   ]
  },
  {
   "cell_type": "code",
   "execution_count": null,
   "metadata": {
    "ExecuteTime": {
     "end_time": "2024-02-09T01:26:16.770595Z",
     "start_time": "2024-02-09T01:26:03.672897Z"
    },
    "execution": {
     "iopub.execute_input": "2024-05-16T21:10:14.307176Z",
     "iopub.status.busy": "2024-05-16T21:10:14.307020Z",
     "iopub.status.idle": "2024-05-16T21:10:38.568779Z",
     "shell.execute_reply": "2024-05-16T21:10:38.568127Z"
    }
   },
   "outputs": [],
   "source": [
    "colors2 = plt.cm.Reds(np.linspace(0, 1, 128)) \n",
    "colors3 = plt.cm.Greys_r(np.linspace(0.7,0.8,20)) \n",
    "colorsComb = np.vstack([colors3, colors2]) \n",
    "mymap = colors.LinearSegmentedColormap.from_list('my_colormap', colorsComb)\n",
    "\n",
    "for gene in genes:\n",
    "    df = pd.DataFrame({'sct_residuals':list(chain.from_iterable(adata[:,gene].layers['sct_scale_data'].toarray())), 'sct':list(chain.from_iterable(adata[:,gene].layers['sct_logcounts'].toarray())), 'scran':list(chain.from_iterable(adata[:,gene].layers['scran_counts'].toarray())), 'raw':list(chain.from_iterable(adata[:,gene].layers['log_raw_counts'].toarray())), 'leiden':list(adata.obs['leiden'].astype(int))})\n",
    "    df = df.sort_values(by=['leiden'])\n",
    "    df.loc[:,'leiden'] = df.loc[:,'leiden'].astype('category')\n",
    "    lims_x = []\n",
    "    lims_y = []\n",
    "    lims_line = []\n",
    "\n",
    "    fig, axs = plt.subplots(1, 3, constrained_layout=True, figsize=(10, 3))\n",
    "    # Plots\n",
    "    axs[0].scatter(df.loc[:,'sct'], y=df.loc[:,'scran'], s=2, alpha=0.2, c=df.loc[:,'leiden'], cmap=mymap)\n",
    "    axs[1].scatter(df.loc[:,'raw'], y=df.loc[:,'sct'], s=2, alpha=0.2, c=df.loc[:,'leiden'], cmap=mymap)\n",
    "    axs[2].scatter(df.loc[:,'raw'], y=df.loc[:,'scran'], s=2, alpha=0.2, c=df.loc[:,'leiden'], cmap=mymap)\n",
    "\n",
    "    # Aesthetics\n",
    "    for i,ax in enumerate(axs):\n",
    "        lims_x.append(ax.get_xlim())\n",
    "        lims_y.append(ax.get_ylim())\n",
    "        lims_line.append([np.min([ax.get_xlim(), ax.get_ylim()]), np.max([ax.get_xlim(), ax.get_ylim()])])\n",
    "\n",
    "    axs[0].set_xlabel('SCT Normalized')\n",
    "    axs[0].set_ylabel('SCRAN Normalized')\n",
    "    #axs[0].set_aspect('equal')\n",
    "    axs[0].plot(lims_line[0], lims_line[0], 'k-', alpha=1, zorder=0, ls='--', lw=1)\n",
    "    axs[0].set_xlim(lims_x[0])\n",
    "    axs[0].set_ylim(lims_y[0])\n",
    "\n",
    "    axs[1].set_xlabel('Raw')\n",
    "    axs[1].set_ylabel('SCT Normalized')\n",
    "    axs[1].set_title(gene, fontweight='bold')\n",
    "    #axs[1].set_aspect('equal')\n",
    "    axs[1].plot(lims_line[1], lims_line[1], 'k-', alpha=1, zorder=0, ls='--', lw=1)\n",
    "    axs[1].set_xlim(lims_x[1])\n",
    "    axs[1].set_ylim(lims_y[1])\n",
    "\n",
    "    axs[2].set_xlabel('Raw')\n",
    "    axs[2].set_ylabel('SCRAN Normalized')\n",
    "    #axs[2].set_aspect('equal')\n",
    "    axs[2].plot(lims_line[2], lims_line[2], 'k-', alpha=1, zorder=0, ls='--', lw=1)\n",
    "    axs[2].set_xlim(lims_x[2])\n",
    "    axs[2].set_ylim(lims_y[2])\n",
    "\n",
    "    plt.show()"
   ]
  },
  {
   "cell_type": "markdown",
   "metadata": {},
   "source": [
    "# Save AData"
   ]
  },
  {
   "cell_type": "code",
   "execution_count": null,
   "metadata": {
    "ExecuteTime": {
     "end_time": "2024-02-09T01:32:32.591833Z",
     "start_time": "2024-02-09T01:32:32.567548Z"
    },
    "execution": {
     "iopub.execute_input": "2024-05-16T21:15:26.905612Z",
     "iopub.status.busy": "2024-05-16T21:15:26.905468Z",
     "iopub.status.idle": "2024-05-16T21:15:26.927302Z",
     "shell.execute_reply": "2024-05-16T21:15:26.926794Z"
    }
   },
   "outputs": [],
   "source": [
    "adata"
   ]
  },
  {
   "cell_type": "code",
   "execution_count": null,
   "metadata": {
    "ExecuteTime": {
     "end_time": "2024-02-09T01:32:45.644992Z",
     "start_time": "2024-02-09T01:32:32.593248Z"
    },
    "execution": {
     "iopub.execute_input": "2024-05-16T21:15:26.930348Z",
     "iopub.status.busy": "2024-05-16T21:15:26.930180Z",
     "iopub.status.idle": "2024-05-16T21:15:53.828992Z",
     "shell.execute_reply": "2024-05-16T21:15:53.828294Z"
    }
   },
   "outputs": [],
   "source": [
    "adata.write('/mnt/hdd/data/Healthy/adata_markedDoublets_normalized_diseased.h5ad')"
   ]
  },
  {
   "cell_type": "markdown",
   "metadata": {},
   "source": [
    "# Session Info"
   ]
  },
  {
   "cell_type": "code",
   "execution_count": null,
   "metadata": {
    "ExecuteTime": {
     "end_time": "2024-02-09T01:40:29.733443Z",
     "start_time": "2024-02-09T01:40:29.584590Z"
    },
    "execution": {
     "iopub.execute_input": "2024-05-16T21:28:33.313700Z",
     "iopub.status.busy": "2024-05-16T21:28:33.313481Z",
     "iopub.status.idle": "2024-05-16T21:28:33.454872Z",
     "shell.execute_reply": "2024-05-16T21:28:33.454364Z"
    }
   },
   "outputs": [],
   "source": [
    "print_r_session()"
   ]
  }
 ],
 "metadata": {
  "kernelspec": {
   "display_name": "scUV",
   "language": "python",
   "name": "python3"
  },
  "language_info": {
   "codemirror_mode": {
    "name": "ipython",
    "version": 3
   },
   "file_extension": ".py",
   "mimetype": "text/x-python",
   "name": "python",
   "nbconvert_exporter": "python",
   "pygments_lexer": "ipython3",
   "version": "3.10.14"
  },
  "toc": {
   "base_numbering": 1,
   "nav_menu": {},
   "number_sections": true,
   "sideBar": true,
   "skip_h1_title": false,
   "title_cell": "Table of Contents",
   "title_sidebar": "Contents",
   "toc_cell": false,
   "toc_position": {
    "height": "calc(100% - 180px)",
    "left": "10px",
    "top": "150px",
    "width": "293.5px"
   },
   "toc_section_display": true,
   "toc_window_display": true
  },
  "varInspector": {
   "cols": {
    "lenName": 16,
    "lenType": 16,
    "lenVar": 40
   },
   "kernels_config": {
    "python": {
     "delete_cmd_postfix": "",
     "delete_cmd_prefix": "del ",
     "library": "var_list.py",
     "varRefreshCmd": "print(var_dic_list())"
    },
    "r": {
     "delete_cmd_postfix": ") ",
     "delete_cmd_prefix": "rm(",
     "library": "var_list.r",
     "varRefreshCmd": "cat(var_dic_list()) "
    }
   },
   "oldHeight": 680.85,
   "position": {
    "height": "33.5333px",
    "left": "1935px",
    "right": "20px",
    "top": "84px",
    "width": "738.533px"
   },
   "types_to_exclude": [
    "module",
    "function",
    "builtin_function_or_method",
    "instance",
    "_Feature"
   ],
   "varInspector_section_display": "none",
   "window_display": true
  }
 },
 "nbformat": 4,
 "nbformat_minor": 4
}
