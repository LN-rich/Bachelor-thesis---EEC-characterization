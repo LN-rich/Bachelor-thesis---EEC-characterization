{
 "cells": [
  {
   "cell_type": "markdown",
   "id": "8c2136c1-25b8-4e3b-9c12-d55f0b7195ca",
   "metadata": {},
   "source": [
    "## Setup"
   ]
  },
  {
   "cell_type": "code",
   "execution_count": null,
   "id": "b25197e1-9c1b-4cd2-a8ef-96667c4b0dd3",
   "metadata": {
    "metadata": {}
   },
   "outputs": [],
   "source": [
    "# General\n",
    "import scipy as sci\n",
    "import numpy as np\n",
    "import pandas as pd\n",
    "import logging\n",
    "import time\n",
    "import pickle\n",
    "from itertools import chain\n",
    "import h5py\n",
    "import scipy.sparse as sparse\n",
    "import anndata as ad\n",
    "import scipy.stats as stats\n",
    "import gc\n",
    "import os\n",
    "\n",
    "# Plotting\n",
    "import matplotlib.pyplot as plt\n",
    "import matplotlib as mpl\n",
    "from matplotlib import rcParams\n",
    "from matplotlib import cm\n",
    "from matplotlib import colors\n",
    "from matplotlib.pyplot import rc_context\n",
    "import seaborn as sb\n",
    "#from plotnine import *\n",
    "from adjustText import adjust_text\n",
    "#import pegasus as pg\n",
    "\n",
    "# Analysis\n",
    "import scanpy as sc\n",
    "import muon as mu\n",
    "from muon import atac as ac\n",
    "#import snapatac2 as snap\n",
    "import pysam\n",
    "# Preporcessing\n",
    "import scrublet as scr\n",
    "\n",
    "#R\n",
    "import rpy2\n",
    "import rpy2.robjects as ro\n",
    "import rpy2.rinterface_lib.callbacks\n",
    "from rpy2.robjects import pandas2ri\n",
    "import anndata2ri\n",
    "\n",
    "\n",
    "# Warnings\n",
    "import warnings\n",
    "warnings.filterwarnings('ignore') #(action='once') \n",
    "import session_info\n",
    "session_info.show()\n",
    "\n",
    "#sc.logging.print_versions()"
   ]
  },
  {
   "cell_type": "code",
   "execution_count": null,
   "id": "01000d19",
   "metadata": {
    "metadata": {}
   },
   "outputs": [],
   "source": [
    "# Colormap\n",
    "colors2 = plt.cm.Reds(np.linspace(0, 1, 128)) \n",
    "colors3 = plt.cm.Greys_r(np.linspace(0.7,0.8,20)) \n",
    "colorsComb = np.vstack([colors3, colors2]) \n",
    "mymap = colors.LinearSegmentedColormap.from_list('my_colormap', colorsComb)"
   ]
  },
  {
   "cell_type": "code",
   "execution_count": null,
   "id": "002e3fab-1be5-43ae-9b9e-dee01ea087ac",
   "metadata": {
    "metadata": {}
   },
   "outputs": [],
   "source": [
    "%run utils.ipynb"
   ]
  },
  {
   "cell_type": "code",
   "execution_count": null,
   "id": "79a82086-e828-4179-9804-84d2360de108",
   "metadata": {
    "metadata": {}
   },
   "outputs": [],
   "source": [
    "setup_R('/home/scanalysis/mnt/envs/scUV/lib/R')\n",
    "#setup_R('/home/scanalysis/mnt/miniforge3/envs/LN/lib/R')\n",
    "%reload_ext rpy2.ipython"
   ]
  },
  {
   "cell_type": "code",
   "execution_count": null,
   "id": "23fd2f03-5268-44fe-9c36-e76b911b93d9",
   "metadata": {
    "metadata": {}
   },
   "outputs": [],
   "source": [
    "%%R\n",
    ".libPaths()"
   ]
  },
  {
   "cell_type": "code",
   "execution_count": null,
   "id": "12fcd8b7",
   "metadata": {},
   "outputs": [],
   "source": [
    "%%R\n",
    "\n",
    "# Parallelization\n",
    "library(BiocParallel)\n",
    "register(MulticoreParam(64, progressbar = TRUE))\n",
    "\n",
    "library(future)\n",
    "plan(multicore, workers = 64)\n",
    "#options(future.globals.maxSize = 100 * 1024 ^ 3) # for 50 Gb RAM\n",
    "plan()\n",
    "\n",
    "library(doParallel)\n",
    "registerDoParallel(64)\n",
    "\n",
    "sessionInfo()"
   ]
  },
  {
   "cell_type": "markdown",
   "id": "125f5f25-c20c-40c0-9969-f10c6cd82157",
   "metadata": {},
   "source": [
    "## read data"
   ]
  },
  {
   "cell_type": "code",
   "execution_count": null,
   "id": "fbebb1b7-436c-4e4c-8684-c069a8d78e06",
   "metadata": {
    "metadata": {}
   },
   "outputs": [],
   "source": [
    "base_path = '/mnt/hdd/data/Multiome/'\n",
    "outs_path = '/outs'"
   ]
  },
  {
   "cell_type": "code",
   "execution_count": null,
   "id": "81bf517a",
   "metadata": {},
   "outputs": [],
   "source": [
    "sc.settings.figdir = base_path + 'Figures'\n",
    "sc.settings.cachedir = base_path + 'Cache'\n",
    "\n",
    "## Scanpy settings\n",
    "sc.settings.verbosity = 3"
   ]
  },
  {
   "cell_type": "code",
   "execution_count": null,
   "id": "a65a5cf2-5742-41a7-b497-9b1c7ac6b62c",
   "metadata": {
    "metadata": {}
   },
   "outputs": [],
   "source": [
    "# Get a list of folder names, sorted alphabetically\n",
    "folder_names = sorted([f for f in os.listdir(base_path) if os.path.isdir(os.path.join(base_path, f))])\n",
    "folder_variables = {}\n",
    "\n",
    "for index, folder_name in enumerate(folder_names, start=46):\n",
    "    variable_name = f\"sample{index}\"\n",
    "    folder_variables[folder_name] = variable_name\n",
    "folder_variables"
   ]
  },
  {
   "cell_type": "code",
   "execution_count": null,
   "id": "0b3ecf8b-cefb-4d73-996c-8118197fbaa7",
   "metadata": {
    "metadata": {}
   },
   "outputs": [],
   "source": [
    "for variable_name, folder_name in folder_variables.items():\n",
    "    globals()[variable_name] = folder_name"
   ]
  },
  {
   "cell_type": "markdown",
   "id": "0824f25b",
   "metadata": {},
   "source": [
    "#### samples definition"
   ]
  },
  {
   "cell_type": "code",
   "execution_count": null,
   "id": "e2cd3eaf-9678-40a2-b665-babe74dbfd50",
   "metadata": {
    "metadata": {}
   },
   "outputs": [],
   "source": [
    "samples = ['597_NVF_Crypts_Rep1', '598_FVF_Crypts_Rep1','599_FVF_Crypts_Rep2','604_NVF_Crypts_Rep2','FVF-low', 'FVF-high']\n",
    "#samples = ['FVF-low', 'FVF-high']\n"
   ]
  },
  {
   "cell_type": "code",
   "execution_count": null,
   "id": "eff67c62-2cbf-4256-9011-d071d5bf6971",
   "metadata": {
    "metadata": {}
   },
   "outputs": [],
   "source": [
    "%%R\n",
    "library(scran)\n",
    "library(RColorBrewer)\n",
    "library(DropletUtils)"
   ]
  },
  {
   "cell_type": "markdown",
   "id": "27362037-99b4-4af4-8736-4615264783d7",
   "metadata": {},
   "source": [
    "## Preprocessing ATAC"
   ]
  },
  {
   "cell_type": "markdown",
   "id": "084b868a",
   "metadata": {},
   "source": [
    "### load samples, keep only intersect and run signac QC"
   ]
  },
  {
   "cell_type": "code",
   "execution_count": null,
   "id": "4f439013-2f3f-4cf1-955e-486256beb845",
   "metadata": {
    "metadata": {}
   },
   "outputs": [],
   "source": [
    "# retain only cell passing GEX QC\n",
    "for folder_name, sample_name in folder_variables.items():\n",
    "    if folder_name not in samples:\n",
    "        print(f'skipping {folder_name}...')\n",
    "        continue\n",
    "    mdata= read_h5mu_to_mudata(f'{base_path}{folder_name}{outs_path}/GEX_1_done.h5mu')\n",
    "    mu.pp.intersect_obs(mdata)\n",
    "    # ATAC\n",
    "    atac = mdata.mod['atac']\n",
    "    gex = mdata.mod['rna']\n",
    "    atac.var_names_make_unique()\n",
    "\n",
    "    # add umap\n",
    "    atac.obsm['X_umap'] = gex.obsm['X_umap']\n",
    "    atac.obs['leiden'] = gex.obs['leiden']\n",
    "    atac = signac_qc_metrics(atac, aggregated=False,species='Mmusculus', genome=\"mm10\", sample =folder_name, ensembl_release=\"v102\", cr_path=base_path)\n",
    "    mu.write(f'{base_path}{folder_name}{outs_path}/ATAC_signac.h5mu',mdata)\n",
    "    # Clear memory\n",
    "    del mdata\n",
    "    gc.collect()\n",
    "    "
   ]
  },
  {
   "cell_type": "markdown",
   "id": "1519a5a9",
   "metadata": {},
   "source": [
    "### counts"
   ]
  },
  {
   "cell_type": "code",
   "execution_count": null,
   "id": "2532aa4f",
   "metadata": {
    "metadata": {}
   },
   "outputs": [],
   "source": [
    "for folder_name, sample_name in folder_variables.items():\n",
    "    if folder_name not in samples:\n",
    "        print(f'skipping {folder_name}...')\n",
    "        continue\n",
    "    mdata= read_h5mu_to_mudata(f'{base_path}{folder_name}{outs_path}/ATAC_signac.h5mu')\n",
    "    atac = mdata.mod['atac']\n",
    "    try:\n",
    "        sb.jointplot(x=atac.obs['log_nCount_atac'], y=atac.obs['log_nFeature_atac'], n_levels=30, thresh=0.05, kind=\"kde\", space=0, fill=True, cmap=\"rocket_r\", color=\"#f69c73\").plot_joint(\n",
    "        sb.scatterplot, alpha=0)\n",
    "    except ValueError:\n",
    "        sb.jointplot(x=atac.obs['log_nCount_atac'], y=atac.obs['log_nFeature_atac'], n_levels=30, thresh=0.05, kind=\"kde\", space=0, fill=True, cmap=\"rocket_r\", color=\"#f69c73\", clip= ((6,12),(5,11))).plot_joint(\n",
    "        sb.scatterplot, alpha=0)    \n",
    "    plt.suptitle(folder_name)\n",
    "    plt.show()\n",
    "    plt.close()\n",
    "    #Thresholding decision: counts\n",
    "    with rc_context({'figure.figsize': (8, 3)}):\n",
    "        sb.histplot(atac.obs['nCount_atac'], kde=True)\n",
    "        plt.title(folder_name)\n",
    "        plt.show()\n",
    "        plt.close\n",
    "    # Clear memory\n",
    "    del mdata\n",
    "    gc.collect()"
   ]
  },
  {
   "cell_type": "markdown",
   "id": "05fa4b8d",
   "metadata": {},
   "source": [
    "##### set min count"
   ]
  },
  {
   "cell_type": "code",
   "execution_count": null,
   "id": "7098bc9d",
   "metadata": {
    "metadata": {}
   },
   "outputs": [],
   "source": [
    "count_dict = {'597_NVF_Crypts_Rep1': [3500,120000],\n",
    " '598_FVF_Crypts_Rep1': [6500,120000],\n",
    " '599_FVF_Crypts_Rep2': [4500,120000],\n",
    " '604_NVF_Crypts_Rep2': [6000,130000],\n",
    " 'FVF-high': [5000,140000],\n",
    " 'FVF-low': [7500,120000]}"
   ]
  },
  {
   "cell_type": "code",
   "execution_count": null,
   "id": "3587e873",
   "metadata": {
    "metadata": {}
   },
   "outputs": [],
   "source": [
    "x_lim = [0,20000]"
   ]
  },
  {
   "cell_type": "code",
   "execution_count": null,
   "id": "ad2eef1d",
   "metadata": {
    "metadata": {}
   },
   "outputs": [],
   "source": [
    "for folder_name, sample_name in folder_variables.items():\n",
    "    if folder_name not in samples:\n",
    "        print(f'skipping {folder_name}...')\n",
    "        continue\n",
    "    mdata= read_h5mu_to_mudata(f'{base_path}{folder_name}{outs_path}/ATAC_signac.h5mu')\n",
    "    atac = mdata.mod['atac'] \n",
    "    with rc_context({'figure.figsize': (8, 3)}):\n",
    "        sb.histplot(atac.obs['nCount_atac'][(atac.obs['nCount_atac']<x_lim[1])], kde=True, bins=60)\n",
    "        plt.axvline(count_dict[folder_name][0], 0, 1)\n",
    "        plt.title(folder_name)\n",
    "        plt.show()\n",
    "        plt.close()\n",
    "    # Clear memory\n",
    "    del mdata\n",
    "    gc.collect()"
   ]
  },
  {
   "cell_type": "code",
   "execution_count": null,
   "id": "7525fac8",
   "metadata": {},
   "outputs": [],
   "source": [
    "x_lim = [40000,200000]"
   ]
  },
  {
   "cell_type": "code",
   "execution_count": null,
   "id": "36356a40",
   "metadata": {},
   "outputs": [],
   "source": [
    "for folder_name, sample_name in folder_variables.items():\n",
    "    if folder_name not in samples:\n",
    "        print(f'skipping {folder_name}...')\n",
    "        continue\n",
    "    mdata= read_h5mu_to_mudata(f'{base_path}{folder_name}{outs_path}/ATAC_signac.h5mu')\n",
    "    atac = mdata.mod['atac']\n",
    "    with rc_context({'figure.figsize': (8, 3)}):\n",
    "        sb.histplot(atac.obs['nCount_atac'][(atac.obs['nCount_atac']>x_lim[0]) & (atac.obs['nCount_atac']<x_lim[1])], kde=True, bins=60)\n",
    "        plt.axvline(count_dict[folder_name][1], 0, 1)\n",
    "        plt.title(folder_name)\n",
    "        plt.show()\n",
    "        plt.close()\n",
    "    # Clear memory\n",
    "    del mdata\n",
    "    gc.collect()"
   ]
  },
  {
   "cell_type": "code",
   "execution_count": null,
   "id": "3c07de76",
   "metadata": {},
   "outputs": [],
   "source": [
    "counts_filters= {}\n",
    "for folder_name, sample_name in folder_variables.items():\n",
    "    if folder_name not in samples:\n",
    "        print(f'skipping {folder_name}...')\n",
    "        continue\n",
    "    mdata= read_h5mu_to_mudata(f'{base_path}{folder_name}{outs_path}/ATAC_signac.h5mu')\n",
    "    atac = mdata.mod['atac'] \n",
    "    min_counts_atac = count_dict[folder_name][0]\n",
    "    max_counts_atac = count_dict[folder_name][1]\n",
    "    counts_filters[folder_name] = (atac.obs['nCount_atac'] > min_counts_atac) & (atac.obs['nCount_atac'] < max_counts_atac)\n",
    "    sc.pl.scatter(atac, 'nCount_atac', 'nFeature_atac', color='nucleosome_signal', show=False).vlines(x=[count_dict[folder_name][0], count_dict[folder_name][1]], ymin=[0,0], ymax=[max(atac.obs['nFeature_atac']),max(atac.obs['nFeature_atac'])], color=\"black\", lw=0.5).set_linestyle(\"--\")\n",
    "    plt.suptitle(folder_name)\n",
    "    plt.show()\n",
    "    plt.close()\n",
    "    sc.pl.scatter(atac, 'log_nCount_atac', 'log_nFeature_atac', color='nucleosome_signal', show=False).vlines(x=[np.log(count_dict[folder_name][0]), np.log(count_dict[folder_name][1])], ymin=[np.log(min(atac.obs['nFeature_atac'])),np.log(min(atac.obs['nFeature_atac']))], ymax=[np.log(max(atac.obs['nFeature_atac'])),np.log(max(atac.obs['nFeature_atac']))], color=\"black\", lw=0.5).set_linestyle(\"--\")\n",
    "    plt.suptitle(folder_name)\n",
    "    plt.show()\n",
    "    plt.close()\n",
    "    # Clear memory\n",
    "    del mdata\n",
    "    gc.collect()\n"
   ]
  },
  {
   "cell_type": "markdown",
   "id": "25510a07",
   "metadata": {},
   "source": [
    "### TSS Enrichment"
   ]
  },
  {
   "cell_type": "code",
   "execution_count": null,
   "id": "4011cff5",
   "metadata": {},
   "outputs": [],
   "source": [
    "for folder_name, sample_name in folder_variables.items():\n",
    "    if folder_name not in samples:\n",
    "        print(f'skipping {folder_name}...')\n",
    "        continue\n",
    "    mdata= read_h5mu_to_mudata(f'{base_path}{folder_name}{outs_path}/ATAC_signac.h5mu')\n",
    "    atac = mdata.mod['atac']\n",
    "    #Thresholding decision: tss enrichment\n",
    "    with rc_context({'figure.figsize': (8, 3)}):\n",
    "        sb.histplot(atac.obs['TSS.enrichment'][counts_filters[folder_name]], kde=True, bins=60)\n",
    "        sb.histplot(atac.obs['TSS.enrichment'], kde=True, bins=60)\n",
    "        plt.title(folder_name)\n",
    "        plt.show()\n",
    "        plt.close()\n",
    "    # Clear memory\n",
    "    del mdata\n",
    "    gc.collect()"
   ]
  },
  {
   "cell_type": "code",
   "execution_count": null,
   "id": "bc26c98f",
   "metadata": {},
   "outputs": [],
   "source": [
    "tss_dict = {'597_NVF_Crypts_Rep1': [3.8,8.5],\n",
    " '598_FVF_Crypts_Rep1': [4,8],\n",
    " '599_FVF_Crypts_Rep2': [4,8],\n",
    " '604_NVF_Crypts_Rep2': [3.8,8.5],\n",
    " 'FVF-high': [4,8.5],\n",
    " 'FVF-low': [4,8]}"
   ]
  },
  {
   "cell_type": "code",
   "execution_count": null,
   "id": "503c0e6e",
   "metadata": {},
   "outputs": [],
   "source": [
    "x_lim = [2,5.2]"
   ]
  },
  {
   "cell_type": "code",
   "execution_count": null,
   "id": "0e9f6c80",
   "metadata": {},
   "outputs": [],
   "source": [
    "for folder_name, sample_name in folder_variables.items():\n",
    "    if folder_name not in samples:\n",
    "        print(f'skipping {folder_name}...')\n",
    "        continue\n",
    "    mdata= read_h5mu_to_mudata(f'{base_path}{folder_name}{outs_path}/ATAC_signac.h5mu')\n",
    "    atac = mdata.mod['atac']\n",
    "    with rc_context({'figure.figsize': (8, 3)}):\n",
    "        sb.histplot(atac.obs['TSS.enrichment'][(atac.obs['TSS.enrichment']>x_lim[0]) & (atac.obs['TSS.enrichment']<x_lim[1]) & counts_filters[folder_name]], kde=True, bins=60)\n",
    "        sb.histplot(atac.obs['TSS.enrichment'][(atac.obs['TSS.enrichment']>x_lim[0]) & (atac.obs['TSS.enrichment']<x_lim[1])], kde=True, bins=60)\n",
    "        plt.axvline(tss_dict[folder_name][0], 0, 1)\n",
    "        plt.title(folder_name)\n",
    "        plt.show()\n",
    "        plt.close()\n",
    "    # Clear memory\n",
    "    del mdata\n",
    "    gc.collect()"
   ]
  },
  {
   "cell_type": "code",
   "execution_count": null,
   "id": "d385fe2f",
   "metadata": {},
   "outputs": [],
   "source": [
    "x_lim = [6,12]"
   ]
  },
  {
   "cell_type": "code",
   "execution_count": null,
   "id": "0a8673d2",
   "metadata": {},
   "outputs": [],
   "source": [
    "for folder_name, sample_name in folder_variables.items():\n",
    "    if folder_name not in samples:\n",
    "        print(f'skipping {folder_name}...')\n",
    "        continue\n",
    "    mdata= read_h5mu_to_mudata(f'{base_path}{folder_name}{outs_path}/ATAC_signac.h5mu')\n",
    "    atac = mdata.mod['atac']\n",
    "    with rc_context({'figure.figsize': (8, 3)}):\n",
    "        sb.histplot(atac.obs['TSS.enrichment'][(atac.obs['TSS.enrichment']>x_lim[0]) & (atac.obs['TSS.enrichment']<x_lim[1]) & counts_filters[folder_name]], kde=True, bins=60)\n",
    "        sb.histplot(atac.obs['TSS.enrichment'][(atac.obs['TSS.enrichment']>x_lim[0]) & (atac.obs['TSS.enrichment']<x_lim[1])], kde=True, bins=60)\n",
    "        plt.axvline(tss_dict[folder_name][1], 0, 1)\n",
    "        plt.title(folder_name)\n",
    "        plt.show()\n",
    "        plt.close()\n",
    "    # Clear memory\n",
    "    del mdata\n",
    "    gc.collect()\n"
   ]
  },
  {
   "cell_type": "markdown",
   "id": "800b180c",
   "metadata": {},
   "source": [
    "#### save tss filter and plot again"
   ]
  },
  {
   "cell_type": "code",
   "execution_count": null,
   "id": "f4df0f30",
   "metadata": {},
   "outputs": [],
   "source": [
    "tss_filters_atac = {}\n",
    "for folder_name, sample_name in folder_variables.items():\n",
    "    if folder_name not in samples:\n",
    "        print(f'skipping {folder_name}...')\n",
    "        continue\n",
    "    mdata= read_h5mu_to_mudata(f'{base_path}{folder_name}{outs_path}/ATAC_signac.h5mu')\n",
    "    atac = mdata.mod['atac']\n",
    "    x_lim = [0,15]\n",
    "    min_tss = tss_dict[folder_name][0]\n",
    "    max_tss = tss_dict[folder_name][1]\n",
    "    tss_filters_atac[folder_name] = (atac.obs['TSS.enrichment'] > min_tss) & (atac.obs['TSS.enrichment'] < max_tss)\n",
    "    with rc_context({'figure.figsize': (8, 3)}):\n",
    "        sb.histplot(atac.obs['TSS.enrichment'][(atac.obs['TSS.enrichment']>x_lim[0]) & (atac.obs['TSS.enrichment']<x_lim[1]) & counts_filters[folder_name]], kde=True, bins=60)\n",
    "        sb.histplot(atac.obs['TSS.enrichment'][(atac.obs['TSS.enrichment']>x_lim[0]) & (atac.obs['TSS.enrichment']<x_lim[1])], kde=True, bins=60)\n",
    "        plt.axvline(tss_dict[folder_name][0], 0, 1)\n",
    "        plt.axvline(tss_dict[folder_name][1], 0, 1)\n",
    "        plt.title(folder_name)\n",
    "        plt.show()\n",
    "        plt.close()\n",
    "    # Clear memory\n",
    "    del mdata\n",
    "    gc.collect()\n"
   ]
  },
  {
   "cell_type": "markdown",
   "id": "e7e008ce",
   "metadata": {},
   "source": [
    "### Nucleosome signal"
   ]
  },
  {
   "cell_type": "code",
   "execution_count": null,
   "id": "cf4be3a0",
   "metadata": {},
   "outputs": [],
   "source": [
    "for folder_name, sample_name in folder_variables.items():\n",
    "    if folder_name not in samples:\n",
    "        print(f'skipping {folder_name}...')\n",
    "        continue\n",
    "    mdata= read_h5mu_to_mudata(f'{base_path}{folder_name}{outs_path}/ATAC_signac.h5mu')\n",
    "    atac = mdata.mod['atac']\n",
    "    #Thresholding decision: nucleosome signal\n",
    "    with rc_context({'figure.figsize': (8, 3)}):\n",
    "        sb.histplot(atac.obs['nucleosome_signal'][counts_filters[folder_name] & tss_filters_atac[folder_name]], kde=True, bins=60)\n",
    "        sb.histplot(atac.obs['nucleosome_signal'], kde=True, bins=60)\n",
    "        plt.title(folder_name)\n",
    "        plt.show()\n",
    "        plt.close()\n",
    "    # Clear memory\n",
    "    del mdata\n",
    "    gc.collect()"
   ]
  },
  {
   "cell_type": "code",
   "execution_count": null,
   "id": "b17b8a4c",
   "metadata": {},
   "outputs": [],
   "source": [
    "nuc_dict = {'597_NVF_Crypts_Rep1': [0.35,0.8],\n",
    " '598_FVF_Crypts_Rep1': [0.35,0.8],\n",
    " '599_FVF_Crypts_Rep2': [0.4,0.8],\n",
    " '604_NVF_Crypts_Rep2': [0.35,0.78],\n",
    " 'FVF-high': [0.45,1],\n",
    " 'FVF-low': [0.45,1]}"
   ]
  },
  {
   "cell_type": "code",
   "execution_count": null,
   "id": "0fd10e2a",
   "metadata": {},
   "outputs": [],
   "source": [
    "x_lim = [0,0.6]"
   ]
  },
  {
   "cell_type": "code",
   "execution_count": null,
   "id": "e150ebdf",
   "metadata": {},
   "outputs": [],
   "source": [
    "for folder_name, sample_name in folder_variables.items():\n",
    "    if folder_name not in samples:\n",
    "        print(f'skipping {folder_name}...')\n",
    "        continue\n",
    "    mdata= read_h5mu_to_mudata(f'{base_path}{folder_name}{outs_path}/ATAC_signac.h5mu')\n",
    "    atac = mdata.mod['atac']\n",
    "    with rc_context({'figure.figsize': (8, 3)}):\n",
    "        sb.histplot(atac.obs['nucleosome_signal'][(atac.obs['nucleosome_signal']>x_lim[0]) & (atac.obs['nucleosome_signal']<x_lim[1]) & counts_filters[folder_name] & tss_filters_atac[folder_name]], kde=True, bins=60)\n",
    "        sb.histplot(atac.obs['nucleosome_signal'][(atac.obs['nucleosome_signal']>x_lim[0]) & (atac.obs['nucleosome_signal']<x_lim[1]) & counts_filters[folder_name] ], kde=True, bins=60)\n",
    "        # sb.distplot(atac.obs['nucleosome_signal'][(atac.obs['nucleosome_signal']>x_lim[0]) & (atac.obs['nucleosome_signal']<x_lim[1]) & counts_filter_atac], kde=True, bins=60)\n",
    "        sb.histplot(atac.obs['nucleosome_signal'][(atac.obs['nucleosome_signal']>x_lim[0]) & (atac.obs['nucleosome_signal']<x_lim[1])], kde=True, bins=60)\n",
    "        plt.axvline(nuc_dict[folder_name][0], 0, 1)\n",
    "        plt.title(folder_name)\n",
    "        plt.show()\n",
    "        plt.close()\n",
    "    # Clear memory\n",
    "    del mdata\n",
    "    gc.collect()"
   ]
  },
  {
   "cell_type": "code",
   "execution_count": null,
   "id": "2fc08c6e",
   "metadata": {},
   "outputs": [],
   "source": [
    "x_lim = [0.7,1.2]"
   ]
  },
  {
   "cell_type": "markdown",
   "id": "3614dc98",
   "metadata": {},
   "source": [
    "#### set nucl filter and plot"
   ]
  },
  {
   "cell_type": "code",
   "execution_count": null,
   "id": "09181297",
   "metadata": {},
   "outputs": [],
   "source": [
    "nuc_filters_atac={}\n",
    "for folder_name, sample_name in folder_variables.items():\n",
    "    if folder_name not in samples:\n",
    "        print(f'skipping {folder_name}...')\n",
    "        continue\n",
    "    mdata= read_h5mu_to_mudata(f'{base_path}{folder_name}{outs_path}/ATAC_signac.h5mu')\n",
    "    atac = mdata.mod['atac']\n",
    "    min_nuc = nuc_dict[folder_name][0]\n",
    "    max_nuc = nuc_dict[folder_name][1]\n",
    "    nuc_filters_atac[folder_name] = (atac.obs['nucleosome_signal'] > min_nuc) & (atac.obs['nucleosome_signal'] < max_nuc)\n",
    "    with rc_context({'figure.figsize': (8, 3)}):\n",
    "        sb.histplot(atac.obs['nucleosome_signal'][(atac.obs['nucleosome_signal']>x_lim[0]) & (atac.obs['nucleosome_signal']<x_lim[1]) & counts_filters[folder_name] & tss_filters_atac[folder_name]], kde=True, bins=60)\n",
    "        sb.histplot(atac.obs['nucleosome_signal'][(atac.obs['nucleosome_signal']>x_lim[0]) & (atac.obs['nucleosome_signal']<x_lim[1]) & counts_filters[folder_name] ], kde=True, bins=60)\n",
    "        sb.histplot(atac.obs['nucleosome_signal'][(atac.obs['nucleosome_signal']>x_lim[0]) & (atac.obs['nucleosome_signal']<x_lim[1])], kde=True, bins=60)\n",
    "        plt.axvline(nuc_dict[folder_name][1], 0, 1)\n",
    "        plt.title(folder_name)\n",
    "        plt.show()\n",
    "        plt.close()\n",
    "    # Clear memory\n",
    "    del mdata\n",
    "    gc.collect()"
   ]
  },
  {
   "cell_type": "markdown",
   "id": "641680e5",
   "metadata": {},
   "source": [
    "### FRip, Blacklist and Mito reads frac"
   ]
  },
  {
   "cell_type": "code",
   "execution_count": null,
   "id": "bb40ae6b",
   "metadata": {},
   "outputs": [],
   "source": [
    "frip_dict = {'597_NVF_Crypts_Rep1': [0.55,120000],\n",
    " '598_FVF_Crypts_Rep1': [0.55,120000],\n",
    " '599_FVF_Crypts_Rep2': [0.55,120000],\n",
    " '604_NVF_Crypts_Rep2': [0.55,130000],\n",
    " 'FVF-high': [0.55,140000],\n",
    " 'FVF-low': [0.55,120000]}"
   ]
  },
  {
   "cell_type": "code",
   "execution_count": null,
   "id": "51f5598c",
   "metadata": {},
   "outputs": [],
   "source": [
    "x_lim = [0,1]"
   ]
  },
  {
   "cell_type": "code",
   "execution_count": null,
   "id": "89e51398",
   "metadata": {},
   "outputs": [],
   "source": [
    "for folder_name, sample_name in folder_variables.items():\n",
    "    if folder_name not in samples:\n",
    "        print(f'skipping {folder_name}...')\n",
    "        continue\n",
    "    mdata= read_h5mu_to_mudata(f'{base_path}{folder_name}{outs_path}/ATAC_signac.h5mu')\n",
    "    atac = mdata.mod['atac']\n",
    "    with rc_context({'figure.figsize': (8, 3)}):\n",
    "        sb.histplot(atac.obs['cr_fraction_fragments_in_peaks'][(atac.obs['cr_fraction_fragments_in_peaks']>x_lim[0]) & (atac.obs['cr_fraction_fragments_in_peaks']<x_lim[1]) & counts_filters[folder_name] & tss_filters_atac[folder_name] & nuc_filters_atac[folder_name]], kde=True, bins=60)\n",
    "        sb.histplot(atac.obs['cr_fraction_fragments_in_peaks'][(atac.obs['cr_fraction_fragments_in_peaks']>x_lim[0]) & (atac.obs['cr_fraction_fragments_in_peaks']<x_lim[1])], kde=True, bins=60)\n",
    "        plt.axvline(frip_dict[folder_name][0], 0, 1)\n",
    "        plt.title(folder_name)\n",
    "        plt.show()\n",
    "        plt.close()\n",
    "    # Clear memory\n",
    "    del mdata\n",
    "    gc.collect()"
   ]
  },
  {
   "cell_type": "code",
   "execution_count": null,
   "id": "803c7c7a",
   "metadata": {},
   "outputs": [],
   "source": [
    "x_lim = [0,0.1]"
   ]
  },
  {
   "cell_type": "code",
   "execution_count": null,
   "id": "186f9672",
   "metadata": {},
   "outputs": [],
   "source": [
    "max_black_dict = {'597_NVF_Crypts_Rep1': 0.045,\n",
    " '598_FVF_Crypts_Rep1': 0.04,\n",
    " '599_FVF_Crypts_Rep2': 0.04,\n",
    " '604_NVF_Crypts_Rep2': 0.05,\n",
    " 'FVF-high': 0.04,\n",
    " 'FVF-low': 0.04}"
   ]
  },
  {
   "cell_type": "code",
   "execution_count": null,
   "id": "82f22f22",
   "metadata": {},
   "outputs": [],
   "source": [
    "for folder_name, sample_name in folder_variables.items():\n",
    "    if folder_name not in samples:\n",
    "        print(f'skipping {folder_name}...')\n",
    "        continue\n",
    "    mdata= read_h5mu_to_mudata(f'{base_path}{folder_name}{outs_path}/ATAC_signac.h5mu')\n",
    "    atac = mdata.mod['atac']\n",
    "    with rc_context({'figure.figsize': (8, 3)}):\n",
    "        sb.histplot(atac.obs['fraction_counts_in_blacklist'][(atac.obs['fraction_counts_in_blacklist']>x_lim[0]) & (atac.obs['fraction_counts_in_blacklist']<x_lim[1]) & counts_filters[folder_name] & tss_filters_atac[folder_name] & nuc_filters_atac[folder_name]], kde=True, bins=60)\n",
    "        sb.histplot(atac.obs['fraction_counts_in_blacklist'][(atac.obs['fraction_counts_in_blacklist']>x_lim[0]) & (atac.obs['fraction_counts_in_blacklist']<x_lim[1])], kde=True, bins=60)\n",
    "        plt.axvline(max_black_dict[folder_name], 0, 1)\n",
    "        plt.title(folder_name)\n",
    "        plt.show()\n",
    "        plt.close()\n",
    "    # Clear memory\n",
    "    del mdata\n",
    "    gc.collect()"
   ]
  },
  {
   "cell_type": "code",
   "execution_count": null,
   "id": "e281e66c",
   "metadata": {},
   "outputs": [],
   "source": [
    "x_lim = [0,0.1]"
   ]
  },
  {
   "cell_type": "code",
   "execution_count": null,
   "id": "4abc653e",
   "metadata": {},
   "outputs": [],
   "source": [
    "max_mito_dict = {'597_NVF_Crypts_Rep1': 0.0075,\n",
    " '598_FVF_Crypts_Rep1': 0.0075,\n",
    " '599_FVF_Crypts_Rep2': 0.0075,\n",
    " '604_NVF_Crypts_Rep2': 0.0075,\n",
    " 'FVF-high': 0.0075,\n",
    " 'FVF-low': 0.0075}"
   ]
  },
  {
   "cell_type": "code",
   "execution_count": null,
   "id": "5a96e81e",
   "metadata": {},
   "outputs": [],
   "source": [
    "for folder_name, sample_name in folder_variables.items():\n",
    "    if folder_name not in samples:\n",
    "        print(f'skipping {folder_name}...')\n",
    "        continue\n",
    "    mdata= read_h5mu_to_mudata(f'{base_path}{folder_name}{outs_path}/ATAC_signac.h5mu')\n",
    "    atac = mdata.mod['atac']\n",
    "    with rc_context({'figure.figsize': (8, 3)}):\n",
    "        sb.histplot(atac.obs['cr_fraction_reads_in_mito'][(atac.obs['cr_fraction_reads_in_mito']>x_lim[0]) & (atac.obs['cr_fraction_reads_in_mito']<x_lim[1])& counts_filters[folder_name] & tss_filters_atac[folder_name] & nuc_filters_atac[folder_name]], kde=True, bins=60)\n",
    "        sb.histplot(atac.obs['cr_fraction_reads_in_mito'][(atac.obs['cr_fraction_reads_in_mito']>x_lim[0]) & (atac.obs['cr_fraction_reads_in_mito']<x_lim[1])], kde=True, bins=60)\n",
    "        plt.axvline(max_mito_dict[folder_name], 0, 1)\n",
    "        plt.title(folder_name)\n",
    "        plt.show()\n",
    "        plt.close()\n",
    "    # Clear memory\n",
    "    del mdata\n",
    "    gc.collect()"
   ]
  },
  {
   "cell_type": "markdown",
   "id": "fc2ad2d4",
   "metadata": {},
   "source": [
    "#### define filter"
   ]
  },
  {
   "cell_type": "code",
   "execution_count": null,
   "id": "d399f529",
   "metadata": {},
   "outputs": [],
   "source": [
    "fbm_filters_atac={}\n",
    "for folder_name, sample_name in folder_variables.items():\n",
    "    if folder_name not in samples:\n",
    "        print(f'skipping {folder_name}...')\n",
    "        continue\n",
    "    mdata= read_h5mu_to_mudata(f'{base_path}{folder_name}{outs_path}/ATAC_signac.h5mu')\n",
    "    atac = mdata.mod['atac']\n",
    "    min_frip = frip_dict[folder_name][0]\n",
    "    max_black= max_black_dict[folder_name]\n",
    "    max_mito= max_mito_dict[folder_name]\n",
    "    fbm_filters_atac[folder_name] = (atac.obs['cr_fraction_fragments_in_peaks'] > min_frip) & (atac.obs['fraction_counts_in_blacklist'] < max_black) & (atac.obs['cr_fraction_reads_in_mito'] < max_mito)\n",
    "    # Clear memory\n",
    "    del mdata\n",
    "    gc.collect()"
   ]
  },
  {
   "cell_type": "markdown",
   "id": "96c05b69",
   "metadata": {},
   "source": [
    "### Filtering"
   ]
  },
  {
   "cell_type": "code",
   "execution_count": null,
   "id": "02af70fe",
   "metadata": {},
   "outputs": [],
   "source": [
    "for folder_name, sample_name in folder_variables.items():\n",
    "    if folder_name not in samples:\n",
    "        print(f'skipping {folder_name}...')\n",
    "        continue\n",
    "    mdata= read_h5mu_to_mudata(f'{base_path}{folder_name}{outs_path}/ATAC_signac.h5mu')\n",
    "    atac = mdata.mod['atac']\n",
    "    atac.obs['filtered_cells']=pd.Categorical(list(map(str,list(counts_filters[folder_name] & tss_filters_atac[folder_name] & nuc_filters_atac[folder_name] & fbm_filters_atac[folder_name]))))\n",
    "    min_frip = frip_dict[folder_name][0]\n",
    "    max_black= max_black_dict[folder_name]\n",
    "    max_mito= max_mito_dict[folder_name]\n",
    "    min_counts_atac = count_dict[folder_name][0]\n",
    "    max_counts_atac = count_dict[folder_name][1]\n",
    "    min_tss = tss_dict[folder_name][0]\n",
    "    max_tss = tss_dict[folder_name][1]\n",
    "    min_nuc = nuc_dict[folder_name][0]\n",
    "    max_nuc = nuc_dict[folder_name][1]\n",
    "    #atac.obs['filtered_cells2']=pd.Categorical(list(map(str,list((atac.obs['cr_fraction_fragments_in_peaks'] > min_frip) & (atac.obs['fraction_counts_in_blacklist'] < max_black) & (atac.obs['cr_fraction_reads_in_mito'] < max_mito) &(atac.obs['nCount_atac'] > min_counts_atac) & (atac.obs['nCount_atac'] < max_counts_atac)&(atac.obs['TSS.enrichment'] > min_tss) & (atac.obs['TSS.enrichment'] < max_tss)))))\n",
    "    mu.write(f'{base_path}{folder_name}{outs_path}/ATAC_signac_filtered.h5mu',mdata)\n",
    "    # Clear memory\n",
    "    del mdata\n",
    "    gc.collect()"
   ]
  },
  {
   "cell_type": "markdown",
   "id": "5cb24c15",
   "metadata": {},
   "source": [
    "#### run this individually:"
   ]
  },
  {
   "cell_type": "code",
   "execution_count": null,
   "id": "4225f1b6",
   "metadata": {},
   "outputs": [],
   "source": [
    "for folder_name, sample_name in folder_variables.items():\n",
    "    if folder_name not in samples:\n",
    "        print(f'skipping {folder_name}...')\n",
    "        continue\n",
    "    mdata= read_h5mu_to_mudata(f'{base_path}{folder_name}{outs_path}/ATAC_signac_filtered.h5mu')\n",
    "    atac = mdata.mod['atac']\n",
    "    for col in ['log_nCount_atac', 'nCount_atac', 'log_nFeature_atac', 'TSS.enrichment', 'nucleosome_signal']:\n",
    "        fig, axes = plt.subplots(1,2, figsize=(10, 4), gridspec_kw=dict(width_ratios=[2,1],wspace = 0.3))\n",
    "        sb.violinplot(x='leiden', y=col, data=atac.obs, ax=axes[0], hue = col, palette=\"bright\")\n",
    "        sb.violinplot(x='filtered_cells', y=col, data=atac.obs, ax=axes[1], hue = col, palette=\"colorblind\")\n",
    "        axes[1].set_ylabel(None)\n",
    "        fig.suptitle(col)\n",
    "        plt.show()\n",
    "        plt.close()\n",
    "    # Clear memory\n",
    "    del mdata\n",
    "    gc.collect()"
   ]
  },
  {
   "cell_type": "code",
   "execution_count": null,
   "id": "86a6134c",
   "metadata": {},
   "outputs": [],
   "source": [
    "for folder_name, sample_name in folder_variables.items():\n",
    "    if folder_name not in samples:\n",
    "        print(f'skipping {folder_name}...')\n",
    "        continue\n",
    "    mdata= read_h5mu_to_mudata(f'{base_path}{folder_name}{outs_path}/ATAC_signac_filtered.h5mu')\n",
    "    atac = mdata.mod['atac']\n",
    "    sc.pl.umap(atac, color=['log_nCount_atac', 'log_nFeature_atac', 'TSS.enrichment', 'nucleosome_signal', 'cr_fraction_fragments_in_peaks', 'cr_fraction_reads_in_mito', 'fraction_counts_in_blacklist'], size=20, add_outline=True, alpha=1, outline_width=(0.3, 0.0), ncols=4, title = folder_name)\n",
    "    sc.pl.umap(atac, color=['filtered_cells','leiden'], size=20, add_outline=True, alpha=1, outline_width=(0.3, 0.0), ncols=6)\n",
    "\n",
    "    ###############################################################################\n",
    "    ###############################################################################\n",
    "\n",
    "    with rc_context({'figure.figsize': (6, 4)}): #rcParams['figure.figsize']=(6,4)\n",
    "        key = 'leiden'\n",
    "        labels = list(atac.obs[key].cat.categories)\n",
    "        keep_pct = []\n",
    "        filter_pct = []\n",
    "        width = 0.85       # the width of the bars: can also be len(x) sequence\n",
    "\n",
    "        for label in labels:\n",
    "            keep_pct = keep_pct + [atac.obs['filtered_cells'][atac.obs[key]==label].value_counts()['True']/atac.obs['filtered_cells'][atac.obs[key]==label].value_counts().sum()*100]\n",
    "            filter_pct = filter_pct + [atac.obs['filtered_cells'][atac.obs[key]==label].value_counts()['False']/atac.obs['filtered_cells'][atac.obs[key]==label].value_counts().sum()*100]\n",
    "\n",
    "        fig, ax = plt.subplots()\n",
    "\n",
    "        ax.bar(labels, filter_pct, width, label='Filter Out', edgecolor='0', linewidth=0.5)\n",
    "        ax.bar(labels, keep_pct, width, bottom=filter_pct, label='Keep', edgecolor='0', linewidth=0.5)\n",
    "\n",
    "        ax.set_ylabel('%')\n",
    "        ax.set_title(f'Percentage of Filtered Cells in {folder_name}')\n",
    "        ax.axes.set_xticklabels(labels=labels, rotation=90)\n",
    "        ax.legend(bbox_to_anchor=(1, .5),loc='center left', edgecolor='1')\n",
    "\n",
    "        plt.ylim([-2.5,100+2.5])\n",
    "        plt.xlim([-1+0.25,len(labels)-0.25])\n",
    "\n",
    "        plt.show()\n",
    "        plt.close()\n",
    "\n",
    "    #################################################################################\n",
    "    #################################################################################\n",
    "\n",
    "    sc.pl.scatter(atac, 'log_nCount_atac', 'nucleosome_signal', color='filtered_cells', title=folder_name)\n",
    "    plt.show()\n",
    "    plt.close()\n",
    "    sc.pl.scatter(atac, 'log_nCount_atac', 'TSS.enrichment', color='filtered_cells', title=folder_name)\n",
    "    plt.show()\n",
    "    plt.close()\n",
    "    # Clear memory\n",
    "    del mdata\n",
    "    gc.collect()\n"
   ]
  },
  {
   "cell_type": "code",
   "execution_count": null,
   "id": "ed9b44a5",
   "metadata": {},
   "outputs": [],
   "source": [
    "for folder_name, sample_name in folder_variables.items():\n",
    "    if folder_name not in samples:\n",
    "        print(f'skipping {folder_name}...')\n",
    "        continue\n",
    "    mdata= read_h5mu_to_mudata(f'{base_path}{folder_name}{outs_path}/ATAC_signac_filtered.h5mu')\n",
    "    atac = mdata.mod['atac']\n",
    "     #Filter cells according to identified QC thresholds:\n",
    "    atac = qc_filter_mdata(mdata, atac, modality='atac', qc_filter=(counts_filters[folder_name] & tss_filters_atac[folder_name] & nuc_filters_atac[folder_name] & fbm_filters_atac[folder_name]))\n",
    "    mu.write(f'{base_path}{folder_name}{outs_path}/ATAC_signac_filtered.h5mu',mdata)\n",
    "    # Clear memory\n",
    "    del mdata\n",
    "    gc.collect()"
   ]
  },
  {
   "cell_type": "markdown",
   "id": "ee43e9f9",
   "metadata": {},
   "source": [
    "## Filter ATAc and save results"
   ]
  },
  {
   "cell_type": "code",
   "execution_count": null,
   "id": "e0d4808d",
   "metadata": {},
   "outputs": [],
   "source": [
    "for folder_name, sample_name in folder_variables.items():\n",
    "    if folder_name not in samples:\n",
    "        print(f'skipping {folder_name}...')\n",
    "        continue\n",
    "    mdata= read_h5mu_to_mudata(f'{base_path}{folder_name}{outs_path}/ATAC_signac_filtered.h5mu')\n",
    "    atac = mdata.mod['atac']\n",
    "    atac = signac_qc_metrics(atac, aggregated=False, species='Mmusculus', genome=\"mm10\", sample = folder_name, ensembl_release=\"v102\", cr_path=base_path)\n",
    "    # Clear memory\n",
    "    del mdata\n",
    "    gc.collect()"
   ]
  },
  {
   "cell_type": "code",
   "execution_count": null,
   "id": "7b773e0a",
   "metadata": {},
   "outputs": [],
   "source": [
    "for folder_name, sample_name in folder_variables.items():\n",
    "    if folder_name not in samples:\n",
    "        print(f'skipping {folder_name}...')\n",
    "        continue\n",
    "    mdata= read_h5mu_to_mudata(f'{base_path}{folder_name}{outs_path}/ATAC_signac_filtered.h5mu')\n",
    "    # retain only cell passing GEX & ATAC QC\n",
    "    try:\n",
    "        mu.pp.intersect_obs(mdata)\n",
    "        mdata_f = mdata.copy()\n",
    "    except ValueError: # workaround if current mdata is view\n",
    "        mdata_f = mdata.copy()\n",
    "        mu.pp.intersect_obs(mdata_f)\n",
    "    atac = mdata_f.mod['atac']\n",
    "    # retain only cell passing GEX & ATAC QC\n",
    "    # Make matrices sparse again\n",
    "    sparsify_mdata(mdata_f)\n",
    "    mdata_f.mod['rna'].var['is_ambient'] = mdata_f.mod['rna'].var['is_ambient'].astype(str).astype('category').copy()\n",
    "    # https://github.com/scverse/muon/issues/65\n",
    "    mdata_f.mod['atac'].uns['files'] = dict(mdata_f.mod['atac'].uns['files'])\n",
    "    mdata_f.mod['atac'].uns['atac'] = dict(mdata_f.mod['atac'].uns['atac'])\n",
    "    del mdata.mod['atac'].obs['filtered_cells']\n",
    "    mu.write(f'{base_path}{folder_name}{outs_path}/multiome_1_done.h5mu',mdata_f)\n",
    "    # Clear memory\n",
    "    del mdata\n",
    "    gc.collect()"
   ]
  }
 ],
 "metadata": {
  "kernelspec": {
   "display_name": "Python 3 (ipykernel)",
   "language": "python",
   "name": "python3"
  },
  "language_info": {
   "codemirror_mode": {
    "name": "ipython",
    "version": 3
   },
   "file_extension": ".py",
   "mimetype": "text/x-python",
   "name": "python",
   "nbconvert_exporter": "python",
   "pygments_lexer": "ipython3",
   "version": "3.10.14"
  }
 },
 "nbformat": 4,
 "nbformat_minor": 5
}
