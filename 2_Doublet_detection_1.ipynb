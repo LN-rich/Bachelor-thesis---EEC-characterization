{
 "cells": [
  {
   "cell_type": "markdown",
   "metadata": {},
   "source": [
    "# Setup"
   ]
  },
  {
   "cell_type": "code",
   "execution_count": null,
   "metadata": {},
   "outputs": [],
   "source": [
    "# General\n",
    "import scipy as sci\n",
    "import numpy as np\n",
    "import pandas as pd\n",
    "import logging\n",
    "import time\n",
    "import pickle\n",
    "import os\n",
    "import torch\n",
    "\n",
    "# Plotting\n",
    "import matplotlib.pyplot as plt\n",
    "import matplotlib as mpl\n",
    "from matplotlib import rcParams\n",
    "from matplotlib.pyplot import rc_context\n",
    "from matplotlib import colors\n",
    "import seaborn as sb\n",
    "from plotnine import *\n",
    "from adjustText import adjust_text\n",
    "import umap.umap_ as umap\n",
    "#import pegasus as pg\n",
    "\n",
    "\n",
    "# Analysis\n",
    "import muon as mu\n",
    "import scanpy as sc\n",
    "import scanpy.external as sce\n",
    "import scrublet as scr\n",
    "import doubletdetection\n",
    "import scvi\n",
    "\n",
    "#R\n",
    "import rpy2\n",
    "import rpy2.robjects as ro\n",
    "import rpy2.rinterface_lib.callbacks\n",
    "from rpy2.robjects import pandas2ri\n",
    "import anndata2ri\n",
    "\n",
    "# Warnings\n",
    "import warnings\n",
    "warnings.filterwarnings('ignore') #(action='once')\n",
    "\n",
    "\n",
    "#garbage collector\n",
    "import gc"
   ]
  },
  {
   "cell_type": "code",
   "execution_count": null,
   "metadata": {},
   "outputs": [],
   "source": [
    "sc.logging.print_versions()"
   ]
  },
  {
   "cell_type": "code",
   "execution_count": null,
   "metadata": {},
   "outputs": [],
   "source": [
    "# Plot settings\n",
    "%matplotlib inline\n",
    "\n",
    "## Directory\n",
    "sc.settings.figdir='/mnt/hdd/Notebooks/Gut_project/Figures'\n",
    "\n",
    "## Plotting parameters\n",
    "rcParams['figure.figsize']=(5,5) #rescale figures\n",
    "#sc.set_figure_params(scanpy=True, frameon=False, vector_friendly=False, color_map='tab10' ,transparent=True, dpi=150, dpi_save=300)\n",
    "sc.set_figure_params(scanpy=True, frameon=False, vector_friendly=False ,transparent=True, dpi=150, dpi_save=300)\n",
    "sb.set_theme(rc={'figure.figsize':(3,3)})\n",
    "\n",
    "## Font\n",
    "#rcParams['font.family'] = 'sans-serif'\n",
    "#rcParams['font.sans-serif'] = ['Source Sans 3']\n",
    "\n",
    "## Grid & Ticks\n",
    "rcParams['grid.alpha'] = 0\n",
    "rcParams['xtick.bottom'] = True\n",
    "rcParams['ytick.left'] = True\n",
    "\n",
    "\n",
    "## Embed font\n",
    "plt.rc('pdf', fonttype=42)\n",
    "\n",
    "## Define new default settings\n",
    "#plt.rcParamsDefault = plt.rcParams"
   ]
  },
  {
   "cell_type": "code",
   "execution_count": null,
   "metadata": {},
   "outputs": [],
   "source": [
    "# Colormap\n",
    "colors2 = plt.cm.Reds(np.linspace(0, 1, 128)) \n",
    "colors3 = plt.cm.Greys_r(np.linspace(0.7,0.8,20)) \n",
    "colorsComb = np.vstack([colors3, colors2]) \n",
    "mymap = colors.LinearSegmentedColormap.from_list('my_colormap', colorsComb)"
   ]
  },
  {
   "cell_type": "markdown",
   "metadata": {},
   "source": [
    "## setup R"
   ]
  },
  {
   "cell_type": "code",
   "execution_count": null,
   "metadata": {},
   "outputs": [],
   "source": [
    "%run utils.ipynb"
   ]
  },
  {
   "cell_type": "code",
   "execution_count": null,
   "metadata": {},
   "outputs": [],
   "source": [
    "setup_R('/home/scanalysis/mnt/envs/scUV/lib/R')"
   ]
  },
  {
   "cell_type": "code",
   "execution_count": null,
   "metadata": {},
   "outputs": [],
   "source": [
    "%%R\n",
    ".libPaths()"
   ]
  },
  {
   "cell_type": "markdown",
   "metadata": {},
   "source": [
    "## Load Data"
   ]
  },
  {
   "cell_type": "code",
   "execution_count": null,
   "metadata": {},
   "outputs": [],
   "source": [
    "import os\n",
    "import glob"
   ]
  },
  {
   "cell_type": "code",
   "execution_count": null,
   "metadata": {},
   "outputs": [],
   "source": [
    "base_path = '/mnt/hdd/data/Multiome/'\n",
    "outs_path = '/outs/'"
   ]
  },
  {
   "cell_type": "code",
   "execution_count": null,
   "metadata": {},
   "outputs": [],
   "source": [
    "# Get a list of folder names, sorted alphabetically\n",
    "folder_names = sorted([f for f in os.listdir(base_path) if os.path.isdir(os.path.join(base_path, f))])\n",
    "folder_variables = {}\n",
    "\n",
    "for index, folder_name in enumerate(folder_names, start=46):\n",
    "    variable_name = f\"sample{index}\"\n",
    "    folder_variables[folder_name] = variable_name\n",
    "folder_variables"
   ]
  },
  {
   "cell_type": "code",
   "execution_count": null,
   "metadata": {},
   "outputs": [],
   "source": [
    "for variable_name, folder_name in folder_variables.items():\n",
    "    globals()[variable_name] = folder_name"
   ]
  },
  {
   "cell_type": "code",
   "execution_count": null,
   "metadata": {},
   "outputs": [],
   "source": [
    "samples = ['597_NVF_Crypts_Rep1', '598_FVF_Crypts_Rep1','599_FVF_Crypts_Rep2','604_NVF_Crypts_Rep2', 'FVF-high','FVF-low']\n",
    "#samples = [ 'FVF-low']"
   ]
  },
  {
   "cell_type": "code",
   "execution_count": null,
   "metadata": {},
   "outputs": [],
   "source": [
    "for folder_name, sample_name in folder_variables.items():\n",
    "    if folder_name not in samples:\n",
    "        print(f'skipping {folder_name}...')\n",
    "        continue\n",
    "    mdata= read_h5mu_to_mudata(f'{base_path}{folder_name}{outs_path}/multiome_1_done.h5mu')\n",
    "    gex = mdata.mod['rna']\n",
    "    sc.pl.umap(gex, color=['sample','leiden','n_counts','log_counts','n_genes','log_genes','mt_frac','rp_frac'], size=20, add_outline=True, alpha=1, outline_width=(0.3, 0.0), ncols=4,\n",
    "          color_map = mymap, title=f'{folder_name}')\n",
    "    plt.show()\n",
    "    plt.close()\n",
    "    del mdata\n",
    "    del gex\n",
    "    gc.collect()"
   ]
  },
  {
   "cell_type": "markdown",
   "metadata": {},
   "source": [
    "# Doublet detection GEX"
   ]
  },
  {
   "cell_type": "markdown",
   "metadata": {},
   "source": [
    "### Scrublet"
   ]
  },
  {
   "cell_type": "code",
   "execution_count": null,
   "metadata": {},
   "outputs": [],
   "source": [
    "settings_dict = {'597_NVF_Crypts_Rep1': (0.09,0.28),\n",
    " '598_FVF_Crypts_Rep1': (0.1,0.16),\n",
    " '599_FVF_Crypts_Rep2': (0.09,0.22),\n",
    " '604_NVF_Crypts_Rep2': (0.09,0.255),\n",
    " 'FVF-high': (0.09,0.21),\n",
    " 'FVF-low': (0.09,0.3)\n",
    " }"
   ]
  },
  {
   "cell_type": "code",
   "execution_count": null,
   "metadata": {},
   "outputs": [],
   "source": [
    "for folder_name, sample_name in folder_variables.items():\n",
    "    if folder_name not in samples:\n",
    "        print(f'skipping {folder_name}...')\n",
    "        continue\n",
    "    mdata= read_h5mu_to_mudata(f'{base_path}{folder_name}{outs_path}/multiome_1_done.h5mu')\n",
    "    adata = mdata.mod['rna']\n",
    "    sce.pp.scrublet(adata, sim_doublet_ratio=5, expected_doublet_rate=settings_dict[folder_name][0], threshold=settings_dict[folder_name][1])\n",
    "    sce.pl.scrublet_score_distribution(adata)\n",
    "    plt.show()\n",
    "    plt.close()\n",
    "    adata.obs['scrublet_doublets_cat'] = adata.obs['predicted_doublet'].astype(str).astype('category')  \n",
    "    sc.pl.umap(adata, color=['n_genes','n_counts','scrublet_doublets_cat','doublet_score'], size=20, add_outline=True, alpha=1, outline_width=(0.3, 0.0), ncols=4,title=f'{folder_name} n_genes',color_map = mymap)\n",
    "    mu.write(f'{base_path}{folder_name}{outs_path}/multiome_1_done_dd.h5mu',mdata)\n",
    "    del mdata\n",
    "    del adata\n",
    "    gc.collect()"
   ]
  },
  {
   "cell_type": "markdown",
   "metadata": {},
   "source": [
    "### SCDS"
   ]
  },
  {
   "cell_type": "code",
   "execution_count": null,
   "metadata": {},
   "outputs": [],
   "source": [
    "for folder_name, sample_name in folder_variables.items():\n",
    "    if folder_name not in samples:\n",
    "        print(f'skipping {folder_name}...')\n",
    "        continue\n",
    "    mdata= read_h5mu_to_mudata(f'{base_path}{folder_name}{outs_path}/multiome_1_done_dd.h5mu')\n",
    "    adata = mdata.mod['rna']\n",
    "    run_SCDS(adata)\n",
    "    print('Scds doublet rate hybrid class:', (adata.obs['hybrid_class'] == 'doublet').value_counts()[1]/adata.obs['sample'].value_counts()[0]*100, '% (',(adata.obs['hybrid_class'] == 'doublet').value_counts()[1],' cells)' )\n",
    "    print('Cut-off:', min(adata[adata.obs['hybrid_class'] == 'doublet'].obs['hybrid_score']))\n",
    "    mu.write(f'{base_path}{folder_name}{outs_path}/multiome_1_done_dd.h5mu',mdata)\n",
    "    del mdata\n",
    "    del adata\n",
    "    gc.collect()"
   ]
  },
  {
   "cell_type": "code",
   "execution_count": null,
   "metadata": {},
   "outputs": [],
   "source": [
    "cutoff_dict = {'597_NVF_Crypts_Rep1': (1.2,0.5), #min(adata[adata.obs['hybrid_class'] == 'doublet'].obs['hybrid_score']), min(adata[adata.obs['hybrid_class_sct'] == 'doublet'].obs['hybrid_score_sct'])\n",
    " '598_FVF_Crypts_Rep1': (1.25,0.48),\n",
    " '599_FVF_Crypts_Rep2': (1.2,0.5),\n",
    " '604_NVF_Crypts_Rep2': (1.2,0.55),\n",
    " 'FVF-high': (1.15,0.52),\n",
    " 'FVF-low': (1.4,0.65)\n",
    "}"
   ]
  },
  {
   "cell_type": "code",
   "execution_count": null,
   "metadata": {},
   "outputs": [],
   "source": [
    "for folder_name, sample_name in folder_variables.items():\n",
    "    if folder_name not in samples:\n",
    "        print(f'skipping {folder_name}...')\n",
    "        continue\n",
    "    mdata= read_h5mu_to_mudata(f'{base_path}{folder_name}{outs_path}/multiome_1_done_dd.h5mu')\n",
    "    adata = mdata.mod['rna']\n",
    "    # Adjust cut-off as doublet rate is too high \n",
    "    cut_off = cutoff_dict[folder_name][0]\n",
    "\n",
    "    with rc_context({'figure.figsize': (8, 3)}):\n",
    "        sb.histplot(adata.obs['hybrid_score'], kde=True, bins=100)\n",
    "        #sb.histplot(adata.obs['hybrid_score'][(adata.obs['hybrid_score']>0.35) & (adata.obs['hybrid_score']<2)], kde=True, bins=100)\n",
    "        plt.axvline(cut_off, 0, 1, color=\"black\", lw=1).set_linestyle(\"--\")\n",
    "        plt.title(folder_name)\n",
    "        plt.show()\n",
    "        plt.close()\n",
    "\n",
    "    print('Scds doublet rate above cutoff:', (adata.obs['hybrid_score'] > cut_off).value_counts()[1]/adata.obs['sample'].value_counts()[0]*100, '% (',(adata.obs['hybrid_score'] > cut_off).value_counts()[1],' cells)' )\n",
    "    print('Scds doublet rate class sct:', (adata.obs['hybrid_class_sct'] == 'doublet').value_counts()[1]/adata.obs['sample'].value_counts()[0]*100, '% (',(adata.obs['hybrid_class_sct'] == 'doublet').value_counts()[1],' cells)' )\n",
    "    print('Cut-off:', min(adata[adata.obs['hybrid_class_sct'] == 'doublet'].obs['hybrid_score_sct']))\n",
    "    mu.write(f'{base_path}{folder_name}{outs_path}/multiome_1_done_dd.h5mu',mdata)\n",
    "    del mdata\n",
    "    del adata\n",
    "    gc.collect()"
   ]
  },
  {
   "cell_type": "code",
   "execution_count": null,
   "metadata": {},
   "outputs": [],
   "source": [
    "for folder_name, sample_name in folder_variables.items():\n",
    "    if folder_name not in samples:\n",
    "        print(f'skipping {folder_name}...')\n",
    "        continue\n",
    "    mdata= read_h5mu_to_mudata(f'{base_path}{folder_name}{outs_path}/multiome_1_done_dd.h5mu')\n",
    "    adata = mdata.mod['rna']\n",
    "    #Adjust cut-off as doublet rate is too high \n",
    "    cut_off = cutoff_dict[folder_name][1]\n",
    "\n",
    "    with rc_context({'figure.figsize': (8, 3)}):\n",
    "        sb.histplot(adata.obs['hybrid_score_sct'], kde=True, bins=100)\n",
    "        #sb.histplot(adata.obs['hybrid_score_sct'][(adata.obs['hybrid_score_sct']>0.35) & (adata.obs['hybrid_score_sct']<0.85)], kde=True, bins=100)\n",
    "        plt.axvline(cut_off, 0, 1, color=\"black\", lw=1).set_linestyle(\"--\")\n",
    "        plt.title(folder_name)\n",
    "        plt.show()\n",
    "        plt.close()\n",
    "\n",
    "    print('Scds doublet rate above cutoff sct:', (adata.obs['hybrid_score_sct'] > cut_off).value_counts()[1]/adata.obs['sample'].value_counts()[0]*100, '% (',(adata.obs['hybrid_score_sct'] > cut_off).value_counts()[1],' cells)' )\n",
    "    mu.write(f'{base_path}{folder_name}{outs_path}/multiome_1_done_dd.h5mu',mdata)\n",
    "    del mdata\n",
    "    del adata\n",
    "    gc.collect()"
   ]
  },
  {
   "cell_type": "code",
   "execution_count": null,
   "metadata": {},
   "outputs": [],
   "source": [
    "for folder_name, sample_name in folder_variables.items():\n",
    "    if folder_name not in samples:\n",
    "        print(f'skipping {folder_name}...')\n",
    "        continue\n",
    "    mdata= read_h5mu_to_mudata(f'{base_path}{folder_name}{outs_path}/multiome_1_done_dd.h5mu')\n",
    "    adata = mdata.mod['rna']\n",
    "    cut_off = cutoff_dict[folder_name][0]\n",
    "    cut_off_sct = cutoff_dict[folder_name][1]\n",
    "    adata.obs['hybrid_class_sct'] = pd.Categorical(adata.obs['hybrid_class_sct'], categories=['doublet','singlet'])\n",
    "    adata.obs['hybrid_class_sct'] = 'singlet'\n",
    "    adata.obs.loc[adata.obs['hybrid_score_sct'] > cut_off_sct,'hybrid_class_sct'] = 'doublet'\n",
    "    adata.obs['hybrid_class'] = pd.Categorical(adata.obs['hybrid_class'], categories=['doublet','singlet'])\n",
    "    adata.obs['hybrid_class'] = 'singlet'\n",
    "    adata.obs.loc[adata.obs['hybrid_score'] > cut_off,'hybrid_class'] = 'doublet'\n",
    "    adata.obs.loc[:,'scds_doublets'] = False\n",
    "    adata.obs.loc[adata.obs.loc[:,'hybrid_class']=='doublet','scds_doublets'] = True\n",
    "    adata.obs.loc[adata.obs.loc[:,'hybrid_class_sct']=='doublet','scds_doublets'] = True\n",
    "\n",
    "    print('Scds doublet rate:', adata.obs['scds_doublets'].value_counts()[1]/adata.obs['sample'].value_counts()[0]*100, '% (',adata.obs['scds_doublets'].value_counts()[1],' cells)' )\n",
    "    sc.pl.umap(adata, color=['n_genes','n_counts','hybrid_class','hybrid_score','hybrid_class_sct','hybrid_score_sct'], size=20, add_outline=True, alpha=1, outline_width=(0.3, 0.0), ncols=6, title= f'{folder_name} n_genes')\n",
    "    mu.write(f'{base_path}{folder_name}{outs_path}/multiome_1_done_dd.h5mu',mdata)\n",
    "    del mdata\n",
    "    del adata\n",
    "    gc.collect()"
   ]
  },
  {
   "cell_type": "markdown",
   "metadata": {},
   "source": [
    "## scDblFinder"
   ]
  },
  {
   "cell_type": "code",
   "execution_count": null,
   "metadata": {},
   "outputs": [],
   "source": [
    "for folder_name, sample_name in folder_variables.items():\n",
    "    if folder_name not in samples:\n",
    "        print(f'skipping {folder_name}...')\n",
    "        continue\n",
    "    mdata= read_h5mu_to_mudata(f'{base_path}{folder_name}{outs_path}/multiome_1_done_dd.h5mu')\n",
    "    adata = mdata.mod['rna']\n",
    "    run_scDblFinder(adata)\n",
    "    mu.write(f'{base_path}{folder_name}{outs_path}/multiome_1_done_dd.h5mu',mdata)\n",
    "    del mdata\n",
    "    del adata\n",
    "    gc.collect()"
   ]
  },
  {
   "cell_type": "code",
   "execution_count": null,
   "metadata": {},
   "outputs": [],
   "source": [
    "for folder_name, sample_name in folder_variables.items():\n",
    "    if folder_name not in samples:\n",
    "        print(f'skipping {folder_name}...')\n",
    "        continue\n",
    "    mdata= read_h5mu_to_mudata(f'{base_path}{folder_name}{outs_path}/multiome_1_done_dd.h5mu')\n",
    "    adata = mdata.mod['rna']\n",
    "    sc.pl.umap(adata, color=['n_genes','n_counts','scDblFinder.class','scDblFinder.score','scDblFinder.class.sct','scDblFinder.score.sct'], size=20, add_outline=True, alpha=1, outline_width=(0.3, 0.0), ncols=6, title= f'n_genes {folder_name}')\n",
    "    mu.write(f'{base_path}{folder_name}{outs_path}/multiome_1_done_dd.h5mu',mdata)\n",
    "    del mdata\n",
    "    del adata\n",
    "    gc.collect()"
   ]
  },
  {
   "cell_type": "markdown",
   "metadata": {},
   "source": [
    "## DoubletFinder"
   ]
  },
  {
   "cell_type": "code",
   "execution_count": null,
   "metadata": {},
   "outputs": [],
   "source": [
    "%%R\n",
    "sessionInfo()"
   ]
  },
  {
   "cell_type": "markdown",
   "metadata": {},
   "source": [
    "#### 597"
   ]
  },
  {
   "cell_type": "code",
   "execution_count": null,
   "metadata": {},
   "outputs": [],
   "source": [
    "\n",
    "mdata= read_h5mu_to_mudata(f'{base_path}597_NVF_Crypts_Rep1{outs_path}/multiome_1_done_dd.h5mu')\n",
    "adata = mdata.mod['rna']\n",
    "run_DoubletFinder(adata)\n",
    "mu.write(f'{base_path}{folder_name}{outs_path}/multiome_1_done_dd.h5mu',mdata)\n",
    "del mdata\n",
    "del adata\n",
    "gc.collect()"
   ]
  },
  {
   "cell_type": "markdown",
   "metadata": {},
   "source": [
    "#### 598"
   ]
  },
  {
   "cell_type": "code",
   "execution_count": null,
   "metadata": {},
   "outputs": [],
   "source": [
    "mdata= read_h5mu_to_mudata(f'{base_path}598_FVF_Crypts_Rep1{outs_path}/multiome_1_done_dd.h5mu')\n",
    "adata = mdata.mod['rna']\n",
    "run_DoubletFinder(adata)\n",
    "mu.write(f'{base_path}598_FVF_Crypts_Rep1{outs_path}/multiome_1_done_dd.h5mu',mdata)\n",
    "del mdata\n",
    "del adata\n",
    "gc.collect()"
   ]
  },
  {
   "cell_type": "code",
   "execution_count": null,
   "metadata": {},
   "outputs": [],
   "source": [
    "mu.write(f'{base_path}598_FVF_Crypts_Rep1{outs_path}/multiome_1_done_dd.h5mu',mdata)"
   ]
  },
  {
   "cell_type": "markdown",
   "metadata": {},
   "source": [
    "#### 599"
   ]
  },
  {
   "cell_type": "code",
   "execution_count": null,
   "metadata": {},
   "outputs": [],
   "source": [
    "mdata= read_h5mu_to_mudata(f'{base_path}599_FVF_Crypts_Rep2{outs_path}/multiome_1_done_dd.h5mu')\n",
    "adata = mdata.mod['rna']\n",
    "run_DoubletFinder(adata)\n",
    "mu.write(f'{base_path}599_FVF_Crypts_Rep2{outs_path}/multiome_1_done_dd.h5mu',mdata)\n",
    "del mdata\n",
    "del adata\n",
    "gc.collect()"
   ]
  },
  {
   "cell_type": "markdown",
   "metadata": {},
   "source": [
    "#### 604"
   ]
  },
  {
   "cell_type": "code",
   "execution_count": null,
   "metadata": {},
   "outputs": [],
   "source": [
    "mdata= read_h5mu_to_mudata(f'{base_path}604_NVF_Crypts_Rep2{outs_path}/multiome_1_done_dd.h5mu')\n",
    "adata = mdata.mod['rna']\n",
    "run_DoubletFinder(adata)\n",
    "mu.write(f'{base_path}604_NVF_Crypts_Rep2{outs_path}/multiome_1_done_dd.h5mu',mdata)\n",
    "del mdata\n",
    "del adata\n",
    "gc.collect()"
   ]
  },
  {
   "cell_type": "markdown",
   "metadata": {},
   "source": [
    "#### FVF-high"
   ]
  },
  {
   "cell_type": "code",
   "execution_count": null,
   "metadata": {},
   "outputs": [],
   "source": [
    "mdata= read_h5mu_to_mudata(f'{base_path}FVF-high{outs_path}/multiome_1_done_dd.h5mu')\n",
    "adata = mdata.mod['rna']\n",
    "run_DoubletFinder(adata)\n",
    "mu.write(f'{base_path}FVF-high{outs_path}/multiome_1_done_dd.h5mu',mdata)\n",
    "del mdata\n",
    "del adata\n",
    "gc.collect()"
   ]
  },
  {
   "cell_type": "markdown",
   "metadata": {},
   "source": [
    "#### FVF-low"
   ]
  },
  {
   "cell_type": "code",
   "execution_count": null,
   "metadata": {},
   "outputs": [],
   "source": [
    "\n",
    "mdata= read_h5mu_to_mudata(f'{base_path}FVF-low{outs_path}/multiome_1_done_dd.h5mu')\n",
    "adata = mdata.mod['rna']\n",
    "run_DoubletFinder(adata)\n",
    "mu.write(f'{base_path}FVF-low{outs_path}/multiome_1_done_dd.h5mu',mdata)\n",
    "del mdata\n",
    "del adata\n",
    "gc.collect()"
   ]
  },
  {
   "cell_type": "code",
   "execution_count": null,
   "metadata": {},
   "outputs": [],
   "source": [
    "for folder_name, sample_name in folder_variables.items():\n",
    "    if folder_name not in samples:\n",
    "        print(f'skipping {folder_name}...')\n",
    "        continue\n",
    "    mdata= read_h5mu_to_mudata(f'{base_path}{folder_name}{outs_path}/multiome_1_done_dd.h5mu')\n",
    "    adata = mdata.mod['rna']    \n",
    "    sc.pl.umap(adata, color=['n_genes','n_counts','pANN','DF_classifications_1','DF_classifications_2'], size=20, add_outline=True, alpha=1, outline_width=(0.3, 0.0), ncols=5, title = f'n_genes {folder_name}')\n",
    "    mu.write(f'{base_path}{folder_name}{outs_path}/multiome_1_done_dd_doubletfinder.h5mu',mdata)\n",
    "    del mdata\n",
    "    del adata\n",
    "    gc.collect()"
   ]
  },
  {
   "cell_type": "code",
   "execution_count": null,
   "metadata": {},
   "outputs": [],
   "source": [
    "for folder_name, sample_name in folder_variables.items():\n",
    "    if folder_name not in samples:\n",
    "        print(f'skipping {folder_name}...')\n",
    "        continue\n",
    "    mdata= read_h5mu_to_mudata(f'{base_path}{folder_name}{outs_path}/multiome_1_done_dd_doubletfinder.h5mu')\n",
    "    adata = mdata.mod['rna']\n",
    "    sc.pl.umap(adata, color=['n_genes','n_counts','pANN.sct','DF_classifications_1.sct','DF_classifications_2.sct'], size=20, add_outline=True, alpha=1, outline_width=(0.3, 0.0), ncols=5, title = f'n_genes {folder_name}')\n",
    "    mu.write(f'{base_path}{folder_name}{outs_path}/multiome_1_done_dd_doubletfinder.h5mu',mdata)\n",
    "    del mdata\n",
    "    del adata\n",
    "    gc.collect()"
   ]
  }
 ],
 "metadata": {
  "kernelspec": {
   "display_name": "LN",
   "language": "python",
   "name": "python3"
  },
  "language_info": {
   "codemirror_mode": {
    "name": "ipython",
    "version": 3
   },
   "file_extension": ".py",
   "mimetype": "text/x-python",
   "name": "python",
   "nbconvert_exporter": "python",
   "pygments_lexer": "ipython3",
   "version": "3.10.14"
  }
 },
 "nbformat": 4,
 "nbformat_minor": 2
}
