{
 "cells": [
  {
   "cell_type": "markdown",
   "metadata": {},
   "source": [
    "\n",
    "# Preprocessing - Concatenate diseased Samples\n",
    " adapted from Michael Sterr\n",
    "\n",
    "2024-05-31\n",
    "\n",
    "\n",
    "# Setup\n"
   ]
  },
  {
   "cell_type": "code",
   "execution_count": null,
   "metadata": {
    "ExecuteTime": {
     "end_time": "2024-02-09T00:02:58.154274Z",
     "start_time": "2024-02-09T00:02:54.590564Z"
    },
    "execution": {
     "iopub.execute_input": "2024-05-16T20:46:30.269728Z",
     "iopub.status.busy": "2024-05-16T20:46:30.269255Z",
     "iopub.status.idle": "2024-05-16T20:46:35.910307Z",
     "shell.execute_reply": "2024-05-16T20:46:35.909571Z"
    }
   },
   "outputs": [],
   "source": [
    "# General\n",
    "import scipy as sci\n",
    "import numpy as np\n",
    "import pandas as pd\n",
    "import logging\n",
    "import time\n",
    "import pickle\n",
    "from itertools import chain\n",
    "import h5py\n",
    "import scipy.sparse as sparse\n",
    "import anndata as ad\n",
    "import os\n",
    "\n",
    "# Plotting\n",
    "import matplotlib.pyplot as plt\n",
    "import matplotlib as mpl\n",
    "from matplotlib import rcParams\n",
    "from matplotlib import cm\n",
    "import seaborn as sb\n",
    "from matplotlib import colors\n",
    "import matplotlib.colors as mcolors\n",
    "\n",
    "# Analysis\n",
    "import muon as mu\n",
    "import scanpy as sc\n",
    "import scvelo as scv\n",
    "\n",
    "#R\n",
    "import rpy2\n",
    "import rpy2.robjects as ro\n",
    "import rpy2.rinterface_lib.callbacks\n",
    "from rpy2.robjects import pandas2ri\n",
    "import anndata2ri"
   ]
  },
  {
   "cell_type": "code",
   "execution_count": null,
   "metadata": {
    "ExecuteTime": {
     "end_time": "2024-02-09T00:02:59.764562Z",
     "start_time": "2024-02-09T00:02:58.156099Z"
    },
    "execution": {
     "iopub.execute_input": "2024-05-16T20:46:35.919679Z",
     "iopub.status.busy": "2024-05-16T20:46:35.919253Z",
     "iopub.status.idle": "2024-05-16T20:46:36.292837Z",
     "shell.execute_reply": "2024-05-16T20:46:36.292209Z"
    }
   },
   "outputs": [],
   "source": [
    "## Directory\n",
    "base_dir = '/mnt/hdd/Notebooks/Gut_project/' #tochange\n",
    "sc.settings.figdir = base_dir + 'Figures'\n",
    "sc.settings.cachedir = base_dir + 'Cache'\n",
    "\n",
    "## Scanpy settings\n",
    "sc.settings.verbosity = 3\n",
    "sc.logging.print_versions()"
   ]
  },
  {
   "cell_type": "code",
   "execution_count": null,
   "metadata": {
    "ExecuteTime": {
     "end_time": "2024-02-09T00:02:59.772850Z",
     "start_time": "2024-02-09T00:02:59.766519Z"
    },
    "execution": {
     "iopub.execute_input": "2024-05-16T20:46:36.303056Z",
     "iopub.status.busy": "2024-05-16T20:46:36.302285Z",
     "iopub.status.idle": "2024-05-16T20:46:36.309486Z",
     "shell.execute_reply": "2024-05-16T20:46:36.308900Z"
    }
   },
   "outputs": [],
   "source": [
    "# Color maps\n",
    "colors2 = plt.cm.Reds(np.linspace(0, 1, 128)) \n",
    "colors3 = plt.cm.Greys_r(np.linspace(0.7,0.8,20)) \n",
    "colorsComb = np.vstack([colors3, colors2]) \n",
    "mymap = colors.LinearSegmentedColormap.from_list('my_colormap', colorsComb)"
   ]
  },
  {
   "cell_type": "code",
   "execution_count": null,
   "metadata": {
    "ExecuteTime": {
     "end_time": "2024-02-09T00:02:59.802497Z",
     "start_time": "2024-02-09T00:02:59.773854Z"
    },
    "execution": {
     "iopub.execute_input": "2024-05-16T20:46:36.314271Z",
     "iopub.status.busy": "2024-05-16T20:46:36.314145Z",
     "iopub.status.idle": "2024-05-16T20:46:36.337864Z",
     "shell.execute_reply": "2024-05-16T20:46:36.337288Z"
    }
   },
   "outputs": [],
   "source": [
    "# Plot settings\n",
    "%matplotlib inline\n",
    "\n",
    "## Plotting parameters\n",
    "rcParams['figure.figsize']=(6,6) #rescale figures\n",
    "#sc.set_figure_params(scanpy=True, frameon=False, vector_friendly=False, color_map='tab10' ,transparent=True, dpi=150, dpi_save=300)\n",
    "sc.set_figure_params(scanpy=True, frameon=False, vector_friendly=False ,transparent=True, dpi=150, dpi_save=300)\n",
    "\n",
    "'''## Font\n",
    "rcParams['font.family'] = 'sans-serif'\n",
    "rcParams['font.sans-serif'] = ['Source Sans 3']'''\n",
    "\n",
    "## Grid & Ticks\n",
    "rcParams['grid.alpha'] = 0\n",
    "rcParams['xtick.bottom'] = True\n",
    "rcParams['ytick.left'] = True\n",
    "\n",
    "## Embed font\n",
    "plt.rc('pdf', fonttype=42)\n",
    "\n",
    "## Define new default settings\n",
    "plt.rcParamsDefault = plt.rcParams"
   ]
  },
  {
   "cell_type": "code",
   "execution_count": null,
   "metadata": {},
   "outputs": [],
   "source": [
    "from matplotlib import colors\n",
    "colors2 = plt.cm.Reds(np.linspace(0, 1, 128)) \n",
    "colors3 = plt.cm.Greys_r(np.linspace(0.7,0.8,20)) \n",
    "colorsComb = np.vstack([colors3, colors2]) \n",
    "mymap = colors.LinearSegmentedColormap.from_list('my_colormap', colorsComb)\n",
    "\n",
    "plt.rcParams.update({\n",
    "    \"text.usetex\": False,\n",
    "    \"font.family\": \"serif\",\n",
    "    \"font.serif\": \"NewCM10\", #Computer Modern Roman fontsize 10\n",
    "})\n",
    "## Define new default settings\n",
    "plt.rcParamsDefault = plt.rcParams"
   ]
  },
  {
   "cell_type": "markdown",
   "metadata": {},
   "source": [
    "# Setup R"
   ]
  },
  {
   "cell_type": "code",
   "execution_count": null,
   "metadata": {},
   "outputs": [],
   "source": [
    "%run utils.ipynb"
   ]
  },
  {
   "cell_type": "code",
   "execution_count": null,
   "metadata": {},
   "outputs": [],
   "source": [
    "setup_R('/home/scanalysis/mnt/envs/scUV/lib/R') #tochange"
   ]
  },
  {
   "cell_type": "code",
   "execution_count": null,
   "metadata": {
    "ExecuteTime": {
     "end_time": "2024-02-09T00:03:00.491051Z",
     "start_time": "2024-02-09T00:03:00.477801Z"
    },
    "execution": {
     "iopub.execute_input": "2024-05-16T20:46:37.050711Z",
     "iopub.status.busy": "2024-05-16T20:46:37.050216Z",
     "iopub.status.idle": "2024-05-16T20:46:37.068870Z",
     "shell.execute_reply": "2024-05-16T20:46:37.068246Z"
    }
   },
   "outputs": [],
   "source": [
    "%%R\n",
    "\n",
    ".libPaths()"
   ]
  },
  {
   "cell_type": "code",
   "execution_count": null,
   "metadata": {
    "ExecuteTime": {
     "end_time": "2024-02-09T00:03:00.817563Z",
     "start_time": "2024-02-09T00:03:00.492310Z"
    },
    "execution": {
     "iopub.execute_input": "2024-05-16T20:46:37.081760Z",
     "iopub.status.busy": "2024-05-16T20:46:37.081521Z",
     "iopub.status.idle": "2024-05-16T20:46:37.533162Z",
     "shell.execute_reply": "2024-05-16T20:46:37.532668Z"
    }
   },
   "outputs": [],
   "source": [
    "%%R\n",
    "\n",
    "# Parallelization\n",
    "library(BiocParallel)\n",
    "register(MulticoreParam(20, progressbar = TRUE))\n",
    "\n",
    "library(future)\n",
    "plan(multicore, workers = 20)\n",
    "options(future.globals.maxSize = 100 * 1024 ^ 3) # for 50 Gb RAM\n",
    "plan()\n",
    "\n",
    "library(doParallel)\n",
    "registerDoParallel(20)\n",
    "\n",
    "sessionInfo()"
   ]
  },
  {
   "cell_type": "markdown",
   "metadata": {},
   "source": [
    "# Functions"
   ]
  },
  {
   "cell_type": "code",
   "execution_count": null,
   "metadata": {
    "ExecuteTime": {
     "end_time": "2024-02-09T00:03:00.863320Z",
     "start_time": "2024-02-09T00:03:00.821411Z"
    },
    "execution": {
     "iopub.execute_input": "2024-05-16T20:46:37.779931Z",
     "iopub.status.busy": "2024-05-16T20:46:37.779506Z",
     "iopub.status.idle": "2024-05-16T20:46:37.821930Z",
     "shell.execute_reply": "2024-05-16T20:46:37.821246Z"
    }
   },
   "outputs": [],
   "source": [
    "   \n",
    "        \n",
    "def get_feature_pos_from_gtf(gtf_path=None, random=True):\n",
    "    # load Ensembl annotation file and reduce to genes\n",
    "    annotation = pd.read_csv(gtf_path, header=None, skiprows=5, sep='\\t')\n",
    "    annotation = annotation.loc[annotation.iloc[:,2]=='gene',:]\n",
    "\n",
    "    # get positions of + features\n",
    "    features_p = annotation.loc[annotation.iloc[:,6]=='+',:].iloc[:,[0,3,4]]     \n",
    "    features_p.columns = ['Chromosome','Start','End']\n",
    "\n",
    "    # get positions of - features and switch start and end\n",
    "    features_m = annotation.loc[annotation.iloc[:,6]=='-',:].iloc[:,[0,4,3]]     \n",
    "    features_m.columns = ['Chromosome','Start','End']\n",
    "\n",
    "    # concatenate\n",
    "    features = pd.concat([features_p, features_m], ignore_index = True)\n",
    "    \n",
    "    # randomize order\n",
    "    if random:\n",
    "        features = features.sample(frac=1, random_state=420)\n",
    "\n",
    "    return features\n",
    "\n",
    "###################################################################################################################\n",
    "###################################################################################################################\n",
    "###################################################################################################################\n",
    "    \n",
    "\n",
    "def get_top_feature_pos_from_gtf(gex_adata, gtf_path=None, n_top=2000):\n",
    "    # load Ensembl annotation file and reduce to genes\n",
    "    annotation = pd.read_csv(gtf_path, header=None, skiprows=5, sep='\\t')\n",
    "    annotation = annotation.loc[annotation.iloc[:,2]=='gene',:]\n",
    "    \n",
    "    # add gene names\n",
    "    annotation.loc[:,9] = annotation.loc[:,8].str.split('\\\"', expand=True).loc[:,1]\n",
    "    annotation.set_index = annotation[9]\n",
    "   \n",
    "    # add counts and sort annotation\n",
    "    annotation = annotation.merge(gex_adata.var.loc[:,['gene_ids','n_counts']], left_on=9, right_on='gene_ids')\n",
    "    annotation = annotation.sort_values(by=['n_counts'], ascending=False)\n",
    "    \n",
    "    # filter n_top genes\n",
    "    annotation = annotation.iloc[0:n_top,:]\n",
    "      \n",
    "    # get positions of + features\n",
    "    features_p = annotation.loc[annotation.iloc[:,6]=='+',:].iloc[:,[0,3,4]]     \n",
    "    features_p.columns = ['Chromosome','Start','End']\n",
    "\n",
    "    # get positions of - features and switch start and end\n",
    "    features_m = annotation.loc[annotation.iloc[:,6]=='-',:].iloc[:,[0,4,3]]\n",
    "    features_m.columns = ['Chromosome','Start','End']\n",
    "\n",
    "    # concatenate\n",
    "    features = pd.concat([features_p, features_m], ignore_index = True)\n",
    "\n",
    "    return features\n",
    "\n",
    "    \n"
   ]
  },
  {
   "cell_type": "markdown",
   "metadata": {},
   "source": [
    "# Load Data"
   ]
  },
  {
   "cell_type": "code",
   "execution_count": null,
   "metadata": {
    "ExecuteTime": {
     "end_time": "2024-02-09T00:03:00.892894Z",
     "start_time": "2024-02-09T00:03:00.864534Z"
    },
    "execution": {
     "iopub.execute_input": "2024-05-16T20:46:37.830886Z",
     "iopub.status.busy": "2024-05-16T20:46:37.830759Z",
     "iopub.status.idle": "2024-05-16T20:46:37.851566Z",
     "shell.execute_reply": "2024-05-16T20:46:37.850975Z"
    }
   },
   "outputs": [],
   "source": [
    "base_path = '/mnt/hdd/data'\n",
    "base_path1 = '/mnt/hdd/data/diseased'\n",
    "base_path2 = '/mnt/hdd/data/healthy'\n",
    "outs_path = '/count_matrices/'\n",
    "cr_path = '/storage/scRNA-seq/scMultiome_Mouse_Crypts_FVF_P23033/cr_arc_rev8/cr_count'\n",
    "agg_path = '/storage/scRNA-seq/scMultiome_Mouse_Crypts_FVF_P23033/cr_arc_rev8/cr_aggr'\n",
    "velo_path = 'velocyto'\n",
    "out_base_name = 'Diseased'\n",
    "out_path = '/mnt/hdd/data/Files'"
   ]
  },
  {
   "cell_type": "code",
   "execution_count": null,
   "metadata": {},
   "outputs": [],
   "source": [
    "# Get a list of folder names, sorted alphabetically\n",
    "folder_names = sorted([f for f in os.listdir(base_path1) if os.path.isdir(os.path.join(base_path1, f))])"
   ]
  },
  {
   "cell_type": "code",
   "execution_count": null,
   "metadata": {},
   "outputs": [],
   "source": [
    "folder_names"
   ]
  },
  {
   "cell_type": "code",
   "execution_count": null,
   "metadata": {},
   "outputs": [],
   "source": [
    "samples = ['105_Gut_PF1',\n",
    " '106_Gut_PF2',\n",
    " '107_Gut_VSG3',\n",
    " '108_Gut_VSG5',\n",
    " '83_Gut_Sham_d7_1',\n",
    " '84_Gut_VSG_d7_1',\n",
    " '85_Gut_Sham_d7_2',\n",
    " '86_Gut_VSG_d7_2',\n",
    " 'HFD_1',\n",
    " 'HFD_2',\n",
    " 'HFD_3',\n",
    " #'HFD_mtmg', # high ambient genes fraction, low counts and low genes\n",
    " 'MUC13635',\n",
    " 'MUC13636',\n",
    " 'MUC13643',\n",
    " 'MUC13646',\n",
    " 'MUC8397',\n",
    " 'MUC8398',\n",
    " 'MUC8400',\n",
    " 'Control_2',\n",
    " 'Mutant_2',\n",
    " 'Control_4_FVR',\n",
    " 'Mutant_4_FVR']\n",
    "\n",
    "#exclusion bcs colon\n",
    "#MUC8396\n",
    "#MUC8401\n",
    "#MUC8402\n",
    "#MUC8404\n"
   ]
  },
  {
   "cell_type": "code",
   "execution_count": null,
   "metadata": {},
   "outputs": [],
   "source": [
    "adatas_velo = dict()\n",
    "for i,sample in enumerate(samples):\n",
    "    print(sample)\n",
    "    if sample == 'Control_2':\n",
    "        sample_name = 'Mutant_1'\n",
    "    elif sample == 'Control_4_FVR':\n",
    "        sample_name= 'Mutant_3_FVR'\n",
    "    else:\n",
    "        sample_name = sample\n",
    "    print(sample_name)\n",
    "    target_file = [files for files in os.listdir('/'.join([base_path,velo_path,sample])) if files.endswith('.loom')]\n",
    "    adatas_velo[sample_name] = sc.read_loom('/'.join([base_path,velo_path,sample,target_file[0]]))"
   ]
  },
  {
   "cell_type": "code",
   "execution_count": null,
   "metadata": {},
   "outputs": [],
   "source": [
    "#test if Control_2 is still Mutant_1 and Control_4_FVr is actually still Mutant_3_FVR\n",
    "samples = ['105_Gut_PF1',\n",
    " '106_Gut_PF2',\n",
    " '107_Gut_VSG3',\n",
    " '108_Gut_VSG5',\n",
    " '83_Gut_Sham_d7_1',\n",
    " '84_Gut_VSG_d7_1',\n",
    " '85_Gut_Sham_d7_2',\n",
    " '86_Gut_VSG_d7_2',\n",
    " 'HFD_1',\n",
    " 'HFD_2',\n",
    " 'HFD_3',\n",
    " #'HFD_mtmg', # high ambient genes fraction, low counts and low genes\n",
    " 'MUC13635',\n",
    " 'MUC13636',\n",
    " 'MUC13643',\n",
    " 'MUC13646',\n",
    " 'MUC8397',\n",
    " 'MUC8398',\n",
    " 'MUC8400',\n",
    " 'Mutant_1',\n",
    " 'Mutant_2',\n",
    " 'Mutant_3_FVR',\n",
    " 'Mutant_4_FVR']\n",
    "\n",
    "\n",
    "\n",
    "adatas = dict()\n",
    "d ={'True':1,'False':0}\n",
    "for i,sample in enumerate(samples):\n",
    "    try:\n",
    "        target_file = [files for files in os.listdir(base_path1+ '/'+ sample + outs_path) if files.endswith('Doublets_detected.h5ad')]\n",
    "        adata_tmp = sc.read(base_path1+ '/' + sample + outs_path + '/' + target_file[0])\n",
    "        adata_tmp.obs['sample'] = sample\n",
    "        if adata_tmp.var['is_ambient'].dtype != bool:\n",
    "            adata_tmp.var[f'is_ambient-{i}']=adata_tmp.var['is_ambient'].map(d)\n",
    "            adata_tmp.var[f'is_ambient-{i}']=adata_tmp.var[f'is_ambient-{i}'].to_numpy(dtype=bool)\n",
    "        else:\n",
    "            adata_tmp.var[f'is_ambient-{i}']=adata_tmp.var['is_ambient']\n",
    "        adata_tmp.var[f'genome-{i}']=adata_tmp.var['genome'] #to keep genome info\n",
    "        adatas[sample] = adata_tmp\n",
    "    except FileNotFoundError:\n",
    "        print(sample)"
   ]
  },
  {
   "cell_type": "code",
   "execution_count": null,
   "metadata": {},
   "outputs": [],
   "source": [
    "adatas"
   ]
  },
  {
   "cell_type": "code",
   "execution_count": null,
   "metadata": {},
   "outputs": [],
   "source": [
    "adatas_velo"
   ]
  },
  {
   "cell_type": "markdown",
   "metadata": {},
   "source": [
    "# Add Velocyto Results"
   ]
  },
  {
   "cell_type": "code",
   "execution_count": null,
   "metadata": {
    "ExecuteTime": {
     "end_time": "2024-02-09T00:03:44.867694Z",
     "start_time": "2024-02-09T00:03:44.048607Z"
    },
    "execution": {
     "iopub.execute_input": "2024-05-16T20:48:03.923062Z",
     "iopub.status.busy": "2024-05-16T20:48:03.922910Z",
     "iopub.status.idle": "2024-05-16T20:48:05.541486Z",
     "shell.execute_reply": "2024-05-16T20:48:05.540792Z"
    }
   },
   "outputs": [],
   "source": [
    "for key in adatas.keys():\n",
    "    try:\n",
    "        adatas_velo[key].obs_names = [name.split(':')[1][0:16] + '-1' for name in adatas_velo[key].obs_names]\n",
    "    except IndexError: #already changed barcodes\n",
    "        adatas_velo[key].obs_names = [name[0:16] + '-1' for name in adatas_velo[key].obs_names]\n",
    "    adatas_velo[key].var_names_make_unique()\n",
    "    try:\n",
    "        adatas[key].layers = adatas_velo[key][adatas[key].obs_names,adatas[key].var_names].layers.copy()\n",
    "    except KeyError:\n",
    "        print(f' Value error in {key}.')\n",
    "        print(adatas_velo[key].obs_names)\n",
    "        print(adatas[key].obs_names)\n",
    "        print(adatas[key].obs_names.intersection(adatas_velo[key].obs_names))"
   ]
  },
  {
   "cell_type": "raw",
   "metadata": {
    "vscode": {
     "languageId": "raw"
    }
   },
   "source": [
    "for key in adatas.keys():\n",
    "    sample_name = adatas[key].obs['sample'][0]\n",
    "    adatas[key].write(f'{base_path}/{out_base_name}/{sample_name}_Dbtl_detected_velocyto_diseased.h5ad')"
   ]
  },
  {
   "cell_type": "markdown",
   "metadata": {},
   "source": [
    "# Concatenate Samples & Filter Genes"
   ]
  },
  {
   "cell_type": "code",
   "execution_count": null,
   "metadata": {
    "ExecuteTime": {
     "end_time": "2024-02-09T00:03:45.117100Z",
     "start_time": "2024-02-09T00:03:44.868934Z"
    },
    "execution": {
     "iopub.execute_input": "2024-05-16T20:48:05.549892Z",
     "iopub.status.busy": "2024-05-16T20:48:05.549675Z",
     "iopub.status.idle": "2024-05-16T20:48:06.013086Z",
     "shell.execute_reply": "2024-05-16T20:48:06.012400Z"
    },
    "scrolled": true
   },
   "outputs": [],
   "source": [
    "# Concatenate RNA\n",
    "import anndata as ad\n",
    "rna = ad.concat([adatas[i] for i in adatas], merge=\"unique\", label = 'batch', join='outer', index_unique=\"_\") # outer join, because FVF-hi and low might lead to exclusion of intresting genes in case min_cell filter was applied during QC"
   ]
  },
  {
   "cell_type": "code",
   "execution_count": null,
   "metadata": {},
   "outputs": [],
   "source": [
    "rna.obs[rna.obs['sample']=='105_Gut_PF1']"
   ]
  },
  {
   "cell_type": "code",
   "execution_count": null,
   "metadata": {},
   "outputs": [],
   "source": [
    "rna.obs"
   ]
  },
  {
   "cell_type": "code",
   "execution_count": null,
   "metadata": {},
   "outputs": [],
   "source": [
    "rna"
   ]
  },
  {
   "cell_type": "code",
   "execution_count": null,
   "metadata": {},
   "outputs": [],
   "source": [
    "rna.X = np.nan_to_num(rna.X)"
   ]
  },
  {
   "cell_type": "code",
   "execution_count": null,
   "metadata": {},
   "outputs": [],
   "source": [
    "# Ambient genes\n",
    "ambi_cols = rna.var.columns[[column.startswith('is_ambient-') for column in rna.var.columns]]\n",
    "ambi_bool = [False] * rna.var.shape[0] #np.array()\n",
    "for col in ambi_cols:\n",
    "    ambi_bool = list(np.add(ambi_bool, [a is True for a in rna.var[ambi_cols].loc[:,col]])) #join ambient gene boolean by union\n",
    "    \n",
    "rna.var['is_ambient'] = ambi_bool"
   ]
  },
  {
   "cell_type": "code",
   "execution_count": null,
   "metadata": {},
   "outputs": [],
   "source": [
    "rna.var['is_ambient']"
   ]
  },
  {
   "cell_type": "code",
   "execution_count": null,
   "metadata": {},
   "outputs": [],
   "source": [
    "rna.var['is_ambient'].value_counts()"
   ]
  },
  {
   "cell_type": "code",
   "execution_count": null,
   "metadata": {},
   "outputs": [],
   "source": [
    "for col in ambi_cols:\n",
    "    rna.var.drop(col,axis =1,inplace=True)"
   ]
  },
  {
   "cell_type": "code",
   "execution_count": null,
   "metadata": {},
   "outputs": [],
   "source": [
    "del adatas\n",
    "del adatas_velo\n",
    "del adata_tmp\n",
    "gc.collect()"
   ]
  },
  {
   "cell_type": "code",
   "execution_count": null,
   "metadata": {
    "ExecuteTime": {
     "end_time": "2024-02-09T00:03:47.759249Z",
     "start_time": "2024-02-09T00:03:45.646292Z"
    },
    "execution": {
     "iopub.execute_input": "2024-05-16T20:48:06.886241Z",
     "iopub.status.busy": "2024-05-16T20:48:06.886026Z",
     "iopub.status.idle": "2024-05-16T20:48:10.815710Z",
     "shell.execute_reply": "2024-05-16T20:48:10.815061Z"
    }
   },
   "outputs": [],
   "source": [
    "qc_metrics(rna, ambient=True)"
   ]
  },
  {
   "cell_type": "code",
   "execution_count": null,
   "metadata": {},
   "outputs": [],
   "source": [
    "# Save\n",
    "rna.write(f'{base_path}/{out_base_name}/Dbtl_detected_velocyto_diseased_v1.h5ad')"
   ]
  },
  {
   "cell_type": "code",
   "execution_count": null,
   "metadata": {},
   "outputs": [],
   "source": [
    "adata = sc.read_h5ad(f'{base_path}/{out_base_name}/Dbtl_detected_velocyto_diseased_v1.h5ad')"
   ]
  },
  {
   "cell_type": "code",
   "execution_count": null,
   "metadata": {},
   "outputs": [],
   "source": [
    "genome_cols = adata.var.columns[[column.startswith('genome-') for column in adata.var.columns]]"
   ]
  },
  {
   "cell_type": "code",
   "execution_count": null,
   "metadata": {},
   "outputs": [],
   "source": [
    "adata.var['genome'] = adata.var['genome-0'][0]"
   ]
  },
  {
   "cell_type": "code",
   "execution_count": null,
   "metadata": {},
   "outputs": [],
   "source": [
    "for col in genome_cols:\n",
    "    adata.var.drop(col,axis =1,inplace=True)"
   ]
  },
  {
   "cell_type": "code",
   "execution_count": null,
   "metadata": {},
   "outputs": [],
   "source": [
    "adata"
   ]
  },
  {
   "cell_type": "raw",
   "metadata": {
    "vscode": {
     "languageId": "raw"
    }
   },
   "source": [
    "import gc\n",
    "del rna\n",
    "gc.collect()"
   ]
  },
  {
   "cell_type": "code",
   "execution_count": null,
   "metadata": {},
   "outputs": [],
   "source": [
    "adata.obs[adata.obs['sample'].isin([ 'Mutant_3_FVR',\n",
    " 'Mutant_4_FVR'])]"
   ]
  },
  {
   "cell_type": "code",
   "execution_count": null,
   "metadata": {
    "ExecuteTime": {
     "end_time": "2024-02-09T00:06:31.578141Z",
     "start_time": "2024-02-09T00:05:03.831019Z"
    },
    "execution": {
     "iopub.execute_input": "2024-05-16T20:50:26.204103Z",
     "iopub.status.busy": "2024-05-16T20:50:26.203894Z",
     "iopub.status.idle": "2024-05-16T20:51:43.185815Z",
     "shell.execute_reply": "2024-05-16T20:51:43.185122Z"
    }
   },
   "outputs": [],
   "source": [
    "get_umap_leiden(adata)"
   ]
  },
  {
   "cell_type": "code",
   "execution_count": null,
   "metadata": {
    "ExecuteTime": {
     "end_time": "2024-02-09T00:06:35.645601Z",
     "start_time": "2024-02-09T00:06:31.579501Z"
    },
    "execution": {
     "iopub.execute_input": "2024-05-16T20:51:43.202400Z",
     "iopub.status.busy": "2024-05-16T20:51:43.202109Z",
     "iopub.status.idle": "2024-05-16T20:51:51.673087Z",
     "shell.execute_reply": "2024-05-16T20:51:51.672380Z"
    }
   },
   "outputs": [],
   "source": [
    "#Filter genes:\n",
    "print('Total number of genes: {:d}'.format(adata.n_vars))\n",
    "\n",
    "# Min 20 cells - filters out 0 count genes\n",
    "sc.pp.filter_genes(adata, min_cells=20)\n",
    "print('Number of genes after cell filter: {:d}'.format(adata.n_vars))"
   ]
  },
  {
   "cell_type": "code",
   "execution_count": null,
   "metadata": {
    "ExecuteTime": {
     "end_time": "2024-02-09T00:06:38.425997Z",
     "start_time": "2024-02-09T00:06:35.646911Z"
    },
    "execution": {
     "iopub.execute_input": "2024-05-16T20:51:51.684105Z",
     "iopub.status.busy": "2024-05-16T20:51:51.683849Z",
     "iopub.status.idle": "2024-05-16T20:51:55.361840Z",
     "shell.execute_reply": "2024-05-16T20:51:55.361127Z"
    }
   },
   "outputs": [],
   "source": [
    "sc.pl.umap(adata, color=['sample','n_counts','log_counts','n_genes','log_genes','mt_frac','rp_frac'], title=['samples','total counts','log total counts','total genes','log total genes','mt fraction','rp fraction'], size=10, add_outline=True, alpha=1, outline_width=(0.3, 0.0), ncols=2, wspace =1)"
   ]
  },
  {
   "cell_type": "markdown",
   "metadata": {},
   "source": [
    "# Doublets"
   ]
  },
  {
   "cell_type": "code",
   "execution_count": null,
   "metadata": {
    "ExecuteTime": {
     "end_time": "2024-02-09T00:06:39.192257Z",
     "start_time": "2024-02-09T00:06:38.427286Z"
    },
    "execution": {
     "iopub.execute_input": "2024-05-16T20:51:55.429189Z",
     "iopub.status.busy": "2024-05-16T20:51:55.428883Z",
     "iopub.status.idle": "2024-05-16T20:51:56.438646Z",
     "shell.execute_reply": "2024-05-16T20:51:56.438005Z"
    }
   },
   "outputs": [],
   "source": [
    "sc.pl.umap(adata, color=['final_doublets_cat','doublet_calls'], size=10, add_outline=True, alpha=1, outline_width=(0.3, 0.0), ncols=2)"
   ]
  },
  {
   "cell_type": "code",
   "execution_count": null,
   "metadata": {},
   "outputs": [],
   "source": [
    "gc.collect()"
   ]
  },
  {
   "cell_type": "code",
   "execution_count": null,
   "metadata": {
    "ExecuteTime": {
     "end_time": "2024-02-09T00:06:39.201126Z",
     "start_time": "2024-02-09T00:06:39.197491Z"
    },
    "execution": {
     "iopub.execute_input": "2024-05-16T20:51:56.465706Z",
     "iopub.status.busy": "2024-05-16T20:51:56.465514Z",
     "iopub.status.idle": "2024-05-16T20:51:56.469823Z",
     "shell.execute_reply": "2024-05-16T20:51:56.469257Z"
    }
   },
   "outputs": [],
   "source": [
    "# Number of doublet calls calls\n",
    "print(adata.obs['doublet_calls'].value_counts())"
   ]
  },
  {
   "cell_type": "code",
   "execution_count": null,
   "metadata": {
    "ExecuteTime": {
     "end_time": "2024-02-09T00:06:39.230784Z",
     "start_time": "2024-02-09T00:06:39.202123Z"
    },
    "execution": {
     "iopub.execute_input": "2024-05-16T20:51:56.478695Z",
     "iopub.status.busy": "2024-05-16T20:51:56.478455Z",
     "iopub.status.idle": "2024-05-16T20:51:56.502484Z",
     "shell.execute_reply": "2024-05-16T20:51:56.501821Z"
    }
   },
   "outputs": [],
   "source": [
    "# Number of final doublets\n",
    "print('Number of doublets:')\n",
    "print(adata.obs['final_doublets'].value_counts())\n",
    "\n",
    "# Percentage:\n",
    "print('\\nOverall doublet rate: ',adata.obs['final_doublets'].value_counts()[1]/len(adata.obs['final_doublets'])*100,'%')\n",
    "\n",
    "for sample in set(adata.obs['sample']):\n",
    "    print('\\n',sample,'doublet rate: ',adata.obs['final_doublets'][adata.obs['sample']==sample].value_counts()[1]/len(adata.obs['final_doublets'][adata.obs['sample']==sample])*100,'%')"
   ]
  },
  {
   "cell_type": "code",
   "execution_count": null,
   "metadata": {
    "ExecuteTime": {
     "end_time": "2024-02-09T00:06:39.245535Z",
     "start_time": "2024-02-09T00:06:39.232522Z"
    },
    "execution": {
     "iopub.execute_input": "2024-05-16T20:51:56.515397Z",
     "iopub.status.busy": "2024-05-16T20:51:56.515147Z",
     "iopub.status.idle": "2024-05-16T20:51:56.521773Z",
     "shell.execute_reply": "2024-05-16T20:51:56.521115Z"
    }
   },
   "outputs": [],
   "source": [
    "# Annotate the data sets\n",
    "print(adata.obs['sample'].value_counts())\n",
    "\n",
    "# Checking the total size of the data set\n",
    "adata.shape"
   ]
  },
  {
   "cell_type": "code",
   "execution_count": null,
   "metadata": {},
   "outputs": [],
   "source": [
    "adata"
   ]
  },
  {
   "cell_type": "code",
   "execution_count": null,
   "metadata": {
    "ExecuteTime": {
     "end_time": "2024-02-09T00:06:39.259948Z",
     "start_time": "2024-02-09T00:06:39.247185Z"
    },
    "execution": {
     "iopub.execute_input": "2024-05-16T20:51:56.530706Z",
     "iopub.status.busy": "2024-05-16T20:51:56.530431Z",
     "iopub.status.idle": "2024-05-16T20:51:56.537119Z",
     "shell.execute_reply": "2024-05-16T20:51:56.536490Z"
    }
   },
   "outputs": [],
   "source": [
    "# Clean up .obs\n",
    "adata.obs = adata.obs.loc[:,['sample', 'n_counts', 'log_counts', 'n_counts_rank', 'n_genes', 'log_genes', 'mt_frac', 'rp_frac', 'ambi_frac', 'final_doublets', 'final_doublets_cat', 'doublet_calls', 'cells_remain','is_paneth','batch']]"
   ]
  },
  {
   "cell_type": "markdown",
   "metadata": {},
   "source": [
    "## Save"
   ]
  },
  {
   "cell_type": "code",
   "execution_count": null,
   "metadata": {
    "ExecuteTime": {
     "end_time": "2024-02-09T00:10:26.362672Z",
     "start_time": "2024-02-09T00:10:23.394145Z"
    },
    "execution": {
     "iopub.execute_input": "2024-05-16T20:52:02.850195Z",
     "iopub.status.busy": "2024-05-16T20:52:02.850068Z",
     "iopub.status.idle": "2024-05-16T20:52:08.440916Z",
     "shell.execute_reply": "2024-05-16T20:52:08.440207Z"
    }
   },
   "outputs": [],
   "source": [
    "# Save\n",
    "adata.write(f'{base_path}/{out_base_name}/Dbtl_detected_velocyto_diseased.h5ad')"
   ]
  },
  {
   "cell_type": "markdown",
   "metadata": {},
   "source": [
    "# Session Info"
   ]
  },
  {
   "cell_type": "code",
   "execution_count": null,
   "metadata": {
    "execution": {
     "iopub.execute_input": "2024-05-16T20:52:08.455379Z",
     "iopub.status.busy": "2024-05-16T20:52:08.455134Z",
     "iopub.status.idle": "2024-05-16T20:52:08.501525Z",
     "shell.execute_reply": "2024-05-16T20:52:08.501046Z"
    }
   },
   "outputs": [],
   "source": [
    "%%R\n",
    "sessionInfo()"
   ]
  },
  {
   "cell_type": "code",
   "execution_count": null,
   "metadata": {
    "execution": {
     "iopub.execute_input": "2024-05-16T20:52:08.627628Z",
     "iopub.status.busy": "2024-05-16T20:52:08.627261Z",
     "iopub.status.idle": "2024-05-16T20:52:08.710229Z",
     "shell.execute_reply": "2024-05-16T20:52:08.709637Z"
    }
   },
   "outputs": [],
   "source": [
    "sc.logging.print_versions()"
   ]
  }
 ],
 "metadata": {
  "kernelspec": {
   "display_name": "scUV",
   "language": "python",
   "name": "python3"
  },
  "language_info": {
   "codemirror_mode": {
    "name": "ipython",
    "version": 3
   },
   "file_extension": ".py",
   "mimetype": "text/x-python",
   "name": "python",
   "nbconvert_exporter": "python",
   "pygments_lexer": "ipython3",
   "version": "3.10.14"
  },
  "toc": {
   "base_numbering": 1,
   "nav_menu": {},
   "number_sections": true,
   "sideBar": true,
   "skip_h1_title": false,
   "title_cell": "Table of Contents",
   "title_sidebar": "Contents",
   "toc_cell": false,
   "toc_position": {
    "height": "calc(100% - 180px)",
    "left": "10px",
    "top": "150px",
    "width": "336.6px"
   },
   "toc_section_display": true,
   "toc_window_display": true
  },
  "varInspector": {
   "cols": {
    "lenName": 16,
    "lenType": 16,
    "lenVar": 40
   },
   "kernels_config": {
    "python": {
     "delete_cmd_postfix": "",
     "delete_cmd_prefix": "del ",
     "library": "var_list.py",
     "varRefreshCmd": "print(var_dic_list())"
    },
    "r": {
     "delete_cmd_postfix": ") ",
     "delete_cmd_prefix": "rm(",
     "library": "var_list.r",
     "varRefreshCmd": "cat(var_dic_list()) "
    }
   },
   "types_to_exclude": [
    "module",
    "function",
    "builtin_function_or_method",
    "instance",
    "_Feature"
   ],
   "window_display": false
  }
 },
 "nbformat": 4,
 "nbformat_minor": 4
}
