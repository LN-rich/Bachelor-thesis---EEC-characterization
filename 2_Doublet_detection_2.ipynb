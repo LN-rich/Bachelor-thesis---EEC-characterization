{
 "cells": [
  {
   "cell_type": "markdown",
   "metadata": {},
   "source": [
    "# Setup"
   ]
  },
  {
   "cell_type": "code",
   "execution_count": null,
   "metadata": {},
   "outputs": [],
   "source": [
    "# General\n",
    "import scipy as sci\n",
    "import numpy as np\n",
    "import pandas as pd\n",
    "import logging\n",
    "import time\n",
    "import pickle\n",
    "import os\n",
    "import torch\n",
    "\n",
    "# Plotting\n",
    "import matplotlib.pyplot as plt\n",
    "import matplotlib as mpl\n",
    "from matplotlib import rcParams\n",
    "from matplotlib.pyplot import rc_context\n",
    "from matplotlib import colors\n",
    "import seaborn as sb\n",
    "from plotnine import *\n",
    "from adjustText import adjust_text\n",
    "import umap.umap_ as umap\n",
    "#import pegasus as pg\n",
    "\n",
    "\n",
    "# Analysis\n",
    "import muon as mu\n",
    "import scanpy as sc\n",
    "import scanpy.external as sce\n",
    "import scrublet as scr\n",
    "import doubletdetection\n",
    "import scvi\n",
    "\n",
    "#R\n",
    "import rpy2\n",
    "import rpy2.robjects as ro\n",
    "import rpy2.rinterface_lib.callbacks\n",
    "from rpy2.robjects import pandas2ri\n",
    "import anndata2ri\n",
    "\n",
    "# Warnings\n",
    "import warnings\n",
    "warnings.filterwarnings('ignore') #(action='once')\n",
    "\n",
    "\n",
    "#garbage collector\n",
    "import gc"
   ]
  },
  {
   "cell_type": "code",
   "execution_count": null,
   "metadata": {},
   "outputs": [],
   "source": [
    "sc.logging.print_versions()"
   ]
  },
  {
   "cell_type": "code",
   "execution_count": null,
   "metadata": {},
   "outputs": [],
   "source": [
    "# Plot settings\n",
    "%matplotlib inline\n",
    "\n",
    "## Directory\n",
    "sc.settings.figdir='/mnt/hdd/Notebooks/Gut_project/Figures'\n",
    "\n",
    "## Plotting parameters\n",
    "rcParams['figure.figsize']=(5,5) #rescale figures\n",
    "#sc.set_figure_params(scanpy=True, frameon=False, vector_friendly=False, color_map='tab10' ,transparent=True, dpi=150, dpi_save=300)\n",
    "sc.set_figure_params(scanpy=True, frameon=False, vector_friendly=False ,transparent=True, dpi=150, dpi_save=300)\n",
    "sb.set_theme(rc={'figure.figsize':(3,3)})\n",
    "\n",
    "## Font\n",
    "#rcParams['font.family'] = 'sans-serif'\n",
    "#rcParams['font.sans-serif'] = ['Source Sans 3']\n",
    "\n",
    "## Grid & Ticks\n",
    "rcParams['grid.alpha'] = 0\n",
    "rcParams['xtick.bottom'] = True\n",
    "rcParams['ytick.left'] = True\n",
    "\n",
    "\n",
    "## Embed font\n",
    "plt.rc('pdf', fonttype=42)\n",
    "\n",
    "## Define new default settings\n",
    "#plt.rcParamsDefault = plt.rcParams"
   ]
  },
  {
   "cell_type": "code",
   "execution_count": null,
   "metadata": {},
   "outputs": [],
   "source": [
    "# Colormap\n",
    "colors2 = plt.cm.Reds(np.linspace(0, 1, 128)) \n",
    "colors3 = plt.cm.Greys_r(np.linspace(0.7,0.8,20)) \n",
    "colorsComb = np.vstack([colors3, colors2]) \n",
    "mymap = colors.LinearSegmentedColormap.from_list('my_colormap', colorsComb)"
   ]
  },
  {
   "cell_type": "markdown",
   "metadata": {},
   "source": [
    "## setup R"
   ]
  },
  {
   "cell_type": "code",
   "execution_count": null,
   "metadata": {},
   "outputs": [],
   "source": [
    "%run utils.ipynb"
   ]
  },
  {
   "cell_type": "code",
   "execution_count": null,
   "metadata": {},
   "outputs": [],
   "source": [
    "setup_R('/home/scanalysis/mnt/envs/scUV/lib/R')"
   ]
  },
  {
   "cell_type": "code",
   "execution_count": null,
   "metadata": {},
   "outputs": [],
   "source": [
    "%%R\n",
    ".libPaths()"
   ]
  },
  {
   "cell_type": "markdown",
   "metadata": {},
   "source": [
    "## Load Data"
   ]
  },
  {
   "cell_type": "code",
   "execution_count": null,
   "metadata": {},
   "outputs": [],
   "source": [
    "import os\n",
    "import glob"
   ]
  },
  {
   "cell_type": "code",
   "execution_count": null,
   "metadata": {},
   "outputs": [],
   "source": [
    "base_path = '/mnt/hdd/data/Multiome/'\n",
    "outs_path = '/outs/'"
   ]
  },
  {
   "cell_type": "code",
   "execution_count": null,
   "metadata": {},
   "outputs": [],
   "source": [
    "# Get a list of folder names, sorted alphabetically\n",
    "folder_names = sorted([f for f in os.listdir(base_path) if os.path.isdir(os.path.join(base_path, f))])\n",
    "folder_variables = {}\n",
    "\n",
    "for index, folder_name in enumerate(folder_names, start=46):\n",
    "    variable_name = f\"sample{index}\"\n",
    "    folder_variables[folder_name] = variable_name\n",
    "folder_variables"
   ]
  },
  {
   "cell_type": "code",
   "execution_count": null,
   "metadata": {},
   "outputs": [],
   "source": [
    "for variable_name, folder_name in folder_variables.items():\n",
    "    globals()[variable_name] = folder_name"
   ]
  },
  {
   "cell_type": "code",
   "execution_count": null,
   "metadata": {},
   "outputs": [],
   "source": [
    "samples = ['597_NVF_Crypts_Rep1', '598_FVF_Crypts_Rep1','599_FVF_Crypts_Rep2','604_NVF_Crypts_Rep2', 'FVF-high','FVF-low']\n",
    "#samples = [ 'FVF-low']"
   ]
  },
  {
   "cell_type": "markdown",
   "metadata": {},
   "source": [
    "# continue GEX doublet detection"
   ]
  },
  {
   "cell_type": "code",
   "execution_count": null,
   "metadata": {},
   "outputs": [],
   "source": [
    "for folder_name, sample_name in folder_variables.items():\n",
    "    if folder_name not in samples:\n",
    "        print(f'skipping {folder_name}...')\n",
    "        continue\n",
    "    mdata= read_h5mu_to_mudata(f'{base_path}{folder_name}{outs_path}/multiome_1_done_dd_doubletfinder.h5mu')\n",
    "    adata = mdata.mod['rna']\n",
    "    sc.pl.umap(adata, color=['n_genes','n_counts','pANN.sct','DF_classifications_1.sct','DF_classifications_2.sct'], size=20, add_outline=True, alpha=1, outline_width=(0.3, 0.0), ncols=5, title = f'n_genes {folder_name}')\n",
    "    #mu.write(f'{base_path}{folder_name}{outs_path}/multiome_1_done_dd.h5mu',mdata)\n",
    "    del mdata\n",
    "    del adata\n",
    "    gc.collect()"
   ]
  },
  {
   "cell_type": "markdown",
   "metadata": {},
   "source": [
    "## Dblt detection"
   ]
  },
  {
   "cell_type": "code",
   "execution_count": null,
   "metadata": {},
   "outputs": [],
   "source": [
    "for folder_name, sample_name in folder_variables.items():\n",
    "    if folder_name not in samples:\n",
    "        print(f'skipping {folder_name}...')\n",
    "        continue\n",
    "    mdata= read_h5mu_to_mudata(f'{base_path}{folder_name}{outs_path}/multiome_1_done_dd_doubletfinder.h5mu')\n",
    "    adata = mdata.mod['rna'] \n",
    "    adata.obs['dd_doublets']=0\n",
    "    adata.obs['dd_scores']=0\n",
    "    adata.obs['dd_log_p_values']=0\n",
    "    adata.obs['dd_voting_average']=0\n",
    "    adata_clf = doubletdetection.BoostClassifier(n_iters=200, clustering_algorithm='leiden', standard_scaling=True, n_jobs=20, random_state=42) #changed from n_jobs =64, because only up to 20 threads are allowed, and set random_state to 42, because of reasons.\n",
    "    adata_dd_doublets = adata_clf.fit(adata.X).predict(p_thresh=1e-6, voter_thresh=0.8)\n",
    "    plot=doubletdetection.plot.convergence(adata_clf, show=False, p_thresh=1e-6, voter_thresh=0.8)\n",
    "    plot=doubletdetection.plot.threshold(adata_clf, show=True, p_step=5, log_p_grid=np.arange(-15, -1))\n",
    "    umap_plot(adata.X, adata_dd_doublets, random_state=1, show=True)\n",
    "    adata.obs['dd_doublets']=adata_dd_doublets.astype('bool')\n",
    "    adata.obs['dd_-log_p_values']=np.mean(adata_clf.all_log_p_values_, axis=0) * -1\n",
    "    adata.obs['dd_voting_average']=adata_clf.voting_average_\n",
    "    adata.obs['dd_scores']=np.mean(adata_clf.all_scores_, axis=0)\n",
    "    adata.obs['dd_doublets_cat'] = adata.obs['dd_doublets'].astype(str).astype('category')\n",
    "    mu.write(f'{base_path}{folder_name}{outs_path}/multiome_1_done_dd2.h5mu',mdata)\n",
    "    del mdata\n",
    "    del adata\n",
    "    gc.collect()"
   ]
  },
  {
   "cell_type": "code",
   "execution_count": null,
   "metadata": {},
   "outputs": [],
   "source": [
    "#still 597\n",
    "umap_plot(adata.X, adata_dd_doublets, random_state=1, show=True)\n",
    "adata.obs['dd_doublets']=adata_dd_doublets.astype('bool')\n",
    "adata.obs['dd_-log_p_values']=np.mean(adata_clf.all_log_p_values_, axis=0) * -1\n",
    "adata.obs['dd_voting_average']=adata_clf.voting_average_\n",
    "adata.obs['dd_scores']=np.mean(adata_clf.all_scores_, axis=0)\n",
    "adata.obs['dd_doublets_cat'] = adata.obs['dd_doublets'].astype(str).astype('category')\n",
    "mu.write(f'{base_path}{folder_name}{outs_path}/multiome_1_done_dd2.h5mu',mdata)\n",
    "del mdata\n",
    "del adata\n",
    "gc.collect()"
   ]
  },
  {
   "cell_type": "code",
   "execution_count": null,
   "metadata": {},
   "outputs": [],
   "source": [
    "for folder_name, sample_name in folder_variables.items():\n",
    "    if folder_name not in samples:\n",
    "        print(f'skipping {folder_name}...')\n",
    "        continue\n",
    "    elif folder_name == '597_NVF_Crypts_Rep1':\n",
    "        print(f'skipping {folder_name}...')\n",
    "        continue\n",
    "    mdata= read_h5mu_to_mudata(f'{base_path}{folder_name}{outs_path}/multiome_1_done_dd_doubletfinder.h5mu')\n",
    "    adata = mdata.mod['rna'] \n",
    "    adata.obs['dd_doublets']=0\n",
    "    adata.obs['dd_scores']=0\n",
    "    adata.obs['dd_log_p_values']=0\n",
    "    adata.obs['dd_voting_average']=0\n",
    "    adata_clf = doubletdetection.BoostClassifier(n_iters=200, clustering_algorithm='leiden', standard_scaling=True, n_jobs=20, random_state=42) #changed from n_jobs =64, because only up to 20 threads are allowed, and set random_state to 42, because of reasons.\n",
    "    adata_dd_doublets = adata_clf.fit(adata.X).predict(p_thresh=1e-6, voter_thresh=0.8)\n",
    "    plot=doubletdetection.plot.convergence(adata_clf, show=False, p_thresh=1e-6, voter_thresh=0.8)\n",
    "    plot=doubletdetection.plot.threshold(adata_clf, show=True, p_step=5, log_p_grid=np.arange(-15, -1))\n",
    "    umap_plot(adata.X, adata_dd_doublets, random_state=1, show=True)\n",
    "    adata.obs['dd_doublets']=adata_dd_doublets.astype('bool')\n",
    "    adata.obs['dd_-log_p_values']=np.mean(adata_clf.all_log_p_values_, axis=0) * -1\n",
    "    adata.obs['dd_voting_average']=adata_clf.voting_average_\n",
    "    adata.obs['dd_scores']=np.mean(adata_clf.all_scores_, axis=0)\n",
    "    adata.obs['dd_doublets_cat'] = adata.obs['dd_doublets'].astype(str).astype('category')\n",
    "    mu.write(f'{base_path}{folder_name}{outs_path}/multiome_1_done_dd2.h5mu',mdata)\n",
    "    del mdata\n",
    "    del adata\n",
    "    gc.collect()"
   ]
  },
  {
   "cell_type": "code",
   "execution_count": null,
   "metadata": {},
   "outputs": [],
   "source": [
    "for folder_name, sample_name in folder_variables.items():\n",
    "    if folder_name not in samples:\n",
    "        print(f'skipping {folder_name}...')\n",
    "        continue\n",
    "    mdata= read_h5mu_to_mudata(f'{base_path}{folder_name}{outs_path}/multiome_1_done_dd2.h5mu')\n",
    "    adata = mdata.mod['rna']\n",
    "    with rc_context({'figure.figsize': (6, 3)}):\n",
    "        sc.pl.umap(adata, color=['n_genes','n_counts','dd_doublets_cat','dd_-log_p_values','dd_voting_average','dd_scores'], size=20, add_outline=True, alpha=1, outline_width=(0.3, 0.0), ncols=3, title = f'{folder_name} n_genes')\n",
    "    print('DoubletDetection doublet rate:', adata.obs['dd_doublets'].value_counts()[1]/adata.obs['sample'].value_counts()[0]*100, '% (',adata.obs['dd_doublets'].value_counts()[1],' cells)' )\n",
    "    #mu.write(f'{base_path}{folder_name}{outs_path}/multiome_1_done_dd.h5mu',mdata)\n",
    "    del mdata\n",
    "    del adata\n",
    "    gc.collect()"
   ]
  },
  {
   "cell_type": "markdown",
   "metadata": {},
   "source": [
    "## Solo sample wise"
   ]
  },
  {
   "cell_type": "markdown",
   "metadata": {},
   "source": [
    "#### sample 597_FVF_Crypts"
   ]
  },
  {
   "cell_type": "code",
   "execution_count": null,
   "metadata": {},
   "outputs": [],
   "source": [
    "mdata= read_h5mu_to_mudata(f'{base_path}597_NVF_Crypts_Rep1{outs_path}/multiome_1_done_dd2.h5mu')\n",
    "adata = mdata.mod['rna'] "
   ]
  },
  {
   "cell_type": "code",
   "execution_count": null,
   "metadata": {},
   "outputs": [],
   "source": [
    "scvi.model.SCVI.setup_anndata(adata)\n",
    "vae = scvi.model.SCVI(adata, n_hidden=256, n_latent=20, gene_likelihood='nb')\n",
    "vae.train()\n",
    "solo = scvi.external.SOLO.from_scvi_model(vae)\n",
    "solo.train()\n",
    "predictions = solo.predict()\n",
    "predictions['solo_doublet_class'] = solo.predict(soft=False)"
   ]
  },
  {
   "cell_type": "code",
   "execution_count": null,
   "metadata": {},
   "outputs": [],
   "source": [
    "#predictions.index = [index[:-2] for index in predictions.index]\n",
    "predictions.columns = ['solo_doublet_score', 'solo_singlet_score','solo_doublet_class']"
   ]
  },
  {
   "cell_type": "code",
   "execution_count": null,
   "metadata": {},
   "outputs": [],
   "source": [
    "p=sb.jointplot(data=predictions, x='solo_singlet_score', y='solo_doublet_score', s=2, kind='scatter', linewidth=0, space=0, height = 4, marginal_kws=dict(bins=200, kde=True)) #, hue='solo_doublet_class',data=predictions))\n",
    "p.plot_joint(sb.scatterplot, color=\"black\", s=3 ,data=predictions, linewidth=0)\n",
    "p.plot_joint(sb.scatterplot, s=2, hue='solo_doublet_class',data=predictions, linewidth=0)\n",
    "p.ax_joint.axvline(x=0, ymin=0, ymax=max(predictions['solo_doublet_score']), color=\"black\", lw=0.5).set_linestyle(\"--\")\n",
    "p.ax_joint.axhline(y=0, xmin=0, xmax=max(predictions['solo_singlet_score']), color=\"black\", lw=0.5).set_linestyle(\"--\")\n",
    "p.ax_joint.legend(frameon=False)\n",
    "plt.show()"
   ]
  },
  {
   "cell_type": "code",
   "execution_count": null,
   "metadata": {},
   "outputs": [],
   "source": [
    "print('SOLO doublet rate:', sum(predictions.solo_doublet_class == 'doublet')/adata.n_obs*100, '% (',sum(predictions.solo_doublet_class == 'doublet'),' cells)' )"
   ]
  },
  {
   "cell_type": "code",
   "execution_count": null,
   "metadata": {},
   "outputs": [],
   "source": [
    "adata.obs = pd.concat([adata.obs, predictions], axis=1)\n",
    "adata.obs['solo_doublets'] = False\n",
    "adata.obs.loc[adata.obs['solo_doublet_class'] == 'doublet','solo_doublets'] = True\n",
    "mu.write(f'{base_path}597_NVF_Crypts_Rep1{outs_path}/multiome_1_done_dd2.h5mu',mdata)\n"
   ]
  },
  {
   "cell_type": "markdown",
   "metadata": {},
   "source": [
    "#### sample 598_NVF_Crypts"
   ]
  },
  {
   "cell_type": "code",
   "execution_count": null,
   "metadata": {},
   "outputs": [],
   "source": [
    "mdata= read_h5mu_to_mudata(f'{base_path}598_FVF_Crypts_Rep1{outs_path}/multiome_1_done_dd2.h5mu')\n",
    "adata = mdata.mod['rna'] "
   ]
  },
  {
   "cell_type": "code",
   "execution_count": null,
   "metadata": {},
   "outputs": [],
   "source": [
    "scvi.model.SCVI.setup_anndata(adata)\n",
    "vae = scvi.model.SCVI(adata, n_hidden=256, n_latent=20, gene_likelihood='nb')\n",
    "vae.train()\n",
    "solo = scvi.external.SOLO.from_scvi_model(vae)\n",
    "solo.train()\n",
    "predictions = solo.predict()\n",
    "predictions['solo_doublet_class'] = solo.predict(soft=False)"
   ]
  },
  {
   "cell_type": "code",
   "execution_count": null,
   "metadata": {},
   "outputs": [],
   "source": [
    "#predictions.index = [index[:-2] for index in predictions.index]\n",
    "predictions.columns = ['solo_doublet_score', 'solo_singlet_score','solo_doublet_class']"
   ]
  },
  {
   "cell_type": "code",
   "execution_count": null,
   "metadata": {},
   "outputs": [],
   "source": [
    "p=sb.jointplot(data=predictions, x='solo_singlet_score', y='solo_doublet_score', s=2, kind='scatter', linewidth=0, space=0, height = 4, marginal_kws=dict(bins=200, kde=True)) #, hue='solo_doublet_class',data=predictions))\n",
    "p.plot_joint(sb.scatterplot, color=\"black\", s=3 ,data=predictions, linewidth=0)\n",
    "p.plot_joint(sb.scatterplot, s=2, hue='solo_doublet_class',data=predictions, linewidth=0)\n",
    "p.ax_joint.axvline(x=0, ymin=0, ymax=max(predictions['solo_doublet_score']), color=\"black\", lw=0.5).set_linestyle(\"--\")\n",
    "p.ax_joint.axhline(y=0, xmin=0, xmax=max(predictions['solo_singlet_score']), color=\"black\", lw=0.5).set_linestyle(\"--\")\n",
    "p.ax_joint.legend(frameon=False)\n",
    "plt.show()"
   ]
  },
  {
   "cell_type": "code",
   "execution_count": null,
   "metadata": {},
   "outputs": [],
   "source": [
    "print('SOLO doublet rate:', sum(predictions.solo_doublet_class == 'doublet')/adata.n_obs*100, '% (',sum(predictions.solo_doublet_class == 'doublet'),' cells)' )"
   ]
  },
  {
   "cell_type": "code",
   "execution_count": null,
   "metadata": {},
   "outputs": [],
   "source": [
    "adata.obs = pd.concat([adata.obs, predictions], axis=1)\n",
    "adata.obs['solo_doublets'] = False\n",
    "adata.obs.loc[adata.obs['solo_doublet_class'] == 'doublet','solo_doublets'] = True\n",
    "mu.write(f'{base_path}598_FVF_Crypts_Rep1{outs_path}/multiome_1_done_dd2.h5mu',mdata)\n"
   ]
  },
  {
   "cell_type": "markdown",
   "metadata": {},
   "source": [
    "#### sample 599_FVF_Crypts"
   ]
  },
  {
   "cell_type": "code",
   "execution_count": null,
   "metadata": {},
   "outputs": [],
   "source": [
    "mdata= read_h5mu_to_mudata(f'{base_path}599_FVF_Crypts_Rep2{outs_path}/multiome_1_done_dd2.h5mu')\n",
    "adata = mdata.mod['rna'] "
   ]
  },
  {
   "cell_type": "code",
   "execution_count": null,
   "metadata": {},
   "outputs": [],
   "source": [
    "scvi.model.SCVI.setup_anndata(adata)\n",
    "vae = scvi.model.SCVI(adata, n_hidden=256, n_latent=20, gene_likelihood='nb')\n",
    "vae.train()\n",
    "solo = scvi.external.SOLO.from_scvi_model(vae)\n",
    "solo.train()\n",
    "predictions = solo.predict()\n",
    "predictions['solo_doublet_class'] = solo.predict(soft=False)"
   ]
  },
  {
   "cell_type": "code",
   "execution_count": null,
   "metadata": {},
   "outputs": [],
   "source": [
    "#predictions.index = [index[:-2] for index in predictions.index]\n",
    "predictions.columns = ['solo_doublet_score', 'solo_singlet_score','solo_doublet_class']"
   ]
  },
  {
   "cell_type": "code",
   "execution_count": null,
   "metadata": {},
   "outputs": [],
   "source": [
    "with rc_context({'figure.figsize': (5, 5)}):\n",
    "    p=sb.jointplot(data=predictions, x='solo_singlet_score', y='solo_doublet_score', s=2, kind='scatter', linewidth=0, height = 4, space=0, marginal_kws=dict(bins=200, kde=True)) #, hue='solo_doublet_class',data=predictions))\n",
    "    p.plot_joint(sb.scatterplot, color=\"black\", s=3 ,data=predictions, linewidth=0)\n",
    "    p.plot_joint(sb.scatterplot, s=2, hue='solo_doublet_class',data=predictions, linewidth=0)\n",
    "    p.ax_joint.axvline(x=0, ymin=0, ymax=max(predictions['solo_doublet_score']), color=\"black\", lw=0.5).set_linestyle(\"--\")\n",
    "    p.ax_joint.axhline(y=0, xmin=0, xmax=max(predictions['solo_singlet_score']), color=\"black\", lw=0.5).set_linestyle(\"--\")\n",
    "    p.ax_joint.legend(frameon=False)\n",
    "    plt.show()"
   ]
  },
  {
   "cell_type": "code",
   "execution_count": null,
   "metadata": {},
   "outputs": [],
   "source": [
    "print('SOLO doublet rate:', sum(predictions.solo_doublet_class == 'doublet')/adata.n_obs*100, '% (',sum(predictions.solo_doublet_class == 'doublet'),' cells)' )"
   ]
  },
  {
   "cell_type": "code",
   "execution_count": null,
   "metadata": {},
   "outputs": [],
   "source": [
    "adata.obs = pd.concat([adata.obs, predictions], axis=1)\n",
    "adata.obs['solo_doublets'] = False\n",
    "adata.obs.loc[adata.obs['solo_doublet_class'] == 'doublet','solo_doublets'] = True\n",
    "mu.write(f'{base_path}599_FVF_Crypts_Rep2{outs_path}/multiome_1_done_dd2.h5mu',mdata)\n"
   ]
  },
  {
   "cell_type": "markdown",
   "metadata": {},
   "source": [
    "#### sample 604_NVF_Crypts"
   ]
  },
  {
   "cell_type": "code",
   "execution_count": null,
   "metadata": {},
   "outputs": [],
   "source": [
    "mdata= read_h5mu_to_mudata(f'{base_path}604_NVF_Crypts_Rep2{outs_path}/multiome_1_done_dd2.h5mu')\n",
    "adata = mdata.mod['rna'] "
   ]
  },
  {
   "cell_type": "code",
   "execution_count": null,
   "metadata": {},
   "outputs": [],
   "source": [
    "scvi.model.SCVI.setup_anndata(adata)\n",
    "vae = scvi.model.SCVI(adata, n_hidden=256, n_latent=20, gene_likelihood='nb')\n",
    "vae.train()\n",
    "solo = scvi.external.SOLO.from_scvi_model(vae)\n",
    "solo.train()\n",
    "predictions = solo.predict()\n",
    "predictions['solo_doublet_class'] = solo.predict(soft=False)"
   ]
  },
  {
   "cell_type": "code",
   "execution_count": null,
   "metadata": {},
   "outputs": [],
   "source": [
    "#predictions.index = [index[:-2] for index in predictions.index]\n",
    "predictions.columns = ['solo_doublet_score', 'solo_singlet_score','solo_doublet_class']"
   ]
  },
  {
   "cell_type": "code",
   "execution_count": null,
   "metadata": {},
   "outputs": [],
   "source": [
    "with rc_context({'figure.figsize': (5, 5)}):\n",
    "    p=sb.jointplot(data=predictions, x='solo_singlet_score', y='solo_doublet_score', s=2, kind='scatter', linewidth=0, space=0, height = 4, marginal_kws=dict(bins=200, kde=True)) #, hue='solo_doublet_class',data=predictions))\n",
    "    p.plot_joint(sb.scatterplot, color=\"black\", s=3 ,data=predictions, linewidth=0)\n",
    "    p.plot_joint(sb.scatterplot, s=2, hue='solo_doublet_class',data=predictions, linewidth=0)\n",
    "    p.ax_joint.axvline(x=0, ymin=0, ymax=max(predictions['solo_doublet_score']), color=\"black\", lw=0.5).set_linestyle(\"--\")\n",
    "    p.ax_joint.axhline(y=0, xmin=0, xmax=max(predictions['solo_singlet_score']), color=\"black\", lw=0.5).set_linestyle(\"--\")\n",
    "    p.ax_joint.legend(frameon=False)\n",
    "    plt.show()"
   ]
  },
  {
   "cell_type": "code",
   "execution_count": null,
   "metadata": {},
   "outputs": [],
   "source": [
    "print('SOLO doublet rate:', sum(predictions.solo_doublet_class == 'doublet')/adata.n_obs*100, '% (',sum(predictions.solo_doublet_class == 'doublet'),' cells)' )"
   ]
  },
  {
   "cell_type": "code",
   "execution_count": null,
   "metadata": {},
   "outputs": [],
   "source": [
    "adata.obs = pd.concat([adata.obs, predictions], axis=1)\n",
    "adata.obs['solo_doublets'] = False\n",
    "adata.obs.loc[adata.obs['solo_doublet_class'] == 'doublet','solo_doublets'] = True\n",
    "mu.write(f'{base_path}604_NVF_Crypts_Rep2{outs_path}/multiome_1_done_dd2.h5mu',mdata)\n"
   ]
  },
  {
   "cell_type": "markdown",
   "metadata": {},
   "source": [
    "#### sample FVF_high"
   ]
  },
  {
   "cell_type": "code",
   "execution_count": null,
   "metadata": {},
   "outputs": [],
   "source": [
    "mdata= read_h5mu_to_mudata(f'{base_path}FVF-high{outs_path}/multiome_1_done_dd2.h5mu')\n",
    "adata = mdata.mod['rna'] "
   ]
  },
  {
   "cell_type": "code",
   "execution_count": null,
   "metadata": {},
   "outputs": [],
   "source": [
    "scvi.model.SCVI.setup_anndata(adata)\n",
    "vae = scvi.model.SCVI(adata, n_hidden=256, n_latent=20, gene_likelihood='nb')\n",
    "vae.train()\n",
    "solo = scvi.external.SOLO.from_scvi_model(vae)\n",
    "solo.train()\n",
    "predictions = solo.predict()\n",
    "predictions['solo_doublet_class'] = solo.predict(soft=False)"
   ]
  },
  {
   "cell_type": "code",
   "execution_count": null,
   "metadata": {},
   "outputs": [],
   "source": [
    "#predictions.index = [index[:-2] for index in predictions.index]\n",
    "predictions.columns = ['solo_doublet_score', 'solo_singlet_score','solo_doublet_class']"
   ]
  },
  {
   "cell_type": "code",
   "execution_count": null,
   "metadata": {},
   "outputs": [],
   "source": [
    "with rc_context({'figure.figsize': (5, 5)}):\n",
    "    p=sb.jointplot(data=predictions, x='solo_singlet_score', y='solo_doublet_score', s=2, kind='scatter', linewidth=0, height = 4, space=0, marginal_kws=dict(bins=200, kde=True)) #, hue='solo_doublet_class',data=predictions))\n",
    "    p.plot_joint(sb.scatterplot, color=\"black\", s=3 ,data=predictions, linewidth=0)\n",
    "    p.plot_joint(sb.scatterplot, s=2, hue='solo_doublet_class',data=predictions, linewidth=0)\n",
    "    p.ax_joint.axvline(x=0, ymin=0, ymax=max(predictions['solo_doublet_score']), color=\"black\", lw=0.5).set_linestyle(\"--\")\n",
    "    p.ax_joint.axhline(y=0, xmin=0, xmax=max(predictions['solo_singlet_score']), color=\"black\", lw=0.5).set_linestyle(\"--\")\n",
    "    p.ax_joint.legend(frameon=False)\n",
    "    plt.show()"
   ]
  },
  {
   "cell_type": "code",
   "execution_count": null,
   "metadata": {},
   "outputs": [],
   "source": [
    "print('SOLO doublet rate:', sum(predictions.solo_doublet_class == 'doublet')/adata.n_obs*100, '% (',sum(predictions.solo_doublet_class == 'doublet'),' cells)' )"
   ]
  },
  {
   "cell_type": "code",
   "execution_count": null,
   "metadata": {},
   "outputs": [],
   "source": [
    "adata.obs = pd.concat([adata.obs, predictions], axis=1)\n",
    "adata.obs['solo_doublets'] = False\n",
    "adata.obs.loc[adata.obs['solo_doublet_class'] == 'doublet','solo_doublets'] = True\n",
    "mu.write(f'{base_path}FVF-high{outs_path}/multiome_1_done_dd2.h5mu',mdata)\n"
   ]
  },
  {
   "cell_type": "markdown",
   "metadata": {},
   "source": [
    "#### sample FVF_low"
   ]
  },
  {
   "cell_type": "code",
   "execution_count": null,
   "metadata": {},
   "outputs": [],
   "source": [
    "mdata= read_h5mu_to_mudata(f'{base_path}FVF-low{outs_path}/multiome_1_done_dd2.h5mu')\n",
    "adata = mdata.mod['rna'] "
   ]
  },
  {
   "cell_type": "code",
   "execution_count": null,
   "metadata": {},
   "outputs": [],
   "source": [
    "scvi.model.SCVI.setup_anndata(adata)\n",
    "vae = scvi.model.SCVI(adata, n_hidden=256, n_latent=20, gene_likelihood='nb')\n",
    "vae.train()\n",
    "solo = scvi.external.SOLO.from_scvi_model(vae)\n",
    "solo.train()\n",
    "predictions = solo.predict()\n",
    "predictions['solo_doublet_class'] = solo.predict(soft=False)"
   ]
  },
  {
   "cell_type": "code",
   "execution_count": null,
   "metadata": {},
   "outputs": [],
   "source": [
    "#predictions.index = [index[:-2] for index in predictions.index]\n",
    "predictions.columns = ['solo_doublet_score', 'solo_singlet_score','solo_doublet_class']"
   ]
  },
  {
   "cell_type": "code",
   "execution_count": null,
   "metadata": {},
   "outputs": [],
   "source": [
    "with rc_context({'figure.figsize': (5, 5)}):\n",
    "    p=sb.jointplot(data=predictions, x='solo_singlet_score', y='solo_doublet_score', s=2, kind='scatter', linewidth=0, height = 4, space=0, marginal_kws=dict(bins=200, kde=True)) #, hue='solo_doublet_class',data=predictions))\n",
    "    p.plot_joint(sb.scatterplot, color=\"black\", s=3 ,data=predictions, linewidth=0)\n",
    "    p.plot_joint(sb.scatterplot, s=2, hue='solo_doublet_class',data=predictions, linewidth=0)\n",
    "    p.ax_joint.axvline(x=0, ymin=0, ymax=max(predictions['solo_doublet_score']), color=\"black\", lw=0.5).set_linestyle(\"--\")\n",
    "    p.ax_joint.axhline(y=0, xmin=0, xmax=max(predictions['solo_singlet_score']), color=\"black\", lw=0.5).set_linestyle(\"--\")\n",
    "    p.ax_joint.legend(frameon=False)\n",
    "    plt.show()"
   ]
  },
  {
   "cell_type": "code",
   "execution_count": null,
   "metadata": {},
   "outputs": [],
   "source": [
    "print('SOLO doublet rate:', sum(predictions.solo_doublet_class == 'doublet')/adata.n_obs*100, '% (',sum(predictions.solo_doublet_class == 'doublet'),' cells)' )"
   ]
  },
  {
   "cell_type": "code",
   "execution_count": null,
   "metadata": {},
   "outputs": [],
   "source": [
    "adata.obs = pd.concat([adata.obs, predictions], axis=1)\n",
    "adata.obs['solo_doublets'] = False\n",
    "adata.obs.loc[adata.obs['solo_doublet_class'] == 'doublet','solo_doublets'] = True\n",
    "mu.write(f'{base_path}FVF-low{outs_path}/multiome_1_done_dd2.h5mu',mdata)"
   ]
  },
  {
   "cell_type": "markdown",
   "metadata": {},
   "source": [
    "## Summary"
   ]
  },
  {
   "cell_type": "code",
   "execution_count": null,
   "metadata": {},
   "outputs": [],
   "source": [
    "for folder_name, sample_name in folder_variables.items():\n",
    "    if folder_name not in samples:\n",
    "        print(f'skipping {folder_name}...')\n",
    "        continue\n",
    "    mdata= read_h5mu_to_mudata(f'{base_path}{folder_name}{outs_path}/multiome_1_done_dd2.h5mu')\n",
    "    adata = mdata.mod['rna'] \n",
    "    with rc_context({'figure.figsize': (5, 5)}):\n",
    "        sc.pl.umap(adata, color=['solo_doublet_score', 'solo_singlet_score','solo_doublet_class'], size=20, add_outline=True, alpha=1, outline_width=(0.3, 0.0), ncols=3, cmap='RdBu_r', vcenter=0, title =f'{folder_name} solo_doublet_score')\n",
    "    mu.write(f'{base_path}{folder_name}{outs_path}/multiome_1_done_dd_summary.h5mu',mdata)\n",
    "    del mdata\n",
    "    del adata\n",
    "    gc.collect()"
   ]
  },
  {
   "cell_type": "code",
   "execution_count": null,
   "metadata": {},
   "outputs": [],
   "source": [
    "for folder_name, sample_name in folder_variables.items():\n",
    "    if folder_name not in samples:\n",
    "        print(f'skipping {folder_name}...')\n",
    "        continue\n",
    "    mdata= read_h5mu_to_mudata(f'{base_path}{folder_name}{outs_path}/multiome_1_done_dd_summary.h5mu')\n",
    "    adata = mdata.mod['rna'] \n",
    "    # Sum up doublets from different tools\n",
    "    adata.obs['doublet_calls'] = adata.obs[['predicted_doublet','dd_doublets','solo_doublets','df_doublets','sdf_doublets','scds_doublets']].sum(axis=1)\n",
    "    sc.pl.umap(adata, color=['sample','doublet_calls'],  add_outline=True, alpha=1, outline_width=(0.3, 0.0)) #size=1,\n",
    "    mu.write(f'{base_path}{folder_name}{outs_path}/multiome_1_done_dd_summary.h5mu',mdata)\n",
    "    del mdata\n",
    "    del adata\n",
    "    gc.collect()"
   ]
  },
  {
   "cell_type": "code",
   "execution_count": null,
   "metadata": {},
   "outputs": [],
   "source": [
    "# Number of calls\n",
    "for folder_name, sample_name in folder_variables.items():\n",
    "    if folder_name not in samples:\n",
    "        print(f'skipping {folder_name}...')\n",
    "        continue\n",
    "    mdata= read_h5mu_to_mudata(f'{base_path}{folder_name}{outs_path}/multiome_1_done_dd_summary.h5mu')\n",
    "    adata = mdata.mod['rna'] \n",
    "    print(f'\\n{folder_name} :')\n",
    "    print(adata.obs['doublet_calls'].value_counts())\n",
    "    del mdata\n",
    "    del adata\n",
    "    gc.collect()"
   ]
  },
  {
   "cell_type": "code",
   "execution_count": null,
   "metadata": {},
   "outputs": [],
   "source": [
    "for folder_name, sample_name in folder_variables.items():\n",
    "    if folder_name not in samples:\n",
    "        print(f'skipping {folder_name}...')\n",
    "        continue\n",
    "    mdata= read_h5mu_to_mudata(f'{base_path}{folder_name}{outs_path}/multiome_1_done_dd_summary.h5mu')\n",
    "    adata = mdata.mod['rna'] \n",
    "    adata.obs.loc[:,'final_doublets'] = False\n",
    "    adata.obs.loc[adata.obs.loc[:,'doublet_calls'] > 3,'final_doublets'] = True\n",
    "    adata.obs['final_doublets_cat'] = adata.obs['final_doublets'].astype(str).astype('category')\n",
    "    sc.pl.umap(adata, color=['final_doublets_cat','doublet_calls'], size=20, add_outline=True, alpha=1, outline_width=(0.3, 0.0))\n",
    "    mu.write(f'{base_path}{folder_name}{outs_path}/multiome_1_done_dd_summary.h5mu',mdata)\n",
    "    del mdata\n",
    "    del adata\n",
    "    gc.collect()"
   ]
  },
  {
   "cell_type": "code",
   "execution_count": null,
   "metadata": {},
   "outputs": [],
   "source": [
    "# Number of final doublets\n",
    "for folder_name, sample_name in folder_variables.items():\n",
    "    if folder_name not in samples:\n",
    "        print(f'skipping {folder_name}...')\n",
    "        continue\n",
    "    mdata= read_h5mu_to_mudata(f'{base_path}{folder_name}{outs_path}/multiome_1_done_dd_summary.h5mu')\n",
    "    adata = mdata.mod['rna'] \n",
    "    print(f'{folder_name} :')\n",
    "    print('Number of doublets:')\n",
    "    print(adata.obs['final_doublets'].value_counts())\n",
    "\n",
    "    # Percentage:\n",
    "    print('\\nOverall doublet rate: ',adata.obs['final_doublets'].value_counts()[1]/len(adata.obs['final_doublets'])*100,'%')\n",
    "    del mdata\n",
    "    del adata\n",
    "    gc.collect()"
   ]
  },
  {
   "cell_type": "code",
   "execution_count": null,
   "metadata": {},
   "outputs": [],
   "source": [
    "# Annotate the data sets\n",
    "for folder_name, sample_name in folder_variables.items():\n",
    "    if folder_name not in samples:\n",
    "        print(f'skipping {folder_name}...')\n",
    "        continue\n",
    "    mdata= read_h5mu_to_mudata(f'{base_path}{folder_name}{outs_path}/multiome_1_done_dd_summary.h5mu')\n",
    "    adata = mdata.mod['rna'] \n",
    "    print(f'\\n{folder_name} :')\n",
    "    print(adata.obs['sample'].value_counts())\n",
    "    # Checking the total size of the data set\n",
    "    adata.shape\n",
    "    del mdata\n",
    "    del adata\n",
    "    gc.collect()"
   ]
  },
  {
   "cell_type": "markdown",
   "metadata": {},
   "source": [
    "#### Doublet rates per cluster"
   ]
  },
  {
   "cell_type": "code",
   "execution_count": null,
   "metadata": {},
   "outputs": [],
   "source": [
    "import pegasus as pg\n",
    "for folder_name, sample_name in folder_variables.items():\n",
    "    if folder_name not in samples:\n",
    "        print(f'skipping {folder_name}...')\n",
    "        continue\n",
    "    mdata= read_h5mu_to_mudata(f'{base_path}{folder_name}{outs_path}/multiome_1_done_dd_summary.h5mu')\n",
    "    adata = mdata.mod['rna'] \n",
    "    print(f'{folder_name} :')\n",
    "    adata.obs['doublets_shown'] = adata.obs['doublet_calls'].astype(str).astype('category')\n",
    "    pg.compo_plot(adata,'leiden', 'doublets_shown', style = 'frequency',\n",
    "              sort_function=None, \n",
    "              palette=['#FFD700', '#FF7F50', '#8B0000', '#0000CD', '#6495ED', '#008080', '#B0C4DE', '#696969'], dpi = 150)\n",
    "    plt.show()\n",
    "    plt.close()\n",
    "    mu.write(f'{base_path}{folder_name}{outs_path}/multiome_1_done_dd_summary.h5mu',mdata)\n",
    "    del mdata\n",
    "    del adata\n",
    "    gc.collect()"
   ]
  },
  {
   "cell_type": "markdown",
   "metadata": {},
   "source": [
    "# Doublet Identification ATAC"
   ]
  },
  {
   "cell_type": "markdown",
   "metadata": {},
   "source": [
    "## AMULET & scDblFinder\n",
    "\n"
   ]
  },
  {
   "cell_type": "code",
   "execution_count": null,
   "metadata": {},
   "outputs": [],
   "source": [
    "for folder_name, sample_name in folder_variables.items():\n",
    "    if folder_name not in samples:\n",
    "        print(f'skipping {folder_name}...')\n",
    "        continue\n",
    "    mdata= read_h5mu_to_mudata(f'{base_path}{folder_name}{outs_path}/multiome_1_done_dd_summary.h5mu')\n",
    "    atac = mdata.mod['atac'] \n",
    "    fragment_file = f'{base_path}{folder_name}{outs_path}/atac_fragments.tsv.gz'\n",
    "    atac.uns['files']['fragments'] = fragment_file\n",
    "    run_scDblFinder_ATAC(atac, repeats_file=f'{base_path}AMULET_exclusion_regions_noChr.bed')\n",
    "    sb.histplot(atac.obs['atac.combined.score'], kde=True, bins=100)\n",
    "    mu.write(f'{base_path}{folder_name}{outs_path}/multiome_1_done_dd_summary_atac.h5mu',mdata)\n",
    "    del mdata\n",
    "    del atac\n",
    "    gc.collect()\n",
    "    torch.cuda.empty_cache()"
   ]
  },
  {
   "cell_type": "code",
   "execution_count": null,
   "metadata": {},
   "outputs": [],
   "source": [
    "for folder_name, sample_name in folder_variables.items(): #stopped chunk before because it took too long with 20 as memory\n",
    "    if folder_name not in samples:\n",
    "        print(f'skipping {folder_name}...')\n",
    "        continue\n",
    "    elif folder_name in ['597_NVF_Crypts_Rep1', '598_FVF_Crypts_Rep1', '599_FVF_Crypts_Rep2']:\n",
    "        print(f'skipping {folder_name}...')\n",
    "        continue\n",
    "    mdata= read_h5mu_to_mudata(f'{base_path}{folder_name}{outs_path}/multiome_1_done_dd_summary.h5mu')\n",
    "    atac = mdata.mod['atac'] \n",
    "    fragment_file = f'{base_path}{folder_name}{outs_path}/atac_fragments.tsv.gz'\n",
    "    atac.uns['files']['fragments'] = fragment_file\n",
    "    run_scDblFinder_ATAC(atac, repeats_file=f'{base_path}AMULET_exclusion_regions_noChr.bed')\n",
    "    sb.histplot(atac.obs['atac.combined.score'], kde=True, bins=100)\n",
    "    mu.write(f'{base_path}{folder_name}{outs_path}/multiome_1_done_dd_summary_atac.h5mu',mdata)\n",
    "    del mdata\n",
    "    del atac\n",
    "    gc.collect()\n",
    "    torch.cuda.empty_cache()"
   ]
  },
  {
   "cell_type": "code",
   "execution_count": null,
   "metadata": {},
   "outputs": [],
   "source": [
    "for folder_name, sample_name in folder_variables.items(): #reprint the plots\n",
    "    if folder_name not in samples:\n",
    "        print(f'skipping {folder_name}...')\n",
    "        continue   \n",
    "    mdata= read_h5mu_to_mudata(f'{base_path}{folder_name}{outs_path}/multiome_1_done_dd_summary_atac.h5mu')\n",
    "    atac = mdata.mod['atac']\n",
    "    with rc_context({'figure.figsize': (5, 3)}):\n",
    "        sb.histplot(atac.obs['atac.combined.score'], kde=True, bins=100)\n",
    "        plt.title(folder_name)\n",
    "        plt.show()\n",
    "        plt.close()\n",
    "    del mdata\n",
    "    del atac\n",
    "    gc.collect()\n",
    "    torch.cuda.empty_cache()"
   ]
  },
  {
   "cell_type": "code",
   "execution_count": null,
   "metadata": {},
   "outputs": [],
   "source": [
    "cutoff_dict = {'597_NVF_Crypts_Rep1': (0.98,0.55), #min(atac[atac.obs['hybrid_class'] == 'doublet'].obs['atac.combined.score'])\n",
    " '598_FVF_Crypts_Rep1': (0.98,0.55),\n",
    " '599_FVF_Crypts_Rep2': (0.99,0.55),\n",
    " '604_NVF_Crypts_Rep2': (0.99,0.55),\n",
    " 'FVF-high': (0.99,0.55),\n",
    " 'FVF-low': (0.99,0.55)\n",
    "}"
   ]
  },
  {
   "cell_type": "code",
   "execution_count": null,
   "metadata": {},
   "outputs": [],
   "source": [
    "for folder_name, sample_name in folder_variables.items():\n",
    "    if folder_name not in samples:\n",
    "        print(f'skipping {folder_name}...')\n",
    "        continue\n",
    "    mdata= read_h5mu_to_mudata(f'{base_path}{folder_name}{outs_path}/multiome_1_done_dd_summary_atac.h5mu')\n",
    "    atac = mdata.mod['atac']    \n",
    "    # Adjust cut-off as doublet rate is too high \n",
    "    cut_off = cutoff_dict[folder_name][0]\n",
    "\n",
    "    with rc_context({'figure.figsize': (5, 3)}):\n",
    "        sb.histplot(atac.obs['atac.combined.score'][(atac.obs['atac.combined.score']>0.95) & (atac.obs['atac.combined.score']<=1)], kde=True, bins=100)\n",
    "        plt.axvline(cut_off, 0, 1, color=\"black\", lw=1).set_linestyle(\"--\")\n",
    "        plt.title(folder_name)\n",
    "        plt.show()\n",
    "        plt.close()\n",
    "    print(folder_name)\n",
    "    print('ATAC doublet rate:', (atac.obs['atac.combined.score'] > cut_off).value_counts()[1]/atac.obs['sample'].value_counts()[0]*100, '% (',(atac.obs['atac.combined.score'] > cut_off).value_counts()[1],' cells)' )\n",
    "    del mdata\n",
    "    del atac\n",
    "    gc.collect()\n",
    "    torch.cuda.empty_cache()"
   ]
  },
  {
   "cell_type": "code",
   "execution_count": null,
   "metadata": {},
   "outputs": [],
   "source": [
    "for folder_name, sample_name in folder_variables.items():\n",
    "    if folder_name not in samples:\n",
    "        print(f'skipping {folder_name}...')\n",
    "        continue\n",
    "    mdata= read_h5mu_to_mudata(f'{base_path}{folder_name}{outs_path}/multiome_1_done_dd_summary_atac.h5mu')\n",
    "    atac = mdata.mod['atac']   \n",
    "    atac.obs['atac.combined.class'] = 'singlet'\n",
    "    atac.obs['atac.combined.class'] = pd.Categorical(atac.obs['atac.combined.class'], categories=['doublet','singlet'])\n",
    "    atac.obs.loc[atac.obs['atac.combined.score'] >= cut_off,'atac.combined.class'] = 'doublet'\n",
    "    atac.obs.loc[:,'atac_sdf_doublets'] = False\n",
    "    atac.obs.loc[atac.obs.loc[:,'atac.combined.class']=='doublet','atac_sdf_doublets'] = True\n",
    "\n",
    "    print('ATAC AMULTET & scDblFinder doublet rate:', atac.obs['atac_sdf_doublets'].value_counts()[1]/atac.obs['sample'].value_counts()[0]*100, '% (',atac.obs['atac_sdf_doublets'].value_counts()[1],' cells)' )\n",
    "    sc.pl.umap(atac, color=['atac.combined.score','atac.combined.class'], size=2, add_outline=True, alpha=1, outline_width=(0.3, 0.0), ncols=3, title =f'{folder_name} atac.combined.score')\n",
    "    mu.write(f'{base_path}{folder_name}{outs_path}/multiome_1_done_dd_summary_atac.h5mu',mdata)\n",
    "    del mdata\n",
    "    gc.collect()\n",
    "    "
   ]
  },
  {
   "cell_type": "markdown",
   "metadata": {},
   "source": [
    "# Aggregate Doublet Calls"
   ]
  },
  {
   "cell_type": "code",
   "execution_count": null,
   "metadata": {},
   "outputs": [],
   "source": [
    "for folder_name, sample_name in folder_variables.items():\n",
    "    if folder_name not in samples:\n",
    "        print(f'skipping {folder_name}...')\n",
    "        continue\n",
    "    mdata= read_h5mu_to_mudata(f'{base_path}{folder_name}{outs_path}/multiome_1_done_dd_summary_atac.h5mu')\n",
    "    atac = mdata.mod['atac']   \n",
    "    adata = mdata.mod['rna']\n",
    "    adata.obs['atac_sdf_doublets'] = atac.obs['atac_sdf_doublets'].copy()\n",
    "    mdata.obs['atac_sdf_doublets'] = atac.obs['atac_sdf_doublets'].copy()\n",
    "\n",
    "    mdata.obs[['predicted_doublet','dd_doublets','solo_doublets','df_doublets','sdf_doublets','scds_doublets']] = adata.obs[['predicted_doublet','dd_doublets','solo_doublets','df_doublets','sdf_doublets','scds_doublets']].copy()\n",
    "    atac.obs[['predicted_doublet','dd_doublets','solo_doublets','df_doublets','sdf_doublets','scds_doublets']] = adata.obs[['predicted_doublet','dd_doublets','solo_doublets','df_doublets','sdf_doublets','scds_doublets']].copy()\n",
    "    # Sum up doublets from different tools\n",
    "    mdata.obs['doublet_calls'] = mdata.obs[['predicted_doublet','dd_doublets','solo_doublets','df_doublets','sdf_doublets','scds_doublets','atac_sdf_doublets']].sum(axis=1)\n",
    "    mdata.obsm['X_umap'] = mdata.mod['rna'].obsm['X_umap']\n",
    "    mu.write(f'{base_path}{folder_name}{outs_path}/multiome_1_done_dd_summary_atac_summary.h5mu',mdata)\n",
    "    del mdata\n",
    "    del adata\n",
    "    del atac\n",
    "    gc.collect()"
   ]
  },
  {
   "cell_type": "code",
   "execution_count": null,
   "metadata": {},
   "outputs": [],
   "source": [
    "for folder_name, sample_name in folder_variables.items():\n",
    "    if folder_name not in samples:\n",
    "        print(f'skipping {folder_name}...')\n",
    "        continue\n",
    "    mdata= read_h5mu_to_mudata(f'{base_path}{folder_name}{outs_path}/multiome_1_done_dd_summary_atac_summary.h5mu')\n",
    "    print(f'{folder_name}: ')\n",
    "    # Number of calls\n",
    "    print(mdata.obs['doublet_calls'].value_counts())\n",
    "    with rc_context({'figure.figsize': (3, 2)}):\n",
    "        sc.pl.umap(mdata, color=['sample','doublet_calls'], size=10, add_outline=True, alpha=1, outline_width=(0.3, 0.0))\n",
    "    del mdata\n",
    "    gc.collect()"
   ]
  },
  {
   "cell_type": "code",
   "execution_count": null,
   "metadata": {},
   "outputs": [],
   "source": [
    "for folder_name, sample_name in folder_variables.items():\n",
    "    if folder_name not in samples:\n",
    "        print(f'skipping {folder_name}...')\n",
    "        continue\n",
    "    mdata= read_h5mu_to_mudata(f'{base_path}{folder_name}{outs_path}/multiome_1_done_dd_summary_atac_summary.h5mu')\n",
    "    atac = mdata.mod['atac']   \n",
    "    adata = mdata.mod['rna']\n",
    "    mdata.obs.loc[:,'final_doublets'] = False\n",
    "    mdata.obs.loc[mdata.obs.loc[:,'doublet_calls'] > 3,'final_doublets'] = True\n",
    "    mdata.obs['final_doublets_cat'] = mdata.obs['final_doublets'].astype(str).astype('category')\n",
    "    # Annotate the data sets\n",
    "    print(mdata.obs['sample'].value_counts())\n",
    "\n",
    "    # Checking the total size of the data set\n",
    "    mdata.shape\n",
    "    # Number of final doublets\n",
    "    print('Number of doublets:')\n",
    "    print(mdata.obs['final_doublets'].value_counts())\n",
    "\n",
    "    # Percentage:\n",
    "    print('\\nOverall doublet rate: ',mdata.obs['final_doublets'].value_counts()[1]/len(mdata.obs['final_doublets'])*100,'%')\n",
    "\n",
    "    sc.pl.umap(mdata, color=['final_doublets_cat','doublet_calls'], size=20, add_outline=True, alpha=1, outline_width=(0.3, 0.0))\n",
    "    adata.obs[['final_doublets','final_doublets_cat','doublet_calls']] = mdata.obs[['final_doublets','final_doublets_cat','doublet_calls']].copy()\n",
    "    atac.obs[['final_doublets','final_doublets_cat','doublet_calls']] = mdata.obs[['final_doublets','final_doublets_cat','doublet_calls']].copy()\n",
    "    mu.write(f'{base_path}{folder_name}{outs_path}/raw_feature_bc_matrix_filtered_markedDoublets.h5mu',mdata)\n",
    "    del mdata\n",
    "    del adata\n",
    "    del atac\n",
    "    gc.collect()"
   ]
  },
  {
   "cell_type": "markdown",
   "metadata": {},
   "source": [
    "#### save adata"
   ]
  },
  {
   "cell_type": "code",
   "execution_count": null,
   "metadata": {},
   "outputs": [],
   "source": [
    "for folder_name, sample_name in folder_variables.items():\n",
    "    if folder_name not in samples:\n",
    "        print(f'skipping {folder_name}...')\n",
    "        continue\n",
    "    mdata= read_h5mu_to_mudata(f'{base_path}{folder_name}{outs_path}/raw_feature_bc_matrix_filtered_markedDoublets.h5mu')\n",
    "    adata = mdata.mod['rna']\n",
    "    adata.write(f'{base_path}{folder_name}/count_matrices/Doublets_detected.h5ad')\n",
    "    del mdata\n",
    "    del adata\n",
    "    gc.collect()"
   ]
  }
 ],
 "metadata": {
  "kernelspec": {
   "display_name": "LN",
   "language": "python",
   "name": "python3"
  },
  "language_info": {
   "codemirror_mode": {
    "name": "ipython",
    "version": 3
   },
   "file_extension": ".py",
   "mimetype": "text/x-python",
   "name": "python",
   "nbconvert_exporter": "python",
   "pygments_lexer": "ipython3",
   "version": "3.10.14"
  }
 },
 "nbformat": 4,
 "nbformat_minor": 2
}
