{
 "cells": [
  {
   "cell_type": "markdown",
   "metadata": {},
   "source": [
    "\n",
    "# Embedding, Clustering & Annotation\n",
    "Adapted from Michael Sterr\n",
    "\n",
    "2024-06-13\n",
    "\n",
    "\n",
    "# Setup\n"
   ]
  },
  {
   "cell_type": "code",
   "execution_count": null,
   "metadata": {
    "ExecuteTime": {
     "end_time": "2024-02-09T10:09:50.906718Z",
     "start_time": "2024-02-09T10:09:47.304400Z"
    },
    "execution": {
     "iopub.execute_input": "2024-05-16T21:28:44.361235Z",
     "iopub.status.busy": "2024-05-16T21:28:44.360658Z",
     "iopub.status.idle": "2024-05-16T21:28:48.957221Z",
     "shell.execute_reply": "2024-05-16T21:28:48.956469Z"
    }
   },
   "outputs": [],
   "source": [
    "# General\n",
    "import scipy as sci\n",
    "import numpy as np\n",
    "import pandas as pd\n",
    "import logging\n",
    "import time\n",
    "import pickle\n",
    "from itertools import chain\n",
    "import session_info\n",
    "import gc # Free memory #gc.collect()\n",
    "import scipy.stats as stats\n",
    "\n",
    "# Plotting\n",
    "import matplotlib.pyplot as plt\n",
    "import matplotlib as mpl\n",
    "from matplotlib import rcParams\n",
    "from matplotlib.pyplot import rc_context\n",
    "from matplotlib import cm\n",
    "import seaborn as sb\n",
    "\n",
    "# Analysis\n",
    "import scanpy as sc\n",
    "import anndata as ad"
   ]
  },
  {
   "cell_type": "code",
   "execution_count": null,
   "metadata": {},
   "outputs": [],
   "source": [
    "import h5py\n",
    "from anndata._io.specs import read_elem"
   ]
  },
  {
   "cell_type": "code",
   "execution_count": null,
   "metadata": {
    "ExecuteTime": {
     "end_time": "2024-02-09T10:09:51.112337Z",
     "start_time": "2024-02-09T10:09:50.908708Z"
    },
    "execution": {
     "iopub.execute_input": "2024-05-16T21:28:48.965642Z",
     "iopub.status.busy": "2024-05-16T21:28:48.965367Z",
     "iopub.status.idle": "2024-05-16T21:28:49.277788Z",
     "shell.execute_reply": "2024-05-16T21:28:49.277170Z"
    }
   },
   "outputs": [],
   "source": [
    "# Settings\n",
    "\n",
    "import warnings\n",
    "warnings.filterwarnings(\"ignore\")\n",
    "\n",
    "## Directory\n",
    "base_dir = '/mnt/hdd/'\n",
    "data_dir = 'data/Healthy/'\n",
    "nb_dir = 'Notebooks/Gut_project/'\n",
    "sc.settings.figdir = base_dir + nb_dir + 'Figures'\n",
    "sc.settings.cachedir = base_dir + 'Cache'\n",
    "\n",
    "## Scanpy settings\n",
    "sc.settings.verbosity = 3\n",
    "sc.logging.print_versions()\n",
    "session_info.show()"
   ]
  },
  {
   "cell_type": "code",
   "execution_count": null,
   "metadata": {},
   "outputs": [],
   "source": [
    "%run utils.ipynb"
   ]
  },
  {
   "cell_type": "code",
   "execution_count": null,
   "metadata": {},
   "outputs": [],
   "source": [
    "mymap = load_RdOrYl_cmap_settings()"
   ]
  },
  {
   "cell_type": "markdown",
   "metadata": {},
   "source": [
    "# Setup R"
   ]
  },
  {
   "cell_type": "code",
   "execution_count": null,
   "metadata": {
    "ExecuteTime": {
     "end_time": "2024-02-09T10:09:51.840287Z",
     "start_time": "2024-02-09T10:09:51.147793Z"
    },
    "execution": {
     "iopub.execute_input": "2024-05-16T21:28:49.324580Z",
     "iopub.status.busy": "2024-05-16T21:28:49.324442Z",
     "iopub.status.idle": "2024-05-16T21:28:50.015858Z",
     "shell.execute_reply": "2024-05-16T21:28:50.015261Z"
    }
   },
   "outputs": [],
   "source": [
    "#R\n",
    "import rpy2\n",
    "import rpy2.robjects as ro\n",
    "import rpy2.rinterface_lib.callbacks\n",
    "from rpy2.robjects import pandas2ri\n",
    "import anndata2ri\n",
    "setup_R('/home/scanalysis/mnt/envs/scUV/lib/R')"
   ]
  },
  {
   "cell_type": "code",
   "execution_count": null,
   "metadata": {
    "ExecuteTime": {
     "end_time": "2024-02-09T10:09:51.855044Z",
     "start_time": "2024-02-09T10:09:51.841716Z"
    },
    "execution": {
     "iopub.execute_input": "2024-05-16T21:28:50.024441Z",
     "iopub.status.busy": "2024-05-16T21:28:50.024293Z",
     "iopub.status.idle": "2024-05-16T21:28:50.040536Z",
     "shell.execute_reply": "2024-05-16T21:28:50.040007Z"
    }
   },
   "outputs": [],
   "source": [
    "%%R\n",
    "\n",
    ".libPaths()"
   ]
  },
  {
   "cell_type": "code",
   "execution_count": null,
   "metadata": {
    "ExecuteTime": {
     "end_time": "2024-02-09T10:09:52.183153Z",
     "start_time": "2024-02-09T10:09:51.856196Z"
    },
    "execution": {
     "iopub.execute_input": "2024-05-16T21:28:50.048589Z",
     "iopub.status.busy": "2024-05-16T21:28:50.048441Z",
     "iopub.status.idle": "2024-05-16T21:28:50.519596Z",
     "shell.execute_reply": "2024-05-16T21:28:50.519157Z"
    }
   },
   "outputs": [],
   "source": [
    "%%R\n",
    "# Parallelization\n",
    "library(BiocParallel)\n",
    "register(MulticoreParam(20, progressbar = TRUE))\n",
    "\n",
    "library(future)\n",
    "plan(\"multicore\", workers = 20)\n",
    "options(future.globals.maxSize = 64 * 1024^2)\n",
    "plan()\n",
    "\n",
    "library(doParallel)\n",
    "registerDoParallel(20)\n",
    "\n",
    "sessionInfo()"
   ]
  },
  {
   "cell_type": "markdown",
   "metadata": {},
   "source": [
    "# Load Data"
   ]
  },
  {
   "cell_type": "code",
   "execution_count": null,
   "metadata": {},
   "outputs": [],
   "source": [
    "adata = sc.read_h5ad('/mnt/hdd/Notebooks/Gut_project/Dbtl_detected_velocyto_scran_diseased_sct.h5ad')"
   ]
  },
  {
   "cell_type": "code",
   "execution_count": null,
   "metadata": {},
   "outputs": [],
   "source": [
    "adata"
   ]
  },
  {
   "cell_type": "code",
   "execution_count": null,
   "metadata": {
    "ExecuteTime": {
     "end_time": "2024-02-09T10:10:04.033496Z",
     "start_time": "2024-02-09T10:10:03.884206Z"
    },
    "execution": {
     "iopub.execute_input": "2024-05-16T21:29:08.004136Z",
     "iopub.status.busy": "2024-05-16T21:29:08.003892Z",
     "iopub.status.idle": "2024-05-16T21:29:08.013852Z",
     "shell.execute_reply": "2024-05-16T21:29:08.013291Z"
    }
   },
   "outputs": [],
   "source": [
    "all_cc_genes, s_genes_regev, g2m_genes_regev, cc_genes_regev, cc_genes_macosko, s_genes_macosko, g2m_genes_macosko, m_genes_macosko, mg1_genes_macosko, g1s_genes_macosko = load_cell_cycle_genes(adata, genome ='mus_musculus')"
   ]
  },
  {
   "cell_type": "markdown",
   "metadata": {},
   "source": [
    "# Cell Cycle Scoring"
   ]
  },
  {
   "cell_type": "code",
   "execution_count": null,
   "metadata": {
    "ExecuteTime": {
     "end_time": "2024-02-09T10:10:06.371204Z",
     "start_time": "2024-02-09T10:10:04.035089Z"
    },
    "execution": {
     "iopub.execute_input": "2024-05-16T21:29:08.019222Z",
     "iopub.status.busy": "2024-05-16T21:29:08.019077Z",
     "iopub.status.idle": "2024-05-16T21:29:12.619416Z",
     "shell.execute_reply": "2024-05-16T21:29:12.618760Z"
    }
   },
   "outputs": [],
   "source": [
    "sc.tl.score_genes_cell_cycle(adata, s_genes=s_genes_regev, g2m_genes=g2m_genes_regev)"
   ]
  },
  {
   "cell_type": "code",
   "execution_count": null,
   "metadata": {
    "ExecuteTime": {
     "end_time": "2024-02-09T10:10:06.381796Z",
     "start_time": "2024-02-09T10:10:06.372527Z"
    },
    "execution": {
     "iopub.execute_input": "2024-05-16T21:29:12.628468Z",
     "iopub.status.busy": "2024-05-16T21:29:12.628339Z",
     "iopub.status.idle": "2024-05-16T21:29:12.640063Z",
     "shell.execute_reply": "2024-05-16T21:29:12.639437Z"
    }
   },
   "outputs": [],
   "source": [
    "adata.obs['proliferation'] = list(adata.obs['phase'].isin(['G2M','S']))\n",
    "adata.obs['proliferation'][adata.obs['proliferation']==True] = 'Cycling'\n",
    "adata.obs['proliferation'][adata.obs['proliferation']==False] = 'Non-Cycling'"
   ]
  },
  {
   "cell_type": "code",
   "execution_count": null,
   "metadata": {
    "ExecuteTime": {
     "end_time": "2024-02-09T10:10:08.107695Z",
     "start_time": "2024-02-09T10:10:06.383149Z"
    },
    "execution": {
     "iopub.execute_input": "2024-05-16T21:29:12.650646Z",
     "iopub.status.busy": "2024-05-16T21:29:12.650524Z",
     "iopub.status.idle": "2024-05-16T21:29:14.822532Z",
     "shell.execute_reply": "2024-05-16T21:29:14.821860Z"
    }
   },
   "outputs": [],
   "source": [
    "sc.pl.umap(adata, color=['S_score', 'G2M_score','phase','proliferation'], size=15, add_outline=True, alpha=1, outline_width=(0.3, 0.0), cmap = mymap)"
   ]
  },
  {
   "cell_type": "raw",
   "metadata": {
    "ExecuteTime": {
     "end_time": "2024-02-09T10:10:08.116177Z",
     "start_time": "2024-02-09T10:10:08.109120Z"
    },
    "execution": {
     "iopub.execute_input": "2024-05-16T21:29:14.856026Z",
     "iopub.status.busy": "2024-05-16T21:29:14.855785Z",
     "iopub.status.idle": "2024-05-16T21:29:14.870369Z",
     "shell.execute_reply": "2024-05-16T21:29:14.869766Z"
    },
    "vscode": {
     "languageId": "raw"
    }
   },
   "source": [
    "adata.obs.loc[:,['S_score', 'G2M_score','phase','proliferation']] = adata.obs.loc[:,['S_score', 'G2M_score','phase','proliferation']].copy()"
   ]
  },
  {
   "cell_type": "markdown",
   "metadata": {},
   "source": [
    "# WNN\n",
    "\n",
    "Using Scran and TF-IDF normalizations"
   ]
  },
  {
   "cell_type": "code",
   "execution_count": null,
   "metadata": {
    "execution": {
     "iopub.execute_input": "2024-05-16T21:29:14.877912Z",
     "iopub.status.busy": "2024-05-16T21:29:14.877787Z",
     "iopub.status.idle": "2024-05-16T21:29:17.073097Z",
     "shell.execute_reply": "2024-05-16T21:29:17.072502Z"
    }
   },
   "outputs": [],
   "source": [
    "adata.X = adata.layers['scran_counts'].copy()\n",
    "sc.pp.highly_variable_genes(adata)"
   ]
  },
  {
   "cell_type": "code",
   "execution_count": null,
   "metadata": {
    "execution": {
     "iopub.execute_input": "2024-05-16T21:29:17.083465Z",
     "iopub.status.busy": "2024-05-16T21:29:17.083248Z",
     "iopub.status.idle": "2024-05-16T21:29:17.103514Z",
     "shell.execute_reply": "2024-05-16T21:29:17.102872Z"
    }
   },
   "outputs": [],
   "source": [
    "# Get HVGs and overlap with cell cycle & ambient genes\n",
    "\n",
    "## HVGs from SCT\n",
    "hvgs = pd.Series(adata.var_names[adata.var['highly_variable']])\n",
    "print('\\nHighly variable genes before filtering:',adata.var.loc[:,'highly_variable'].value_counts()[1])\n",
    "\n",
    "# overlap HVGs with CC genes\n",
    "hvcc = list(hvgs[hvgs.isin(all_cc_genes)])\n",
    "print('\\nHighly variable cell cycle genes:',len(hvcc),'\\n',hvcc)\n",
    "\n",
    "# overlap HVGs with ambient genes\n",
    "hvambi = list(hvgs[hvgs.isin(list(adata[:,adata.var['is_ambient'] == True].var_names))])\n",
    "print('\\nHighly variable ambient genes:',len(hvambi),'\\n',hvambi)\n",
    "\n",
    "# remove cell cycle genes\n",
    "adata.var.loc[hvcc,'highly_variable'] = False\n",
    "\n",
    "# remove ambient genes\n",
    "adata.var.loc[hvambi,'highly_variable'] = False\n",
    "\n",
    "print('\\nHighly variable genes after filtering:',adata.var.loc[:,'highly_variable'].value_counts()[1])"
   ]
  },
  {
   "cell_type": "code",
   "execution_count": null,
   "metadata": {
    "execution": {
     "iopub.execute_input": "2024-05-16T21:29:17.113775Z",
     "iopub.status.busy": "2024-05-16T21:29:17.113606Z",
     "iopub.status.idle": "2024-05-16T21:29:45.907681Z",
     "shell.execute_reply": "2024-05-16T21:29:45.906999Z"
    }
   },
   "outputs": [],
   "source": [
    "sc.pp.pca(adata, svd_solver='arpack', use_highly_variable=True)\n",
    "sc.pp.neighbors(adata)"
   ]
  },
  {
   "cell_type": "code",
   "execution_count": null,
   "metadata": {
    "ExecuteTime": {
     "end_time": "2024-02-09T10:14:36.821968Z",
     "start_time": "2024-02-09T10:14:25.925209Z"
    },
    "execution": {
     "iopub.execute_input": "2024-05-16T21:32:49.555131Z",
     "iopub.status.busy": "2024-05-16T21:32:49.554976Z",
     "iopub.status.idle": "2024-05-16T21:33:06.564717Z",
     "shell.execute_reply": "2024-05-16T21:33:06.564043Z"
    }
   },
   "outputs": [],
   "source": [
    "sc.tl.umap(adata)"
   ]
  },
  {
   "cell_type": "code",
   "execution_count": null,
   "metadata": {
    "ExecuteTime": {
     "end_time": "2024-02-09T10:14:38.508169Z",
     "start_time": "2024-02-09T10:14:36.823463Z"
    },
    "execution": {
     "iopub.execute_input": "2024-05-16T21:33:06.575827Z",
     "iopub.status.busy": "2024-05-16T21:33:06.575498Z",
     "iopub.status.idle": "2024-05-16T21:33:08.695845Z",
     "shell.execute_reply": "2024-05-16T21:33:08.695192Z"
    }
   },
   "outputs": [],
   "source": [
    "sc.pl.umap(adata, color=['sample','final_doublets_cat','doublet_calls'], size=10, add_outline=True, alpha=1, outline_width=(0.3, 0.0), ncols=4, wspace=1.05, cmap = mymap)"
   ]
  },
  {
   "cell_type": "markdown",
   "metadata": {},
   "source": [
    "# Initial Clustering"
   ]
  },
  {
   "cell_type": "code",
   "execution_count": null,
   "metadata": {
    "ExecuteTime": {
     "end_time": "2024-02-09T10:17:18.689784Z",
     "start_time": "2024-02-09T10:14:38.509562Z"
    },
    "execution": {
     "iopub.execute_input": "2024-05-16T21:33:08.726863Z",
     "iopub.status.busy": "2024-05-16T21:33:08.726519Z",
     "iopub.status.idle": "2024-05-16T21:38:23.934255Z",
     "shell.execute_reply": "2024-05-16T21:38:23.933578Z"
    },
    "scrolled": true
   },
   "outputs": [],
   "source": [
    "#sc.tl.leiden(adata, resolution=0.1, key_added='leiden_r0.1')\n",
    "#sc.tl.leiden(adata, resolution=0.2, key_added='leiden_r0.2')\n",
    "#sc.tl.leiden(adata, resolution=0.3, key_added='leiden_r0.3')\n",
    "#sc.tl.leiden(adata, resolution=0.4, key_added='leiden_r0.4')\n",
    "#sc.tl.leiden(adata, resolution=0.5, key_added='leiden_r0.5')\n",
    "#sc.tl.leiden(adata, resolution=0.6, key_added='leiden_r0.6')\n",
    "sc.tl.leiden(adata, resolution=0.7, key_added='leiden_r0.7')\n",
    "sc.tl.leiden(adata, resolution=0.8, key_added='leiden_r0.8')\n",
    "sc.tl.leiden(adata, resolution=0.9, key_added='leiden_r0.9')\n",
    "sc.tl.leiden(adata, resolution=1, key_added='leiden_r1')\n",
    "\n",
    "sc.tl.leiden(adata, resolution=1.25, key_added='leiden_r1.25')\n",
    "sc.tl.leiden(adata, resolution=1.5, key_added='leiden_r1.5')\n",
    "sc.tl.leiden(adata, resolution=1.75, key_added='leiden_r1.75')\n",
    "sc.tl.leiden(adata, resolution=2, key_added='leiden_r2')\n",
    "sc.tl.leiden(adata, resolution=2.25, key_added='leiden_r2.25')\n",
    "sc.tl.leiden(adata, resolution=2.5, key_added='leiden_r2.5')\n",
    "#sc.tl.leiden(adata, resolution=2.75, key_added='leiden_r2.75')\n",
    "#sc.tl.leiden(adata, resolution=3, key_added='leiden_r3')"
   ]
  },
  {
   "cell_type": "code",
   "execution_count": null,
   "metadata": {
    "ExecuteTime": {
     "end_time": "2024-02-09T10:17:18.925606Z",
     "start_time": "2024-02-09T10:17:18.692049Z"
    },
    "execution": {
     "iopub.execute_input": "2024-05-16T21:38:23.943052Z",
     "iopub.status.busy": "2024-05-16T21:38:23.942923Z",
     "iopub.status.idle": "2024-05-16T21:38:24.114345Z",
     "shell.execute_reply": "2024-05-16T21:38:24.113669Z"
    }
   },
   "outputs": [],
   "source": [
    "# Generate reduced adata object to pass to R\n",
    "adata_r = ad.AnnData(X = adata.layers['sct_logcounts'].copy())\n",
    "adata_r.var_names = adata.var_names.copy()\n",
    "adata_r.obs_names = adata.obs_names.copy()\n",
    "adata_r.obs = adata.obs.loc[:,['leiden_r0.7','leiden_r0.8','leiden_r0.9','leiden_r1','leiden_r1.25','leiden_r1.5','leiden_r1.75','leiden_r2','leiden_r2.25','leiden_r2.5']].copy()\n",
    "#adata_r.obs = adata.obs.loc[:,['leiden_r0.1','leiden_r0.2','leiden_r0.3','leiden_r0.4','leiden_r0.5','leiden_r0.6','leiden_r0.7','leiden_r0.8','leiden_r0.9','leiden_r1','leiden_r1.25','leiden_r1.5','leiden_r1.75','leiden_r2','leiden_r2.25','leiden_r2.5','leiden_r2.75','leiden_r3']].copy()"
   ]
  },
  {
   "cell_type": "code",
   "execution_count": null,
   "metadata": {
    "ExecuteTime": {
     "end_time": "2024-02-09T10:17:22.899083Z",
     "start_time": "2024-02-09T10:17:18.927310Z"
    },
    "execution": {
     "iopub.execute_input": "2024-05-16T21:38:24.118823Z",
     "iopub.status.busy": "2024-05-16T21:38:24.118676Z",
     "iopub.status.idle": "2024-05-16T21:38:28.578835Z",
     "shell.execute_reply": "2024-05-16T21:38:28.578202Z"
    }
   },
   "outputs": [],
   "source": [
    "%%R\n",
    "library(SingleCellExperiment)\n",
    "library(clustree)"
   ]
  },
  {
   "cell_type": "code",
   "execution_count": null,
   "metadata": {
    "ExecuteTime": {
     "end_time": "2024-02-09T10:17:59.277972Z",
     "start_time": "2024-02-09T10:17:22.900412Z"
    },
    "execution": {
     "iopub.execute_input": "2024-05-16T21:38:28.601298Z",
     "iopub.status.busy": "2024-05-16T21:38:28.600938Z",
     "iopub.status.idle": "2024-05-16T21:39:09.313017Z",
     "shell.execute_reply": "2024-05-16T21:39:09.312383Z"
    }
   },
   "outputs": [],
   "source": [
    "%%R -i adata_r\n",
    "\n",
    "clustree(adata_r, prefix = 'leiden_r', exprs='X')"
   ]
  },
  {
   "cell_type": "code",
   "execution_count": null,
   "metadata": {
    "ExecuteTime": {
     "end_time": "2024-02-09T10:18:08.800765Z",
     "start_time": "2024-02-09T10:17:59.279214Z"
    },
    "execution": {
     "iopub.execute_input": "2024-05-16T21:39:09.326090Z",
     "iopub.status.busy": "2024-05-16T21:39:09.325851Z",
     "iopub.status.idle": "2024-05-16T21:39:21.042490Z",
     "shell.execute_reply": "2024-05-16T21:39:21.041821Z"
    }
   },
   "outputs": [],
   "source": [
    "sc.pl.umap(adata, color=['leiden_r0.7','leiden_r0.8','leiden_r0.9','leiden_r1','leiden_r1.25','leiden_r1.5','leiden_r1.75','leiden_r2','leiden_r2.25','leiden_r2.5'], size=5, add_outline=True, alpha=1,wspace = 1, outline_width=(0.3, 0.0), ncols=4)"
   ]
  },
  {
   "cell_type": "code",
   "execution_count": null,
   "metadata": {},
   "outputs": [],
   "source": [
    "adata.X = adata.layers['sct_logcounts'].copy()"
   ]
  },
  {
   "cell_type": "code",
   "execution_count": null,
   "metadata": {
    "execution": {
     "iopub.execute_input": "2024-05-16T21:39:21.168078Z",
     "iopub.status.busy": "2024-05-16T21:39:21.167836Z",
     "iopub.status.idle": "2024-05-16T21:39:28.540141Z",
     "shell.execute_reply": "2024-05-16T21:39:28.539458Z"
    }
   },
   "outputs": [],
   "source": [
    "sc.pl.umap(adata, color=['Neurog3','Tph1','Isl1','Pou2f3','Lgr5','Dmbt1','Hmgb2','Top2a','Defa24','Sis','Sox4','Spdef','Dll1','Lyz1', 'Cd52'], size=12, add_outline=True, alpha=1, outline_width=(0.3, 0.0), ncols=4, color_map=mymap)"
   ]
  },
  {
   "cell_type": "code",
   "execution_count": null,
   "metadata": {
    "ExecuteTime": {
     "end_time": "2024-02-09T10:18:14.603854Z",
     "start_time": "2024-02-09T10:18:08.805108Z"
    },
    "execution": {
     "iopub.execute_input": "2024-05-16T21:39:28.634789Z",
     "iopub.status.busy": "2024-05-16T21:39:28.634646Z",
     "iopub.status.idle": "2024-05-16T21:39:40.999436Z",
     "shell.execute_reply": "2024-05-16T21:39:40.998771Z"
    }
   },
   "outputs": [],
   "source": [
    "adata.obs['leiden']=adata.obs['leiden_r0.7'].copy()\n",
    "adata.uns['leiden_colors'] = adata.uns['leiden_r0.7_colors'].copy()"
   ]
  },
  {
   "cell_type": "code",
   "execution_count": null,
   "metadata": {},
   "outputs": [],
   "source": [
    "adata"
   ]
  },
  {
   "cell_type": "markdown",
   "metadata": {},
   "source": [
    "### clean up obs, var, uns"
   ]
  },
  {
   "cell_type": "code",
   "execution_count": null,
   "metadata": {},
   "outputs": [],
   "source": [
    "adata.obs = adata.obs.loc[:,['sample', 'n_counts', 'log_counts', 'n_counts_rank', 'n_genes', 'log_genes', 'mt_frac', 'rp_frac', 'ambi_frac','is_paneth', 'final_doublets', 'final_doublets_cat', 'doublet_calls', 'cells_remain','batch','leiden', 'size_factors', 'S_score', 'G2M_score', 'phase', 'proliferation']]"
   ]
  },
  {
   "cell_type": "code",
   "execution_count": null,
   "metadata": {},
   "outputs": [],
   "source": [
    "gc.collect()"
   ]
  },
  {
   "cell_type": "code",
   "execution_count": null,
   "metadata": {},
   "outputs": [],
   "source": [
    "uns_to_drop = ['leiden_r0.7', 'leiden_r0.8', 'leiden_r0.9', 'leiden_r1', 'leiden_r1.25', 'leiden_r1.5', 'leiden_r1.75', 'leiden_r2', 'leiden_r2.25', 'leiden_r2.5', 'leiden_r0.7_colors', 'leiden_r0.8_colors', 'leiden_r0.9_colors', 'leiden_r1_colors', 'leiden_r1.25_colors', 'leiden_r1.5_colors', 'leiden_r1.75_colors', 'leiden_r2_colors', 'leiden_r2.25_colors', 'leiden_r2.5_colors']"
   ]
  },
  {
   "cell_type": "code",
   "execution_count": null,
   "metadata": {},
   "outputs": [],
   "source": [
    "for uns in uns_to_drop:\n",
    "    del adata.uns[uns]"
   ]
  },
  {
   "cell_type": "code",
   "execution_count": null,
   "metadata": {},
   "outputs": [],
   "source": [
    "adata"
   ]
  },
  {
   "cell_type": "code",
   "execution_count": null,
   "metadata": {},
   "outputs": [],
   "source": [
    "sc.pl.umap(adata, color=['leiden','Lgr5'], size=10, add_outline=True, alpha=1, outline_width=(0.3, 0.0), ncols=2, legend_loc='on data', cmap = mymap)"
   ]
  },
  {
   "cell_type": "code",
   "execution_count": null,
   "metadata": {
    "ExecuteTime": {
     "end_time": "2024-02-09T10:18:16.724177Z",
     "start_time": "2024-02-09T10:18:14.605263Z"
    },
    "execution": {
     "iopub.execute_input": "2024-05-16T21:39:41.008722Z",
     "iopub.status.busy": "2024-05-16T21:39:41.008444Z",
     "iopub.status.idle": "2024-05-16T21:39:43.686529Z",
     "shell.execute_reply": "2024-05-16T21:39:43.685878Z"
    }
   },
   "outputs": [],
   "source": [
    "sc.pl.umap(adata, color=['sample','leiden','phase', 'Lgr5','final_doublets_cat','doublet_calls'], size=10, add_outline=True, alpha=1, wspace =0.9, outline_width=(0.3, 0.0), ncols=2, cmap = mymap)"
   ]
  },
  {
   "cell_type": "code",
   "execution_count": null,
   "metadata": {
    "ExecuteTime": {
     "end_time": "2024-02-09T10:18:16.769379Z",
     "start_time": "2024-02-09T10:18:16.725640Z"
    },
    "execution": {
     "iopub.execute_input": "2024-05-16T21:39:43.725471Z",
     "iopub.status.busy": "2024-05-16T21:39:43.725220Z",
     "iopub.status.idle": "2024-05-16T21:39:43.924807Z",
     "shell.execute_reply": "2024-05-16T21:39:43.924157Z"
    }
   },
   "outputs": [],
   "source": [
    "sc.tl.leiden(adata, restrict_to=('leiden', ['5']), resolution=0.2, key_added='leiden_sub1')"
   ]
  },
  {
   "cell_type": "code",
   "execution_count": null,
   "metadata": {
    "ExecuteTime": {
     "end_time": "2024-02-09T10:18:18.918333Z",
     "start_time": "2024-02-09T10:18:16.770644Z"
    },
    "execution": {
     "iopub.execute_input": "2024-05-16T21:39:43.935383Z",
     "iopub.status.busy": "2024-05-16T21:39:43.934787Z",
     "iopub.status.idle": "2024-05-16T21:39:46.930750Z",
     "shell.execute_reply": "2024-05-16T21:39:46.930086Z"
    }
   },
   "outputs": [],
   "source": [
    "sc.pl.umap(adata, color=['leiden_sub1','phase','final_doublets_cat', 'Lgr5'], size=10, add_outline=True, alpha=1, outline_width=(0.3, 0.0), wspace =0.65, ncols=2, cmap = mymap)"
   ]
  },
  {
   "cell_type": "code",
   "execution_count": null,
   "metadata": {
    "execution": {
     "iopub.execute_input": "2024-05-16T21:39:46.967404Z",
     "iopub.status.busy": "2024-05-16T21:39:46.967166Z",
     "iopub.status.idle": "2024-05-16T21:39:49.454401Z",
     "shell.execute_reply": "2024-05-16T21:39:49.453838Z"
    }
   },
   "outputs": [],
   "source": [
    "sc.tl.leiden(adata, restrict_to=('leiden_sub1', ['5,2']), resolution=0.3, key_added='leiden_sub2')"
   ]
  },
  {
   "cell_type": "code",
   "execution_count": null,
   "metadata": {
    "execution": {
     "iopub.execute_input": "2024-05-16T21:39:49.469037Z",
     "iopub.status.busy": "2024-05-16T21:39:49.468886Z",
     "iopub.status.idle": "2024-05-16T21:39:52.221816Z",
     "shell.execute_reply": "2024-05-16T21:39:52.221169Z"
    }
   },
   "outputs": [],
   "source": [
    "sc.pl.umap(adata, color=['leiden_sub2','phase','final_doublets_cat','Lgr5'], size=10, add_outline=True, alpha=1, outline_width=(0.3, 0.0), ncols=5, cmap = mymap)"
   ]
  },
  {
   "cell_type": "code",
   "execution_count": null,
   "metadata": {
    "execution": {
     "iopub.execute_input": "2024-05-16T21:39:52.264118Z",
     "iopub.status.busy": "2024-05-16T21:39:52.263879Z",
     "iopub.status.idle": "2024-05-16T21:39:52.559107Z",
     "shell.execute_reply": "2024-05-16T21:39:52.558460Z"
    }
   },
   "outputs": [],
   "source": [
    "sc.tl.leiden(adata, restrict_to=('leiden_sub2', ['5,1']), resolution=0.3, key_added='leiden_sub3')"
   ]
  },
  {
   "cell_type": "code",
   "execution_count": null,
   "metadata": {
    "execution": {
     "iopub.execute_input": "2024-05-16T21:39:52.567663Z",
     "iopub.status.busy": "2024-05-16T21:39:52.567517Z",
     "iopub.status.idle": "2024-05-16T21:39:55.336001Z",
     "shell.execute_reply": "2024-05-16T21:39:55.335329Z"
    }
   },
   "outputs": [],
   "source": [
    "sc.pl.umap(adata, color=['leiden_sub3','Lgr5','phase','final_doublets_cat'], size=10, add_outline=True, alpha=1, outline_width=(0.3, 0.0), ncols=5, cmap = mymap)"
   ]
  },
  {
   "cell_type": "code",
   "execution_count": null,
   "metadata": {
    "execution": {
     "iopub.execute_input": "2024-05-16T21:39:55.371868Z",
     "iopub.status.busy": "2024-05-16T21:39:55.371631Z",
     "iopub.status.idle": "2024-05-16T21:39:57.330018Z",
     "shell.execute_reply": "2024-05-16T21:39:57.329327Z"
    }
   },
   "outputs": [],
   "source": [
    "sc.tl.leiden(adata, restrict_to=('leiden_sub3', ['5,0']), resolution=0.3, key_added='leiden_sub4')"
   ]
  },
  {
   "cell_type": "code",
   "execution_count": null,
   "metadata": {
    "execution": {
     "iopub.execute_input": "2024-05-16T21:39:57.338507Z",
     "iopub.status.busy": "2024-05-16T21:39:57.338360Z",
     "iopub.status.idle": "2024-05-16T21:40:00.176687Z",
     "shell.execute_reply": "2024-05-16T21:40:00.175990Z"
    }
   },
   "outputs": [],
   "source": [
    "sc.pl.umap(adata, color=['leiden_sub4','phase','Lgr5'], size=10, add_outline=True, alpha=1, outline_width=(0.3, 0.0), ncols=5, cmap = mymap)"
   ]
  },
  {
   "cell_type": "code",
   "execution_count": null,
   "metadata": {},
   "outputs": [],
   "source": [
    "sc.tl.leiden(adata, restrict_to=('leiden_sub4', ['5,4']), resolution=0.4, key_added='leiden_sub5')"
   ]
  },
  {
   "cell_type": "code",
   "execution_count": null,
   "metadata": {},
   "outputs": [],
   "source": [
    "sc.pl.umap(adata, color=['leiden_sub5','phase','Lgr5'], size=10, add_outline=True, alpha=1, outline_width=(0.3, 0.0), ncols=5, cmap = mymap)"
   ]
  },
  {
   "cell_type": "code",
   "execution_count": null,
   "metadata": {},
   "outputs": [],
   "source": [
    "sc.tl.leiden(adata, restrict_to=('leiden_sub5', ['2']), resolution=0.3, key_added='leiden_sub6')"
   ]
  },
  {
   "cell_type": "code",
   "execution_count": null,
   "metadata": {},
   "outputs": [],
   "source": [
    "sc.pl.umap(adata, color=['leiden_sub6','phase','Lgr5'], size=10, add_outline=True, alpha=1, outline_width=(0.3, 0.0), ncols=3, wspace =0.7, cmap = mymap)"
   ]
  },
  {
   "cell_type": "code",
   "execution_count": null,
   "metadata": {},
   "outputs": [],
   "source": [
    "sc.tl.leiden(adata, restrict_to=('leiden_sub6', ['0']), resolution=0.3, key_added='leiden_sub7')"
   ]
  },
  {
   "cell_type": "code",
   "execution_count": null,
   "metadata": {},
   "outputs": [],
   "source": [
    "sc.pl.umap(adata, color=['leiden_sub7','phase','Lgr5'], size=10, add_outline=True, alpha=1, outline_width=(0.3, 0.0), ncols=5, cmap = mymap)"
   ]
  },
  {
   "cell_type": "code",
   "execution_count": null,
   "metadata": {},
   "outputs": [],
   "source": [
    "sc.tl.leiden(adata, restrict_to=('leiden_sub7', ['1']), resolution=0.4, key_added='leiden_sub8')"
   ]
  },
  {
   "cell_type": "code",
   "execution_count": null,
   "metadata": {},
   "outputs": [],
   "source": [
    "sc.pl.umap(adata, color=['leiden_sub8','phase','Lgr5'], size=10, add_outline=True, alpha=1, outline_width=(0.3, 0.0), ncols=5, cmap = mymap)"
   ]
  },
  {
   "cell_type": "code",
   "execution_count": null,
   "metadata": {},
   "outputs": [],
   "source": [
    "sc.tl.leiden(adata, restrict_to=('leiden_sub8', ['12']), resolution=0.4, key_added='leiden_sub9')"
   ]
  },
  {
   "cell_type": "code",
   "execution_count": null,
   "metadata": {},
   "outputs": [],
   "source": [
    "sc.pl.umap(adata, color=['leiden_sub9','phase','Lgr5'], size=10, add_outline=True, alpha=1, outline_width=(0.3, 0.0), ncols=5, cmap = mymap)"
   ]
  },
  {
   "cell_type": "code",
   "execution_count": null,
   "metadata": {},
   "outputs": [],
   "source": [
    "sc.tl.leiden(adata, restrict_to=('leiden_sub9', ['19']), resolution=0.2, key_added='leiden_sub10')"
   ]
  },
  {
   "cell_type": "code",
   "execution_count": null,
   "metadata": {},
   "outputs": [],
   "source": [
    "sc.pl.umap(adata, color=['leiden_sub10','Isl1','Neurog3'], size=10, add_outline=True, alpha=1, outline_width=(0.3, 0.0), ncols=5, cmap = mymap)"
   ]
  },
  {
   "cell_type": "code",
   "execution_count": null,
   "metadata": {
    "ExecuteTime": {
     "end_time": "2024-02-09T10:18:19.073827Z",
     "start_time": "2024-02-09T10:18:19.069591Z"
    },
    "execution": {
     "iopub.execute_input": "2024-05-16T21:40:00.351628Z",
     "iopub.status.busy": "2024-05-16T21:40:00.351499Z",
     "iopub.status.idle": "2024-05-16T21:40:00.360135Z",
     "shell.execute_reply": "2024-05-16T21:40:00.359534Z"
    }
   },
   "outputs": [],
   "source": [
    "adata.obs['leiden_wnn'] = adata.obs['leiden_sub10']"
   ]
  },
  {
   "cell_type": "markdown",
   "metadata": {},
   "source": [
    "# Initial Annotation"
   ]
  },
  {
   "cell_type": "code",
   "execution_count": null,
   "metadata": {
    "ExecuteTime": {
     "end_time": "2024-02-09T10:18:19.097192Z",
     "start_time": "2024-02-09T10:18:19.074826Z"
    },
    "execution": {
     "iopub.execute_input": "2024-05-16T21:40:00.366073Z",
     "iopub.status.busy": "2024-05-16T21:40:00.365951Z",
     "iopub.status.idle": "2024-05-16T21:40:00.388893Z",
     "shell.execute_reply": "2024-05-16T21:40:00.388377Z"
    }
   },
   "outputs": [],
   "source": [
    "if 'log1p' in adata.uns.keys():\n",
    "    del adata.uns['log1p']"
   ]
  },
  {
   "cell_type": "code",
   "execution_count": null,
   "metadata": {
    "ExecuteTime": {
     "end_time": "2024-02-09T10:18:39.589996Z",
     "start_time": "2024-02-09T10:18:19.098243Z"
    },
    "execution": {
     "iopub.execute_input": "2024-05-16T21:40:00.405516Z",
     "iopub.status.busy": "2024-05-16T21:40:00.405074Z",
     "iopub.status.idle": "2024-05-16T21:40:12.991451Z",
     "shell.execute_reply": "2024-05-16T21:40:12.990747Z"
    }
   },
   "outputs": [],
   "source": [
    "sc.tl.rank_genes_groups(adata, groupby='leiden_wnn')"
   ]
  },
  {
   "cell_type": "code",
   "execution_count": null,
   "metadata": {
    "ExecuteTime": {
     "end_time": "2024-02-09T10:18:43.626916Z",
     "start_time": "2024-02-09T10:18:39.591292Z"
    },
    "execution": {
     "iopub.execute_input": "2024-05-16T21:40:12.999742Z",
     "iopub.status.busy": "2024-05-16T21:40:12.999592Z",
     "iopub.status.idle": "2024-05-16T21:40:19.177976Z",
     "shell.execute_reply": "2024-05-16T21:40:19.177241Z"
    }
   },
   "outputs": [],
   "source": [
    "with rc_context({'figure.figsize': (8,4)}):\n",
    "    sc.pl.rank_genes_groups(adata, n_genes=80, fontsize=5.5, ncols=2)"
   ]
  },
  {
   "cell_type": "code",
   "execution_count": null,
   "metadata": {
    "ExecuteTime": {
     "end_time": "2024-02-09T10:18:43.630842Z",
     "start_time": "2024-02-09T10:18:43.628305Z"
    },
    "execution": {
     "iopub.execute_input": "2024-05-16T21:40:19.228708Z",
     "iopub.status.busy": "2024-05-16T21:40:19.228338Z",
     "iopub.status.idle": "2024-05-16T21:40:19.232282Z",
     "shell.execute_reply": "2024-05-16T21:40:19.231691Z"
    }
   },
   "outputs": [],
   "source": [
    "marker_genes = ['Neurog3','Tph1','Isl1','Pou2f3','Lgr5','Dmbt1','Hmgb2','Top2a','Defa24','Sis','Cd52','Muc2','Dll1','Lyz1', 'Epcam', 'Itln1']"
   ]
  },
  {
   "cell_type": "code",
   "execution_count": null,
   "metadata": {},
   "outputs": [],
   "source": [
    "adata.X =adata.layers['sct_logcounts'].copy()"
   ]
  },
  {
   "cell_type": "code",
   "execution_count": null,
   "metadata": {},
   "outputs": [],
   "source": [
    "adata"
   ]
  },
  {
   "cell_type": "code",
   "execution_count": null,
   "metadata": {
    "ExecuteTime": {
     "end_time": "2024-02-09T10:18:48.467838Z",
     "start_time": "2024-02-09T10:18:43.632244Z"
    },
    "execution": {
     "iopub.execute_input": "2024-05-16T21:40:19.236862Z",
     "iopub.status.busy": "2024-05-16T21:40:19.236645Z",
     "iopub.status.idle": "2024-05-16T21:40:27.539251Z",
     "shell.execute_reply": "2024-05-16T21:40:27.538561Z"
    }
   },
   "outputs": [],
   "source": [
    "sc.pl.umap(adata, color=marker_genes+['leiden_wnn'], size=12, add_outline=True, alpha=1, outline_width=(0.3, 0.0), ncols=4, color_map=mymap)"
   ]
  },
  {
   "cell_type": "code",
   "execution_count": null,
   "metadata": {},
   "outputs": [],
   "source": [
    "sc.tl.dendrogram(adata, groupby='leiden_wnn', var_names=marker_genes, key_added='marker_gene_dendrogram')"
   ]
  },
  {
   "cell_type": "code",
   "execution_count": null,
   "metadata": {},
   "outputs": [],
   "source": [
    "sc.pl.DotPlot(adata, var_names=marker_genes, groupby='leiden_wnn', cmap=mymap, use_raw=False, categories_order=adata.uns['marker_gene_dendrogram']['categories_ordered']).style(color_on='square', dot_edge_lw=1, grid=True, dot_min=0.15, dot_edge_color=None).show()"
   ]
  },
  {
   "cell_type": "code",
   "execution_count": null,
   "metadata": {
    "ExecuteTime": {
     "end_time": "2024-02-09T10:18:56.648787Z",
     "start_time": "2024-02-09T10:18:48.469149Z"
    },
    "execution": {
     "iopub.execute_input": "2024-05-16T21:40:27.682545Z",
     "iopub.status.busy": "2024-05-16T21:40:27.682303Z",
     "iopub.status.idle": "2024-05-16T21:40:41.411812Z",
     "shell.execute_reply": "2024-05-16T21:40:41.411152Z"
    }
   },
   "outputs": [],
   "source": [
    "sc.pl.dotplot(adata,dendrogram='marker_gene_dendrogram', var_names=marker_genes, groupby='leiden_wnn', cmap=mymap, use_raw=False)"
   ]
  },
  {
   "cell_type": "code",
   "execution_count": null,
   "metadata": {},
   "outputs": [],
   "source": [
    "pd.set_option('display.max_rows', 100)\n",
    "pd.set_option('display.max_columns', 100)"
   ]
  },
  {
   "cell_type": "code",
   "execution_count": null,
   "metadata": {
    "ExecuteTime": {
     "end_time": "2024-02-09T10:18:56.712877Z",
     "start_time": "2024-02-09T10:18:56.650141Z"
    },
    "execution": {
     "iopub.execute_input": "2024-05-16T21:40:41.427815Z",
     "iopub.status.busy": "2024-05-16T21:40:41.427579Z",
     "iopub.status.idle": "2024-05-16T21:40:41.678101Z",
     "shell.execute_reply": "2024-05-16T21:40:41.677472Z"
    }
   },
   "outputs": [],
   "source": [
    "groupby = 'leiden_wnn'\n",
    "obs_keys = ['doublet_calls', 'S_score', 'G2M_score']\n",
    "\n",
    "df = pd.DataFrame(data = adata[:,np.in1d(adata.var_names,marker_genes)].X.toarray(), \n",
    "                  index = adata.obs_names, \n",
    "                  columns=adata.var_names[np.in1d(adata.var_names, marker_genes)].values)\n",
    "\n",
    "df[groupby]= pd.Series(adata.obs[groupby], index=df.index)\n",
    "\n",
    "if 'df_all' in globals():\n",
    "    del df_all\n",
    "    \n",
    "for i,marker in enumerate(marker_genes):\n",
    "    if i == 0:\n",
    "        df_all = pd.DataFrame(df.groupby(by=groupby)[marker].apply(np.mean).values, index=df.groupby(by=groupby)[marker].apply(np.mean).index, columns=['mean_'+marker])\n",
    "    else:\n",
    "        df_all['mean_'+marker] = df.groupby(by=groupby)[marker].apply(np.mean).values\n",
    "        \n",
    "for key in obs_keys:\n",
    "    df_all['mean_'+key] = adata.obs.groupby(by=groupby)[key].apply(np.mean).values\n",
    "        \n",
    "df_all"
   ]
  },
  {
   "cell_type": "code",
   "execution_count": null,
   "metadata": {
    "ExecuteTime": {
     "end_time": "2024-02-09T10:18:56.746130Z",
     "start_time": "2024-02-09T10:18:56.713959Z"
    },
    "execution": {
     "iopub.execute_input": "2024-05-16T21:40:41.685475Z",
     "iopub.status.busy": "2024-05-16T21:40:41.685326Z",
     "iopub.status.idle": "2024-05-16T21:40:41.728551Z",
     "shell.execute_reply": "2024-05-16T21:40:41.728040Z"
    }
   },
   "outputs": [],
   "source": [
    "for i,marker in enumerate(marker_genes):\n",
    "    df_all['lowhigh_'+marker] = pd.cut(stats.zscore(df_all['mean_'+marker]), bins=[-10, 0.5, 10], labels=['low', 'high'])\n",
    "    \n",
    "for i,marker in enumerate(['Dmbt1']):\n",
    "    df_all['lowhigh_'+marker] = pd.cut(stats.zscore(df_all['mean_'+marker]), bins=[-10, 0.3, 10], labels=['low', 'high'])\n",
    "    \n",
    "for i,marker in enumerate(['Lyz1','Sis','Defa24','Neurog3']):\n",
    "    df_all['lowhigh_'+marker] = pd.cut(stats.zscore(df_all['mean_'+marker]), bins=[-10, 1, 10], labels=['low', 'high'])\n",
    "\n",
    "for i,marker in enumerate(['Sis']):\n",
    "    df_all['lowhigh_'+marker] = pd.cut(stats.zscore(df_all['mean_'+marker]), bins=[-10, 1.2, 10], labels=['low', 'high'])\n",
    "    \n",
    "for i,marker in enumerate(['Dll1']):\n",
    "    df_all['lowhigh_'+marker] = pd.cut(stats.zscore(df_all['mean_'+marker]), bins=[-10, 1.5, 10], labels=['low', 'high'])\n",
    "\n",
    "for i,marker in enumerate(['Lgr5']):\n",
    "    df_all['lowhigh_'+marker] = pd.cut(stats.zscore(df_all['mean_'+marker]), bins=[-10, 0.3, 10], labels=['low', 'high'])\n",
    "\n",
    "for i,marker in enumerate(['Cd52']):\n",
    "    df_all['lowhigh_'+marker] = pd.cut(stats.zscore(df_all['mean_'+marker]), bins=[-10, 1, 10], labels=['low', 'high'])\n",
    "\n",
    "for i,marker in enumerate(['Epcam']):\n",
    "    df_all['lowhigh_'+marker] = pd.cut(stats.zscore(df_all['mean_'+marker]), bins=[-10, 0.4, 10], labels=['low', 'high'])\n",
    "\n",
    "for i,marker in enumerate(['Neurog3']):\n",
    "    df_all['lowhigh_'+marker] = pd.cut(stats.zscore(df_all['mean_'+marker]), bins=[-10, 1.75, 10], labels=['low', 'high'])\n",
    "    \n",
    "for i,marker in enumerate(['Tph1']):\n",
    "    df_all['lowhigh_'+marker] = pd.cut(stats.zscore(df_all['mean_'+marker]), bins=[-10, 2.5, 10], labels=['low', 'high'])\n",
    "\n",
    "for key in obs_keys:\n",
    "    df_all['lowhigh_'+key] = pd.cut(df_all['mean_'+key], bins=[-1, 0.25, 10], labels=['low', 'high'])\n",
    "    \n",
    "for key in ['doublet_calls']:\n",
    "    df_all['lowhigh_'+key] = pd.cut(df_all['mean_'+key], bins=[-10, 4, 10], labels=['low', 'high'])\n",
    "\n",
    "df_all.iloc[:,len(marker_genes + obs_keys):]"
   ]
  },
  {
   "cell_type": "code",
   "execution_count": null,
   "metadata": {
    "ExecuteTime": {
     "end_time": "2024-02-09T10:18:56.782212Z",
     "start_time": "2024-02-09T10:18:56.747368Z"
    },
    "code_folding": [],
    "execution": {
     "iopub.execute_input": "2024-05-16T21:40:41.737094Z",
     "iopub.status.busy": "2024-05-16T21:40:41.736947Z",
     "iopub.status.idle": "2024-05-16T21:40:41.775350Z",
     "shell.execute_reply": "2024-05-16T21:40:41.774842Z"
    }
   },
   "outputs": [],
   "source": [
    "anno_key = 'initial_cell_type'\n",
    "cluster_key = 'leiden_wnn'\n",
    "\n",
    "adata.obs[anno_key] = adata.obs[cluster_key].cat.add_categories(['ISC', 'Early Prog.', 'Paneth prog.',\n",
    "                                                                                       'EE Prog.', 'EEC', 'EC', \n",
    "                                                                                       'Goblet', 'Paneth', 'Tuft', \n",
    "                                                                                       'TA', 'Enterocyte', 'Non-Epithelial','Doublets'])\n",
    "\n",
    "# doublets\n",
    "adata.obs[anno_key][np.in1d(adata.obs[cluster_key], \n",
    "                                   df_all[(df_all['lowhigh_Lyz1']=='high')& \n",
    "                                          (df_all['lowhigh_Itln1']=='high')& \n",
    "                                          (df_all['lowhigh_Dmbt1']=='high')& \n",
    "                                          (df_all['lowhigh_Hmgb2']=='high')].index)] = 'Paneth prog.' #Dmbt1 Hmgb2\n",
    "\n",
    "# ISC\n",
    "adata.obs[anno_key][np.in1d(adata.obs[cluster_key], \n",
    "                                   df_all[df_all['lowhigh_Lgr5']=='high'].index)] = 'ISC'\n",
    "\n",
    "# Early Prog\n",
    "adata.obs[anno_key][np.in1d(adata.obs[cluster_key], \n",
    "                                   df_all[(df_all['lowhigh_Dll1']=='high') & \n",
    "                                          (df_all['lowhigh_Muc2']=='low')].index)] = 'Early Prog.'\n",
    "\n",
    "# EEC Prog\n",
    "adata.obs[anno_key][np.in1d(adata.obs[cluster_key], \n",
    "                                   df_all[df_all['lowhigh_Neurog3']=='high'].index)] = 'EE Prog.'\n",
    "\n",
    "# EEC\n",
    "adata.obs[anno_key][np.in1d(adata.obs[cluster_key], \n",
    "                                   df_all[(df_all['lowhigh_Isl1']=='high') & \n",
    "                                          (df_all['lowhigh_Neurog3']=='low')].index)] = 'EEC'\n",
    "\n",
    "# EC\n",
    "adata.obs[anno_key][np.in1d(adata.obs[cluster_key], \n",
    "                                   df_all[(df_all['lowhigh_Tph1']=='high')& (df_all['lowhigh_Cd52']=='low')].index)] = 'EC' # & (df_all['lowhigh_Neurog3']=='low')\n",
    "\n",
    "# Goblet\n",
    "adata.obs[anno_key][np.in1d(adata.obs[cluster_key], \n",
    "                                   df_all[(df_all['lowhigh_Muc2']=='high') & \n",
    "                                         (df_all['lowhigh_Isl1']=='low')].index)] = 'Goblet'\n",
    "\n",
    "# Paneth\n",
    "adata.obs[anno_key][np.in1d(adata.obs[cluster_key], \n",
    "                                   df_all[(df_all['lowhigh_Lyz1']=='high')].index)] = 'Paneth'\n",
    "\n",
    "# Tuft\n",
    "adata.obs[anno_key][np.in1d(adata.obs[cluster_key], \n",
    "                                   df_all[(df_all['lowhigh_Pou2f3']=='high')].index)] = 'Tuft'\n",
    "\n",
    "# TA\n",
    "adata.obs[anno_key][np.in1d(adata.obs[cluster_key], \n",
    "                                   df_all[((df_all['lowhigh_Dmbt1']=='high') | (df_all['lowhigh_Top2a']=='high')) & \n",
    "                                          (df_all['lowhigh_Muc2']=='low') & \n",
    "                                          (df_all['lowhigh_Lgr5']=='low') & \n",
    "                                          (df_all['lowhigh_Dll1']=='low') & \n",
    "                                          (df_all['lowhigh_Pou2f3']=='low')].index)] = 'TA'   \n",
    "\n",
    "# Enterocytes\n",
    "adata.obs[anno_key][np.in1d(adata.obs[cluster_key], \n",
    "                                   df_all[(df_all['lowhigh_Sis']=='high') & \n",
    "                                          (df_all['lowhigh_Isl1']=='low') & \n",
    "                                          (df_all['lowhigh_Hmgb2']=='low')].index)] = 'Enterocyte'\n",
    "\n",
    "# Immune etc\n",
    "adata.obs[anno_key][np.in1d(adata.obs[cluster_key], \n",
    "                            df_all[(df_all['lowhigh_Cd52']=='high') & (df_all['lowhigh_Epcam']=='low')].index)] = 'Non-Epithelial'\n",
    "\n",
    "# # Doublets\n",
    "# adata.obs[anno_key][np.in1d(adata.obs[cluster_key], \n",
    "#                                    df_all[(df_all['lowhigh_doublet_calls']=='high') & (df_all['lowhigh_Top2a']=='low')].index)] = 'Doublet'\n",
    "\n",
    "adata.obs[anno_key]= adata.obs[anno_key].cat.remove_unused_categories()"
   ]
  },
  {
   "cell_type": "code",
   "execution_count": null,
   "metadata": {
    "ExecuteTime": {
     "end_time": "2024-02-09T10:18:56.787360Z",
     "start_time": "2024-02-09T10:18:56.783466Z"
    },
    "execution": {
     "iopub.execute_input": "2024-05-16T21:40:41.798893Z",
     "iopub.status.busy": "2024-05-16T21:40:41.798667Z",
     "iopub.status.idle": "2024-05-16T21:40:41.805154Z",
     "shell.execute_reply": "2024-05-16T21:40:41.804524Z"
    }
   },
   "outputs": [],
   "source": [
    "pd.value_counts(adata.obs['initial_cell_type'])"
   ]
  },
  {
   "cell_type": "code",
   "execution_count": null,
   "metadata": {},
   "outputs": [],
   "source": [
    "sc.pl.umap(adata, color=['initial_cell_type', 'final_doublets_cat'], size=12, add_outline=True, alpha=1, outline_width=(0.3, 0.0))"
   ]
  },
  {
   "cell_type": "code",
   "execution_count": null,
   "metadata": {
    "ExecuteTime": {
     "end_time": "2024-02-09T10:18:58.319384Z",
     "start_time": "2024-02-09T10:18:56.835269Z"
    },
    "execution": {
     "iopub.execute_input": "2024-05-16T21:40:41.831314Z",
     "iopub.status.busy": "2024-05-16T21:40:41.830836Z",
     "iopub.status.idle": "2024-05-16T21:40:43.786801Z",
     "shell.execute_reply": "2024-05-16T21:40:43.786134Z"
    }
   },
   "outputs": [],
   "source": [
    "sc.pl.umap(adata, color=['initial_cell_type','sample'], size=12, add_outline=True, alpha=1, outline_width=(0.3, 0.0))"
   ]
  },
  {
   "cell_type": "code",
   "execution_count": null,
   "metadata": {
    "ExecuteTime": {
     "end_time": "2024-02-09T10:18:58.646753Z",
     "start_time": "2024-02-09T10:18:58.320714Z"
    },
    "execution": {
     "iopub.execute_input": "2024-05-16T21:40:43.810669Z",
     "iopub.status.busy": "2024-05-16T21:40:43.810430Z",
     "iopub.status.idle": "2024-05-16T21:40:44.300042Z",
     "shell.execute_reply": "2024-05-16T21:40:44.299387Z"
    }
   },
   "outputs": [],
   "source": [
    "sc.pl.DotPlot(adata, var_names=marker_genes, groupby='initial_cell_type', cmap=mymap, use_raw=False).style(color_on='square', dot_edge_lw=1, grid=True, dot_min=0.15, dot_edge_color=None).show()"
   ]
  },
  {
   "cell_type": "code",
   "execution_count": null,
   "metadata": {},
   "outputs": [],
   "source": [
    "adata = adata[adata.obs['initial_cell_type']!='Non-Epithelial']"
   ]
  },
  {
   "cell_type": "code",
   "execution_count": null,
   "metadata": {},
   "outputs": [],
   "source": [
    "sc.pl.umap(adata, color=['initial_cell_type','sample'], size=12, add_outline=True, alpha=1, outline_width=(0.3, 0.0))"
   ]
  },
  {
   "cell_type": "code",
   "execution_count": null,
   "metadata": {},
   "outputs": [],
   "source": [
    "gc.collect()"
   ]
  },
  {
   "cell_type": "code",
   "execution_count": null,
   "metadata": {},
   "outputs": [],
   "source": [
    "adata.write('/mnt/hdd/data/Diseased/adata_markedDoublets_normalized_initialAnno_diseased_woimmune.h5ad')"
   ]
  },
  {
   "cell_type": "markdown",
   "metadata": {},
   "source": [
    "### remove non-paneth"
   ]
  },
  {
   "cell_type": "code",
   "execution_count": null,
   "metadata": {},
   "outputs": [],
   "source": [
    "with h5py.File(\"/mnt/hdd/data/Healthy/adata_markedDoublets_normalized.h5ad\") as f:\n",
    "    is_paneth = read_elem(f[\"obs/is_paneth\"])"
   ]
  },
  {
   "cell_type": "code",
   "execution_count": null,
   "metadata": {},
   "outputs": [],
   "source": [
    "is_paneth"
   ]
  },
  {
   "cell_type": "code",
   "execution_count": null,
   "metadata": {},
   "outputs": [],
   "source": [
    "adata"
   ]
  },
  {
   "cell_type": "code",
   "execution_count": null,
   "metadata": {},
   "outputs": [],
   "source": [
    "adata.obs['is_paneth'] = is_paneth"
   ]
  },
  {
   "cell_type": "markdown",
   "metadata": {},
   "source": [
    "# Save"
   ]
  },
  {
   "cell_type": "code",
   "execution_count": null,
   "metadata": {
    "ExecuteTime": {
     "end_time": "2024-02-09T10:19:11.997360Z",
     "start_time": "2024-02-09T10:18:58.648000Z"
    },
    "execution": {
     "iopub.execute_input": "2024-05-16T21:40:44.307222Z",
     "iopub.status.busy": "2024-05-16T21:40:44.307003Z",
     "iopub.status.idle": "2024-05-16T21:41:08.187571Z",
     "shell.execute_reply": "2024-05-16T21:41:08.186875Z"
    }
   },
   "outputs": [],
   "source": [
    "# Save\n",
    "adata.write('/mnt/hdd/data/Healthy/adata_markedDoublets_normalized_initialAnno_diseased_woimmune.h5ad')"
   ]
  },
  {
   "cell_type": "markdown",
   "metadata": {},
   "source": [
    "## Normalize differently"
   ]
  },
  {
   "cell_type": "markdown",
   "metadata": {},
   "source": [
    "Since SCRAN assumes that at least half of the genes in the data being normalized are not differentially expressed between subgroups of cells, we performed SCRAN normalization within clusters. To this end, we first performed total count normalization, by dividing each count by its cell’s total count and multiplying by 10,000. We then performed a log transformation using natural log and pseudocount 1. A PCA was subsequently performed. Using the first 50 principal components, a neighborhood graph was calculated with the number of neighbors set to k = 15. Data were subsequently clustered with Louvain clustering at a resolution of r = 0.5. SCRAN normalization was then performed on the raw counts, using the Louvain clusters as input clusters and with the minimum mean (library size adjusted) average count of genes to be used for normalization set to 0.1. The resulting size factors were used for normalization. For the final HLCA (and not the benchmarking subset), cells with abnormally low size factors (<0.01) or abnormally high total counts after normalization (>10 × 105) were removed from the data (267 cells in total). (from lung cancer publication, https://doi.org/10.1038/s41591-023-02327-2)"
   ]
  },
  {
   "cell_type": "code",
   "execution_count": null,
   "metadata": {},
   "outputs": [],
   "source": [
    "def checkAdata(adata):\n",
    "    if type(adata) is not ad.AnnData:\n",
    "        raise TypeError('Input is not a valid AnnData object')"
   ]
  },
  {
   "cell_type": "code",
   "execution_count": null,
   "metadata": {},
   "outputs": [],
   "source": [
    "def SCRAN_normalize(adata, min_mean = 0.1, n_pcs=50, counts_per_cell = 1e4, \n",
    "    louvain_r=0.5, ignore_R_warnings=False, log_transform=True): # from: Github https://github.com/LungCellAtlas/HLCA_reproducibility in scripts/scib_excerpts.py\n",
    "    \"\"\"adapted from scIB, returns normalized and log1p transformed adata\"\"\"\n",
    "    # import R-related packages:\n",
    "    import anndata2ri\n",
    "    import rpy2.robjects as ro\n",
    "    import rpy2.rinterface_lib.callbacks\n",
    "\n",
    "    if ignore_R_warnings == True:\n",
    "        # Ignore R warning messages\n",
    "        rpy2.rinterface_lib.callbacks.logger.setLevel(logging.ERROR) \n",
    "\n",
    "\n",
    "    checkAdata(adata)\n",
    "    \n",
    "    # massive speedup when working with sparse matrix\n",
    "    if not sparse.issparse(adata.X): # quick fix: HVG doesn't work on dense mtx\n",
    "        adata.X = sparse.csr_matrix(adata.X)\n",
    "    \n",
    "    anndata2ri.activate()\n",
    "    ro.r('library(\"scran\")')\n",
    "    \n",
    "    # keep raw counts\n",
    "    adata.layers[\"raw_counts\"] = adata.X.copy()\n",
    "    \n",
    "    # Preliminary clustering for differentiated normalisation\n",
    "    adata_pp = adata.copy()\n",
    "    sc.pp.normalize_per_cell(adata_pp, counts_per_cell_after=counts_per_cell)\n",
    "    sc.pp.log1p(adata_pp)\n",
    "    sc.pp.pca(adata_pp, n_comps=n_pcs, svd_solver='arpack')\n",
    "    sc.pp.neighbors(adata_pp)\n",
    "    sc.tl.louvain(adata_pp, key_added='groups', resolution=louvain_r)\n",
    "    \n",
    "    ro.globalenv['data_mat'] = adata.X.T\n",
    "    ro.globalenv['input_groups'] = adata_pp.obs['groups']\n",
    "    # size_factors = ro.r(\n",
    "    #    f'computeSumFactors(data_mat, clusters = input_groups, min.mean = {min_mean})')\n",
    "    size_factors = ro.r('sizeFactors(computeSumFactors(SingleCellExperiment('\n",
    "                            'list(counts=data_mat)), clusters = input_groups,'\n",
    "                            f' min.mean = {min_mean}))')\n",
    "    del adata_pp\n",
    "    \n",
    "    # modify adata\n",
    "    adata.obs['size_factors'] = size_factors\n",
    "    adata.X /= adata.obs['size_factors'].values[:,None]\n",
    "    if log_transform == True:\n",
    "        print(\"log1p-transforming data\")\n",
    "        sc.pp.log1p(adata)\n",
    "    # convert to sparse, bc operation always converts to dense\n",
    "    adata.X = sparse.csr_matrix(adata.X)\n",
    "    adata.layers['SCRAN_counts_log']= adata.X.copy() # Store the full data set in 'raw' as log-normalised data for statistical testing\n",
    "    return adata"
   ]
  },
  {
   "cell_type": "code",
   "execution_count": null,
   "metadata": {},
   "outputs": [],
   "source": [
    "adata.X = adata.layers['raw_counts']\n",
    "adata = SCRAN_normalize(adata)"
   ]
  },
  {
   "cell_type": "code",
   "execution_count": null,
   "metadata": {},
   "outputs": [],
   "source": [
    "sparsify_all_layers(adata)"
   ]
  },
  {
   "cell_type": "code",
   "execution_count": null,
   "metadata": {},
   "outputs": [],
   "source": [
    "# Save\n",
    "adata.write('/mnt/hdd/data/Healthy/adata_markedDoublets_normalized_initialAnno.h5ad')"
   ]
  },
  {
   "cell_type": "code",
   "execution_count": null,
   "metadata": {},
   "outputs": [],
   "source": [
    "sc.pl.umap(adata, color=marker_genes+['leiden_wnn'], size=12, add_outline=True, alpha=1, outline_width=(0.3, 0.0), ncols=4, color_map=mymap)"
   ]
  },
  {
   "cell_type": "code",
   "execution_count": null,
   "metadata": {},
   "outputs": [],
   "source": [
    "sc.pl.DotPlot(adata, var_names=marker_genes, groupby='initial_cell_type', cmap=mymap, use_raw=False).style(color_on='square', dot_edge_lw=1, grid=True, dot_min=0.15, dot_edge_color=None).show()"
   ]
  }
 ],
 "metadata": {
  "kernelspec": {
   "display_name": "scUV",
   "language": "python",
   "name": "python3"
  },
  "language_info": {
   "codemirror_mode": {
    "name": "ipython",
    "version": 3
   },
   "file_extension": ".py",
   "mimetype": "text/x-python",
   "name": "python",
   "nbconvert_exporter": "python",
   "pygments_lexer": "ipython3",
   "version": "3.10.14"
  },
  "toc": {
   "base_numbering": 1,
   "nav_menu": {},
   "number_sections": true,
   "sideBar": true,
   "skip_h1_title": false,
   "title_cell": "Table of Contents",
   "title_sidebar": "Contents",
   "toc_cell": false,
   "toc_position": {
    "height": "calc(100% - 180px)",
    "left": "10px",
    "top": "150px",
    "width": "287px"
   },
   "toc_section_display": true,
   "toc_window_display": true
  },
  "varInspector": {
   "cols": {
    "lenName": 16,
    "lenType": 16,
    "lenVar": 40
   },
   "kernels_config": {
    "python": {
     "delete_cmd_postfix": "",
     "delete_cmd_prefix": "del ",
     "library": "var_list.py",
     "varRefreshCmd": "print(var_dic_list())"
    },
    "r": {
     "delete_cmd_postfix": ") ",
     "delete_cmd_prefix": "rm(",
     "library": "var_list.r",
     "varRefreshCmd": "cat(var_dic_list()) "
    }
   },
   "types_to_exclude": [
    "module",
    "function",
    "builtin_function_or_method",
    "instance",
    "_Feature"
   ],
   "window_display": false
  }
 },
 "nbformat": 4,
 "nbformat_minor": 4
}
