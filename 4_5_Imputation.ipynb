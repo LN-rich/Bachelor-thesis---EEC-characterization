{
 "cells": [
  {
   "cell_type": "markdown",
   "metadata": {},
   "source": [
    "\n",
    "# Preprocessing - Imputation\n",
    "Adapted from Michael Sterr\n",
    "\n",
    "2024-06-24\n",
    "\n",
    "\n",
    "# Setup\n"
   ]
  },
  {
   "cell_type": "code",
   "execution_count": null,
   "metadata": {
    "ExecuteTime": {
     "end_time": "2024-01-19T18:46:56.435487Z",
     "start_time": "2024-01-19T18:46:50.437824Z"
    },
    "execution": {
     "iopub.execute_input": "2024-05-17T08:33:34.147115Z",
     "iopub.status.busy": "2024-05-17T08:33:34.147035Z",
     "iopub.status.idle": "2024-05-17T08:33:39.197124Z",
     "shell.execute_reply": "2024-05-17T08:33:39.196522Z",
     "shell.execute_reply.started": "2024-05-17T08:33:34.147105Z"
    }
   },
   "outputs": [],
   "source": [
    "# General\n",
    "import scipy as sci\n",
    "import numpy as np\n",
    "import pandas as pd\n",
    "import logging\n",
    "import time\n",
    "import pickle\n",
    "from itertools import chain\n",
    "import session_info\n",
    "import gc\n",
    "\n",
    "# Plotting\n",
    "import matplotlib.pyplot as plt\n",
    "import matplotlib as mpl\n",
    "from matplotlib import rcParams\n",
    "from matplotlib.pyplot import rc_context\n",
    "from matplotlib import cm\n",
    "import seaborn as sb\n",
    "\n",
    "# Analysis\n",
    "#import muon as mu\n",
    "#from muon import atac as ac # Import a module with ATAC-seq-related functions\n",
    "import scanpy as sc\n",
    "import scanpy.external as sce\n",
    "import torch\n",
    "#import scipy.stats as sci\n",
    "from sklearn.metrics import mean_squared_error"
   ]
  },
  {
   "cell_type": "code",
   "execution_count": null,
   "metadata": {
    "ExecuteTime": {
     "end_time": "2024-01-19T18:46:57.561212Z",
     "start_time": "2024-01-19T18:46:56.436988Z"
    },
    "execution": {
     "iopub.execute_input": "2024-05-17T08:33:39.198805Z",
     "iopub.status.busy": "2024-05-17T08:33:39.198573Z",
     "iopub.status.idle": "2024-05-17T08:33:40.268321Z",
     "shell.execute_reply": "2024-05-17T08:33:40.267919Z",
     "shell.execute_reply.started": "2024-05-17T08:33:39.198784Z"
    }
   },
   "outputs": [],
   "source": [
    "# Settings\n",
    "\n",
    "import warnings\n",
    "warnings.filterwarnings(\"ignore\")\n",
    "\n",
    "## Directory\n",
    "base_dir = '/mnt/hdd/'\n",
    "data_dir = 'data/Healthy/'\n",
    "nb_dir = 'Notebooks/Gut_project/'\n",
    "sc.settings.figdir = base_dir + nb_dir + 'Figures'\n",
    "sc.settings.cachedir = base_dir + 'Cache'\n",
    "\n",
    "## Scanpy settings\n",
    "sc.settings.verbosity = 3\n",
    "sc.logging.print_versions()\n",
    "session_info.show()"
   ]
  },
  {
   "cell_type": "code",
   "execution_count": null,
   "metadata": {},
   "outputs": [],
   "source": [
    "# Color maps\n",
    "ch_YlRd=sb.cubehelix_palette(100, start=.7, rot=.25, gamma=0.6, hue=2, light=1, dark=0.05, as_cmap=True)"
   ]
  },
  {
   "cell_type": "code",
   "execution_count": null,
   "metadata": {},
   "outputs": [],
   "source": [
    "# Plot settings\n",
    "%matplotlib inline\n",
    "\n",
    "## Plotting parameters\n",
    "rcParams['figure.figsize']=(6,6) #rescale figures\n",
    "#sc.set_figure_params(scanpy=True, frameon=False, vector_friendly=False, color_map='tab10' ,transparent=True, dpi=150, dpi_save=300)\n",
    "sc.set_figure_params(scanpy=True, frameon=False, vector_friendly=False ,transparent=True, dpi=150, dpi_save=300)\n",
    "\n",
    "## Grid & Ticks\n",
    "rcParams['grid.alpha'] = 0\n",
    "rcParams['xtick.bottom'] = True\n",
    "rcParams['ytick.left'] = True\n",
    "\n",
    "## Embed font\n",
    "plt.rc('pdf', fonttype=42)\n",
    "\n",
    "## Define new default settings\n",
    "plt.rcParamsDefault = plt.rcParams"
   ]
  },
  {
   "cell_type": "markdown",
   "metadata": {},
   "source": [
    "# Setup R"
   ]
  },
  {
   "cell_type": "code",
   "execution_count": null,
   "metadata": {},
   "outputs": [],
   "source": [
    "%run utils.ipynb"
   ]
  },
  {
   "cell_type": "code",
   "execution_count": null,
   "metadata": {},
   "outputs": [],
   "source": [
    "#R\n",
    "import rpy2\n",
    "import rpy2.robjects as ro\n",
    "import rpy2.rinterface_lib.callbacks\n",
    "from rpy2.robjects import pandas2ri\n",
    "import anndata2ri\n",
    "setup_R('/home/scanalysis/mnt/envs/scUV_scvelo/lib/R')"
   ]
  },
  {
   "cell_type": "code",
   "execution_count": null,
   "metadata": {},
   "outputs": [],
   "source": [
    "%%R\n",
    "\n",
    ".libPaths()"
   ]
  },
  {
   "cell_type": "code",
   "execution_count": null,
   "metadata": {},
   "outputs": [],
   "source": [
    "%%R\n",
    "# Parallelization\n",
    "library(BiocParallel)\n",
    "register(MulticoreParam(20, progressbar = TRUE))\n",
    "\n",
    "library(future)\n",
    "plan(\"multicore\", workers = 20)\n",
    "options(future.globals.maxSize = 64 * 1024^2)\n",
    "plan()\n",
    "\n",
    "library(doParallel)\n",
    "registerDoParallel(20)\n",
    "\n",
    "sessionInfo()"
   ]
  },
  {
   "cell_type": "markdown",
   "metadata": {},
   "source": [
    "# Load Data"
   ]
  },
  {
   "cell_type": "markdown",
   "metadata": {},
   "source": [
    "## aData"
   ]
  },
  {
   "cell_type": "code",
   "execution_count": null,
   "metadata": {
    "ExecuteTime": {
     "end_time": "2024-02-09T15:16:51.462083Z",
     "start_time": "2024-02-09T15:16:44.898920Z"
    },
    "execution": {
     "iopub.execute_input": "2024-05-17T08:33:40.355644Z",
     "iopub.status.busy": "2024-05-17T08:33:40.355562Z",
     "iopub.status.idle": "2024-05-17T08:33:46.193162Z",
     "shell.execute_reply": "2024-05-17T08:33:46.192814Z",
     "shell.execute_reply.started": "2024-05-17T08:33:40.355634Z"
    }
   },
   "outputs": [],
   "source": [
    "adata = sc.read_h5ad('adata_for_imputation.h5ad')"
   ]
  },
  {
   "cell_type": "code",
   "execution_count": null,
   "metadata": {},
   "outputs": [],
   "source": [
    "adata"
   ]
  },
  {
   "cell_type": "markdown",
   "metadata": {},
   "source": [
    "#### clean up adata"
   ]
  },
  {
   "cell_type": "raw",
   "metadata": {
    "vscode": {
     "languageId": "raw"
    }
   },
   "source": [
    "del adata.obsm['X_MultiVI']\n",
    "del adata.obsm['X_MultiVI_rmDoublets']\n",
    "del adata.obsm['X_harmony']\n",
    "del adata.obsm['X_scVI']\n",
    "del adata.obsm['X_umap']"
   ]
  },
  {
   "cell_type": "code",
   "execution_count": null,
   "metadata": {},
   "outputs": [],
   "source": [
    "gc.collect()"
   ]
  },
  {
   "cell_type": "code",
   "execution_count": null,
   "metadata": {},
   "outputs": [],
   "source": [
    "sc.pp.neighbors(adata, use_rep='X_scANVI')\n",
    "sc.tl.leiden(adata)\n",
    "sc.tl.umap(adata, min_dist=0.8)"
   ]
  },
  {
   "cell_type": "code",
   "execution_count": null,
   "metadata": {
    "ExecuteTime": {
     "end_time": "2024-01-19T18:47:16.071502Z",
     "start_time": "2024-01-19T18:47:11.298866Z"
    },
    "execution": {
     "iopub.execute_input": "2024-05-17T08:33:46.193767Z",
     "iopub.status.busy": "2024-05-17T08:33:46.193675Z",
     "iopub.status.idle": "2024-05-17T08:33:51.584386Z",
     "shell.execute_reply": "2024-05-17T08:33:51.584065Z",
     "shell.execute_reply.started": "2024-05-17T08:33:46.193755Z"
    }
   },
   "outputs": [],
   "source": [
    "sc.pl.umap(adata, color=['sample','n_counts','n_genes','mt_frac','rp_frac','doublet_calls'],  size=10, alpha=1, outline_width=(0.3, 0.0), ncols=3, wspace =.95, cmap=ch_YlRd)"
   ]
  },
  {
   "cell_type": "code",
   "execution_count": null,
   "metadata": {
    "ExecuteTime": {
     "end_time": "2024-01-19T18:47:16.221282Z",
     "start_time": "2024-01-19T18:47:16.072829Z"
    },
    "execution": {
     "iopub.execute_input": "2024-05-17T08:33:51.584956Z",
     "iopub.status.busy": "2024-05-17T08:33:51.584870Z",
     "iopub.status.idle": "2024-05-17T08:33:51.741395Z",
     "shell.execute_reply": "2024-05-17T08:33:51.741019Z",
     "shell.execute_reply.started": "2024-05-17T08:33:51.584944Z"
    }
   },
   "outputs": [],
   "source": [
    "gc.collect()"
   ]
  },
  {
   "cell_type": "code",
   "execution_count": null,
   "metadata": {},
   "outputs": [],
   "source": [
    "sc.tl.umap(adata, min_dist=0.5, spread=1.05)"
   ]
  },
  {
   "cell_type": "code",
   "execution_count": null,
   "metadata": {},
   "outputs": [],
   "source": [
    "sc.pl.umap(adata, color=['sample','initial_cell_type','n_counts','n_genes','mt_frac','rp_frac','doublet_calls'],  size=10, alpha=1, outline_width=(0.3, 0.0), ncols=3, wspace =.98, cmap=ch_YlRd)"
   ]
  },
  {
   "cell_type": "code",
   "execution_count": null,
   "metadata": {},
   "outputs": [],
   "source": [
    "marker_genes = ['Foxa2','Neurog3','Tph1','Isl1','Pou2f3','Lgr5','Dmbt1','Hmgb2','Top2a','Defa24','Gna11','Cd52','Muc2','Fcgbp','Lyz1']"
   ]
  },
  {
   "cell_type": "code",
   "execution_count": null,
   "metadata": {},
   "outputs": [],
   "source": [
    "sc.pl.umap(adata, color=['sample','initial_cell_type','n_counts', 'phase'] + marker_genes,  size=10, alpha=1, outline_width=(0.3, 0.0), ncols=3, wspace =.98, cmap=ch_YlRd)"
   ]
  },
  {
   "cell_type": "markdown",
   "metadata": {},
   "source": [
    "# DCA"
   ]
  },
  {
   "cell_type": "code",
   "execution_count": null,
   "metadata": {
    "ExecuteTime": {
     "end_time": "2024-01-19T18:47:18.929920Z",
     "start_time": "2024-01-19T18:47:18.862581Z"
    },
    "execution": {
     "iopub.execute_input": "2024-05-17T08:33:53.210658Z",
     "iopub.status.busy": "2024-05-17T08:33:53.210573Z",
     "iopub.status.idle": "2024-05-17T08:33:53.323039Z",
     "shell.execute_reply": "2024-05-17T08:33:53.322623Z",
     "shell.execute_reply.started": "2024-05-17T08:33:53.210647Z"
    }
   },
   "outputs": [],
   "source": [
    "adata.X = adata.layers['sct_counts'].copy()"
   ]
  },
  {
   "cell_type": "code",
   "execution_count": null,
   "metadata": {
    "ExecuteTime": {
     "end_time": "2024-01-19T18:48:18.098293Z",
     "start_time": "2024-01-19T18:47:18.930770Z"
    },
    "execution": {
     "iopub.execute_input": "2024-05-17T08:33:53.323563Z",
     "iopub.status.busy": "2024-05-17T08:33:53.323483Z",
     "iopub.status.idle": "2024-05-17T08:33:58.194101Z",
     "shell.execute_reply": "2024-05-17T08:33:58.193549Z",
     "shell.execute_reply.started": "2024-05-17T08:33:53.323552Z"
    }
   },
   "outputs": [],
   "source": [
    "sc.pp.filter_genes(adata, min_counts=1)"
   ]
  },
  {
   "cell_type": "code",
   "execution_count": null,
   "metadata": {},
   "outputs": [],
   "source": [
    "gc.collect()"
   ]
  },
  {
   "cell_type": "code",
   "execution_count": null,
   "metadata": {
    "ExecuteTime": {
     "end_time": "2024-01-19T18:57:43.664291Z",
     "start_time": "2024-01-19T18:48:18.099313Z"
    },
    "execution": {
     "iopub.execute_input": "2024-05-17T08:33:58.194760Z",
     "iopub.status.busy": "2024-05-17T08:33:58.194671Z",
     "iopub.status.idle": "2024-05-17T08:46:38.681106Z",
     "shell.execute_reply": "2024-05-17T08:46:38.680577Z",
     "shell.execute_reply.started": "2024-05-17T08:33:58.194748Z"
    }
   },
   "outputs": [],
   "source": [
    "adata = sce.pp.dca(adata, batch_size=32, epochs=300, log1p=True,  normalize_per_cell=False, scale=False, activation='relu', ae_type='nb', batchnorm=True, hidden_size=(1024,512,1024), optimizer=\"RMSprop\", verbose=True, copy=True)"
   ]
  },
  {
   "cell_type": "code",
   "execution_count": null,
   "metadata": {
    "ExecuteTime": {
     "end_time": "2024-01-19T18:57:58.608307Z",
     "start_time": "2024-01-19T18:57:43.665610Z"
    },
    "execution": {
     "iopub.execute_input": "2024-05-17T08:46:38.681913Z",
     "iopub.status.busy": "2024-05-17T08:46:38.681818Z",
     "iopub.status.idle": "2024-05-17T08:46:38.942318Z",
     "shell.execute_reply": "2024-05-17T08:46:38.941840Z",
     "shell.execute_reply.started": "2024-05-17T08:46:38.681900Z"
    }
   },
   "outputs": [],
   "source": [
    "adata.layers['dca_counts'] = adata.X.copy()"
   ]
  },
  {
   "cell_type": "code",
   "execution_count": null,
   "metadata": {
    "ExecuteTime": {
     "end_time": "2024-01-19T18:58:02.540066Z",
     "start_time": "2024-01-19T18:57:58.609337Z"
    },
    "execution": {
     "iopub.execute_input": "2024-05-17T08:46:38.942949Z",
     "iopub.status.busy": "2024-05-17T08:46:38.942862Z",
     "iopub.status.idle": "2024-05-17T08:46:43.113135Z",
     "shell.execute_reply": "2024-05-17T08:46:43.112571Z",
     "shell.execute_reply.started": "2024-05-17T08:46:38.942937Z"
    }
   },
   "outputs": [],
   "source": [
    "adata.layers['log_dca_counts'] = sc.pp.log1p(adata.layers['dca_counts'])"
   ]
  },
  {
   "cell_type": "code",
   "execution_count": null,
   "metadata": {
    "ExecuteTime": {
     "end_time": "2024-01-19T18:58:02.543325Z",
     "start_time": "2024-01-19T18:58:02.541059Z"
    },
    "execution": {
     "iopub.execute_input": "2024-05-17T08:46:43.113765Z",
     "iopub.status.busy": "2024-05-17T08:46:43.113679Z",
     "iopub.status.idle": "2024-05-17T08:46:43.116392Z",
     "shell.execute_reply": "2024-05-17T08:46:43.116013Z",
     "shell.execute_reply.started": "2024-05-17T08:46:43.113754Z"
    }
   },
   "outputs": [],
   "source": [
    "marker_genes = ['Foxa2','Neurog3','Tph1','Isl1','Pou2f3','Lgr5','Dmbt1','Hmgb2','Top2a','Defa24','Gna11','Cd52','Muc2','Fcgbp','Lyz1']"
   ]
  },
  {
   "cell_type": "code",
   "execution_count": null,
   "metadata": {
    "ExecuteTime": {
     "end_time": "2024-01-19T19:27:35.700963Z",
     "start_time": "2024-01-19T19:27:23.708951Z"
    },
    "execution": {
     "iopub.execute_input": "2024-05-17T08:49:02.211349Z",
     "iopub.status.busy": "2024-05-17T08:49:02.211146Z",
     "iopub.status.idle": "2024-05-17T08:49:12.172676Z",
     "shell.execute_reply": "2024-05-17T08:49:12.172166Z",
     "shell.execute_reply.started": "2024-05-17T08:49:02.211327Z"
    }
   },
   "outputs": [],
   "source": [
    "sc.pl.umap(adata, color=['sample','initial_cell_type'] + marker_genes, size=10, add_outline=True, alpha=1, outline_width=(0.3, 0.0), ncols=4, layer='log_dca_counts')"
   ]
  },
  {
   "cell_type": "code",
   "execution_count": null,
   "metadata": {
    "ExecuteTime": {
     "end_time": "2024-01-19T19:27:35.704292Z",
     "start_time": "2024-01-19T19:27:35.702247Z"
    },
    "execution": {
     "iopub.execute_input": "2024-05-17T08:49:12.173569Z",
     "iopub.status.busy": "2024-05-17T08:49:12.173478Z",
     "iopub.status.idle": "2024-05-17T08:49:12.176204Z",
     "shell.execute_reply": "2024-05-17T08:49:12.175814Z",
     "shell.execute_reply.started": "2024-05-17T08:49:12.173557Z"
    }
   },
   "outputs": [],
   "source": [
    "torch.cuda.empty_cache()"
   ]
  },
  {
   "cell_type": "code",
   "execution_count": null,
   "metadata": {
    "ExecuteTime": {
     "end_time": "2024-01-19T19:27:37.211203Z",
     "start_time": "2024-01-19T19:27:35.705248Z"
    },
    "execution": {
     "iopub.execute_input": "2024-05-17T08:49:12.176708Z",
     "iopub.status.busy": "2024-05-17T08:49:12.176615Z",
     "iopub.status.idle": "2024-05-17T08:49:13.678941Z",
     "shell.execute_reply": "2024-05-17T08:49:13.678372Z",
     "shell.execute_reply.started": "2024-05-17T08:49:12.176685Z"
    }
   },
   "outputs": [],
   "source": [
    "adata.layers['sct_logcounts'] = adata.layers['sct_logcounts'].toarray()"
   ]
  },
  {
   "cell_type": "code",
   "execution_count": null,
   "metadata": {
    "ExecuteTime": {
     "end_time": "2024-01-19T19:27:41.327504Z",
     "start_time": "2024-01-19T19:27:37.212481Z"
    },
    "execution": {
     "iopub.execute_input": "2024-05-17T08:49:13.679556Z",
     "iopub.status.busy": "2024-05-17T08:49:13.679468Z",
     "iopub.status.idle": "2024-05-17T08:49:17.481960Z",
     "shell.execute_reply": "2024-05-17T08:49:17.481530Z",
     "shell.execute_reply.started": "2024-05-17T08:49:13.679545Z"
    }
   },
   "outputs": [],
   "source": [
    "testGenes=marker_genes\n",
    "\n",
    "x=np.zeros(len(testGenes))\n",
    "for i,gene in enumerate(testGenes):\n",
    "    \n",
    "    df_cor=np.corrcoef(adata[:,gene].layers['log_dca_counts'][:,0],adata[:,gene].layers['sct_logcounts'][:,0])\n",
    "    x[i]=df_cor[0][1]\n",
    "    \n",
    "x"
   ]
  },
  {
   "cell_type": "code",
   "execution_count": null,
   "metadata": {
    "ExecuteTime": {
     "end_time": "2024-01-19T19:27:41.331057Z",
     "start_time": "2024-01-19T19:27:41.328421Z"
    },
    "execution": {
     "iopub.execute_input": "2024-05-17T08:49:17.482960Z",
     "iopub.status.busy": "2024-05-17T08:49:17.482869Z",
     "iopub.status.idle": "2024-05-17T08:49:17.486054Z",
     "shell.execute_reply": "2024-05-17T08:49:17.485713Z",
     "shell.execute_reply.started": "2024-05-17T08:49:17.482948Z"
    }
   },
   "outputs": [],
   "source": [
    "np.mean(x)"
   ]
  },
  {
   "cell_type": "code",
   "execution_count": null,
   "metadata": {
    "ExecuteTime": {
     "end_time": "2024-01-19T19:27:41.565044Z",
     "start_time": "2024-01-19T19:27:41.331772Z"
    },
    "execution": {
     "iopub.execute_input": "2024-05-17T08:49:17.486573Z",
     "iopub.status.busy": "2024-05-17T08:49:17.486490Z",
     "iopub.status.idle": "2024-05-17T08:49:17.781297Z",
     "shell.execute_reply": "2024-05-17T08:49:17.780799Z",
     "shell.execute_reply.started": "2024-05-17T08:49:17.486562Z"
    }
   },
   "outputs": [],
   "source": [
    "mean_squared_error(adata[:,testGenes].layers['log_dca_counts'], adata[:,testGenes].layers['sct_logcounts'])"
   ]
  },
  {
   "cell_type": "code",
   "execution_count": null,
   "metadata": {
    "ExecuteTime": {
     "end_time": "2024-01-19T19:27:41.572690Z",
     "start_time": "2024-01-19T19:27:41.566066Z"
    },
    "execution": {
     "iopub.execute_input": "2024-05-17T08:49:17.781891Z",
     "iopub.status.busy": "2024-05-17T08:49:17.781805Z",
     "iopub.status.idle": "2024-05-17T08:49:17.788330Z",
     "shell.execute_reply": "2024-05-17T08:49:17.787931Z",
     "shell.execute_reply.started": "2024-05-17T08:49:17.781880Z"
    }
   },
   "outputs": [],
   "source": [
    "topHVGs = adata.var.loc[(adata.var['means'].sort_values(ascending=False).index[0:1000]),:].loc[adata.var['highly_variable'] == True,:].iloc[0:50,:].index"
   ]
  },
  {
   "cell_type": "code",
   "execution_count": null,
   "metadata": {
    "ExecuteTime": {
     "end_time": "2024-01-19T19:27:51.042273Z",
     "start_time": "2024-01-19T19:27:41.573523Z"
    },
    "execution": {
     "iopub.execute_input": "2024-05-17T08:49:17.788900Z",
     "iopub.status.busy": "2024-05-17T08:49:17.788815Z",
     "iopub.status.idle": "2024-05-17T08:49:30.402326Z",
     "shell.execute_reply": "2024-05-17T08:49:30.401823Z",
     "shell.execute_reply.started": "2024-05-17T08:49:17.788889Z"
    }
   },
   "outputs": [],
   "source": [
    "x=np.zeros(len(topHVGs))\n",
    "for i,gene in enumerate(topHVGs):\n",
    "    \n",
    "    df_cor=np.corrcoef(adata[:,gene].layers['log_dca_counts'][:,0],adata[:,gene].layers['sct_logcounts'][:,0])\n",
    "    x[i]=df_cor[0][1]\n",
    "    \n",
    "x"
   ]
  },
  {
   "cell_type": "code",
   "execution_count": null,
   "metadata": {
    "ExecuteTime": {
     "end_time": "2024-01-19T19:27:51.045824Z",
     "start_time": "2024-01-19T19:27:51.043175Z"
    },
    "execution": {
     "iopub.execute_input": "2024-05-17T08:49:30.402938Z",
     "iopub.status.busy": "2024-05-17T08:49:30.402849Z",
     "iopub.status.idle": "2024-05-17T08:49:30.406109Z",
     "shell.execute_reply": "2024-05-17T08:49:30.405737Z",
     "shell.execute_reply.started": "2024-05-17T08:49:30.402927Z"
    }
   },
   "outputs": [],
   "source": [
    "np.mean(x)"
   ]
  },
  {
   "cell_type": "code",
   "execution_count": null,
   "metadata": {
    "ExecuteTime": {
     "end_time": "2024-01-19T19:27:51.308862Z",
     "start_time": "2024-01-19T19:27:51.047210Z"
    },
    "execution": {
     "iopub.execute_input": "2024-05-17T08:49:30.406624Z",
     "iopub.status.busy": "2024-05-17T08:49:30.406540Z",
     "iopub.status.idle": "2024-05-17T08:49:30.730686Z",
     "shell.execute_reply": "2024-05-17T08:49:30.730260Z",
     "shell.execute_reply.started": "2024-05-17T08:49:30.406614Z"
    }
   },
   "outputs": [],
   "source": [
    "mean_squared_error(adata[:,topHVGs].layers['log_dca_counts'], adata[:,topHVGs].layers['sct_logcounts'])"
   ]
  },
  {
   "cell_type": "code",
   "execution_count": null,
   "metadata": {
    "ExecuteTime": {
     "end_time": "2024-01-19T19:27:53.212257Z",
     "start_time": "2024-01-19T19:27:51.309800Z"
    },
    "execution": {
     "iopub.execute_input": "2024-05-17T08:49:30.731306Z",
     "iopub.status.busy": "2024-05-17T08:49:30.731220Z",
     "iopub.status.idle": "2024-05-17T08:49:32.856665Z",
     "shell.execute_reply": "2024-05-17T08:49:32.856211Z",
     "shell.execute_reply.started": "2024-05-17T08:49:30.731294Z"
    }
   },
   "outputs": [],
   "source": [
    "with rc_context({'figure.figsize': (6,4)}):\n",
    "    sc.pl.violin(adata, keys=['Foxa2','Neurog3','Lgr5','Top2a'], groupby='initial_cell_type', layer='log_dca_counts', use_raw=False, rotation=90)"
   ]
  },
  {
   "cell_type": "code",
   "execution_count": null,
   "metadata": {
    "ExecuteTime": {
     "end_time": "2024-01-19T19:27:53.458242Z",
     "start_time": "2024-01-19T19:27:53.213207Z"
    },
    "execution": {
     "iopub.execute_input": "2024-05-17T08:49:32.857322Z",
     "iopub.status.busy": "2024-05-17T08:49:32.857230Z",
     "iopub.status.idle": "2024-05-17T08:49:33.056593Z",
     "shell.execute_reply": "2024-05-17T08:49:33.056142Z",
     "shell.execute_reply.started": "2024-05-17T08:49:32.857310Z"
    }
   },
   "outputs": [],
   "source": [
    "gc.collect()"
   ]
  },
  {
   "cell_type": "markdown",
   "metadata": {},
   "source": [
    "# Magic"
   ]
  },
  {
   "cell_type": "code",
   "execution_count": null,
   "metadata": {
    "ExecuteTime": {
     "end_time": "2024-01-19T19:27:54.072415Z",
     "start_time": "2024-01-19T19:27:53.459286Z"
    },
    "execution": {
     "iopub.execute_input": "2024-05-17T08:49:33.057283Z",
     "iopub.status.busy": "2024-05-17T08:49:33.057137Z",
     "iopub.status.idle": "2024-05-17T08:49:33.591012Z",
     "shell.execute_reply": "2024-05-17T08:49:33.590513Z",
     "shell.execute_reply.started": "2024-05-17T08:49:33.057271Z"
    }
   },
   "outputs": [],
   "source": [
    "adata.X =adata.layers['sct_logcounts'].copy()"
   ]
  },
  {
   "cell_type": "code",
   "execution_count": null,
   "metadata": {
    "ExecuteTime": {
     "end_time": "2024-01-19T19:30:58.991623Z",
     "start_time": "2024-01-19T19:27:54.073423Z"
    },
    "execution": {
     "iopub.execute_input": "2024-05-17T08:49:33.592500Z",
     "iopub.status.busy": "2024-05-17T08:49:33.592410Z",
     "iopub.status.idle": "2024-05-17T08:53:00.644001Z",
     "shell.execute_reply": "2024-05-17T08:53:00.643506Z",
     "shell.execute_reply.started": "2024-05-17T08:49:33.592489Z"
    }
   },
   "outputs": [],
   "source": [
    "sce.pp.magic(adata, n_pca=100, knn=5, t=5)"
   ]
  },
  {
   "cell_type": "code",
   "execution_count": null,
   "metadata": {
    "ExecuteTime": {
     "end_time": "2024-01-19T19:30:59.258796Z",
     "start_time": "2024-01-19T19:30:58.992746Z"
    },
    "execution": {
     "iopub.execute_input": "2024-05-17T08:53:00.644588Z",
     "iopub.status.busy": "2024-05-17T08:53:00.644500Z",
     "iopub.status.idle": "2024-05-17T08:53:01.152121Z",
     "shell.execute_reply": "2024-05-17T08:53:01.151639Z",
     "shell.execute_reply.started": "2024-05-17T08:53:00.644576Z"
    }
   },
   "outputs": [],
   "source": [
    "adata.layers['magic_counts'] = adata.X.copy()"
   ]
  },
  {
   "cell_type": "code",
   "execution_count": null,
   "metadata": {
    "ExecuteTime": {
     "end_time": "2024-01-19T19:31:10.425905Z",
     "start_time": "2024-01-19T19:30:59.259743Z"
    },
    "execution": {
     "iopub.execute_input": "2024-05-17T08:53:01.152780Z",
     "iopub.status.busy": "2024-05-17T08:53:01.152671Z",
     "iopub.status.idle": "2024-05-17T08:53:10.690063Z",
     "shell.execute_reply": "2024-05-17T08:53:10.689599Z",
     "shell.execute_reply.started": "2024-05-17T08:53:01.152768Z"
    }
   },
   "outputs": [],
   "source": [
    "sc.pl.umap(adata, color=['sample','initial_cell_type'] + marker_genes , size=10, add_outline=True, alpha=1, outline_width=(0.3, 0.0), ncols=4, layer='magic_counts')"
   ]
  },
  {
   "cell_type": "code",
   "execution_count": null,
   "metadata": {
    "ExecuteTime": {
     "end_time": "2024-01-19T19:31:11.557520Z",
     "start_time": "2024-01-19T19:31:10.426853Z"
    },
    "execution": {
     "iopub.execute_input": "2024-05-17T08:53:10.690691Z",
     "iopub.status.busy": "2024-05-17T08:53:10.690602Z",
     "iopub.status.idle": "2024-05-17T08:53:11.058899Z",
     "shell.execute_reply": "2024-05-17T08:53:11.058470Z",
     "shell.execute_reply.started": "2024-05-17T08:53:10.690679Z"
    }
   },
   "outputs": [],
   "source": [
    "testGenes=marker_genes\n",
    "\n",
    "x=np.zeros(len(testGenes))\n",
    "for i,gene in enumerate(testGenes):\n",
    "    \n",
    "    df_cor=np.corrcoef(adata[:,gene].layers['magic_counts'][:,0],adata[:,gene].layers['sct_logcounts'][:,0])\n",
    "    x[i]=df_cor[0][1]\n",
    "    \n",
    "x"
   ]
  },
  {
   "cell_type": "code",
   "execution_count": null,
   "metadata": {
    "ExecuteTime": {
     "end_time": "2024-01-19T19:31:11.561015Z",
     "start_time": "2024-01-19T19:31:11.558426Z"
    },
    "execution": {
     "iopub.execute_input": "2024-05-17T08:53:11.059496Z",
     "iopub.status.busy": "2024-05-17T08:53:11.059409Z",
     "iopub.status.idle": "2024-05-17T08:53:11.062849Z",
     "shell.execute_reply": "2024-05-17T08:53:11.062463Z",
     "shell.execute_reply.started": "2024-05-17T08:53:11.059485Z"
    }
   },
   "outputs": [],
   "source": [
    "np.mean(x)"
   ]
  },
  {
   "cell_type": "code",
   "execution_count": null,
   "metadata": {
    "ExecuteTime": {
     "end_time": "2024-01-19T19:31:11.654105Z",
     "start_time": "2024-01-19T19:31:11.561860Z"
    },
    "execution": {
     "iopub.execute_input": "2024-05-17T08:53:11.063342Z",
     "iopub.status.busy": "2024-05-17T08:53:11.063262Z",
     "iopub.status.idle": "2024-05-17T08:53:11.133039Z",
     "shell.execute_reply": "2024-05-17T08:53:11.132581Z",
     "shell.execute_reply.started": "2024-05-17T08:53:11.063332Z"
    }
   },
   "outputs": [],
   "source": [
    "mean_squared_error(adata[:,testGenes].layers['magic_counts'], adata[:,testGenes].layers['sct_logcounts'])"
   ]
  },
  {
   "cell_type": "code",
   "execution_count": null,
   "metadata": {
    "ExecuteTime": {
     "end_time": "2024-01-19T19:31:14.208599Z",
     "start_time": "2024-01-19T19:31:11.654978Z"
    },
    "execution": {
     "iopub.execute_input": "2024-05-17T08:53:11.133710Z",
     "iopub.status.busy": "2024-05-17T08:53:11.133621Z",
     "iopub.status.idle": "2024-05-17T08:53:12.319458Z",
     "shell.execute_reply": "2024-05-17T08:53:12.318995Z",
     "shell.execute_reply.started": "2024-05-17T08:53:11.133698Z"
    }
   },
   "outputs": [],
   "source": [
    "x=np.zeros(len(topHVGs))\n",
    "for i,gene in enumerate(topHVGs):\n",
    "    \n",
    "    df_cor=np.corrcoef(adata[:,gene].layers['magic_counts'][:,0],adata[:,gene].layers['sct_logcounts'][:,0])\n",
    "    x[i]=df_cor[0][1]\n",
    "    \n",
    "x"
   ]
  },
  {
   "cell_type": "code",
   "execution_count": null,
   "metadata": {
    "ExecuteTime": {
     "end_time": "2024-01-19T19:31:14.212133Z",
     "start_time": "2024-01-19T19:31:14.209532Z"
    },
    "execution": {
     "iopub.execute_input": "2024-05-17T08:53:12.320066Z",
     "iopub.status.busy": "2024-05-17T08:53:12.319979Z",
     "iopub.status.idle": "2024-05-17T08:53:12.323513Z",
     "shell.execute_reply": "2024-05-17T08:53:12.323116Z",
     "shell.execute_reply.started": "2024-05-17T08:53:12.320055Z"
    }
   },
   "outputs": [],
   "source": [
    "np.mean(x)"
   ]
  },
  {
   "cell_type": "code",
   "execution_count": null,
   "metadata": {
    "ExecuteTime": {
     "end_time": "2024-01-19T19:31:14.325481Z",
     "start_time": "2024-01-19T19:31:14.212844Z"
    },
    "execution": {
     "iopub.execute_input": "2024-05-17T08:53:12.324106Z",
     "iopub.status.busy": "2024-05-17T08:53:12.324024Z",
     "iopub.status.idle": "2024-05-17T08:53:12.421792Z",
     "shell.execute_reply": "2024-05-17T08:53:12.421305Z",
     "shell.execute_reply.started": "2024-05-17T08:53:12.324095Z"
    }
   },
   "outputs": [],
   "source": [
    "mean_squared_error(adata[:,topHVGs].layers['magic_counts'], adata[:,topHVGs].layers['sct_logcounts'])"
   ]
  },
  {
   "cell_type": "code",
   "execution_count": null,
   "metadata": {
    "ExecuteTime": {
     "end_time": "2024-01-19T19:31:16.395049Z",
     "start_time": "2024-01-19T19:31:14.326454Z"
    },
    "execution": {
     "iopub.execute_input": "2024-05-17T08:53:12.422386Z",
     "iopub.status.busy": "2024-05-17T08:53:12.422301Z",
     "iopub.status.idle": "2024-05-17T08:53:14.542718Z",
     "shell.execute_reply": "2024-05-17T08:53:14.542258Z",
     "shell.execute_reply.started": "2024-05-17T08:53:12.422374Z"
    }
   },
   "outputs": [],
   "source": [
    "with rc_context({'figure.figsize': (6,4)}):\n",
    "    sc.pl.violin(adata, keys=['Foxa2','Neurog3','Lgr5','Top2a'], groupby='initial_cell_type', layer='magic_counts', use_raw=False, rotation=90)"
   ]
  },
  {
   "cell_type": "markdown",
   "metadata": {},
   "source": [
    "# Save"
   ]
  },
  {
   "cell_type": "code",
   "execution_count": null,
   "metadata": {
    "ExecuteTime": {
     "end_time": "2024-01-19T19:31:16.641695Z",
     "start_time": "2024-01-19T19:31:16.396029Z"
    },
    "execution": {
     "iopub.execute_input": "2024-05-17T08:53:14.543391Z",
     "iopub.status.busy": "2024-05-17T08:53:14.543306Z",
     "iopub.status.idle": "2024-05-17T08:53:14.936527Z",
     "shell.execute_reply": "2024-05-17T08:53:14.936041Z",
     "shell.execute_reply.started": "2024-05-17T08:53:14.543380Z"
    }
   },
   "outputs": [],
   "source": [
    "adata.X = adata.layers['log_dca_counts'].copy()"
   ]
  },
  {
   "cell_type": "code",
   "execution_count": null,
   "metadata": {
    "ExecuteTime": {
     "end_time": "2024-01-19T19:31:24.739452Z",
     "start_time": "2024-01-19T19:31:16.642732Z"
    },
    "execution": {
     "iopub.execute_input": "2024-05-17T08:53:14.937159Z",
     "iopub.status.busy": "2024-05-17T08:53:14.937073Z",
     "iopub.status.idle": "2024-05-17T08:53:23.168418Z",
     "shell.execute_reply": "2024-05-17T08:53:23.167895Z",
     "shell.execute_reply.started": "2024-05-17T08:53:14.937148Z"
    }
   },
   "outputs": [],
   "source": [
    "sparsify_all_layers(adata)"
   ]
  },
  {
   "cell_type": "code",
   "execution_count": null,
   "metadata": {
    "ExecuteTime": {
     "end_time": "2024-01-19T19:31:24.768819Z",
     "start_time": "2024-01-19T19:31:24.743187Z"
    },
    "execution": {
     "iopub.execute_input": "2024-05-17T08:53:23.172158Z",
     "iopub.status.busy": "2024-05-17T08:53:23.172077Z",
     "iopub.status.idle": "2024-05-17T08:53:23.195716Z",
     "shell.execute_reply": "2024-05-17T08:53:23.195357Z",
     "shell.execute_reply.started": "2024-05-17T08:53:23.172148Z"
    }
   },
   "outputs": [],
   "source": [
    "adata"
   ]
  },
  {
   "cell_type": "code",
   "execution_count": null,
   "metadata": {
    "ExecuteTime": {
     "end_time": "2024-01-19T19:31:57.527998Z",
     "start_time": "2024-01-19T19:31:24.773740Z"
    },
    "execution": {
     "iopub.execute_input": "2024-05-17T08:53:23.196218Z",
     "iopub.status.busy": "2024-05-17T08:53:23.196140Z",
     "iopub.status.idle": "2024-05-17T08:53:45.857649Z",
     "shell.execute_reply": "2024-05-17T08:53:45.857154Z",
     "shell.execute_reply.started": "2024-05-17T08:53:23.196208Z"
    },
    "scrolled": true
   },
   "outputs": [],
   "source": [
    "# Save\n",
    "adata.write('_'.join(['/'.join([file_path,file_base_name]),'adata_markedDoublets_mergedPeaks_normalized_initialAnno_rmDoublets_integrated_imputed.h5mu']))"
   ]
  },
  {
   "cell_type": "code",
   "execution_count": null,
   "metadata": {},
   "outputs": [],
   "source": []
  }
 ],
 "metadata": {
  "kernelspec": {
   "display_name": "scUV",
   "language": "python",
   "name": "python3"
  },
  "language_info": {
   "codemirror_mode": {
    "name": "ipython",
    "version": 3
   },
   "file_extension": ".py",
   "mimetype": "text/x-python",
   "name": "python",
   "nbconvert_exporter": "python",
   "pygments_lexer": "ipython3",
   "version": "3.10.14"
  },
  "toc": {
   "base_numbering": 1,
   "nav_menu": {},
   "number_sections": true,
   "sideBar": true,
   "skip_h1_title": false,
   "title_cell": "Table of Contents",
   "title_sidebar": "Contents",
   "toc_cell": false,
   "toc_position": {
    "height": "calc(100% - 180px)",
    "left": "10px",
    "top": "150px",
    "width": "288.5px"
   },
   "toc_section_display": true,
   "toc_window_display": true
  },
  "varInspector": {
   "cols": {
    "lenName": 16,
    "lenType": 16,
    "lenVar": 40
   },
   "kernels_config": {
    "python": {
     "delete_cmd_postfix": "",
     "delete_cmd_prefix": "del ",
     "library": "var_list.py",
     "varRefreshCmd": "print(var_dic_list())"
    },
    "r": {
     "delete_cmd_postfix": ") ",
     "delete_cmd_prefix": "rm(",
     "library": "var_list.r",
     "varRefreshCmd": "cat(var_dic_list()) "
    }
   },
   "oldHeight": 680.85,
   "position": {
    "height": "33.5333px",
    "left": "1935px",
    "right": "20px",
    "top": "84px",
    "width": "738.533px"
   },
   "types_to_exclude": [
    "module",
    "function",
    "builtin_function_or_method",
    "instance",
    "_Feature"
   ],
   "varInspector_section_display": "none",
   "window_display": true
  }
 },
 "nbformat": 4,
 "nbformat_minor": 4
}
